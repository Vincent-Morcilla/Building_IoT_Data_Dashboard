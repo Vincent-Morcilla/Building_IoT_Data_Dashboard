{
 "cells": [
  {
   "cell_type": "code",
   "execution_count": 69,
   "id": "8d7bb63c-0d7e-4622-aefb-fd75fd249927",
   "metadata": {},
   "outputs": [],
   "source": [
    "import os\n",
    "import pandas as pd\n",
    "import matplotlib.pyplot as plt\n",
    "import numpy as np\n",
    "import seaborn as sns\n",
    "\n",
    "import pickle\n",
    "from tqdm import tqdm\n",
    "import rdflib\n",
    "from rdflib import Graph\n",
    "from rdflib.namespace import BRICK\n",
    "import warnings\n",
    "from scipy import stats"
   ]
  },
  {
   "cell_type": "code",
   "execution_count": 38,
   "id": "446e46d5",
   "metadata": {},
   "outputs": [],
   "source": [
    "warnings.filterwarnings(\"ignore\", category=DeprecationWarning)"
   ]
  },
  {
   "cell_type": "code",
   "execution_count": 39,
   "id": "2d271058-7513-4d44-be43-c9c6f4bf95c0",
   "metadata": {},
   "outputs": [],
   "source": [
    "filename_ttl='datasets/bts_site_b_train/Site_B.ttl'\n",
    "\n",
    "g = Graph().parse(filename_ttl)"
   ]
  },
  {
   "cell_type": "code",
   "execution_count": 40,
   "id": "bf5c90a8-07dd-4ae0-8698-0b7c21c31e97",
   "metadata": {},
   "outputs": [],
   "source": [
    "# Define the SPARQL query to retrieve Water Meter sensors\n",
    "\n",
    "query_water = \"\"\"\n",
    "SELECT ?meter ?sensor ?stream_id\n",
    "WHERE {\n",
    "    ?sensor rdf:type brick:Usage_Sensor .\n",
    "    ?meter rdf:type brick:Building_Water_Meter .\n",
    "    ?sensor brick:isPointOf ?meter .\n",
    "    ?sensor senaps:stream_id ?stream_id\n",
    "}\n",
    "ORDER BY ?meter\n",
    "\"\"\"\n",
    "\n",
    "# Run the query\n",
    "results_water = g.query(query_water)\n",
    "\n",
    "# Prepare the data for the DataFrame\n",
    "data_water = []\n",
    "for row in results_water:\n",
    "    data_water.append({\n",
    "        'Meter': str(row['meter']),\n",
    "        'Sensor': str(row['sensor']),\n",
    "        'Stream ID': str(row['stream_id'])\n",
    "    })\n",
    "\n",
    "# Create a DataFrame from the results\n",
    "df_water_meters = pd.DataFrame(data_water)  "
   ]
  },
  {
   "cell_type": "code",
   "execution_count": 41,
   "id": "92cba43a-b220-4c70-a33e-081d286277ef",
   "metadata": {},
   "outputs": [],
   "source": [
    "# df_water_meters.to_csv('./water_usage_meter.csv') # to get to know the value in path"
   ]
  },
  {
   "cell_type": "code",
   "execution_count": 42,
   "id": "8837eb77-871e-4906-affe-a171f80ae16f",
   "metadata": {},
   "outputs": [],
   "source": [
    "def load_sensors_from_db(df, db):\n",
    "    \"\"\"\n",
    "    Load the sensor data corresponding to the stream IDs in the DataFrame using the DBManager instance.\n",
    "    \"\"\"\n",
    "    # Ensure that both StreamID columns are strings\n",
    "    df['Stream ID'] = df['Stream ID'].astype(str).str.lower()\n",
    "\n",
    "    # Function to retrieve sensor data from the database for a given stream ID\n",
    "    def get_sensor_data_for_stream(stream_id):\n",
    "        if pd.isna(stream_id):  # Handle missing stream_id\n",
    "            print(f\"Stream ID is missing: {stream_id}\")\n",
    "            return None\n",
    "        \n",
    "        # Fetch the sensor data from the database using the provided stream ID\n",
    "        try:\n",
    "            sensor_df = db.get_stream(stream_id).dropna()\n",
    "            if not sensor_df.empty:\n",
    "                return {\n",
    "                    'streamid': stream_id,\n",
    "                    'sensor_type': sensor_df['label'].iloc[0],  # Assuming label is the sensor type\n",
    "                    'timestamps': pd.to_datetime(sensor_df['time']),\n",
    "                    'values': sensor_df['value']\n",
    "                }\n",
    "            else:\n",
    "                print(f\"No data found for Stream ID: {stream_id}\")\n",
    "                return None\n",
    "        except Exception as e:\n",
    "            print(f\"Error loading data for Stream ID {stream_id}: {e}\")\n",
    "            return None\n",
    "\n",
    "    # Apply the function to load sensor data for each stream ID\n",
    "    df['sensor_data'] = df['Stream ID'].apply(get_sensor_data_for_stream)\n",
    "\n",
    "    return df"
   ]
  },
  {
   "cell_type": "code",
   "execution_count": 43,
   "id": "c1198714-493a-46df-9da8-7eed18983357",
   "metadata": {},
   "outputs": [],
   "source": [
    "from dbmanager import DBManager\n",
    "\n",
    "data_zip_path = 'datasets/bts_site_b_train/train.zip'\n",
    "# print(data_zip_path)\n",
    "mapping_csv_path = 'datasets/bts_site_b_train/mapper_TrainOnly.csv'\n",
    "db = DBManager(data_zip_path, mapping_csv_path)\n"
   ]
  },
  {
   "cell_type": "code",
   "execution_count": 45,
   "id": "8596db32-df26-44f7-bd76-09be6b76f5ea",
   "metadata": {},
   "outputs": [],
   "source": [
    "df_water_meters_data = load_sensors_from_db(df_water_meters, db)"
   ]
  },
  {
   "cell_type": "code",
   "execution_count": 46,
   "id": "4e975e72-63e2-44ad-9f78-423105dba36b",
   "metadata": {},
   "outputs": [
    {
     "data": {
      "text/html": [
       "<div>\n",
       "<style scoped>\n",
       "    .dataframe tbody tr th:only-of-type {\n",
       "        vertical-align: middle;\n",
       "    }\n",
       "\n",
       "    .dataframe tbody tr th {\n",
       "        vertical-align: top;\n",
       "    }\n",
       "\n",
       "    .dataframe thead th {\n",
       "        text-align: right;\n",
       "    }\n",
       "</style>\n",
       "<table border=\"1\" class=\"dataframe\">\n",
       "  <thead>\n",
       "    <tr style=\"text-align: right;\">\n",
       "      <th></th>\n",
       "      <th>Meter</th>\n",
       "      <th>Sensor</th>\n",
       "      <th>Stream ID</th>\n",
       "      <th>sensor_data</th>\n",
       "    </tr>\n",
       "  </thead>\n",
       "  <tbody>\n",
       "    <tr>\n",
       "      <th>0</th>\n",
       "      <td>dch:org/df125f8d_93e4_4a4f_bc87_1c4e332f32b8/s...</td>\n",
       "      <td>dch:org/df125f8d_93e4_4a4f_bc87_1c4e332f32b8/s...</td>\n",
       "      <td>b39cc41e_1c39_4d96_a72f_a4dbda7e81c4</td>\n",
       "      <td>{'streamid': 'b39cc41e_1c39_4d96_a72f_a4dbda7e...</td>\n",
       "    </tr>\n",
       "    <tr>\n",
       "      <th>1</th>\n",
       "      <td>dch:org/df125f8d_93e4_4a4f_bc87_1c4e332f32b8/s...</td>\n",
       "      <td>dch:org/df125f8d_93e4_4a4f_bc87_1c4e332f32b8/s...</td>\n",
       "      <td>5af5135d_0075_4e72_bcf7_3fca4c26fab0</td>\n",
       "      <td>{'streamid': '5af5135d_0075_4e72_bcf7_3fca4c26...</td>\n",
       "    </tr>\n",
       "  </tbody>\n",
       "</table>\n",
       "</div>"
      ],
      "text/plain": [
       "                                               Meter  \\\n",
       "0  dch:org/df125f8d_93e4_4a4f_bc87_1c4e332f32b8/s...   \n",
       "1  dch:org/df125f8d_93e4_4a4f_bc87_1c4e332f32b8/s...   \n",
       "\n",
       "                                              Sensor  \\\n",
       "0  dch:org/df125f8d_93e4_4a4f_bc87_1c4e332f32b8/s...   \n",
       "1  dch:org/df125f8d_93e4_4a4f_bc87_1c4e332f32b8/s...   \n",
       "\n",
       "                              Stream ID  \\\n",
       "0  b39cc41e_1c39_4d96_a72f_a4dbda7e81c4   \n",
       "1  5af5135d_0075_4e72_bcf7_3fca4c26fab0   \n",
       "\n",
       "                                         sensor_data  \n",
       "0  {'streamid': 'b39cc41e_1c39_4d96_a72f_a4dbda7e...  \n",
       "1  {'streamid': '5af5135d_0075_4e72_bcf7_3fca4c26...  "
      ]
     },
     "execution_count": 46,
     "metadata": {},
     "output_type": "execute_result"
    }
   ],
   "source": [
    "df_water_meters_data.head()"
   ]
  },
  {
   "cell_type": "code",
   "execution_count": 47,
   "id": "2629f71d",
   "metadata": {},
   "outputs": [
    {
     "data": {
      "text/plain": [
       "{'streamid': 'b39cc41e_1c39_4d96_a72f_a4dbda7e81c4',\n",
       " 'sensor_type': 'Usage_Sensor',\n",
       " 'timestamps': 0      2021-04-04 19:43:00\n",
       " 1      2021-04-04 20:43:00\n",
       " 2      2021-04-04 21:43:00\n",
       " 3      2021-04-04 22:43:00\n",
       " 4      2021-04-04 23:43:00\n",
       "                ...        \n",
       " 6101   2021-12-24 18:37:00\n",
       " 6102   2021-12-24 19:37:00\n",
       " 6103   2021-12-24 20:37:00\n",
       " 6104   2021-12-24 21:37:00\n",
       " 6105   2021-12-24 22:37:00\n",
       " Name: time, Length: 6106, dtype: datetime64[ns],\n",
       " 'values': 0       0.0\n",
       " 1       0.0\n",
       " 2       0.0\n",
       " 3       0.0\n",
       " 4       0.0\n",
       "        ... \n",
       " 6101    0.0\n",
       " 6102    0.0\n",
       " 6103    0.0\n",
       " 6104    0.0\n",
       " 6105    0.0\n",
       " Name: value, Length: 6106, dtype: float64}"
      ]
     },
     "execution_count": 47,
     "metadata": {},
     "output_type": "execute_result"
    }
   ],
   "source": [
    "df_water_meters_data['sensor_data'][0]"
   ]
  },
  {
   "cell_type": "code",
   "execution_count": 48,
   "id": "300bbe79",
   "metadata": {},
   "outputs": [
    {
     "data": {
      "text/plain": [
       "2"
      ]
     },
     "execution_count": 48,
     "metadata": {},
     "output_type": "execute_result"
    }
   ],
   "source": [
    "df_water_meters_data.shape[0]"
   ]
  },
  {
   "cell_type": "code",
   "execution_count": 49,
   "id": "10b56824",
   "metadata": {},
   "outputs": [],
   "source": [
    "water_sensor_data = []\n",
    "for i in range(df_water_meters_data.shape[0]):\n",
    "    water_sensor_data.append(pd.DataFrame(df_water_meters_data['sensor_data'][i]))"
   ]
  },
  {
   "cell_type": "code",
   "execution_count": 50,
   "id": "090503d1",
   "metadata": {},
   "outputs": [
    {
     "data": {
      "text/html": [
       "<div>\n",
       "<style scoped>\n",
       "    .dataframe tbody tr th:only-of-type {\n",
       "        vertical-align: middle;\n",
       "    }\n",
       "\n",
       "    .dataframe tbody tr th {\n",
       "        vertical-align: top;\n",
       "    }\n",
       "\n",
       "    .dataframe thead th {\n",
       "        text-align: right;\n",
       "    }\n",
       "</style>\n",
       "<table border=\"1\" class=\"dataframe\">\n",
       "  <thead>\n",
       "    <tr style=\"text-align: right;\">\n",
       "      <th></th>\n",
       "      <th>streamid</th>\n",
       "      <th>sensor_type</th>\n",
       "      <th>timestamps</th>\n",
       "      <th>values</th>\n",
       "    </tr>\n",
       "  </thead>\n",
       "  <tbody>\n",
       "    <tr>\n",
       "      <th>0</th>\n",
       "      <td>5af5135d_0075_4e72_bcf7_3fca4c26fab0</td>\n",
       "      <td>Usage_Sensor</td>\n",
       "      <td>2021-04-05 13:43:00</td>\n",
       "      <td>5.875</td>\n",
       "    </tr>\n",
       "    <tr>\n",
       "      <th>1</th>\n",
       "      <td>5af5135d_0075_4e72_bcf7_3fca4c26fab0</td>\n",
       "      <td>Usage_Sensor</td>\n",
       "      <td>2021-04-06 13:43:00</td>\n",
       "      <td>5.875</td>\n",
       "    </tr>\n",
       "    <tr>\n",
       "      <th>2</th>\n",
       "      <td>5af5135d_0075_4e72_bcf7_3fca4c26fab0</td>\n",
       "      <td>Usage_Sensor</td>\n",
       "      <td>2021-04-07 13:43:00</td>\n",
       "      <td>5.875</td>\n",
       "    </tr>\n",
       "    <tr>\n",
       "      <th>3</th>\n",
       "      <td>5af5135d_0075_4e72_bcf7_3fca4c26fab0</td>\n",
       "      <td>Usage_Sensor</td>\n",
       "      <td>2021-04-08 13:43:00</td>\n",
       "      <td>5.875</td>\n",
       "    </tr>\n",
       "    <tr>\n",
       "      <th>4</th>\n",
       "      <td>5af5135d_0075_4e72_bcf7_3fca4c26fab0</td>\n",
       "      <td>Usage_Sensor</td>\n",
       "      <td>2021-04-09 13:43:00</td>\n",
       "      <td>5.875</td>\n",
       "    </tr>\n",
       "    <tr>\n",
       "      <th>...</th>\n",
       "      <td>...</td>\n",
       "      <td>...</td>\n",
       "      <td>...</td>\n",
       "      <td>...</td>\n",
       "    </tr>\n",
       "    <tr>\n",
       "      <th>251</th>\n",
       "      <td>5af5135d_0075_4e72_bcf7_3fca4c26fab0</td>\n",
       "      <td>Usage_Sensor</td>\n",
       "      <td>2021-12-20 12:37:00</td>\n",
       "      <td>72.830</td>\n",
       "    </tr>\n",
       "    <tr>\n",
       "      <th>252</th>\n",
       "      <td>5af5135d_0075_4e72_bcf7_3fca4c26fab0</td>\n",
       "      <td>Usage_Sensor</td>\n",
       "      <td>2021-12-21 12:37:00</td>\n",
       "      <td>79.170</td>\n",
       "    </tr>\n",
       "    <tr>\n",
       "      <th>253</th>\n",
       "      <td>5af5135d_0075_4e72_bcf7_3fca4c26fab0</td>\n",
       "      <td>Usage_Sensor</td>\n",
       "      <td>2021-12-22 12:37:00</td>\n",
       "      <td>79.255</td>\n",
       "    </tr>\n",
       "    <tr>\n",
       "      <th>254</th>\n",
       "      <td>5af5135d_0075_4e72_bcf7_3fca4c26fab0</td>\n",
       "      <td>Usage_Sensor</td>\n",
       "      <td>2021-12-23 12:37:00</td>\n",
       "      <td>79.300</td>\n",
       "    </tr>\n",
       "    <tr>\n",
       "      <th>255</th>\n",
       "      <td>5af5135d_0075_4e72_bcf7_3fca4c26fab0</td>\n",
       "      <td>Usage_Sensor</td>\n",
       "      <td>2021-12-24 12:37:00</td>\n",
       "      <td>79.385</td>\n",
       "    </tr>\n",
       "  </tbody>\n",
       "</table>\n",
       "<p>256 rows × 4 columns</p>\n",
       "</div>"
      ],
      "text/plain": [
       "                                 streamid   sensor_type          timestamps  \\\n",
       "0    5af5135d_0075_4e72_bcf7_3fca4c26fab0  Usage_Sensor 2021-04-05 13:43:00   \n",
       "1    5af5135d_0075_4e72_bcf7_3fca4c26fab0  Usage_Sensor 2021-04-06 13:43:00   \n",
       "2    5af5135d_0075_4e72_bcf7_3fca4c26fab0  Usage_Sensor 2021-04-07 13:43:00   \n",
       "3    5af5135d_0075_4e72_bcf7_3fca4c26fab0  Usage_Sensor 2021-04-08 13:43:00   \n",
       "4    5af5135d_0075_4e72_bcf7_3fca4c26fab0  Usage_Sensor 2021-04-09 13:43:00   \n",
       "..                                    ...           ...                 ...   \n",
       "251  5af5135d_0075_4e72_bcf7_3fca4c26fab0  Usage_Sensor 2021-12-20 12:37:00   \n",
       "252  5af5135d_0075_4e72_bcf7_3fca4c26fab0  Usage_Sensor 2021-12-21 12:37:00   \n",
       "253  5af5135d_0075_4e72_bcf7_3fca4c26fab0  Usage_Sensor 2021-12-22 12:37:00   \n",
       "254  5af5135d_0075_4e72_bcf7_3fca4c26fab0  Usage_Sensor 2021-12-23 12:37:00   \n",
       "255  5af5135d_0075_4e72_bcf7_3fca4c26fab0  Usage_Sensor 2021-12-24 12:37:00   \n",
       "\n",
       "     values  \n",
       "0     5.875  \n",
       "1     5.875  \n",
       "2     5.875  \n",
       "3     5.875  \n",
       "4     5.875  \n",
       "..      ...  \n",
       "251  72.830  \n",
       "252  79.170  \n",
       "253  79.255  \n",
       "254  79.300  \n",
       "255  79.385  \n",
       "\n",
       "[256 rows x 4 columns]"
      ]
     },
     "execution_count": 50,
     "metadata": {},
     "output_type": "execute_result"
    }
   ],
   "source": [
    "water_sensor_data[1]"
   ]
  },
  {
   "cell_type": "code",
   "execution_count": 51,
   "id": "0b947ff0",
   "metadata": {},
   "outputs": [
    {
     "data": {
      "text/plain": [
       "(0.0, 1.0)"
      ]
     },
     "execution_count": 51,
     "metadata": {},
     "output_type": "execute_result"
    },
    {
     "data": {
      "image/png": "[encoded data removed]",
      "text/plain": [
       "<Figure size 640x480 with 1 Axes>"
      ]
     },
     "metadata": {},
     "output_type": "display_data"
    }
   ],
   "source": [
    "time_data = df_water_meters_data['sensor_data'][0]['timestamps']\n",
    "sensor_value_data = df_water_meters_data['sensor_data'][0]['values']\n",
    "plt.plot(time_data, sensor_value_data)\n",
    "plt.ylim(0, 1)"
   ]
  },
  {
   "cell_type": "markdown",
   "id": "dc7bde91",
   "metadata": {},
   "source": [
    "### Outside air temp sensor (weather station)"
   ]
  },
  {
   "cell_type": "code",
   "execution_count": 52,
   "id": "78751fd3",
   "metadata": {},
   "outputs": [
    {
     "data": {
      "text/html": [
       "<div>\n",
       "<style scoped>\n",
       "    .dataframe tbody tr th:only-of-type {\n",
       "        vertical-align: middle;\n",
       "    }\n",
       "\n",
       "    .dataframe tbody tr th {\n",
       "        vertical-align: top;\n",
       "    }\n",
       "\n",
       "    .dataframe thead th {\n",
       "        text-align: right;\n",
       "    }\n",
       "</style>\n",
       "<table border=\"1\" class=\"dataframe\">\n",
       "  <thead>\n",
       "    <tr style=\"text-align: right;\">\n",
       "      <th></th>\n",
       "      <th>Sensor</th>\n",
       "      <th>Stream ID</th>\n",
       "    </tr>\n",
       "  </thead>\n",
       "  <tbody>\n",
       "    <tr>\n",
       "      <th>0</th>\n",
       "      <td>dch:org/df125f8d_93e4_4a4f_bc87_1c4e332f32b8/s...</td>\n",
       "      <td>664ddc27_ccc5_43a1_97b7_3000c0e948db</td>\n",
       "    </tr>\n",
       "  </tbody>\n",
       "</table>\n",
       "</div>"
      ],
      "text/plain": [
       "                                              Sensor  \\\n",
       "0  dch:org/df125f8d_93e4_4a4f_bc87_1c4e332f32b8/s...   \n",
       "\n",
       "                              Stream ID  \n",
       "0  664ddc27_ccc5_43a1_97b7_3000c0e948db  "
      ]
     },
     "metadata": {},
     "output_type": "display_data"
    }
   ],
   "source": [
    "filename_ttl='datasets/bts_site_b_train/Site_B.ttl'\n",
    "g = Graph().parse(filename_ttl)\n",
    "# Define the SPARQL query to retrieve Outside_Air_Temperature_Sensor\n",
    "query_outside_airtemp = \"\"\"\n",
    "SELECT ?sensor ?stream_id \n",
    "WHERE {\n",
    "    ?sensor rdf:type brick:Outside_Air_Temperature_Sensor .\n",
    "    ?sensor brick:isPointOf   ?loc .\n",
    "    ?loc a brick:Weather_Station .\n",
    "    ?sensor senaps:stream_id ?stream_id .\n",
    "}\n",
    "ORDER BY ?stream_id\n",
    "\"\"\"\n",
    "# Run the query\n",
    "results_outside_airtemp = g.query(query_outside_airtemp)\n",
    "# Prepare the data for the DataFrame\n",
    "data_outside_airtemp = []\n",
    "for row in results_outside_airtemp:\n",
    "    data_outside_airtemp.append({\n",
    "        'Sensor': str(row['sensor']),\n",
    "        'Stream ID': str(row['stream_id']),\n",
    "    })\n",
    "# Create a DataFrame from the results\n",
    "df_outside_airtemp = pd.DataFrame(data_outside_airtemp)\n",
    "# Display the DataFrame\n",
    "display(df_outside_airtemp.head())"
   ]
  },
  {
   "cell_type": "code",
   "execution_count": 53,
   "id": "0373f168",
   "metadata": {},
   "outputs": [
    {
     "data": {
      "text/html": [
       "<div>\n",
       "<style scoped>\n",
       "    .dataframe tbody tr th:only-of-type {\n",
       "        vertical-align: middle;\n",
       "    }\n",
       "\n",
       "    .dataframe tbody tr th {\n",
       "        vertical-align: top;\n",
       "    }\n",
       "\n",
       "    .dataframe thead th {\n",
       "        text-align: right;\n",
       "    }\n",
       "</style>\n",
       "<table border=\"1\" class=\"dataframe\">\n",
       "  <thead>\n",
       "    <tr style=\"text-align: right;\">\n",
       "      <th></th>\n",
       "      <th>Sensor</th>\n",
       "      <th>Stream ID</th>\n",
       "      <th>sensor_data</th>\n",
       "    </tr>\n",
       "  </thead>\n",
       "  <tbody>\n",
       "    <tr>\n",
       "      <th>0</th>\n",
       "      <td>dch:org/df125f8d_93e4_4a4f_bc87_1c4e332f32b8/s...</td>\n",
       "      <td>664ddc27_ccc5_43a1_97b7_3000c0e948db</td>\n",
       "      <td>{'streamid': '664ddc27_ccc5_43a1_97b7_3000c0e9...</td>\n",
       "    </tr>\n",
       "  </tbody>\n",
       "</table>\n",
       "</div>"
      ],
      "text/plain": [
       "                                              Sensor  \\\n",
       "0  dch:org/df125f8d_93e4_4a4f_bc87_1c4e332f32b8/s...   \n",
       "\n",
       "                              Stream ID  \\\n",
       "0  664ddc27_ccc5_43a1_97b7_3000c0e948db   \n",
       "\n",
       "                                         sensor_data  \n",
       "0  {'streamid': '664ddc27_ccc5_43a1_97b7_3000c0e9...  "
      ]
     },
     "execution_count": 53,
     "metadata": {},
     "output_type": "execute_result"
    }
   ],
   "source": [
    "df_outside_air_temp_data = load_sensors_from_db(df_outside_airtemp, db)\n",
    "df_outside_air_temp_data"
   ]
  },
  {
   "cell_type": "code",
   "execution_count": 54,
   "id": "8c124117",
   "metadata": {},
   "outputs": [],
   "source": [
    "df_outside_temperature = pd.DataFrame(df_outside_air_temp_data['sensor_data'][0])"
   ]
  },
  {
   "cell_type": "code",
   "execution_count": 55,
   "id": "02e33505",
   "metadata": {},
   "outputs": [
    {
     "data": {
      "text/html": [
       "<div>\n",
       "<style scoped>\n",
       "    .dataframe tbody tr th:only-of-type {\n",
       "        vertical-align: middle;\n",
       "    }\n",
       "\n",
       "    .dataframe tbody tr th {\n",
       "        vertical-align: top;\n",
       "    }\n",
       "\n",
       "    .dataframe thead th {\n",
       "        text-align: right;\n",
       "    }\n",
       "</style>\n",
       "<table border=\"1\" class=\"dataframe\">\n",
       "  <thead>\n",
       "    <tr style=\"text-align: right;\">\n",
       "      <th></th>\n",
       "      <th>streamid</th>\n",
       "      <th>sensor_type</th>\n",
       "      <th>timestamps</th>\n",
       "      <th>values</th>\n",
       "    </tr>\n",
       "  </thead>\n",
       "  <tbody>\n",
       "    <tr>\n",
       "      <th>0</th>\n",
       "      <td>664ddc27_ccc5_43a1_97b7_3000c0e948db</td>\n",
       "      <td>Outside_Air_Temperature_Sensor</td>\n",
       "      <td>2021-01-01 00:03:11.512</td>\n",
       "      <td>26.250</td>\n",
       "    </tr>\n",
       "    <tr>\n",
       "      <th>1</th>\n",
       "      <td>664ddc27_ccc5_43a1_97b7_3000c0e948db</td>\n",
       "      <td>Outside_Air_Temperature_Sensor</td>\n",
       "      <td>2021-01-01 00:13:40.218</td>\n",
       "      <td>26.765</td>\n",
       "    </tr>\n",
       "    <tr>\n",
       "      <th>2</th>\n",
       "      <td>664ddc27_ccc5_43a1_97b7_3000c0e948db</td>\n",
       "      <td>Outside_Air_Temperature_Sensor</td>\n",
       "      <td>2021-01-01 00:23:11.538</td>\n",
       "      <td>27.585</td>\n",
       "    </tr>\n",
       "    <tr>\n",
       "      <th>3</th>\n",
       "      <td>664ddc27_ccc5_43a1_97b7_3000c0e948db</td>\n",
       "      <td>Outside_Air_Temperature_Sensor</td>\n",
       "      <td>2021-01-01 00:33:11.510</td>\n",
       "      <td>28.300</td>\n",
       "    </tr>\n",
       "    <tr>\n",
       "      <th>4</th>\n",
       "      <td>664ddc27_ccc5_43a1_97b7_3000c0e948db</td>\n",
       "      <td>Outside_Air_Temperature_Sensor</td>\n",
       "      <td>2021-01-01 00:43:11.600</td>\n",
       "      <td>28.820</td>\n",
       "    </tr>\n",
       "  </tbody>\n",
       "</table>\n",
       "</div>"
      ],
      "text/plain": [
       "                               streamid                     sensor_type  \\\n",
       "0  664ddc27_ccc5_43a1_97b7_3000c0e948db  Outside_Air_Temperature_Sensor   \n",
       "1  664ddc27_ccc5_43a1_97b7_3000c0e948db  Outside_Air_Temperature_Sensor   \n",
       "2  664ddc27_ccc5_43a1_97b7_3000c0e948db  Outside_Air_Temperature_Sensor   \n",
       "3  664ddc27_ccc5_43a1_97b7_3000c0e948db  Outside_Air_Temperature_Sensor   \n",
       "4  664ddc27_ccc5_43a1_97b7_3000c0e948db  Outside_Air_Temperature_Sensor   \n",
       "\n",
       "               timestamps  values  \n",
       "0 2021-01-01 00:03:11.512  26.250  \n",
       "1 2021-01-01 00:13:40.218  26.765  \n",
       "2 2021-01-01 00:23:11.538  27.585  \n",
       "3 2021-01-01 00:33:11.510  28.300  \n",
       "4 2021-01-01 00:43:11.600  28.820  "
      ]
     },
     "execution_count": 55,
     "metadata": {},
     "output_type": "execute_result"
    }
   ],
   "source": [
    "df_outside_temperature.head()"
   ]
  },
  {
   "cell_type": "markdown",
   "id": "dab77b00",
   "metadata": {},
   "source": [
    "#### Compute correlation"
   ]
  },
  {
   "cell_type": "markdown",
   "id": "5cc5420e",
   "metadata": {},
   "source": [
    "### Outside temperature"
   ]
  },
  {
   "cell_type": "code",
   "execution_count": 56,
   "id": "1c2ae839",
   "metadata": {},
   "outputs": [
    {
     "data": {
      "text/html": [
       "<div>\n",
       "<style scoped>\n",
       "    .dataframe tbody tr th:only-of-type {\n",
       "        vertical-align: middle;\n",
       "    }\n",
       "\n",
       "    .dataframe tbody tr th {\n",
       "        vertical-align: top;\n",
       "    }\n",
       "\n",
       "    .dataframe thead th {\n",
       "        text-align: right;\n",
       "    }\n",
       "</style>\n",
       "<table border=\"1\" class=\"dataframe\">\n",
       "  <thead>\n",
       "    <tr style=\"text-align: right;\">\n",
       "      <th></th>\n",
       "      <th>date</th>\n",
       "      <th>outside_temp</th>\n",
       "    </tr>\n",
       "  </thead>\n",
       "  <tbody>\n",
       "    <tr>\n",
       "      <th>0</th>\n",
       "      <td>2021-01-01</td>\n",
       "      <td>24.940</td>\n",
       "    </tr>\n",
       "    <tr>\n",
       "      <th>1</th>\n",
       "      <td>2021-01-02</td>\n",
       "      <td>18.630</td>\n",
       "    </tr>\n",
       "    <tr>\n",
       "      <th>2</th>\n",
       "      <td>2021-01-03</td>\n",
       "      <td>17.620</td>\n",
       "    </tr>\n",
       "    <tr>\n",
       "      <th>3</th>\n",
       "      <td>2021-01-04</td>\n",
       "      <td>16.035</td>\n",
       "    </tr>\n",
       "    <tr>\n",
       "      <th>4</th>\n",
       "      <td>2021-01-05</td>\n",
       "      <td>16.505</td>\n",
       "    </tr>\n",
       "  </tbody>\n",
       "</table>\n",
       "</div>"
      ],
      "text/plain": [
       "         date  outside_temp\n",
       "0  2021-01-01        24.940\n",
       "1  2021-01-02        18.630\n",
       "2  2021-01-03        17.620\n",
       "3  2021-01-04        16.035\n",
       "4  2021-01-05        16.505"
      ]
     },
     "execution_count": 56,
     "metadata": {},
     "output_type": "execute_result"
    }
   ],
   "source": [
    "df_outside_temperature['timestamps'] = pd.to_datetime(df_outside_temperature['timestamps'])\n",
    "daily_median_outside_temperature = df_outside_temperature.groupby(df_outside_temperature['timestamps'].dt.date)['values'].median().reset_index()\n",
    "daily_median_outside_temperature.columns = ['date', 'outside_temp']\n",
    "daily_median_outside_temperature.head()"
   ]
  },
  {
   "cell_type": "code",
   "execution_count": 70,
   "id": "3c3b333b",
   "metadata": {},
   "outputs": [],
   "source": [
    "import pandas as pd\n",
    "import numpy as np\n",
    "import matplotlib.pyplot as plt\n",
    "from scipy.stats import spearmanr\n",
    "\n",
    "# Function to compute rolling Spearman's Rank Correlation\n",
    "def rolling_spearman(x, y, window):\n",
    "    corr_values = []\n",
    "    for i in range(len(x) - window + 1):\n",
    "        # Compute Spearman's Rank Correlation for each rolling window\n",
    "        corr, _ = spearmanr(x[i:i + window], y[i:i + window])\n",
    "        # print(corr)\n",
    "        corr_values.append(corr)\n",
    "    # Pad with NaNs at the start to match the length of original data\n",
    "    return np.concatenate((np.full(window - 1, np.nan), corr_values))"
   ]
  },
  {
   "cell_type": "markdown",
   "id": "a62c565f",
   "metadata": {},
   "source": [
    "### Water sensor data "
   ]
  },
  {
   "cell_type": "code",
   "execution_count": 71,
   "id": "a2e9d463",
   "metadata": {},
   "outputs": [
    {
     "data": {
      "text/html": [
       "<div>\n",
       "<style scoped>\n",
       "    .dataframe tbody tr th:only-of-type {\n",
       "        vertical-align: middle;\n",
       "    }\n",
       "\n",
       "    .dataframe tbody tr th {\n",
       "        vertical-align: top;\n",
       "    }\n",
       "\n",
       "    .dataframe thead th {\n",
       "        text-align: right;\n",
       "    }\n",
       "</style>\n",
       "<table border=\"1\" class=\"dataframe\">\n",
       "  <thead>\n",
       "    <tr style=\"text-align: right;\">\n",
       "      <th></th>\n",
       "      <th>date</th>\n",
       "      <th>water_sensor_val</th>\n",
       "    </tr>\n",
       "  </thead>\n",
       "  <tbody>\n",
       "    <tr>\n",
       "      <th>0</th>\n",
       "      <td>2021-04-05</td>\n",
       "      <td>5.875</td>\n",
       "    </tr>\n",
       "    <tr>\n",
       "      <th>1</th>\n",
       "      <td>2021-04-06</td>\n",
       "      <td>5.875</td>\n",
       "    </tr>\n",
       "    <tr>\n",
       "      <th>2</th>\n",
       "      <td>2021-04-07</td>\n",
       "      <td>5.875</td>\n",
       "    </tr>\n",
       "    <tr>\n",
       "      <th>3</th>\n",
       "      <td>2021-04-08</td>\n",
       "      <td>5.875</td>\n",
       "    </tr>\n",
       "    <tr>\n",
       "      <th>4</th>\n",
       "      <td>2021-04-09</td>\n",
       "      <td>5.875</td>\n",
       "    </tr>\n",
       "  </tbody>\n",
       "</table>\n",
       "</div>"
      ],
      "text/plain": [
       "         date  water_sensor_val\n",
       "0  2021-04-05             5.875\n",
       "1  2021-04-06             5.875\n",
       "2  2021-04-07             5.875\n",
       "3  2021-04-08             5.875\n",
       "4  2021-04-09             5.875"
      ]
     },
     "execution_count": 71,
     "metadata": {},
     "output_type": "execute_result"
    }
   ],
   "source": [
    "df_water_sensor_data_1 = water_sensor_data[1]\n",
    "df_water_sensor_data_1['timestamps'] = pd.to_datetime(df_water_sensor_data_1['timestamps'])\n",
    "daily_median_water_sensor_data_1 = df_water_sensor_data_1.groupby(df_water_sensor_data_1['timestamps'].dt.date)['values'].median().reset_index()\n",
    "daily_median_water_sensor_data_1.columns = ['date', 'water_sensor_val']\n",
    "daily_median_water_sensor_data_1.head()"
   ]
  },
  {
   "cell_type": "code",
   "execution_count": 72,
   "id": "376c0724",
   "metadata": {},
   "outputs": [],
   "source": [
    "daily_median_water_sensor_data = []\n",
    "for i in range(len(water_sensor_data)):\n",
    "    df_water_sensor_data_1 = water_sensor_data[i]\n",
    "    df_water_sensor_data_1['timestamps'] = pd.to_datetime(df_water_sensor_data_1['timestamps'])\n",
    "    daily_median_water_sensor_data_1 = df_water_sensor_data_1.groupby(df_water_sensor_data_1['timestamps'].dt.date)['values'].median().reset_index()\n",
    "    daily_median_water_sensor_data_1.columns = ['date', 'water_sensor_val']\n",
    "    daily_median_water_sensor_data.append(daily_median_water_sensor_data_1)\n",
    "    "
   ]
  },
  {
   "cell_type": "code",
   "execution_count": 73,
   "id": "a621c16d",
   "metadata": {},
   "outputs": [],
   "source": [
    "df_water_temperature = daily_median_water_sensor_data[0].copy()\n",
    "df_water_temperature.columns = ['date', 'sensor1']\n",
    "# Loop through the remaining dataframes and merge them\n",
    "for i, df in enumerate(daily_median_water_sensor_data[1:], start=2):\n",
    "    df.columns = ['date', f'sensor{i}']\n",
    "    df_water_temperature = pd.merge(df_water_temperature, df, on='date', how='outer')"
   ]
  },
  {
   "cell_type": "code",
   "execution_count": 74,
   "id": "37c5a1e1",
   "metadata": {},
   "outputs": [
    {
     "data": {
      "text/html": [
       "<div>\n",
       "<style scoped>\n",
       "    .dataframe tbody tr th:only-of-type {\n",
       "        vertical-align: middle;\n",
       "    }\n",
       "\n",
       "    .dataframe tbody tr th {\n",
       "        vertical-align: top;\n",
       "    }\n",
       "\n",
       "    .dataframe thead th {\n",
       "        text-align: right;\n",
       "    }\n",
       "</style>\n",
       "<table border=\"1\" class=\"dataframe\">\n",
       "  <thead>\n",
       "    <tr style=\"text-align: right;\">\n",
       "      <th></th>\n",
       "      <th>date</th>\n",
       "      <th>sensor1</th>\n",
       "      <th>sensor2</th>\n",
       "    </tr>\n",
       "  </thead>\n",
       "  <tbody>\n",
       "    <tr>\n",
       "      <th>0</th>\n",
       "      <td>2021-04-04</td>\n",
       "      <td>0.0000</td>\n",
       "      <td>NaN</td>\n",
       "    </tr>\n",
       "    <tr>\n",
       "      <th>1</th>\n",
       "      <td>2021-04-05</td>\n",
       "      <td>0.0000</td>\n",
       "      <td>5.875</td>\n",
       "    </tr>\n",
       "    <tr>\n",
       "      <th>2</th>\n",
       "      <td>2021-04-06</td>\n",
       "      <td>0.0000</td>\n",
       "      <td>5.875</td>\n",
       "    </tr>\n",
       "    <tr>\n",
       "      <th>3</th>\n",
       "      <td>2021-04-07</td>\n",
       "      <td>0.0000</td>\n",
       "      <td>5.875</td>\n",
       "    </tr>\n",
       "    <tr>\n",
       "      <th>4</th>\n",
       "      <td>2021-04-08</td>\n",
       "      <td>0.0000</td>\n",
       "      <td>5.875</td>\n",
       "    </tr>\n",
       "    <tr>\n",
       "      <th>...</th>\n",
       "      <td>...</td>\n",
       "      <td>...</td>\n",
       "      <td>...</td>\n",
       "    </tr>\n",
       "    <tr>\n",
       "      <th>252</th>\n",
       "      <td>2021-12-20</td>\n",
       "      <td>0.4525</td>\n",
       "      <td>72.830</td>\n",
       "    </tr>\n",
       "    <tr>\n",
       "      <th>253</th>\n",
       "      <td>2021-12-21</td>\n",
       "      <td>0.0025</td>\n",
       "      <td>79.170</td>\n",
       "    </tr>\n",
       "    <tr>\n",
       "      <th>254</th>\n",
       "      <td>2021-12-22</td>\n",
       "      <td>0.0000</td>\n",
       "      <td>79.255</td>\n",
       "    </tr>\n",
       "    <tr>\n",
       "      <th>255</th>\n",
       "      <td>2021-12-23</td>\n",
       "      <td>0.0000</td>\n",
       "      <td>79.300</td>\n",
       "    </tr>\n",
       "    <tr>\n",
       "      <th>256</th>\n",
       "      <td>2021-12-24</td>\n",
       "      <td>0.0000</td>\n",
       "      <td>79.385</td>\n",
       "    </tr>\n",
       "  </tbody>\n",
       "</table>\n",
       "<p>257 rows × 3 columns</p>\n",
       "</div>"
      ],
      "text/plain": [
       "           date  sensor1  sensor2\n",
       "0    2021-04-04   0.0000      NaN\n",
       "1    2021-04-05   0.0000    5.875\n",
       "2    2021-04-06   0.0000    5.875\n",
       "3    2021-04-07   0.0000    5.875\n",
       "4    2021-04-08   0.0000    5.875\n",
       "..          ...      ...      ...\n",
       "252  2021-12-20   0.4525   72.830\n",
       "253  2021-12-21   0.0025   79.170\n",
       "254  2021-12-22   0.0000   79.255\n",
       "255  2021-12-23   0.0000   79.300\n",
       "256  2021-12-24   0.0000   79.385\n",
       "\n",
       "[257 rows x 3 columns]"
      ]
     },
     "execution_count": 74,
     "metadata": {},
     "output_type": "execute_result"
    }
   ],
   "source": [
    "df_water_temperature"
   ]
  },
  {
   "cell_type": "code",
   "execution_count": 75,
   "id": "29a77215",
   "metadata": {},
   "outputs": [],
   "source": [
    "df_water_outside_temperature = df_water_temperature.merge(daily_median_outside_temperature, on='date', how='inner')\n",
    "df_water_outside_temperature['date'] = pd.to_datetime(df_water_outside_temperature['date'])"
   ]
  },
  {
   "cell_type": "code",
   "execution_count": 76,
   "id": "3f6f2da8",
   "metadata": {},
   "outputs": [
    {
     "data": {
      "text/plain": [
       "date            datetime64[ns]\n",
       "sensor1                float64\n",
       "sensor2                float64\n",
       "outside_temp           float64\n",
       "dtype: object"
      ]
     },
     "execution_count": 76,
     "metadata": {},
     "output_type": "execute_result"
    }
   ],
   "source": [
    "df_water_outside_temperature.dtypes"
   ]
  },
  {
   "cell_type": "code",
   "execution_count": 77,
   "id": "9cdb74a7",
   "metadata": {},
   "outputs": [],
   "source": [
    "# df_water_outside_temperature = df_water_outside_temperature.dropna()"
   ]
  },
  {
   "cell_type": "code",
   "execution_count": 78,
   "id": "e89c7ac5",
   "metadata": {},
   "outputs": [
    {
     "data": {
      "text/html": [
       "<div>\n",
       "<style scoped>\n",
       "    .dataframe tbody tr th:only-of-type {\n",
       "        vertical-align: middle;\n",
       "    }\n",
       "\n",
       "    .dataframe tbody tr th {\n",
       "        vertical-align: top;\n",
       "    }\n",
       "\n",
       "    .dataframe thead th {\n",
       "        text-align: right;\n",
       "    }\n",
       "</style>\n",
       "<table border=\"1\" class=\"dataframe\">\n",
       "  <thead>\n",
       "    <tr style=\"text-align: right;\">\n",
       "      <th></th>\n",
       "      <th>date</th>\n",
       "      <th>sensor1</th>\n",
       "      <th>sensor2</th>\n",
       "      <th>outside_temp</th>\n",
       "    </tr>\n",
       "  </thead>\n",
       "  <tbody>\n",
       "    <tr>\n",
       "      <th>0</th>\n",
       "      <td>2021-04-04</td>\n",
       "      <td>0.0</td>\n",
       "      <td>NaN</td>\n",
       "      <td>16.9150</td>\n",
       "    </tr>\n",
       "    <tr>\n",
       "      <th>1</th>\n",
       "      <td>2021-04-05</td>\n",
       "      <td>0.0</td>\n",
       "      <td>5.875</td>\n",
       "      <td>14.6100</td>\n",
       "    </tr>\n",
       "    <tr>\n",
       "      <th>2</th>\n",
       "      <td>2021-04-06</td>\n",
       "      <td>0.0</td>\n",
       "      <td>5.875</td>\n",
       "      <td>16.8800</td>\n",
       "    </tr>\n",
       "    <tr>\n",
       "      <th>3</th>\n",
       "      <td>2021-04-07</td>\n",
       "      <td>0.0</td>\n",
       "      <td>5.875</td>\n",
       "      <td>18.2450</td>\n",
       "    </tr>\n",
       "    <tr>\n",
       "      <th>4</th>\n",
       "      <td>2021-04-08</td>\n",
       "      <td>0.0</td>\n",
       "      <td>5.875</td>\n",
       "      <td>20.3925</td>\n",
       "    </tr>\n",
       "  </tbody>\n",
       "</table>\n",
       "</div>"
      ],
      "text/plain": [
       "        date  sensor1  sensor2  outside_temp\n",
       "0 2021-04-04      0.0      NaN       16.9150\n",
       "1 2021-04-05      0.0    5.875       14.6100\n",
       "2 2021-04-06      0.0    5.875       16.8800\n",
       "3 2021-04-07      0.0    5.875       18.2450\n",
       "4 2021-04-08      0.0    5.875       20.3925"
      ]
     },
     "execution_count": 78,
     "metadata": {},
     "output_type": "execute_result"
    }
   ],
   "source": [
    "df_water_outside_temperature.head()\n"
   ]
  },
  {
   "cell_type": "code",
   "execution_count": 79,
   "id": "7dd447be",
   "metadata": {},
   "outputs": [],
   "source": [
    "# df = None"
   ]
  },
  {
   "cell_type": "code",
   "execution_count": 80,
   "id": "6fdf2f2b",
   "metadata": {},
   "outputs": [
    {
     "name": "stderr",
     "output_type": "stream",
     "text": [
      "/tmp/ipykernel_35801/3377352297.py:6: ConstantInputWarning: An input array is constant; the correlation coefficient is not defined.\n",
      "  lambda x: stats.spearmanr(x[\"outside_temp\"], x[sensor_column])[0]\n"
     ]
    },
    {
     "data": {
      "image/png": "[encoded data removed]",
      "text/plain": [
       "<Figure size 1200x600 with 1 Axes>"
      ]
     },
     "metadata": {},
     "output_type": "display_data"
    }
   ],
   "source": [
    "# Create the year_month column\n",
    "df_water_outside_temperature['year_month'] = df_water_outside_temperature['date'].dt.to_period('M')\n",
    "\n",
    "def calculate_monthly_correlation(dataframe, sensor_column):\n",
    "    return dataframe.groupby('year_month').apply(\n",
    "        lambda x: stats.spearmanr(x[\"outside_temp\"], x[sensor_column])[0]\n",
    "    )\n",
    "\n",
    "sensor_columns = ['sensor1', 'sensor2']\n",
    "\n",
    "# Dictionary to store results\n",
    "monthly_correlations = {}\n",
    "\n",
    "for sensor in sensor_columns:\n",
    "    # Skip sensors with all NaN values\n",
    "    if df_water_outside_temperature[sensor].isna().all():\n",
    "        # print(f\"Skipping {sensor} as it contains all NaN values.\")\n",
    "        continue\n",
    "    \n",
    "    monthly_correlations[sensor] = calculate_monthly_correlation(df_water_outside_temperature, sensor)\n",
    "\n",
    "# Convert results to a dataframe\n",
    "result_df = pd.DataFrame(monthly_correlations)\n",
    "\n",
    "# Reset the index to make year_month a column\n",
    "result_df = result_df.reset_index()\n",
    "result_df['date'] = result_df['year_month'].dt.to_timestamp()\n",
    "\n",
    "plt.figure(figsize=(12, 6))\n",
    "for sensor in sensor_columns:\n",
    "    if sensor in result_df.columns:\n",
    "        plt.plot(result_df['date'], result_df[sensor], label=sensor)\n",
    "\n",
    "plt.title('Monthly Water Sensor-Temperature Correlations')\n",
    "plt.xlabel('Date')\n",
    "plt.ylabel('Spearman Correlation')\n",
    "plt.legend()\n",
    "plt.grid(True)\n",
    "plt.tight_layout()\n",
    "plt.show()"
   ]
  },
  {
   "cell_type": "code",
   "execution_count": 81,
   "id": "8eed0682",
   "metadata": {},
   "outputs": [],
   "source": [
    "result_df = result_df.fillna(0)  ## Missing is set to 0"
   ]
  },
  {
   "cell_type": "code",
   "execution_count": null,
   "id": "b191090b",
   "metadata": {},
   "outputs": [],
   "source": []
  },
  {
   "cell_type": "code",
   "execution_count": 82,
   "id": "0af8c937",
   "metadata": {},
   "outputs": [
    {
     "data": {
      "text/html": [
       "<div>\n",
       "<style scoped>\n",
       "    .dataframe tbody tr th:only-of-type {\n",
       "        vertical-align: middle;\n",
       "    }\n",
       "\n",
       "    .dataframe tbody tr th {\n",
       "        vertical-align: top;\n",
       "    }\n",
       "\n",
       "    .dataframe thead th {\n",
       "        text-align: right;\n",
       "    }\n",
       "</style>\n",
       "<table border=\"1\" class=\"dataframe\">\n",
       "  <thead>\n",
       "    <tr style=\"text-align: right;\">\n",
       "      <th></th>\n",
       "      <th>year_month</th>\n",
       "      <th>sensor1</th>\n",
       "      <th>sensor2</th>\n",
       "      <th>date</th>\n",
       "    </tr>\n",
       "  </thead>\n",
       "  <tbody>\n",
       "    <tr>\n",
       "      <th>0</th>\n",
       "      <td>2021-04</td>\n",
       "      <td>0.000000</td>\n",
       "      <td>0.000000</td>\n",
       "      <td>2021-04-01</td>\n",
       "    </tr>\n",
       "    <tr>\n",
       "      <th>1</th>\n",
       "      <td>2021-05</td>\n",
       "      <td>0.000000</td>\n",
       "      <td>0.000000</td>\n",
       "      <td>2021-05-01</td>\n",
       "    </tr>\n",
       "    <tr>\n",
       "      <th>2</th>\n",
       "      <td>2021-06</td>\n",
       "      <td>0.025871</td>\n",
       "      <td>-0.241702</td>\n",
       "      <td>2021-06-01</td>\n",
       "    </tr>\n",
       "    <tr>\n",
       "      <th>3</th>\n",
       "      <td>2021-07</td>\n",
       "      <td>0.085145</td>\n",
       "      <td>0.244700</td>\n",
       "      <td>2021-07-01</td>\n",
       "    </tr>\n",
       "    <tr>\n",
       "      <th>4</th>\n",
       "      <td>2021-08</td>\n",
       "      <td>-0.070330</td>\n",
       "      <td>0.111571</td>\n",
       "      <td>2021-08-01</td>\n",
       "    </tr>\n",
       "    <tr>\n",
       "      <th>5</th>\n",
       "      <td>2021-09</td>\n",
       "      <td>0.000000</td>\n",
       "      <td>-0.103345</td>\n",
       "      <td>2021-09-01</td>\n",
       "    </tr>\n",
       "    <tr>\n",
       "      <th>6</th>\n",
       "      <td>2021-10</td>\n",
       "      <td>-0.183786</td>\n",
       "      <td>-0.135813</td>\n",
       "      <td>2021-10-01</td>\n",
       "    </tr>\n",
       "    <tr>\n",
       "      <th>7</th>\n",
       "      <td>2021-11</td>\n",
       "      <td>-0.234479</td>\n",
       "      <td>0.875484</td>\n",
       "      <td>2021-11-01</td>\n",
       "    </tr>\n",
       "    <tr>\n",
       "      <th>8</th>\n",
       "      <td>2021-12</td>\n",
       "      <td>-0.016644</td>\n",
       "      <td>0.278868</td>\n",
       "      <td>2021-12-01</td>\n",
       "    </tr>\n",
       "  </tbody>\n",
       "</table>\n",
       "</div>"
      ],
      "text/plain": [
       "  year_month   sensor1   sensor2       date\n",
       "0    2021-04  0.000000  0.000000 2021-04-01\n",
       "1    2021-05  0.000000  0.000000 2021-05-01\n",
       "2    2021-06  0.025871 -0.241702 2021-06-01\n",
       "3    2021-07  0.085145  0.244700 2021-07-01\n",
       "4    2021-08 -0.070330  0.111571 2021-08-01\n",
       "5    2021-09  0.000000 -0.103345 2021-09-01\n",
       "6    2021-10 -0.183786 -0.135813 2021-10-01\n",
       "7    2021-11 -0.234479  0.875484 2021-11-01\n",
       "8    2021-12 -0.016644  0.278868 2021-12-01"
      ]
     },
     "execution_count": 82,
     "metadata": {},
     "output_type": "execute_result"
    }
   ],
   "source": [
    "result_df"
   ]
  },
  {
   "cell_type": "code",
   "execution_count": 84,
   "id": "c899374a",
   "metadata": {},
   "outputs": [
    {
     "data": {
      "image/png": "[encoded data removed]",
      "text/plain": [
       "<Figure size 640x480 with 2 Axes>"
      ]
     },
     "metadata": {},
     "output_type": "display_data"
    }
   ],
   "source": [
    "# Create the heatmap\n",
    "sns.heatmap(result_df[['sensor1', 'sensor2']].T, \n",
    "            cmap='RdBu_r',\n",
    "            center=0,\n",
    "            vmin=-1,\n",
    "            vmax=1,\n",
    "            cbar_kws={'label': 'Correlation'},\n",
    "            xticklabels=result_df['date'].dt.strftime('%Y-%m'),\n",
    "            # yticklabels=['Sensor 1', 'Sensor 2', 'Sensor 3', 'Sensor 4', 'Sensor 5', 'Sensor 6']\n",
    "            yticklabels=[]\n",
    "            )\n",
    "\n",
    "# Customize the plot\n",
    "plt.title('Water Sensor Correlations with Outside Temperature', fontsize=16)\n",
    "plt.xlabel('Date', fontsize=12)\n",
    "plt.ylabel('Sensors', fontsize=12)\n",
    "\n",
    "# Rotate and align the tick labels so they look better\n",
    "plt.gcf().autofmt_xdate()\n",
    "\n",
    "# Use tight layout to ensure all elements fit in the figure\n",
    "plt.tight_layout()"
   ]
  },
  {
   "cell_type": "code",
   "execution_count": 85,
   "id": "10b6ed91",
   "metadata": {},
   "outputs": [],
   "source": [
    "df = result_df"
   ]
  },
  {
   "cell_type": "code",
   "execution_count": 86,
   "id": "8d70a971",
   "metadata": {},
   "outputs": [
    {
     "data": {
      "text/html": [
       "<div>\n",
       "<style scoped>\n",
       "    .dataframe tbody tr th:only-of-type {\n",
       "        vertical-align: middle;\n",
       "    }\n",
       "\n",
       "    .dataframe tbody tr th {\n",
       "        vertical-align: top;\n",
       "    }\n",
       "\n",
       "    .dataframe thead th {\n",
       "        text-align: right;\n",
       "    }\n",
       "</style>\n",
       "<table border=\"1\" class=\"dataframe\">\n",
       "  <thead>\n",
       "    <tr style=\"text-align: right;\">\n",
       "      <th></th>\n",
       "      <th>year_month</th>\n",
       "      <th>sensor1</th>\n",
       "      <th>sensor2</th>\n",
       "      <th>date</th>\n",
       "    </tr>\n",
       "  </thead>\n",
       "  <tbody>\n",
       "    <tr>\n",
       "      <th>0</th>\n",
       "      <td>2021-04</td>\n",
       "      <td>0.000000</td>\n",
       "      <td>0.000000</td>\n",
       "      <td>2021-04-01</td>\n",
       "    </tr>\n",
       "    <tr>\n",
       "      <th>1</th>\n",
       "      <td>2021-05</td>\n",
       "      <td>0.000000</td>\n",
       "      <td>0.000000</td>\n",
       "      <td>2021-05-01</td>\n",
       "    </tr>\n",
       "    <tr>\n",
       "      <th>2</th>\n",
       "      <td>2021-06</td>\n",
       "      <td>0.025871</td>\n",
       "      <td>-0.241702</td>\n",
       "      <td>2021-06-01</td>\n",
       "    </tr>\n",
       "    <tr>\n",
       "      <th>3</th>\n",
       "      <td>2021-07</td>\n",
       "      <td>0.085145</td>\n",
       "      <td>0.244700</td>\n",
       "      <td>2021-07-01</td>\n",
       "    </tr>\n",
       "    <tr>\n",
       "      <th>4</th>\n",
       "      <td>2021-08</td>\n",
       "      <td>-0.070330</td>\n",
       "      <td>0.111571</td>\n",
       "      <td>2021-08-01</td>\n",
       "    </tr>\n",
       "    <tr>\n",
       "      <th>5</th>\n",
       "      <td>2021-09</td>\n",
       "      <td>0.000000</td>\n",
       "      <td>-0.103345</td>\n",
       "      <td>2021-09-01</td>\n",
       "    </tr>\n",
       "    <tr>\n",
       "      <th>6</th>\n",
       "      <td>2021-10</td>\n",
       "      <td>-0.183786</td>\n",
       "      <td>-0.135813</td>\n",
       "      <td>2021-10-01</td>\n",
       "    </tr>\n",
       "    <tr>\n",
       "      <th>7</th>\n",
       "      <td>2021-11</td>\n",
       "      <td>-0.234479</td>\n",
       "      <td>0.875484</td>\n",
       "      <td>2021-11-01</td>\n",
       "    </tr>\n",
       "    <tr>\n",
       "      <th>8</th>\n",
       "      <td>2021-12</td>\n",
       "      <td>-0.016644</td>\n",
       "      <td>0.278868</td>\n",
       "      <td>2021-12-01</td>\n",
       "    </tr>\n",
       "  </tbody>\n",
       "</table>\n",
       "</div>"
      ],
      "text/plain": [
       "  year_month   sensor1   sensor2       date\n",
       "0    2021-04  0.000000  0.000000 2021-04-01\n",
       "1    2021-05  0.000000  0.000000 2021-05-01\n",
       "2    2021-06  0.025871 -0.241702 2021-06-01\n",
       "3    2021-07  0.085145  0.244700 2021-07-01\n",
       "4    2021-08 -0.070330  0.111571 2021-08-01\n",
       "5    2021-09  0.000000 -0.103345 2021-09-01\n",
       "6    2021-10 -0.183786 -0.135813 2021-10-01\n",
       "7    2021-11 -0.234479  0.875484 2021-11-01\n",
       "8    2021-12 -0.016644  0.278868 2021-12-01"
      ]
     },
     "execution_count": 86,
     "metadata": {},
     "output_type": "execute_result"
    }
   ],
   "source": [
    "result_df"
   ]
  },
  {
   "cell_type": "code",
   "execution_count": 87,
   "id": "6126d442",
   "metadata": {},
   "outputs": [],
   "source": [
    "# WaterAnalysis_WeatherSensitivity"
   ]
  },
  {
   "cell_type": "code",
   "execution_count": 88,
   "id": "d41d4510",
   "metadata": {},
   "outputs": [],
   "source": [
    "df.to_csv('WaterAnalysis_WeatherSensitivity.csv', index=True)"
   ]
  },
  {
   "cell_type": "code",
   "execution_count": null,
   "id": "7b953698",
   "metadata": {},
   "outputs": [],
   "source": []
  },
  {
   "cell_type": "code",
   "execution_count": null,
   "id": "db0f792a",
   "metadata": {},
   "outputs": [],
   "source": []
  },
  {
   "cell_type": "code",
   "execution_count": null,
   "id": "77c71ba7",
   "metadata": {},
   "outputs": [],
   "source": []
  }
 ],
 "metadata": {
  "kernelspec": {
   "display_name": "Python 3 (ipykernel)",
   "language": "python",
   "name": "python3"
  },
  "language_info": {
   "codemirror_mode": {
    "name": "ipython",
    "version": 3
   },
   "file_extension": ".py",
   "mimetype": "text/x-python",
   "name": "python",
   "nbconvert_exporter": "python",
   "pygments_lexer": "ipython3",
   "version": "3.10.15"
  }
 },
 "nbformat": 4,
 "nbformat_minor": 5
}
