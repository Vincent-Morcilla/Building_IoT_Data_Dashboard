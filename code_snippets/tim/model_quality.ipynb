{
 "cells": [
  {
   "cell_type": "code",
   "execution_count": 749,
   "metadata": {},
   "outputs": [],
   "source": [
    "from pathlib import Path\n",
    "import brickschema\n",
    "import numpy as np\n",
    "import pandas as pd\n",
    "import rdflib\n",
    "from rdflib import Namespace\n",
    "from rdflib.namespace import RDFS, SKOS, BRICK\n"
   ]
  },
  {
   "cell_type": "code",
   "execution_count": 750,
   "metadata": {},
   "outputs": [
    {
     "data": {
      "text/plain": [
       "rdflib.term.URIRef('http://senaps.io/schema/1.0/senaps#stream_id')"
      ]
     },
     "execution_count": 750,
     "metadata": {},
     "output_type": "execute_result"
    }
   ],
   "source": [
    "SENAPS = Namespace(\"http://senaps.io/schema/1.0/senaps#\")\n",
    "SENAPS['stream_id']"
   ]
  },
  {
   "cell_type": "code",
   "execution_count": 751,
   "metadata": {},
   "outputs": [
    {
     "data": {
      "text/plain": [
       "rdflib.term.URIRef('http://www.w3.org/2004/02/skos/core#definition')"
      ]
     },
     "execution_count": 751,
     "metadata": {},
     "output_type": "execute_result"
    }
   ],
   "source": [
    "SKOS['definition']"
   ]
  },
  {
   "cell_type": "code",
   "execution_count": 752,
   "metadata": {},
   "outputs": [
    {
     "data": {
      "text/plain": [
       "Namespace('http://www.w3.org/2004/02/skos/core#')"
      ]
     },
     "execution_count": 752,
     "metadata": {},
     "output_type": "execute_result"
    }
   ],
   "source": [
    "SKOS"
   ]
  },
  {
   "cell_type": "code",
   "execution_count": 753,
   "metadata": {},
   "outputs": [],
   "source": [
    "dataset_dir = '../../datasets/bts_site_b_train/'\n",
    "\n",
    "dataset_zip = 'train.zip'\n",
    "dataset_path = Path(dataset_dir) / dataset_zip\n",
    "\n",
    "mapping_csv = 'mapper_TrainOnly.csv'\n",
    "mapping_path = Path(dataset_dir) / mapping_csv\n",
    "\n",
    "# building_ttl = 'Site_B_tim.ttl'\n",
    "building_ttl = 'Site_B.ttl'\n",
    "building_model = Path(dataset_dir) / building_ttl\n",
    "\n",
    "brick_ttl = 'Brick_v1.2.1.ttl'\n",
    "brick_schema = Path(dataset_dir) / brick_ttl"
   ]
  },
  {
   "cell_type": "code",
   "execution_count": 754,
   "metadata": {},
   "outputs": [],
   "source": [
    "g_building = brickschema.Graph().load_file(building_model)\n",
    "g_brick = brickschema.Graph().load_file(brick_schema)\n",
    "# g_brick_latest = brickschema.Graph(load_brick=True)\n",
    "g_brick_latest = brickschema.Graph(load_brick_nightly=True)"
   ]
  },
  {
   "cell_type": "markdown",
   "metadata": {},
   "source": [
    "# ANALYSIS"
   ]
  },
  {
   "cell_type": "code",
   "execution_count": 755,
   "metadata": {},
   "outputs": [],
   "source": [
    "def sparql_to_df(g, q, **kwargs):\n",
    "    res = g.query(q, **kwargs)\n",
    "    df = pd.DataFrame(res.bindings)\n",
    "    # are these necessary?\n",
    "    df.columns = df.columns.map(str)\n",
    "    # df = df.map(str)\n",
    "    df.drop_duplicates(inplace=True)\n",
    "    return df"
   ]
  },
  {
   "cell_type": "code",
   "execution_count": 756,
   "metadata": {},
   "outputs": [
    {
     "data": {
      "text/html": [
       "<div>\n",
       "<style scoped>\n",
       "    .dataframe tbody tr th:only-of-type {\n",
       "        vertical-align: middle;\n",
       "    }\n",
       "\n",
       "    .dataframe tbody tr th {\n",
       "        vertical-align: top;\n",
       "    }\n",
       "\n",
       "    .dataframe thead th {\n",
       "        text-align: right;\n",
       "    }\n",
       "</style>\n",
       "<table border=\"1\" class=\"dataframe\">\n",
       "  <thead>\n",
       "    <tr style=\"text-align: right;\">\n",
       "      <th></th>\n",
       "      <th>anonymous_unit</th>\n",
       "      <th>brick_class</th>\n",
       "      <th>entity</th>\n",
       "      <th>stream_id</th>\n",
       "    </tr>\n",
       "  </thead>\n",
       "  <tbody>\n",
       "    <tr>\n",
       "      <th>0</th>\n",
       "      <td>NaN</td>\n",
       "      <td>https://brickschema.org/schema/Brick#Temperatu...</td>\n",
       "      <td>dch:org/df125f8d_93e4_4a4f_bc87_1c4e332f32b8/s...</td>\n",
       "      <td>3dfa2bab_f8f2_485b_80e9_5afdeeac9dc4</td>\n",
       "    </tr>\n",
       "    <tr>\n",
       "      <th>1</th>\n",
       "      <td>NaN</td>\n",
       "      <td>https://brickschema.org/schema/Brick#Temperatu...</td>\n",
       "      <td>dch:org/df125f8d_93e4_4a4f_bc87_1c4e332f32b8/s...</td>\n",
       "      <td>f9833afd_e8a3_437b_9031_f29b656c94f9</td>\n",
       "    </tr>\n",
       "    <tr>\n",
       "      <th>2</th>\n",
       "      <td>NaN</td>\n",
       "      <td>https://brickschema.org/schema/Brick#Temperatu...</td>\n",
       "      <td>dch:org/df125f8d_93e4_4a4f_bc87_1c4e332f32b8/s...</td>\n",
       "      <td>141b6d3e_2aaf_4872_81b2_e5be3e5e3b66</td>\n",
       "    </tr>\n",
       "    <tr>\n",
       "      <th>3</th>\n",
       "      <td>NaN</td>\n",
       "      <td>https://brickschema.org/schema/Brick#Temperatu...</td>\n",
       "      <td>dch:org/df125f8d_93e4_4a4f_bc87_1c4e332f32b8/s...</td>\n",
       "      <td>4e1f9452_b52f_4ce1_a36f_e8a5cc8c3a5d</td>\n",
       "    </tr>\n",
       "    <tr>\n",
       "      <th>4</th>\n",
       "      <td>NaN</td>\n",
       "      <td>https://brickschema.org/schema/Brick#Temperatu...</td>\n",
       "      <td>dch:org/df125f8d_93e4_4a4f_bc87_1c4e332f32b8/s...</td>\n",
       "      <td>0ace4d2f_11d3_49f0_a61a_2f839ae3208e</td>\n",
       "    </tr>\n",
       "    <tr>\n",
       "      <th>...</th>\n",
       "      <td>...</td>\n",
       "      <td>...</td>\n",
       "      <td>...</td>\n",
       "      <td>...</td>\n",
       "    </tr>\n",
       "    <tr>\n",
       "      <th>1110</th>\n",
       "      <td>NaN</td>\n",
       "      <td>https://brickschema.org/schema/Brick#Air_Handl...</td>\n",
       "      <td>dch:org/df125f8d_93e4_4a4f_bc87_1c4e332f32b8/s...</td>\n",
       "      <td>NaN</td>\n",
       "    </tr>\n",
       "    <tr>\n",
       "      <th>1111</th>\n",
       "      <td>NaN</td>\n",
       "      <td>https://brickschema.org/schema/Brick#Air_Handl...</td>\n",
       "      <td>dch:org/df125f8d_93e4_4a4f_bc87_1c4e332f32b8/s...</td>\n",
       "      <td>NaN</td>\n",
       "    </tr>\n",
       "    <tr>\n",
       "      <th>1112</th>\n",
       "      <td>NaN</td>\n",
       "      <td>https://brickschema.org/schema/Brick#Air_Handl...</td>\n",
       "      <td>dch:org/df125f8d_93e4_4a4f_bc87_1c4e332f32b8/s...</td>\n",
       "      <td>NaN</td>\n",
       "    </tr>\n",
       "    <tr>\n",
       "      <th>1113</th>\n",
       "      <td>NaN</td>\n",
       "      <td>https://brickschema.org/schema/Brick#Air_Handl...</td>\n",
       "      <td>dch:org/df125f8d_93e4_4a4f_bc87_1c4e332f32b8/s...</td>\n",
       "      <td>NaN</td>\n",
       "    </tr>\n",
       "    <tr>\n",
       "      <th>1114</th>\n",
       "      <td>NaN</td>\n",
       "      <td>https://brickschema.org/schema/Brick#Air_Handl...</td>\n",
       "      <td>dch:org/df125f8d_93e4_4a4f_bc87_1c4e332f32b8/s...</td>\n",
       "      <td>NaN</td>\n",
       "    </tr>\n",
       "  </tbody>\n",
       "</table>\n",
       "<p>1115 rows × 4 columns</p>\n",
       "</div>"
      ],
      "text/plain": [
       "     anonymous_unit                                        brick_class  \\\n",
       "0               NaN  https://brickschema.org/schema/Brick#Temperatu...   \n",
       "1               NaN  https://brickschema.org/schema/Brick#Temperatu...   \n",
       "2               NaN  https://brickschema.org/schema/Brick#Temperatu...   \n",
       "3               NaN  https://brickschema.org/schema/Brick#Temperatu...   \n",
       "4               NaN  https://brickschema.org/schema/Brick#Temperatu...   \n",
       "...             ...                                                ...   \n",
       "1110            NaN  https://brickschema.org/schema/Brick#Air_Handl...   \n",
       "1111            NaN  https://brickschema.org/schema/Brick#Air_Handl...   \n",
       "1112            NaN  https://brickschema.org/schema/Brick#Air_Handl...   \n",
       "1113            NaN  https://brickschema.org/schema/Brick#Air_Handl...   \n",
       "1114            NaN  https://brickschema.org/schema/Brick#Air_Handl...   \n",
       "\n",
       "                                                 entity  \\\n",
       "0     dch:org/df125f8d_93e4_4a4f_bc87_1c4e332f32b8/s...   \n",
       "1     dch:org/df125f8d_93e4_4a4f_bc87_1c4e332f32b8/s...   \n",
       "2     dch:org/df125f8d_93e4_4a4f_bc87_1c4e332f32b8/s...   \n",
       "3     dch:org/df125f8d_93e4_4a4f_bc87_1c4e332f32b8/s...   \n",
       "4     dch:org/df125f8d_93e4_4a4f_bc87_1c4e332f32b8/s...   \n",
       "...                                                 ...   \n",
       "1110  dch:org/df125f8d_93e4_4a4f_bc87_1c4e332f32b8/s...   \n",
       "1111  dch:org/df125f8d_93e4_4a4f_bc87_1c4e332f32b8/s...   \n",
       "1112  dch:org/df125f8d_93e4_4a4f_bc87_1c4e332f32b8/s...   \n",
       "1113  dch:org/df125f8d_93e4_4a4f_bc87_1c4e332f32b8/s...   \n",
       "1114  dch:org/df125f8d_93e4_4a4f_bc87_1c4e332f32b8/s...   \n",
       "\n",
       "                                 stream_id  \n",
       "0     3dfa2bab_f8f2_485b_80e9_5afdeeac9dc4  \n",
       "1     f9833afd_e8a3_437b_9031_f29b656c94f9  \n",
       "2     141b6d3e_2aaf_4872_81b2_e5be3e5e3b66  \n",
       "3     4e1f9452_b52f_4ce1_a36f_e8a5cc8c3a5d  \n",
       "4     0ace4d2f_11d3_49f0_a61a_2f839ae3208e  \n",
       "...                                    ...  \n",
       "1110                                   NaN  \n",
       "1111                                   NaN  \n",
       "1112                                   NaN  \n",
       "1113                                   NaN  \n",
       "1114                                   NaN  \n",
       "\n",
       "[1115 rows x 4 columns]"
      ]
     },
     "execution_count": 756,
     "metadata": {},
     "output_type": "execute_result"
    }
   ],
   "source": [
    "# Get all brick entities and their classes in the building model\n",
    "def get_brick_entities(g):\n",
    "    q = '''\n",
    "    SELECT ?entity ?brick_class ?stream_id ?named_unit ?anonymous_unit WHERE {\n",
    "        ?entity a ?brick_class .\n",
    "        OPTIONAL { ?entity senaps:stream_id ?stream_id } .\n",
    "        OPTIONAL { ?entity brick:hasUnit ?named_unit .\n",
    "                    filter ( strstarts(str(?named_unit),str(unit:)) ) } .\n",
    "        OPTIONAL { ?entity brick:hasUnit [ brick:value ?anonymous_unit ] } .\n",
    "        filter ( strstarts(str(?brick_class),str(brick:)) ) .\n",
    "    }\n",
    "    '''\n",
    "    # q = '''\n",
    "    # SELECT ?entity ?brick_class ?stream_id WHERE {\n",
    "    #     ?entity a ?brick_class .\n",
    "    #     OPTIONAL { ?entity senaps:stream_id ?stream_id } .\n",
    "    #     filter ( strstarts(str(?brick_class),str(brick:)) ) .\n",
    "    # }\n",
    "    # '''\n",
    "    return sparql_to_df(g, q)\n",
    "\n",
    "get_brick_entities(g_building)"
   ]
  },
  {
   "cell_type": "code",
   "execution_count": 757,
   "metadata": {},
   "outputs": [],
   "source": [
    "df = get_brick_entities(g_building)"
   ]
  },
  {
   "cell_type": "code",
   "execution_count": 758,
   "metadata": {},
   "outputs": [],
   "source": [
    "def class_in_brick(cls, g):\n",
    "    return (cls, None, None) in g"
   ]
  },
  {
   "cell_type": "code",
   "execution_count": 759,
   "metadata": {},
   "outputs": [
    {
     "name": "stdout",
     "output_type": "stream",
     "text": [
      "1060 recognised by provided Brick schema:\n",
      "  anonymous_unit                                        brick_class  \\\n",
      "0            NaN  https://brickschema.org/schema/Brick#Temperatu...   \n",
      "1            NaN  https://brickschema.org/schema/Brick#Temperatu...   \n",
      "2            NaN  https://brickschema.org/schema/Brick#Temperatu...   \n",
      "3            NaN  https://brickschema.org/schema/Brick#Temperatu...   \n",
      "4            NaN  https://brickschema.org/schema/Brick#Temperatu...   \n",
      "\n",
      "                                              entity  \\\n",
      "0  dch:org/df125f8d_93e4_4a4f_bc87_1c4e332f32b8/s...   \n",
      "1  dch:org/df125f8d_93e4_4a4f_bc87_1c4e332f32b8/s...   \n",
      "2  dch:org/df125f8d_93e4_4a4f_bc87_1c4e332f32b8/s...   \n",
      "3  dch:org/df125f8d_93e4_4a4f_bc87_1c4e332f32b8/s...   \n",
      "4  dch:org/df125f8d_93e4_4a4f_bc87_1c4e332f32b8/s...   \n",
      "\n",
      "                              stream_id  class_in_provided_brick  \n",
      "0  3dfa2bab_f8f2_485b_80e9_5afdeeac9dc4                     True  \n",
      "1  f9833afd_e8a3_437b_9031_f29b656c94f9                     True  \n",
      "2  141b6d3e_2aaf_4872_81b2_e5be3e5e3b66                     True  \n",
      "3  4e1f9452_b52f_4ce1_a36f_e8a5cc8c3a5d                     True  \n",
      "4  0ace4d2f_11d3_49f0_a61a_2f839ae3208e                     True  \n",
      "55 not recognised by provided Brick schema:\n",
      "    anonymous_unit                                        brick_class  \\\n",
      "752            NaN  https://brickschema.org/schema/Brick#space_Kit...   \n",
      "753            NaN  https://brickschema.org/schema/Brick#space_Kit...   \n",
      "754            NaN  https://brickschema.org/schema/Brick#space_Kit...   \n",
      "830             HZ  https://brickschema.org/schema/Brick#b1a78aa6_...   \n",
      "831             HZ  https://brickschema.org/schema/Brick#b1a78aa6_...   \n",
      "\n",
      "                                                entity  \\\n",
      "752  dch:org/df125f8d_93e4_4a4f_bc87_1c4e332f32b8/s...   \n",
      "753  dch:org/df125f8d_93e4_4a4f_bc87_1c4e332f32b8/s...   \n",
      "754  dch:org/df125f8d_93e4_4a4f_bc87_1c4e332f32b8/s...   \n",
      "830  dch:org/df125f8d_93e4_4a4f_bc87_1c4e332f32b8/s...   \n",
      "831  dch:org/df125f8d_93e4_4a4f_bc87_1c4e332f32b8/s...   \n",
      "\n",
      "                                stream_id  class_in_provided_brick  \n",
      "752                                   NaN                    False  \n",
      "753                                   NaN                    False  \n",
      "754                                   NaN                    False  \n",
      "830  1b17847c_ff17_43a3_8a01_3ee94f638cb7                    False  \n",
      "831  41c056b3_0532_45b6_8c5f_afa3fa8784b5                    False  \n"
     ]
    }
   ],
   "source": [
    "df['class_in_provided_brick'] = df['brick_class'].apply(class_in_brick, args=(g_brick,))\n",
    "print(len(df[df['class_in_provided_brick'] == True]), 'recognised by provided Brick schema:')\n",
    "print(df[df['class_in_provided_brick'] == True].head())\n",
    "print(len(df[df['class_in_provided_brick'] == False]), 'not recognised by provided Brick schema:')\n",
    "print(df[df['class_in_provided_brick'] == False].head())"
   ]
  },
  {
   "cell_type": "code",
   "execution_count": 760,
   "metadata": {},
   "outputs": [
    {
     "name": "stdout",
     "output_type": "stream",
     "text": [
      "1021 recognised by provided Brick schema:\n",
      "  anonymous_unit                                        brick_class  \\\n",
      "0            NaN  https://brickschema.org/schema/Brick#Temperatu...   \n",
      "1            NaN  https://brickschema.org/schema/Brick#Temperatu...   \n",
      "2            NaN  https://brickschema.org/schema/Brick#Temperatu...   \n",
      "3            NaN  https://brickschema.org/schema/Brick#Temperatu...   \n",
      "4            NaN  https://brickschema.org/schema/Brick#Temperatu...   \n",
      "\n",
      "                                              entity  \\\n",
      "0  dch:org/df125f8d_93e4_4a4f_bc87_1c4e332f32b8/s...   \n",
      "1  dch:org/df125f8d_93e4_4a4f_bc87_1c4e332f32b8/s...   \n",
      "2  dch:org/df125f8d_93e4_4a4f_bc87_1c4e332f32b8/s...   \n",
      "3  dch:org/df125f8d_93e4_4a4f_bc87_1c4e332f32b8/s...   \n",
      "4  dch:org/df125f8d_93e4_4a4f_bc87_1c4e332f32b8/s...   \n",
      "\n",
      "                              stream_id  class_in_provided_brick  \\\n",
      "0  3dfa2bab_f8f2_485b_80e9_5afdeeac9dc4                     True   \n",
      "1  f9833afd_e8a3_437b_9031_f29b656c94f9                     True   \n",
      "2  141b6d3e_2aaf_4872_81b2_e5be3e5e3b66                     True   \n",
      "3  4e1f9452_b52f_4ce1_a36f_e8a5cc8c3a5d                     True   \n",
      "4  0ace4d2f_11d3_49f0_a61a_2f839ae3208e                     True   \n",
      "\n",
      "   class_in_latest_brick  \n",
      "0                   True  \n",
      "1                   True  \n",
      "2                   True  \n",
      "3                   True  \n",
      "4                   True  \n",
      "94 not recognised by provided Brick schema:\n",
      "    anonymous_unit                                        brick_class  \\\n",
      "686          KiloW  https://brickschema.org/schema/Brick#Electrica...   \n",
      "687          KiloW  https://brickschema.org/schema/Brick#Electrica...   \n",
      "688          KiloW  https://brickschema.org/schema/Brick#Electrica...   \n",
      "689        KiloV-A  https://brickschema.org/schema/Brick#Electrica...   \n",
      "690        KiloV-A  https://brickschema.org/schema/Brick#Electrica...   \n",
      "\n",
      "                                                entity  \\\n",
      "686  dch:org/df125f8d_93e4_4a4f_bc87_1c4e332f32b8/s...   \n",
      "687  dch:org/df125f8d_93e4_4a4f_bc87_1c4e332f32b8/s...   \n",
      "688  dch:org/df125f8d_93e4_4a4f_bc87_1c4e332f32b8/s...   \n",
      "689  dch:org/df125f8d_93e4_4a4f_bc87_1c4e332f32b8/s...   \n",
      "690  dch:org/df125f8d_93e4_4a4f_bc87_1c4e332f32b8/s...   \n",
      "\n",
      "                                stream_id  class_in_provided_brick  \\\n",
      "686  6f844326_c153_4231_86d7_a801b524b5f3                     True   \n",
      "687  4a15eb2a_0ad2_49ea_91da_47f66e46a794                     True   \n",
      "688  202cf2c0_356e_4a2a_9f30_6cb1e06bd638                     True   \n",
      "689  8a3270ca_af93_48ee_be19_c1addf3df25a                     True   \n",
      "690  12f70f76_a4e7_4ca9_a3bb_7178197baa17                     True   \n",
      "\n",
      "     class_in_latest_brick  \n",
      "686                  False  \n",
      "687                  False  \n",
      "688                  False  \n",
      "689                  False  \n",
      "690                  False  \n"
     ]
    }
   ],
   "source": [
    "df['class_in_latest_brick'] = df['brick_class'].apply(class_in_brick, args=(g_brick_latest,))\n",
    "print(len(df[df['class_in_latest_brick'] == True]), 'recognised by provided Brick schema:')\n",
    "print(df[df['class_in_latest_brick'] == True].head())\n",
    "print(len(df[df['class_in_latest_brick'] == False]), 'not recognised by provided Brick schema:')\n",
    "print(df[df['class_in_latest_brick'] == False].head())"
   ]
  },
  {
   "cell_type": "code",
   "execution_count": 761,
   "metadata": {},
   "outputs": [],
   "source": [
    "def get_brick_definition(cls, g, g_alt=None):\n",
    "    if cls is None:\n",
    "        return None\n",
    "    \n",
    "    # predicate = rdflib.term.URIRef('http://www.w3.org/2004/02/skos/core#definition')\n",
    "    predicate = SKOS['definition']\n",
    "    definition = g.value(subject=cls, predicate=predicate)\n",
    "    \n",
    "    original_cls = cls\n",
    "    while definition is None:\n",
    "        cls = g.value(subject=cls, predicate=RDFS['subClassOf'])\n",
    "        # print(cls)\n",
    "        if cls is None:\n",
    "            break\n",
    "        definition = g.value(subject=cls, predicate=predicate)\n",
    "    \n",
    "    if definition is None and g_alt is not None:\n",
    "        return get_brick_definition(original_cls, g_alt)\n",
    "    \n",
    "    return g.value(subject=cls, predicate=predicate)"
   ]
  },
  {
   "cell_type": "code",
   "execution_count": 762,
   "metadata": {},
   "outputs": [
    {
     "data": {
      "text/html": [
       "<div>\n",
       "<style scoped>\n",
       "    .dataframe tbody tr th:only-of-type {\n",
       "        vertical-align: middle;\n",
       "    }\n",
       "\n",
       "    .dataframe tbody tr th {\n",
       "        vertical-align: top;\n",
       "    }\n",
       "\n",
       "    .dataframe thead th {\n",
       "        text-align: right;\n",
       "    }\n",
       "</style>\n",
       "<table border=\"1\" class=\"dataframe\">\n",
       "  <thead>\n",
       "    <tr style=\"text-align: right;\">\n",
       "      <th></th>\n",
       "      <th>anonymous_unit</th>\n",
       "      <th>brick_class</th>\n",
       "      <th>entity</th>\n",
       "      <th>stream_id</th>\n",
       "      <th>class_in_provided_brick</th>\n",
       "      <th>class_in_latest_brick</th>\n",
       "      <th>brick_definition</th>\n",
       "    </tr>\n",
       "  </thead>\n",
       "  <tbody>\n",
       "    <tr>\n",
       "      <th>0</th>\n",
       "      <td>NaN</td>\n",
       "      <td>https://brickschema.org/schema/Brick#Temperatu...</td>\n",
       "      <td>dch:org/df125f8d_93e4_4a4f_bc87_1c4e332f32b8/s...</td>\n",
       "      <td>3dfa2bab_f8f2_485b_80e9_5afdeeac9dc4</td>\n",
       "      <td>True</td>\n",
       "      <td>True</td>\n",
       "      <td>Sets temperature</td>\n",
       "    </tr>\n",
       "    <tr>\n",
       "      <th>1</th>\n",
       "      <td>NaN</td>\n",
       "      <td>https://brickschema.org/schema/Brick#Temperatu...</td>\n",
       "      <td>dch:org/df125f8d_93e4_4a4f_bc87_1c4e332f32b8/s...</td>\n",
       "      <td>f9833afd_e8a3_437b_9031_f29b656c94f9</td>\n",
       "      <td>True</td>\n",
       "      <td>True</td>\n",
       "      <td>Sets temperature</td>\n",
       "    </tr>\n",
       "    <tr>\n",
       "      <th>2</th>\n",
       "      <td>NaN</td>\n",
       "      <td>https://brickschema.org/schema/Brick#Temperatu...</td>\n",
       "      <td>dch:org/df125f8d_93e4_4a4f_bc87_1c4e332f32b8/s...</td>\n",
       "      <td>141b6d3e_2aaf_4872_81b2_e5be3e5e3b66</td>\n",
       "      <td>True</td>\n",
       "      <td>True</td>\n",
       "      <td>Sets temperature</td>\n",
       "    </tr>\n",
       "    <tr>\n",
       "      <th>3</th>\n",
       "      <td>NaN</td>\n",
       "      <td>https://brickschema.org/schema/Brick#Temperatu...</td>\n",
       "      <td>dch:org/df125f8d_93e4_4a4f_bc87_1c4e332f32b8/s...</td>\n",
       "      <td>4e1f9452_b52f_4ce1_a36f_e8a5cc8c3a5d</td>\n",
       "      <td>True</td>\n",
       "      <td>True</td>\n",
       "      <td>Sets temperature</td>\n",
       "    </tr>\n",
       "    <tr>\n",
       "      <th>4</th>\n",
       "      <td>NaN</td>\n",
       "      <td>https://brickschema.org/schema/Brick#Temperatu...</td>\n",
       "      <td>dch:org/df125f8d_93e4_4a4f_bc87_1c4e332f32b8/s...</td>\n",
       "      <td>0ace4d2f_11d3_49f0_a61a_2f839ae3208e</td>\n",
       "      <td>True</td>\n",
       "      <td>True</td>\n",
       "      <td>Sets temperature</td>\n",
       "    </tr>\n",
       "  </tbody>\n",
       "</table>\n",
       "</div>"
      ],
      "text/plain": [
       "  anonymous_unit                                        brick_class  \\\n",
       "0            NaN  https://brickschema.org/schema/Brick#Temperatu...   \n",
       "1            NaN  https://brickschema.org/schema/Brick#Temperatu...   \n",
       "2            NaN  https://brickschema.org/schema/Brick#Temperatu...   \n",
       "3            NaN  https://brickschema.org/schema/Brick#Temperatu...   \n",
       "4            NaN  https://brickschema.org/schema/Brick#Temperatu...   \n",
       "\n",
       "                                              entity  \\\n",
       "0  dch:org/df125f8d_93e4_4a4f_bc87_1c4e332f32b8/s...   \n",
       "1  dch:org/df125f8d_93e4_4a4f_bc87_1c4e332f32b8/s...   \n",
       "2  dch:org/df125f8d_93e4_4a4f_bc87_1c4e332f32b8/s...   \n",
       "3  dch:org/df125f8d_93e4_4a4f_bc87_1c4e332f32b8/s...   \n",
       "4  dch:org/df125f8d_93e4_4a4f_bc87_1c4e332f32b8/s...   \n",
       "\n",
       "                              stream_id  class_in_provided_brick  \\\n",
       "0  3dfa2bab_f8f2_485b_80e9_5afdeeac9dc4                     True   \n",
       "1  f9833afd_e8a3_437b_9031_f29b656c94f9                     True   \n",
       "2  141b6d3e_2aaf_4872_81b2_e5be3e5e3b66                     True   \n",
       "3  4e1f9452_b52f_4ce1_a36f_e8a5cc8c3a5d                     True   \n",
       "4  0ace4d2f_11d3_49f0_a61a_2f839ae3208e                     True   \n",
       "\n",
       "   class_in_latest_brick  brick_definition  \n",
       "0                   True  Sets temperature  \n",
       "1                   True  Sets temperature  \n",
       "2                   True  Sets temperature  \n",
       "3                   True  Sets temperature  \n",
       "4                   True  Sets temperature  "
      ]
     },
     "execution_count": 762,
     "metadata": {},
     "output_type": "execute_result"
    }
   ],
   "source": [
    "df['brick_definition'] = df['brick_class'].apply(get_brick_definition, args=(g_brick,))\n",
    "# df['brick_definition'] = df['class'].apply(get_brick_definition, args=(g_brick_latest,))\n",
    "# df['brick_definition'] = df['class'].apply(get_brick_definition, args=(g_brick, g_brick_latest))\n",
    "df.head()"
   ]
  },
  {
   "cell_type": "code",
   "execution_count": 763,
   "metadata": {},
   "outputs": [],
   "source": [
    "if 'named_unit' not in df.columns:\n",
    "    df['named_unit'] = None\n",
    "if 'anonymous_unit' not in df.columns:\n",
    "    df['anonymous_unit'] = None\n",
    "\n",
    "\n",
    "df = df.assign(unit=lambda x: x['named_unit'].combine_first(x['anonymous_unit']))\n",
    "\n",
    "# def unit_in_brick(unit, g):\n",
    "#     return (unit, None, None) in g\n",
    "\n",
    "\n",
    "# df['unit_in_provided_brick'] = df['named_unit'].apply(class_in_brick, args=(g_brick,))"
   ]
  },
  {
   "cell_type": "code",
   "execution_count": 764,
   "metadata": {},
   "outputs": [],
   "source": [
    "def unit_is_named(r):\n",
    "    if pd.isna(r.unit):\n",
    "        return None\n",
    "    \n",
    "    return not pd.isna(r.named_unit)"
   ]
  },
  {
   "cell_type": "code",
   "execution_count": 765,
   "metadata": {},
   "outputs": [
    {
     "data": {
      "text/html": [
       "<div>\n",
       "<style scoped>\n",
       "    .dataframe tbody tr th:only-of-type {\n",
       "        vertical-align: middle;\n",
       "    }\n",
       "\n",
       "    .dataframe tbody tr th {\n",
       "        vertical-align: top;\n",
       "    }\n",
       "\n",
       "    .dataframe thead th {\n",
       "        text-align: right;\n",
       "    }\n",
       "</style>\n",
       "<table border=\"1\" class=\"dataframe\">\n",
       "  <thead>\n",
       "    <tr style=\"text-align: right;\">\n",
       "      <th></th>\n",
       "      <th>anonymous_unit</th>\n",
       "      <th>brick_class</th>\n",
       "      <th>entity</th>\n",
       "      <th>stream_id</th>\n",
       "      <th>class_in_provided_brick</th>\n",
       "      <th>class_in_latest_brick</th>\n",
       "      <th>brick_definition</th>\n",
       "      <th>named_unit</th>\n",
       "      <th>unit</th>\n",
       "      <th>unit_is_named</th>\n",
       "    </tr>\n",
       "  </thead>\n",
       "  <tbody>\n",
       "    <tr>\n",
       "      <th>0</th>\n",
       "      <td>NaN</td>\n",
       "      <td>https://brickschema.org/schema/Brick#Temperatu...</td>\n",
       "      <td>dch:org/df125f8d_93e4_4a4f_bc87_1c4e332f32b8/s...</td>\n",
       "      <td>3dfa2bab_f8f2_485b_80e9_5afdeeac9dc4</td>\n",
       "      <td>True</td>\n",
       "      <td>True</td>\n",
       "      <td>Sets temperature</td>\n",
       "      <td>None</td>\n",
       "      <td>NaN</td>\n",
       "      <td>None</td>\n",
       "    </tr>\n",
       "    <tr>\n",
       "      <th>1</th>\n",
       "      <td>NaN</td>\n",
       "      <td>https://brickschema.org/schema/Brick#Temperatu...</td>\n",
       "      <td>dch:org/df125f8d_93e4_4a4f_bc87_1c4e332f32b8/s...</td>\n",
       "      <td>f9833afd_e8a3_437b_9031_f29b656c94f9</td>\n",
       "      <td>True</td>\n",
       "      <td>True</td>\n",
       "      <td>Sets temperature</td>\n",
       "      <td>None</td>\n",
       "      <td>NaN</td>\n",
       "      <td>None</td>\n",
       "    </tr>\n",
       "    <tr>\n",
       "      <th>2</th>\n",
       "      <td>NaN</td>\n",
       "      <td>https://brickschema.org/schema/Brick#Temperatu...</td>\n",
       "      <td>dch:org/df125f8d_93e4_4a4f_bc87_1c4e332f32b8/s...</td>\n",
       "      <td>141b6d3e_2aaf_4872_81b2_e5be3e5e3b66</td>\n",
       "      <td>True</td>\n",
       "      <td>True</td>\n",
       "      <td>Sets temperature</td>\n",
       "      <td>None</td>\n",
       "      <td>NaN</td>\n",
       "      <td>None</td>\n",
       "    </tr>\n",
       "    <tr>\n",
       "      <th>3</th>\n",
       "      <td>NaN</td>\n",
       "      <td>https://brickschema.org/schema/Brick#Temperatu...</td>\n",
       "      <td>dch:org/df125f8d_93e4_4a4f_bc87_1c4e332f32b8/s...</td>\n",
       "      <td>4e1f9452_b52f_4ce1_a36f_e8a5cc8c3a5d</td>\n",
       "      <td>True</td>\n",
       "      <td>True</td>\n",
       "      <td>Sets temperature</td>\n",
       "      <td>None</td>\n",
       "      <td>NaN</td>\n",
       "      <td>None</td>\n",
       "    </tr>\n",
       "    <tr>\n",
       "      <th>4</th>\n",
       "      <td>NaN</td>\n",
       "      <td>https://brickschema.org/schema/Brick#Temperatu...</td>\n",
       "      <td>dch:org/df125f8d_93e4_4a4f_bc87_1c4e332f32b8/s...</td>\n",
       "      <td>0ace4d2f_11d3_49f0_a61a_2f839ae3208e</td>\n",
       "      <td>True</td>\n",
       "      <td>True</td>\n",
       "      <td>Sets temperature</td>\n",
       "      <td>None</td>\n",
       "      <td>NaN</td>\n",
       "      <td>None</td>\n",
       "    </tr>\n",
       "  </tbody>\n",
       "</table>\n",
       "</div>"
      ],
      "text/plain": [
       "  anonymous_unit                                        brick_class  \\\n",
       "0            NaN  https://brickschema.org/schema/Brick#Temperatu...   \n",
       "1            NaN  https://brickschema.org/schema/Brick#Temperatu...   \n",
       "2            NaN  https://brickschema.org/schema/Brick#Temperatu...   \n",
       "3            NaN  https://brickschema.org/schema/Brick#Temperatu...   \n",
       "4            NaN  https://brickschema.org/schema/Brick#Temperatu...   \n",
       "\n",
       "                                              entity  \\\n",
       "0  dch:org/df125f8d_93e4_4a4f_bc87_1c4e332f32b8/s...   \n",
       "1  dch:org/df125f8d_93e4_4a4f_bc87_1c4e332f32b8/s...   \n",
       "2  dch:org/df125f8d_93e4_4a4f_bc87_1c4e332f32b8/s...   \n",
       "3  dch:org/df125f8d_93e4_4a4f_bc87_1c4e332f32b8/s...   \n",
       "4  dch:org/df125f8d_93e4_4a4f_bc87_1c4e332f32b8/s...   \n",
       "\n",
       "                              stream_id  class_in_provided_brick  \\\n",
       "0  3dfa2bab_f8f2_485b_80e9_5afdeeac9dc4                     True   \n",
       "1  f9833afd_e8a3_437b_9031_f29b656c94f9                     True   \n",
       "2  141b6d3e_2aaf_4872_81b2_e5be3e5e3b66                     True   \n",
       "3  4e1f9452_b52f_4ce1_a36f_e8a5cc8c3a5d                     True   \n",
       "4  0ace4d2f_11d3_49f0_a61a_2f839ae3208e                     True   \n",
       "\n",
       "   class_in_latest_brick  brick_definition named_unit unit unit_is_named  \n",
       "0                   True  Sets temperature       None  NaN          None  \n",
       "1                   True  Sets temperature       None  NaN          None  \n",
       "2                   True  Sets temperature       None  NaN          None  \n",
       "3                   True  Sets temperature       None  NaN          None  \n",
       "4                   True  Sets temperature       None  NaN          None  "
      ]
     },
     "execution_count": 765,
     "metadata": {},
     "output_type": "execute_result"
    }
   ],
   "source": [
    "df['unit_is_named'] = df.apply(unit_is_named, axis=1)\n",
    "df.head()"
   ]
  },
  {
   "cell_type": "code",
   "execution_count": 766,
   "metadata": {},
   "outputs": [],
   "source": [
    "# df.assign(unit_is_named=lambda x: x['unit'].apply(lambda u: u is not None and u.startswith('unit:')))   "
   ]
  },
  {
   "cell_type": "code",
   "execution_count": 767,
   "metadata": {},
   "outputs": [
    {
     "data": {
      "text/html": [
       "<div>\n",
       "<style scoped>\n",
       "    .dataframe tbody tr th:only-of-type {\n",
       "        vertical-align: middle;\n",
       "    }\n",
       "\n",
       "    .dataframe tbody tr th {\n",
       "        vertical-align: top;\n",
       "    }\n",
       "\n",
       "    .dataframe thead th {\n",
       "        text-align: right;\n",
       "    }\n",
       "</style>\n",
       "<table border=\"1\" class=\"dataframe\">\n",
       "  <thead>\n",
       "    <tr style=\"text-align: right;\">\n",
       "      <th></th>\n",
       "      <th>Building</th>\n",
       "      <th>StreamID</th>\n",
       "      <th>Filename</th>\n",
       "      <th>strBrickLabel</th>\n",
       "    </tr>\n",
       "  </thead>\n",
       "  <tbody>\n",
       "    <tr>\n",
       "      <th>0</th>\n",
       "      <td>A</td>\n",
       "      <td>9ba955fa_5960_4c9b_b73a_10156da7d083</td>\n",
       "      <td>trainAll_0.pkl</td>\n",
       "      <td>Operating_Mode_Status</td>\n",
       "    </tr>\n",
       "    <tr>\n",
       "      <th>2</th>\n",
       "      <td>A</td>\n",
       "      <td>8fd6e75b_88bc_4992_b420_77389969b3c4</td>\n",
       "      <td>trainAll_1.pkl</td>\n",
       "      <td>Mode_Command</td>\n",
       "    </tr>\n",
       "    <tr>\n",
       "      <th>3</th>\n",
       "      <td>A</td>\n",
       "      <td>8db6eaa9_bd6c_4f7e_aed0_a47e4e192a6c</td>\n",
       "      <td>trainAll_2.pkl</td>\n",
       "      <td>Active_Power_Sensor</td>\n",
       "    </tr>\n",
       "    <tr>\n",
       "      <th>4</th>\n",
       "      <td>A</td>\n",
       "      <td>b2338dec_110a_45cc_8358_1171aaef2c45</td>\n",
       "      <td>trainAll_3.pkl</td>\n",
       "      <td>System_Status</td>\n",
       "    </tr>\n",
       "    <tr>\n",
       "      <th>5</th>\n",
       "      <td>A</td>\n",
       "      <td>ec5ff874_0af2_49d8_a6a0_21ea3d077dc8</td>\n",
       "      <td>trainAll_4.pkl</td>\n",
       "      <td>Maintenance_Mode_Command</td>\n",
       "    </tr>\n",
       "  </tbody>\n",
       "</table>\n",
       "</div>"
      ],
      "text/plain": [
       "  Building                              StreamID        Filename  \\\n",
       "0        A  9ba955fa_5960_4c9b_b73a_10156da7d083  trainAll_0.pkl   \n",
       "2        A  8fd6e75b_88bc_4992_b420_77389969b3c4  trainAll_1.pkl   \n",
       "3        A  8db6eaa9_bd6c_4f7e_aed0_a47e4e192a6c  trainAll_2.pkl   \n",
       "4        A  b2338dec_110a_45cc_8358_1171aaef2c45  trainAll_3.pkl   \n",
       "5        A  ec5ff874_0af2_49d8_a6a0_21ea3d077dc8  trainAll_4.pkl   \n",
       "\n",
       "              strBrickLabel  \n",
       "0     Operating_Mode_Status  \n",
       "2              Mode_Command  \n",
       "3       Active_Power_Sensor  \n",
       "4             System_Status  \n",
       "5  Maintenance_Mode_Command  "
      ]
     },
     "execution_count": 767,
     "metadata": {},
     "output_type": "execute_result"
    }
   ],
   "source": [
    "# Load the mapping file\n",
    "mapping_df = pd.read_csv(mapping_path, index_col=0)\n",
    "\n",
    "# Building B only\n",
    "# mapping_df = mapping_df[mapping_df['Building'] == 'B']\n",
    "\n",
    "# Ignore streams not saved to file\n",
    "mapping_df = mapping_df[mapping_df['Filename'].str.contains('FILE NOT SAVED') == False]\n",
    "\n",
    "mapping_df.head()"
   ]
  },
  {
   "cell_type": "code",
   "execution_count": 768,
   "metadata": {},
   "outputs": [
    {
     "data": {
      "text/plain": [
       "rdflib.term.Literal('3dfa2bab_f8f2_485b_80e9_5afdeeac9dc4')"
      ]
     },
     "execution_count": 768,
     "metadata": {},
     "output_type": "execute_result"
    }
   ],
   "source": [
    "df['stream_id'][0]"
   ]
  },
  {
   "cell_type": "code",
   "execution_count": 769,
   "metadata": {},
   "outputs": [],
   "source": [
    "def stream_exists_in_mapping(s, mapping_df):\n",
    "    if pd.isna(s):\n",
    "        return None\n",
    "    return str(s).strip() in mapping_df['StreamID'].values"
   ]
  },
  {
   "cell_type": "code",
   "execution_count": 770,
   "metadata": {},
   "outputs": [
    {
     "data": {
      "text/html": [
       "<div>\n",
       "<style scoped>\n",
       "    .dataframe tbody tr th:only-of-type {\n",
       "        vertical-align: middle;\n",
       "    }\n",
       "\n",
       "    .dataframe tbody tr th {\n",
       "        vertical-align: top;\n",
       "    }\n",
       "\n",
       "    .dataframe thead th {\n",
       "        text-align: right;\n",
       "    }\n",
       "</style>\n",
       "<table border=\"1\" class=\"dataframe\">\n",
       "  <thead>\n",
       "    <tr style=\"text-align: right;\">\n",
       "      <th></th>\n",
       "      <th>anonymous_unit</th>\n",
       "      <th>brick_class</th>\n",
       "      <th>entity</th>\n",
       "      <th>stream_id</th>\n",
       "      <th>class_in_provided_brick</th>\n",
       "      <th>class_in_latest_brick</th>\n",
       "      <th>brick_definition</th>\n",
       "      <th>named_unit</th>\n",
       "      <th>unit</th>\n",
       "      <th>unit_is_named</th>\n",
       "      <th>stream_exists_in_mapping</th>\n",
       "    </tr>\n",
       "  </thead>\n",
       "  <tbody>\n",
       "    <tr>\n",
       "      <th>0</th>\n",
       "      <td>NaN</td>\n",
       "      <td>https://brickschema.org/schema/Brick#Temperatu...</td>\n",
       "      <td>dch:org/df125f8d_93e4_4a4f_bc87_1c4e332f32b8/s...</td>\n",
       "      <td>3dfa2bab_f8f2_485b_80e9_5afdeeac9dc4</td>\n",
       "      <td>True</td>\n",
       "      <td>True</td>\n",
       "      <td>Sets temperature</td>\n",
       "      <td>None</td>\n",
       "      <td>NaN</td>\n",
       "      <td>None</td>\n",
       "      <td>True</td>\n",
       "    </tr>\n",
       "    <tr>\n",
       "      <th>1</th>\n",
       "      <td>NaN</td>\n",
       "      <td>https://brickschema.org/schema/Brick#Temperatu...</td>\n",
       "      <td>dch:org/df125f8d_93e4_4a4f_bc87_1c4e332f32b8/s...</td>\n",
       "      <td>f9833afd_e8a3_437b_9031_f29b656c94f9</td>\n",
       "      <td>True</td>\n",
       "      <td>True</td>\n",
       "      <td>Sets temperature</td>\n",
       "      <td>None</td>\n",
       "      <td>NaN</td>\n",
       "      <td>None</td>\n",
       "      <td>True</td>\n",
       "    </tr>\n",
       "    <tr>\n",
       "      <th>2</th>\n",
       "      <td>NaN</td>\n",
       "      <td>https://brickschema.org/schema/Brick#Temperatu...</td>\n",
       "      <td>dch:org/df125f8d_93e4_4a4f_bc87_1c4e332f32b8/s...</td>\n",
       "      <td>141b6d3e_2aaf_4872_81b2_e5be3e5e3b66</td>\n",
       "      <td>True</td>\n",
       "      <td>True</td>\n",
       "      <td>Sets temperature</td>\n",
       "      <td>None</td>\n",
       "      <td>NaN</td>\n",
       "      <td>None</td>\n",
       "      <td>True</td>\n",
       "    </tr>\n",
       "    <tr>\n",
       "      <th>3</th>\n",
       "      <td>NaN</td>\n",
       "      <td>https://brickschema.org/schema/Brick#Temperatu...</td>\n",
       "      <td>dch:org/df125f8d_93e4_4a4f_bc87_1c4e332f32b8/s...</td>\n",
       "      <td>4e1f9452_b52f_4ce1_a36f_e8a5cc8c3a5d</td>\n",
       "      <td>True</td>\n",
       "      <td>True</td>\n",
       "      <td>Sets temperature</td>\n",
       "      <td>None</td>\n",
       "      <td>NaN</td>\n",
       "      <td>None</td>\n",
       "      <td>True</td>\n",
       "    </tr>\n",
       "    <tr>\n",
       "      <th>4</th>\n",
       "      <td>NaN</td>\n",
       "      <td>https://brickschema.org/schema/Brick#Temperatu...</td>\n",
       "      <td>dch:org/df125f8d_93e4_4a4f_bc87_1c4e332f32b8/s...</td>\n",
       "      <td>0ace4d2f_11d3_49f0_a61a_2f839ae3208e</td>\n",
       "      <td>True</td>\n",
       "      <td>True</td>\n",
       "      <td>Sets temperature</td>\n",
       "      <td>None</td>\n",
       "      <td>NaN</td>\n",
       "      <td>None</td>\n",
       "      <td>True</td>\n",
       "    </tr>\n",
       "  </tbody>\n",
       "</table>\n",
       "</div>"
      ],
      "text/plain": [
       "  anonymous_unit                                        brick_class  \\\n",
       "0            NaN  https://brickschema.org/schema/Brick#Temperatu...   \n",
       "1            NaN  https://brickschema.org/schema/Brick#Temperatu...   \n",
       "2            NaN  https://brickschema.org/schema/Brick#Temperatu...   \n",
       "3            NaN  https://brickschema.org/schema/Brick#Temperatu...   \n",
       "4            NaN  https://brickschema.org/schema/Brick#Temperatu...   \n",
       "\n",
       "                                              entity  \\\n",
       "0  dch:org/df125f8d_93e4_4a4f_bc87_1c4e332f32b8/s...   \n",
       "1  dch:org/df125f8d_93e4_4a4f_bc87_1c4e332f32b8/s...   \n",
       "2  dch:org/df125f8d_93e4_4a4f_bc87_1c4e332f32b8/s...   \n",
       "3  dch:org/df125f8d_93e4_4a4f_bc87_1c4e332f32b8/s...   \n",
       "4  dch:org/df125f8d_93e4_4a4f_bc87_1c4e332f32b8/s...   \n",
       "\n",
       "                              stream_id  class_in_provided_brick  \\\n",
       "0  3dfa2bab_f8f2_485b_80e9_5afdeeac9dc4                     True   \n",
       "1  f9833afd_e8a3_437b_9031_f29b656c94f9                     True   \n",
       "2  141b6d3e_2aaf_4872_81b2_e5be3e5e3b66                     True   \n",
       "3  4e1f9452_b52f_4ce1_a36f_e8a5cc8c3a5d                     True   \n",
       "4  0ace4d2f_11d3_49f0_a61a_2f839ae3208e                     True   \n",
       "\n",
       "   class_in_latest_brick  brick_definition named_unit unit unit_is_named  \\\n",
       "0                   True  Sets temperature       None  NaN          None   \n",
       "1                   True  Sets temperature       None  NaN          None   \n",
       "2                   True  Sets temperature       None  NaN          None   \n",
       "3                   True  Sets temperature       None  NaN          None   \n",
       "4                   True  Sets temperature       None  NaN          None   \n",
       "\n",
       "  stream_exists_in_mapping  \n",
       "0                     True  \n",
       "1                     True  \n",
       "2                     True  \n",
       "3                     True  \n",
       "4                     True  "
      ]
     },
     "execution_count": 770,
     "metadata": {},
     "output_type": "execute_result"
    }
   ],
   "source": [
    "df['stream_exists_in_mapping'] = df['stream_id'].apply(stream_exists_in_mapping, args=(mapping_df,))\n",
    "df.head()"
   ]
  },
  {
   "cell_type": "code",
   "execution_count": 771,
   "metadata": {},
   "outputs": [],
   "source": [
    "def brick_class_in_mapping(s, mapping_df):\n",
    "    if pd.isna(s):\n",
    "        return None\n",
    "    mapping_df['StreamID']\n",
    "    return str(s).strip() in mapping_df['StreamID'].values"
   ]
  },
  {
   "cell_type": "code",
   "execution_count": 772,
   "metadata": {},
   "outputs": [
    {
     "data": {
      "text/html": [
       "<div>\n",
       "<style scoped>\n",
       "    .dataframe tbody tr th:only-of-type {\n",
       "        vertical-align: middle;\n",
       "    }\n",
       "\n",
       "    .dataframe tbody tr th {\n",
       "        vertical-align: top;\n",
       "    }\n",
       "\n",
       "    .dataframe thead th {\n",
       "        text-align: right;\n",
       "    }\n",
       "</style>\n",
       "<table border=\"1\" class=\"dataframe\">\n",
       "  <thead>\n",
       "    <tr style=\"text-align: right;\">\n",
       "      <th></th>\n",
       "      <th>anonymous_unit</th>\n",
       "      <th>brick_class</th>\n",
       "      <th>entity</th>\n",
       "      <th>stream_id</th>\n",
       "      <th>class_in_provided_brick</th>\n",
       "      <th>class_in_latest_brick</th>\n",
       "      <th>brick_definition</th>\n",
       "      <th>named_unit</th>\n",
       "      <th>unit</th>\n",
       "      <th>unit_is_named</th>\n",
       "      <th>stream_exists_in_mapping</th>\n",
       "      <th>brick_class_in_mapping</th>\n",
       "    </tr>\n",
       "  </thead>\n",
       "  <tbody>\n",
       "    <tr>\n",
       "      <th>0</th>\n",
       "      <td>NaN</td>\n",
       "      <td>https://brickschema.org/schema/Brick#Temperatu...</td>\n",
       "      <td>dch:org/df125f8d_93e4_4a4f_bc87_1c4e332f32b8/s...</td>\n",
       "      <td>3dfa2bab_f8f2_485b_80e9_5afdeeac9dc4</td>\n",
       "      <td>True</td>\n",
       "      <td>True</td>\n",
       "      <td>Sets temperature</td>\n",
       "      <td>None</td>\n",
       "      <td>NaN</td>\n",
       "      <td>None</td>\n",
       "      <td>True</td>\n",
       "      <td>Temperature_Setpoint</td>\n",
       "    </tr>\n",
       "    <tr>\n",
       "      <th>1</th>\n",
       "      <td>NaN</td>\n",
       "      <td>https://brickschema.org/schema/Brick#Temperatu...</td>\n",
       "      <td>dch:org/df125f8d_93e4_4a4f_bc87_1c4e332f32b8/s...</td>\n",
       "      <td>f9833afd_e8a3_437b_9031_f29b656c94f9</td>\n",
       "      <td>True</td>\n",
       "      <td>True</td>\n",
       "      <td>Sets temperature</td>\n",
       "      <td>None</td>\n",
       "      <td>NaN</td>\n",
       "      <td>None</td>\n",
       "      <td>True</td>\n",
       "      <td>Temperature_Setpoint</td>\n",
       "    </tr>\n",
       "    <tr>\n",
       "      <th>2</th>\n",
       "      <td>NaN</td>\n",
       "      <td>https://brickschema.org/schema/Brick#Temperatu...</td>\n",
       "      <td>dch:org/df125f8d_93e4_4a4f_bc87_1c4e332f32b8/s...</td>\n",
       "      <td>141b6d3e_2aaf_4872_81b2_e5be3e5e3b66</td>\n",
       "      <td>True</td>\n",
       "      <td>True</td>\n",
       "      <td>Sets temperature</td>\n",
       "      <td>None</td>\n",
       "      <td>NaN</td>\n",
       "      <td>None</td>\n",
       "      <td>True</td>\n",
       "      <td>Temperature_Setpoint</td>\n",
       "    </tr>\n",
       "    <tr>\n",
       "      <th>3</th>\n",
       "      <td>NaN</td>\n",
       "      <td>https://brickschema.org/schema/Brick#Temperatu...</td>\n",
       "      <td>dch:org/df125f8d_93e4_4a4f_bc87_1c4e332f32b8/s...</td>\n",
       "      <td>4e1f9452_b52f_4ce1_a36f_e8a5cc8c3a5d</td>\n",
       "      <td>True</td>\n",
       "      <td>True</td>\n",
       "      <td>Sets temperature</td>\n",
       "      <td>None</td>\n",
       "      <td>NaN</td>\n",
       "      <td>None</td>\n",
       "      <td>True</td>\n",
       "      <td>Temperature_Setpoint</td>\n",
       "    </tr>\n",
       "    <tr>\n",
       "      <th>4</th>\n",
       "      <td>NaN</td>\n",
       "      <td>https://brickschema.org/schema/Brick#Temperatu...</td>\n",
       "      <td>dch:org/df125f8d_93e4_4a4f_bc87_1c4e332f32b8/s...</td>\n",
       "      <td>0ace4d2f_11d3_49f0_a61a_2f839ae3208e</td>\n",
       "      <td>True</td>\n",
       "      <td>True</td>\n",
       "      <td>Sets temperature</td>\n",
       "      <td>None</td>\n",
       "      <td>NaN</td>\n",
       "      <td>None</td>\n",
       "      <td>True</td>\n",
       "      <td>Temperature_Setpoint</td>\n",
       "    </tr>\n",
       "  </tbody>\n",
       "</table>\n",
       "</div>"
      ],
      "text/plain": [
       "  anonymous_unit                                        brick_class  \\\n",
       "0            NaN  https://brickschema.org/schema/Brick#Temperatu...   \n",
       "1            NaN  https://brickschema.org/schema/Brick#Temperatu...   \n",
       "2            NaN  https://brickschema.org/schema/Brick#Temperatu...   \n",
       "3            NaN  https://brickschema.org/schema/Brick#Temperatu...   \n",
       "4            NaN  https://brickschema.org/schema/Brick#Temperatu...   \n",
       "\n",
       "                                              entity  \\\n",
       "0  dch:org/df125f8d_93e4_4a4f_bc87_1c4e332f32b8/s...   \n",
       "1  dch:org/df125f8d_93e4_4a4f_bc87_1c4e332f32b8/s...   \n",
       "2  dch:org/df125f8d_93e4_4a4f_bc87_1c4e332f32b8/s...   \n",
       "3  dch:org/df125f8d_93e4_4a4f_bc87_1c4e332f32b8/s...   \n",
       "4  dch:org/df125f8d_93e4_4a4f_bc87_1c4e332f32b8/s...   \n",
       "\n",
       "                              stream_id  class_in_provided_brick  \\\n",
       "0  3dfa2bab_f8f2_485b_80e9_5afdeeac9dc4                     True   \n",
       "1  f9833afd_e8a3_437b_9031_f29b656c94f9                     True   \n",
       "2  141b6d3e_2aaf_4872_81b2_e5be3e5e3b66                     True   \n",
       "3  4e1f9452_b52f_4ce1_a36f_e8a5cc8c3a5d                     True   \n",
       "4  0ace4d2f_11d3_49f0_a61a_2f839ae3208e                     True   \n",
       "\n",
       "   class_in_latest_brick  brick_definition named_unit unit unit_is_named  \\\n",
       "0                   True  Sets temperature       None  NaN          None   \n",
       "1                   True  Sets temperature       None  NaN          None   \n",
       "2                   True  Sets temperature       None  NaN          None   \n",
       "3                   True  Sets temperature       None  NaN          None   \n",
       "4                   True  Sets temperature       None  NaN          None   \n",
       "\n",
       "  stream_exists_in_mapping brick_class_in_mapping  \n",
       "0                     True   Temperature_Setpoint  \n",
       "1                     True   Temperature_Setpoint  \n",
       "2                     True   Temperature_Setpoint  \n",
       "3                     True   Temperature_Setpoint  \n",
       "4                     True   Temperature_Setpoint  "
      ]
     },
     "execution_count": 772,
     "metadata": {},
     "output_type": "execute_result"
    }
   ],
   "source": [
    "# Convert df['stream_id'] to string for the join\n",
    "df['stream_id_str'] = df['stream_id'].apply(lambda x: str(x))\n",
    "\n",
    "# Perform the left join\n",
    "df = pd.merge(df, mapping_df[['StreamID', 'strBrickLabel']], how='left', left_on='stream_id_str', right_on='StreamID')\n",
    "\n",
    "# Optionally drop the temporary column 'stream_id_str' and 'StreamID' after the merge\n",
    "df = df.drop(columns=['stream_id_str', 'StreamID'])\n",
    "df.rename(columns={'strBrickLabel': 'brick_class_in_mapping'}, inplace=True)\n",
    "\n",
    "df.head()"
   ]
  },
  {
   "cell_type": "code",
   "execution_count": 773,
   "metadata": {},
   "outputs": [
    {
     "data": {
      "text/html": [
       "<div>\n",
       "<style scoped>\n",
       "    .dataframe tbody tr th:only-of-type {\n",
       "        vertical-align: middle;\n",
       "    }\n",
       "\n",
       "    .dataframe tbody tr th {\n",
       "        vertical-align: top;\n",
       "    }\n",
       "\n",
       "    .dataframe thead th {\n",
       "        text-align: right;\n",
       "    }\n",
       "</style>\n",
       "<table border=\"1\" class=\"dataframe\">\n",
       "  <thead>\n",
       "    <tr style=\"text-align: right;\">\n",
       "      <th></th>\n",
       "      <th>anonymous_unit</th>\n",
       "      <th>brick_class</th>\n",
       "      <th>entity</th>\n",
       "      <th>stream_id</th>\n",
       "      <th>class_in_provided_brick</th>\n",
       "      <th>class_in_latest_brick</th>\n",
       "      <th>brick_definition</th>\n",
       "      <th>named_unit</th>\n",
       "      <th>unit</th>\n",
       "      <th>unit_is_named</th>\n",
       "      <th>stream_exists_in_mapping</th>\n",
       "      <th>brick_class_in_mapping</th>\n",
       "      <th>brick_class_is_consistent</th>\n",
       "    </tr>\n",
       "  </thead>\n",
       "  <tbody>\n",
       "    <tr>\n",
       "      <th>0</th>\n",
       "      <td>NaN</td>\n",
       "      <td>https://brickschema.org/schema/Brick#Temperatu...</td>\n",
       "      <td>dch:org/df125f8d_93e4_4a4f_bc87_1c4e332f32b8/s...</td>\n",
       "      <td>3dfa2bab_f8f2_485b_80e9_5afdeeac9dc4</td>\n",
       "      <td>True</td>\n",
       "      <td>True</td>\n",
       "      <td>Sets temperature</td>\n",
       "      <td>None</td>\n",
       "      <td>NaN</td>\n",
       "      <td>None</td>\n",
       "      <td>True</td>\n",
       "      <td>Temperature_Setpoint</td>\n",
       "      <td>True</td>\n",
       "    </tr>\n",
       "    <tr>\n",
       "      <th>1</th>\n",
       "      <td>NaN</td>\n",
       "      <td>https://brickschema.org/schema/Brick#Temperatu...</td>\n",
       "      <td>dch:org/df125f8d_93e4_4a4f_bc87_1c4e332f32b8/s...</td>\n",
       "      <td>f9833afd_e8a3_437b_9031_f29b656c94f9</td>\n",
       "      <td>True</td>\n",
       "      <td>True</td>\n",
       "      <td>Sets temperature</td>\n",
       "      <td>None</td>\n",
       "      <td>NaN</td>\n",
       "      <td>None</td>\n",
       "      <td>True</td>\n",
       "      <td>Temperature_Setpoint</td>\n",
       "      <td>True</td>\n",
       "    </tr>\n",
       "    <tr>\n",
       "      <th>2</th>\n",
       "      <td>NaN</td>\n",
       "      <td>https://brickschema.org/schema/Brick#Temperatu...</td>\n",
       "      <td>dch:org/df125f8d_93e4_4a4f_bc87_1c4e332f32b8/s...</td>\n",
       "      <td>141b6d3e_2aaf_4872_81b2_e5be3e5e3b66</td>\n",
       "      <td>True</td>\n",
       "      <td>True</td>\n",
       "      <td>Sets temperature</td>\n",
       "      <td>None</td>\n",
       "      <td>NaN</td>\n",
       "      <td>None</td>\n",
       "      <td>True</td>\n",
       "      <td>Temperature_Setpoint</td>\n",
       "      <td>True</td>\n",
       "    </tr>\n",
       "    <tr>\n",
       "      <th>3</th>\n",
       "      <td>NaN</td>\n",
       "      <td>https://brickschema.org/schema/Brick#Temperatu...</td>\n",
       "      <td>dch:org/df125f8d_93e4_4a4f_bc87_1c4e332f32b8/s...</td>\n",
       "      <td>4e1f9452_b52f_4ce1_a36f_e8a5cc8c3a5d</td>\n",
       "      <td>True</td>\n",
       "      <td>True</td>\n",
       "      <td>Sets temperature</td>\n",
       "      <td>None</td>\n",
       "      <td>NaN</td>\n",
       "      <td>None</td>\n",
       "      <td>True</td>\n",
       "      <td>Temperature_Setpoint</td>\n",
       "      <td>True</td>\n",
       "    </tr>\n",
       "    <tr>\n",
       "      <th>4</th>\n",
       "      <td>NaN</td>\n",
       "      <td>https://brickschema.org/schema/Brick#Temperatu...</td>\n",
       "      <td>dch:org/df125f8d_93e4_4a4f_bc87_1c4e332f32b8/s...</td>\n",
       "      <td>0ace4d2f_11d3_49f0_a61a_2f839ae3208e</td>\n",
       "      <td>True</td>\n",
       "      <td>True</td>\n",
       "      <td>Sets temperature</td>\n",
       "      <td>None</td>\n",
       "      <td>NaN</td>\n",
       "      <td>None</td>\n",
       "      <td>True</td>\n",
       "      <td>Temperature_Setpoint</td>\n",
       "      <td>True</td>\n",
       "    </tr>\n",
       "  </tbody>\n",
       "</table>\n",
       "</div>"
      ],
      "text/plain": [
       "  anonymous_unit                                        brick_class  \\\n",
       "0            NaN  https://brickschema.org/schema/Brick#Temperatu...   \n",
       "1            NaN  https://brickschema.org/schema/Brick#Temperatu...   \n",
       "2            NaN  https://brickschema.org/schema/Brick#Temperatu...   \n",
       "3            NaN  https://brickschema.org/schema/Brick#Temperatu...   \n",
       "4            NaN  https://brickschema.org/schema/Brick#Temperatu...   \n",
       "\n",
       "                                              entity  \\\n",
       "0  dch:org/df125f8d_93e4_4a4f_bc87_1c4e332f32b8/s...   \n",
       "1  dch:org/df125f8d_93e4_4a4f_bc87_1c4e332f32b8/s...   \n",
       "2  dch:org/df125f8d_93e4_4a4f_bc87_1c4e332f32b8/s...   \n",
       "3  dch:org/df125f8d_93e4_4a4f_bc87_1c4e332f32b8/s...   \n",
       "4  dch:org/df125f8d_93e4_4a4f_bc87_1c4e332f32b8/s...   \n",
       "\n",
       "                              stream_id  class_in_provided_brick  \\\n",
       "0  3dfa2bab_f8f2_485b_80e9_5afdeeac9dc4                     True   \n",
       "1  f9833afd_e8a3_437b_9031_f29b656c94f9                     True   \n",
       "2  141b6d3e_2aaf_4872_81b2_e5be3e5e3b66                     True   \n",
       "3  4e1f9452_b52f_4ce1_a36f_e8a5cc8c3a5d                     True   \n",
       "4  0ace4d2f_11d3_49f0_a61a_2f839ae3208e                     True   \n",
       "\n",
       "   class_in_latest_brick  brick_definition named_unit unit unit_is_named  \\\n",
       "0                   True  Sets temperature       None  NaN          None   \n",
       "1                   True  Sets temperature       None  NaN          None   \n",
       "2                   True  Sets temperature       None  NaN          None   \n",
       "3                   True  Sets temperature       None  NaN          None   \n",
       "4                   True  Sets temperature       None  NaN          None   \n",
       "\n",
       "  stream_exists_in_mapping brick_class_in_mapping brick_class_is_consistent  \n",
       "0                     True   Temperature_Setpoint                      True  \n",
       "1                     True   Temperature_Setpoint                      True  \n",
       "2                     True   Temperature_Setpoint                      True  \n",
       "3                     True   Temperature_Setpoint                      True  \n",
       "4                     True   Temperature_Setpoint                      True  "
      ]
     },
     "execution_count": 773,
     "metadata": {},
     "output_type": "execute_result"
    }
   ],
   "source": [
    "df['brick_class_fragment'] = df['brick_class'].apply(lambda x: str(x.fragment) if x is not None else None)\n",
    "\n",
    "df['brick_class_is_consistent'] = np.where(\n",
    "    pd.isna(df['brick_class_in_mapping']),  # Check if brick_class_in_mapping is empty\n",
    "    None,  # Leave empty where there's no mapping value\n",
    "    df['brick_class_fragment'] == df['brick_class_in_mapping']  # Compare fragment with the mapping\n",
    ")\n",
    "\n",
    "df.drop(columns=['brick_class_fragment'], inplace=True)\n",
    "\n",
    "df.head()"
   ]
  },
  {
   "cell_type": "code",
   "execution_count": 774,
   "metadata": {},
   "outputs": [],
   "source": [
    "def defrag_uri(s):\n",
    "    if isinstance(s, rdflib.term.URIRef):\n",
    "        if '#' in s:\n",
    "            return s.fragment\n",
    "        elif '/' in s:\n",
    "            return s.split('/')[-1]\n",
    "    return s"
   ]
  },
  {
   "cell_type": "code",
   "execution_count": 775,
   "metadata": {},
   "outputs": [],
   "source": [
    "for col in df.columns:\n",
    "    df[col] = df[col].apply(defrag_uri)"
   ]
  },
  {
   "cell_type": "code",
   "execution_count": 776,
   "metadata": {},
   "outputs": [],
   "source": [
    "df.to_csv('model_quality.csv', index=False)"
   ]
  },
  {
   "cell_type": "markdown",
   "metadata": {},
   "source": [
    "---\n",
    "# VISUALISATION"
   ]
  },
  {
   "cell_type": "code",
   "execution_count": 777,
   "metadata": {},
   "outputs": [],
   "source": [
    "# import plotly.express as px\n",
    "import plotly.graph_objects as go\n",
    "from plotly.subplots import make_subplots"
   ]
  },
  {
   "cell_type": "markdown",
   "metadata": {},
   "source": [
    "## Brick Entities in Building Model Recognised by Brick Schema"
   ]
  },
  {
   "cell_type": "code",
   "execution_count": 778,
   "metadata": {},
   "outputs": [
    {
     "data": {
      "text/html": [
       "<div>\n",
       "<style scoped>\n",
       "    .dataframe tbody tr th:only-of-type {\n",
       "        vertical-align: middle;\n",
       "    }\n",
       "\n",
       "    .dataframe tbody tr th {\n",
       "        vertical-align: top;\n",
       "    }\n",
       "\n",
       "    .dataframe thead th {\n",
       "        text-align: right;\n",
       "    }\n",
       "</style>\n",
       "<table border=\"1\" class=\"dataframe\">\n",
       "  <thead>\n",
       "    <tr style=\"text-align: right;\">\n",
       "      <th></th>\n",
       "      <th>brick_class</th>\n",
       "      <th>entity</th>\n",
       "      <th>class_in_provided_brick</th>\n",
       "    </tr>\n",
       "  </thead>\n",
       "  <tbody>\n",
       "    <tr>\n",
       "      <th>957</th>\n",
       "      <td>Electrical_Circuit</td>\n",
       "      <td>4e5f09a8_0b2e_4c60_a6da_f7d332d6808e</td>\n",
       "      <td>False</td>\n",
       "    </tr>\n",
       "    <tr>\n",
       "      <th>960</th>\n",
       "      <td>Electrical_Circuit</td>\n",
       "      <td>4f525a1e_69b2_4fff_be62_16b262d3724b</td>\n",
       "      <td>False</td>\n",
       "    </tr>\n",
       "    <tr>\n",
       "      <th>956</th>\n",
       "      <td>Electrical_Circuit</td>\n",
       "      <td>6dc225a8_753e_4e47_8528_a3c03ea4e496</td>\n",
       "      <td>False</td>\n",
       "    </tr>\n",
       "    <tr>\n",
       "      <th>961</th>\n",
       "      <td>Electrical_Circuit</td>\n",
       "      <td>a4bcf16d_a84e_414e_b9c1_603c3d10cb3e</td>\n",
       "      <td>False</td>\n",
       "    </tr>\n",
       "    <tr>\n",
       "      <th>959</th>\n",
       "      <td>Electrical_Circuit</td>\n",
       "      <td>d8d2f843_6cc8_4b62_892e_5e67b56be41c</td>\n",
       "      <td>False</td>\n",
       "    </tr>\n",
       "  </tbody>\n",
       "</table>\n",
       "</div>"
      ],
      "text/plain": [
       "            brick_class                                entity  \\\n",
       "957  Electrical_Circuit  4e5f09a8_0b2e_4c60_a6da_f7d332d6808e   \n",
       "960  Electrical_Circuit  4f525a1e_69b2_4fff_be62_16b262d3724b   \n",
       "956  Electrical_Circuit  6dc225a8_753e_4e47_8528_a3c03ea4e496   \n",
       "961  Electrical_Circuit  a4bcf16d_a84e_414e_b9c1_603c3d10cb3e   \n",
       "959  Electrical_Circuit  d8d2f843_6cc8_4b62_892e_5e67b56be41c   \n",
       "\n",
       "     class_in_provided_brick  \n",
       "957                    False  \n",
       "960                    False  \n",
       "956                    False  \n",
       "961                    False  \n",
       "959                    False  "
      ]
     },
     "execution_count": 778,
     "metadata": {},
     "output_type": "execute_result"
    }
   ],
   "source": [
    "entity_in_provided_brick = df[['brick_class', 'entity', 'class_in_provided_brick']].copy()\n",
    "entity_in_provided_brick.sort_values(by=['class_in_provided_brick', 'brick_class', 'entity'], inplace=True)\n",
    "entity_in_provided_brick.head()"
   ]
  },
  {
   "cell_type": "code",
   "execution_count": 779,
   "metadata": {
    "vscode": {
     "languageId": "javascript"
    }
   },
   "outputs": [
    {
     "data": {
      "text/html": [
       "<div>\n",
       "<style scoped>\n",
       "    .dataframe tbody tr th:only-of-type {\n",
       "        vertical-align: middle;\n",
       "    }\n",
       "\n",
       "    .dataframe tbody tr th {\n",
       "        vertical-align: top;\n",
       "    }\n",
       "\n",
       "    .dataframe thead th {\n",
       "        text-align: right;\n",
       "    }\n",
       "</style>\n",
       "<table border=\"1\" class=\"dataframe\">\n",
       "  <thead>\n",
       "    <tr style=\"text-align: right;\">\n",
       "      <th></th>\n",
       "      <th>class_in_provided_brick</th>\n",
       "      <th>brick_class</th>\n",
       "    </tr>\n",
       "  </thead>\n",
       "  <tbody>\n",
       "    <tr>\n",
       "      <th>0</th>\n",
       "      <td>Unrecognised</td>\n",
       "      <td>55</td>\n",
       "    </tr>\n",
       "    <tr>\n",
       "      <th>1</th>\n",
       "      <td>Recognised</td>\n",
       "      <td>1060</td>\n",
       "    </tr>\n",
       "  </tbody>\n",
       "</table>\n",
       "</div>"
      ],
      "text/plain": [
       "  class_in_provided_brick  brick_class\n",
       "0            Unrecognised           55\n",
       "1              Recognised         1060"
      ]
     },
     "execution_count": 779,
     "metadata": {},
     "output_type": "execute_result"
    }
   ],
   "source": [
    "to_plot = entity_in_provided_brick[['brick_class', 'class_in_provided_brick']].groupby('class_in_provided_brick').count()\n",
    "to_plot.reset_index(inplace=True)\n",
    "to_plot['class_in_provided_brick'] = to_plot['class_in_provided_brick'].apply(lambda x: 'Recognised' if x else 'Unrecognised')\n",
    "to_plot.head()"
   ]
  },
  {
   "cell_type": "code",
   "execution_count": 780,
   "metadata": {},
   "outputs": [
    {
     "data": {
      "application/vnd.plotly.v1+json": {
       "config": {
        "plotlyServerURL": "https://plot.ly"
       },
       "data": [
        {
         "domain": {
          "x": [
           0,
           1
          ],
          "y": [
           0,
           1
          ]
         },
         "hovertemplate": "Class=%{label}<br>Number of Entities=%{value}<extra></extra>",
         "labels": [
          "Unrecognised",
          "Recognised"
         ],
         "legendgroup": "",
         "name": "",
         "showlegend": true,
         "textinfo": "percent+label",
         "textposition": "inside",
         "type": "pie",
         "values": [
          55,
          1060
         ]
        }
       ],
       "layout": {
        "legend": {
         "tracegroupgap": 0
        },
        "template": {
         "data": {
          "bar": [
           {
            "error_x": {
             "color": "#2a3f5f"
            },
            "error_y": {
             "color": "#2a3f5f"
            },
            "marker": {
             "line": {
              "color": "#E5ECF6",
              "width": 0.5
             },
             "pattern": {
              "fillmode": "overlay",
              "size": 10,
              "solidity": 0.2
             }
            },
            "type": "bar"
           }
          ],
          "barpolar": [
           {
            "marker": {
             "line": {
              "color": "#E5ECF6",
              "width": 0.5
             },
             "pattern": {
              "fillmode": "overlay",
              "size": 10,
              "solidity": 0.2
             }
            },
            "type": "barpolar"
           }
          ],
          "carpet": [
           {
            "aaxis": {
             "endlinecolor": "#2a3f5f",
             "gridcolor": "white",
             "linecolor": "white",
             "minorgridcolor": "white",
             "startlinecolor": "#2a3f5f"
            },
            "baxis": {
             "endlinecolor": "#2a3f5f",
             "gridcolor": "white",
             "linecolor": "white",
             "minorgridcolor": "white",
             "startlinecolor": "#2a3f5f"
            },
            "type": "carpet"
           }
          ],
          "choropleth": [
           {
            "colorbar": {
             "outlinewidth": 0,
             "ticks": ""
            },
            "type": "choropleth"
           }
          ],
          "contour": [
           {
            "colorbar": {
             "outlinewidth": 0,
             "ticks": ""
            },
            "colorscale": [
             [
              0,
              "#0d0887"
             ],
             [
              0.1111111111111111,
              "#46039f"
             ],
             [
              0.2222222222222222,
              "#7201a8"
             ],
             [
              0.3333333333333333,
              "#9c179e"
             ],
             [
              0.4444444444444444,
              "#bd3786"
             ],
             [
              0.5555555555555556,
              "#d8576b"
             ],
             [
              0.6666666666666666,
              "#ed7953"
             ],
             [
              0.7777777777777778,
              "#fb9f3a"
             ],
             [
              0.8888888888888888,
              "#fdca26"
             ],
             [
              1,
              "#f0f921"
             ]
            ],
            "type": "contour"
           }
          ],
          "contourcarpet": [
           {
            "colorbar": {
             "outlinewidth": 0,
             "ticks": ""
            },
            "type": "contourcarpet"
           }
          ],
          "heatmap": [
           {
            "colorbar": {
             "outlinewidth": 0,
             "ticks": ""
            },
            "colorscale": [
             [
              0,
              "#0d0887"
             ],
             [
              0.1111111111111111,
              "#46039f"
             ],
             [
              0.2222222222222222,
              "#7201a8"
             ],
             [
              0.3333333333333333,
              "#9c179e"
             ],
             [
              0.4444444444444444,
              "#bd3786"
             ],
             [
              0.5555555555555556,
              "#d8576b"
             ],
             [
              0.6666666666666666,
              "#ed7953"
             ],
             [
              0.7777777777777778,
              "#fb9f3a"
             ],
             [
              0.8888888888888888,
              "#fdca26"
             ],
             [
              1,
              "#f0f921"
             ]
            ],
            "type": "heatmap"
           }
          ],
          "heatmapgl": [
           {
            "colorbar": {
             "outlinewidth": 0,
             "ticks": ""
            },
            "colorscale": [
             [
              0,
              "#0d0887"
             ],
             [
              0.1111111111111111,
              "#46039f"
             ],
             [
              0.2222222222222222,
              "#7201a8"
             ],
             [
              0.3333333333333333,
              "#9c179e"
             ],
             [
              0.4444444444444444,
              "#bd3786"
             ],
             [
              0.5555555555555556,
              "#d8576b"
             ],
             [
              0.6666666666666666,
              "#ed7953"
             ],
             [
              0.7777777777777778,
              "#fb9f3a"
             ],
             [
              0.8888888888888888,
              "#fdca26"
             ],
             [
              1,
              "#f0f921"
             ]
            ],
            "type": "heatmapgl"
           }
          ],
          "histogram": [
           {
            "marker": {
             "pattern": {
              "fillmode": "overlay",
              "size": 10,
              "solidity": 0.2
             }
            },
            "type": "histogram"
           }
          ],
          "histogram2d": [
           {
            "colorbar": {
             "outlinewidth": 0,
             "ticks": ""
            },
            "colorscale": [
             [
              0,
              "#0d0887"
             ],
             [
              0.1111111111111111,
              "#46039f"
             ],
             [
              0.2222222222222222,
              "#7201a8"
             ],
             [
              0.3333333333333333,
              "#9c179e"
             ],
             [
              0.4444444444444444,
              "#bd3786"
             ],
             [
              0.5555555555555556,
              "#d8576b"
             ],
             [
              0.6666666666666666,
              "#ed7953"
             ],
             [
              0.7777777777777778,
              "#fb9f3a"
             ],
             [
              0.8888888888888888,
              "#fdca26"
             ],
             [
              1,
              "#f0f921"
             ]
            ],
            "type": "histogram2d"
           }
          ],
          "histogram2dcontour": [
           {
            "colorbar": {
             "outlinewidth": 0,
             "ticks": ""
            },
            "colorscale": [
             [
              0,
              "#0d0887"
             ],
             [
              0.1111111111111111,
              "#46039f"
             ],
             [
              0.2222222222222222,
              "#7201a8"
             ],
             [
              0.3333333333333333,
              "#9c179e"
             ],
             [
              0.4444444444444444,
              "#bd3786"
             ],
             [
              0.5555555555555556,
              "#d8576b"
             ],
             [
              0.6666666666666666,
              "#ed7953"
             ],
             [
              0.7777777777777778,
              "#fb9f3a"
             ],
             [
              0.8888888888888888,
              "#fdca26"
             ],
             [
              1,
              "#f0f921"
             ]
            ],
            "type": "histogram2dcontour"
           }
          ],
          "mesh3d": [
           {
            "colorbar": {
             "outlinewidth": 0,
             "ticks": ""
            },
            "type": "mesh3d"
           }
          ],
          "parcoords": [
           {
            "line": {
             "colorbar": {
              "outlinewidth": 0,
              "ticks": ""
             }
            },
            "type": "parcoords"
           }
          ],
          "pie": [
           {
            "automargin": true,
            "type": "pie"
           }
          ],
          "scatter": [
           {
            "fillpattern": {
             "fillmode": "overlay",
             "size": 10,
             "solidity": 0.2
            },
            "type": "scatter"
           }
          ],
          "scatter3d": [
           {
            "line": {
             "colorbar": {
              "outlinewidth": 0,
              "ticks": ""
             }
            },
            "marker": {
             "colorbar": {
              "outlinewidth": 0,
              "ticks": ""
             }
            },
            "type": "scatter3d"
           }
          ],
          "scattercarpet": [
           {
            "marker": {
             "colorbar": {
              "outlinewidth": 0,
              "ticks": ""
             }
            },
            "type": "scattercarpet"
           }
          ],
          "scattergeo": [
           {
            "marker": {
             "colorbar": {
              "outlinewidth": 0,
              "ticks": ""
             }
            },
            "type": "scattergeo"
           }
          ],
          "scattergl": [
           {
            "marker": {
             "colorbar": {
              "outlinewidth": 0,
              "ticks": ""
             }
            },
            "type": "scattergl"
           }
          ],
          "scattermapbox": [
           {
            "marker": {
             "colorbar": {
              "outlinewidth": 0,
              "ticks": ""
             }
            },
            "type": "scattermapbox"
           }
          ],
          "scatterpolar": [
           {
            "marker": {
             "colorbar": {
              "outlinewidth": 0,
              "ticks": ""
             }
            },
            "type": "scatterpolar"
           }
          ],
          "scatterpolargl": [
           {
            "marker": {
             "colorbar": {
              "outlinewidth": 0,
              "ticks": ""
             }
            },
            "type": "scatterpolargl"
           }
          ],
          "scatterternary": [
           {
            "marker": {
             "colorbar": {
              "outlinewidth": 0,
              "ticks": ""
             }
            },
            "type": "scatterternary"
           }
          ],
          "surface": [
           {
            "colorbar": {
             "outlinewidth": 0,
             "ticks": ""
            },
            "colorscale": [
             [
              0,
              "#0d0887"
             ],
             [
              0.1111111111111111,
              "#46039f"
             ],
             [
              0.2222222222222222,
              "#7201a8"
             ],
             [
              0.3333333333333333,
              "#9c179e"
             ],
             [
              0.4444444444444444,
              "#bd3786"
             ],
             [
              0.5555555555555556,
              "#d8576b"
             ],
             [
              0.6666666666666666,
              "#ed7953"
             ],
             [
              0.7777777777777778,
              "#fb9f3a"
             ],
             [
              0.8888888888888888,
              "#fdca26"
             ],
             [
              1,
              "#f0f921"
             ]
            ],
            "type": "surface"
           }
          ],
          "table": [
           {
            "cells": {
             "fill": {
              "color": "#EBF0F8"
             },
             "line": {
              "color": "white"
             }
            },
            "header": {
             "fill": {
              "color": "#C8D4E3"
             },
             "line": {
              "color": "white"
             }
            },
            "type": "table"
           }
          ]
         },
         "layout": {
          "annotationdefaults": {
           "arrowcolor": "#2a3f5f",
           "arrowhead": 0,
           "arrowwidth": 1
          },
          "autotypenumbers": "strict",
          "coloraxis": {
           "colorbar": {
            "outlinewidth": 0,
            "ticks": ""
           }
          },
          "colorscale": {
           "diverging": [
            [
             0,
             "#8e0152"
            ],
            [
             0.1,
             "#c51b7d"
            ],
            [
             0.2,
             "#de77ae"
            ],
            [
             0.3,
             "#f1b6da"
            ],
            [
             0.4,
             "#fde0ef"
            ],
            [
             0.5,
             "#f7f7f7"
            ],
            [
             0.6,
             "#e6f5d0"
            ],
            [
             0.7,
             "#b8e186"
            ],
            [
             0.8,
             "#7fbc41"
            ],
            [
             0.9,
             "#4d9221"
            ],
            [
             1,
             "#276419"
            ]
           ],
           "sequential": [
            [
             0,
             "#0d0887"
            ],
            [
             0.1111111111111111,
             "#46039f"
            ],
            [
             0.2222222222222222,
             "#7201a8"
            ],
            [
             0.3333333333333333,
             "#9c179e"
            ],
            [
             0.4444444444444444,
             "#bd3786"
            ],
            [
             0.5555555555555556,
             "#d8576b"
            ],
            [
             0.6666666666666666,
             "#ed7953"
            ],
            [
             0.7777777777777778,
             "#fb9f3a"
            ],
            [
             0.8888888888888888,
             "#fdca26"
            ],
            [
             1,
             "#f0f921"
            ]
           ],
           "sequentialminus": [
            [
             0,
             "#0d0887"
            ],
            [
             0.1111111111111111,
             "#46039f"
            ],
            [
             0.2222222222222222,
             "#7201a8"
            ],
            [
             0.3333333333333333,
             "#9c179e"
            ],
            [
             0.4444444444444444,
             "#bd3786"
            ],
            [
             0.5555555555555556,
             "#d8576b"
            ],
            [
             0.6666666666666666,
             "#ed7953"
            ],
            [
             0.7777777777777778,
             "#fb9f3a"
            ],
            [
             0.8888888888888888,
             "#fdca26"
            ],
            [
             1,
             "#f0f921"
            ]
           ]
          },
          "colorway": [
           "#636efa",
           "#EF553B",
           "#00cc96",
           "#ab63fa",
           "#FFA15A",
           "#19d3f3",
           "#FF6692",
           "#B6E880",
           "#FF97FF",
           "#FECB52"
          ],
          "font": {
           "color": "#2a3f5f"
          },
          "geo": {
           "bgcolor": "white",
           "lakecolor": "white",
           "landcolor": "#E5ECF6",
           "showlakes": true,
           "showland": true,
           "subunitcolor": "white"
          },
          "hoverlabel": {
           "align": "left"
          },
          "hovermode": "closest",
          "mapbox": {
           "style": "light"
          },
          "paper_bgcolor": "white",
          "plot_bgcolor": "#E5ECF6",
          "polar": {
           "angularaxis": {
            "gridcolor": "white",
            "linecolor": "white",
            "ticks": ""
           },
           "bgcolor": "#E5ECF6",
           "radialaxis": {
            "gridcolor": "white",
            "linecolor": "white",
            "ticks": ""
           }
          },
          "scene": {
           "xaxis": {
            "backgroundcolor": "#E5ECF6",
            "gridcolor": "white",
            "gridwidth": 2,
            "linecolor": "white",
            "showbackground": true,
            "ticks": "",
            "zerolinecolor": "white"
           },
           "yaxis": {
            "backgroundcolor": "#E5ECF6",
            "gridcolor": "white",
            "gridwidth": 2,
            "linecolor": "white",
            "showbackground": true,
            "ticks": "",
            "zerolinecolor": "white"
           },
           "zaxis": {
            "backgroundcolor": "#E5ECF6",
            "gridcolor": "white",
            "gridwidth": 2,
            "linecolor": "white",
            "showbackground": true,
            "ticks": "",
            "zerolinecolor": "white"
           }
          },
          "shapedefaults": {
           "line": {
            "color": "#2a3f5f"
           }
          },
          "ternary": {
           "aaxis": {
            "gridcolor": "white",
            "linecolor": "white",
            "ticks": ""
           },
           "baxis": {
            "gridcolor": "white",
            "linecolor": "white",
            "ticks": ""
           },
           "bgcolor": "#E5ECF6",
           "caxis": {
            "gridcolor": "white",
            "linecolor": "white",
            "ticks": ""
           }
          },
          "title": {
           "x": 0.05
          },
          "xaxis": {
           "automargin": true,
           "gridcolor": "white",
           "linecolor": "white",
           "ticks": "",
           "title": {
            "standoff": 15
           },
           "zerolinecolor": "white",
           "zerolinewidth": 2
          },
          "yaxis": {
           "automargin": true,
           "gridcolor": "white",
           "linecolor": "white",
           "ticks": "",
           "title": {
            "standoff": 15
           },
           "zerolinecolor": "white",
           "zerolinewidth": 2
          }
         }
        },
        "title": {
         "text": "Proportion of Brick Entities Recognised by Provided Brick Schema"
        }
       }
      }
     },
     "metadata": {},
     "output_type": "display_data"
    }
   ],
   "source": [
    "import plotly.express as px\n",
    "fig = px.pie(to_plot, values='brick_class', names='class_in_provided_brick',\n",
    "             title='Proportion of Brick Entities Recognised by Provided Brick Schema',\n",
    "            #  hover_data={'brick_class': True, 'class_in_provided_brick': False}, \n",
    "            #  hover_data={'brick_class': True, 'class_in_provided_brick': False}, \n",
    "            #  labels={'brick_class':'Number of Entities'})\n",
    "             labels={'class_in_provided_brick': 'Class', 'brick_class':'Number of Entities'})\n",
    "fig.update_traces(textposition='inside', textinfo='percent+label')\n",
    "fig.show()"
   ]
  },
  {
   "cell_type": "code",
   "execution_count": 781,
   "metadata": {},
   "outputs": [
    {
     "data": {
      "text/html": [
       "<div>\n",
       "<style scoped>\n",
       "    .dataframe tbody tr th:only-of-type {\n",
       "        vertical-align: middle;\n",
       "    }\n",
       "\n",
       "    .dataframe tbody tr th {\n",
       "        vertical-align: top;\n",
       "    }\n",
       "\n",
       "    .dataframe thead th {\n",
       "        text-align: right;\n",
       "    }\n",
       "</style>\n",
       "<table border=\"1\" class=\"dataframe\">\n",
       "  <thead>\n",
       "    <tr style=\"text-align: right;\">\n",
       "      <th></th>\n",
       "      <th>brick_class</th>\n",
       "      <th>class_in_provided_brick</th>\n",
       "    </tr>\n",
       "  </thead>\n",
       "  <tbody>\n",
       "    <tr>\n",
       "      <th>957</th>\n",
       "      <td>Electrical_Circuit</td>\n",
       "      <td>Unrecognised</td>\n",
       "    </tr>\n",
       "    <tr>\n",
       "      <th>960</th>\n",
       "      <td>Electrical_Circuit</td>\n",
       "      <td>Unrecognised</td>\n",
       "    </tr>\n",
       "    <tr>\n",
       "      <th>956</th>\n",
       "      <td>Electrical_Circuit</td>\n",
       "      <td>Unrecognised</td>\n",
       "    </tr>\n",
       "    <tr>\n",
       "      <th>961</th>\n",
       "      <td>Electrical_Circuit</td>\n",
       "      <td>Unrecognised</td>\n",
       "    </tr>\n",
       "    <tr>\n",
       "      <th>959</th>\n",
       "      <td>Electrical_Circuit</td>\n",
       "      <td>Unrecognised</td>\n",
       "    </tr>\n",
       "  </tbody>\n",
       "</table>\n",
       "</div>"
      ],
      "text/plain": [
       "            brick_class class_in_provided_brick\n",
       "957  Electrical_Circuit            Unrecognised\n",
       "960  Electrical_Circuit            Unrecognised\n",
       "956  Electrical_Circuit            Unrecognised\n",
       "961  Electrical_Circuit            Unrecognised\n",
       "959  Electrical_Circuit            Unrecognised"
      ]
     },
     "execution_count": 781,
     "metadata": {},
     "output_type": "execute_result"
    }
   ],
   "source": [
    "to_plot = entity_in_provided_brick[['brick_class', 'class_in_provided_brick']].copy()\n",
    "# to_plot.reset_index(inplace=True)\n",
    "to_plot['class_in_provided_brick'] = to_plot['class_in_provided_brick'].apply(lambda x: 'Recognised' if x else 'Unrecognised')\n",
    "to_plot.head()"
   ]
  },
  {
   "cell_type": "code",
   "execution_count": 782,
   "metadata": {},
   "outputs": [
    {
     "data": {
      "application/vnd.plotly.v1+json": {
       "config": {
        "plotlyServerURL": "https://plot.ly"
       },
       "data": [
        {
         "domain": {
          "x": [
           0,
           1
          ],
          "y": [
           0.515,
           1
          ]
         },
         "labels": [
          "Recognised",
          "Unrecognised"
         ],
         "name": "",
         "textinfo": "percent+label",
         "textposition": "inside",
         "type": "pie",
         "values": [
          1060,
          55
         ]
        },
        {
         "cells": {
          "align": "left",
          "values": [
           [
            "Electrical_Circuit",
            "Electrical_Circuit",
            "Electrical_Circuit",
            "Electrical_Circuit",
            "Electrical_Circuit",
            "Electrical_Circuit",
            "Electrical_Energy_Sensor",
            "Electrical_Energy_Sensor",
            "Electrical_Energy_Sensor",
            "Electrical_Energy_Sensor",
            "Electrical_Energy_Sensor",
            "Electrical_Energy_Sensor",
            "Electrical_Energy_Sensor",
            "Electrical_Energy_Sensor",
            "Electrical_Energy_Sensor",
            "Electrical_Energy_Sensor",
            "Electrical_Energy_Sensor",
            "Electrical_Energy_Sensor",
            "Electrical_Energy_Sensor",
            "Electrical_Energy_Sensor",
            "Electrical_Energy_Sensor",
            "Electrical_Energy_Sensor",
            "Electrical_Energy_Sensor",
            "Electrical_Generation_Meter",
            "Enclosed_space",
            "Enclosed_space",
            "Enclosed_space",
            "Enclosed_space",
            "Enclosed_space",
            "Enclosed_space",
            "Enclosed_space",
            "Enclosed_space",
            "Enclosed_space",
            "Enclosed_space",
            "Open_space",
            "Open_space",
            "Open_space",
            "Open_space",
            "Open_space",
            "Open_space",
            "Open_space",
            "Open_space",
            "Open_space",
            "Shared_space",
            "Solar_Inverter",
            "b1a78aa6_d50d_4c0a_920e_5ff7019ab663_Sensor",
            "b1a78aa6_d50d_4c0a_920e_5ff7019ab663_Sensor",
            "b1a78aa6_d50d_4c0a_920e_5ff7019ab663_Sensor",
            "b1a78aa6_d50d_4c0a_920e_5ff7019ab663_Sensor",
            "b1a78aa6_d50d_4c0a_920e_5ff7019ab663_Sensor",
            "b1a78aa6_d50d_4c0a_920e_5ff7019ab663_Sensor",
            "space",
            "space_Kitchen",
            "space_Kitchen",
            "space_Kitchen",
            "Air_Handler_Unit",
            "Air_Handler_Unit",
            "Air_Handler_Unit",
            "Air_Handler_Unit",
            "Air_Handler_Unit",
            "Air_Temperature_Sensor",
            "Air_Temperature_Sensor",
            "Air_Temperature_Sensor",
            "Air_Temperature_Sensor",
            "Air_Temperature_Sensor",
            "Air_Temperature_Sensor",
            "Air_Temperature_Sensor",
            "Air_Temperature_Sensor",
            "Air_Temperature_Sensor",
            "Air_Temperature_Sensor",
            "Air_Temperature_Sensor",
            "Air_Temperature_Sensor",
            "Air_Temperature_Sensor",
            "Air_Temperature_Sensor",
            "Air_Temperature_Sensor",
            "Air_Temperature_Sensor",
            "Air_Temperature_Sensor",
            "Air_Temperature_Sensor",
            "Air_Temperature_Sensor",
            "Air_Temperature_Sensor",
            "Air_Temperature_Sensor",
            "Air_Temperature_Sensor",
            "Air_Temperature_Sensor",
            "Air_Temperature_Sensor",
            "Air_Temperature_Sensor",
            "Air_Temperature_Sensor",
            "Air_Temperature_Sensor",
            "Air_Temperature_Sensor",
            "Air_Temperature_Sensor",
            "Air_Temperature_Sensor",
            "Air_Temperature_Sensor",
            "Air_Temperature_Sensor",
            "Air_Temperature_Sensor",
            "Air_Temperature_Sensor",
            "Air_Temperature_Sensor",
            "Air_Temperature_Sensor",
            "Air_Temperature_Sensor",
            "Air_Temperature_Sensor",
            "Air_Temperature_Sensor",
            "Air_Temperature_Sensor",
            "Air_Temperature_Sensor",
            "Air_Temperature_Sensor",
            "Air_Temperature_Sensor",
            "Air_Temperature_Sensor",
            "Alarm",
            "Alarm",
            "Angle_Sensor",
            "Angle_Sensor",
            "Angle_Sensor",
            "Average_Zone_Air_Temperature_Sensor",
            "Average_Zone_Air_Temperature_Sensor",
            "Basement",
            "Boiler",
            "Breakroom",
            "Building",
            "Building_Electrical_Meter",
            "Building_Gas_Meter",
            "Building_Water_Meter",
            "Chilled_Water_Differential_Temperature_Sensor",
            "Chilled_Water_Pump",
            "Chilled_Water_System",
            "Chiller",
            "Conference_Room",
            "Conference_Room",
            "Conference_Room",
            "Conference_Room",
            "Conference_Room",
            "Conference_Room",
            "Conference_Room",
            "Conference_Room",
            "Conference_Room",
            "Conference_Room",
            "Conference_Room",
            "Cooling_Coil",
            "Cooling_Coil",
            "Cooling_Coil",
            "Cooling_Coil",
            "Cooling_Coil",
            "Cooling_Coil",
            "Cooling_Coil",
            "Cooling_Coil",
            "Cooling_Coil",
            "Cooling_Coil",
            "Cooling_Coil",
            "Cooling_Coil",
            "Cooling_Coil",
            "Cooling_Coil",
            "Cooling_Coil",
            "Cooling_Coil",
            "Cooling_Coil",
            "Cooling_Coil",
            "Cooling_Command",
            "Cooling_Command",
            "Cooling_Command",
            "Cooling_Command",
            "Cooling_Command",
            "Cooling_Command",
            "Cooling_Demand_Sensor",
            "Cooling_Demand_Setpoint",
            "Cooling_Temperature_Setpoint",
            "Cooling_Temperature_Setpoint",
            "Cooling_Temperature_Setpoint",
            "Cooling_Temperature_Setpoint",
            "Cooling_Temperature_Setpoint",
            "Cooling_Temperature_Setpoint",
            "Cooling_Temperature_Setpoint",
            "Cooling_Temperature_Setpoint",
            "Cooling_Temperature_Setpoint",
            "Cooling_Temperature_Setpoint",
            "Cooling_Temperature_Setpoint",
            "Cooling_Temperature_Setpoint",
            "Cooling_Temperature_Setpoint",
            "Cooling_Temperature_Setpoint",
            "Cooling_Temperature_Setpoint",
            "Cooling_Temperature_Setpoint",
            "Cooling_Temperature_Setpoint",
            "Cooling_Temperature_Setpoint",
            "Cooling_Valve",
            "Cooling_Valve",
            "Cooling_Valve",
            "Cooling_Valve",
            "Cooling_Valve",
            "Cooling_Valve",
            "Cooling_Valve",
            "Cooling_Valve",
            "Cooling_Valve",
            "Cooling_Valve",
            "Cooling_Valve",
            "Cooling_Valve",
            "Cooling_Valve",
            "Cooling_Valve",
            "Cooling_Valve",
            "Cooling_Valve",
            "Cooling_Valve",
            "Cooling_Valve",
            "Copy_Room",
            "Current_Sensor",
            "Current_Sensor",
            "Current_Sensor",
            "Current_Sensor",
            "Current_Sensor",
            "Current_Sensor",
            "Current_Sensor",
            "Current_Sensor",
            "Current_Sensor",
            "Current_Sensor",
            "Current_Sensor",
            "Current_Sensor",
            "Current_Sensor",
            "Current_Sensor",
            "Current_Sensor",
            "Current_Sensor",
            "Current_Sensor",
            "Current_Sensor",
            "Current_Sensor",
            "Current_Sensor",
            "Current_Sensor",
            "Current_Sensor",
            "Current_Sensor",
            "Damper_Position_Sensor",
            "Damper_Position_Sensor",
            "Damper_Position_Sensor",
            "Damper_Position_Sensor",
            "Damper_Position_Sensor",
            "Damper_Position_Sensor",
            "Damper_Position_Sensor",
            "Damper_Position_Sensor",
            "Damper_Position_Sensor",
            "Damper_Position_Sensor",
            "Differential_Pressure_Sensor",
            "Differential_Pressure_Sensor",
            "Differential_Pressure_Setpoint",
            "Differential_Pressure_Setpoint",
            "Differential_Pressure_Setpoint",
            "Differential_Pressure_Setpoint",
            "Differential_Pressure_Setpoint",
            "Differential_Pressure_Setpoint",
            "Differential_Pressure_Setpoint",
            "Differential_Pressure_Setpoint",
            "Differential_Pressure_Setpoint",
            "Differential_Pressure_Setpoint",
            "Discharge_Air_Temperature_Sensor",
            "Discharge_Air_Temperature_Sensor",
            "Discharge_Air_Temperature_Sensor",
            "Discharge_Air_Temperature_Sensor",
            "Discharge_Air_Temperature_Sensor",
            "Discharge_Air_Temperature_Sensor",
            "Discharge_Air_Temperature_Sensor",
            "Discharge_Air_Temperature_Sensor",
            "Discharge_Air_Temperature_Sensor",
            "Discharge_Air_Temperature_Sensor",
            "Discharge_Water_Temperature_Sensor",
            "Discharge_Water_Temperature_Sensor",
            "Domestic_Hot_Water_System",
            "Electrical_Meter",
            "Electrical_Meter",
            "Electrical_Meter",
            "Electrical_Meter",
            "Electrical_Meter",
            "Electrical_Power_Sensor",
            "Electrical_Power_Sensor",
            "Electrical_Power_Sensor",
            "Electrical_Power_Sensor",
            "Electrical_Power_Sensor",
            "Electrical_Power_Sensor",
            "Electrical_Power_Sensor",
            "Electrical_Power_Sensor",
            "Electrical_Power_Sensor",
            "Electrical_Power_Sensor",
            "Electrical_Power_Sensor",
            "Electrical_Power_Sensor",
            "Electrical_Power_Sensor",
            "Electrical_Power_Sensor",
            "Electrical_Power_Sensor",
            "Electrical_Power_Sensor",
            "Electrical_Power_Sensor",
            "Electrical_Power_Sensor",
            "Electrical_Power_Sensor",
            "Electrical_Power_Sensor",
            "Electrical_Power_Sensor",
            "Electrical_Power_Sensor",
            "Electrical_Power_Sensor",
            "Electrical_Power_Sensor",
            "Electrical_Power_Sensor",
            "Electrical_Power_Sensor",
            "Electrical_Power_Sensor",
            "Electrical_Power_Sensor",
            "Electrical_Power_Sensor",
            "Electrical_Power_Sensor",
            "Electrical_Power_Sensor",
            "Electrical_Power_Sensor",
            "Electrical_Power_Sensor",
            "Electrical_Power_Sensor",
            "Electrical_Power_Sensor",
            "Electrical_Power_Sensor",
            "Electrical_Power_Sensor",
            "Electrical_Power_Sensor",
            "Electrical_Power_Sensor",
            "Elevator",
            "Emergency_Alarm",
            "Emergency_Alarm",
            "Emergency_Alarm",
            "Enable_Status",
            "Enable_Status",
            "Enable_Status",
            "Enable_Status",
            "Enable_Status",
            "Enable_Status",
            "Enable_Status",
            "Enable_Status",
            "Enable_Status",
            "Enable_Status",
            "Enable_Status",
            "Enable_Status",
            "Enable_Status",
            "Enable_Status",
            "Enable_Status",
            "Enable_Status",
            "Enable_Status",
            "Enable_Status",
            "Enable_Status",
            "Enable_Status",
            "Enable_Status",
            "Enable_Status",
            "Enable_Status",
            "Enable_Status",
            "Enable_Status",
            "Enable_Status",
            "Enable_Status",
            "Enable_Status",
            "Enable_Status",
            "Enable_Status",
            "Enable_Status",
            "Enable_Status",
            "Enable_Status",
            "Enable_Status",
            "Enable_Status",
            "Enable_Status",
            "Enable_Status",
            "Enable_Status",
            "Enable_Status",
            "Enable_Status",
            "Enable_Status",
            "Enable_Status",
            "Enable_Status",
            "Enable_Status",
            "Exhaust_Fan",
            "Exhaust_Fan",
            "Exhaust_Fan",
            "Exhaust_Fan",
            "Exhaust_Fan",
            "Fan_Coil_Unit",
            "Fan_Coil_Unit",
            "Fan_Coil_Unit",
            "Fan_Coil_Unit",
            "Fan_Coil_Unit",
            "Fan_Coil_Unit",
            "Fan_Coil_Unit",
            "Fan_Coil_Unit",
            "Fan_Coil_Unit",
            "Fan_Coil_Unit",
            "Fan_Coil_Unit",
            "Fan_Coil_Unit",
            "Fan_Coil_Unit",
            "Fault_Status",
            "Fault_Status",
            "Filter",
            "Filter",
            "Filter",
            "Filter",
            "Filter",
            "Filter",
            "Filter",
            "Filter",
            "Filter",
            "Filter",
            "Filter_Differential_Pressure_Sensor",
            "Filter_Differential_Pressure_Sensor",
            "Filter_Differential_Pressure_Sensor",
            "Filter_Differential_Pressure_Sensor",
            "Filter_Differential_Pressure_Sensor",
            "Filter_Differential_Pressure_Sensor",
            "Filter_Differential_Pressure_Sensor",
            "Filter_Differential_Pressure_Sensor",
            "Filter_Differential_Pressure_Sensor",
            "Filter_Differential_Pressure_Sensor",
            "Fire_Control_Panel",
            "Floor",
            "Floor",
            "Fresh_Air_Fan",
            "Fresh_Air_Fan",
            "Fresh_Air_Fan",
            "Fresh_Air_Fan",
            "Gas_Meter",
            "HVAC_Zone",
            "HVAC_Zone",
            "HVAC_Zone",
            "HVAC_Zone",
            "HVAC_Zone",
            "HVAC_Zone",
            "HVAC_Zone",
            "HVAC_Zone",
            "HVAC_Zone",
            "HVAC_Zone",
            "HVAC_Zone",
            "HVAC_Zone",
            "HVAC_Zone",
            "HVAC_Zone",
            "HVAC_Zone",
            "HVAC_Zone",
            "HVAC_Zone",
            "HVAC_Zone",
            "Hallway",
            "Hallway",
            "Hallway",
            "Hallway",
            "Hallway",
            "Hallway",
            "Hallway",
            "Hallway",
            "Hallway",
            "Hallway",
            "Hallway",
            "Heating_Coil",
            "Heating_Coil",
            "Heating_Coil",
            "Heating_Coil",
            "Heating_Coil",
            "Heating_Coil",
            "Heating_Coil",
            "Heating_Coil",
            "Heating_Coil",
            "Heating_Coil",
            "Heating_Coil",
            "Heating_Coil",
            "Heating_Coil",
            "Heating_Coil",
            "Heating_Coil",
            "Heating_Coil",
            "Heating_Coil",
            "Heating_Coil",
            "Heating_Command",
            "Heating_Command",
            "Heating_Command",
            "Heating_Command",
            "Heating_Command",
            "Heating_Demand_Sensor",
            "Heating_Demand_Setpoint",
            "Heating_Temperature_Setpoint",
            "Heating_Temperature_Setpoint",
            "Heating_Temperature_Setpoint",
            "Heating_Temperature_Setpoint",
            "Heating_Temperature_Setpoint",
            "Heating_Temperature_Setpoint",
            "Heating_Temperature_Setpoint",
            "Heating_Temperature_Setpoint",
            "Heating_Temperature_Setpoint",
            "Heating_Temperature_Setpoint",
            "Heating_Temperature_Setpoint",
            "Heating_Temperature_Setpoint",
            "Heating_Temperature_Setpoint",
            "Heating_Temperature_Setpoint",
            "Heating_Temperature_Setpoint",
            "Heating_Temperature_Setpoint",
            "Heating_Temperature_Setpoint",
            "Heating_Temperature_Setpoint",
            "Heating_Valve",
            "Heating_Valve",
            "Heating_Valve",
            "Heating_Valve",
            "Heating_Valve",
            "Heating_Valve",
            "Heating_Valve",
            "Heating_Valve",
            "Heating_Valve",
            "Heating_Valve",
            "Heating_Valve",
            "Heating_Valve",
            "Heating_Valve",
            "Heating_Valve",
            "Heating_Valve",
            "Heating_Valve",
            "Heating_Valve",
            "Heating_Valve",
            "Hot_Water_Pump",
            "Hot_Water_System",
            "Janitor_Room",
            "Library",
            "Lobby",
            "Lobby",
            "Lobby",
            "Low_Outside_Air_Temperature_Enable_Setpoint",
            "Low_Outside_Air_Temperature_Enable_Setpoint",
            "Low_Outside_Air_Temperature_Enable_Setpoint",
            "Low_Outside_Air_Temperature_Enable_Setpoint",
            "Low_Outside_Air_Temperature_Enable_Setpoint",
            "Max_Discharge_Air_Temperature_Setpoint_Limit",
            "Max_Discharge_Air_Temperature_Setpoint_Limit",
            "Max_Discharge_Air_Temperature_Setpoint_Limit",
            "Max_Discharge_Air_Temperature_Setpoint_Limit",
            "Max_Discharge_Air_Temperature_Setpoint_Limit",
            "Max_Discharge_Air_Temperature_Setpoint_Limit",
            "Max_Discharge_Air_Temperature_Setpoint_Limit",
            "Max_Discharge_Air_Temperature_Setpoint_Limit",
            "Max_Discharge_Air_Temperature_Setpoint_Limit",
            "Max_Discharge_Air_Temperature_Setpoint_Limit",
            "Max_Temperature_Setpoint_Limit",
            "Max_Temperature_Setpoint_Limit",
            "Max_Temperature_Setpoint_Limit",
            "Max_Temperature_Setpoint_Limit",
            "Max_Temperature_Setpoint_Limit",
            "Max_Temperature_Setpoint_Limit",
            "Max_Temperature_Setpoint_Limit",
            "Max_Temperature_Setpoint_Limit",
            "Max_Temperature_Setpoint_Limit",
            "Max_Temperature_Setpoint_Limit",
            "Max_Temperature_Setpoint_Limit",
            "Max_Temperature_Setpoint_Limit",
            "Max_Temperature_Setpoint_Limit",
            "Max_Temperature_Setpoint_Limit",
            "Max_Temperature_Setpoint_Limit",
            "Max_Temperature_Setpoint_Limit",
            "Max_Temperature_Setpoint_Limit",
            "Max_Temperature_Setpoint_Limit",
            "Max_Temperature_Setpoint_Limit",
            "Max_Temperature_Setpoint_Limit",
            "Max_Temperature_Setpoint_Limit",
            "Max_Temperature_Setpoint_Limit",
            "Max_Temperature_Setpoint_Limit",
            "Max_Temperature_Setpoint_Limit",
            "Max_Temperature_Setpoint_Limit",
            "Max_Temperature_Setpoint_Limit",
            "Max_Temperature_Setpoint_Limit",
            "Max_Temperature_Setpoint_Limit",
            "Max_Temperature_Setpoint_Limit",
            "Max_Temperature_Setpoint_Limit",
            "Max_Temperature_Setpoint_Limit",
            "Max_Temperature_Setpoint_Limit",
            "Max_Temperature_Setpoint_Limit",
            "Max_Temperature_Setpoint_Limit",
            "Max_Temperature_Setpoint_Limit",
            "Max_Temperature_Setpoint_Limit",
            "Max_Temperature_Setpoint_Limit",
            "Max_Temperature_Setpoint_Limit",
            "Max_Temperature_Setpoint_Limit",
            "Max_Temperature_Setpoint_Limit",
            "Max_Temperature_Setpoint_Limit",
            "Max_Temperature_Setpoint_Limit",
            "Max_Temperature_Setpoint_Limit",
            "Max_Temperature_Setpoint_Limit",
            "Max_Temperature_Setpoint_Limit",
            "Max_Temperature_Setpoint_Limit",
            "Max_Temperature_Setpoint_Limit",
            "Max_Temperature_Setpoint_Limit",
            "Max_Temperature_Setpoint_Limit",
            "Max_Temperature_Setpoint_Limit",
            "Max_Temperature_Setpoint_Limit",
            "Max_Temperature_Setpoint_Limit",
            "Max_Temperature_Setpoint_Limit",
            "Max_Temperature_Setpoint_Limit",
            "Min_Discharge_Air_Temperature_Setpoint_Limit",
            "Min_Discharge_Air_Temperature_Setpoint_Limit",
            "Min_Discharge_Air_Temperature_Setpoint_Limit",
            "Min_Discharge_Air_Temperature_Setpoint_Limit",
            "Min_Discharge_Air_Temperature_Setpoint_Limit",
            "Min_Discharge_Air_Temperature_Setpoint_Limit",
            "Min_Discharge_Air_Temperature_Setpoint_Limit",
            "Min_Discharge_Air_Temperature_Setpoint_Limit",
            "Min_Discharge_Air_Temperature_Setpoint_Limit",
            "Min_Discharge_Air_Temperature_Setpoint_Limit",
            "Min_Position_Setpoint_Limit",
            "Min_Position_Setpoint_Limit",
            "Min_Position_Setpoint_Limit",
            "Min_Position_Setpoint_Limit",
            "Min_Position_Setpoint_Limit",
            "Min_Temperature_Setpoint_Limit",
            "Min_Temperature_Setpoint_Limit",
            "Min_Temperature_Setpoint_Limit",
            "Min_Temperature_Setpoint_Limit",
            "Min_Temperature_Setpoint_Limit",
            "Min_Temperature_Setpoint_Limit",
            "Min_Temperature_Setpoint_Limit",
            "Min_Temperature_Setpoint_Limit",
            "Min_Temperature_Setpoint_Limit",
            "Min_Temperature_Setpoint_Limit",
            "Min_Temperature_Setpoint_Limit",
            "Min_Temperature_Setpoint_Limit",
            "Min_Temperature_Setpoint_Limit",
            "Min_Temperature_Setpoint_Limit",
            "Min_Temperature_Setpoint_Limit",
            "Min_Temperature_Setpoint_Limit",
            "Min_Temperature_Setpoint_Limit",
            "Min_Temperature_Setpoint_Limit",
            "Min_Temperature_Setpoint_Limit",
            "Min_Temperature_Setpoint_Limit",
            "Min_Temperature_Setpoint_Limit",
            "Min_Temperature_Setpoint_Limit",
            "Min_Temperature_Setpoint_Limit",
            "Min_Temperature_Setpoint_Limit",
            "Min_Temperature_Setpoint_Limit",
            "Min_Temperature_Setpoint_Limit",
            "Min_Temperature_Setpoint_Limit",
            "Min_Temperature_Setpoint_Limit",
            "Min_Temperature_Setpoint_Limit",
            "Min_Temperature_Setpoint_Limit",
            "Min_Temperature_Setpoint_Limit",
            "Min_Temperature_Setpoint_Limit",
            "Min_Temperature_Setpoint_Limit",
            "Min_Temperature_Setpoint_Limit",
            "Min_Temperature_Setpoint_Limit",
            "Min_Temperature_Setpoint_Limit",
            "Min_Temperature_Setpoint_Limit",
            "Min_Temperature_Setpoint_Limit",
            "Min_Temperature_Setpoint_Limit",
            "Min_Temperature_Setpoint_Limit",
            "Min_Temperature_Setpoint_Limit",
            "Min_Temperature_Setpoint_Limit",
            "Min_Temperature_Setpoint_Limit",
            "Min_Temperature_Setpoint_Limit",
            "Min_Temperature_Setpoint_Limit",
            "Min_Temperature_Setpoint_Limit",
            "Min_Temperature_Setpoint_Limit",
            "Min_Temperature_Setpoint_Limit",
            "Min_Temperature_Setpoint_Limit",
            "Min_Temperature_Setpoint_Limit",
            "Min_Temperature_Setpoint_Limit",
            "Min_Temperature_Setpoint_Limit",
            "Min_Temperature_Setpoint_Limit",
            "Min_Temperature_Setpoint_Limit",
            "Mode_Command",
            "Mode_Command",
            "Mode_Command",
            "Mode_Command",
            "Mode_Command",
            "Mode_Command",
            "Mode_Command",
            "Mode_Command",
            "Mode_Command",
            "Mode_Command",
            "Mode_Command",
            "Mode_Command",
            "Mode_Command",
            "Mode_Command",
            "Mode_Command",
            "Mode_Command",
            "Mode_Command",
            "Mode_Command",
            "Mode_Command",
            "Mode_Command",
            "Mode_Command",
            "Mode_Command",
            "Mode_Command",
            "Mode_Command",
            "Mode_Command",
            "Mode_Command",
            "Mode_Command",
            "Mode_Command",
            "Mode_Command",
            "Mode_Command",
            "Mode_Command",
            "Mode_Command",
            "Mode_Command",
            "Mode_Command",
            "Mode_Command",
            "Mode_Command",
            "Mode_Command",
            "Mode_Command",
            "Mode_Command",
            "Mode_Command",
            "Mode_Command",
            "Mode_Command",
            "Mode_Command",
            "Mode_Command",
            "Mode_Command",
            "Mode_Command",
            "Mode_Command",
            "Mode_Command",
            "Mode_Command",
            "Mode_Command",
            "Mode_Command",
            "Mode_Command",
            "Mode_Status",
            "Mode_Status",
            "Mode_Status",
            "Mode_Status",
            "Mode_Status",
            "Mode_Status",
            "Mode_Status",
            "Mode_Status",
            "Mode_Status",
            "Mode_Status",
            "Mode_Status",
            "Operating_Mode_Status",
            "Operating_Mode_Status",
            "Operating_Mode_Status",
            "Operating_Mode_Status",
            "Operating_Mode_Status",
            "Operating_Mode_Status",
            "Operating_Mode_Status",
            "Operating_Mode_Status",
            "Operating_Mode_Status",
            "Operating_Mode_Status",
            "Operating_Mode_Status",
            "Operating_Mode_Status",
            "Operating_Mode_Status",
            "Operating_Mode_Status",
            "Operating_Mode_Status",
            "Operating_Mode_Status",
            "Operating_Mode_Status",
            "Operating_Mode_Status",
            "Operating_Mode_Status",
            "Operating_Mode_Status",
            "Outside_Air_Humidity_Sensor",
            "Outside_Air_Lockout_Temperature_Setpoint",
            "Outside_Air_Lockout_Temperature_Setpoint",
            "Outside_Air_Lockout_Temperature_Setpoint",
            "Outside_Air_Lockout_Temperature_Setpoint",
            "Outside_Air_Lockout_Temperature_Setpoint",
            "Outside_Air_Temperature_Sensor",
            "Outside_Air_Temperature_Sensor",
            "Outside_Air_Temperature_Sensor",
            "Outside_Air_Temperature_Sensor",
            "Outside_Air_Temperature_Sensor",
            "Outside_Air_Temperature_Sensor",
            "Outside_Air_Temperature_Setpoint",
            "Outside_Air_Temperature_Setpoint",
            "Outside_Damper",
            "Outside_Damper",
            "Outside_Damper",
            "Outside_Damper",
            "Outside_Damper",
            "PV_Array",
            "Point",
            "Point",
            "Point",
            "Point",
            "Point",
            "Point",
            "Point",
            "Point",
            "Point",
            "Point",
            "Point",
            "Point",
            "Point",
            "Point",
            "Point",
            "Point",
            "Point",
            "Point",
            "Point",
            "Point",
            "Point",
            "Point",
            "Point",
            "Point",
            "Point",
            "Point",
            "Point",
            "Point",
            "Point",
            "Point",
            "Point",
            "Point",
            "Point",
            "Point",
            "Point",
            "Point",
            "Point",
            "Point",
            "Point",
            "Point",
            "Point",
            "Point",
            "Point",
            "Point",
            "Point",
            "Point",
            "Point",
            "Point",
            "Point",
            "Point",
            "Point",
            "Point",
            "Point",
            "Point",
            "Point",
            "Point",
            "Point",
            "Point",
            "Point",
            "Point",
            "Point",
            "Point",
            "Point",
            "Point",
            "Point",
            "Point",
            "Point",
            "Point",
            "Point",
            "Point",
            "Point",
            "Point",
            "Point",
            "Point",
            "Point",
            "Point",
            "Point",
            "Point",
            "Point",
            "Point",
            "Point",
            "Point",
            "Point",
            "Point",
            "Point",
            "Point",
            "Point",
            "Point",
            "Point",
            "Point",
            "Point",
            "Point",
            "Point",
            "Point",
            "Point",
            "Point",
            "Point",
            "Point",
            "Point",
            "Point",
            "Point",
            "Point",
            "Point",
            "Point",
            "Point",
            "Position_Sensor",
            "Position_Sensor",
            "Position_Sensor",
            "Position_Sensor",
            "Position_Sensor",
            "Position_Sensor",
            "Position_Sensor",
            "Position_Sensor",
            "Position_Sensor",
            "Position_Sensor",
            "Position_Sensor",
            "Position_Sensor",
            "Position_Sensor",
            "Position_Sensor",
            "Position_Sensor",
            "Position_Sensor",
            "Position_Sensor",
            "Position_Sensor",
            "Position_Sensor",
            "Position_Sensor",
            "Position_Sensor",
            "Position_Sensor",
            "Position_Sensor",
            "Position_Sensor",
            "Position_Sensor",
            "Position_Sensor",
            "Position_Sensor",
            "Position_Sensor",
            "Position_Sensor",
            "Position_Sensor",
            "Position_Sensor",
            "Position_Sensor",
            "Position_Sensor",
            "Position_Sensor",
            "Position_Sensor",
            "Position_Sensor",
            "Proportional_Gain_Parameter",
            "Proportional_Gain_Parameter",
            "Proportional_Gain_Parameter",
            "Proportional_Gain_Parameter",
            "Proportional_Gain_Parameter",
            "Proportional_Gain_Parameter",
            "Proportional_Gain_Parameter",
            "Proportional_Gain_Parameter",
            "Proportional_Gain_Parameter",
            "Proportional_Gain_Parameter",
            "Proportional_Gain_Parameter",
            "Proportional_Gain_Parameter",
            "Proportional_Gain_Parameter",
            "Proportional_Gain_Parameter",
            "Proportional_Gain_Parameter",
            "Proportional_Gain_Parameter",
            "Proportional_Gain_Parameter",
            "Proportional_Gain_Parameter",
            "Reset_Command",
            "Reset_Command",
            "Reset_Command",
            "Reset_Command",
            "Reset_Command",
            "Reset_Command",
            "Reset_Command",
            "Reset_Command",
            "Reset_Command",
            "Reset_Command",
            "Reset_Command",
            "Reset_Command",
            "Reset_Command",
            "Reset_Command",
            "Reset_Command",
            "Reset_Command",
            "Reset_Setpoint",
            "Restroom",
            "Restroom",
            "Restroom",
            "Restroom",
            "Restroom",
            "Restroom",
            "Restroom",
            "Restroom",
            "Restroom",
            "Restroom",
            "Return_Damper",
            "Return_Damper",
            "Return_Damper",
            "Return_Damper",
            "Return_Damper",
            "Return_Damper",
            "Return_Damper",
            "Return_Damper",
            "Return_Damper",
            "Return_Damper",
            "Return_Water_Temperature_Sensor",
            "Return_Water_Temperature_Sensor",
            "Room",
            "Room_Air_Temperature_Setpoint",
            "Room_Air_Temperature_Setpoint",
            "Room_Air_Temperature_Setpoint",
            "Room_Air_Temperature_Setpoint",
            "Room_Air_Temperature_Setpoint",
            "Room_Air_Temperature_Setpoint",
            "Room_Air_Temperature_Setpoint",
            "Room_Air_Temperature_Setpoint",
            "Room_Air_Temperature_Setpoint",
            "Room_Air_Temperature_Setpoint",
            "Room_Air_Temperature_Setpoint",
            "Room_Air_Temperature_Setpoint",
            "Room_Air_Temperature_Setpoint",
            "Room_Air_Temperature_Setpoint",
            "Room_Air_Temperature_Setpoint",
            "Room_Air_Temperature_Setpoint",
            "Room_Air_Temperature_Setpoint",
            "Room_Air_Temperature_Setpoint",
            "Room_Air_Temperature_Setpoint",
            "Room_Air_Temperature_Setpoint",
            "Server_Room",
            "Server_Room",
            "Service_Room",
            "Stages_Status",
            "Stages_Status",
            "Storage_Room",
            "Storage_Room",
            "Supply_Fan",
            "Supply_Fan",
            "Supply_Fan",
            "Supply_Fan",
            "Supply_Fan",
            "Supply_Fan",
            "Supply_Fan",
            "Supply_Fan",
            "Supply_Fan",
            "Supply_Fan",
            "Supply_Fan",
            "Supply_Fan",
            "Supply_Fan",
            "Supply_Fan",
            "Supply_Fan",
            "Supply_Fan",
            "Supply_Fan",
            "Supply_Fan",
            "System",
            "System_Enable_Command",
            "System_Enable_Command",
            "System_Enable_Command",
            "System_Enable_Command",
            "System_Enable_Command",
            "System_Enable_Command",
            "System_Enable_Command",
            "System_Enable_Command",
            "System_Enable_Command",
            "System_Enable_Command",
            "System_Enable_Command",
            "System_Enable_Command",
            "System_Enable_Command",
            "System_Enable_Command",
            "System_Enable_Command",
            "System_Enable_Command",
            "System_Enable_Command",
            "System_Enable_Command",
            "System_Status",
            "System_Status",
            "System_Status",
            "System_Status",
            "System_Status",
            "System_Status",
            "System_Status",
            "System_Status",
            "System_Status",
            "System_Status",
            "System_Status",
            "System_Status",
            "System_Status",
            "System_Status",
            "System_Status",
            "System_Status",
            "System_Status",
            "System_Status",
            "System_Status",
            "System_Status",
            "System_Status",
            "System_Status",
            "System_Status",
            "System_Status",
            "System_Status",
            "System_Status",
            "System_Status",
            "System_Status",
            "System_Status",
            "System_Status",
            "System_Status",
            "Temperature_Parameter",
            "Temperature_Parameter",
            "Temperature_Parameter",
            "Temperature_Parameter",
            "Temperature_Parameter",
            "Temperature_Parameter",
            "Temperature_Parameter",
            "Temperature_Parameter",
            "Temperature_Parameter",
            "Temperature_Parameter",
            "Temperature_Parameter",
            "Temperature_Parameter",
            "Temperature_Parameter",
            "Temperature_Parameter",
            "Temperature_Parameter",
            "Temperature_Parameter",
            "Temperature_Parameter",
            "Temperature_Parameter",
            "Temperature_Setpoint",
            "Temperature_Setpoint",
            "Temperature_Setpoint",
            "Temperature_Setpoint",
            "Temperature_Setpoint",
            "Temperature_Setpoint",
            "Temperature_Setpoint",
            "Temperature_Setpoint",
            "Temperature_Setpoint",
            "Temperature_Setpoint",
            "Temperature_Setpoint",
            "Temperature_Setpoint",
            "Temperature_Setpoint",
            "Temperature_Setpoint",
            "Temperature_Setpoint",
            "Temperature_Setpoint",
            "Temperature_Setpoint",
            "Temperature_Setpoint",
            "Thermal_Power_Sensor",
            "Usage_Sensor",
            "Usage_Sensor",
            "Usage_Sensor",
            "Usage_Sensor",
            "Usage_Sensor",
            "Usage_Sensor",
            "Usage_Sensor",
            "Usage_Sensor",
            "Usage_Sensor",
            "Usage_Sensor",
            "Voltage_Sensor",
            "Voltage_Sensor",
            "Voltage_Sensor",
            "Voltage_Sensor",
            "Voltage_Sensor",
            "Voltage_Sensor",
            "Voltage_Sensor",
            "Voltage_Sensor",
            "Voltage_Sensor",
            "Voltage_Sensor",
            "Voltage_Sensor",
            "Voltage_Sensor",
            "Voltage_Sensor",
            "Voltage_Sensor",
            "Voltage_Sensor",
            "Voltage_Sensor",
            "Voltage_Sensor",
            "Voltage_Sensor",
            "Voltage_Sensor",
            "Voltage_Sensor",
            "Voltage_Sensor",
            "Voltage_Sensor",
            "Voltage_Sensor",
            "Voltage_Sensor",
            "Voltage_Sensor",
            "Voltage_Sensor",
            "Voltage_Sensor",
            "Voltage_Sensor",
            "Voltage_Sensor",
            "Voltage_Sensor",
            "Voltage_Sensor",
            "Voltage_Sensor",
            "Voltage_Sensor",
            "Warmest_Zone_Air_Temperature_Sensor",
            "Warmest_Zone_Air_Temperature_Sensor",
            "Water_Distribution",
            "Water_Tank",
            "Water_Temperature_Sensor",
            "Weather_Station",
            "Wind_Speed_Sensor",
            "Wind_Speed_Sensor",
            "Wind_Speed_Sensor"
           ],
           [
            "4e5f09a8_0b2e_4c60_a6da_f7d332d6808e",
            "4f525a1e_69b2_4fff_be62_16b262d3724b",
            "6dc225a8_753e_4e47_8528_a3c03ea4e496",
            "a4bcf16d_a84e_414e_b9c1_603c3d10cb3e",
            "d8d2f843_6cc8_4b62_892e_5e67b56be41c",
            "ea12d627_47bd_409c_932e_9841594af306",
            "1af5f6f9_15b1_4a62_962e_0ede16373202.3ad9be1a_b080_4888_b6da_8bf10dec8623",
            "1af5f6f9_15b1_4a62_962e_0ede16373202.54513e05_7134_47e7_9851_c873ed33a104",
            "1af5f6f9_15b1_4a62_962e_0ede16373202.983cbacc_7d0f_47e8_aa19_a0912eab6f3c",
            "240f89b5_a8f7_4716_ba46_b583227d99a4",
            "6b498416_1218_453d_a09e_64a2e2aebe24.3ad9be1a_b080_4888_b6da_8bf10dec8623",
            "6b498416_1218_453d_a09e_64a2e2aebe24.54513e05_7134_47e7_9851_c873ed33a104",
            "6b498416_1218_453d_a09e_64a2e2aebe24.983cbacc_7d0f_47e8_aa19_a0912eab6f3c",
            "6ef4f046_1a38_4239_a20e_c52e3ed31f4e",
            "70d05bb1_6810_435a_bcac_8166afba0ba6.3ad9be1a_b080_4888_b6da_8bf10dec8623",
            "70d05bb1_6810_435a_bcac_8166afba0ba6.54513e05_7134_47e7_9851_c873ed33a104",
            "70d05bb1_6810_435a_bcac_8166afba0ba6.983cbacc_7d0f_47e8_aa19_a0912eab6f3c",
            "7b630b30_400a_413b_9d29_b0b98688dac5.3ad9be1a_b080_4888_b6da_8bf10dec8623",
            "7b630b30_400a_413b_9d29_b0b98688dac5.54513e05_7134_47e7_9851_c873ed33a104",
            "7b630b30_400a_413b_9d29_b0b98688dac5.983cbacc_7d0f_47e8_aa19_a0912eab6f3c",
            "bb8bdc58_4098_4ba0_a92d_907dad26eaab.3ad9be1a_b080_4888_b6da_8bf10dec8623",
            "bb8bdc58_4098_4ba0_a92d_907dad26eaab.54513e05_7134_47e7_9851_c873ed33a104",
            "bb8bdc58_4098_4ba0_a92d_907dad26eaab.983cbacc_7d0f_47e8_aa19_a0912eab6f3c",
            "b99ce6df_b057_4d80_81ba_ad76462968c1",
            "3b373634_2461_4b61_8bcb_068c12b7e1a8.2ffbcf7c_fafd_4ae5_b05a_e337ea56eaf9",
            "3b373634_2461_4b61_8bcb_068c12b7e1a8.89e05278_e33b_4bac_b51b_1204446d5017",
            "3b373634_2461_4b61_8bcb_068c12b7e1a8.c140c85d_d967_4838_bb9d_b4717886baab",
            "3b373634_2461_4b61_8bcb_068c12b7e1a8.de9e0393_c179_4e99_8bc8_db314a813440",
            "506f355b_ec0d_4763_8082_5d022dcf6153.0e964c7f_9275_47df_97c5_ede973dc0767",
            "506f355b_ec0d_4763_8082_5d022dcf6153.6af9698e_b72b_48d7_b864_9a0d518ec3b1",
            "506f355b_ec0d_4763_8082_5d022dcf6153.6d18ee1e_22f5_495f_89e6_cd613015478e",
            "506f355b_ec0d_4763_8082_5d022dcf6153.89e05278_e33b_4bac_b51b_1204446d5017",
            "506f355b_ec0d_4763_8082_5d022dcf6153.bdf61e88_72db_4fa9_85e1_66f46bfaf811",
            "506f355b_ec0d_4763_8082_5d022dcf6153.f2091c19_8d0b_4d5d_983f_a3f335adfc8c",
            "3b373634_2461_4b61_8bcb_068c12b7e1a8.0e964c7f_9275_47df_97c5_ede973dc0767",
            "3b373634_2461_4b61_8bcb_068c12b7e1a8.6d18ee1e_22f5_495f_89e6_cd613015478e",
            "3b373634_2461_4b61_8bcb_068c12b7e1a8.9e84cf78_5ff2_4d03_a537_a3a986cbb826",
            "3b373634_2461_4b61_8bcb_068c12b7e1a8.bdf61e88_72db_4fa9_85e1_66f46bfaf811",
            "506f355b_ec0d_4763_8082_5d022dcf6153.11c987b4_223f_4d61_beaf_8b10ec3a3b2d",
            "506f355b_ec0d_4763_8082_5d022dcf6153.9e84cf78_5ff2_4d03_a537_a3a986cbb826",
            "506f355b_ec0d_4763_8082_5d022dcf6153.c140c85d_d967_4838_bb9d_b4717886baab",
            "506f355b_ec0d_4763_8082_5d022dcf6153.cbd54644_e644_4743_a015_7b53af377a11",
            "506f355b_ec0d_4763_8082_5d022dcf6153.de9e0393_c179_4e99_8bc8_db314a813440",
            "3b373634_2461_4b61_8bcb_068c12b7e1a8.f2091c19_8d0b_4d5d_983f_a3f335adfc8c",
            "55f3c95d_872b_45d6_b207_23b09e27d278",
            "1af5f6f9_15b1_4a62_962e_0ede16373202.b1a78aa6_d50d_4c0a_920e_5ff7019ab663",
            "6b498416_1218_453d_a09e_64a2e2aebe24.b1a78aa6_d50d_4c0a_920e_5ff7019ab663",
            "70d05bb1_6810_435a_bcac_8166afba0ba6.b1a78aa6_d50d_4c0a_920e_5ff7019ab663",
            "7b630b30_400a_413b_9d29_b0b98688dac5.b1a78aa6_d50d_4c0a_920e_5ff7019ab663",
            "b1a78aa6_d50d_4c0a_920e_5ff7019ab663",
            "bb8bdc58_4098_4ba0_a92d_907dad26eaab.b1a78aa6_d50d_4c0a_920e_5ff7019ab663",
            "3b373634_2461_4b61_8bcb_068c12b7e1a8.11c987b4_223f_4d61_beaf_8b10ec3a3b2d",
            "3b373634_2461_4b61_8bcb_068c12b7e1a8.87389995_27ad_49a8_bf1b_5f25b117ce56",
            "506f355b_ec0d_4763_8082_5d022dcf6153.90ba5d37_73c0_41b4_a83e_1f7d6ab12db9",
            "d02c6fdd_ce6b_44a1_b193_1ede85e7d4c8.6d18ee1e_22f5_495f_89e6_cd613015478e",
            "3abdac1c_4717_445e_8248_0143c701015a",
            "bc3a295e_af26_46d7_9445_63325ab035b8",
            "c10f79c9_744d_40a5_a272_7cde7ca1f5a6",
            "f7c06302_3c06_4331_b7ee_6f01946aa788",
            "fd5601fa_5513_4b0a_b935_9817c84319e6",
            "124295e4_f6a9_4904_baa2_6bb2752d0059.32c2ab64_a7da_4f4e_951f_64ee2fcc7e1b",
            "124295e4_f6a9_4904_baa2_6bb2752d0059.32fa613f_5abb_484a_8236_bd2a811dce27",
            "3062fe14_682d_481f_a98e_b217c45c2337.a6dd463f_8597_40da_b5fe_9f578af9373c",
            "3062fe14_682d_481f_a98e_b217c45c2337.f129b8da_f43e_4881_b28c_e06488e3537a",
            "3abdac1c_4717_445e_8248_0143c701015a.4c12ffce_66c4_4bf2_937c_5182cbd5b4d5",
            "3abdac1c_4717_445e_8248_0143c701015a.5a7fa5e3_062f_4d57_9b2a_dfd97e08e290",
            "3abdac1c_4717_445e_8248_0143c701015a.b272e611_c07f_44d5_9ff5_898b5b3ec515",
            "554f7ba1_7232_4a12_a2b6_0954976ff3b9.8869a237_11bc_44a4_b0c3_4c1689effddd",
            "554f7ba1_7232_4a12_a2b6_0954976ff3b9.f28cfd73_fb7e_453f_b1d1_431faf02b3c4",
            "5953d8e3_565b_4b29_a498_5ef50f9aefbe.4981b90d_70c7_402e_b441_1cfbe47fdd61",
            "5953d8e3_565b_4b29_a498_5ef50f9aefbe.525b3aea_8955_426b_b344_fb2a9b0f622f",
            "793f94f9_73d2_4ed2_8ccb_abf4576c2a84.013f2a1c_ef37_42c1_9c31_d547490e9cce",
            "793f94f9_73d2_4ed2_8ccb_abf4576c2a84.a92d2f05_e8e9_462d_9b97_1ca12190aaba",
            "8dbdff35_af3a_4c69_8963_53bdcb33c775.1fe537de_ff12_4bd4_b4de_de493e2b6bef",
            "8dbdff35_af3a_4c69_8963_53bdcb33c775.c759ad9f_9d6d_45c1_ad1c_377840198f64",
            "8f8996ae_8dd4_4a45_bed9_7757fa6907db.414f28b1_b9e6_46ea_9974_aa967c707211",
            "951d1945_98d0_4329_9025_dce55687f3a4.70ae4609_5637_4ad3_a8f1_619ee5d5df01",
            "951d1945_98d0_4329_9025_dce55687f3a4.abbc8080_9bf6_4e68_8195_bb3ee2d46b5d",
            "a047df87_7c81_4a1c_abc5_99a6eda40f1a.410b1290_1aaf_4489_95a8_7de44bf124c9",
            "a047df87_7c81_4a1c_abc5_99a6eda40f1a.cc60b5aa_ec3a_4161_b08f_bb9ec8617003",
            "bc3a295e_af26_46d7_9445_63325ab035b8.0944e01e_a84a_4fac_bb42_08f6c8c8cd1a",
            "bc3a295e_af26_46d7_9445_63325ab035b8.bcc72fd9_094d_4c92_acff_48a282107211",
            "c10f79c9_744d_40a5_a272_7cde7ca1f5a6.15a55f68_5a9d_4cf6_a73a_67b57b63b704",
            "c10f79c9_744d_40a5_a272_7cde7ca1f5a6.32bacb03_dff9_40b7_8c0b_aacd6babfe53",
            "c10f79c9_744d_40a5_a272_7cde7ca1f5a6.529c74f6_52ef_4cca_b124_e6d53a24e50e",
            "c10f79c9_744d_40a5_a272_7cde7ca1f5a6.a3f240ea_4fc6_40d6_a066_9b09f8bdbd8d",
            "c10f79c9_744d_40a5_a272_7cde7ca1f5a6.c9c2cae2_2355_4e3a_adbe_a553b98ee149",
            "cbb33199_7896_432f_b0f6_ef45a4650723.33cd6582_f1fe_48d5_a30c_5110e9ee79c6",
            "cbb33199_7896_432f_b0f6_ef45a4650723.b49eca2e_979e_4219_a73c_8625ea26ad90",
            "d0b621a6_148d_427d_8aef_b073b11184e1.500c86c1_9fd9_4aff_b398_056040c56e47",
            "d0b621a6_148d_427d_8aef_b073b11184e1.7e358f65_edaf_4cb7_a164_2156e30fe937",
            "da5873de_e112_4f9b_9e0f_149bd1221894.7fc956da_e397_41f7_ac74_ef9c0a03ddab",
            "da5873de_e112_4f9b_9e0f_149bd1221894.ef1a1240_07d1_4572_b3e5_6591c31372db",
            "e700973b_9070_4ec8_9e8d_10cdf1fd209d.11147468_4387_4cc6_8543_19487306fa71",
            "e700973b_9070_4ec8_9e8d_10cdf1fd209d.300cd4b0_44a6_469e_8520_92cae286ea83",
            "ebb4f301_f353_446c_9b92_19f131e5181d.4b45b47d_0513_4425_8f98_5892c696a533",
            "ebb4f301_f353_446c_9b92_19f131e5181d.e91d1845_79f7_43a0_8fcf_e7fa181f8c5d",
            "f7c06302_3c06_4331_b7ee_6f01946aa788.80d986bc_5c93_4843_89f1_1c82d737fca8",
            "f7c06302_3c06_4331_b7ee_6f01946aa788.f6d92607_adb8_4a66_a9e2_a28ae28b87fa",
            "fd5601fa_5513_4b0a_b935_9817c84319e6.005b4af3_1813_4b16_a89f_64733cd9e03a",
            "fd5601fa_5513_4b0a_b935_9817c84319e6.5e4ae5df_1476_48a7_a752_cbd08af4c677",
            "fd5601fa_5513_4b0a_b935_9817c84319e6.9c86e80b_e771_4df5_b780_b4678fea0c70",
            "fd5601fa_5513_4b0a_b935_9817c84319e6.9ca0f265_d2e7_4b44_b90b_8d1c9cb9db9f",
            "fd5601fa_5513_4b0a_b935_9817c84319e6.ed23a3b5_2e5d_4ba7_baef_3ebada8894ab",
            "47f9140d_38d8_4391_9aa1_08973d4b6370.850f4214_f94d_4b62_9e24_02705deba9b3",
            "47f9140d_38d8_4391_9aa1_08973d4b6370.b10f39ce_fba2_475f_a0f3_47fcdebe69c1",
            "541fd2f2_76a9_49dd_a2eb_16300bdf6ac6",
            "bcc0de5e_f29d_43cc_a45f_1718e805426d",
            "df67cba3_6743_4ae7_83f8_e492a62bb7bf",
            "c10f79c9_744d_40a5_a272_7cde7ca1f5a6.4b524f12_0c6f_4abd_a677_51db619f635f",
            "fd5601fa_5513_4b0a_b935_9817c84319e6.4583dd51_c3aa_4446_9495_858a1e337da3",
            "e8e7705d_b87a_4bf3_b454_202ca27ea7ad",
            "1f182f96_a9a9_4f89_adfc_e8c11498e926",
            "d02c6fdd_ce6b_44a1_b193_1ede85e7d4c8.b335617c_4262_41b5_80dc_4af207b12a10",
            "13211186_beb4_4227_bd2d_0644e860886e",
            "4583aa00_3dba_4283_8633_c44b9780855a",
            "0d5d19dc_e106_4cfb_9bee_c5f6d46e4388",
            "15fc7d70_1c93_497b_8f43_35ef2eab0a00",
            "47f9140d_38d8_4391_9aa1_08973d4b6370.9d354293_6f66_4520_afb8_348b8c398f03",
            "27afeb29_6311_414c_a5fc_79c19d6ea89d",
            "285ae1d5_09cb_4871_a61f_bcc5b44a36de",
            "959490bb_9624_4a8b_b9ae_b631a7848908",
            "3b373634_2461_4b61_8bcb_068c12b7e1a8.6af9698e_b72b_48d7_b864_9a0d518ec3b1",
            "3b373634_2461_4b61_8bcb_068c12b7e1a8.cbd54644_e644_4743_a015_7b53af377a11",
            "3b373634_2461_4b61_8bcb_068c12b7e1a8.df84f19d_e8f9_4bdf_963b_71b2cd80cf9e",
            "3b373634_2461_4b61_8bcb_068c12b7e1a8.ec82b630_d0f2_4f6d_9c7c_948279cb8bd6",
            "506f355b_ec0d_4763_8082_5d022dcf6153.2ffbcf7c_fafd_4ae5_b05a_e337ea56eaf9",
            "506f355b_ec0d_4763_8082_5d022dcf6153.87389995_27ad_49a8_bf1b_5f25b117ce56",
            "506f355b_ec0d_4763_8082_5d022dcf6153.d8561aa6_7a64_4f02_a210_0690761c6a3e",
            "506f355b_ec0d_4763_8082_5d022dcf6153.ec82b630_d0f2_4f6d_9c7c_948279cb8bd6",
            "d02c6fdd_ce6b_44a1_b193_1ede85e7d4c8.0e964c7f_9275_47df_97c5_ede973dc0767",
            "d02c6fdd_ce6b_44a1_b193_1ede85e7d4c8.89e05278_e33b_4bac_b51b_1204446d5017",
            "d02c6fdd_ce6b_44a1_b193_1ede85e7d4c8.de9e0393_c179_4e99_8bc8_db314a813440",
            "059465b4_6a0b_4083_9db7_d615c9a8a503",
            "0871cd8d_8191_49d1_a4e0_f9e0632b3415",
            "0c5cbfd3_203c_4c0a_96d2_52895ed4f84c",
            "368bbca0_5ffe_411a_8e6c_0a3ba893ba86",
            "37bd8556_455f_4bff_9517_59d2cc2649ed",
            "48756146_e5bd_496f_8864_4a33742dc0a4",
            "718e54c6_67a5_4ba6_b293_04bfd531e28f",
            "76705912_de37_4fcb_b1bc_f32d9c6b032f",
            "90aa800d_4d8d_47ac_a101_d15be3214e00",
            "96f936ce_399b_47f4_9e80_dd7a7e07c262",
            "b309f272_2c39_4182_ad56_2dd913d63e3e",
            "c0b51681_99ef_4501_92ab_d66bf21db311",
            "c512f8f9_6c59_491b_98d2_7ddbea43a129",
            "cef8f45f_6400_4876_886f_4c86382a9024",
            "d32ca226_912e_4212_a304_0b51c3e75f3b",
            "e8ceeebb_54d4_4821_aa17_15d88949401e",
            "f32898ec_774d_43b8_ad6f_6806ae29e394",
            "f3c2c140_38b6_410e_8917_8a72a742ca94",
            "47f9140d_38d8_4391_9aa1_08973d4b6370.16b4b1f2_2d78_4d5b_89f2_13081bce8dd8",
            "47f9140d_38d8_4391_9aa1_08973d4b6370.77563435_067b_4de1_b0fc_406ca277d130",
            "47f9140d_38d8_4391_9aa1_08973d4b6370.7d8a19a8_29c0_4973_9e2c_8d1fc84048ad",
            "47f9140d_38d8_4391_9aa1_08973d4b6370.840455c3_58f7_4bee_8e99_227d54c1f871",
            "47f9140d_38d8_4391_9aa1_08973d4b6370.9290e66a_a5c5_4b69_af0f_7291b99286ad",
            "47f9140d_38d8_4391_9aa1_08973d4b6370.b71b369a_bc34_4ff1_9a24_95de01fca685",
            "47f9140d_38d8_4391_9aa1_08973d4b6370.875e17b1_a6cf_4f93_830c_37a54c67028c",
            "47f9140d_38d8_4391_9aa1_08973d4b6370.a7e89ef7_adcd_4c9c_8672_3cb4d0febadf",
            "124295e4_f6a9_4904_baa2_6bb2752d0059.a6dc91a5_aa78_4501_9238_034a2befa16a",
            "3062fe14_682d_481f_a98e_b217c45c2337.222824e4_3f83_4be9_8cd6_0eb961dedf52",
            "3abdac1c_4717_445e_8248_0143c701015a.8276169e_bfe8_4fec_9500_3c8b2e271a7d",
            "554f7ba1_7232_4a12_a2b6_0954976ff3b9.9c707103_1eb8_4f2b_9b16_35eb3b169ece",
            "5953d8e3_565b_4b29_a498_5ef50f9aefbe.28012117_7a84_402b_86c4_ae1eb168d48a",
            "793f94f9_73d2_4ed2_8ccb_abf4576c2a84.c02f7965_a485_4487_959f_d8a31bb997a2",
            "8dbdff35_af3a_4c69_8963_53bdcb33c775.973039e1_772a_4771_bb39_1ef27616036d",
            "951d1945_98d0_4329_9025_dce55687f3a4.4c79aa8c_f652_4dee_b809_3b6385537ace",
            "a047df87_7c81_4a1c_abc5_99a6eda40f1a.30dbbb56_2371_4eb4_a1ca_be6c934e2e38",
            "bc3a295e_af26_46d7_9445_63325ab035b8.256f9edf_3066_4f9b_97dc_f5b685fe1660",
            "c10f79c9_744d_40a5_a272_7cde7ca1f5a6.e48f2638_d690_4f23_907e_f19a534c7f34",
            "cbb33199_7896_432f_b0f6_ef45a4650723.3c088d26_7862_46f4_aea2_12d7893c5d98",
            "d0b621a6_148d_427d_8aef_b073b11184e1.40cfb8c3_9e33_40a4_8780_50f7dbc15eff",
            "da5873de_e112_4f9b_9e0f_149bd1221894.a402fd63_304e_4125_a51a_41a5cca50800",
            "e700973b_9070_4ec8_9e8d_10cdf1fd209d.418ce6e2_9463_4786_958d_b71736421016",
            "ebb4f301_f353_446c_9b92_19f131e5181d.099dc70e_f41d_4bc5_aad0_0749d7685daa",
            "f7c06302_3c06_4331_b7ee_6f01946aa788.86198044_c6b3_449b_93bc_5f50bf70830d",
            "fd5601fa_5513_4b0a_b935_9817c84319e6.ed75d890_225f_4ad5_8137_d14743c37972",
            "00f36e5b_de4d_4cff_a935_44a44574b285",
            "054e56a7_9776_451b_96f1_ebd5992136a3",
            "1a8818c2_557b_4581_acc1_d035a544021b",
            "371dca70_b2c4_486d_924e_06217ea301de",
            "4637dfe7_2855_4c33_82ec_5dc7cbf3ca68",
            "4f4c49dc_3a34_4b16_a20f_ab7f916c2798",
            "520aeaf6_5518_474e_9a94_c8885c6aa1c7",
            "5552e0c4_3583_4204_822a_7882f2177596",
            "5ae6674c_beb6_468a_9fad_5c219624f605",
            "68ab4731_84bd_48ff_a4da_29f25e2c4d25",
            "74d91827_7222_4463_bc9c_0219a2a68374",
            "a32f27d9_0a51_4ea8_baeb_9c4ec1e34a04",
            "a9a31134_dbf3_42fd_bede_2b3d8d33cda3",
            "b768b18a_339b_4e83_989f_2c4efc699613",
            "d44e3104_282c_45db_bb95_e1918ed00fe7",
            "d53e0430_ac7a_4f4f_81ad_8299092c73d2",
            "d79e6b1c_8259_4717_80c0_b9642ba8f3f1",
            "f227cc61_92b7_42f2_9b55_0cf44658bd16",
            "d02c6fdd_ce6b_44a1_b193_1ede85e7d4c8.0c944fda_d94e_48f0_9b1a_b7f570c63c40",
            "08684dc4_48b2_49da_b3cd_9b061c76c4f4",
            "1af5f6f9_15b1_4a62_962e_0ede16373202.54b4e9ee_be4d_433b_b0f8_4263a00f6236",
            "1af5f6f9_15b1_4a62_962e_0ede16373202.9f7c160b_2de5_47a8_b284_2dd6edad72a0",
            "1af5f6f9_15b1_4a62_962e_0ede16373202.f246a8c4_e371_44e5_be8c_8e310eb39965",
            "1af5f6f9_15b1_4a62_962e_0ede16373202.f411c52f_1e8c_4f90_9bdc_f2cdc18c22f3",
            "6b498416_1218_453d_a09e_64a2e2aebe24.54b4e9ee_be4d_433b_b0f8_4263a00f6236",
            "6b498416_1218_453d_a09e_64a2e2aebe24.9f7c160b_2de5_47a8_b284_2dd6edad72a0",
            "6b498416_1218_453d_a09e_64a2e2aebe24.f246a8c4_e371_44e5_be8c_8e310eb39965",
            "6b498416_1218_453d_a09e_64a2e2aebe24.f411c52f_1e8c_4f90_9bdc_f2cdc18c22f3",
            "70d05bb1_6810_435a_bcac_8166afba0ba6.54b4e9ee_be4d_433b_b0f8_4263a00f6236",
            "70d05bb1_6810_435a_bcac_8166afba0ba6.9f7c160b_2de5_47a8_b284_2dd6edad72a0",
            "70d05bb1_6810_435a_bcac_8166afba0ba6.f246a8c4_e371_44e5_be8c_8e310eb39965",
            "70d05bb1_6810_435a_bcac_8166afba0ba6.f411c52f_1e8c_4f90_9bdc_f2cdc18c22f3",
            "71d76c95_92ae_4336_b8df_008eea79b59a",
            "7b630b30_400a_413b_9d29_b0b98688dac5.54b4e9ee_be4d_433b_b0f8_4263a00f6236",
            "7b630b30_400a_413b_9d29_b0b98688dac5.9f7c160b_2de5_47a8_b284_2dd6edad72a0",
            "7b630b30_400a_413b_9d29_b0b98688dac5.f246a8c4_e371_44e5_be8c_8e310eb39965",
            "7b630b30_400a_413b_9d29_b0b98688dac5.f411c52f_1e8c_4f90_9bdc_f2cdc18c22f3",
            "a931e657_2b90_4ab5_98fb_5f899761459e",
            "bb8bdc58_4098_4ba0_a92d_907dad26eaab.54b4e9ee_be4d_433b_b0f8_4263a00f6236",
            "bb8bdc58_4098_4ba0_a92d_907dad26eaab.9f7c160b_2de5_47a8_b284_2dd6edad72a0",
            "bb8bdc58_4098_4ba0_a92d_907dad26eaab.f246a8c4_e371_44e5_be8c_8e310eb39965",
            "bb8bdc58_4098_4ba0_a92d_907dad26eaab.f411c52f_1e8c_4f90_9bdc_f2cdc18c22f3",
            "3abdac1c_4717_445e_8248_0143c701015a.066adbcc_4ff8_44ef_9532_ddf4317cda1d",
            "3abdac1c_4717_445e_8248_0143c701015a.d63ebafc_0cfa_494f_a365_872e42564356",
            "bc3a295e_af26_46d7_9445_63325ab035b8.571ddd6d_fc12_47f6_bd07_e10c498ac742",
            "bc3a295e_af26_46d7_9445_63325ab035b8.f0f33bdd_e315_4fc5_9eab_a5a00211d3f8",
            "c10f79c9_744d_40a5_a272_7cde7ca1f5a6.36ab6c42_36b6_45af_a65e_fbd6d119b6f4",
            "c10f79c9_744d_40a5_a272_7cde7ca1f5a6.ac15587f_8b12_478f_bba8_652bfd9b9fd2",
            "f7c06302_3c06_4331_b7ee_6f01946aa788.98f02701_34d6_4fac_bcf3_412fdf68afff",
            "f7c06302_3c06_4331_b7ee_6f01946aa788.9b2707d8_11f8_4c54_9ac5_383879b10b90",
            "fd5601fa_5513_4b0a_b935_9817c84319e6.463a2507_2cb8_485d_8295_b97e311092bd",
            "fd5601fa_5513_4b0a_b935_9817c84319e6.78bd8dde_c90a_4f16_a19d_37a4945c018a",
            "08ff7ae0_acef_4f4d_8328_2de484a6d5e1.d7da115a_2c98_46f0_8ed0_070c844c2c3f",
            "47f9140d_38d8_4391_9aa1_08973d4b6370.fcf15fbf_1f03_4ae3_a1b9_09c21ae7c7c9",
            "3062fe14_682d_481f_a98e_b217c45c2337.219205ac_c806_4815_89f8_e5553838d484",
            "3abdac1c_4717_445e_8248_0143c701015a.e4462e58_35a7_48c6_a696_a54a696786ae",
            "793f94f9_73d2_4ed2_8ccb_abf4576c2a84.a670f52d_d221_47b4_ba67_bd8f5168907c",
            "8dbdff35_af3a_4c69_8963_53bdcb33c775.2d051934_94eb_497f_b85f_a928a0551586",
            "a047df87_7c81_4a1c_abc5_99a6eda40f1a.949bc9a5_ccfb_4e2f_9322_17eeccfa892a",
            "bc3a295e_af26_46d7_9445_63325ab035b8.f3378be5_da2a_4ef5_9111_dba3370f4b8a",
            "c10f79c9_744d_40a5_a272_7cde7ca1f5a6.a1c18ab6_ea4b_47a5_a6ce_7fbab20586d4",
            "ebb4f301_f353_446c_9b92_19f131e5181d.d3b18a02_2fde_48eb_9f78_e311eeb1990b",
            "f7c06302_3c06_4331_b7ee_6f01946aa788.a65adba9_bed7_4daa_bd1b_8520d7c54ac8",
            "fd5601fa_5513_4b0a_b935_9817c84319e6.2dfc0418_a9b9_431a_9d5c_572009e3c3da",
            "3062fe14_682d_481f_a98e_b217c45c2337.07b09fef_4f5c_4157_85a6_b67ee83010f3",
            "3abdac1c_4717_445e_8248_0143c701015a.ef042c0b_6845_47ee_935d_5e1466f9ce06",
            "793f94f9_73d2_4ed2_8ccb_abf4576c2a84.9ad2e97c_a220_49b8_9556_6ad6db019687",
            "8dbdff35_af3a_4c69_8963_53bdcb33c775.9da5f41c_49ae_45d5_9e9d_91b44261bc9e",
            "a047df87_7c81_4a1c_abc5_99a6eda40f1a.5aa74a2f_8579_4ecb_ad62_d746acf2b303",
            "bc3a295e_af26_46d7_9445_63325ab035b8.3243182a_b49e_4fa4_b17d_f03962b6d80e",
            "c10f79c9_744d_40a5_a272_7cde7ca1f5a6.7204a748_bc51_4070_bb1e_4a50b901df00",
            "ebb4f301_f353_446c_9b92_19f131e5181d.46f28e39_489d_43fd_ad39_de0e29ff2a90",
            "f7c06302_3c06_4331_b7ee_6f01946aa788.3559052c_d0f4_42ab_842f_7b17122e73b2",
            "fd5601fa_5513_4b0a_b935_9817c84319e6.08e5a191_0679_4c97_9c52_6079a3befaa4",
            "08ff7ae0_acef_4f4d_8328_2de484a6d5e1.f31b26ab_52c0_4781_a1dc_34c5096c825b",
            "47f9140d_38d8_4391_9aa1_08973d4b6370.e8a5b4d0_43f8_47fc_8bec_3df5201ef228",
            "f3fa74e8_4d3c_4003_9a22_1650c25f4da1",
            "1af5f6f9_15b1_4a62_962e_0ede16373202",
            "6b498416_1218_453d_a09e_64a2e2aebe24",
            "70d05bb1_6810_435a_bcac_8166afba0ba6",
            "7b630b30_400a_413b_9d29_b0b98688dac5",
            "bb8bdc58_4098_4ba0_a92d_907dad26eaab",
            "129c879b_b4b2_45a5_8daf_137885376b8a",
            "1af5f6f9_15b1_4a62_962e_0ede16373202.03b6527a_74b4_4292_8b2a_9ef67d5136ba",
            "1af5f6f9_15b1_4a62_962e_0ede16373202.2c1c5465_2f12_4247_abea_c7493d003286",
            "1af5f6f9_15b1_4a62_962e_0ede16373202.7f8a3b58_46c0_4bc8_a174_7ca36181c653",
            "1af5f6f9_15b1_4a62_962e_0ede16373202.a237d46d_cd33_4222_b76a_a6c3fa1ffe01",
            "1af5f6f9_15b1_4a62_962e_0ede16373202.bd260118_e2c4_4562_a67b_9cdd7c3c7b8c",
            "1af5f6f9_15b1_4a62_962e_0ede16373202.f1ddb1d3_e351_484e_84fe_51c28e57566a",
            "2254cd89_239d_49c2_acd5_96eabb45f817",
            "289fc135_2211_4de6_8e26_ceddc5aa48c5",
            "6b498416_1218_453d_a09e_64a2e2aebe24.03b6527a_74b4_4292_8b2a_9ef67d5136ba",
            "6b498416_1218_453d_a09e_64a2e2aebe24.2c1c5465_2f12_4247_abea_c7493d003286",
            "6b498416_1218_453d_a09e_64a2e2aebe24.7f8a3b58_46c0_4bc8_a174_7ca36181c653",
            "6b498416_1218_453d_a09e_64a2e2aebe24.a237d46d_cd33_4222_b76a_a6c3fa1ffe01",
            "6b498416_1218_453d_a09e_64a2e2aebe24.bd260118_e2c4_4562_a67b_9cdd7c3c7b8c",
            "6b498416_1218_453d_a09e_64a2e2aebe24.f1ddb1d3_e351_484e_84fe_51c28e57566a",
            "70d05bb1_6810_435a_bcac_8166afba0ba6.03b6527a_74b4_4292_8b2a_9ef67d5136ba",
            "70d05bb1_6810_435a_bcac_8166afba0ba6.2c1c5465_2f12_4247_abea_c7493d003286",
            "70d05bb1_6810_435a_bcac_8166afba0ba6.7f8a3b58_46c0_4bc8_a174_7ca36181c653",
            "70d05bb1_6810_435a_bcac_8166afba0ba6.a237d46d_cd33_4222_b76a_a6c3fa1ffe01",
            "70d05bb1_6810_435a_bcac_8166afba0ba6.bd260118_e2c4_4562_a67b_9cdd7c3c7b8c",
            "70d05bb1_6810_435a_bcac_8166afba0ba6.f1ddb1d3_e351_484e_84fe_51c28e57566a",
            "7b630b30_400a_413b_9d29_b0b98688dac5.03b6527a_74b4_4292_8b2a_9ef67d5136ba",
            "7b630b30_400a_413b_9d29_b0b98688dac5.2c1c5465_2f12_4247_abea_c7493d003286",
            "7b630b30_400a_413b_9d29_b0b98688dac5.7f8a3b58_46c0_4bc8_a174_7ca36181c653",
            "7b630b30_400a_413b_9d29_b0b98688dac5.a237d46d_cd33_4222_b76a_a6c3fa1ffe01",
            "7b630b30_400a_413b_9d29_b0b98688dac5.bd260118_e2c4_4562_a67b_9cdd7c3c7b8c",
            "7b630b30_400a_413b_9d29_b0b98688dac5.f1ddb1d3_e351_484e_84fe_51c28e57566a",
            "8879f46d_5f98_46d4_8565_3209fa379467",
            "8d8101df_d48b_4b8e_b54f_56e677011507",
            "a7c26929_0897_4967_aa99_3f9d4b10526a",
            "bb8bdc58_4098_4ba0_a92d_907dad26eaab.03b6527a_74b4_4292_8b2a_9ef67d5136ba",
            "bb8bdc58_4098_4ba0_a92d_907dad26eaab.2c1c5465_2f12_4247_abea_c7493d003286",
            "bb8bdc58_4098_4ba0_a92d_907dad26eaab.7f8a3b58_46c0_4bc8_a174_7ca36181c653",
            "bb8bdc58_4098_4ba0_a92d_907dad26eaab.a237d46d_cd33_4222_b76a_a6c3fa1ffe01",
            "bb8bdc58_4098_4ba0_a92d_907dad26eaab.bd260118_e2c4_4562_a67b_9cdd7c3c7b8c",
            "bb8bdc58_4098_4ba0_a92d_907dad26eaab.f1ddb1d3_e351_484e_84fe_51c28e57566a",
            "bdca0049_d1dc_4b15_95b8_d8f310dc651c",
            "f399e88d_ab5e_4eed_9aad_c466f4e5e740",
            "f3b6f23a_47a3_4b6b_ac7e_8fa00b83e560",
            "c08f4019_b535_41fd_a37a_282557a97934",
            "3abdac1c_4717_445e_8248_0143c701015a.5f9db389_7ade_4e13_a1d3_58bec0f0e647",
            "d64b9bc0_e6b3_4556_acda_8040d33b7148.96a43ad1_0a11_4ff6_8575_7debf96eb7fa",
            "d64b9bc0_e6b3_4556_acda_8040d33b7148.c7fec04c_e8ac_4a10_b940_ebd908f9d284",
            "08ff7ae0_acef_4f4d_8328_2de484a6d5e1.be157eec_28b6_451c_8003_826158c95f3a",
            "08ff7ae0_acef_4f4d_8328_2de484a6d5e1.c0d87097_2e40_4595_af3b_76306abf5f05",
            "124295e4_f6a9_4904_baa2_6bb2752d0059.3f1c3fd9_7770_4d52_90b2_920b826acf79",
            "3062fe14_682d_481f_a98e_b217c45c2337.0d1edc32_77a9_4ed6_be92_7a3b795ceb0e",
            "3abdac1c_4717_445e_8248_0143c701015a.3b909497_82ba_4a25_b737_1598d96d67ef",
            "3abdac1c_4717_445e_8248_0143c701015a.714fbd48_680e_4957_beac_7cad7a429760",
            "3abdac1c_4717_445e_8248_0143c701015a.b273eec4_77e6_4f86_a3e8_13e8f8ec1a05",
            "3abdac1c_4717_445e_8248_0143c701015a.e33ce5a7_ab9a_4d4b_8a27_718784b44a9c",
            "47f9140d_38d8_4391_9aa1_08973d4b6370.485eff8b_3a6a_4f36_be95_2d3f78ebddd4",
            "47f9140d_38d8_4391_9aa1_08973d4b6370.7b40bd35_8f79_4c33_8046_c4bda2231585",
            "554f7ba1_7232_4a12_a2b6_0954976ff3b9.a36e74ba_375e_42e0_a6f0_d932fc7d41da",
            "5953d8e3_565b_4b29_a498_5ef50f9aefbe.bf52d0a2_a3d1_46f2_ba36_129bd13c7abd",
            "793f94f9_73d2_4ed2_8ccb_abf4576c2a84.24586287_5927_424e_848d_889e322b97c8",
            "7ff5bb96_3b05_4eca_aa4d_237377014449.05a469ed_8f73_4a2e_9596_fa9d2413a1f5",
            "813fe978_db46_4f77_b69b_644bc8f3157a.c7db7e9c_6f8f_4b9b_9165_b6294c6690d5",
            "8dbdff35_af3a_4c69_8963_53bdcb33c775.b82c6949_dcee_43ac_b2b9_29c92c7f84b4",
            "8f8996ae_8dd4_4a45_bed9_7757fa6907db.00d6ac8b_77dd_4c03_ae3e_e2d9a051941e",
            "8f8996ae_8dd4_4a45_bed9_7757fa6907db.036904ae_1cd4_432e_b090_7b229fdefac7",
            "8f8996ae_8dd4_4a45_bed9_7757fa6907db.16544776_4d60_4e52_a598_fec8591af679",
            "8f8996ae_8dd4_4a45_bed9_7757fa6907db.31f74662_360c_468e_a205_512b566ca406",
            "8f8996ae_8dd4_4a45_bed9_7757fa6907db.5910bc28_5b9a_4f65_9ec8_ba966a592d44",
            "8f8996ae_8dd4_4a45_bed9_7757fa6907db.879521d3_b13f_4339_abae_14e97c2a3939",
            "951d1945_98d0_4329_9025_dce55687f3a4.75e94f04_dba6_43e1_9bd1_b010a7abb65c",
            "a0036c77_2d17_4e7d_a734_9e7a1e290270.bb1397a7_de71_4ce8_8772_f872991c0118",
            "a047df87_7c81_4a1c_abc5_99a6eda40f1a.628c1cc5_c875_460f_9451_01bca93c0093",
            "a623c910_08ec_4a6f_95ff_d6c28ead53ca.05bbade4_da0b_4d8c_8004_3280b2d1b560",
            "a623c910_08ec_4a6f_95ff_d6c28ead53ca.213fc08f_faea_4a35_adc9_67b59a4a9878",
            "a623c910_08ec_4a6f_95ff_d6c28ead53ca.73a0dd95_2b59_4e89_9fe6_4cdf668efe63",
            "b58b8aff_f133_4447_b776_5d8a825f0de3.5ead01a0_b541_4f33_b137_00d6ae9d3bed",
            "b81feefd_2a2b_488b_9618_3994e8ca9653.d9c149f6_4382_447d_9546_d6ebc2eb090d",
            "bc3a295e_af26_46d7_9445_63325ab035b8.87216800_970e_4b24_862f_8fd647071388",
            "c10f79c9_744d_40a5_a272_7cde7ca1f5a6.0d760e87_4d3f_4b5a_8580_8a5fc28d0113",
            "c10f79c9_744d_40a5_a272_7cde7ca1f5a6.916a24f0_33ef_432f_a435_21847edc39f9",
            "cbb33199_7896_432f_b0f6_ef45a4650723.a49381bc_c748_4757_b500_350b0aebdce5",
            "d0b621a6_148d_427d_8aef_b073b11184e1.70751450_4371_44af_a8a2_2b97480c34d0",
            "d64b9bc0_e6b3_4556_acda_8040d33b7148.d646b102_cad2_4c43_852c_6f4e04ca0b01.04fa8942_55b0_41fb_9cfc_66d087d70245",
            "da5873de_e112_4f9b_9e0f_149bd1221894.c86be32c_a122_4e1e_af28_3e7ff28b3fb5",
            "e04fe081_6287_4d73_8bf4_8b86c5169e65.037c21a3_39bc_42bf_908c_ff8fea5e6c2a",
            "e6a6a83c_d4a3_4399_bf59_2a465dde78ae.ec3ba9b6_19e4_4861_b9f1_584d11d080b8",
            "e700973b_9070_4ec8_9e8d_10cdf1fd209d.bf5dfa2b_5274_46ec_b613_c1de8df5bdd5",
            "ebb4f301_f353_446c_9b92_19f131e5181d.ea05dd1f_2cc1_4471_84b5_ca8b671c5684",
            "f0cc2646_d82d_4d1f_955c_46ed9c5fa1df.1de8217a_44b8_46f9_9fe4_367fadd30c3a",
            "f7c06302_3c06_4331_b7ee_6f01946aa788.b5383462_fe50_4751_ac5f_29b0c92e081b",
            "fd5601fa_5513_4b0a_b935_9817c84319e6.be69c4fb_c947_4f68_933c_a88f996642d8",
            "1d711925_bc14_4e4c_ad0a_f416c78b0099",
            "28e7567d_078b_4497_b23c_4c5abd28534d",
            "85139fef_5f26_498f_b481_0dfdd3f27b69",
            "ddc8bfdc_e73e_4f94_85f7_4aa0a8a62328",
            "e0d36d76_a920_4b06_a16d_faac01c76dc9",
            "124295e4_f6a9_4904_baa2_6bb2752d0059",
            "3062fe14_682d_481f_a98e_b217c45c2337",
            "554f7ba1_7232_4a12_a2b6_0954976ff3b9",
            "5953d8e3_565b_4b29_a498_5ef50f9aefbe",
            "793f94f9_73d2_4ed2_8ccb_abf4576c2a84",
            "8dbdff35_af3a_4c69_8963_53bdcb33c775",
            "951d1945_98d0_4329_9025_dce55687f3a4",
            "a047df87_7c81_4a1c_abc5_99a6eda40f1a",
            "cbb33199_7896_432f_b0f6_ef45a4650723",
            "d0b621a6_148d_427d_8aef_b073b11184e1",
            "da5873de_e112_4f9b_9e0f_149bd1221894",
            "e700973b_9070_4ec8_9e8d_10cdf1fd209d",
            "ebb4f301_f353_446c_9b92_19f131e5181d",
            "08ff7ae0_acef_4f4d_8328_2de484a6d5e1.7df66e65_e069_4e53_ab70_776b869e7450",
            "47f9140d_38d8_4391_9aa1_08973d4b6370.da249185_09ee_4925_9417_0940cd363b5c",
            "0e37779d_d4ce_4270_b949_10da6c2dcb3a",
            "146454a5_85c4_4311_a5c4_523e1990a3d7",
            "3c8e2ab6_d44c_4352_b84d_f1fca643e199",
            "58741249_11f2_4deb_8fc0_c26e4a43aa4a",
            "612360a9_b9a5_4040_83fa_b7e26f4780e2",
            "6ad7c8e6_3dc6_454e_a19c_1fa68fa9d917",
            "8f7007c1_ae4b_48a4_808c_18696b8c3fda",
            "e0e2d4d0_1ec8_4831_9023_0530ca3e9d09",
            "f341b406_b9b8_416d_9da8_99351b0010eb",
            "ffbf99d0_be8f_4f3b_bd21_1c10b8bed412",
            "3062fe14_682d_481f_a98e_b217c45c2337.c37ffbd6_a434_4c54_acb6_7acb47bcdebd",
            "3abdac1c_4717_445e_8248_0143c701015a.ec64f6bf_7848_4098_b019_e5990f504ea3",
            "793f94f9_73d2_4ed2_8ccb_abf4576c2a84.eb679d1f_669a_43e8_9280_5fbad69ee84e",
            "8dbdff35_af3a_4c69_8963_53bdcb33c775.bc7ae337_fe40_448f_b4c9_2d4388b01a9d",
            "a047df87_7c81_4a1c_abc5_99a6eda40f1a.d916a173_b696_47e1_878d_3bf49b037210",
            "bc3a295e_af26_46d7_9445_63325ab035b8.375a2f29_0da6_471b_bddb_a46c68e66c8f",
            "c10f79c9_744d_40a5_a272_7cde7ca1f5a6.fb3dae36_ad5f_4d5c_9b42_b9d991a02a54",
            "ebb4f301_f353_446c_9b92_19f131e5181d.c5095e71_a43a_45f4_a921_fab8117aad6f",
            "f7c06302_3c06_4331_b7ee_6f01946aa788.ebc04eca_84dd_47c1_a205_1e97156c4b7c",
            "fd5601fa_5513_4b0a_b935_9817c84319e6.c38e3bbe_8a6b_452e_ac68_e3a57288e3ce",
            "cc489177_105f_4f1f_848d_205d9c921ac6",
            "6e0854f9_3888_4867_9176_0693de75f841",
            "ef790dae_bb9b_4cd7_a52c_ea35841f02dd",
            "6ac599d9_8b6d_422e_be15_d3e9a05c50c4",
            "9434ad0c_af3b_438f_9d1f_f13aa2fce872",
            "a1077967_e4bb_4bd7_9819_9ce9222a6cdf",
            "b0729477_1c96_485d_bb5e_e19c5a5a73c4",
            "3fe4780d_670e_4eac_a222_94440f0de466",
            "0f91b6d7_2dbb_4054_9b79_e8c1f1a09d84",
            "133c55ef_4f15_4856_9df6_64ccb3331e19",
            "196e610c_423a_4d83_8758_27b56815ad39",
            "2635104d_76e3_425f_aa26_38b095d59a47",
            "3f0a0663_5bdf_479c_8a4d_764baaf61fa1",
            "585c34c1_63e7_4934_8c22_44b6ce98ed46",
            "5c2c591b_b04c_47d6_a586_7b323df99c9a",
            "6b06b678_a5f6_4e1b_9afc_b8790faf5956",
            "73d81674_fc66_4ba0_a0af_1d9e717e0366",
            "a6434932_7e47_428e_aee5_9b82f63438e4",
            "a7e9b5ac_074e_43e8_a128_3f84228eff7b",
            "b9a75205_8765_4a25_a589_70558fa07a92",
            "bba618b9_4988_4dc9_ba86_591157fc8b10",
            "cfb620a6_76ed_48e5_a44e_3670ea4f4c83",
            "e0c3249a_c00d_4e43_88a6_3a3feb3c489e",
            "e4b880fc_432b_4166_9999_b312904ab4b8",
            "eef8e72b_b26c_44ce_a346_204b969e8319",
            "fd879747_e934_46a0_b437_d42fad3b8388",
            "3b373634_2461_4b61_8bcb_068c12b7e1a8.2d8226ae_9fb5_477a_b1c3_dc069ae9ec4d",
            "3b373634_2461_4b61_8bcb_068c12b7e1a8.41c4c904_7cf6_4706_8495_a128086d07e7",
            "3b373634_2461_4b61_8bcb_068c12b7e1a8.b335617c_4262_41b5_80dc_4af207b12a10",
            "3b373634_2461_4b61_8bcb_068c12b7e1a8.d0a77ae4_734b_4a4c_bff7_66ecdfd8e3af",
            "3b373634_2461_4b61_8bcb_068c12b7e1a8.e1c332cd_b64b_40d6_bdb1_64c26eaca6ec",
            "506f355b_ec0d_4763_8082_5d022dcf6153.2d8226ae_9fb5_477a_b1c3_dc069ae9ec4d",
            "506f355b_ec0d_4763_8082_5d022dcf6153.b335617c_4262_41b5_80dc_4af207b12a10",
            "506f355b_ec0d_4763_8082_5d022dcf6153.d0a77ae4_734b_4a4c_bff7_66ecdfd8e3af",
            "506f355b_ec0d_4763_8082_5d022dcf6153.df84f19d_e8f9_4bdf_963b_71b2cd80cf9e",
            "d02c6fdd_ce6b_44a1_b193_1ede85e7d4c8.e1c332cd_b64b_40d6_bdb1_64c26eaca6ec",
            "d02c6fdd_ce6b_44a1_b193_1ede85e7d4c8.ec82b630_d0f2_4f6d_9c7c_948279cb8bd6",
            "08f65fc9_0394_4ab2_8068_0c07b4fe13f0",
            "0be7d9ef_1c44_4217_8b8b_7deb1e3c727d",
            "0cb0759c_3733_49f2_b1c0_d1f09c363563",
            "17342d15_48c8_4f15_9a8f_aba2de4391ca",
            "29a3dfd4_c060_4883_867b_ec0e204f0246",
            "2e896b5e_18f3_4702_a531_2aafe2b02fca",
            "64074733_c93d_409f_8b56_79a64ddca291",
            "646ca198_4192_4271_adcb_3b1ccb3c949a",
            "657a1c32_4f7d_4242_85ba_dcbf63990ecb",
            "66ab910e_ab78_423e_ba18_831423e00ccf",
            "81bd2318_6de7_4e2c_a51d_1ba0999bec1a",
            "adc6b0b0_9679_457d_adc5_3d653278be57",
            "c5434cb1_954e_4b27_891f_f890506397b3",
            "d6dfd1e2_df6a_4bce_a896_4f762f1061ed",
            "e99be6f7_cab8_4b9d_a814_606ccee605a3",
            "f9cca3c4_56ce_432b_840e_754fd0e3c918",
            "fc0c8557_0f24_41e1_836e_a0225707fb90",
            "ff4a5909_a9ec_43f2_87c3_8a4c1ec323fa",
            "08ff7ae0_acef_4f4d_8328_2de484a6d5e1.1316fd60_be4e_436d_ad12_45e17d3f7254",
            "08ff7ae0_acef_4f4d_8328_2de484a6d5e1.18999260_6d8c_4cd3_91fd_c52f89e25b4b",
            "08ff7ae0_acef_4f4d_8328_2de484a6d5e1.3cbb4762_6e59_4f46_b688_c11f433b1cfa",
            "08ff7ae0_acef_4f4d_8328_2de484a6d5e1.a178dace_cf4a_4160_8dfa_f30ecf806b87",
            "08ff7ae0_acef_4f4d_8328_2de484a6d5e1.ba309bf0_0849_44bb_9aaf_494a8aba4735",
            "08ff7ae0_acef_4f4d_8328_2de484a6d5e1.214c8636_0f46_4295_82ab_8aa2602ee776",
            "08ff7ae0_acef_4f4d_8328_2de484a6d5e1.2db1336a_027e_49a3_be92_d6fafdf09906",
            "124295e4_f6a9_4904_baa2_6bb2752d0059.5b44eda8_b48d_4288_9730_fb6c670fd0cb",
            "3062fe14_682d_481f_a98e_b217c45c2337.6a4b823e_a925_43f3_a2bd_71594907958b",
            "3abdac1c_4717_445e_8248_0143c701015a.24c35a0b_f711_43e9_8064_0c0a3cfa06b6",
            "554f7ba1_7232_4a12_a2b6_0954976ff3b9.9861b7de_7565_4d8e_938f_b48794d4e744",
            "5953d8e3_565b_4b29_a498_5ef50f9aefbe.7dc9a083_dc0e_4428_87ac_8e4f3c1cdd80",
            "793f94f9_73d2_4ed2_8ccb_abf4576c2a84.127e905e_b15f_42fc_a928_c773c761d53b",
            "8dbdff35_af3a_4c69_8963_53bdcb33c775.59d5c47c_cd59_4c0c_91b9_b055a79b2992",
            "951d1945_98d0_4329_9025_dce55687f3a4.b64b4982_080b_4581_8f0a_1021e9bfbca9",
            "a047df87_7c81_4a1c_abc5_99a6eda40f1a.e93987ef_2524_42e2_9750_127a5b165e18",
            "bc3a295e_af26_46d7_9445_63325ab035b8.530e4b40_a699_485f_a92f_ca81035320ec",
            "c10f79c9_744d_40a5_a272_7cde7ca1f5a6.fb20d0cb_185c_4d94_b1a1_37df9bc44074",
            "cbb33199_7896_432f_b0f6_ef45a4650723.64000e7d_4afa_4a79_8fb5_28a82180956c",
            "d0b621a6_148d_427d_8aef_b073b11184e1.ec9bef85_a712_4d49_9389_b0ac72ad8abd",
            "da5873de_e112_4f9b_9e0f_149bd1221894.512b8e70_2d08_44cf_9153_4f60b1bdd5be",
            "e700973b_9070_4ec8_9e8d_10cdf1fd209d.36b4dfef_6302_41ed_b481_bd4263a19e12",
            "ebb4f301_f353_446c_9b92_19f131e5181d.bae458eb_2959_460d_8bf2_1d9cc8b4a216",
            "f7c06302_3c06_4331_b7ee_6f01946aa788.42b56f2d_cc14_4859_a534_be645d6cefb7",
            "fd5601fa_5513_4b0a_b935_9817c84319e6.9a0ec717_4382_4dcd_9991_de2329f58b19",
            "00da8e36_4ba2_4467_8be8_45e25ccb5943",
            "22937c9b_ad32_47c9_b013_1df3a46f0d37",
            "28853f0e_39dc_4c33_8c92_0e7ac96e3cdb",
            "2ff57828_e11f_46c1_8613_4c46fa93df3d",
            "3d8a8792_c37d_4688_82a7_68d2106ba370",
            "3eb66776_ed74_400b_9347_eb5406265297",
            "52f2d2e0_bfb2_4239_b057_7d293bc0147b",
            "685bb024_b6a2_4db4_b08e_275b12da9764",
            "69332eeb_21e2_49a3_a29d_e115416c4fd0",
            "725de676_3337_4f38_bbbf_b1c0c63df2b0",
            "72a1c938_6603_4be8_aaa6_3335786af276",
            "749483d3_5a12_4773_be1a_622e706c814b",
            "a4579f9f_fa4e_4ee5_a453_056c30ce770f",
            "aa53e626_0e50_4824_bc67_8d24c51494d6",
            "ca2ea368_e410_4613_aa9c_9f2900a3e65a",
            "e5882b85_e45c_480b_ae94_51d1082906f3",
            "f10e6b0e_6f3d_4f4e_8283_246451c8c418",
            "f21b568c_9e73_4f3d_a388_9b8c414e8ebe",
            "7105ff0d_6772_4429_b7de_2ea15e1afd1c",
            "8c409529_fddc_41dc_a3a5_92fa14ca1cdb",
            "506f355b_ec0d_4763_8082_5d022dcf6153.41c4c904_7cf6_4706_8495_a128086d07e7",
            "506f355b_ec0d_4763_8082_5d022dcf6153.e1c332cd_b64b_40d6_bdb1_64c26eaca6ec",
            "3b373634_2461_4b61_8bcb_068c12b7e1a8.0c944fda_d94e_48f0_9b1a_b7f570c63c40",
            "506f355b_ec0d_4763_8082_5d022dcf6153.0c944fda_d94e_48f0_9b1a_b7f570c63c40",
            "d02c6fdd_ce6b_44a1_b193_1ede85e7d4c8.2d8226ae_9fb5_477a_b1c3_dc069ae9ec4d",
            "3abdac1c_4717_445e_8248_0143c701015a.3c7219ee_7287_4ab9_aff0_5d0e7ca4056d",
            "bc3a295e_af26_46d7_9445_63325ab035b8.a803cc3d_3abe_4025_b543_59663bfdee18",
            "c10f79c9_744d_40a5_a272_7cde7ca1f5a6.db8f95bc_01fa_43ba_8ea1_50d4df45fe7c",
            "f7c06302_3c06_4331_b7ee_6f01946aa788.55c94532_5ba1_4926_a365_ce0ba45ae766",
            "fd5601fa_5513_4b0a_b935_9817c84319e6.15195db0_d212_497d_8cf9_d3c50480bb80",
            "3062fe14_682d_481f_a98e_b217c45c2337.de3fa4f5_0167_4cb3_a31d_40c8be0ea15f",
            "3abdac1c_4717_445e_8248_0143c701015a.e8920540_0dda_4ff4_b59e_439c8650f5b8",
            "793f94f9_73d2_4ed2_8ccb_abf4576c2a84.92715a10_5ad9_4d9e_ae4f_77a6a189cca6",
            "8dbdff35_af3a_4c69_8963_53bdcb33c775.ce03ca4c_60a5_424a_acaf_0a320003823b",
            "a047df87_7c81_4a1c_abc5_99a6eda40f1a.7d329f80_d00e_4cdf_a7c6_7a5d695751e1",
            "bc3a295e_af26_46d7_9445_63325ab035b8.397e65a4_32ae_4891_bf58_481b36031e65",
            "c10f79c9_744d_40a5_a272_7cde7ca1f5a6.d2de1941_7ba3_40ef_88a7_5e71b79bf1fa",
            "ebb4f301_f353_446c_9b92_19f131e5181d.2b19fb5b_4957_4c2f_aa59_b65feb4c6f62",
            "f7c06302_3c06_4331_b7ee_6f01946aa788.d0dca69f_9dcc_4b6b_8ffb_e3c64d52f085",
            "fd5601fa_5513_4b0a_b935_9817c84319e6.ed7078ff_48e3_48e4_bcbb_3d38847be2f5",
            "124295e4_f6a9_4904_baa2_6bb2752d0059.859193de_a4f3_4707_879c_b8a8188c5f5b.75d51cf9_fc4c_4f0b_9987_0d2ceb58e294",
            "124295e4_f6a9_4904_baa2_6bb2752d0059.859193de_a4f3_4707_879c_b8a8188c5f5b.d4cb6566_30c1_470d_9777_8c2d71c6bd8d",
            "124295e4_f6a9_4904_baa2_6bb2752d0059.859193de_a4f3_4707_879c_b8a8188c5f5b.f043bd1e_905e_45bb_b70b_33cc422e7a27",
            "3062fe14_682d_481f_a98e_b217c45c2337.b3f637dd_fc6a_48c7_9919_ed48775a743a.75d51cf9_fc4c_4f0b_9987_0d2ceb58e294",
            "3062fe14_682d_481f_a98e_b217c45c2337.b3f637dd_fc6a_48c7_9919_ed48775a743a.d4cb6566_30c1_470d_9777_8c2d71c6bd8d",
            "3062fe14_682d_481f_a98e_b217c45c2337.b3f637dd_fc6a_48c7_9919_ed48775a743a.f043bd1e_905e_45bb_b70b_33cc422e7a27",
            "3abdac1c_4717_445e_8248_0143c701015a.71bfdedb_73da_4307_9046_dba6e35eabdf.75d51cf9_fc4c_4f0b_9987_0d2ceb58e294",
            "3abdac1c_4717_445e_8248_0143c701015a.71bfdedb_73da_4307_9046_dba6e35eabdf.d4cb6566_30c1_470d_9777_8c2d71c6bd8d",
            "3abdac1c_4717_445e_8248_0143c701015a.71bfdedb_73da_4307_9046_dba6e35eabdf.f043bd1e_905e_45bb_b70b_33cc422e7a27",
            "554f7ba1_7232_4a12_a2b6_0954976ff3b9.a8a33c70_c979_47b7_aa0a_4a2c14cf89aa.75d51cf9_fc4c_4f0b_9987_0d2ceb58e294",
            "554f7ba1_7232_4a12_a2b6_0954976ff3b9.a8a33c70_c979_47b7_aa0a_4a2c14cf89aa.d4cb6566_30c1_470d_9777_8c2d71c6bd8d",
            "554f7ba1_7232_4a12_a2b6_0954976ff3b9.a8a33c70_c979_47b7_aa0a_4a2c14cf89aa.f043bd1e_905e_45bb_b70b_33cc422e7a27",
            "5953d8e3_565b_4b29_a498_5ef50f9aefbe.c9640af1_0c83_4ee4_9e18_3dd88f104727.75d51cf9_fc4c_4f0b_9987_0d2ceb58e294",
            "5953d8e3_565b_4b29_a498_5ef50f9aefbe.c9640af1_0c83_4ee4_9e18_3dd88f104727.d4cb6566_30c1_470d_9777_8c2d71c6bd8d",
            "5953d8e3_565b_4b29_a498_5ef50f9aefbe.c9640af1_0c83_4ee4_9e18_3dd88f104727.f043bd1e_905e_45bb_b70b_33cc422e7a27",
            "793f94f9_73d2_4ed2_8ccb_abf4576c2a84.9a6c9ad4_3c32_4aab_a58e_03ed48e116eb.75d51cf9_fc4c_4f0b_9987_0d2ceb58e294",
            "793f94f9_73d2_4ed2_8ccb_abf4576c2a84.9a6c9ad4_3c32_4aab_a58e_03ed48e116eb.d4cb6566_30c1_470d_9777_8c2d71c6bd8d",
            "793f94f9_73d2_4ed2_8ccb_abf4576c2a84.9a6c9ad4_3c32_4aab_a58e_03ed48e116eb.f043bd1e_905e_45bb_b70b_33cc422e7a27",
            "8dbdff35_af3a_4c69_8963_53bdcb33c775.0283d8fe_43f1_4d0e_9a53_9dba9dacb759.75d51cf9_fc4c_4f0b_9987_0d2ceb58e294",
            "8dbdff35_af3a_4c69_8963_53bdcb33c775.0283d8fe_43f1_4d0e_9a53_9dba9dacb759.d4cb6566_30c1_470d_9777_8c2d71c6bd8d",
            "8dbdff35_af3a_4c69_8963_53bdcb33c775.0283d8fe_43f1_4d0e_9a53_9dba9dacb759.f043bd1e_905e_45bb_b70b_33cc422e7a27",
            "951d1945_98d0_4329_9025_dce55687f3a4.7ea99eda_1771_4b77_bd58_81e429a973fa.75d51cf9_fc4c_4f0b_9987_0d2ceb58e294",
            "951d1945_98d0_4329_9025_dce55687f3a4.7ea99eda_1771_4b77_bd58_81e429a973fa.d4cb6566_30c1_470d_9777_8c2d71c6bd8d",
            "951d1945_98d0_4329_9025_dce55687f3a4.7ea99eda_1771_4b77_bd58_81e429a973fa.f043bd1e_905e_45bb_b70b_33cc422e7a27",
            "a047df87_7c81_4a1c_abc5_99a6eda40f1a.de900d60_7e5c_4f71_aa0a_7e9a2e7522f5.75d51cf9_fc4c_4f0b_9987_0d2ceb58e294",
            "a047df87_7c81_4a1c_abc5_99a6eda40f1a.de900d60_7e5c_4f71_aa0a_7e9a2e7522f5.d4cb6566_30c1_470d_9777_8c2d71c6bd8d",
            "a047df87_7c81_4a1c_abc5_99a6eda40f1a.de900d60_7e5c_4f71_aa0a_7e9a2e7522f5.f043bd1e_905e_45bb_b70b_33cc422e7a27",
            "bc3a295e_af26_46d7_9445_63325ab035b8.936d6d8f_0388_448a_8732_257251232ef8.75d51cf9_fc4c_4f0b_9987_0d2ceb58e294",
            "bc3a295e_af26_46d7_9445_63325ab035b8.936d6d8f_0388_448a_8732_257251232ef8.d4cb6566_30c1_470d_9777_8c2d71c6bd8d",
            "bc3a295e_af26_46d7_9445_63325ab035b8.936d6d8f_0388_448a_8732_257251232ef8.f043bd1e_905e_45bb_b70b_33cc422e7a27",
            "c10f79c9_744d_40a5_a272_7cde7ca1f5a6.e3794860_91e1_4d33_b59e_6d32b3608901.75d51cf9_fc4c_4f0b_9987_0d2ceb58e294",
            "c10f79c9_744d_40a5_a272_7cde7ca1f5a6.e3794860_91e1_4d33_b59e_6d32b3608901.d4cb6566_30c1_470d_9777_8c2d71c6bd8d",
            "c10f79c9_744d_40a5_a272_7cde7ca1f5a6.e3794860_91e1_4d33_b59e_6d32b3608901.f043bd1e_905e_45bb_b70b_33cc422e7a27",
            "cbb33199_7896_432f_b0f6_ef45a4650723.9f0e2fee_7ea6_497c_9d2a_9d47a7accb4a.75d51cf9_fc4c_4f0b_9987_0d2ceb58e294",
            "cbb33199_7896_432f_b0f6_ef45a4650723.9f0e2fee_7ea6_497c_9d2a_9d47a7accb4a.d4cb6566_30c1_470d_9777_8c2d71c6bd8d",
            "cbb33199_7896_432f_b0f6_ef45a4650723.9f0e2fee_7ea6_497c_9d2a_9d47a7accb4a.f043bd1e_905e_45bb_b70b_33cc422e7a27",
            "d0b621a6_148d_427d_8aef_b073b11184e1.444b6ff0_2823_4447_9544_c97ff41406c6.75d51cf9_fc4c_4f0b_9987_0d2ceb58e294",
            "d0b621a6_148d_427d_8aef_b073b11184e1.444b6ff0_2823_4447_9544_c97ff41406c6.d4cb6566_30c1_470d_9777_8c2d71c6bd8d",
            "d0b621a6_148d_427d_8aef_b073b11184e1.444b6ff0_2823_4447_9544_c97ff41406c6.f043bd1e_905e_45bb_b70b_33cc422e7a27",
            "da5873de_e112_4f9b_9e0f_149bd1221894.8084c259_152b_4607_808b_0fd0a92973e2.75d51cf9_fc4c_4f0b_9987_0d2ceb58e294",
            "da5873de_e112_4f9b_9e0f_149bd1221894.8084c259_152b_4607_808b_0fd0a92973e2.d4cb6566_30c1_470d_9777_8c2d71c6bd8d",
            "da5873de_e112_4f9b_9e0f_149bd1221894.8084c259_152b_4607_808b_0fd0a92973e2.f043bd1e_905e_45bb_b70b_33cc422e7a27",
            "e700973b_9070_4ec8_9e8d_10cdf1fd209d.9a7697b2_908b_44e2_9d47_24a3c5947254.75d51cf9_fc4c_4f0b_9987_0d2ceb58e294",
            "e700973b_9070_4ec8_9e8d_10cdf1fd209d.9a7697b2_908b_44e2_9d47_24a3c5947254.d4cb6566_30c1_470d_9777_8c2d71c6bd8d",
            "e700973b_9070_4ec8_9e8d_10cdf1fd209d.9a7697b2_908b_44e2_9d47_24a3c5947254.f043bd1e_905e_45bb_b70b_33cc422e7a27",
            "ebb4f301_f353_446c_9b92_19f131e5181d.f6cf4a1e_6056_4f73_9dba_4e01a86113d8.75d51cf9_fc4c_4f0b_9987_0d2ceb58e294",
            "ebb4f301_f353_446c_9b92_19f131e5181d.f6cf4a1e_6056_4f73_9dba_4e01a86113d8.d4cb6566_30c1_470d_9777_8c2d71c6bd8d",
            "ebb4f301_f353_446c_9b92_19f131e5181d.f6cf4a1e_6056_4f73_9dba_4e01a86113d8.f043bd1e_905e_45bb_b70b_33cc422e7a27",
            "f7c06302_3c06_4331_b7ee_6f01946aa788.60befd3c_ef15_481b_ab9a_5e1205e90abc.75d51cf9_fc4c_4f0b_9987_0d2ceb58e294",
            "f7c06302_3c06_4331_b7ee_6f01946aa788.60befd3c_ef15_481b_ab9a_5e1205e90abc.d4cb6566_30c1_470d_9777_8c2d71c6bd8d",
            "f7c06302_3c06_4331_b7ee_6f01946aa788.60befd3c_ef15_481b_ab9a_5e1205e90abc.f043bd1e_905e_45bb_b70b_33cc422e7a27",
            "fd5601fa_5513_4b0a_b935_9817c84319e6.3a3f575d_2d3c_4399_a159_9cfabfb29282.75d51cf9_fc4c_4f0b_9987_0d2ceb58e294",
            "fd5601fa_5513_4b0a_b935_9817c84319e6.3a3f575d_2d3c_4399_a159_9cfabfb29282.d4cb6566_30c1_470d_9777_8c2d71c6bd8d",
            "fd5601fa_5513_4b0a_b935_9817c84319e6.3a3f575d_2d3c_4399_a159_9cfabfb29282.f043bd1e_905e_45bb_b70b_33cc422e7a27",
            "3062fe14_682d_481f_a98e_b217c45c2337.260d58ee_9e0f_4217_ae6c_7204e50b0b0b",
            "3abdac1c_4717_445e_8248_0143c701015a.f5a07a2d_5e03_4a9c_ab12_79feb4d465ae",
            "793f94f9_73d2_4ed2_8ccb_abf4576c2a84.6e595562_95fc_4213_85cd_945697ec6f38",
            "8dbdff35_af3a_4c69_8963_53bdcb33c775.5a8bbc3a_d142_48cd_8c31_a76c56d4cc6f",
            "a047df87_7c81_4a1c_abc5_99a6eda40f1a.4a2d9671_6a0f_4f57_9af7_581cf25c87f9",
            "bc3a295e_af26_46d7_9445_63325ab035b8.1f5a1448_c522_4ef0_995d_37f7861097a4",
            "c10f79c9_744d_40a5_a272_7cde7ca1f5a6.0654bfbd_6249_4bb5_a8fd_4a19da72ad73",
            "ebb4f301_f353_446c_9b92_19f131e5181d.76167b6b_e2fe_4431_8b2a_59b17688b2c0",
            "f7c06302_3c06_4331_b7ee_6f01946aa788.4fc6f966_49b6_4c54_b322_ae66f252078a",
            "fd5601fa_5513_4b0a_b935_9817c84319e6.6b5b413e_aaff_4499_8c4e_8c5ea9fe7766",
            "3abdac1c_4717_445e_8248_0143c701015a.4b3adae1_1b32_4180_bad5_24d40c9726fb",
            "bc3a295e_af26_46d7_9445_63325ab035b8.d17aa466_7355_4d3e_9087_ccdc4c6777ad",
            "c10f79c9_744d_40a5_a272_7cde7ca1f5a6.2a8b4dd8_0a7d_4caf_a200_b9881c915a0a",
            "f7c06302_3c06_4331_b7ee_6f01946aa788.24bb4b39_1401_4218_a4a0_9f943c19be6c",
            "fd5601fa_5513_4b0a_b935_9817c84319e6.5274e12b_7815_4beb_b0e0_1c2cdeebf2f4",
            "124295e4_f6a9_4904_baa2_6bb2752d0059.859193de_a4f3_4707_879c_b8a8188c5f5b.345dacf8_07e0_45c0_b151_c22f407fcc13",
            "124295e4_f6a9_4904_baa2_6bb2752d0059.859193de_a4f3_4707_879c_b8a8188c5f5b.9661bdcc_e598_421d_82f4_97a0dc5863de",
            "124295e4_f6a9_4904_baa2_6bb2752d0059.859193de_a4f3_4707_879c_b8a8188c5f5b.cc4b2230_9874_4b09_92d4_3b0fd4ff9318",
            "3062fe14_682d_481f_a98e_b217c45c2337.b3f637dd_fc6a_48c7_9919_ed48775a743a.345dacf8_07e0_45c0_b151_c22f407fcc13",
            "3062fe14_682d_481f_a98e_b217c45c2337.b3f637dd_fc6a_48c7_9919_ed48775a743a.9661bdcc_e598_421d_82f4_97a0dc5863de",
            "3062fe14_682d_481f_a98e_b217c45c2337.b3f637dd_fc6a_48c7_9919_ed48775a743a.cc4b2230_9874_4b09_92d4_3b0fd4ff9318",
            "3abdac1c_4717_445e_8248_0143c701015a.71bfdedb_73da_4307_9046_dba6e35eabdf.345dacf8_07e0_45c0_b151_c22f407fcc13",
            "3abdac1c_4717_445e_8248_0143c701015a.71bfdedb_73da_4307_9046_dba6e35eabdf.9661bdcc_e598_421d_82f4_97a0dc5863de",
            "3abdac1c_4717_445e_8248_0143c701015a.71bfdedb_73da_4307_9046_dba6e35eabdf.cc4b2230_9874_4b09_92d4_3b0fd4ff9318",
            "554f7ba1_7232_4a12_a2b6_0954976ff3b9.a8a33c70_c979_47b7_aa0a_4a2c14cf89aa.345dacf8_07e0_45c0_b151_c22f407fcc13",
            "554f7ba1_7232_4a12_a2b6_0954976ff3b9.a8a33c70_c979_47b7_aa0a_4a2c14cf89aa.9661bdcc_e598_421d_82f4_97a0dc5863de",
            "554f7ba1_7232_4a12_a2b6_0954976ff3b9.a8a33c70_c979_47b7_aa0a_4a2c14cf89aa.cc4b2230_9874_4b09_92d4_3b0fd4ff9318",
            "5953d8e3_565b_4b29_a498_5ef50f9aefbe.c9640af1_0c83_4ee4_9e18_3dd88f104727.345dacf8_07e0_45c0_b151_c22f407fcc13",
            "5953d8e3_565b_4b29_a498_5ef50f9aefbe.c9640af1_0c83_4ee4_9e18_3dd88f104727.9661bdcc_e598_421d_82f4_97a0dc5863de",
            "5953d8e3_565b_4b29_a498_5ef50f9aefbe.c9640af1_0c83_4ee4_9e18_3dd88f104727.cc4b2230_9874_4b09_92d4_3b0fd4ff9318",
            "793f94f9_73d2_4ed2_8ccb_abf4576c2a84.9a6c9ad4_3c32_4aab_a58e_03ed48e116eb.345dacf8_07e0_45c0_b151_c22f407fcc13",
            "793f94f9_73d2_4ed2_8ccb_abf4576c2a84.9a6c9ad4_3c32_4aab_a58e_03ed48e116eb.9661bdcc_e598_421d_82f4_97a0dc5863de",
            "793f94f9_73d2_4ed2_8ccb_abf4576c2a84.9a6c9ad4_3c32_4aab_a58e_03ed48e116eb.cc4b2230_9874_4b09_92d4_3b0fd4ff9318",
            "8dbdff35_af3a_4c69_8963_53bdcb33c775.0283d8fe_43f1_4d0e_9a53_9dba9dacb759.345dacf8_07e0_45c0_b151_c22f407fcc13",
            "8dbdff35_af3a_4c69_8963_53bdcb33c775.0283d8fe_43f1_4d0e_9a53_9dba9dacb759.9661bdcc_e598_421d_82f4_97a0dc5863de",
            "8dbdff35_af3a_4c69_8963_53bdcb33c775.0283d8fe_43f1_4d0e_9a53_9dba9dacb759.cc4b2230_9874_4b09_92d4_3b0fd4ff9318",
            "951d1945_98d0_4329_9025_dce55687f3a4.7ea99eda_1771_4b77_bd58_81e429a973fa.345dacf8_07e0_45c0_b151_c22f407fcc13",
            "951d1945_98d0_4329_9025_dce55687f3a4.7ea99eda_1771_4b77_bd58_81e429a973fa.9661bdcc_e598_421d_82f4_97a0dc5863de",
            "951d1945_98d0_4329_9025_dce55687f3a4.7ea99eda_1771_4b77_bd58_81e429a973fa.cc4b2230_9874_4b09_92d4_3b0fd4ff9318",
            "a047df87_7c81_4a1c_abc5_99a6eda40f1a.de900d60_7e5c_4f71_aa0a_7e9a2e7522f5.345dacf8_07e0_45c0_b151_c22f407fcc13",
            "a047df87_7c81_4a1c_abc5_99a6eda40f1a.de900d60_7e5c_4f71_aa0a_7e9a2e7522f5.9661bdcc_e598_421d_82f4_97a0dc5863de",
            "a047df87_7c81_4a1c_abc5_99a6eda40f1a.de900d60_7e5c_4f71_aa0a_7e9a2e7522f5.cc4b2230_9874_4b09_92d4_3b0fd4ff9318",
            "bc3a295e_af26_46d7_9445_63325ab035b8.936d6d8f_0388_448a_8732_257251232ef8.345dacf8_07e0_45c0_b151_c22f407fcc13",
            "bc3a295e_af26_46d7_9445_63325ab035b8.936d6d8f_0388_448a_8732_257251232ef8.9661bdcc_e598_421d_82f4_97a0dc5863de",
            "bc3a295e_af26_46d7_9445_63325ab035b8.936d6d8f_0388_448a_8732_257251232ef8.cc4b2230_9874_4b09_92d4_3b0fd4ff9318",
            "c10f79c9_744d_40a5_a272_7cde7ca1f5a6.e3794860_91e1_4d33_b59e_6d32b3608901.345dacf8_07e0_45c0_b151_c22f407fcc13",
            "c10f79c9_744d_40a5_a272_7cde7ca1f5a6.e3794860_91e1_4d33_b59e_6d32b3608901.9661bdcc_e598_421d_82f4_97a0dc5863de",
            "c10f79c9_744d_40a5_a272_7cde7ca1f5a6.e3794860_91e1_4d33_b59e_6d32b3608901.cc4b2230_9874_4b09_92d4_3b0fd4ff9318",
            "cbb33199_7896_432f_b0f6_ef45a4650723.9f0e2fee_7ea6_497c_9d2a_9d47a7accb4a.345dacf8_07e0_45c0_b151_c22f407fcc13",
            "cbb33199_7896_432f_b0f6_ef45a4650723.9f0e2fee_7ea6_497c_9d2a_9d47a7accb4a.9661bdcc_e598_421d_82f4_97a0dc5863de",
            "cbb33199_7896_432f_b0f6_ef45a4650723.9f0e2fee_7ea6_497c_9d2a_9d47a7accb4a.cc4b2230_9874_4b09_92d4_3b0fd4ff9318",
            "d0b621a6_148d_427d_8aef_b073b11184e1.444b6ff0_2823_4447_9544_c97ff41406c6.345dacf8_07e0_45c0_b151_c22f407fcc13",
            "d0b621a6_148d_427d_8aef_b073b11184e1.444b6ff0_2823_4447_9544_c97ff41406c6.9661bdcc_e598_421d_82f4_97a0dc5863de",
            "d0b621a6_148d_427d_8aef_b073b11184e1.444b6ff0_2823_4447_9544_c97ff41406c6.cc4b2230_9874_4b09_92d4_3b0fd4ff9318",
            "da5873de_e112_4f9b_9e0f_149bd1221894.8084c259_152b_4607_808b_0fd0a92973e2.345dacf8_07e0_45c0_b151_c22f407fcc13",
            "da5873de_e112_4f9b_9e0f_149bd1221894.8084c259_152b_4607_808b_0fd0a92973e2.9661bdcc_e598_421d_82f4_97a0dc5863de",
            "da5873de_e112_4f9b_9e0f_149bd1221894.8084c259_152b_4607_808b_0fd0a92973e2.cc4b2230_9874_4b09_92d4_3b0fd4ff9318",
            "e700973b_9070_4ec8_9e8d_10cdf1fd209d.9a7697b2_908b_44e2_9d47_24a3c5947254.345dacf8_07e0_45c0_b151_c22f407fcc13",
            "e700973b_9070_4ec8_9e8d_10cdf1fd209d.9a7697b2_908b_44e2_9d47_24a3c5947254.9661bdcc_e598_421d_82f4_97a0dc5863de",
            "e700973b_9070_4ec8_9e8d_10cdf1fd209d.9a7697b2_908b_44e2_9d47_24a3c5947254.cc4b2230_9874_4b09_92d4_3b0fd4ff9318",
            "ebb4f301_f353_446c_9b92_19f131e5181d.f6cf4a1e_6056_4f73_9dba_4e01a86113d8.345dacf8_07e0_45c0_b151_c22f407fcc13",
            "ebb4f301_f353_446c_9b92_19f131e5181d.f6cf4a1e_6056_4f73_9dba_4e01a86113d8.9661bdcc_e598_421d_82f4_97a0dc5863de",
            "ebb4f301_f353_446c_9b92_19f131e5181d.f6cf4a1e_6056_4f73_9dba_4e01a86113d8.cc4b2230_9874_4b09_92d4_3b0fd4ff9318",
            "f7c06302_3c06_4331_b7ee_6f01946aa788.60befd3c_ef15_481b_ab9a_5e1205e90abc.345dacf8_07e0_45c0_b151_c22f407fcc13",
            "f7c06302_3c06_4331_b7ee_6f01946aa788.60befd3c_ef15_481b_ab9a_5e1205e90abc.9661bdcc_e598_421d_82f4_97a0dc5863de",
            "f7c06302_3c06_4331_b7ee_6f01946aa788.60befd3c_ef15_481b_ab9a_5e1205e90abc.cc4b2230_9874_4b09_92d4_3b0fd4ff9318",
            "fd5601fa_5513_4b0a_b935_9817c84319e6.3a3f575d_2d3c_4399_a159_9cfabfb29282.345dacf8_07e0_45c0_b151_c22f407fcc13",
            "fd5601fa_5513_4b0a_b935_9817c84319e6.3a3f575d_2d3c_4399_a159_9cfabfb29282.9661bdcc_e598_421d_82f4_97a0dc5863de",
            "fd5601fa_5513_4b0a_b935_9817c84319e6.3a3f575d_2d3c_4399_a159_9cfabfb29282.cc4b2230_9874_4b09_92d4_3b0fd4ff9318",
            "124295e4_f6a9_4904_baa2_6bb2752d0059.172a91e5_48d2_4fbc_8c13_c637940b5dd8",
            "124295e4_f6a9_4904_baa2_6bb2752d0059.f9605379_de94_412e_8741_4b29bca81417.73210f0b_d972_48f3_9cea_dd93c1a04303",
            "124295e4_f6a9_4904_baa2_6bb2752d0059.f9605379_de94_412e_8741_4b29bca81417.7b8c0523_d3f0_4ffd_9f2c_f6d70d338c81",
            "3062fe14_682d_481f_a98e_b217c45c2337.1c22a32a_0864_4adf_aa2d_a06e7c121c6b.73210f0b_d972_48f3_9cea_dd93c1a04303",
            "3062fe14_682d_481f_a98e_b217c45c2337.1c22a32a_0864_4adf_aa2d_a06e7c121c6b.7b8c0523_d3f0_4ffd_9f2c_f6d70d338c81",
            "3062fe14_682d_481f_a98e_b217c45c2337.a39d905d_7682_4e42_bd46_b1b62300645f",
            "3abdac1c_4717_445e_8248_0143c701015a.1daaa597_06ba_4f0b_a386_ddeb2a95335a.73210f0b_d972_48f3_9cea_dd93c1a04303",
            "3abdac1c_4717_445e_8248_0143c701015a.1daaa597_06ba_4f0b_a386_ddeb2a95335a.7b8c0523_d3f0_4ffd_9f2c_f6d70d338c81",
            "3abdac1c_4717_445e_8248_0143c701015a.7a8a7921_f3a0_48ae_b593_11582e2e4bb0",
            "3abdac1c_4717_445e_8248_0143c701015a.834aede8_edb0_4c25_9a39_f747934774e0",
            "554f7ba1_7232_4a12_a2b6_0954976ff3b9.3e7a669d_72d7_4026_a4e0_1e5c9c36fcd2",
            "554f7ba1_7232_4a12_a2b6_0954976ff3b9.6688319f_ebfe_4449_b09c_48b227b00a11.73210f0b_d972_48f3_9cea_dd93c1a04303",
            "554f7ba1_7232_4a12_a2b6_0954976ff3b9.6688319f_ebfe_4449_b09c_48b227b00a11.7b8c0523_d3f0_4ffd_9f2c_f6d70d338c81",
            "5953d8e3_565b_4b29_a498_5ef50f9aefbe.9ee5549b_1896_4bff_b711_9f99cb47fc52.73210f0b_d972_48f3_9cea_dd93c1a04303",
            "5953d8e3_565b_4b29_a498_5ef50f9aefbe.9ee5549b_1896_4bff_b711_9f99cb47fc52.7b8c0523_d3f0_4ffd_9f2c_f6d70d338c81",
            "5953d8e3_565b_4b29_a498_5ef50f9aefbe.ce100d52_4f3d_4f17_b82b_ea425dfb41a9",
            "793f94f9_73d2_4ed2_8ccb_abf4576c2a84.06d2f814_1ca9_4431_a5ba_1557250d731a.73210f0b_d972_48f3_9cea_dd93c1a04303",
            "793f94f9_73d2_4ed2_8ccb_abf4576c2a84.06d2f814_1ca9_4431_a5ba_1557250d731a.7b8c0523_d3f0_4ffd_9f2c_f6d70d338c81",
            "793f94f9_73d2_4ed2_8ccb_abf4576c2a84.59e5a887_42a1_4dcd_a1d7_d79419f52f31",
            "8dbdff35_af3a_4c69_8963_53bdcb33c775.24704e21_0099_4948_b5e1_6d99c8057e47",
            "8dbdff35_af3a_4c69_8963_53bdcb33c775.941d8049_84c9_450a_8a91_c3eea5b8ea56.73210f0b_d972_48f3_9cea_dd93c1a04303",
            "8dbdff35_af3a_4c69_8963_53bdcb33c775.941d8049_84c9_450a_8a91_c3eea5b8ea56.7b8c0523_d3f0_4ffd_9f2c_f6d70d338c81",
            "8f8996ae_8dd4_4a45_bed9_7757fa6907db.7eae592e_94bb_49f8_9d28_dafbc9987a88",
            "8f8996ae_8dd4_4a45_bed9_7757fa6907db.b7336fe4_3eab_4f38_bf8f_fbc827e18da4",
            "951d1945_98d0_4329_9025_dce55687f3a4.0e0ba491_3a05_42eb_a10f_a567a2d9425a.73210f0b_d972_48f3_9cea_dd93c1a04303",
            "951d1945_98d0_4329_9025_dce55687f3a4.0e0ba491_3a05_42eb_a10f_a567a2d9425a.7b8c0523_d3f0_4ffd_9f2c_f6d70d338c81",
            "951d1945_98d0_4329_9025_dce55687f3a4.ef43b8c1_88c2_4bc1_b148_53ad4414fbdc",
            "a047df87_7c81_4a1c_abc5_99a6eda40f1a.23955269_2a1a_4f54_afcb_4e8cce56ffdd.73210f0b_d972_48f3_9cea_dd93c1a04303",
            "a047df87_7c81_4a1c_abc5_99a6eda40f1a.23955269_2a1a_4f54_afcb_4e8cce56ffdd.7b8c0523_d3f0_4ffd_9f2c_f6d70d338c81",
            "a047df87_7c81_4a1c_abc5_99a6eda40f1a.8f401c8c_4bc0_4448_b80f_21f74663ecef",
            "bc3a295e_af26_46d7_9445_63325ab035b8.78e0ce77_c6a5_47ce_8a12_230ffd06599a.73210f0b_d972_48f3_9cea_dd93c1a04303",
            "bc3a295e_af26_46d7_9445_63325ab035b8.78e0ce77_c6a5_47ce_8a12_230ffd06599a.7b8c0523_d3f0_4ffd_9f2c_f6d70d338c81",
            "bc3a295e_af26_46d7_9445_63325ab035b8.7df6b5c1_1464_4d5a_be1e_58327565a043",
            "c10f79c9_744d_40a5_a272_7cde7ca1f5a6.eecea823_7751_4732_afcc_8422b2036a3a",
            "cbb33199_7896_432f_b0f6_ef45a4650723.5e3de4d2_7ae6_4bff_a291_dc9fb4ec8cc2",
            "cbb33199_7896_432f_b0f6_ef45a4650723.ce5d9471_bf65_4117_a6a8_9b7f26664235.73210f0b_d972_48f3_9cea_dd93c1a04303",
            "cbb33199_7896_432f_b0f6_ef45a4650723.ce5d9471_bf65_4117_a6a8_9b7f26664235.7b8c0523_d3f0_4ffd_9f2c_f6d70d338c81",
            "d0b621a6_148d_427d_8aef_b073b11184e1.d9cb95c6_28d3_4848_8324_4b3deec25274",
            "d0b621a6_148d_427d_8aef_b073b11184e1.f7adbf32_0d36_479f_8068_2e955625c9b2.73210f0b_d972_48f3_9cea_dd93c1a04303",
            "d0b621a6_148d_427d_8aef_b073b11184e1.f7adbf32_0d36_479f_8068_2e955625c9b2.7b8c0523_d3f0_4ffd_9f2c_f6d70d338c81",
            "da5873de_e112_4f9b_9e0f_149bd1221894.351ed972_375b_4b15_82e1_d0f7625d7f4b.73210f0b_d972_48f3_9cea_dd93c1a04303",
            "da5873de_e112_4f9b_9e0f_149bd1221894.351ed972_375b_4b15_82e1_d0f7625d7f4b.7b8c0523_d3f0_4ffd_9f2c_f6d70d338c81",
            "da5873de_e112_4f9b_9e0f_149bd1221894.6df30f3c_a953_4232_b83b_242de530ace3",
            "e700973b_9070_4ec8_9e8d_10cdf1fd209d.8421f3ef_6cbe_4eff_84cd_9df22a4edd13.73210f0b_d972_48f3_9cea_dd93c1a04303",
            "e700973b_9070_4ec8_9e8d_10cdf1fd209d.8421f3ef_6cbe_4eff_84cd_9df22a4edd13.7b8c0523_d3f0_4ffd_9f2c_f6d70d338c81",
            "e700973b_9070_4ec8_9e8d_10cdf1fd209d.d3dbd193_d260_4ca8_b6f1_124fca9ffc27",
            "ebb4f301_f353_446c_9b92_19f131e5181d.64841685_1a8e_4cc4_aa63_ab7a9ffbba17",
            "ebb4f301_f353_446c_9b92_19f131e5181d.ed94673a_d1d2_4bae_88c7_e72ea95e0a3f.73210f0b_d972_48f3_9cea_dd93c1a04303",
            "ebb4f301_f353_446c_9b92_19f131e5181d.ed94673a_d1d2_4bae_88c7_e72ea95e0a3f.7b8c0523_d3f0_4ffd_9f2c_f6d70d338c81",
            "f7c06302_3c06_4331_b7ee_6f01946aa788.90c9ca09_f3b2_4df4_9819_876e99205529.73210f0b_d972_48f3_9cea_dd93c1a04303",
            "f7c06302_3c06_4331_b7ee_6f01946aa788.90c9ca09_f3b2_4df4_9819_876e99205529.7b8c0523_d3f0_4ffd_9f2c_f6d70d338c81",
            "f7c06302_3c06_4331_b7ee_6f01946aa788.a5144d9e_77cd_4dee_8fd5_ac7d984c04b4",
            "08ff7ae0_acef_4f4d_8328_2de484a6d5e1.080e0472_a061_4e7b_b5cd_e176a51e482d",
            "08ff7ae0_acef_4f4d_8328_2de484a6d5e1.68518b4e_7c35_4f7e_8c1f_6eb8cbf6c6d4",
            "3abdac1c_4717_445e_8248_0143c701015a.b9f01054_e14c_4d95_a7f5_77130239fa75",
            "47f9140d_38d8_4391_9aa1_08973d4b6370.39059a9a_d6f9_4433_8619_ac54b5f6b014",
            "47f9140d_38d8_4391_9aa1_08973d4b6370.410e261e_a3f0_4a2f_8d9f_5268a012fe9c",
            "bc3a295e_af26_46d7_9445_63325ab035b8.ba3f6927_cb27_4bd1_b354_90c7c5af2e75",
            "c10f79c9_744d_40a5_a272_7cde7ca1f5a6.1b47bdc9_74ed_405c_8653_aecb4fe76c9b",
            "c10f79c9_744d_40a5_a272_7cde7ca1f5a6.91e817fb_0048_4353_88f9_dc551aaaa440",
            "f7c06302_3c06_4331_b7ee_6f01946aa788.67fbec65_b1ef_4eb9_a1e6_65e7f116d3c0",
            "fd5601fa_5513_4b0a_b935_9817c84319e6.16849f54_6d6d_4a07_b312_9fe525331a92",
            "fd5601fa_5513_4b0a_b935_9817c84319e6.f5faf9d5_cec5_4a29_8526_ed141f688972",
            "124295e4_f6a9_4904_baa2_6bb2752d0059.aca1fa56_1299_4a7d_b712_c7e430a7d36c",
            "3062fe14_682d_481f_a98e_b217c45c2337.f7d288b7_bfee_415e_8b54_ebd575218e55",
            "3abdac1c_4717_445e_8248_0143c701015a.0bdda151_6998_4715_a962_bd4075d9bdec",
            "554f7ba1_7232_4a12_a2b6_0954976ff3b9.f00eba9f_6573_415a_ae7e_2d6a166dcf34",
            "5953d8e3_565b_4b29_a498_5ef50f9aefbe.636d0697_09fe_4e2a_9134_c6d23c1db03f",
            "793f94f9_73d2_4ed2_8ccb_abf4576c2a84.bb061051_8b46_4d59_8a8c_3e2c466a7424",
            "8dbdff35_af3a_4c69_8963_53bdcb33c775.ce66c526_64fb_492d_a43b_d8b1f22b35d0",
            "8f8996ae_8dd4_4a45_bed9_7757fa6907db.039b7852_e965_4469_95a3_6fcc09e5147e",
            "951d1945_98d0_4329_9025_dce55687f3a4.8b000366_cc6f_41e8_b997_c4bfb11fa701",
            "a047df87_7c81_4a1c_abc5_99a6eda40f1a.c011b1ca_90a6_457b_976f_6b69ab0de570",
            "bc3a295e_af26_46d7_9445_63325ab035b8.1cb69f10_e2ec_46df_9a5b_0d293f1c9ce7",
            "c10f79c9_744d_40a5_a272_7cde7ca1f5a6.012b93b4_cb2c_4f56_86fa_8bc6b4d39cdd",
            "cbb33199_7896_432f_b0f6_ef45a4650723.979eddbf_1d5e_43ce_bec3_fafe4b79566d",
            "d0b621a6_148d_427d_8aef_b073b11184e1.ae224b2b_8482_4474_8d08_be952968f42c",
            "d64b9bc0_e6b3_4556_acda_8040d33b7148.94708c06_7cab_491c_ac16_fabcc3f9fe4e",
            "da5873de_e112_4f9b_9e0f_149bd1221894.c71f745b_6f14_4e4f_921a_c4fc2cc46ec6",
            "e700973b_9070_4ec8_9e8d_10cdf1fd209d.94ebac20_7c60_4139_9a50_7e1e8cefe718",
            "ebb4f301_f353_446c_9b92_19f131e5181d.c94d7c43_11fd_4c5a_9942_9261d858e218",
            "f7c06302_3c06_4331_b7ee_6f01946aa788.a44d3bb0_49ea_4f97_a40f_3a941eb5d901",
            "fd5601fa_5513_4b0a_b935_9817c84319e6.02c26aed_2ca2_4f18_b86f_4297e1b31ba0",
            "1ca047e2_b601_4ba7_a579_abcfa7a45ea7.905fe508_239a_4ff6_9616_f4d60c1818f9",
            "3abdac1c_4717_445e_8248_0143c701015a.f05b3cec_4259_439c_b5e9_9b70d843bfb1",
            "bc3a295e_af26_46d7_9445_63325ab035b8.6fe38251_759a_43cf_94d2_d33296c8b4c8",
            "c10f79c9_744d_40a5_a272_7cde7ca1f5a6.cf9c438c_8afb_4819_b7c6_46ec2f650a62",
            "f7c06302_3c06_4331_b7ee_6f01946aa788.6a282474_b5da_494d_be6b_e1a0e7c8f3be",
            "fd5601fa_5513_4b0a_b935_9817c84319e6.58334e18_7ff0_43d9_9fd7_be611d623a5f",
            "1ca047e2_b601_4ba7_a579_abcfa7a45ea7.a48e2b92_9b73_4fbf_99d7_3fa6824903ff",
            "3abdac1c_4717_445e_8248_0143c701015a.2bae117f_38cc_4a0c_8662_04b19fe3277d",
            "bc3a295e_af26_46d7_9445_63325ab035b8.d33b6eb3_5b84_4e98_a1cd_546105794982",
            "c10f79c9_744d_40a5_a272_7cde7ca1f5a6.11d10266_9cb9_41dd_b9d4_dc29593aca76",
            "f7c06302_3c06_4331_b7ee_6f01946aa788.4a637b58_1770_4c13_9450_d5ad754ba624",
            "fd5601fa_5513_4b0a_b935_9817c84319e6.462820ea_ad24_48ff_9e2a_dee6c06172b8",
            "08ff7ae0_acef_4f4d_8328_2de484a6d5e1.4b9cb49f_ccb6_4c07_9d2c_f8221f0a2e22",
            "47f9140d_38d8_4391_9aa1_08973d4b6370.9f0c23cb_44a3_4e66_9f1c_4946a9dd8010",
            "309e9e63_9468_410a_ae6d_cd87d74a391f",
            "3b51f563_f7fb_4782_8c83_360a40ea6a5f",
            "8e370303_befe_4856_92ac_f5a26877728f",
            "a31f5463_d862_41bf_9945_a938216fcb32",
            "c7bfcd6d_b0a6_4298_b49d_550066004496",
            "a31374ca_9eb8_4ffe_8fa2_51035d36aaba",
            "124295e4_f6a9_4904_baa2_6bb2752d0059.859193de_a4f3_4707_879c_b8a8188c5f5b.292353e0_4db5_4ee1_a0b6_99a2446e5a68",
            "124295e4_f6a9_4904_baa2_6bb2752d0059.859193de_a4f3_4707_879c_b8a8188c5f5b.c1ddc422_0faa_4dfb_9eb9_074f8b9281e6",
            "124295e4_f6a9_4904_baa2_6bb2752d0059.859193de_a4f3_4707_879c_b8a8188c5f5b.c534d2ad_f93c_4741_8503_e4fa0c79ccae",
            "124295e4_f6a9_4904_baa2_6bb2752d0059.859193de_a4f3_4707_879c_b8a8188c5f5b.ca485062_e6af_41f3_8e24_eced3bef0c87",
            "124295e4_f6a9_4904_baa2_6bb2752d0059.859193de_a4f3_4707_879c_b8a8188c5f5b.fbf312d9_84e6_4d92_90e4_66457501404d",
            "1af5f6f9_15b1_4a62_962e_0ede16373202.1fb09601_408e_4074_98c5_e7a082e0bc58",
            "1af5f6f9_15b1_4a62_962e_0ede16373202.7b4f5802_1349_46b9_838d_b6bf2e847bdf",
            "3062fe14_682d_481f_a98e_b217c45c2337.b3f637dd_fc6a_48c7_9919_ed48775a743a.292353e0_4db5_4ee1_a0b6_99a2446e5a68",
            "3062fe14_682d_481f_a98e_b217c45c2337.b3f637dd_fc6a_48c7_9919_ed48775a743a.c1ddc422_0faa_4dfb_9eb9_074f8b9281e6",
            "3062fe14_682d_481f_a98e_b217c45c2337.b3f637dd_fc6a_48c7_9919_ed48775a743a.c534d2ad_f93c_4741_8503_e4fa0c79ccae",
            "3062fe14_682d_481f_a98e_b217c45c2337.b3f637dd_fc6a_48c7_9919_ed48775a743a.ca485062_e6af_41f3_8e24_eced3bef0c87",
            "3062fe14_682d_481f_a98e_b217c45c2337.b3f637dd_fc6a_48c7_9919_ed48775a743a.fbf312d9_84e6_4d92_90e4_66457501404d",
            "3abdac1c_4717_445e_8248_0143c701015a.71bfdedb_73da_4307_9046_dba6e35eabdf.292353e0_4db5_4ee1_a0b6_99a2446e5a68",
            "3abdac1c_4717_445e_8248_0143c701015a.71bfdedb_73da_4307_9046_dba6e35eabdf.c1ddc422_0faa_4dfb_9eb9_074f8b9281e6",
            "3abdac1c_4717_445e_8248_0143c701015a.71bfdedb_73da_4307_9046_dba6e35eabdf.c534d2ad_f93c_4741_8503_e4fa0c79ccae",
            "3abdac1c_4717_445e_8248_0143c701015a.71bfdedb_73da_4307_9046_dba6e35eabdf.ca485062_e6af_41f3_8e24_eced3bef0c87",
            "3abdac1c_4717_445e_8248_0143c701015a.71bfdedb_73da_4307_9046_dba6e35eabdf.fbf312d9_84e6_4d92_90e4_66457501404d",
            "554f7ba1_7232_4a12_a2b6_0954976ff3b9.a8a33c70_c979_47b7_aa0a_4a2c14cf89aa.292353e0_4db5_4ee1_a0b6_99a2446e5a68",
            "554f7ba1_7232_4a12_a2b6_0954976ff3b9.a8a33c70_c979_47b7_aa0a_4a2c14cf89aa.c1ddc422_0faa_4dfb_9eb9_074f8b9281e6",
            "554f7ba1_7232_4a12_a2b6_0954976ff3b9.a8a33c70_c979_47b7_aa0a_4a2c14cf89aa.c534d2ad_f93c_4741_8503_e4fa0c79ccae",
            "554f7ba1_7232_4a12_a2b6_0954976ff3b9.a8a33c70_c979_47b7_aa0a_4a2c14cf89aa.ca485062_e6af_41f3_8e24_eced3bef0c87",
            "554f7ba1_7232_4a12_a2b6_0954976ff3b9.a8a33c70_c979_47b7_aa0a_4a2c14cf89aa.fbf312d9_84e6_4d92_90e4_66457501404d",
            "5953d8e3_565b_4b29_a498_5ef50f9aefbe.c9640af1_0c83_4ee4_9e18_3dd88f104727.292353e0_4db5_4ee1_a0b6_99a2446e5a68",
            "5953d8e3_565b_4b29_a498_5ef50f9aefbe.c9640af1_0c83_4ee4_9e18_3dd88f104727.c1ddc422_0faa_4dfb_9eb9_074f8b9281e6",
            "5953d8e3_565b_4b29_a498_5ef50f9aefbe.c9640af1_0c83_4ee4_9e18_3dd88f104727.c534d2ad_f93c_4741_8503_e4fa0c79ccae",
            "5953d8e3_565b_4b29_a498_5ef50f9aefbe.c9640af1_0c83_4ee4_9e18_3dd88f104727.ca485062_e6af_41f3_8e24_eced3bef0c87",
            "5953d8e3_565b_4b29_a498_5ef50f9aefbe.c9640af1_0c83_4ee4_9e18_3dd88f104727.fbf312d9_84e6_4d92_90e4_66457501404d",
            "6b498416_1218_453d_a09e_64a2e2aebe24.1fb09601_408e_4074_98c5_e7a082e0bc58",
            "6b498416_1218_453d_a09e_64a2e2aebe24.7b4f5802_1349_46b9_838d_b6bf2e847bdf",
            "70d05bb1_6810_435a_bcac_8166afba0ba6.1fb09601_408e_4074_98c5_e7a082e0bc58",
            "70d05bb1_6810_435a_bcac_8166afba0ba6.7b4f5802_1349_46b9_838d_b6bf2e847bdf",
            "793f94f9_73d2_4ed2_8ccb_abf4576c2a84.9a6c9ad4_3c32_4aab_a58e_03ed48e116eb.292353e0_4db5_4ee1_a0b6_99a2446e5a68",
            "793f94f9_73d2_4ed2_8ccb_abf4576c2a84.9a6c9ad4_3c32_4aab_a58e_03ed48e116eb.c1ddc422_0faa_4dfb_9eb9_074f8b9281e6",
            "793f94f9_73d2_4ed2_8ccb_abf4576c2a84.9a6c9ad4_3c32_4aab_a58e_03ed48e116eb.c534d2ad_f93c_4741_8503_e4fa0c79ccae",
            "793f94f9_73d2_4ed2_8ccb_abf4576c2a84.9a6c9ad4_3c32_4aab_a58e_03ed48e116eb.ca485062_e6af_41f3_8e24_eced3bef0c87",
            "793f94f9_73d2_4ed2_8ccb_abf4576c2a84.9a6c9ad4_3c32_4aab_a58e_03ed48e116eb.fbf312d9_84e6_4d92_90e4_66457501404d",
            "7b630b30_400a_413b_9d29_b0b98688dac5.1fb09601_408e_4074_98c5_e7a082e0bc58",
            "7b630b30_400a_413b_9d29_b0b98688dac5.7b4f5802_1349_46b9_838d_b6bf2e847bdf",
            "8dbdff35_af3a_4c69_8963_53bdcb33c775.0283d8fe_43f1_4d0e_9a53_9dba9dacb759.292353e0_4db5_4ee1_a0b6_99a2446e5a68",
            "8dbdff35_af3a_4c69_8963_53bdcb33c775.0283d8fe_43f1_4d0e_9a53_9dba9dacb759.c1ddc422_0faa_4dfb_9eb9_074f8b9281e6",
            "8dbdff35_af3a_4c69_8963_53bdcb33c775.0283d8fe_43f1_4d0e_9a53_9dba9dacb759.c534d2ad_f93c_4741_8503_e4fa0c79ccae",
            "8dbdff35_af3a_4c69_8963_53bdcb33c775.0283d8fe_43f1_4d0e_9a53_9dba9dacb759.ca485062_e6af_41f3_8e24_eced3bef0c87",
            "8dbdff35_af3a_4c69_8963_53bdcb33c775.0283d8fe_43f1_4d0e_9a53_9dba9dacb759.fbf312d9_84e6_4d92_90e4_66457501404d",
            "951d1945_98d0_4329_9025_dce55687f3a4.7ea99eda_1771_4b77_bd58_81e429a973fa.292353e0_4db5_4ee1_a0b6_99a2446e5a68",
            "951d1945_98d0_4329_9025_dce55687f3a4.7ea99eda_1771_4b77_bd58_81e429a973fa.c1ddc422_0faa_4dfb_9eb9_074f8b9281e6",
            "951d1945_98d0_4329_9025_dce55687f3a4.7ea99eda_1771_4b77_bd58_81e429a973fa.c534d2ad_f93c_4741_8503_e4fa0c79ccae",
            "951d1945_98d0_4329_9025_dce55687f3a4.7ea99eda_1771_4b77_bd58_81e429a973fa.ca485062_e6af_41f3_8e24_eced3bef0c87",
            "951d1945_98d0_4329_9025_dce55687f3a4.7ea99eda_1771_4b77_bd58_81e429a973fa.fbf312d9_84e6_4d92_90e4_66457501404d",
            "a047df87_7c81_4a1c_abc5_99a6eda40f1a.de900d60_7e5c_4f71_aa0a_7e9a2e7522f5.292353e0_4db5_4ee1_a0b6_99a2446e5a68",
            "a047df87_7c81_4a1c_abc5_99a6eda40f1a.de900d60_7e5c_4f71_aa0a_7e9a2e7522f5.c1ddc422_0faa_4dfb_9eb9_074f8b9281e6",
            "a047df87_7c81_4a1c_abc5_99a6eda40f1a.de900d60_7e5c_4f71_aa0a_7e9a2e7522f5.c534d2ad_f93c_4741_8503_e4fa0c79ccae",
            "a047df87_7c81_4a1c_abc5_99a6eda40f1a.de900d60_7e5c_4f71_aa0a_7e9a2e7522f5.ca485062_e6af_41f3_8e24_eced3bef0c87",
            "a047df87_7c81_4a1c_abc5_99a6eda40f1a.de900d60_7e5c_4f71_aa0a_7e9a2e7522f5.fbf312d9_84e6_4d92_90e4_66457501404d",
            "bb8bdc58_4098_4ba0_a92d_907dad26eaab.1fb09601_408e_4074_98c5_e7a082e0bc58",
            "bb8bdc58_4098_4ba0_a92d_907dad26eaab.7b4f5802_1349_46b9_838d_b6bf2e847bdf",
            "bc3a295e_af26_46d7_9445_63325ab035b8.936d6d8f_0388_448a_8732_257251232ef8.292353e0_4db5_4ee1_a0b6_99a2446e5a68",
            "bc3a295e_af26_46d7_9445_63325ab035b8.936d6d8f_0388_448a_8732_257251232ef8.c1ddc422_0faa_4dfb_9eb9_074f8b9281e6",
            "bc3a295e_af26_46d7_9445_63325ab035b8.936d6d8f_0388_448a_8732_257251232ef8.c534d2ad_f93c_4741_8503_e4fa0c79ccae",
            "bc3a295e_af26_46d7_9445_63325ab035b8.936d6d8f_0388_448a_8732_257251232ef8.ca485062_e6af_41f3_8e24_eced3bef0c87",
            "bc3a295e_af26_46d7_9445_63325ab035b8.936d6d8f_0388_448a_8732_257251232ef8.fbf312d9_84e6_4d92_90e4_66457501404d",
            "c10f79c9_744d_40a5_a272_7cde7ca1f5a6.e3794860_91e1_4d33_b59e_6d32b3608901.292353e0_4db5_4ee1_a0b6_99a2446e5a68",
            "c10f79c9_744d_40a5_a272_7cde7ca1f5a6.e3794860_91e1_4d33_b59e_6d32b3608901.c1ddc422_0faa_4dfb_9eb9_074f8b9281e6",
            "c10f79c9_744d_40a5_a272_7cde7ca1f5a6.e3794860_91e1_4d33_b59e_6d32b3608901.c534d2ad_f93c_4741_8503_e4fa0c79ccae",
            "c10f79c9_744d_40a5_a272_7cde7ca1f5a6.e3794860_91e1_4d33_b59e_6d32b3608901.ca485062_e6af_41f3_8e24_eced3bef0c87",
            "c10f79c9_744d_40a5_a272_7cde7ca1f5a6.e3794860_91e1_4d33_b59e_6d32b3608901.fbf312d9_84e6_4d92_90e4_66457501404d",
            "ca7e8a8e_ee4e_4a39_9c81_5f4ffb0a0189",
            "cbb33199_7896_432f_b0f6_ef45a4650723.9f0e2fee_7ea6_497c_9d2a_9d47a7accb4a.292353e0_4db5_4ee1_a0b6_99a2446e5a68",
            "cbb33199_7896_432f_b0f6_ef45a4650723.9f0e2fee_7ea6_497c_9d2a_9d47a7accb4a.c1ddc422_0faa_4dfb_9eb9_074f8b9281e6",
            "cbb33199_7896_432f_b0f6_ef45a4650723.9f0e2fee_7ea6_497c_9d2a_9d47a7accb4a.c534d2ad_f93c_4741_8503_e4fa0c79ccae",
            "cbb33199_7896_432f_b0f6_ef45a4650723.9f0e2fee_7ea6_497c_9d2a_9d47a7accb4a.ca485062_e6af_41f3_8e24_eced3bef0c87",
            "cbb33199_7896_432f_b0f6_ef45a4650723.9f0e2fee_7ea6_497c_9d2a_9d47a7accb4a.fbf312d9_84e6_4d92_90e4_66457501404d",
            "d0b621a6_148d_427d_8aef_b073b11184e1.444b6ff0_2823_4447_9544_c97ff41406c6.292353e0_4db5_4ee1_a0b6_99a2446e5a68",
            "d0b621a6_148d_427d_8aef_b073b11184e1.444b6ff0_2823_4447_9544_c97ff41406c6.c1ddc422_0faa_4dfb_9eb9_074f8b9281e6",
            "d0b621a6_148d_427d_8aef_b073b11184e1.444b6ff0_2823_4447_9544_c97ff41406c6.c534d2ad_f93c_4741_8503_e4fa0c79ccae",
            "d0b621a6_148d_427d_8aef_b073b11184e1.444b6ff0_2823_4447_9544_c97ff41406c6.ca485062_e6af_41f3_8e24_eced3bef0c87",
            "d0b621a6_148d_427d_8aef_b073b11184e1.444b6ff0_2823_4447_9544_c97ff41406c6.fbf312d9_84e6_4d92_90e4_66457501404d",
            "d64b9bc0_e6b3_4556_acda_8040d33b7148.80a359a1_b323_43c9_a585_a1e870c26cab",
            "d64b9bc0_e6b3_4556_acda_8040d33b7148.acd1825b_3d24_4522_8eeb_afa3935131f0",
            "d64b9bc0_e6b3_4556_acda_8040d33b7148.bc357f2e_04de_4d58_849e_bb2f496e5e9e",
            "d64b9bc0_e6b3_4556_acda_8040d33b7148.d646b102_cad2_4c43_852c_6f4e04ca0b01.7b8c0523_d3f0_4ffd_9f2c_f6d70d338c81",
            "da5873de_e112_4f9b_9e0f_149bd1221894.8084c259_152b_4607_808b_0fd0a92973e2.292353e0_4db5_4ee1_a0b6_99a2446e5a68",
            "da5873de_e112_4f9b_9e0f_149bd1221894.8084c259_152b_4607_808b_0fd0a92973e2.c1ddc422_0faa_4dfb_9eb9_074f8b9281e6",
            "da5873de_e112_4f9b_9e0f_149bd1221894.8084c259_152b_4607_808b_0fd0a92973e2.c534d2ad_f93c_4741_8503_e4fa0c79ccae",
            "da5873de_e112_4f9b_9e0f_149bd1221894.8084c259_152b_4607_808b_0fd0a92973e2.ca485062_e6af_41f3_8e24_eced3bef0c87",
            "da5873de_e112_4f9b_9e0f_149bd1221894.8084c259_152b_4607_808b_0fd0a92973e2.fbf312d9_84e6_4d92_90e4_66457501404d",
            "e700973b_9070_4ec8_9e8d_10cdf1fd209d.9a7697b2_908b_44e2_9d47_24a3c5947254.292353e0_4db5_4ee1_a0b6_99a2446e5a68",
            "e700973b_9070_4ec8_9e8d_10cdf1fd209d.9a7697b2_908b_44e2_9d47_24a3c5947254.c1ddc422_0faa_4dfb_9eb9_074f8b9281e6",
            "e700973b_9070_4ec8_9e8d_10cdf1fd209d.9a7697b2_908b_44e2_9d47_24a3c5947254.c534d2ad_f93c_4741_8503_e4fa0c79ccae",
            "e700973b_9070_4ec8_9e8d_10cdf1fd209d.9a7697b2_908b_44e2_9d47_24a3c5947254.ca485062_e6af_41f3_8e24_eced3bef0c87",
            "e700973b_9070_4ec8_9e8d_10cdf1fd209d.9a7697b2_908b_44e2_9d47_24a3c5947254.fbf312d9_84e6_4d92_90e4_66457501404d",
            "ebb4f301_f353_446c_9b92_19f131e5181d.f6cf4a1e_6056_4f73_9dba_4e01a86113d8.292353e0_4db5_4ee1_a0b6_99a2446e5a68",
            "ebb4f301_f353_446c_9b92_19f131e5181d.f6cf4a1e_6056_4f73_9dba_4e01a86113d8.c1ddc422_0faa_4dfb_9eb9_074f8b9281e6",
            "ebb4f301_f353_446c_9b92_19f131e5181d.f6cf4a1e_6056_4f73_9dba_4e01a86113d8.c534d2ad_f93c_4741_8503_e4fa0c79ccae",
            "ebb4f301_f353_446c_9b92_19f131e5181d.f6cf4a1e_6056_4f73_9dba_4e01a86113d8.ca485062_e6af_41f3_8e24_eced3bef0c87",
            "ebb4f301_f353_446c_9b92_19f131e5181d.f6cf4a1e_6056_4f73_9dba_4e01a86113d8.fbf312d9_84e6_4d92_90e4_66457501404d",
            "f7c06302_3c06_4331_b7ee_6f01946aa788.60befd3c_ef15_481b_ab9a_5e1205e90abc.292353e0_4db5_4ee1_a0b6_99a2446e5a68",
            "f7c06302_3c06_4331_b7ee_6f01946aa788.60befd3c_ef15_481b_ab9a_5e1205e90abc.c1ddc422_0faa_4dfb_9eb9_074f8b9281e6",
            "f7c06302_3c06_4331_b7ee_6f01946aa788.60befd3c_ef15_481b_ab9a_5e1205e90abc.c534d2ad_f93c_4741_8503_e4fa0c79ccae",
            "f7c06302_3c06_4331_b7ee_6f01946aa788.60befd3c_ef15_481b_ab9a_5e1205e90abc.ca485062_e6af_41f3_8e24_eced3bef0c87",
            "f7c06302_3c06_4331_b7ee_6f01946aa788.60befd3c_ef15_481b_ab9a_5e1205e90abc.fbf312d9_84e6_4d92_90e4_66457501404d",
            "fd5601fa_5513_4b0a_b935_9817c84319e6.3a3f575d_2d3c_4399_a159_9cfabfb29282.292353e0_4db5_4ee1_a0b6_99a2446e5a68",
            "fd5601fa_5513_4b0a_b935_9817c84319e6.3a3f575d_2d3c_4399_a159_9cfabfb29282.c1ddc422_0faa_4dfb_9eb9_074f8b9281e6",
            "fd5601fa_5513_4b0a_b935_9817c84319e6.3a3f575d_2d3c_4399_a159_9cfabfb29282.c534d2ad_f93c_4741_8503_e4fa0c79ccae",
            "fd5601fa_5513_4b0a_b935_9817c84319e6.3a3f575d_2d3c_4399_a159_9cfabfb29282.ca485062_e6af_41f3_8e24_eced3bef0c87",
            "fd5601fa_5513_4b0a_b935_9817c84319e6.3a3f575d_2d3c_4399_a159_9cfabfb29282.fbf312d9_84e6_4d92_90e4_66457501404d",
            "124295e4_f6a9_4904_baa2_6bb2752d0059.092ca3e0_181a_4850_a7e1_51357b61966c",
            "124295e4_f6a9_4904_baa2_6bb2752d0059.b718b5f2_4c49_436f_8c2d_dacce4a07311",
            "3062fe14_682d_481f_a98e_b217c45c2337.05245071_95e5_47d4_af20_017b1d3800e8",
            "3062fe14_682d_481f_a98e_b217c45c2337.98b2d649_6f9e_40b5_acf9_17cd849875d8",
            "3abdac1c_4717_445e_8248_0143c701015a.0be68eb1_3f5f_4fbe_975e_6259422057f4",
            "3abdac1c_4717_445e_8248_0143c701015a.faf2965e_6edd_4149_ad97_37747f77a700",
            "554f7ba1_7232_4a12_a2b6_0954976ff3b9.b5a47f4f_4f3f_4f3b_a528_ba4c506cfe86",
            "554f7ba1_7232_4a12_a2b6_0954976ff3b9.e4d07c69_bf73_44c3_ba35_537ba041551f",
            "5953d8e3_565b_4b29_a498_5ef50f9aefbe.1bafce2d_4e81_4763_8488_4218cd2983e0",
            "5953d8e3_565b_4b29_a498_5ef50f9aefbe.aa83e3b3_07b9_4793_88cc_08f67f522e08",
            "793f94f9_73d2_4ed2_8ccb_abf4576c2a84.315de3ce_5982_4dec_87ef_b2f4feb421e6",
            "793f94f9_73d2_4ed2_8ccb_abf4576c2a84.799b4d3c_e095_4657_a22c_ded962ce07d0",
            "8dbdff35_af3a_4c69_8963_53bdcb33c775.24bdc701_5e82_49d9_8663_9fb3312f81c4",
            "8dbdff35_af3a_4c69_8963_53bdcb33c775.254a7e7f_a859_405b_8ede_5bc939f2b84d",
            "951d1945_98d0_4329_9025_dce55687f3a4.c8c4cb2a_cc76_4685_b52f_dc3c8af01dc9",
            "951d1945_98d0_4329_9025_dce55687f3a4.d0a9e2e0_8e50_42ef_8775_b1e8170881d8",
            "a047df87_7c81_4a1c_abc5_99a6eda40f1a.5e5e3795_6054_422e_b3c4_f5623993fc9d",
            "a047df87_7c81_4a1c_abc5_99a6eda40f1a.f85f0692_6ef7_4640_8442_241da9d8464d",
            "bc3a295e_af26_46d7_9445_63325ab035b8.2db44878_9a00_4015_b0a6_a79bbb6c498b",
            "bc3a295e_af26_46d7_9445_63325ab035b8.4b36bfa7_ced3_4c4b_a145_b9aefaaff4ac",
            "c10f79c9_744d_40a5_a272_7cde7ca1f5a6.0feaf9d9_924e_42dc_9bfc_aad29a54d56f",
            "c10f79c9_744d_40a5_a272_7cde7ca1f5a6.f81f9843_b9c5_45ba_b1fc_00ecb34928ff",
            "cbb33199_7896_432f_b0f6_ef45a4650723.54c65e2b_d5be_45bb_a10f_093294a424fd",
            "cbb33199_7896_432f_b0f6_ef45a4650723.98aaff7e_e57e_49d8_a700_455398624d00",
            "d0b621a6_148d_427d_8aef_b073b11184e1.179ba3d6_27ae_44bb_98a6_bf718d4b6de6",
            "d0b621a6_148d_427d_8aef_b073b11184e1.9e1450f7_fcf6_41c8_82b6_756c7dba7064",
            "da5873de_e112_4f9b_9e0f_149bd1221894.40af461d_acdb_4c4e_8036_3d4f24959c7b",
            "da5873de_e112_4f9b_9e0f_149bd1221894.8b340bf3_c30f_45ed_8224_1b19f1fdbc78",
            "e700973b_9070_4ec8_9e8d_10cdf1fd209d.15506928_103f_49cf_982d_ff4bcc72dba4",
            "e700973b_9070_4ec8_9e8d_10cdf1fd209d.663ed313_4b9d_4e9f_a67b_ec6ddb025a1a",
            "ebb4f301_f353_446c_9b92_19f131e5181d.40f734b2_8c72_4c61_b31d_a81caaf60b5d",
            "ebb4f301_f353_446c_9b92_19f131e5181d.d85d20c8_42c8_405a_b904_dffd4d29cbb8",
            "f7c06302_3c06_4331_b7ee_6f01946aa788.0e9786bf_f1e7_4e16_a018_73c84a7ba2fa",
            "f7c06302_3c06_4331_b7ee_6f01946aa788.dfc92986_ec8d_41af_b421_095ee18dafad",
            "fd5601fa_5513_4b0a_b935_9817c84319e6.20d9ea99_3a3b_4fa0_a089_b6f27e65b70c",
            "fd5601fa_5513_4b0a_b935_9817c84319e6.3a51de3f_2b93_4c03_bdbe_cee37748b998",
            "124295e4_f6a9_4904_baa2_6bb2752d0059.859193de_a4f3_4707_879c_b8a8188c5f5b.df34251f_78ab_4f7b_8e8b_75ed453cbe89",
            "3062fe14_682d_481f_a98e_b217c45c2337.b3f637dd_fc6a_48c7_9919_ed48775a743a.df34251f_78ab_4f7b_8e8b_75ed453cbe89",
            "3abdac1c_4717_445e_8248_0143c701015a.71bfdedb_73da_4307_9046_dba6e35eabdf.df34251f_78ab_4f7b_8e8b_75ed453cbe89",
            "554f7ba1_7232_4a12_a2b6_0954976ff3b9.a8a33c70_c979_47b7_aa0a_4a2c14cf89aa.df34251f_78ab_4f7b_8e8b_75ed453cbe89",
            "5953d8e3_565b_4b29_a498_5ef50f9aefbe.c9640af1_0c83_4ee4_9e18_3dd88f104727.df34251f_78ab_4f7b_8e8b_75ed453cbe89",
            "793f94f9_73d2_4ed2_8ccb_abf4576c2a84.9a6c9ad4_3c32_4aab_a58e_03ed48e116eb.df34251f_78ab_4f7b_8e8b_75ed453cbe89",
            "8dbdff35_af3a_4c69_8963_53bdcb33c775.0283d8fe_43f1_4d0e_9a53_9dba9dacb759.df34251f_78ab_4f7b_8e8b_75ed453cbe89",
            "951d1945_98d0_4329_9025_dce55687f3a4.7ea99eda_1771_4b77_bd58_81e429a973fa.df34251f_78ab_4f7b_8e8b_75ed453cbe89",
            "a047df87_7c81_4a1c_abc5_99a6eda40f1a.de900d60_7e5c_4f71_aa0a_7e9a2e7522f5.df34251f_78ab_4f7b_8e8b_75ed453cbe89",
            "bc3a295e_af26_46d7_9445_63325ab035b8.936d6d8f_0388_448a_8732_257251232ef8.df34251f_78ab_4f7b_8e8b_75ed453cbe89",
            "c10f79c9_744d_40a5_a272_7cde7ca1f5a6.e3794860_91e1_4d33_b59e_6d32b3608901.df34251f_78ab_4f7b_8e8b_75ed453cbe89",
            "cbb33199_7896_432f_b0f6_ef45a4650723.9f0e2fee_7ea6_497c_9d2a_9d47a7accb4a.df34251f_78ab_4f7b_8e8b_75ed453cbe89",
            "d0b621a6_148d_427d_8aef_b073b11184e1.444b6ff0_2823_4447_9544_c97ff41406c6.df34251f_78ab_4f7b_8e8b_75ed453cbe89",
            "da5873de_e112_4f9b_9e0f_149bd1221894.8084c259_152b_4607_808b_0fd0a92973e2.df34251f_78ab_4f7b_8e8b_75ed453cbe89",
            "e700973b_9070_4ec8_9e8d_10cdf1fd209d.9a7697b2_908b_44e2_9d47_24a3c5947254.df34251f_78ab_4f7b_8e8b_75ed453cbe89",
            "ebb4f301_f353_446c_9b92_19f131e5181d.f6cf4a1e_6056_4f73_9dba_4e01a86113d8.df34251f_78ab_4f7b_8e8b_75ed453cbe89",
            "f7c06302_3c06_4331_b7ee_6f01946aa788.60befd3c_ef15_481b_ab9a_5e1205e90abc.df34251f_78ab_4f7b_8e8b_75ed453cbe89",
            "fd5601fa_5513_4b0a_b935_9817c84319e6.3a3f575d_2d3c_4399_a159_9cfabfb29282.df34251f_78ab_4f7b_8e8b_75ed453cbe89",
            "124295e4_f6a9_4904_baa2_6bb2752d0059.f9605379_de94_412e_8741_4b29bca81417.c60338a8_5ddd_414c_9ac3_829ea890dc0e",
            "3062fe14_682d_481f_a98e_b217c45c2337.1c22a32a_0864_4adf_aa2d_a06e7c121c6b.c60338a8_5ddd_414c_9ac3_829ea890dc0e",
            "3abdac1c_4717_445e_8248_0143c701015a.1daaa597_06ba_4f0b_a386_ddeb2a95335a.c60338a8_5ddd_414c_9ac3_829ea890dc0e",
            "554f7ba1_7232_4a12_a2b6_0954976ff3b9.6688319f_ebfe_4449_b09c_48b227b00a11.c60338a8_5ddd_414c_9ac3_829ea890dc0e",
            "5953d8e3_565b_4b29_a498_5ef50f9aefbe.9ee5549b_1896_4bff_b711_9f99cb47fc52.c60338a8_5ddd_414c_9ac3_829ea890dc0e",
            "793f94f9_73d2_4ed2_8ccb_abf4576c2a84.06d2f814_1ca9_4431_a5ba_1557250d731a.c60338a8_5ddd_414c_9ac3_829ea890dc0e",
            "8dbdff35_af3a_4c69_8963_53bdcb33c775.941d8049_84c9_450a_8a91_c3eea5b8ea56.c60338a8_5ddd_414c_9ac3_829ea890dc0e",
            "951d1945_98d0_4329_9025_dce55687f3a4.0e0ba491_3a05_42eb_a10f_a567a2d9425a.c60338a8_5ddd_414c_9ac3_829ea890dc0e",
            "a047df87_7c81_4a1c_abc5_99a6eda40f1a.23955269_2a1a_4f54_afcb_4e8cce56ffdd.c60338a8_5ddd_414c_9ac3_829ea890dc0e",
            "bc3a295e_af26_46d7_9445_63325ab035b8.78e0ce77_c6a5_47ce_8a12_230ffd06599a.c60338a8_5ddd_414c_9ac3_829ea890dc0e",
            "cbb33199_7896_432f_b0f6_ef45a4650723.ce5d9471_bf65_4117_a6a8_9b7f26664235.c60338a8_5ddd_414c_9ac3_829ea890dc0e",
            "d0b621a6_148d_427d_8aef_b073b11184e1.f7adbf32_0d36_479f_8068_2e955625c9b2.c60338a8_5ddd_414c_9ac3_829ea890dc0e",
            "da5873de_e112_4f9b_9e0f_149bd1221894.351ed972_375b_4b15_82e1_d0f7625d7f4b.c60338a8_5ddd_414c_9ac3_829ea890dc0e",
            "e700973b_9070_4ec8_9e8d_10cdf1fd209d.8421f3ef_6cbe_4eff_84cd_9df22a4edd13.c60338a8_5ddd_414c_9ac3_829ea890dc0e",
            "ebb4f301_f353_446c_9b92_19f131e5181d.ed94673a_d1d2_4bae_88c7_e72ea95e0a3f.c60338a8_5ddd_414c_9ac3_829ea890dc0e",
            "f7c06302_3c06_4331_b7ee_6f01946aa788.90c9ca09_f3b2_4df4_9819_876e99205529.c60338a8_5ddd_414c_9ac3_829ea890dc0e",
            "1ca047e2_b601_4ba7_a579_abcfa7a45ea7.45f29b60_00a0_4fa6_93cf_ae0a04872711",
            "3b373634_2461_4b61_8bcb_068c12b7e1a8.0150c610_728a_4f05_a81d_9e86c17ccc8c",
            "3b373634_2461_4b61_8bcb_068c12b7e1a8.e7fe5d9b_519a_492e_8d3f_9735743644bd",
            "3b373634_2461_4b61_8bcb_068c12b7e1a8.fd502573_5625_4a52_840d_9e57f934adb6",
            "506f355b_ec0d_4763_8082_5d022dcf6153.0150c610_728a_4f05_a81d_9e86c17ccc8c",
            "506f355b_ec0d_4763_8082_5d022dcf6153.e7fe5d9b_519a_492e_8d3f_9735743644bd",
            "506f355b_ec0d_4763_8082_5d022dcf6153.fd502573_5625_4a52_840d_9e57f934adb6",
            "d02c6fdd_ce6b_44a1_b193_1ede85e7d4c8.11c987b4_223f_4d61_beaf_8b10ec3a3b2d",
            "d02c6fdd_ce6b_44a1_b193_1ede85e7d4c8.87389995_27ad_49a8_bf1b_5f25b117ce56",
            "d02c6fdd_ce6b_44a1_b193_1ede85e7d4c8.cbd54644_e644_4743_a015_7b53af377a11",
            "d02c6fdd_ce6b_44a1_b193_1ede85e7d4c8.f2091c19_8d0b_4d5d_983f_a3f335adfc8c",
            "083cc4dd_e831_416e_8066_271b9e938cad",
            "24494cc9_c59e_43dd_898e_4438fe626545",
            "289d2f33_65ac_4c4f_a6e5_1d14cb608749",
            "2d2e2dd0_3925_4f9f_91ba_c63d0f98dca4",
            "348e9a75_2bf1_42ab_bd03_d780f05f99bb",
            "68b3266f_360c_4bbf_9eef_873275c8671a",
            "77ed0326_d17a_4f8e_93d5_8d2b1af950c4",
            "95c89f03_18bb_4698_98fa_5a9abcbe50bf",
            "a486f3cd_85b2_4e44_ba49_0ef7467c9336",
            "db209cac_3b6a_4a8c_9771_8043a5f5dbaf",
            "08ff7ae0_acef_4f4d_8328_2de484a6d5e1.35b58a5c_c7a0_474e_9bb7_945567112b3f",
            "47f9140d_38d8_4391_9aa1_08973d4b6370.890ba12b_2800_43c2_8aa5_7291afd796a5",
            "d02c6fdd_ce6b_44a1_b193_1ede85e7d4c8.d0a77ae4_734b_4a4c_bff7_66ecdfd8e3af",
            "124295e4_f6a9_4904_baa2_6bb2752d0059.2a4ae9ff_2595_4614_894f_cb7e39bf36a7",
            "3062fe14_682d_481f_a98e_b217c45c2337.b5d96cbd_5254_4185_a8f2_b2f093eadd81",
            "3abdac1c_4717_445e_8248_0143c701015a.733e2b28_9e03_4186_a60b_4d5d089414ba",
            "3abdac1c_4717_445e_8248_0143c701015a.b7c63b49_e818_42ad_b867_1c2ae429f264",
            "554f7ba1_7232_4a12_a2b6_0954976ff3b9.a0812711_4b5c_45db_8f28_4addba2e1f0a",
            "5953d8e3_565b_4b29_a498_5ef50f9aefbe.62c0de72_e407_40e5_a526_56d512db78c7",
            "793f94f9_73d2_4ed2_8ccb_abf4576c2a84.0acadeb6_2b5e_4e88_87d0_bbf85e63d38a",
            "8dbdff35_af3a_4c69_8963_53bdcb33c775.418326e3_98a5_4cb5_8e24_160c3d33b813",
            "8f8996ae_8dd4_4a45_bed9_7757fa6907db.0b836588_96b1_47d9_9abe_ae6ef6718a06",
            "951d1945_98d0_4329_9025_dce55687f3a4.43a2661b_f333_447d_99d4_e21db64eaf2a",
            "a047df87_7c81_4a1c_abc5_99a6eda40f1a.2002a748_adce_49b7_9cad_d500844c9fbf",
            "bc3a295e_af26_46d7_9445_63325ab035b8.e01d215a_6ee9_45b4_84aa_079220101038",
            "c10f79c9_744d_40a5_a272_7cde7ca1f5a6.eb67d269_f4a3_40c0_851e_66bd89efb0da",
            "cbb33199_7896_432f_b0f6_ef45a4650723.673b534f_db1a_4d18_91d5_8b1baad9003f",
            "d0b621a6_148d_427d_8aef_b073b11184e1.83e18766_4ebb_492f_96eb_c94e48462ccf",
            "da5873de_e112_4f9b_9e0f_149bd1221894.80372541_e15b_439f_8046_fc563933e535",
            "e700973b_9070_4ec8_9e8d_10cdf1fd209d.ac7b342f_110e_40ff_8289_17f28e53d217",
            "ebb4f301_f353_446c_9b92_19f131e5181d.b74b25c5_1a79_41ef_a65f_284b53e5b005",
            "f7c06302_3c06_4331_b7ee_6f01946aa788.eb0689d0_e21a_476f_a64c_ddde508b11d4",
            "fd5601fa_5513_4b0a_b935_9817c84319e6.fba8d4de_1824_4977_98b2_b6fff0b269b0",
            "3b373634_2461_4b61_8bcb_068c12b7e1a8.d4581c33_9f26_436e_ba16_1fc524631b6f",
            "506f355b_ec0d_4763_8082_5d022dcf6153.e67c2bd5_77d8_4b17_8f49_506dd8473a7c",
            "d02c6fdd_ce6b_44a1_b193_1ede85e7d4c8.0150c610_728a_4f05_a81d_9e86c17ccc8c",
            "08ff7ae0_acef_4f4d_8328_2de484a6d5e1.c1a9a09c_434d_491b_836d_f3eec5671dbc",
            "47f9140d_38d8_4391_9aa1_08973d4b6370.64beb3ae_380d_4540_9275_4cf58aee84f9",
            "d02c6fdd_ce6b_44a1_b193_1ede85e7d4c8.e7fe5d9b_519a_492e_8d3f_9735743644bd",
            "d02c6fdd_ce6b_44a1_b193_1ede85e7d4c8.fd502573_5625_4a52_840d_9e57f934adb6",
            "03e2251b_c111_4c04_b8e2_93438d160457",
            "113d9eb5_17d2_4765_a366_0c2d0ce82ef3",
            "186b8696_d2fd_42c3_b0ef_269f95f4a3e8",
            "3ceb8d68_28c8_48db_a111_2c9d95871a6f",
            "58020af8_807c_41b5_989e_d88aee138305",
            "5aff232c_6c24_4b0a_a98c_6711dc5d981b",
            "6027c053_c6d5_4994_a38b_145baf58d9c4",
            "6c119dba_607b_4f9d_b3dd_51a681a65cf3",
            "6cce0b59_04f7_4b0f_aefb_2dea14760451",
            "82c5b316_25d7_48b1_81e8_89e74d443bfa",
            "a5dd93c8_135f_44d2_b904_dfd010201275",
            "abe5a9d2_b956_4b21_845b_ad9199f0b4c2",
            "ad7fa926_609c_4acd_aef1_e09802ccc8f2",
            "b03129a1_58a8_4b23_a389_bde27bf4567b",
            "d6b99f32_1416_4e4c_939f_9c71b90b2df8",
            "e94bb92b_fbaf_4280_aaae_e3241ee6e6f8",
            "ef551267_c7ee_4e63_a4ff_b384e2c6713e",
            "fdfd6a32_8ed1_4ffc_a8ae_15d9c8c8989a",
            "1c88dea7_7d7e_44c9_94db_b3f1121a7920",
            "124295e4_f6a9_4904_baa2_6bb2752d0059.859193de_a4f3_4707_879c_b8a8188c5f5b.04fa8942_55b0_41fb_9cfc_66d087d70245",
            "3062fe14_682d_481f_a98e_b217c45c2337.b3f637dd_fc6a_48c7_9919_ed48775a743a.04fa8942_55b0_41fb_9cfc_66d087d70245",
            "3abdac1c_4717_445e_8248_0143c701015a.71bfdedb_73da_4307_9046_dba6e35eabdf.04fa8942_55b0_41fb_9cfc_66d087d70245",
            "554f7ba1_7232_4a12_a2b6_0954976ff3b9.a8a33c70_c979_47b7_aa0a_4a2c14cf89aa.04fa8942_55b0_41fb_9cfc_66d087d70245",
            "5953d8e3_565b_4b29_a498_5ef50f9aefbe.c9640af1_0c83_4ee4_9e18_3dd88f104727.04fa8942_55b0_41fb_9cfc_66d087d70245",
            "793f94f9_73d2_4ed2_8ccb_abf4576c2a84.9a6c9ad4_3c32_4aab_a58e_03ed48e116eb.04fa8942_55b0_41fb_9cfc_66d087d70245",
            "8dbdff35_af3a_4c69_8963_53bdcb33c775.0283d8fe_43f1_4d0e_9a53_9dba9dacb759.04fa8942_55b0_41fb_9cfc_66d087d70245",
            "951d1945_98d0_4329_9025_dce55687f3a4.7ea99eda_1771_4b77_bd58_81e429a973fa.04fa8942_55b0_41fb_9cfc_66d087d70245",
            "a047df87_7c81_4a1c_abc5_99a6eda40f1a.de900d60_7e5c_4f71_aa0a_7e9a2e7522f5.04fa8942_55b0_41fb_9cfc_66d087d70245",
            "bc3a295e_af26_46d7_9445_63325ab035b8.936d6d8f_0388_448a_8732_257251232ef8.04fa8942_55b0_41fb_9cfc_66d087d70245",
            "c10f79c9_744d_40a5_a272_7cde7ca1f5a6.e3794860_91e1_4d33_b59e_6d32b3608901.04fa8942_55b0_41fb_9cfc_66d087d70245",
            "cbb33199_7896_432f_b0f6_ef45a4650723.9f0e2fee_7ea6_497c_9d2a_9d47a7accb4a.04fa8942_55b0_41fb_9cfc_66d087d70245",
            "d0b621a6_148d_427d_8aef_b073b11184e1.444b6ff0_2823_4447_9544_c97ff41406c6.04fa8942_55b0_41fb_9cfc_66d087d70245",
            "da5873de_e112_4f9b_9e0f_149bd1221894.8084c259_152b_4607_808b_0fd0a92973e2.04fa8942_55b0_41fb_9cfc_66d087d70245",
            "e700973b_9070_4ec8_9e8d_10cdf1fd209d.9a7697b2_908b_44e2_9d47_24a3c5947254.04fa8942_55b0_41fb_9cfc_66d087d70245",
            "ebb4f301_f353_446c_9b92_19f131e5181d.f6cf4a1e_6056_4f73_9dba_4e01a86113d8.04fa8942_55b0_41fb_9cfc_66d087d70245",
            "f7c06302_3c06_4331_b7ee_6f01946aa788.60befd3c_ef15_481b_ab9a_5e1205e90abc.04fa8942_55b0_41fb_9cfc_66d087d70245",
            "fd5601fa_5513_4b0a_b935_9817c84319e6.3a3f575d_2d3c_4399_a159_9cfabfb29282.04fa8942_55b0_41fb_9cfc_66d087d70245",
            "08ff7ae0_acef_4f4d_8328_2de484a6d5e1.b6505e76_94b4_433a_beaf_6017544b4592",
            "08ff7ae0_acef_4f4d_8328_2de484a6d5e1.c426826a_4671_43fa_a7c9_059a1be86541",
            "08ff7ae0_acef_4f4d_8328_2de484a6d5e1.c5544a98_fb48_414e_b3ba_c5ee0d8aeda4",
            "124295e4_f6a9_4904_baa2_6bb2752d0059.22726d96_34bc_4849_92a7_824ffabd4d72",
            "3062fe14_682d_481f_a98e_b217c45c2337.544cc617_8e14_41ca_b372_0e04d5e3bf12",
            "3abdac1c_4717_445e_8248_0143c701015a.7b2a4102_7d96_4a56_b52a_f2e22621d94a",
            "3abdac1c_4717_445e_8248_0143c701015a.c1dbecdd_2162_46ab_9839_007c10f92a09",
            "3abdac1c_4717_445e_8248_0143c701015a.fe9b1bb1_d4aa_468d_8f44_96a044ccd676",
            "47f9140d_38d8_4391_9aa1_08973d4b6370.33c495f2_9eb2_4587_8529_af39cedd32ac",
            "554f7ba1_7232_4a12_a2b6_0954976ff3b9.2d5f3770_15f6_41af_8e2b_3c8baac10f33",
            "5953d8e3_565b_4b29_a498_5ef50f9aefbe.c950d52c_d3f8_4b12_bb48_245d4e16e803",
            "793f94f9_73d2_4ed2_8ccb_abf4576c2a84.c5a1c310_72e5_4114_8654_7c97f4dae729",
            "8dbdff35_af3a_4c69_8963_53bdcb33c775.4f44dcd3_3f27_4e29_afe1_b217a0de9698",
            "8f8996ae_8dd4_4a45_bed9_7757fa6907db.1bf84ef9_7dc9_43f6_8c64_46357add1f9d",
            "8f8996ae_8dd4_4a45_bed9_7757fa6907db.46405a59_456b_4f61_8005_a73aab9150b4",
            "8f8996ae_8dd4_4a45_bed9_7757fa6907db.60147e27_507b_46e5_ae58_f7bbb242098e",
            "8f8996ae_8dd4_4a45_bed9_7757fa6907db.e6fd0b85_594b_4282_87fc_a0d390b75e51",
            "8f8996ae_8dd4_4a45_bed9_7757fa6907db.f34afc85_d1ee_4dfb_964f_8f3abad76614",
            "951d1945_98d0_4329_9025_dce55687f3a4.8c9c7dd9_1ed2_44fa_8d85_a58231fb660c",
            "a047df87_7c81_4a1c_abc5_99a6eda40f1a.7cf41241_f764_4165_b83d_fd0fb9af7684",
            "a623c910_08ec_4a6f_95ff_d6c28ead53ca.2305ed3a_0648_4501_ad77_fb03cd49be07",
            "bc3a295e_af26_46d7_9445_63325ab035b8.df99a06d_83f2_4000_a4a2_8a0cfc3ba952",
            "c10f79c9_744d_40a5_a272_7cde7ca1f5a6.310591fc_a3a8_4225_b371_959c2430c4d4",
            "c10f79c9_744d_40a5_a272_7cde7ca1f5a6.f59da42f_3979_47fa_9a62_7d073323a985",
            "cbb33199_7896_432f_b0f6_ef45a4650723.197ba5f8_759e_4177_bacc_891fb39384c3",
            "d0b621a6_148d_427d_8aef_b073b11184e1.896473fa_bfd5_466b_bd12_2962450790e1",
            "da5873de_e112_4f9b_9e0f_149bd1221894.e3479c33_7d89_4c02_9d8c_394e856b6d91",
            "e700973b_9070_4ec8_9e8d_10cdf1fd209d.ebb5aa94_3063_4865_b93d_14bcdab5b215",
            "ebb4f301_f353_446c_9b92_19f131e5181d.25a13945_4b43_43d2_bc21_e56afaffabd5",
            "f7c06302_3c06_4331_b7ee_6f01946aa788.aabca30b_669f_4028_95bc_efc73fac6d08",
            "fd5601fa_5513_4b0a_b935_9817c84319e6.c8fc55af_3199_49e4_9245_cfbb4348e110",
            "d64b9bc0_e6b3_4556_acda_8040d33b7148.054c5261_b483_48ff_a47c_97a7e9ce9880",
            "d64b9bc0_e6b3_4556_acda_8040d33b7148.0685a60a_9bce_4c0c_b68c_b7ae310dc149",
            "d64b9bc0_e6b3_4556_acda_8040d33b7148.13e04147_c9f3_43ce_a20a_45469f499030",
            "d64b9bc0_e6b3_4556_acda_8040d33b7148.1e39b32b_c387_4950_9269_62058bcbd7ad",
            "d64b9bc0_e6b3_4556_acda_8040d33b7148.26df9086_6531_406a_9fce_faaea4c4eeff",
            "d64b9bc0_e6b3_4556_acda_8040d33b7148.398480da_80d9_43f6_b796_d60002d3c63c",
            "d64b9bc0_e6b3_4556_acda_8040d33b7148.7b2d8b7e_bdfe_4837_93a8_2e71770258bf",
            "d64b9bc0_e6b3_4556_acda_8040d33b7148.7cdaf176_3062_4111_94f5_27ed2998a8eb",
            "d64b9bc0_e6b3_4556_acda_8040d33b7148.87cc7e8f_a2fa_4a46_9e18_002ad1f6984e",
            "d64b9bc0_e6b3_4556_acda_8040d33b7148.bf975320_a43e_43cc_86bc_a82983f735ec",
            "d64b9bc0_e6b3_4556_acda_8040d33b7148.c3257189_2c5f_4fba_8179_d08a3d6f5a94",
            "d64b9bc0_e6b3_4556_acda_8040d33b7148.c76e3d65_8b3a_4b18_8f73_ab3608a678a9",
            "d64b9bc0_e6b3_4556_acda_8040d33b7148.d1076877_aa60_4a48_9656_db0250342795",
            "d64b9bc0_e6b3_4556_acda_8040d33b7148.d2513e19_a7e7_4767_b1a9_0b41c9c99662",
            "d64b9bc0_e6b3_4556_acda_8040d33b7148.d6c2bf91_b015_4f44_8483_a0d72288ce38",
            "d64b9bc0_e6b3_4556_acda_8040d33b7148.df674f3d_795e_4d86_898e_6ec4f8a75347",
            "d64b9bc0_e6b3_4556_acda_8040d33b7148.eb39c7d4_f6e4_4cb4_9f18_96e0019eef5d",
            "d64b9bc0_e6b3_4556_acda_8040d33b7148.ef595a99_8c11_4b0d_971a_61c6d6044de8",
            "124295e4_f6a9_4904_baa2_6bb2752d0059.859193de_a4f3_4707_879c_b8a8188c5f5b.d851e5bd_1766_4aae_a571_d5070bcc3493",
            "3062fe14_682d_481f_a98e_b217c45c2337.b3f637dd_fc6a_48c7_9919_ed48775a743a.d851e5bd_1766_4aae_a571_d5070bcc3493",
            "3abdac1c_4717_445e_8248_0143c701015a.71bfdedb_73da_4307_9046_dba6e35eabdf.d851e5bd_1766_4aae_a571_d5070bcc3493",
            "554f7ba1_7232_4a12_a2b6_0954976ff3b9.a8a33c70_c979_47b7_aa0a_4a2c14cf89aa.d851e5bd_1766_4aae_a571_d5070bcc3493",
            "5953d8e3_565b_4b29_a498_5ef50f9aefbe.c9640af1_0c83_4ee4_9e18_3dd88f104727.d851e5bd_1766_4aae_a571_d5070bcc3493",
            "793f94f9_73d2_4ed2_8ccb_abf4576c2a84.9a6c9ad4_3c32_4aab_a58e_03ed48e116eb.d851e5bd_1766_4aae_a571_d5070bcc3493",
            "8dbdff35_af3a_4c69_8963_53bdcb33c775.0283d8fe_43f1_4d0e_9a53_9dba9dacb759.d851e5bd_1766_4aae_a571_d5070bcc3493",
            "951d1945_98d0_4329_9025_dce55687f3a4.7ea99eda_1771_4b77_bd58_81e429a973fa.d851e5bd_1766_4aae_a571_d5070bcc3493",
            "a047df87_7c81_4a1c_abc5_99a6eda40f1a.de900d60_7e5c_4f71_aa0a_7e9a2e7522f5.d851e5bd_1766_4aae_a571_d5070bcc3493",
            "bc3a295e_af26_46d7_9445_63325ab035b8.936d6d8f_0388_448a_8732_257251232ef8.d851e5bd_1766_4aae_a571_d5070bcc3493",
            "c10f79c9_744d_40a5_a272_7cde7ca1f5a6.e3794860_91e1_4d33_b59e_6d32b3608901.d851e5bd_1766_4aae_a571_d5070bcc3493",
            "cbb33199_7896_432f_b0f6_ef45a4650723.9f0e2fee_7ea6_497c_9d2a_9d47a7accb4a.d851e5bd_1766_4aae_a571_d5070bcc3493",
            "d0b621a6_148d_427d_8aef_b073b11184e1.444b6ff0_2823_4447_9544_c97ff41406c6.d851e5bd_1766_4aae_a571_d5070bcc3493",
            "da5873de_e112_4f9b_9e0f_149bd1221894.8084c259_152b_4607_808b_0fd0a92973e2.d851e5bd_1766_4aae_a571_d5070bcc3493",
            "e700973b_9070_4ec8_9e8d_10cdf1fd209d.9a7697b2_908b_44e2_9d47_24a3c5947254.d851e5bd_1766_4aae_a571_d5070bcc3493",
            "ebb4f301_f353_446c_9b92_19f131e5181d.f6cf4a1e_6056_4f73_9dba_4e01a86113d8.d851e5bd_1766_4aae_a571_d5070bcc3493",
            "f7c06302_3c06_4331_b7ee_6f01946aa788.60befd3c_ef15_481b_ab9a_5e1205e90abc.d851e5bd_1766_4aae_a571_d5070bcc3493",
            "fd5601fa_5513_4b0a_b935_9817c84319e6.3a3f575d_2d3c_4399_a159_9cfabfb29282.d851e5bd_1766_4aae_a571_d5070bcc3493",
            "47f9140d_38d8_4391_9aa1_08973d4b6370.095e2246_dd98_4fbe_aabb_bb72caa924ff",
            "1ca047e2_b601_4ba7_a579_abcfa7a45ea7.20fe1042_be9d_4550_abc9_1c9947a57f72",
            "1ca047e2_b601_4ba7_a579_abcfa7a45ea7.7db45373_727c_4019_8f6d_c50cd077dfdb",
            "1ca047e2_b601_4ba7_a579_abcfa7a45ea7.877e414e_8296_4a67_bd68_daaeb82fac75",
            "1ca047e2_b601_4ba7_a579_abcfa7a45ea7.c65464e9_74cb_4bc9_ae46_2e7dcefd7182",
            "2b6bd5c2_ff3b_4c3f_9403_598e2e15e289",
            "53a9a82f_a668_4334_a74d_f0b200ee11a5",
            "b1b7a5e9_d43a_4060_b822_6dd70adf9331",
            "c0f9af3f_8754_4118_97cc_6da6f4484353",
            "e4676dec_a89f_4314_ade5_e6285ab800ef",
            "febc01f1_d709_4c5d_a5c0_d1c3545c73af",
            "1af5f6f9_15b1_4a62_962e_0ede16373202.22ce6a56_6e92_414e_b70d_0deb2be5cc54",
            "1af5f6f9_15b1_4a62_962e_0ede16373202.9032ecc7_e32a_44de_859c_bf8b64c6ae8a",
            "1af5f6f9_15b1_4a62_962e_0ede16373202.a8dcfdcf_d834_43f2_8db6_ebc13f3c0049",
            "1af5f6f9_15b1_4a62_962e_0ede16373202.de95bdb2_ea14_4a4f_9b67_1492db07096c",
            "1af5f6f9_15b1_4a62_962e_0ede16373202.f1ecaee4_72c9_4199_b357_9a40f2c3a9e2",
            "1af5f6f9_15b1_4a62_962e_0ede16373202.f3fd55d7_811c_4eb1_8a5e_fc7921ad1f6d",
            "22ce6a56_6e92_414e_b70d_0deb2be5cc54",
            "6b498416_1218_453d_a09e_64a2e2aebe24.22ce6a56_6e92_414e_b70d_0deb2be5cc54",
            "6b498416_1218_453d_a09e_64a2e2aebe24.9032ecc7_e32a_44de_859c_bf8b64c6ae8a",
            "6b498416_1218_453d_a09e_64a2e2aebe24.a8dcfdcf_d834_43f2_8db6_ebc13f3c0049",
            "6b498416_1218_453d_a09e_64a2e2aebe24.de95bdb2_ea14_4a4f_9b67_1492db07096c",
            "6b498416_1218_453d_a09e_64a2e2aebe24.f1ecaee4_72c9_4199_b357_9a40f2c3a9e2",
            "6b498416_1218_453d_a09e_64a2e2aebe24.f3fd55d7_811c_4eb1_8a5e_fc7921ad1f6d",
            "70d05bb1_6810_435a_bcac_8166afba0ba6.22ce6a56_6e92_414e_b70d_0deb2be5cc54",
            "70d05bb1_6810_435a_bcac_8166afba0ba6.9032ecc7_e32a_44de_859c_bf8b64c6ae8a",
            "70d05bb1_6810_435a_bcac_8166afba0ba6.a8dcfdcf_d834_43f2_8db6_ebc13f3c0049",
            "70d05bb1_6810_435a_bcac_8166afba0ba6.de95bdb2_ea14_4a4f_9b67_1492db07096c",
            "70d05bb1_6810_435a_bcac_8166afba0ba6.f1ecaee4_72c9_4199_b357_9a40f2c3a9e2",
            "70d05bb1_6810_435a_bcac_8166afba0ba6.f3fd55d7_811c_4eb1_8a5e_fc7921ad1f6d",
            "7b630b30_400a_413b_9d29_b0b98688dac5.22ce6a56_6e92_414e_b70d_0deb2be5cc54",
            "7b630b30_400a_413b_9d29_b0b98688dac5.9032ecc7_e32a_44de_859c_bf8b64c6ae8a",
            "7b630b30_400a_413b_9d29_b0b98688dac5.a8dcfdcf_d834_43f2_8db6_ebc13f3c0049",
            "7b630b30_400a_413b_9d29_b0b98688dac5.de95bdb2_ea14_4a4f_9b67_1492db07096c",
            "7b630b30_400a_413b_9d29_b0b98688dac5.f1ecaee4_72c9_4199_b357_9a40f2c3a9e2",
            "7b630b30_400a_413b_9d29_b0b98688dac5.f3fd55d7_811c_4eb1_8a5e_fc7921ad1f6d",
            "bb8bdc58_4098_4ba0_a92d_907dad26eaab.22ce6a56_6e92_414e_b70d_0deb2be5cc54",
            "bb8bdc58_4098_4ba0_a92d_907dad26eaab.9032ecc7_e32a_44de_859c_bf8b64c6ae8a",
            "bb8bdc58_4098_4ba0_a92d_907dad26eaab.a8dcfdcf_d834_43f2_8db6_ebc13f3c0049",
            "bb8bdc58_4098_4ba0_a92d_907dad26eaab.de95bdb2_ea14_4a4f_9b67_1492db07096c",
            "bb8bdc58_4098_4ba0_a92d_907dad26eaab.f1ecaee4_72c9_4199_b357_9a40f2c3a9e2",
            "bb8bdc58_4098_4ba0_a92d_907dad26eaab.f3fd55d7_811c_4eb1_8a5e_fc7921ad1f6d",
            "de95bdb2_ea14_4a4f_9b67_1492db07096c",
            "f1ecaee4_72c9_4199_b357_9a40f2c3a9e2",
            "c10f79c9_744d_40a5_a272_7cde7ca1f5a6.bb042843_86c6_4d69_9e92_ef556849911b",
            "fd5601fa_5513_4b0a_b935_9817c84319e6.c9e11464_7ee1_4e1d_91ca_48666493fe33",
            "1826c235_f993_4507_8ea5_b1c82e8c47df",
            "dd2a3659_6674_4f80_88b7_be63664ff2e3",
            "08ff7ae0_acef_4f4d_8328_2de484a6d5e1.16fbd00a_c0dc_4a90_943d_1eab1b80190f",
            "3e61e901_9d3d_44a4_80aa_22259f31bc40",
            "3abdac1c_4717_445e_8248_0143c701015a.a1b31346_34a2_497a_9c2d_cd17d5d88871",
            "8f8996ae_8dd4_4a45_bed9_7757fa6907db.2699824a_dedf_4f3a_8fcf_5e69dcc9a992",
            "a623c910_08ec_4a6f_95ff_d6c28ead53ca.0c28985d_de35_4d8f_a3ed_21d1745118e3"
           ],
           [
            false,
            false,
            false,
            false,
            false,
            false,
            false,
            false,
            false,
            false,
            false,
            false,
            false,
            false,
            false,
            false,
            false,
            false,
            false,
            false,
            false,
            false,
            false,
            false,
            false,
            false,
            false,
            false,
            false,
            false,
            false,
            false,
            false,
            false,
            false,
            false,
            false,
            false,
            false,
            false,
            false,
            false,
            false,
            false,
            false,
            false,
            false,
            false,
            false,
            false,
            false,
            false,
            false,
            false,
            false,
            true,
            true,
            true,
            true,
            true,
            true,
            true,
            true,
            true,
            true,
            true,
            true,
            true,
            true,
            true,
            true,
            true,
            true,
            true,
            true,
            true,
            true,
            true,
            true,
            true,
            true,
            true,
            true,
            true,
            true,
            true,
            true,
            true,
            true,
            true,
            true,
            true,
            true,
            true,
            true,
            true,
            true,
            true,
            true,
            true,
            true,
            true,
            true,
            true,
            true,
            true,
            true,
            true,
            true,
            true,
            true,
            true,
            true,
            true,
            true,
            true,
            true,
            true,
            true,
            true,
            true,
            true,
            true,
            true,
            true,
            true,
            true,
            true,
            true,
            true,
            true,
            true,
            true,
            true,
            true,
            true,
            true,
            true,
            true,
            true,
            true,
            true,
            true,
            true,
            true,
            true,
            true,
            true,
            true,
            true,
            true,
            true,
            true,
            true,
            true,
            true,
            true,
            true,
            true,
            true,
            true,
            true,
            true,
            true,
            true,
            true,
            true,
            true,
            true,
            true,
            true,
            true,
            true,
            true,
            true,
            true,
            true,
            true,
            true,
            true,
            true,
            true,
            true,
            true,
            true,
            true,
            true,
            true,
            true,
            true,
            true,
            true,
            true,
            true,
            true,
            true,
            true,
            true,
            true,
            true,
            true,
            true,
            true,
            true,
            true,
            true,
            true,
            true,
            true,
            true,
            true,
            true,
            true,
            true,
            true,
            true,
            true,
            true,
            true,
            true,
            true,
            true,
            true,
            true,
            true,
            true,
            true,
            true,
            true,
            true,
            true,
            true,
            true,
            true,
            true,
            true,
            true,
            true,
            true,
            true,
            true,
            true,
            true,
            true,
            true,
            true,
            true,
            true,
            true,
            true,
            true,
            true,
            true,
            true,
            true,
            true,
            true,
            true,
            true,
            true,
            true,
            true,
            true,
            true,
            true,
            true,
            true,
            true,
            true,
            true,
            true,
            true,
            true,
            true,
            true,
            true,
            true,
            true,
            true,
            true,
            true,
            true,
            true,
            true,
            true,
            true,
            true,
            true,
            true,
            true,
            true,
            true,
            true,
            true,
            true,
            true,
            true,
            true,
            true,
            true,
            true,
            true,
            true,
            true,
            true,
            true,
            true,
            true,
            true,
            true,
            true,
            true,
            true,
            true,
            true,
            true,
            true,
            true,
            true,
            true,
            true,
            true,
            true,
            true,
            true,
            true,
            true,
            true,
            true,
            true,
            true,
            true,
            true,
            true,
            true,
            true,
            true,
            true,
            true,
            true,
            true,
            true,
            true,
            true,
            true,
            true,
            true,
            true,
            true,
            true,
            true,
            true,
            true,
            true,
            true,
            true,
            true,
            true,
            true,
            true,
            true,
            true,
            true,
            true,
            true,
            true,
            true,
            true,
            true,
            true,
            true,
            true,
            true,
            true,
            true,
            true,
            true,
            true,
            true,
            true,
            true,
            true,
            true,
            true,
            true,
            true,
            true,
            true,
            true,
            true,
            true,
            true,
            true,
            true,
            true,
            true,
            true,
            true,
            true,
            true,
            true,
            true,
            true,
            true,
            true,
            true,
            true,
            true,
            true,
            true,
            true,
            true,
            true,
            true,
            true,
            true,
            true,
            true,
            true,
            true,
            true,
            true,
            true,
            true,
            true,
            true,
            true,
            true,
            true,
            true,
            true,
            true,
            true,
            true,
            true,
            true,
            true,
            true,
            true,
            true,
            true,
            true,
            true,
            true,
            true,
            true,
            true,
            true,
            true,
            true,
            true,
            true,
            true,
            true,
            true,
            true,
            true,
            true,
            true,
            true,
            true,
            true,
            true,
            true,
            true,
            true,
            true,
            true,
            true,
            true,
            true,
            true,
            true,
            true,
            true,
            true,
            true,
            true,
            true,
            true,
            true,
            true,
            true,
            true,
            true,
            true,
            true,
            true,
            true,
            true,
            true,
            true,
            true,
            true,
            true,
            true,
            true,
            true,
            true,
            true,
            true,
            true,
            true,
            true,
            true,
            true,
            true,
            true,
            true,
            true,
            true,
            true,
            true,
            true,
            true,
            true,
            true,
            true,
            true,
            true,
            true,
            true,
            true,
            true,
            true,
            true,
            true,
            true,
            true,
            true,
            true,
            true,
            true,
            true,
            true,
            true,
            true,
            true,
            true,
            true,
            true,
            true,
            true,
            true,
            true,
            true,
            true,
            true,
            true,
            true,
            true,
            true,
            true,
            true,
            true,
            true,
            true,
            true,
            true,
            true,
            true,
            true,
            true,
            true,
            true,
            true,
            true,
            true,
            true,
            true,
            true,
            true,
            true,
            true,
            true,
            true,
            true,
            true,
            true,
            true,
            true,
            true,
            true,
            true,
            true,
            true,
            true,
            true,
            true,
            true,
            true,
            true,
            true,
            true,
            true,
            true,
            true,
            true,
            true,
            true,
            true,
            true,
            true,
            true,
            true,
            true,
            true,
            true,
            true,
            true,
            true,
            true,
            true,
            true,
            true,
            true,
            true,
            true,
            true,
            true,
            true,
            true,
            true,
            true,
            true,
            true,
            true,
            true,
            true,
            true,
            true,
            true,
            true,
            true,
            true,
            true,
            true,
            true,
            true,
            true,
            true,
            true,
            true,
            true,
            true,
            true,
            true,
            true,
            true,
            true,
            true,
            true,
            true,
            true,
            true,
            true,
            true,
            true,
            true,
            true,
            true,
            true,
            true,
            true,
            true,
            true,
            true,
            true,
            true,
            true,
            true,
            true,
            true,
            true,
            true,
            true,
            true,
            true,
            true,
            true,
            true,
            true,
            true,
            true,
            true,
            true,
            true,
            true,
            true,
            true,
            true,
            true,
            true,
            true,
            true,
            true,
            true,
            true,
            true,
            true,
            true,
            true,
            true,
            true,
            true,
            true,
            true,
            true,
            true,
            true,
            true,
            true,
            true,
            true,
            true,
            true,
            true,
            true,
            true,
            true,
            true,
            true,
            true,
            true,
            true,
            true,
            true,
            true,
            true,
            true,
            true,
            true,
            true,
            true,
            true,
            true,
            true,
            true,
            true,
            true,
            true,
            true,
            true,
            true,
            true,
            true,
            true,
            true,
            true,
            true,
            true,
            true,
            true,
            true,
            true,
            true,
            true,
            true,
            true,
            true,
            true,
            true,
            true,
            true,
            true,
            true,
            true,
            true,
            true,
            true,
            true,
            true,
            true,
            true,
            true,
            true,
            true,
            true,
            true,
            true,
            true,
            true,
            true,
            true,
            true,
            true,
            true,
            true,
            true,
            true,
            true,
            true,
            true,
            true,
            true,
            true,
            true,
            true,
            true,
            true,
            true,
            true,
            true,
            true,
            true,
            true,
            true,
            true,
            true,
            true,
            true,
            true,
            true,
            true,
            true,
            true,
            true,
            true,
            true,
            true,
            true,
            true,
            true,
            true,
            true,
            true,
            true,
            true,
            true,
            true,
            true,
            true,
            true,
            true,
            true,
            true,
            true,
            true,
            true,
            true,
            true,
            true,
            true,
            true,
            true,
            true,
            true,
            true,
            true,
            true,
            true,
            true,
            true,
            true,
            true,
            true,
            true,
            true,
            true,
            true,
            true,
            true,
            true,
            true,
            true,
            true,
            true,
            true,
            true,
            true,
            true,
            true,
            true,
            true,
            true,
            true,
            true,
            true,
            true,
            true,
            true,
            true,
            true,
            true,
            true,
            true,
            true,
            true,
            true,
            true,
            true,
            true,
            true,
            true,
            true,
            true,
            true,
            true,
            true,
            true,
            true,
            true,
            true,
            true,
            true,
            true,
            true,
            true,
            true,
            true,
            true,
            true,
            true,
            true,
            true,
            true,
            true,
            true,
            true,
            true,
            true,
            true,
            true,
            true,
            true,
            true,
            true,
            true,
            true,
            true,
            true,
            true,
            true,
            true,
            true,
            true,
            true,
            true,
            true,
            true,
            true,
            true,
            true,
            true,
            true,
            true,
            true,
            true,
            true,
            true,
            true,
            true,
            true,
            true,
            true,
            true,
            true,
            true,
            true,
            true,
            true,
            true,
            true,
            true,
            true,
            true,
            true,
            true,
            true,
            true,
            true,
            true,
            true,
            true,
            true,
            true,
            true,
            true,
            true,
            true,
            true,
            true,
            true,
            true,
            true,
            true,
            true,
            true,
            true,
            true,
            true,
            true,
            true,
            true,
            true,
            true,
            true,
            true,
            true,
            true,
            true,
            true,
            true,
            true,
            true,
            true,
            true,
            true,
            true,
            true,
            true,
            true,
            true,
            true,
            true,
            true,
            true,
            true,
            true,
            true,
            true,
            true,
            true,
            true,
            true,
            true,
            true,
            true,
            true,
            true,
            true,
            true,
            true,
            true,
            true,
            true,
            true,
            true,
            true,
            true,
            true,
            true,
            true,
            true,
            true,
            true,
            true,
            true,
            true,
            true,
            true,
            true,
            true,
            true,
            true,
            true,
            true,
            true,
            true,
            true,
            true,
            true,
            true,
            true,
            true,
            true,
            true,
            true,
            true,
            true,
            true,
            true,
            true,
            true,
            true,
            true,
            true,
            true,
            true,
            true,
            true,
            true,
            true,
            true,
            true,
            true,
            true,
            true,
            true,
            true,
            true,
            true,
            true,
            true,
            true,
            true,
            true,
            true,
            true,
            true,
            true,
            true,
            true,
            true,
            true,
            true,
            true,
            true,
            true,
            true,
            true,
            true,
            true,
            true,
            true
           ]
          ]
         },
         "domain": {
          "x": [
           0,
           1
          ],
          "y": [
           0,
           0.485
          ]
         },
         "header": {
          "align": "left",
          "font": {
           "size": 10
          },
          "values": [
           "Brick Class",
           "Entity ID",
           "Class Recognised"
          ]
         },
         "type": "table"
        }
       ],
       "layout": {
        "height": 800,
        "showlegend": false,
        "template": {
         "data": {
          "bar": [
           {
            "error_x": {
             "color": "#2a3f5f"
            },
            "error_y": {
             "color": "#2a3f5f"
            },
            "marker": {
             "line": {
              "color": "#E5ECF6",
              "width": 0.5
             },
             "pattern": {
              "fillmode": "overlay",
              "size": 10,
              "solidity": 0.2
             }
            },
            "type": "bar"
           }
          ],
          "barpolar": [
           {
            "marker": {
             "line": {
              "color": "#E5ECF6",
              "width": 0.5
             },
             "pattern": {
              "fillmode": "overlay",
              "size": 10,
              "solidity": 0.2
             }
            },
            "type": "barpolar"
           }
          ],
          "carpet": [
           {
            "aaxis": {
             "endlinecolor": "#2a3f5f",
             "gridcolor": "white",
             "linecolor": "white",
             "minorgridcolor": "white",
             "startlinecolor": "#2a3f5f"
            },
            "baxis": {
             "endlinecolor": "#2a3f5f",
             "gridcolor": "white",
             "linecolor": "white",
             "minorgridcolor": "white",
             "startlinecolor": "#2a3f5f"
            },
            "type": "carpet"
           }
          ],
          "choropleth": [
           {
            "colorbar": {
             "outlinewidth": 0,
             "ticks": ""
            },
            "type": "choropleth"
           }
          ],
          "contour": [
           {
            "colorbar": {
             "outlinewidth": 0,
             "ticks": ""
            },
            "colorscale": [
             [
              0,
              "#0d0887"
             ],
             [
              0.1111111111111111,
              "#46039f"
             ],
             [
              0.2222222222222222,
              "#7201a8"
             ],
             [
              0.3333333333333333,
              "#9c179e"
             ],
             [
              0.4444444444444444,
              "#bd3786"
             ],
             [
              0.5555555555555556,
              "#d8576b"
             ],
             [
              0.6666666666666666,
              "#ed7953"
             ],
             [
              0.7777777777777778,
              "#fb9f3a"
             ],
             [
              0.8888888888888888,
              "#fdca26"
             ],
             [
              1,
              "#f0f921"
             ]
            ],
            "type": "contour"
           }
          ],
          "contourcarpet": [
           {
            "colorbar": {
             "outlinewidth": 0,
             "ticks": ""
            },
            "type": "contourcarpet"
           }
          ],
          "heatmap": [
           {
            "colorbar": {
             "outlinewidth": 0,
             "ticks": ""
            },
            "colorscale": [
             [
              0,
              "#0d0887"
             ],
             [
              0.1111111111111111,
              "#46039f"
             ],
             [
              0.2222222222222222,
              "#7201a8"
             ],
             [
              0.3333333333333333,
              "#9c179e"
             ],
             [
              0.4444444444444444,
              "#bd3786"
             ],
             [
              0.5555555555555556,
              "#d8576b"
             ],
             [
              0.6666666666666666,
              "#ed7953"
             ],
             [
              0.7777777777777778,
              "#fb9f3a"
             ],
             [
              0.8888888888888888,
              "#fdca26"
             ],
             [
              1,
              "#f0f921"
             ]
            ],
            "type": "heatmap"
           }
          ],
          "heatmapgl": [
           {
            "colorbar": {
             "outlinewidth": 0,
             "ticks": ""
            },
            "colorscale": [
             [
              0,
              "#0d0887"
             ],
             [
              0.1111111111111111,
              "#46039f"
             ],
             [
              0.2222222222222222,
              "#7201a8"
             ],
             [
              0.3333333333333333,
              "#9c179e"
             ],
             [
              0.4444444444444444,
              "#bd3786"
             ],
             [
              0.5555555555555556,
              "#d8576b"
             ],
             [
              0.6666666666666666,
              "#ed7953"
             ],
             [
              0.7777777777777778,
              "#fb9f3a"
             ],
             [
              0.8888888888888888,
              "#fdca26"
             ],
             [
              1,
              "#f0f921"
             ]
            ],
            "type": "heatmapgl"
           }
          ],
          "histogram": [
           {
            "marker": {
             "pattern": {
              "fillmode": "overlay",
              "size": 10,
              "solidity": 0.2
             }
            },
            "type": "histogram"
           }
          ],
          "histogram2d": [
           {
            "colorbar": {
             "outlinewidth": 0,
             "ticks": ""
            },
            "colorscale": [
             [
              0,
              "#0d0887"
             ],
             [
              0.1111111111111111,
              "#46039f"
             ],
             [
              0.2222222222222222,
              "#7201a8"
             ],
             [
              0.3333333333333333,
              "#9c179e"
             ],
             [
              0.4444444444444444,
              "#bd3786"
             ],
             [
              0.5555555555555556,
              "#d8576b"
             ],
             [
              0.6666666666666666,
              "#ed7953"
             ],
             [
              0.7777777777777778,
              "#fb9f3a"
             ],
             [
              0.8888888888888888,
              "#fdca26"
             ],
             [
              1,
              "#f0f921"
             ]
            ],
            "type": "histogram2d"
           }
          ],
          "histogram2dcontour": [
           {
            "colorbar": {
             "outlinewidth": 0,
             "ticks": ""
            },
            "colorscale": [
             [
              0,
              "#0d0887"
             ],
             [
              0.1111111111111111,
              "#46039f"
             ],
             [
              0.2222222222222222,
              "#7201a8"
             ],
             [
              0.3333333333333333,
              "#9c179e"
             ],
             [
              0.4444444444444444,
              "#bd3786"
             ],
             [
              0.5555555555555556,
              "#d8576b"
             ],
             [
              0.6666666666666666,
              "#ed7953"
             ],
             [
              0.7777777777777778,
              "#fb9f3a"
             ],
             [
              0.8888888888888888,
              "#fdca26"
             ],
             [
              1,
              "#f0f921"
             ]
            ],
            "type": "histogram2dcontour"
           }
          ],
          "mesh3d": [
           {
            "colorbar": {
             "outlinewidth": 0,
             "ticks": ""
            },
            "type": "mesh3d"
           }
          ],
          "parcoords": [
           {
            "line": {
             "colorbar": {
              "outlinewidth": 0,
              "ticks": ""
             }
            },
            "type": "parcoords"
           }
          ],
          "pie": [
           {
            "automargin": true,
            "type": "pie"
           }
          ],
          "scatter": [
           {
            "fillpattern": {
             "fillmode": "overlay",
             "size": 10,
             "solidity": 0.2
            },
            "type": "scatter"
           }
          ],
          "scatter3d": [
           {
            "line": {
             "colorbar": {
              "outlinewidth": 0,
              "ticks": ""
             }
            },
            "marker": {
             "colorbar": {
              "outlinewidth": 0,
              "ticks": ""
             }
            },
            "type": "scatter3d"
           }
          ],
          "scattercarpet": [
           {
            "marker": {
             "colorbar": {
              "outlinewidth": 0,
              "ticks": ""
             }
            },
            "type": "scattercarpet"
           }
          ],
          "scattergeo": [
           {
            "marker": {
             "colorbar": {
              "outlinewidth": 0,
              "ticks": ""
             }
            },
            "type": "scattergeo"
           }
          ],
          "scattergl": [
           {
            "marker": {
             "colorbar": {
              "outlinewidth": 0,
              "ticks": ""
             }
            },
            "type": "scattergl"
           }
          ],
          "scattermapbox": [
           {
            "marker": {
             "colorbar": {
              "outlinewidth": 0,
              "ticks": ""
             }
            },
            "type": "scattermapbox"
           }
          ],
          "scatterpolar": [
           {
            "marker": {
             "colorbar": {
              "outlinewidth": 0,
              "ticks": ""
             }
            },
            "type": "scatterpolar"
           }
          ],
          "scatterpolargl": [
           {
            "marker": {
             "colorbar": {
              "outlinewidth": 0,
              "ticks": ""
             }
            },
            "type": "scatterpolargl"
           }
          ],
          "scatterternary": [
           {
            "marker": {
             "colorbar": {
              "outlinewidth": 0,
              "ticks": ""
             }
            },
            "type": "scatterternary"
           }
          ],
          "surface": [
           {
            "colorbar": {
             "outlinewidth": 0,
             "ticks": ""
            },
            "colorscale": [
             [
              0,
              "#0d0887"
             ],
             [
              0.1111111111111111,
              "#46039f"
             ],
             [
              0.2222222222222222,
              "#7201a8"
             ],
             [
              0.3333333333333333,
              "#9c179e"
             ],
             [
              0.4444444444444444,
              "#bd3786"
             ],
             [
              0.5555555555555556,
              "#d8576b"
             ],
             [
              0.6666666666666666,
              "#ed7953"
             ],
             [
              0.7777777777777778,
              "#fb9f3a"
             ],
             [
              0.8888888888888888,
              "#fdca26"
             ],
             [
              1,
              "#f0f921"
             ]
            ],
            "type": "surface"
           }
          ],
          "table": [
           {
            "cells": {
             "fill": {
              "color": "#EBF0F8"
             },
             "line": {
              "color": "white"
             }
            },
            "header": {
             "fill": {
              "color": "#C8D4E3"
             },
             "line": {
              "color": "white"
             }
            },
            "type": "table"
           }
          ]
         },
         "layout": {
          "annotationdefaults": {
           "arrowcolor": "#2a3f5f",
           "arrowhead": 0,
           "arrowwidth": 1
          },
          "autotypenumbers": "strict",
          "coloraxis": {
           "colorbar": {
            "outlinewidth": 0,
            "ticks": ""
           }
          },
          "colorscale": {
           "diverging": [
            [
             0,
             "#8e0152"
            ],
            [
             0.1,
             "#c51b7d"
            ],
            [
             0.2,
             "#de77ae"
            ],
            [
             0.3,
             "#f1b6da"
            ],
            [
             0.4,
             "#fde0ef"
            ],
            [
             0.5,
             "#f7f7f7"
            ],
            [
             0.6,
             "#e6f5d0"
            ],
            [
             0.7,
             "#b8e186"
            ],
            [
             0.8,
             "#7fbc41"
            ],
            [
             0.9,
             "#4d9221"
            ],
            [
             1,
             "#276419"
            ]
           ],
           "sequential": [
            [
             0,
             "#0d0887"
            ],
            [
             0.1111111111111111,
             "#46039f"
            ],
            [
             0.2222222222222222,
             "#7201a8"
            ],
            [
             0.3333333333333333,
             "#9c179e"
            ],
            [
             0.4444444444444444,
             "#bd3786"
            ],
            [
             0.5555555555555556,
             "#d8576b"
            ],
            [
             0.6666666666666666,
             "#ed7953"
            ],
            [
             0.7777777777777778,
             "#fb9f3a"
            ],
            [
             0.8888888888888888,
             "#fdca26"
            ],
            [
             1,
             "#f0f921"
            ]
           ],
           "sequentialminus": [
            [
             0,
             "#0d0887"
            ],
            [
             0.1111111111111111,
             "#46039f"
            ],
            [
             0.2222222222222222,
             "#7201a8"
            ],
            [
             0.3333333333333333,
             "#9c179e"
            ],
            [
             0.4444444444444444,
             "#bd3786"
            ],
            [
             0.5555555555555556,
             "#d8576b"
            ],
            [
             0.6666666666666666,
             "#ed7953"
            ],
            [
             0.7777777777777778,
             "#fb9f3a"
            ],
            [
             0.8888888888888888,
             "#fdca26"
            ],
            [
             1,
             "#f0f921"
            ]
           ]
          },
          "colorway": [
           "#636efa",
           "#EF553B",
           "#00cc96",
           "#ab63fa",
           "#FFA15A",
           "#19d3f3",
           "#FF6692",
           "#B6E880",
           "#FF97FF",
           "#FECB52"
          ],
          "font": {
           "color": "#2a3f5f"
          },
          "geo": {
           "bgcolor": "white",
           "lakecolor": "white",
           "landcolor": "#E5ECF6",
           "showlakes": true,
           "showland": true,
           "subunitcolor": "white"
          },
          "hoverlabel": {
           "align": "left"
          },
          "hovermode": "closest",
          "mapbox": {
           "style": "light"
          },
          "paper_bgcolor": "white",
          "plot_bgcolor": "#E5ECF6",
          "polar": {
           "angularaxis": {
            "gridcolor": "white",
            "linecolor": "white",
            "ticks": ""
           },
           "bgcolor": "#E5ECF6",
           "radialaxis": {
            "gridcolor": "white",
            "linecolor": "white",
            "ticks": ""
           }
          },
          "scene": {
           "xaxis": {
            "backgroundcolor": "#E5ECF6",
            "gridcolor": "white",
            "gridwidth": 2,
            "linecolor": "white",
            "showbackground": true,
            "ticks": "",
            "zerolinecolor": "white"
           },
           "yaxis": {
            "backgroundcolor": "#E5ECF6",
            "gridcolor": "white",
            "gridwidth": 2,
            "linecolor": "white",
            "showbackground": true,
            "ticks": "",
            "zerolinecolor": "white"
           },
           "zaxis": {
            "backgroundcolor": "#E5ECF6",
            "gridcolor": "white",
            "gridwidth": 2,
            "linecolor": "white",
            "showbackground": true,
            "ticks": "",
            "zerolinecolor": "white"
           }
          },
          "shapedefaults": {
           "line": {
            "color": "#2a3f5f"
           }
          },
          "ternary": {
           "aaxis": {
            "gridcolor": "white",
            "linecolor": "white",
            "ticks": ""
           },
           "baxis": {
            "gridcolor": "white",
            "linecolor": "white",
            "ticks": ""
           },
           "bgcolor": "#E5ECF6",
           "caxis": {
            "gridcolor": "white",
            "linecolor": "white",
            "ticks": ""
           }
          },
          "title": {
           "x": 0.05
          },
          "xaxis": {
           "automargin": true,
           "gridcolor": "white",
           "linecolor": "white",
           "ticks": "",
           "title": {
            "standoff": 15
           },
           "zerolinecolor": "white",
           "zerolinewidth": 2
          },
          "yaxis": {
           "automargin": true,
           "gridcolor": "white",
           "linecolor": "white",
           "ticks": "",
           "title": {
            "standoff": 15
           },
           "zerolinecolor": "white",
           "zerolinewidth": 2
          }
         }
        },
        "title": {
         "text": "Brick Entities in Building Model Recognised by Brick Schema"
        }
       }
      }
     },
     "metadata": {},
     "output_type": "display_data"
    }
   ],
   "source": [
    "fig = make_subplots(\n",
    "    rows=2, cols=1,\n",
    "    # shared_xaxes=True,\n",
    "    vertical_spacing=0.03,\n",
    "    specs=[[{\"type\": \"pie\"}],\n",
    "           [{\"type\": \"table\"}]]\n",
    ")\n",
    "\n",
    "labels = to_plot['class_in_provided_brick'].value_counts().index\n",
    "values = to_plot['class_in_provided_brick'].value_counts().values\n",
    "\n",
    "fig.add_trace(\n",
    "    go.Pie(#to_plot, \n",
    "        #    values='brick_class', \n",
    "            labels=labels,\n",
    "              values=values,\n",
    "              textposition='inside', \n",
    "              textinfo='percent+label',\n",
    "              name=\"\",\n",
    "        #    names='class_in_provided_brick',\n",
    "        #    title='Proportion of Brick Entities Recognised by Provided Brick Schema',\n",
    "        #    labels={'class_in_provided_brick': 'Class', 'brick_class':'Number of Entities'}\n",
    "    ),\n",
    "    row=1, col=1\n",
    ")\n",
    "\n",
    "fig.add_trace(\n",
    "    go.Table(\n",
    "        header=dict(\n",
    "            values=[\"Brick Class\", \"Entity ID\", \"Class Recognised\"],\n",
    "            font=dict(size=10),\n",
    "            align=\"left\"\n",
    "        ),\n",
    "        cells=dict(\n",
    "            # values=[entity_in_provided_brick[k].tolist() for k in entity_in_provided_brick.columns[1:]],\n",
    "            values=[entity_in_provided_brick[k].tolist() for k in entity_in_provided_brick.columns],\n",
    "            align = \"left\")\n",
    "    ),\n",
    "    row=2, col=1\n",
    ")\n",
    "\n",
    "fig.update_layout(\n",
    "    height=800,\n",
    "    showlegend=False,\n",
    "    title_text=\"Brick Entities in Building Model Recognised by Brick Schema\",\n",
    ")\n",
    "\n",
    "fig.show()\n"
   ]
  },
  {
   "cell_type": "code",
   "execution_count": 783,
   "metadata": {},
   "outputs": [
    {
     "data": {
      "application/vnd.plotly.v1+json": {
       "config": {
        "plotlyServerURL": "https://plot.ly"
       },
       "data": [
        {
         "domain": {
          "x": [
           0,
           1
          ],
          "y": [
           0.6866666666666665,
           0.9999999999999998
          ]
         },
         "labels": [
          "Recognised",
          "Unrecognised"
         ],
         "name": "",
         "textinfo": "percent+label",
         "textposition": "inside",
         "type": "pie",
         "values": [
          1060,
          55
         ]
        },
        {
         "cells": {
          "align": "left",
          "values": [
           [
            "Air_Handler_Unit",
            "Air_Handler_Unit",
            "Air_Handler_Unit",
            "Air_Handler_Unit",
            "Air_Handler_Unit",
            "Air_Temperature_Sensor",
            "Air_Temperature_Sensor",
            "Air_Temperature_Sensor",
            "Air_Temperature_Sensor",
            "Air_Temperature_Sensor",
            "Air_Temperature_Sensor",
            "Air_Temperature_Sensor",
            "Air_Temperature_Sensor",
            "Air_Temperature_Sensor",
            "Air_Temperature_Sensor",
            "Air_Temperature_Sensor",
            "Air_Temperature_Sensor",
            "Air_Temperature_Sensor",
            "Air_Temperature_Sensor",
            "Air_Temperature_Sensor",
            "Air_Temperature_Sensor",
            "Air_Temperature_Sensor",
            "Air_Temperature_Sensor",
            "Air_Temperature_Sensor",
            "Air_Temperature_Sensor",
            "Air_Temperature_Sensor",
            "Air_Temperature_Sensor",
            "Air_Temperature_Sensor",
            "Air_Temperature_Sensor",
            "Air_Temperature_Sensor",
            "Air_Temperature_Sensor",
            "Air_Temperature_Sensor",
            "Air_Temperature_Sensor",
            "Air_Temperature_Sensor",
            "Air_Temperature_Sensor",
            "Air_Temperature_Sensor",
            "Air_Temperature_Sensor",
            "Air_Temperature_Sensor",
            "Air_Temperature_Sensor",
            "Air_Temperature_Sensor",
            "Air_Temperature_Sensor",
            "Air_Temperature_Sensor",
            "Air_Temperature_Sensor",
            "Air_Temperature_Sensor",
            "Air_Temperature_Sensor",
            "Air_Temperature_Sensor",
            "Air_Temperature_Sensor",
            "Air_Temperature_Sensor",
            "Air_Temperature_Sensor",
            "Alarm",
            "Alarm",
            "Angle_Sensor",
            "Angle_Sensor",
            "Angle_Sensor",
            "Average_Zone_Air_Temperature_Sensor",
            "Average_Zone_Air_Temperature_Sensor",
            "Basement",
            "Boiler",
            "Breakroom",
            "Building",
            "Building_Electrical_Meter",
            "Building_Gas_Meter",
            "Building_Water_Meter",
            "Chilled_Water_Differential_Temperature_Sensor",
            "Chilled_Water_Pump",
            "Chilled_Water_System",
            "Chiller",
            "Conference_Room",
            "Conference_Room",
            "Conference_Room",
            "Conference_Room",
            "Conference_Room",
            "Conference_Room",
            "Conference_Room",
            "Conference_Room",
            "Conference_Room",
            "Conference_Room",
            "Conference_Room",
            "Cooling_Coil",
            "Cooling_Coil",
            "Cooling_Coil",
            "Cooling_Coil",
            "Cooling_Coil",
            "Cooling_Coil",
            "Cooling_Coil",
            "Cooling_Coil",
            "Cooling_Coil",
            "Cooling_Coil",
            "Cooling_Coil",
            "Cooling_Coil",
            "Cooling_Coil",
            "Cooling_Coil",
            "Cooling_Coil",
            "Cooling_Coil",
            "Cooling_Coil",
            "Cooling_Coil",
            "Cooling_Command",
            "Cooling_Command",
            "Cooling_Command",
            "Cooling_Command",
            "Cooling_Command",
            "Cooling_Command",
            "Cooling_Demand_Sensor",
            "Cooling_Demand_Setpoint",
            "Cooling_Temperature_Setpoint",
            "Cooling_Temperature_Setpoint",
            "Cooling_Temperature_Setpoint",
            "Cooling_Temperature_Setpoint",
            "Cooling_Temperature_Setpoint",
            "Cooling_Temperature_Setpoint",
            "Cooling_Temperature_Setpoint",
            "Cooling_Temperature_Setpoint",
            "Cooling_Temperature_Setpoint",
            "Cooling_Temperature_Setpoint",
            "Cooling_Temperature_Setpoint",
            "Cooling_Temperature_Setpoint",
            "Cooling_Temperature_Setpoint",
            "Cooling_Temperature_Setpoint",
            "Cooling_Temperature_Setpoint",
            "Cooling_Temperature_Setpoint",
            "Cooling_Temperature_Setpoint",
            "Cooling_Temperature_Setpoint",
            "Cooling_Valve",
            "Cooling_Valve",
            "Cooling_Valve",
            "Cooling_Valve",
            "Cooling_Valve",
            "Cooling_Valve",
            "Cooling_Valve",
            "Cooling_Valve",
            "Cooling_Valve",
            "Cooling_Valve",
            "Cooling_Valve",
            "Cooling_Valve",
            "Cooling_Valve",
            "Cooling_Valve",
            "Cooling_Valve",
            "Cooling_Valve",
            "Cooling_Valve",
            "Cooling_Valve",
            "Copy_Room",
            "Current_Sensor",
            "Current_Sensor",
            "Current_Sensor",
            "Current_Sensor",
            "Current_Sensor",
            "Current_Sensor",
            "Current_Sensor",
            "Current_Sensor",
            "Current_Sensor",
            "Current_Sensor",
            "Current_Sensor",
            "Current_Sensor",
            "Current_Sensor",
            "Current_Sensor",
            "Current_Sensor",
            "Current_Sensor",
            "Current_Sensor",
            "Current_Sensor",
            "Current_Sensor",
            "Current_Sensor",
            "Current_Sensor",
            "Current_Sensor",
            "Current_Sensor",
            "Damper_Position_Sensor",
            "Damper_Position_Sensor",
            "Damper_Position_Sensor",
            "Damper_Position_Sensor",
            "Damper_Position_Sensor",
            "Damper_Position_Sensor",
            "Damper_Position_Sensor",
            "Damper_Position_Sensor",
            "Damper_Position_Sensor",
            "Damper_Position_Sensor",
            "Differential_Pressure_Sensor",
            "Differential_Pressure_Sensor",
            "Differential_Pressure_Setpoint",
            "Differential_Pressure_Setpoint",
            "Differential_Pressure_Setpoint",
            "Differential_Pressure_Setpoint",
            "Differential_Pressure_Setpoint",
            "Differential_Pressure_Setpoint",
            "Differential_Pressure_Setpoint",
            "Differential_Pressure_Setpoint",
            "Differential_Pressure_Setpoint",
            "Differential_Pressure_Setpoint",
            "Discharge_Air_Temperature_Sensor",
            "Discharge_Air_Temperature_Sensor",
            "Discharge_Air_Temperature_Sensor",
            "Discharge_Air_Temperature_Sensor",
            "Discharge_Air_Temperature_Sensor",
            "Discharge_Air_Temperature_Sensor",
            "Discharge_Air_Temperature_Sensor",
            "Discharge_Air_Temperature_Sensor",
            "Discharge_Air_Temperature_Sensor",
            "Discharge_Air_Temperature_Sensor",
            "Discharge_Water_Temperature_Sensor",
            "Discharge_Water_Temperature_Sensor",
            "Domestic_Hot_Water_System",
            "Electrical_Meter",
            "Electrical_Meter",
            "Electrical_Meter",
            "Electrical_Meter",
            "Electrical_Meter",
            "Electrical_Power_Sensor",
            "Electrical_Power_Sensor",
            "Electrical_Power_Sensor",
            "Electrical_Power_Sensor",
            "Electrical_Power_Sensor",
            "Electrical_Power_Sensor",
            "Electrical_Power_Sensor",
            "Electrical_Power_Sensor",
            "Electrical_Power_Sensor",
            "Electrical_Power_Sensor",
            "Electrical_Power_Sensor",
            "Electrical_Power_Sensor",
            "Electrical_Power_Sensor",
            "Electrical_Power_Sensor",
            "Electrical_Power_Sensor",
            "Electrical_Power_Sensor",
            "Electrical_Power_Sensor",
            "Electrical_Power_Sensor",
            "Electrical_Power_Sensor",
            "Electrical_Power_Sensor",
            "Electrical_Power_Sensor",
            "Electrical_Power_Sensor",
            "Electrical_Power_Sensor",
            "Electrical_Power_Sensor",
            "Electrical_Power_Sensor",
            "Electrical_Power_Sensor",
            "Electrical_Power_Sensor",
            "Electrical_Power_Sensor",
            "Electrical_Power_Sensor",
            "Electrical_Power_Sensor",
            "Electrical_Power_Sensor",
            "Electrical_Power_Sensor",
            "Electrical_Power_Sensor",
            "Electrical_Power_Sensor",
            "Electrical_Power_Sensor",
            "Electrical_Power_Sensor",
            "Electrical_Power_Sensor",
            "Electrical_Power_Sensor",
            "Electrical_Power_Sensor",
            "Elevator",
            "Emergency_Alarm",
            "Emergency_Alarm",
            "Emergency_Alarm",
            "Enable_Status",
            "Enable_Status",
            "Enable_Status",
            "Enable_Status",
            "Enable_Status",
            "Enable_Status",
            "Enable_Status",
            "Enable_Status",
            "Enable_Status",
            "Enable_Status",
            "Enable_Status",
            "Enable_Status",
            "Enable_Status",
            "Enable_Status",
            "Enable_Status",
            "Enable_Status",
            "Enable_Status",
            "Enable_Status",
            "Enable_Status",
            "Enable_Status",
            "Enable_Status",
            "Enable_Status",
            "Enable_Status",
            "Enable_Status",
            "Enable_Status",
            "Enable_Status",
            "Enable_Status",
            "Enable_Status",
            "Enable_Status",
            "Enable_Status",
            "Enable_Status",
            "Enable_Status",
            "Enable_Status",
            "Enable_Status",
            "Enable_Status",
            "Enable_Status",
            "Enable_Status",
            "Enable_Status",
            "Enable_Status",
            "Enable_Status",
            "Enable_Status",
            "Enable_Status",
            "Enable_Status",
            "Enable_Status",
            "Exhaust_Fan",
            "Exhaust_Fan",
            "Exhaust_Fan",
            "Exhaust_Fan",
            "Exhaust_Fan",
            "Fan_Coil_Unit",
            "Fan_Coil_Unit",
            "Fan_Coil_Unit",
            "Fan_Coil_Unit",
            "Fan_Coil_Unit",
            "Fan_Coil_Unit",
            "Fan_Coil_Unit",
            "Fan_Coil_Unit",
            "Fan_Coil_Unit",
            "Fan_Coil_Unit",
            "Fan_Coil_Unit",
            "Fan_Coil_Unit",
            "Fan_Coil_Unit",
            "Fault_Status",
            "Fault_Status",
            "Filter",
            "Filter",
            "Filter",
            "Filter",
            "Filter",
            "Filter",
            "Filter",
            "Filter",
            "Filter",
            "Filter",
            "Filter_Differential_Pressure_Sensor",
            "Filter_Differential_Pressure_Sensor",
            "Filter_Differential_Pressure_Sensor",
            "Filter_Differential_Pressure_Sensor",
            "Filter_Differential_Pressure_Sensor",
            "Filter_Differential_Pressure_Sensor",
            "Filter_Differential_Pressure_Sensor",
            "Filter_Differential_Pressure_Sensor",
            "Filter_Differential_Pressure_Sensor",
            "Filter_Differential_Pressure_Sensor",
            "Fire_Control_Panel",
            "Floor",
            "Floor",
            "Fresh_Air_Fan",
            "Fresh_Air_Fan",
            "Fresh_Air_Fan",
            "Fresh_Air_Fan",
            "Gas_Meter",
            "HVAC_Zone",
            "HVAC_Zone",
            "HVAC_Zone",
            "HVAC_Zone",
            "HVAC_Zone",
            "HVAC_Zone",
            "HVAC_Zone",
            "HVAC_Zone",
            "HVAC_Zone",
            "HVAC_Zone",
            "HVAC_Zone",
            "HVAC_Zone",
            "HVAC_Zone",
            "HVAC_Zone",
            "HVAC_Zone",
            "HVAC_Zone",
            "HVAC_Zone",
            "HVAC_Zone",
            "Hallway",
            "Hallway",
            "Hallway",
            "Hallway",
            "Hallway",
            "Hallway",
            "Hallway",
            "Hallway",
            "Hallway",
            "Hallway",
            "Hallway",
            "Heating_Coil",
            "Heating_Coil",
            "Heating_Coil",
            "Heating_Coil",
            "Heating_Coil",
            "Heating_Coil",
            "Heating_Coil",
            "Heating_Coil",
            "Heating_Coil",
            "Heating_Coil",
            "Heating_Coil",
            "Heating_Coil",
            "Heating_Coil",
            "Heating_Coil",
            "Heating_Coil",
            "Heating_Coil",
            "Heating_Coil",
            "Heating_Coil",
            "Heating_Command",
            "Heating_Command",
            "Heating_Command",
            "Heating_Command",
            "Heating_Command",
            "Heating_Demand_Sensor",
            "Heating_Demand_Setpoint",
            "Heating_Temperature_Setpoint",
            "Heating_Temperature_Setpoint",
            "Heating_Temperature_Setpoint",
            "Heating_Temperature_Setpoint",
            "Heating_Temperature_Setpoint",
            "Heating_Temperature_Setpoint",
            "Heating_Temperature_Setpoint",
            "Heating_Temperature_Setpoint",
            "Heating_Temperature_Setpoint",
            "Heating_Temperature_Setpoint",
            "Heating_Temperature_Setpoint",
            "Heating_Temperature_Setpoint",
            "Heating_Temperature_Setpoint",
            "Heating_Temperature_Setpoint",
            "Heating_Temperature_Setpoint",
            "Heating_Temperature_Setpoint",
            "Heating_Temperature_Setpoint",
            "Heating_Temperature_Setpoint",
            "Heating_Valve",
            "Heating_Valve",
            "Heating_Valve",
            "Heating_Valve",
            "Heating_Valve",
            "Heating_Valve",
            "Heating_Valve",
            "Heating_Valve",
            "Heating_Valve",
            "Heating_Valve",
            "Heating_Valve",
            "Heating_Valve",
            "Heating_Valve",
            "Heating_Valve",
            "Heating_Valve",
            "Heating_Valve",
            "Heating_Valve",
            "Heating_Valve",
            "Hot_Water_Pump",
            "Hot_Water_System",
            "Janitor_Room",
            "Library",
            "Lobby",
            "Lobby",
            "Lobby",
            "Low_Outside_Air_Temperature_Enable_Setpoint",
            "Low_Outside_Air_Temperature_Enable_Setpoint",
            "Low_Outside_Air_Temperature_Enable_Setpoint",
            "Low_Outside_Air_Temperature_Enable_Setpoint",
            "Low_Outside_Air_Temperature_Enable_Setpoint",
            "Max_Discharge_Air_Temperature_Setpoint_Limit",
            "Max_Discharge_Air_Temperature_Setpoint_Limit",
            "Max_Discharge_Air_Temperature_Setpoint_Limit",
            "Max_Discharge_Air_Temperature_Setpoint_Limit",
            "Max_Discharge_Air_Temperature_Setpoint_Limit",
            "Max_Discharge_Air_Temperature_Setpoint_Limit",
            "Max_Discharge_Air_Temperature_Setpoint_Limit",
            "Max_Discharge_Air_Temperature_Setpoint_Limit",
            "Max_Discharge_Air_Temperature_Setpoint_Limit",
            "Max_Discharge_Air_Temperature_Setpoint_Limit",
            "Max_Temperature_Setpoint_Limit",
            "Max_Temperature_Setpoint_Limit",
            "Max_Temperature_Setpoint_Limit",
            "Max_Temperature_Setpoint_Limit",
            "Max_Temperature_Setpoint_Limit",
            "Max_Temperature_Setpoint_Limit",
            "Max_Temperature_Setpoint_Limit",
            "Max_Temperature_Setpoint_Limit",
            "Max_Temperature_Setpoint_Limit",
            "Max_Temperature_Setpoint_Limit",
            "Max_Temperature_Setpoint_Limit",
            "Max_Temperature_Setpoint_Limit",
            "Max_Temperature_Setpoint_Limit",
            "Max_Temperature_Setpoint_Limit",
            "Max_Temperature_Setpoint_Limit",
            "Max_Temperature_Setpoint_Limit",
            "Max_Temperature_Setpoint_Limit",
            "Max_Temperature_Setpoint_Limit",
            "Max_Temperature_Setpoint_Limit",
            "Max_Temperature_Setpoint_Limit",
            "Max_Temperature_Setpoint_Limit",
            "Max_Temperature_Setpoint_Limit",
            "Max_Temperature_Setpoint_Limit",
            "Max_Temperature_Setpoint_Limit",
            "Max_Temperature_Setpoint_Limit",
            "Max_Temperature_Setpoint_Limit",
            "Max_Temperature_Setpoint_Limit",
            "Max_Temperature_Setpoint_Limit",
            "Max_Temperature_Setpoint_Limit",
            "Max_Temperature_Setpoint_Limit",
            "Max_Temperature_Setpoint_Limit",
            "Max_Temperature_Setpoint_Limit",
            "Max_Temperature_Setpoint_Limit",
            "Max_Temperature_Setpoint_Limit",
            "Max_Temperature_Setpoint_Limit",
            "Max_Temperature_Setpoint_Limit",
            "Max_Temperature_Setpoint_Limit",
            "Max_Temperature_Setpoint_Limit",
            "Max_Temperature_Setpoint_Limit",
            "Max_Temperature_Setpoint_Limit",
            "Max_Temperature_Setpoint_Limit",
            "Max_Temperature_Setpoint_Limit",
            "Max_Temperature_Setpoint_Limit",
            "Max_Temperature_Setpoint_Limit",
            "Max_Temperature_Setpoint_Limit",
            "Max_Temperature_Setpoint_Limit",
            "Max_Temperature_Setpoint_Limit",
            "Max_Temperature_Setpoint_Limit",
            "Max_Temperature_Setpoint_Limit",
            "Max_Temperature_Setpoint_Limit",
            "Max_Temperature_Setpoint_Limit",
            "Max_Temperature_Setpoint_Limit",
            "Max_Temperature_Setpoint_Limit",
            "Max_Temperature_Setpoint_Limit",
            "Min_Discharge_Air_Temperature_Setpoint_Limit",
            "Min_Discharge_Air_Temperature_Setpoint_Limit",
            "Min_Discharge_Air_Temperature_Setpoint_Limit",
            "Min_Discharge_Air_Temperature_Setpoint_Limit",
            "Min_Discharge_Air_Temperature_Setpoint_Limit",
            "Min_Discharge_Air_Temperature_Setpoint_Limit",
            "Min_Discharge_Air_Temperature_Setpoint_Limit",
            "Min_Discharge_Air_Temperature_Setpoint_Limit",
            "Min_Discharge_Air_Temperature_Setpoint_Limit",
            "Min_Discharge_Air_Temperature_Setpoint_Limit",
            "Min_Position_Setpoint_Limit",
            "Min_Position_Setpoint_Limit",
            "Min_Position_Setpoint_Limit",
            "Min_Position_Setpoint_Limit",
            "Min_Position_Setpoint_Limit",
            "Min_Temperature_Setpoint_Limit",
            "Min_Temperature_Setpoint_Limit",
            "Min_Temperature_Setpoint_Limit",
            "Min_Temperature_Setpoint_Limit",
            "Min_Temperature_Setpoint_Limit",
            "Min_Temperature_Setpoint_Limit",
            "Min_Temperature_Setpoint_Limit",
            "Min_Temperature_Setpoint_Limit",
            "Min_Temperature_Setpoint_Limit",
            "Min_Temperature_Setpoint_Limit",
            "Min_Temperature_Setpoint_Limit",
            "Min_Temperature_Setpoint_Limit",
            "Min_Temperature_Setpoint_Limit",
            "Min_Temperature_Setpoint_Limit",
            "Min_Temperature_Setpoint_Limit",
            "Min_Temperature_Setpoint_Limit",
            "Min_Temperature_Setpoint_Limit",
            "Min_Temperature_Setpoint_Limit",
            "Min_Temperature_Setpoint_Limit",
            "Min_Temperature_Setpoint_Limit",
            "Min_Temperature_Setpoint_Limit",
            "Min_Temperature_Setpoint_Limit",
            "Min_Temperature_Setpoint_Limit",
            "Min_Temperature_Setpoint_Limit",
            "Min_Temperature_Setpoint_Limit",
            "Min_Temperature_Setpoint_Limit",
            "Min_Temperature_Setpoint_Limit",
            "Min_Temperature_Setpoint_Limit",
            "Min_Temperature_Setpoint_Limit",
            "Min_Temperature_Setpoint_Limit",
            "Min_Temperature_Setpoint_Limit",
            "Min_Temperature_Setpoint_Limit",
            "Min_Temperature_Setpoint_Limit",
            "Min_Temperature_Setpoint_Limit",
            "Min_Temperature_Setpoint_Limit",
            "Min_Temperature_Setpoint_Limit",
            "Min_Temperature_Setpoint_Limit",
            "Min_Temperature_Setpoint_Limit",
            "Min_Temperature_Setpoint_Limit",
            "Min_Temperature_Setpoint_Limit",
            "Min_Temperature_Setpoint_Limit",
            "Min_Temperature_Setpoint_Limit",
            "Min_Temperature_Setpoint_Limit",
            "Min_Temperature_Setpoint_Limit",
            "Min_Temperature_Setpoint_Limit",
            "Min_Temperature_Setpoint_Limit",
            "Min_Temperature_Setpoint_Limit",
            "Min_Temperature_Setpoint_Limit",
            "Min_Temperature_Setpoint_Limit",
            "Min_Temperature_Setpoint_Limit",
            "Min_Temperature_Setpoint_Limit",
            "Min_Temperature_Setpoint_Limit",
            "Min_Temperature_Setpoint_Limit",
            "Min_Temperature_Setpoint_Limit",
            "Mode_Command",
            "Mode_Command",
            "Mode_Command",
            "Mode_Command",
            "Mode_Command",
            "Mode_Command",
            "Mode_Command",
            "Mode_Command",
            "Mode_Command",
            "Mode_Command",
            "Mode_Command",
            "Mode_Command",
            "Mode_Command",
            "Mode_Command",
            "Mode_Command",
            "Mode_Command",
            "Mode_Command",
            "Mode_Command",
            "Mode_Command",
            "Mode_Command",
            "Mode_Command",
            "Mode_Command",
            "Mode_Command",
            "Mode_Command",
            "Mode_Command",
            "Mode_Command",
            "Mode_Command",
            "Mode_Command",
            "Mode_Command",
            "Mode_Command",
            "Mode_Command",
            "Mode_Command",
            "Mode_Command",
            "Mode_Command",
            "Mode_Command",
            "Mode_Command",
            "Mode_Command",
            "Mode_Command",
            "Mode_Command",
            "Mode_Command",
            "Mode_Command",
            "Mode_Command",
            "Mode_Command",
            "Mode_Command",
            "Mode_Command",
            "Mode_Command",
            "Mode_Command",
            "Mode_Command",
            "Mode_Command",
            "Mode_Command",
            "Mode_Command",
            "Mode_Command",
            "Mode_Status",
            "Mode_Status",
            "Mode_Status",
            "Mode_Status",
            "Mode_Status",
            "Mode_Status",
            "Mode_Status",
            "Mode_Status",
            "Mode_Status",
            "Mode_Status",
            "Mode_Status",
            "Operating_Mode_Status",
            "Operating_Mode_Status",
            "Operating_Mode_Status",
            "Operating_Mode_Status",
            "Operating_Mode_Status",
            "Operating_Mode_Status",
            "Operating_Mode_Status",
            "Operating_Mode_Status",
            "Operating_Mode_Status",
            "Operating_Mode_Status",
            "Operating_Mode_Status",
            "Operating_Mode_Status",
            "Operating_Mode_Status",
            "Operating_Mode_Status",
            "Operating_Mode_Status",
            "Operating_Mode_Status",
            "Operating_Mode_Status",
            "Operating_Mode_Status",
            "Operating_Mode_Status",
            "Operating_Mode_Status",
            "Outside_Air_Humidity_Sensor",
            "Outside_Air_Lockout_Temperature_Setpoint",
            "Outside_Air_Lockout_Temperature_Setpoint",
            "Outside_Air_Lockout_Temperature_Setpoint",
            "Outside_Air_Lockout_Temperature_Setpoint",
            "Outside_Air_Lockout_Temperature_Setpoint",
            "Outside_Air_Temperature_Sensor",
            "Outside_Air_Temperature_Sensor",
            "Outside_Air_Temperature_Sensor",
            "Outside_Air_Temperature_Sensor",
            "Outside_Air_Temperature_Sensor",
            "Outside_Air_Temperature_Sensor",
            "Outside_Air_Temperature_Setpoint",
            "Outside_Air_Temperature_Setpoint",
            "Outside_Damper",
            "Outside_Damper",
            "Outside_Damper",
            "Outside_Damper",
            "Outside_Damper",
            "PV_Array",
            "Point",
            "Point",
            "Point",
            "Point",
            "Point",
            "Point",
            "Point",
            "Point",
            "Point",
            "Point",
            "Point",
            "Point",
            "Point",
            "Point",
            "Point",
            "Point",
            "Point",
            "Point",
            "Point",
            "Point",
            "Point",
            "Point",
            "Point",
            "Point",
            "Point",
            "Point",
            "Point",
            "Point",
            "Point",
            "Point",
            "Point",
            "Point",
            "Point",
            "Point",
            "Point",
            "Point",
            "Point",
            "Point",
            "Point",
            "Point",
            "Point",
            "Point",
            "Point",
            "Point",
            "Point",
            "Point",
            "Point",
            "Point",
            "Point",
            "Point",
            "Point",
            "Point",
            "Point",
            "Point",
            "Point",
            "Point",
            "Point",
            "Point",
            "Point",
            "Point",
            "Point",
            "Point",
            "Point",
            "Point",
            "Point",
            "Point",
            "Point",
            "Point",
            "Point",
            "Point",
            "Point",
            "Point",
            "Point",
            "Point",
            "Point",
            "Point",
            "Point",
            "Point",
            "Point",
            "Point",
            "Point",
            "Point",
            "Point",
            "Point",
            "Point",
            "Point",
            "Point",
            "Point",
            "Point",
            "Point",
            "Point",
            "Point",
            "Point",
            "Point",
            "Point",
            "Point",
            "Point",
            "Point",
            "Point",
            "Point",
            "Point",
            "Point",
            "Point",
            "Point",
            "Point",
            "Position_Sensor",
            "Position_Sensor",
            "Position_Sensor",
            "Position_Sensor",
            "Position_Sensor",
            "Position_Sensor",
            "Position_Sensor",
            "Position_Sensor",
            "Position_Sensor",
            "Position_Sensor",
            "Position_Sensor",
            "Position_Sensor",
            "Position_Sensor",
            "Position_Sensor",
            "Position_Sensor",
            "Position_Sensor",
            "Position_Sensor",
            "Position_Sensor",
            "Position_Sensor",
            "Position_Sensor",
            "Position_Sensor",
            "Position_Sensor",
            "Position_Sensor",
            "Position_Sensor",
            "Position_Sensor",
            "Position_Sensor",
            "Position_Sensor",
            "Position_Sensor",
            "Position_Sensor",
            "Position_Sensor",
            "Position_Sensor",
            "Position_Sensor",
            "Position_Sensor",
            "Position_Sensor",
            "Position_Sensor",
            "Position_Sensor",
            "Proportional_Gain_Parameter",
            "Proportional_Gain_Parameter",
            "Proportional_Gain_Parameter",
            "Proportional_Gain_Parameter",
            "Proportional_Gain_Parameter",
            "Proportional_Gain_Parameter",
            "Proportional_Gain_Parameter",
            "Proportional_Gain_Parameter",
            "Proportional_Gain_Parameter",
            "Proportional_Gain_Parameter",
            "Proportional_Gain_Parameter",
            "Proportional_Gain_Parameter",
            "Proportional_Gain_Parameter",
            "Proportional_Gain_Parameter",
            "Proportional_Gain_Parameter",
            "Proportional_Gain_Parameter",
            "Proportional_Gain_Parameter",
            "Proportional_Gain_Parameter",
            "Reset_Command",
            "Reset_Command",
            "Reset_Command",
            "Reset_Command",
            "Reset_Command",
            "Reset_Command",
            "Reset_Command",
            "Reset_Command",
            "Reset_Command",
            "Reset_Command",
            "Reset_Command",
            "Reset_Command",
            "Reset_Command",
            "Reset_Command",
            "Reset_Command",
            "Reset_Command",
            "Reset_Setpoint",
            "Restroom",
            "Restroom",
            "Restroom",
            "Restroom",
            "Restroom",
            "Restroom",
            "Restroom",
            "Restroom",
            "Restroom",
            "Restroom",
            "Return_Damper",
            "Return_Damper",
            "Return_Damper",
            "Return_Damper",
            "Return_Damper",
            "Return_Damper",
            "Return_Damper",
            "Return_Damper",
            "Return_Damper",
            "Return_Damper",
            "Return_Water_Temperature_Sensor",
            "Return_Water_Temperature_Sensor",
            "Room",
            "Room_Air_Temperature_Setpoint",
            "Room_Air_Temperature_Setpoint",
            "Room_Air_Temperature_Setpoint",
            "Room_Air_Temperature_Setpoint",
            "Room_Air_Temperature_Setpoint",
            "Room_Air_Temperature_Setpoint",
            "Room_Air_Temperature_Setpoint",
            "Room_Air_Temperature_Setpoint",
            "Room_Air_Temperature_Setpoint",
            "Room_Air_Temperature_Setpoint",
            "Room_Air_Temperature_Setpoint",
            "Room_Air_Temperature_Setpoint",
            "Room_Air_Temperature_Setpoint",
            "Room_Air_Temperature_Setpoint",
            "Room_Air_Temperature_Setpoint",
            "Room_Air_Temperature_Setpoint",
            "Room_Air_Temperature_Setpoint",
            "Room_Air_Temperature_Setpoint",
            "Room_Air_Temperature_Setpoint",
            "Room_Air_Temperature_Setpoint",
            "Server_Room",
            "Server_Room",
            "Service_Room",
            "Stages_Status",
            "Stages_Status",
            "Storage_Room",
            "Storage_Room",
            "Supply_Fan",
            "Supply_Fan",
            "Supply_Fan",
            "Supply_Fan",
            "Supply_Fan",
            "Supply_Fan",
            "Supply_Fan",
            "Supply_Fan",
            "Supply_Fan",
            "Supply_Fan",
            "Supply_Fan",
            "Supply_Fan",
            "Supply_Fan",
            "Supply_Fan",
            "Supply_Fan",
            "Supply_Fan",
            "Supply_Fan",
            "Supply_Fan",
            "System",
            "System_Enable_Command",
            "System_Enable_Command",
            "System_Enable_Command",
            "System_Enable_Command",
            "System_Enable_Command",
            "System_Enable_Command",
            "System_Enable_Command",
            "System_Enable_Command",
            "System_Enable_Command",
            "System_Enable_Command",
            "System_Enable_Command",
            "System_Enable_Command",
            "System_Enable_Command",
            "System_Enable_Command",
            "System_Enable_Command",
            "System_Enable_Command",
            "System_Enable_Command",
            "System_Enable_Command",
            "System_Status",
            "System_Status",
            "System_Status",
            "System_Status",
            "System_Status",
            "System_Status",
            "System_Status",
            "System_Status",
            "System_Status",
            "System_Status",
            "System_Status",
            "System_Status",
            "System_Status",
            "System_Status",
            "System_Status",
            "System_Status",
            "System_Status",
            "System_Status",
            "System_Status",
            "System_Status",
            "System_Status",
            "System_Status",
            "System_Status",
            "System_Status",
            "System_Status",
            "System_Status",
            "System_Status",
            "System_Status",
            "System_Status",
            "System_Status",
            "System_Status",
            "Temperature_Parameter",
            "Temperature_Parameter",
            "Temperature_Parameter",
            "Temperature_Parameter",
            "Temperature_Parameter",
            "Temperature_Parameter",
            "Temperature_Parameter",
            "Temperature_Parameter",
            "Temperature_Parameter",
            "Temperature_Parameter",
            "Temperature_Parameter",
            "Temperature_Parameter",
            "Temperature_Parameter",
            "Temperature_Parameter",
            "Temperature_Parameter",
            "Temperature_Parameter",
            "Temperature_Parameter",
            "Temperature_Parameter",
            "Temperature_Setpoint",
            "Temperature_Setpoint",
            "Temperature_Setpoint",
            "Temperature_Setpoint",
            "Temperature_Setpoint",
            "Temperature_Setpoint",
            "Temperature_Setpoint",
            "Temperature_Setpoint",
            "Temperature_Setpoint",
            "Temperature_Setpoint",
            "Temperature_Setpoint",
            "Temperature_Setpoint",
            "Temperature_Setpoint",
            "Temperature_Setpoint",
            "Temperature_Setpoint",
            "Temperature_Setpoint",
            "Temperature_Setpoint",
            "Temperature_Setpoint",
            "Thermal_Power_Sensor",
            "Usage_Sensor",
            "Usage_Sensor",
            "Usage_Sensor",
            "Usage_Sensor",
            "Usage_Sensor",
            "Usage_Sensor",
            "Usage_Sensor",
            "Usage_Sensor",
            "Usage_Sensor",
            "Usage_Sensor",
            "Voltage_Sensor",
            "Voltage_Sensor",
            "Voltage_Sensor",
            "Voltage_Sensor",
            "Voltage_Sensor",
            "Voltage_Sensor",
            "Voltage_Sensor",
            "Voltage_Sensor",
            "Voltage_Sensor",
            "Voltage_Sensor",
            "Voltage_Sensor",
            "Voltage_Sensor",
            "Voltage_Sensor",
            "Voltage_Sensor",
            "Voltage_Sensor",
            "Voltage_Sensor",
            "Voltage_Sensor",
            "Voltage_Sensor",
            "Voltage_Sensor",
            "Voltage_Sensor",
            "Voltage_Sensor",
            "Voltage_Sensor",
            "Voltage_Sensor",
            "Voltage_Sensor",
            "Voltage_Sensor",
            "Voltage_Sensor",
            "Voltage_Sensor",
            "Voltage_Sensor",
            "Voltage_Sensor",
            "Voltage_Sensor",
            "Voltage_Sensor",
            "Voltage_Sensor",
            "Voltage_Sensor",
            "Warmest_Zone_Air_Temperature_Sensor",
            "Warmest_Zone_Air_Temperature_Sensor",
            "Water_Distribution",
            "Water_Tank",
            "Water_Temperature_Sensor",
            "Weather_Station",
            "Wind_Speed_Sensor",
            "Wind_Speed_Sensor",
            "Wind_Speed_Sensor"
           ],
           [
            "3abdac1c_4717_445e_8248_0143c701015a",
            "bc3a295e_af26_46d7_9445_63325ab035b8",
            "c10f79c9_744d_40a5_a272_7cde7ca1f5a6",
            "f7c06302_3c06_4331_b7ee_6f01946aa788",
            "fd5601fa_5513_4b0a_b935_9817c84319e6",
            "124295e4_f6a9_4904_baa2_6bb2752d0059.32c2ab64_a7da_4f4e_951f_64ee2fcc7e1b",
            "124295e4_f6a9_4904_baa2_6bb2752d0059.32fa613f_5abb_484a_8236_bd2a811dce27",
            "3062fe14_682d_481f_a98e_b217c45c2337.a6dd463f_8597_40da_b5fe_9f578af9373c",
            "3062fe14_682d_481f_a98e_b217c45c2337.f129b8da_f43e_4881_b28c_e06488e3537a",
            "3abdac1c_4717_445e_8248_0143c701015a.4c12ffce_66c4_4bf2_937c_5182cbd5b4d5",
            "3abdac1c_4717_445e_8248_0143c701015a.5a7fa5e3_062f_4d57_9b2a_dfd97e08e290",
            "3abdac1c_4717_445e_8248_0143c701015a.b272e611_c07f_44d5_9ff5_898b5b3ec515",
            "554f7ba1_7232_4a12_a2b6_0954976ff3b9.8869a237_11bc_44a4_b0c3_4c1689effddd",
            "554f7ba1_7232_4a12_a2b6_0954976ff3b9.f28cfd73_fb7e_453f_b1d1_431faf02b3c4",
            "5953d8e3_565b_4b29_a498_5ef50f9aefbe.4981b90d_70c7_402e_b441_1cfbe47fdd61",
            "5953d8e3_565b_4b29_a498_5ef50f9aefbe.525b3aea_8955_426b_b344_fb2a9b0f622f",
            "793f94f9_73d2_4ed2_8ccb_abf4576c2a84.013f2a1c_ef37_42c1_9c31_d547490e9cce",
            "793f94f9_73d2_4ed2_8ccb_abf4576c2a84.a92d2f05_e8e9_462d_9b97_1ca12190aaba",
            "8dbdff35_af3a_4c69_8963_53bdcb33c775.1fe537de_ff12_4bd4_b4de_de493e2b6bef",
            "8dbdff35_af3a_4c69_8963_53bdcb33c775.c759ad9f_9d6d_45c1_ad1c_377840198f64",
            "8f8996ae_8dd4_4a45_bed9_7757fa6907db.414f28b1_b9e6_46ea_9974_aa967c707211",
            "951d1945_98d0_4329_9025_dce55687f3a4.70ae4609_5637_4ad3_a8f1_619ee5d5df01",
            "951d1945_98d0_4329_9025_dce55687f3a4.abbc8080_9bf6_4e68_8195_bb3ee2d46b5d",
            "a047df87_7c81_4a1c_abc5_99a6eda40f1a.410b1290_1aaf_4489_95a8_7de44bf124c9",
            "a047df87_7c81_4a1c_abc5_99a6eda40f1a.cc60b5aa_ec3a_4161_b08f_bb9ec8617003",
            "bc3a295e_af26_46d7_9445_63325ab035b8.0944e01e_a84a_4fac_bb42_08f6c8c8cd1a",
            "bc3a295e_af26_46d7_9445_63325ab035b8.bcc72fd9_094d_4c92_acff_48a282107211",
            "c10f79c9_744d_40a5_a272_7cde7ca1f5a6.15a55f68_5a9d_4cf6_a73a_67b57b63b704",
            "c10f79c9_744d_40a5_a272_7cde7ca1f5a6.32bacb03_dff9_40b7_8c0b_aacd6babfe53",
            "c10f79c9_744d_40a5_a272_7cde7ca1f5a6.529c74f6_52ef_4cca_b124_e6d53a24e50e",
            "c10f79c9_744d_40a5_a272_7cde7ca1f5a6.a3f240ea_4fc6_40d6_a066_9b09f8bdbd8d",
            "c10f79c9_744d_40a5_a272_7cde7ca1f5a6.c9c2cae2_2355_4e3a_adbe_a553b98ee149",
            "cbb33199_7896_432f_b0f6_ef45a4650723.33cd6582_f1fe_48d5_a30c_5110e9ee79c6",
            "cbb33199_7896_432f_b0f6_ef45a4650723.b49eca2e_979e_4219_a73c_8625ea26ad90",
            "d0b621a6_148d_427d_8aef_b073b11184e1.500c86c1_9fd9_4aff_b398_056040c56e47",
            "d0b621a6_148d_427d_8aef_b073b11184e1.7e358f65_edaf_4cb7_a164_2156e30fe937",
            "da5873de_e112_4f9b_9e0f_149bd1221894.7fc956da_e397_41f7_ac74_ef9c0a03ddab",
            "da5873de_e112_4f9b_9e0f_149bd1221894.ef1a1240_07d1_4572_b3e5_6591c31372db",
            "e700973b_9070_4ec8_9e8d_10cdf1fd209d.11147468_4387_4cc6_8543_19487306fa71",
            "e700973b_9070_4ec8_9e8d_10cdf1fd209d.300cd4b0_44a6_469e_8520_92cae286ea83",
            "ebb4f301_f353_446c_9b92_19f131e5181d.4b45b47d_0513_4425_8f98_5892c696a533",
            "ebb4f301_f353_446c_9b92_19f131e5181d.e91d1845_79f7_43a0_8fcf_e7fa181f8c5d",
            "f7c06302_3c06_4331_b7ee_6f01946aa788.80d986bc_5c93_4843_89f1_1c82d737fca8",
            "f7c06302_3c06_4331_b7ee_6f01946aa788.f6d92607_adb8_4a66_a9e2_a28ae28b87fa",
            "fd5601fa_5513_4b0a_b935_9817c84319e6.005b4af3_1813_4b16_a89f_64733cd9e03a",
            "fd5601fa_5513_4b0a_b935_9817c84319e6.5e4ae5df_1476_48a7_a752_cbd08af4c677",
            "fd5601fa_5513_4b0a_b935_9817c84319e6.9c86e80b_e771_4df5_b780_b4678fea0c70",
            "fd5601fa_5513_4b0a_b935_9817c84319e6.9ca0f265_d2e7_4b44_b90b_8d1c9cb9db9f",
            "fd5601fa_5513_4b0a_b935_9817c84319e6.ed23a3b5_2e5d_4ba7_baef_3ebada8894ab",
            "47f9140d_38d8_4391_9aa1_08973d4b6370.850f4214_f94d_4b62_9e24_02705deba9b3",
            "47f9140d_38d8_4391_9aa1_08973d4b6370.b10f39ce_fba2_475f_a0f3_47fcdebe69c1",
            "541fd2f2_76a9_49dd_a2eb_16300bdf6ac6",
            "bcc0de5e_f29d_43cc_a45f_1718e805426d",
            "df67cba3_6743_4ae7_83f8_e492a62bb7bf",
            "c10f79c9_744d_40a5_a272_7cde7ca1f5a6.4b524f12_0c6f_4abd_a677_51db619f635f",
            "fd5601fa_5513_4b0a_b935_9817c84319e6.4583dd51_c3aa_4446_9495_858a1e337da3",
            "e8e7705d_b87a_4bf3_b454_202ca27ea7ad",
            "1f182f96_a9a9_4f89_adfc_e8c11498e926",
            "d02c6fdd_ce6b_44a1_b193_1ede85e7d4c8.b335617c_4262_41b5_80dc_4af207b12a10",
            "13211186_beb4_4227_bd2d_0644e860886e",
            "4583aa00_3dba_4283_8633_c44b9780855a",
            "0d5d19dc_e106_4cfb_9bee_c5f6d46e4388",
            "15fc7d70_1c93_497b_8f43_35ef2eab0a00",
            "47f9140d_38d8_4391_9aa1_08973d4b6370.9d354293_6f66_4520_afb8_348b8c398f03",
            "27afeb29_6311_414c_a5fc_79c19d6ea89d",
            "285ae1d5_09cb_4871_a61f_bcc5b44a36de",
            "959490bb_9624_4a8b_b9ae_b631a7848908",
            "3b373634_2461_4b61_8bcb_068c12b7e1a8.6af9698e_b72b_48d7_b864_9a0d518ec3b1",
            "3b373634_2461_4b61_8bcb_068c12b7e1a8.cbd54644_e644_4743_a015_7b53af377a11",
            "3b373634_2461_4b61_8bcb_068c12b7e1a8.df84f19d_e8f9_4bdf_963b_71b2cd80cf9e",
            "3b373634_2461_4b61_8bcb_068c12b7e1a8.ec82b630_d0f2_4f6d_9c7c_948279cb8bd6",
            "506f355b_ec0d_4763_8082_5d022dcf6153.2ffbcf7c_fafd_4ae5_b05a_e337ea56eaf9",
            "506f355b_ec0d_4763_8082_5d022dcf6153.87389995_27ad_49a8_bf1b_5f25b117ce56",
            "506f355b_ec0d_4763_8082_5d022dcf6153.d8561aa6_7a64_4f02_a210_0690761c6a3e",
            "506f355b_ec0d_4763_8082_5d022dcf6153.ec82b630_d0f2_4f6d_9c7c_948279cb8bd6",
            "d02c6fdd_ce6b_44a1_b193_1ede85e7d4c8.0e964c7f_9275_47df_97c5_ede973dc0767",
            "d02c6fdd_ce6b_44a1_b193_1ede85e7d4c8.89e05278_e33b_4bac_b51b_1204446d5017",
            "d02c6fdd_ce6b_44a1_b193_1ede85e7d4c8.de9e0393_c179_4e99_8bc8_db314a813440",
            "059465b4_6a0b_4083_9db7_d615c9a8a503",
            "0871cd8d_8191_49d1_a4e0_f9e0632b3415",
            "0c5cbfd3_203c_4c0a_96d2_52895ed4f84c",
            "368bbca0_5ffe_411a_8e6c_0a3ba893ba86",
            "37bd8556_455f_4bff_9517_59d2cc2649ed",
            "48756146_e5bd_496f_8864_4a33742dc0a4",
            "718e54c6_67a5_4ba6_b293_04bfd531e28f",
            "76705912_de37_4fcb_b1bc_f32d9c6b032f",
            "90aa800d_4d8d_47ac_a101_d15be3214e00",
            "96f936ce_399b_47f4_9e80_dd7a7e07c262",
            "b309f272_2c39_4182_ad56_2dd913d63e3e",
            "c0b51681_99ef_4501_92ab_d66bf21db311",
            "c512f8f9_6c59_491b_98d2_7ddbea43a129",
            "cef8f45f_6400_4876_886f_4c86382a9024",
            "d32ca226_912e_4212_a304_0b51c3e75f3b",
            "e8ceeebb_54d4_4821_aa17_15d88949401e",
            "f32898ec_774d_43b8_ad6f_6806ae29e394",
            "f3c2c140_38b6_410e_8917_8a72a742ca94",
            "47f9140d_38d8_4391_9aa1_08973d4b6370.16b4b1f2_2d78_4d5b_89f2_13081bce8dd8",
            "47f9140d_38d8_4391_9aa1_08973d4b6370.77563435_067b_4de1_b0fc_406ca277d130",
            "47f9140d_38d8_4391_9aa1_08973d4b6370.7d8a19a8_29c0_4973_9e2c_8d1fc84048ad",
            "47f9140d_38d8_4391_9aa1_08973d4b6370.840455c3_58f7_4bee_8e99_227d54c1f871",
            "47f9140d_38d8_4391_9aa1_08973d4b6370.9290e66a_a5c5_4b69_af0f_7291b99286ad",
            "47f9140d_38d8_4391_9aa1_08973d4b6370.b71b369a_bc34_4ff1_9a24_95de01fca685",
            "47f9140d_38d8_4391_9aa1_08973d4b6370.875e17b1_a6cf_4f93_830c_37a54c67028c",
            "47f9140d_38d8_4391_9aa1_08973d4b6370.a7e89ef7_adcd_4c9c_8672_3cb4d0febadf",
            "124295e4_f6a9_4904_baa2_6bb2752d0059.a6dc91a5_aa78_4501_9238_034a2befa16a",
            "3062fe14_682d_481f_a98e_b217c45c2337.222824e4_3f83_4be9_8cd6_0eb961dedf52",
            "3abdac1c_4717_445e_8248_0143c701015a.8276169e_bfe8_4fec_9500_3c8b2e271a7d",
            "554f7ba1_7232_4a12_a2b6_0954976ff3b9.9c707103_1eb8_4f2b_9b16_35eb3b169ece",
            "5953d8e3_565b_4b29_a498_5ef50f9aefbe.28012117_7a84_402b_86c4_ae1eb168d48a",
            "793f94f9_73d2_4ed2_8ccb_abf4576c2a84.c02f7965_a485_4487_959f_d8a31bb997a2",
            "8dbdff35_af3a_4c69_8963_53bdcb33c775.973039e1_772a_4771_bb39_1ef27616036d",
            "951d1945_98d0_4329_9025_dce55687f3a4.4c79aa8c_f652_4dee_b809_3b6385537ace",
            "a047df87_7c81_4a1c_abc5_99a6eda40f1a.30dbbb56_2371_4eb4_a1ca_be6c934e2e38",
            "bc3a295e_af26_46d7_9445_63325ab035b8.256f9edf_3066_4f9b_97dc_f5b685fe1660",
            "c10f79c9_744d_40a5_a272_7cde7ca1f5a6.e48f2638_d690_4f23_907e_f19a534c7f34",
            "cbb33199_7896_432f_b0f6_ef45a4650723.3c088d26_7862_46f4_aea2_12d7893c5d98",
            "d0b621a6_148d_427d_8aef_b073b11184e1.40cfb8c3_9e33_40a4_8780_50f7dbc15eff",
            "da5873de_e112_4f9b_9e0f_149bd1221894.a402fd63_304e_4125_a51a_41a5cca50800",
            "e700973b_9070_4ec8_9e8d_10cdf1fd209d.418ce6e2_9463_4786_958d_b71736421016",
            "ebb4f301_f353_446c_9b92_19f131e5181d.099dc70e_f41d_4bc5_aad0_0749d7685daa",
            "f7c06302_3c06_4331_b7ee_6f01946aa788.86198044_c6b3_449b_93bc_5f50bf70830d",
            "fd5601fa_5513_4b0a_b935_9817c84319e6.ed75d890_225f_4ad5_8137_d14743c37972",
            "00f36e5b_de4d_4cff_a935_44a44574b285",
            "054e56a7_9776_451b_96f1_ebd5992136a3",
            "1a8818c2_557b_4581_acc1_d035a544021b",
            "371dca70_b2c4_486d_924e_06217ea301de",
            "4637dfe7_2855_4c33_82ec_5dc7cbf3ca68",
            "4f4c49dc_3a34_4b16_a20f_ab7f916c2798",
            "520aeaf6_5518_474e_9a94_c8885c6aa1c7",
            "5552e0c4_3583_4204_822a_7882f2177596",
            "5ae6674c_beb6_468a_9fad_5c219624f605",
            "68ab4731_84bd_48ff_a4da_29f25e2c4d25",
            "74d91827_7222_4463_bc9c_0219a2a68374",
            "a32f27d9_0a51_4ea8_baeb_9c4ec1e34a04",
            "a9a31134_dbf3_42fd_bede_2b3d8d33cda3",
            "b768b18a_339b_4e83_989f_2c4efc699613",
            "d44e3104_282c_45db_bb95_e1918ed00fe7",
            "d53e0430_ac7a_4f4f_81ad_8299092c73d2",
            "d79e6b1c_8259_4717_80c0_b9642ba8f3f1",
            "f227cc61_92b7_42f2_9b55_0cf44658bd16",
            "d02c6fdd_ce6b_44a1_b193_1ede85e7d4c8.0c944fda_d94e_48f0_9b1a_b7f570c63c40",
            "08684dc4_48b2_49da_b3cd_9b061c76c4f4",
            "1af5f6f9_15b1_4a62_962e_0ede16373202.54b4e9ee_be4d_433b_b0f8_4263a00f6236",
            "1af5f6f9_15b1_4a62_962e_0ede16373202.9f7c160b_2de5_47a8_b284_2dd6edad72a0",
            "1af5f6f9_15b1_4a62_962e_0ede16373202.f246a8c4_e371_44e5_be8c_8e310eb39965",
            "1af5f6f9_15b1_4a62_962e_0ede16373202.f411c52f_1e8c_4f90_9bdc_f2cdc18c22f3",
            "6b498416_1218_453d_a09e_64a2e2aebe24.54b4e9ee_be4d_433b_b0f8_4263a00f6236",
            "6b498416_1218_453d_a09e_64a2e2aebe24.9f7c160b_2de5_47a8_b284_2dd6edad72a0",
            "6b498416_1218_453d_a09e_64a2e2aebe24.f246a8c4_e371_44e5_be8c_8e310eb39965",
            "6b498416_1218_453d_a09e_64a2e2aebe24.f411c52f_1e8c_4f90_9bdc_f2cdc18c22f3",
            "70d05bb1_6810_435a_bcac_8166afba0ba6.54b4e9ee_be4d_433b_b0f8_4263a00f6236",
            "70d05bb1_6810_435a_bcac_8166afba0ba6.9f7c160b_2de5_47a8_b284_2dd6edad72a0",
            "70d05bb1_6810_435a_bcac_8166afba0ba6.f246a8c4_e371_44e5_be8c_8e310eb39965",
            "70d05bb1_6810_435a_bcac_8166afba0ba6.f411c52f_1e8c_4f90_9bdc_f2cdc18c22f3",
            "71d76c95_92ae_4336_b8df_008eea79b59a",
            "7b630b30_400a_413b_9d29_b0b98688dac5.54b4e9ee_be4d_433b_b0f8_4263a00f6236",
            "7b630b30_400a_413b_9d29_b0b98688dac5.9f7c160b_2de5_47a8_b284_2dd6edad72a0",
            "7b630b30_400a_413b_9d29_b0b98688dac5.f246a8c4_e371_44e5_be8c_8e310eb39965",
            "7b630b30_400a_413b_9d29_b0b98688dac5.f411c52f_1e8c_4f90_9bdc_f2cdc18c22f3",
            "a931e657_2b90_4ab5_98fb_5f899761459e",
            "bb8bdc58_4098_4ba0_a92d_907dad26eaab.54b4e9ee_be4d_433b_b0f8_4263a00f6236",
            "bb8bdc58_4098_4ba0_a92d_907dad26eaab.9f7c160b_2de5_47a8_b284_2dd6edad72a0",
            "bb8bdc58_4098_4ba0_a92d_907dad26eaab.f246a8c4_e371_44e5_be8c_8e310eb39965",
            "bb8bdc58_4098_4ba0_a92d_907dad26eaab.f411c52f_1e8c_4f90_9bdc_f2cdc18c22f3",
            "3abdac1c_4717_445e_8248_0143c701015a.066adbcc_4ff8_44ef_9532_ddf4317cda1d",
            "3abdac1c_4717_445e_8248_0143c701015a.d63ebafc_0cfa_494f_a365_872e42564356",
            "bc3a295e_af26_46d7_9445_63325ab035b8.571ddd6d_fc12_47f6_bd07_e10c498ac742",
            "bc3a295e_af26_46d7_9445_63325ab035b8.f0f33bdd_e315_4fc5_9eab_a5a00211d3f8",
            "c10f79c9_744d_40a5_a272_7cde7ca1f5a6.36ab6c42_36b6_45af_a65e_fbd6d119b6f4",
            "c10f79c9_744d_40a5_a272_7cde7ca1f5a6.ac15587f_8b12_478f_bba8_652bfd9b9fd2",
            "f7c06302_3c06_4331_b7ee_6f01946aa788.98f02701_34d6_4fac_bcf3_412fdf68afff",
            "f7c06302_3c06_4331_b7ee_6f01946aa788.9b2707d8_11f8_4c54_9ac5_383879b10b90",
            "fd5601fa_5513_4b0a_b935_9817c84319e6.463a2507_2cb8_485d_8295_b97e311092bd",
            "fd5601fa_5513_4b0a_b935_9817c84319e6.78bd8dde_c90a_4f16_a19d_37a4945c018a",
            "08ff7ae0_acef_4f4d_8328_2de484a6d5e1.d7da115a_2c98_46f0_8ed0_070c844c2c3f",
            "47f9140d_38d8_4391_9aa1_08973d4b6370.fcf15fbf_1f03_4ae3_a1b9_09c21ae7c7c9",
            "3062fe14_682d_481f_a98e_b217c45c2337.219205ac_c806_4815_89f8_e5553838d484",
            "3abdac1c_4717_445e_8248_0143c701015a.e4462e58_35a7_48c6_a696_a54a696786ae",
            "793f94f9_73d2_4ed2_8ccb_abf4576c2a84.a670f52d_d221_47b4_ba67_bd8f5168907c",
            "8dbdff35_af3a_4c69_8963_53bdcb33c775.2d051934_94eb_497f_b85f_a928a0551586",
            "a047df87_7c81_4a1c_abc5_99a6eda40f1a.949bc9a5_ccfb_4e2f_9322_17eeccfa892a",
            "bc3a295e_af26_46d7_9445_63325ab035b8.f3378be5_da2a_4ef5_9111_dba3370f4b8a",
            "c10f79c9_744d_40a5_a272_7cde7ca1f5a6.a1c18ab6_ea4b_47a5_a6ce_7fbab20586d4",
            "ebb4f301_f353_446c_9b92_19f131e5181d.d3b18a02_2fde_48eb_9f78_e311eeb1990b",
            "f7c06302_3c06_4331_b7ee_6f01946aa788.a65adba9_bed7_4daa_bd1b_8520d7c54ac8",
            "fd5601fa_5513_4b0a_b935_9817c84319e6.2dfc0418_a9b9_431a_9d5c_572009e3c3da",
            "3062fe14_682d_481f_a98e_b217c45c2337.07b09fef_4f5c_4157_85a6_b67ee83010f3",
            "3abdac1c_4717_445e_8248_0143c701015a.ef042c0b_6845_47ee_935d_5e1466f9ce06",
            "793f94f9_73d2_4ed2_8ccb_abf4576c2a84.9ad2e97c_a220_49b8_9556_6ad6db019687",
            "8dbdff35_af3a_4c69_8963_53bdcb33c775.9da5f41c_49ae_45d5_9e9d_91b44261bc9e",
            "a047df87_7c81_4a1c_abc5_99a6eda40f1a.5aa74a2f_8579_4ecb_ad62_d746acf2b303",
            "bc3a295e_af26_46d7_9445_63325ab035b8.3243182a_b49e_4fa4_b17d_f03962b6d80e",
            "c10f79c9_744d_40a5_a272_7cde7ca1f5a6.7204a748_bc51_4070_bb1e_4a50b901df00",
            "ebb4f301_f353_446c_9b92_19f131e5181d.46f28e39_489d_43fd_ad39_de0e29ff2a90",
            "f7c06302_3c06_4331_b7ee_6f01946aa788.3559052c_d0f4_42ab_842f_7b17122e73b2",
            "fd5601fa_5513_4b0a_b935_9817c84319e6.08e5a191_0679_4c97_9c52_6079a3befaa4",
            "08ff7ae0_acef_4f4d_8328_2de484a6d5e1.f31b26ab_52c0_4781_a1dc_34c5096c825b",
            "47f9140d_38d8_4391_9aa1_08973d4b6370.e8a5b4d0_43f8_47fc_8bec_3df5201ef228",
            "f3fa74e8_4d3c_4003_9a22_1650c25f4da1",
            "1af5f6f9_15b1_4a62_962e_0ede16373202",
            "6b498416_1218_453d_a09e_64a2e2aebe24",
            "70d05bb1_6810_435a_bcac_8166afba0ba6",
            "7b630b30_400a_413b_9d29_b0b98688dac5",
            "bb8bdc58_4098_4ba0_a92d_907dad26eaab",
            "129c879b_b4b2_45a5_8daf_137885376b8a",
            "1af5f6f9_15b1_4a62_962e_0ede16373202.03b6527a_74b4_4292_8b2a_9ef67d5136ba",
            "1af5f6f9_15b1_4a62_962e_0ede16373202.2c1c5465_2f12_4247_abea_c7493d003286",
            "1af5f6f9_15b1_4a62_962e_0ede16373202.7f8a3b58_46c0_4bc8_a174_7ca36181c653",
            "1af5f6f9_15b1_4a62_962e_0ede16373202.a237d46d_cd33_4222_b76a_a6c3fa1ffe01",
            "1af5f6f9_15b1_4a62_962e_0ede16373202.bd260118_e2c4_4562_a67b_9cdd7c3c7b8c",
            "1af5f6f9_15b1_4a62_962e_0ede16373202.f1ddb1d3_e351_484e_84fe_51c28e57566a",
            "2254cd89_239d_49c2_acd5_96eabb45f817",
            "289fc135_2211_4de6_8e26_ceddc5aa48c5",
            "6b498416_1218_453d_a09e_64a2e2aebe24.03b6527a_74b4_4292_8b2a_9ef67d5136ba",
            "6b498416_1218_453d_a09e_64a2e2aebe24.2c1c5465_2f12_4247_abea_c7493d003286",
            "6b498416_1218_453d_a09e_64a2e2aebe24.7f8a3b58_46c0_4bc8_a174_7ca36181c653",
            "6b498416_1218_453d_a09e_64a2e2aebe24.a237d46d_cd33_4222_b76a_a6c3fa1ffe01",
            "6b498416_1218_453d_a09e_64a2e2aebe24.bd260118_e2c4_4562_a67b_9cdd7c3c7b8c",
            "6b498416_1218_453d_a09e_64a2e2aebe24.f1ddb1d3_e351_484e_84fe_51c28e57566a",
            "70d05bb1_6810_435a_bcac_8166afba0ba6.03b6527a_74b4_4292_8b2a_9ef67d5136ba",
            "70d05bb1_6810_435a_bcac_8166afba0ba6.2c1c5465_2f12_4247_abea_c7493d003286",
            "70d05bb1_6810_435a_bcac_8166afba0ba6.7f8a3b58_46c0_4bc8_a174_7ca36181c653",
            "70d05bb1_6810_435a_bcac_8166afba0ba6.a237d46d_cd33_4222_b76a_a6c3fa1ffe01",
            "70d05bb1_6810_435a_bcac_8166afba0ba6.bd260118_e2c4_4562_a67b_9cdd7c3c7b8c",
            "70d05bb1_6810_435a_bcac_8166afba0ba6.f1ddb1d3_e351_484e_84fe_51c28e57566a",
            "7b630b30_400a_413b_9d29_b0b98688dac5.03b6527a_74b4_4292_8b2a_9ef67d5136ba",
            "7b630b30_400a_413b_9d29_b0b98688dac5.2c1c5465_2f12_4247_abea_c7493d003286",
            "7b630b30_400a_413b_9d29_b0b98688dac5.7f8a3b58_46c0_4bc8_a174_7ca36181c653",
            "7b630b30_400a_413b_9d29_b0b98688dac5.a237d46d_cd33_4222_b76a_a6c3fa1ffe01",
            "7b630b30_400a_413b_9d29_b0b98688dac5.bd260118_e2c4_4562_a67b_9cdd7c3c7b8c",
            "7b630b30_400a_413b_9d29_b0b98688dac5.f1ddb1d3_e351_484e_84fe_51c28e57566a",
            "8879f46d_5f98_46d4_8565_3209fa379467",
            "8d8101df_d48b_4b8e_b54f_56e677011507",
            "a7c26929_0897_4967_aa99_3f9d4b10526a",
            "bb8bdc58_4098_4ba0_a92d_907dad26eaab.03b6527a_74b4_4292_8b2a_9ef67d5136ba",
            "bb8bdc58_4098_4ba0_a92d_907dad26eaab.2c1c5465_2f12_4247_abea_c7493d003286",
            "bb8bdc58_4098_4ba0_a92d_907dad26eaab.7f8a3b58_46c0_4bc8_a174_7ca36181c653",
            "bb8bdc58_4098_4ba0_a92d_907dad26eaab.a237d46d_cd33_4222_b76a_a6c3fa1ffe01",
            "bb8bdc58_4098_4ba0_a92d_907dad26eaab.bd260118_e2c4_4562_a67b_9cdd7c3c7b8c",
            "bb8bdc58_4098_4ba0_a92d_907dad26eaab.f1ddb1d3_e351_484e_84fe_51c28e57566a",
            "bdca0049_d1dc_4b15_95b8_d8f310dc651c",
            "f399e88d_ab5e_4eed_9aad_c466f4e5e740",
            "f3b6f23a_47a3_4b6b_ac7e_8fa00b83e560",
            "c08f4019_b535_41fd_a37a_282557a97934",
            "3abdac1c_4717_445e_8248_0143c701015a.5f9db389_7ade_4e13_a1d3_58bec0f0e647",
            "d64b9bc0_e6b3_4556_acda_8040d33b7148.96a43ad1_0a11_4ff6_8575_7debf96eb7fa",
            "d64b9bc0_e6b3_4556_acda_8040d33b7148.c7fec04c_e8ac_4a10_b940_ebd908f9d284",
            "08ff7ae0_acef_4f4d_8328_2de484a6d5e1.be157eec_28b6_451c_8003_826158c95f3a",
            "08ff7ae0_acef_4f4d_8328_2de484a6d5e1.c0d87097_2e40_4595_af3b_76306abf5f05",
            "124295e4_f6a9_4904_baa2_6bb2752d0059.3f1c3fd9_7770_4d52_90b2_920b826acf79",
            "3062fe14_682d_481f_a98e_b217c45c2337.0d1edc32_77a9_4ed6_be92_7a3b795ceb0e",
            "3abdac1c_4717_445e_8248_0143c701015a.3b909497_82ba_4a25_b737_1598d96d67ef",
            "3abdac1c_4717_445e_8248_0143c701015a.714fbd48_680e_4957_beac_7cad7a429760",
            "3abdac1c_4717_445e_8248_0143c701015a.b273eec4_77e6_4f86_a3e8_13e8f8ec1a05",
            "3abdac1c_4717_445e_8248_0143c701015a.e33ce5a7_ab9a_4d4b_8a27_718784b44a9c",
            "47f9140d_38d8_4391_9aa1_08973d4b6370.485eff8b_3a6a_4f36_be95_2d3f78ebddd4",
            "47f9140d_38d8_4391_9aa1_08973d4b6370.7b40bd35_8f79_4c33_8046_c4bda2231585",
            "554f7ba1_7232_4a12_a2b6_0954976ff3b9.a36e74ba_375e_42e0_a6f0_d932fc7d41da",
            "5953d8e3_565b_4b29_a498_5ef50f9aefbe.bf52d0a2_a3d1_46f2_ba36_129bd13c7abd",
            "793f94f9_73d2_4ed2_8ccb_abf4576c2a84.24586287_5927_424e_848d_889e322b97c8",
            "7ff5bb96_3b05_4eca_aa4d_237377014449.05a469ed_8f73_4a2e_9596_fa9d2413a1f5",
            "813fe978_db46_4f77_b69b_644bc8f3157a.c7db7e9c_6f8f_4b9b_9165_b6294c6690d5",
            "8dbdff35_af3a_4c69_8963_53bdcb33c775.b82c6949_dcee_43ac_b2b9_29c92c7f84b4",
            "8f8996ae_8dd4_4a45_bed9_7757fa6907db.00d6ac8b_77dd_4c03_ae3e_e2d9a051941e",
            "8f8996ae_8dd4_4a45_bed9_7757fa6907db.036904ae_1cd4_432e_b090_7b229fdefac7",
            "8f8996ae_8dd4_4a45_bed9_7757fa6907db.16544776_4d60_4e52_a598_fec8591af679",
            "8f8996ae_8dd4_4a45_bed9_7757fa6907db.31f74662_360c_468e_a205_512b566ca406",
            "8f8996ae_8dd4_4a45_bed9_7757fa6907db.5910bc28_5b9a_4f65_9ec8_ba966a592d44",
            "8f8996ae_8dd4_4a45_bed9_7757fa6907db.879521d3_b13f_4339_abae_14e97c2a3939",
            "951d1945_98d0_4329_9025_dce55687f3a4.75e94f04_dba6_43e1_9bd1_b010a7abb65c",
            "a0036c77_2d17_4e7d_a734_9e7a1e290270.bb1397a7_de71_4ce8_8772_f872991c0118",
            "a047df87_7c81_4a1c_abc5_99a6eda40f1a.628c1cc5_c875_460f_9451_01bca93c0093",
            "a623c910_08ec_4a6f_95ff_d6c28ead53ca.05bbade4_da0b_4d8c_8004_3280b2d1b560",
            "a623c910_08ec_4a6f_95ff_d6c28ead53ca.213fc08f_faea_4a35_adc9_67b59a4a9878",
            "a623c910_08ec_4a6f_95ff_d6c28ead53ca.73a0dd95_2b59_4e89_9fe6_4cdf668efe63",
            "b58b8aff_f133_4447_b776_5d8a825f0de3.5ead01a0_b541_4f33_b137_00d6ae9d3bed",
            "b81feefd_2a2b_488b_9618_3994e8ca9653.d9c149f6_4382_447d_9546_d6ebc2eb090d",
            "bc3a295e_af26_46d7_9445_63325ab035b8.87216800_970e_4b24_862f_8fd647071388",
            "c10f79c9_744d_40a5_a272_7cde7ca1f5a6.0d760e87_4d3f_4b5a_8580_8a5fc28d0113",
            "c10f79c9_744d_40a5_a272_7cde7ca1f5a6.916a24f0_33ef_432f_a435_21847edc39f9",
            "cbb33199_7896_432f_b0f6_ef45a4650723.a49381bc_c748_4757_b500_350b0aebdce5",
            "d0b621a6_148d_427d_8aef_b073b11184e1.70751450_4371_44af_a8a2_2b97480c34d0",
            "d64b9bc0_e6b3_4556_acda_8040d33b7148.d646b102_cad2_4c43_852c_6f4e04ca0b01.04fa8942_55b0_41fb_9cfc_66d087d70245",
            "da5873de_e112_4f9b_9e0f_149bd1221894.c86be32c_a122_4e1e_af28_3e7ff28b3fb5",
            "e04fe081_6287_4d73_8bf4_8b86c5169e65.037c21a3_39bc_42bf_908c_ff8fea5e6c2a",
            "e6a6a83c_d4a3_4399_bf59_2a465dde78ae.ec3ba9b6_19e4_4861_b9f1_584d11d080b8",
            "e700973b_9070_4ec8_9e8d_10cdf1fd209d.bf5dfa2b_5274_46ec_b613_c1de8df5bdd5",
            "ebb4f301_f353_446c_9b92_19f131e5181d.ea05dd1f_2cc1_4471_84b5_ca8b671c5684",
            "f0cc2646_d82d_4d1f_955c_46ed9c5fa1df.1de8217a_44b8_46f9_9fe4_367fadd30c3a",
            "f7c06302_3c06_4331_b7ee_6f01946aa788.b5383462_fe50_4751_ac5f_29b0c92e081b",
            "fd5601fa_5513_4b0a_b935_9817c84319e6.be69c4fb_c947_4f68_933c_a88f996642d8",
            "1d711925_bc14_4e4c_ad0a_f416c78b0099",
            "28e7567d_078b_4497_b23c_4c5abd28534d",
            "85139fef_5f26_498f_b481_0dfdd3f27b69",
            "ddc8bfdc_e73e_4f94_85f7_4aa0a8a62328",
            "e0d36d76_a920_4b06_a16d_faac01c76dc9",
            "124295e4_f6a9_4904_baa2_6bb2752d0059",
            "3062fe14_682d_481f_a98e_b217c45c2337",
            "554f7ba1_7232_4a12_a2b6_0954976ff3b9",
            "5953d8e3_565b_4b29_a498_5ef50f9aefbe",
            "793f94f9_73d2_4ed2_8ccb_abf4576c2a84",
            "8dbdff35_af3a_4c69_8963_53bdcb33c775",
            "951d1945_98d0_4329_9025_dce55687f3a4",
            "a047df87_7c81_4a1c_abc5_99a6eda40f1a",
            "cbb33199_7896_432f_b0f6_ef45a4650723",
            "d0b621a6_148d_427d_8aef_b073b11184e1",
            "da5873de_e112_4f9b_9e0f_149bd1221894",
            "e700973b_9070_4ec8_9e8d_10cdf1fd209d",
            "ebb4f301_f353_446c_9b92_19f131e5181d",
            "08ff7ae0_acef_4f4d_8328_2de484a6d5e1.7df66e65_e069_4e53_ab70_776b869e7450",
            "47f9140d_38d8_4391_9aa1_08973d4b6370.da249185_09ee_4925_9417_0940cd363b5c",
            "0e37779d_d4ce_4270_b949_10da6c2dcb3a",
            "146454a5_85c4_4311_a5c4_523e1990a3d7",
            "3c8e2ab6_d44c_4352_b84d_f1fca643e199",
            "58741249_11f2_4deb_8fc0_c26e4a43aa4a",
            "612360a9_b9a5_4040_83fa_b7e26f4780e2",
            "6ad7c8e6_3dc6_454e_a19c_1fa68fa9d917",
            "8f7007c1_ae4b_48a4_808c_18696b8c3fda",
            "e0e2d4d0_1ec8_4831_9023_0530ca3e9d09",
            "f341b406_b9b8_416d_9da8_99351b0010eb",
            "ffbf99d0_be8f_4f3b_bd21_1c10b8bed412",
            "3062fe14_682d_481f_a98e_b217c45c2337.c37ffbd6_a434_4c54_acb6_7acb47bcdebd",
            "3abdac1c_4717_445e_8248_0143c701015a.ec64f6bf_7848_4098_b019_e5990f504ea3",
            "793f94f9_73d2_4ed2_8ccb_abf4576c2a84.eb679d1f_669a_43e8_9280_5fbad69ee84e",
            "8dbdff35_af3a_4c69_8963_53bdcb33c775.bc7ae337_fe40_448f_b4c9_2d4388b01a9d",
            "a047df87_7c81_4a1c_abc5_99a6eda40f1a.d916a173_b696_47e1_878d_3bf49b037210",
            "bc3a295e_af26_46d7_9445_63325ab035b8.375a2f29_0da6_471b_bddb_a46c68e66c8f",
            "c10f79c9_744d_40a5_a272_7cde7ca1f5a6.fb3dae36_ad5f_4d5c_9b42_b9d991a02a54",
            "ebb4f301_f353_446c_9b92_19f131e5181d.c5095e71_a43a_45f4_a921_fab8117aad6f",
            "f7c06302_3c06_4331_b7ee_6f01946aa788.ebc04eca_84dd_47c1_a205_1e97156c4b7c",
            "fd5601fa_5513_4b0a_b935_9817c84319e6.c38e3bbe_8a6b_452e_ac68_e3a57288e3ce",
            "cc489177_105f_4f1f_848d_205d9c921ac6",
            "6e0854f9_3888_4867_9176_0693de75f841",
            "ef790dae_bb9b_4cd7_a52c_ea35841f02dd",
            "6ac599d9_8b6d_422e_be15_d3e9a05c50c4",
            "9434ad0c_af3b_438f_9d1f_f13aa2fce872",
            "a1077967_e4bb_4bd7_9819_9ce9222a6cdf",
            "b0729477_1c96_485d_bb5e_e19c5a5a73c4",
            "3fe4780d_670e_4eac_a222_94440f0de466",
            "0f91b6d7_2dbb_4054_9b79_e8c1f1a09d84",
            "133c55ef_4f15_4856_9df6_64ccb3331e19",
            "196e610c_423a_4d83_8758_27b56815ad39",
            "2635104d_76e3_425f_aa26_38b095d59a47",
            "3f0a0663_5bdf_479c_8a4d_764baaf61fa1",
            "585c34c1_63e7_4934_8c22_44b6ce98ed46",
            "5c2c591b_b04c_47d6_a586_7b323df99c9a",
            "6b06b678_a5f6_4e1b_9afc_b8790faf5956",
            "73d81674_fc66_4ba0_a0af_1d9e717e0366",
            "a6434932_7e47_428e_aee5_9b82f63438e4",
            "a7e9b5ac_074e_43e8_a128_3f84228eff7b",
            "b9a75205_8765_4a25_a589_70558fa07a92",
            "bba618b9_4988_4dc9_ba86_591157fc8b10",
            "cfb620a6_76ed_48e5_a44e_3670ea4f4c83",
            "e0c3249a_c00d_4e43_88a6_3a3feb3c489e",
            "e4b880fc_432b_4166_9999_b312904ab4b8",
            "eef8e72b_b26c_44ce_a346_204b969e8319",
            "fd879747_e934_46a0_b437_d42fad3b8388",
            "3b373634_2461_4b61_8bcb_068c12b7e1a8.2d8226ae_9fb5_477a_b1c3_dc069ae9ec4d",
            "3b373634_2461_4b61_8bcb_068c12b7e1a8.41c4c904_7cf6_4706_8495_a128086d07e7",
            "3b373634_2461_4b61_8bcb_068c12b7e1a8.b335617c_4262_41b5_80dc_4af207b12a10",
            "3b373634_2461_4b61_8bcb_068c12b7e1a8.d0a77ae4_734b_4a4c_bff7_66ecdfd8e3af",
            "3b373634_2461_4b61_8bcb_068c12b7e1a8.e1c332cd_b64b_40d6_bdb1_64c26eaca6ec",
            "506f355b_ec0d_4763_8082_5d022dcf6153.2d8226ae_9fb5_477a_b1c3_dc069ae9ec4d",
            "506f355b_ec0d_4763_8082_5d022dcf6153.b335617c_4262_41b5_80dc_4af207b12a10",
            "506f355b_ec0d_4763_8082_5d022dcf6153.d0a77ae4_734b_4a4c_bff7_66ecdfd8e3af",
            "506f355b_ec0d_4763_8082_5d022dcf6153.df84f19d_e8f9_4bdf_963b_71b2cd80cf9e",
            "d02c6fdd_ce6b_44a1_b193_1ede85e7d4c8.e1c332cd_b64b_40d6_bdb1_64c26eaca6ec",
            "d02c6fdd_ce6b_44a1_b193_1ede85e7d4c8.ec82b630_d0f2_4f6d_9c7c_948279cb8bd6",
            "08f65fc9_0394_4ab2_8068_0c07b4fe13f0",
            "0be7d9ef_1c44_4217_8b8b_7deb1e3c727d",
            "0cb0759c_3733_49f2_b1c0_d1f09c363563",
            "17342d15_48c8_4f15_9a8f_aba2de4391ca",
            "29a3dfd4_c060_4883_867b_ec0e204f0246",
            "2e896b5e_18f3_4702_a531_2aafe2b02fca",
            "64074733_c93d_409f_8b56_79a64ddca291",
            "646ca198_4192_4271_adcb_3b1ccb3c949a",
            "657a1c32_4f7d_4242_85ba_dcbf63990ecb",
            "66ab910e_ab78_423e_ba18_831423e00ccf",
            "81bd2318_6de7_4e2c_a51d_1ba0999bec1a",
            "adc6b0b0_9679_457d_adc5_3d653278be57",
            "c5434cb1_954e_4b27_891f_f890506397b3",
            "d6dfd1e2_df6a_4bce_a896_4f762f1061ed",
            "e99be6f7_cab8_4b9d_a814_606ccee605a3",
            "f9cca3c4_56ce_432b_840e_754fd0e3c918",
            "fc0c8557_0f24_41e1_836e_a0225707fb90",
            "ff4a5909_a9ec_43f2_87c3_8a4c1ec323fa",
            "08ff7ae0_acef_4f4d_8328_2de484a6d5e1.1316fd60_be4e_436d_ad12_45e17d3f7254",
            "08ff7ae0_acef_4f4d_8328_2de484a6d5e1.18999260_6d8c_4cd3_91fd_c52f89e25b4b",
            "08ff7ae0_acef_4f4d_8328_2de484a6d5e1.3cbb4762_6e59_4f46_b688_c11f433b1cfa",
            "08ff7ae0_acef_4f4d_8328_2de484a6d5e1.a178dace_cf4a_4160_8dfa_f30ecf806b87",
            "08ff7ae0_acef_4f4d_8328_2de484a6d5e1.ba309bf0_0849_44bb_9aaf_494a8aba4735",
            "08ff7ae0_acef_4f4d_8328_2de484a6d5e1.214c8636_0f46_4295_82ab_8aa2602ee776",
            "08ff7ae0_acef_4f4d_8328_2de484a6d5e1.2db1336a_027e_49a3_be92_d6fafdf09906",
            "124295e4_f6a9_4904_baa2_6bb2752d0059.5b44eda8_b48d_4288_9730_fb6c670fd0cb",
            "3062fe14_682d_481f_a98e_b217c45c2337.6a4b823e_a925_43f3_a2bd_71594907958b",
            "3abdac1c_4717_445e_8248_0143c701015a.24c35a0b_f711_43e9_8064_0c0a3cfa06b6",
            "554f7ba1_7232_4a12_a2b6_0954976ff3b9.9861b7de_7565_4d8e_938f_b48794d4e744",
            "5953d8e3_565b_4b29_a498_5ef50f9aefbe.7dc9a083_dc0e_4428_87ac_8e4f3c1cdd80",
            "793f94f9_73d2_4ed2_8ccb_abf4576c2a84.127e905e_b15f_42fc_a928_c773c761d53b",
            "8dbdff35_af3a_4c69_8963_53bdcb33c775.59d5c47c_cd59_4c0c_91b9_b055a79b2992",
            "951d1945_98d0_4329_9025_dce55687f3a4.b64b4982_080b_4581_8f0a_1021e9bfbca9",
            "a047df87_7c81_4a1c_abc5_99a6eda40f1a.e93987ef_2524_42e2_9750_127a5b165e18",
            "bc3a295e_af26_46d7_9445_63325ab035b8.530e4b40_a699_485f_a92f_ca81035320ec",
            "c10f79c9_744d_40a5_a272_7cde7ca1f5a6.fb20d0cb_185c_4d94_b1a1_37df9bc44074",
            "cbb33199_7896_432f_b0f6_ef45a4650723.64000e7d_4afa_4a79_8fb5_28a82180956c",
            "d0b621a6_148d_427d_8aef_b073b11184e1.ec9bef85_a712_4d49_9389_b0ac72ad8abd",
            "da5873de_e112_4f9b_9e0f_149bd1221894.512b8e70_2d08_44cf_9153_4f60b1bdd5be",
            "e700973b_9070_4ec8_9e8d_10cdf1fd209d.36b4dfef_6302_41ed_b481_bd4263a19e12",
            "ebb4f301_f353_446c_9b92_19f131e5181d.bae458eb_2959_460d_8bf2_1d9cc8b4a216",
            "f7c06302_3c06_4331_b7ee_6f01946aa788.42b56f2d_cc14_4859_a534_be645d6cefb7",
            "fd5601fa_5513_4b0a_b935_9817c84319e6.9a0ec717_4382_4dcd_9991_de2329f58b19",
            "00da8e36_4ba2_4467_8be8_45e25ccb5943",
            "22937c9b_ad32_47c9_b013_1df3a46f0d37",
            "28853f0e_39dc_4c33_8c92_0e7ac96e3cdb",
            "2ff57828_e11f_46c1_8613_4c46fa93df3d",
            "3d8a8792_c37d_4688_82a7_68d2106ba370",
            "3eb66776_ed74_400b_9347_eb5406265297",
            "52f2d2e0_bfb2_4239_b057_7d293bc0147b",
            "685bb024_b6a2_4db4_b08e_275b12da9764",
            "69332eeb_21e2_49a3_a29d_e115416c4fd0",
            "725de676_3337_4f38_bbbf_b1c0c63df2b0",
            "72a1c938_6603_4be8_aaa6_3335786af276",
            "749483d3_5a12_4773_be1a_622e706c814b",
            "a4579f9f_fa4e_4ee5_a453_056c30ce770f",
            "aa53e626_0e50_4824_bc67_8d24c51494d6",
            "ca2ea368_e410_4613_aa9c_9f2900a3e65a",
            "e5882b85_e45c_480b_ae94_51d1082906f3",
            "f10e6b0e_6f3d_4f4e_8283_246451c8c418",
            "f21b568c_9e73_4f3d_a388_9b8c414e8ebe",
            "7105ff0d_6772_4429_b7de_2ea15e1afd1c",
            "8c409529_fddc_41dc_a3a5_92fa14ca1cdb",
            "506f355b_ec0d_4763_8082_5d022dcf6153.41c4c904_7cf6_4706_8495_a128086d07e7",
            "506f355b_ec0d_4763_8082_5d022dcf6153.e1c332cd_b64b_40d6_bdb1_64c26eaca6ec",
            "3b373634_2461_4b61_8bcb_068c12b7e1a8.0c944fda_d94e_48f0_9b1a_b7f570c63c40",
            "506f355b_ec0d_4763_8082_5d022dcf6153.0c944fda_d94e_48f0_9b1a_b7f570c63c40",
            "d02c6fdd_ce6b_44a1_b193_1ede85e7d4c8.2d8226ae_9fb5_477a_b1c3_dc069ae9ec4d",
            "3abdac1c_4717_445e_8248_0143c701015a.3c7219ee_7287_4ab9_aff0_5d0e7ca4056d",
            "bc3a295e_af26_46d7_9445_63325ab035b8.a803cc3d_3abe_4025_b543_59663bfdee18",
            "c10f79c9_744d_40a5_a272_7cde7ca1f5a6.db8f95bc_01fa_43ba_8ea1_50d4df45fe7c",
            "f7c06302_3c06_4331_b7ee_6f01946aa788.55c94532_5ba1_4926_a365_ce0ba45ae766",
            "fd5601fa_5513_4b0a_b935_9817c84319e6.15195db0_d212_497d_8cf9_d3c50480bb80",
            "3062fe14_682d_481f_a98e_b217c45c2337.de3fa4f5_0167_4cb3_a31d_40c8be0ea15f",
            "3abdac1c_4717_445e_8248_0143c701015a.e8920540_0dda_4ff4_b59e_439c8650f5b8",
            "793f94f9_73d2_4ed2_8ccb_abf4576c2a84.92715a10_5ad9_4d9e_ae4f_77a6a189cca6",
            "8dbdff35_af3a_4c69_8963_53bdcb33c775.ce03ca4c_60a5_424a_acaf_0a320003823b",
            "a047df87_7c81_4a1c_abc5_99a6eda40f1a.7d329f80_d00e_4cdf_a7c6_7a5d695751e1",
            "bc3a295e_af26_46d7_9445_63325ab035b8.397e65a4_32ae_4891_bf58_481b36031e65",
            "c10f79c9_744d_40a5_a272_7cde7ca1f5a6.d2de1941_7ba3_40ef_88a7_5e71b79bf1fa",
            "ebb4f301_f353_446c_9b92_19f131e5181d.2b19fb5b_4957_4c2f_aa59_b65feb4c6f62",
            "f7c06302_3c06_4331_b7ee_6f01946aa788.d0dca69f_9dcc_4b6b_8ffb_e3c64d52f085",
            "fd5601fa_5513_4b0a_b935_9817c84319e6.ed7078ff_48e3_48e4_bcbb_3d38847be2f5",
            "124295e4_f6a9_4904_baa2_6bb2752d0059.859193de_a4f3_4707_879c_b8a8188c5f5b.75d51cf9_fc4c_4f0b_9987_0d2ceb58e294",
            "124295e4_f6a9_4904_baa2_6bb2752d0059.859193de_a4f3_4707_879c_b8a8188c5f5b.d4cb6566_30c1_470d_9777_8c2d71c6bd8d",
            "124295e4_f6a9_4904_baa2_6bb2752d0059.859193de_a4f3_4707_879c_b8a8188c5f5b.f043bd1e_905e_45bb_b70b_33cc422e7a27",
            "3062fe14_682d_481f_a98e_b217c45c2337.b3f637dd_fc6a_48c7_9919_ed48775a743a.75d51cf9_fc4c_4f0b_9987_0d2ceb58e294",
            "3062fe14_682d_481f_a98e_b217c45c2337.b3f637dd_fc6a_48c7_9919_ed48775a743a.d4cb6566_30c1_470d_9777_8c2d71c6bd8d",
            "3062fe14_682d_481f_a98e_b217c45c2337.b3f637dd_fc6a_48c7_9919_ed48775a743a.f043bd1e_905e_45bb_b70b_33cc422e7a27",
            "3abdac1c_4717_445e_8248_0143c701015a.71bfdedb_73da_4307_9046_dba6e35eabdf.75d51cf9_fc4c_4f0b_9987_0d2ceb58e294",
            "3abdac1c_4717_445e_8248_0143c701015a.71bfdedb_73da_4307_9046_dba6e35eabdf.d4cb6566_30c1_470d_9777_8c2d71c6bd8d",
            "3abdac1c_4717_445e_8248_0143c701015a.71bfdedb_73da_4307_9046_dba6e35eabdf.f043bd1e_905e_45bb_b70b_33cc422e7a27",
            "554f7ba1_7232_4a12_a2b6_0954976ff3b9.a8a33c70_c979_47b7_aa0a_4a2c14cf89aa.75d51cf9_fc4c_4f0b_9987_0d2ceb58e294",
            "554f7ba1_7232_4a12_a2b6_0954976ff3b9.a8a33c70_c979_47b7_aa0a_4a2c14cf89aa.d4cb6566_30c1_470d_9777_8c2d71c6bd8d",
            "554f7ba1_7232_4a12_a2b6_0954976ff3b9.a8a33c70_c979_47b7_aa0a_4a2c14cf89aa.f043bd1e_905e_45bb_b70b_33cc422e7a27",
            "5953d8e3_565b_4b29_a498_5ef50f9aefbe.c9640af1_0c83_4ee4_9e18_3dd88f104727.75d51cf9_fc4c_4f0b_9987_0d2ceb58e294",
            "5953d8e3_565b_4b29_a498_5ef50f9aefbe.c9640af1_0c83_4ee4_9e18_3dd88f104727.d4cb6566_30c1_470d_9777_8c2d71c6bd8d",
            "5953d8e3_565b_4b29_a498_5ef50f9aefbe.c9640af1_0c83_4ee4_9e18_3dd88f104727.f043bd1e_905e_45bb_b70b_33cc422e7a27",
            "793f94f9_73d2_4ed2_8ccb_abf4576c2a84.9a6c9ad4_3c32_4aab_a58e_03ed48e116eb.75d51cf9_fc4c_4f0b_9987_0d2ceb58e294",
            "793f94f9_73d2_4ed2_8ccb_abf4576c2a84.9a6c9ad4_3c32_4aab_a58e_03ed48e116eb.d4cb6566_30c1_470d_9777_8c2d71c6bd8d",
            "793f94f9_73d2_4ed2_8ccb_abf4576c2a84.9a6c9ad4_3c32_4aab_a58e_03ed48e116eb.f043bd1e_905e_45bb_b70b_33cc422e7a27",
            "8dbdff35_af3a_4c69_8963_53bdcb33c775.0283d8fe_43f1_4d0e_9a53_9dba9dacb759.75d51cf9_fc4c_4f0b_9987_0d2ceb58e294",
            "8dbdff35_af3a_4c69_8963_53bdcb33c775.0283d8fe_43f1_4d0e_9a53_9dba9dacb759.d4cb6566_30c1_470d_9777_8c2d71c6bd8d",
            "8dbdff35_af3a_4c69_8963_53bdcb33c775.0283d8fe_43f1_4d0e_9a53_9dba9dacb759.f043bd1e_905e_45bb_b70b_33cc422e7a27",
            "951d1945_98d0_4329_9025_dce55687f3a4.7ea99eda_1771_4b77_bd58_81e429a973fa.75d51cf9_fc4c_4f0b_9987_0d2ceb58e294",
            "951d1945_98d0_4329_9025_dce55687f3a4.7ea99eda_1771_4b77_bd58_81e429a973fa.d4cb6566_30c1_470d_9777_8c2d71c6bd8d",
            "951d1945_98d0_4329_9025_dce55687f3a4.7ea99eda_1771_4b77_bd58_81e429a973fa.f043bd1e_905e_45bb_b70b_33cc422e7a27",
            "a047df87_7c81_4a1c_abc5_99a6eda40f1a.de900d60_7e5c_4f71_aa0a_7e9a2e7522f5.75d51cf9_fc4c_4f0b_9987_0d2ceb58e294",
            "a047df87_7c81_4a1c_abc5_99a6eda40f1a.de900d60_7e5c_4f71_aa0a_7e9a2e7522f5.d4cb6566_30c1_470d_9777_8c2d71c6bd8d",
            "a047df87_7c81_4a1c_abc5_99a6eda40f1a.de900d60_7e5c_4f71_aa0a_7e9a2e7522f5.f043bd1e_905e_45bb_b70b_33cc422e7a27",
            "bc3a295e_af26_46d7_9445_63325ab035b8.936d6d8f_0388_448a_8732_257251232ef8.75d51cf9_fc4c_4f0b_9987_0d2ceb58e294",
            "bc3a295e_af26_46d7_9445_63325ab035b8.936d6d8f_0388_448a_8732_257251232ef8.d4cb6566_30c1_470d_9777_8c2d71c6bd8d",
            "bc3a295e_af26_46d7_9445_63325ab035b8.936d6d8f_0388_448a_8732_257251232ef8.f043bd1e_905e_45bb_b70b_33cc422e7a27",
            "c10f79c9_744d_40a5_a272_7cde7ca1f5a6.e3794860_91e1_4d33_b59e_6d32b3608901.75d51cf9_fc4c_4f0b_9987_0d2ceb58e294",
            "c10f79c9_744d_40a5_a272_7cde7ca1f5a6.e3794860_91e1_4d33_b59e_6d32b3608901.d4cb6566_30c1_470d_9777_8c2d71c6bd8d",
            "c10f79c9_744d_40a5_a272_7cde7ca1f5a6.e3794860_91e1_4d33_b59e_6d32b3608901.f043bd1e_905e_45bb_b70b_33cc422e7a27",
            "cbb33199_7896_432f_b0f6_ef45a4650723.9f0e2fee_7ea6_497c_9d2a_9d47a7accb4a.75d51cf9_fc4c_4f0b_9987_0d2ceb58e294",
            "cbb33199_7896_432f_b0f6_ef45a4650723.9f0e2fee_7ea6_497c_9d2a_9d47a7accb4a.d4cb6566_30c1_470d_9777_8c2d71c6bd8d",
            "cbb33199_7896_432f_b0f6_ef45a4650723.9f0e2fee_7ea6_497c_9d2a_9d47a7accb4a.f043bd1e_905e_45bb_b70b_33cc422e7a27",
            "d0b621a6_148d_427d_8aef_b073b11184e1.444b6ff0_2823_4447_9544_c97ff41406c6.75d51cf9_fc4c_4f0b_9987_0d2ceb58e294",
            "d0b621a6_148d_427d_8aef_b073b11184e1.444b6ff0_2823_4447_9544_c97ff41406c6.d4cb6566_30c1_470d_9777_8c2d71c6bd8d",
            "d0b621a6_148d_427d_8aef_b073b11184e1.444b6ff0_2823_4447_9544_c97ff41406c6.f043bd1e_905e_45bb_b70b_33cc422e7a27",
            "da5873de_e112_4f9b_9e0f_149bd1221894.8084c259_152b_4607_808b_0fd0a92973e2.75d51cf9_fc4c_4f0b_9987_0d2ceb58e294",
            "da5873de_e112_4f9b_9e0f_149bd1221894.8084c259_152b_4607_808b_0fd0a92973e2.d4cb6566_30c1_470d_9777_8c2d71c6bd8d",
            "da5873de_e112_4f9b_9e0f_149bd1221894.8084c259_152b_4607_808b_0fd0a92973e2.f043bd1e_905e_45bb_b70b_33cc422e7a27",
            "e700973b_9070_4ec8_9e8d_10cdf1fd209d.9a7697b2_908b_44e2_9d47_24a3c5947254.75d51cf9_fc4c_4f0b_9987_0d2ceb58e294",
            "e700973b_9070_4ec8_9e8d_10cdf1fd209d.9a7697b2_908b_44e2_9d47_24a3c5947254.d4cb6566_30c1_470d_9777_8c2d71c6bd8d",
            "e700973b_9070_4ec8_9e8d_10cdf1fd209d.9a7697b2_908b_44e2_9d47_24a3c5947254.f043bd1e_905e_45bb_b70b_33cc422e7a27",
            "ebb4f301_f353_446c_9b92_19f131e5181d.f6cf4a1e_6056_4f73_9dba_4e01a86113d8.75d51cf9_fc4c_4f0b_9987_0d2ceb58e294",
            "ebb4f301_f353_446c_9b92_19f131e5181d.f6cf4a1e_6056_4f73_9dba_4e01a86113d8.d4cb6566_30c1_470d_9777_8c2d71c6bd8d",
            "ebb4f301_f353_446c_9b92_19f131e5181d.f6cf4a1e_6056_4f73_9dba_4e01a86113d8.f043bd1e_905e_45bb_b70b_33cc422e7a27",
            "f7c06302_3c06_4331_b7ee_6f01946aa788.60befd3c_ef15_481b_ab9a_5e1205e90abc.75d51cf9_fc4c_4f0b_9987_0d2ceb58e294",
            "f7c06302_3c06_4331_b7ee_6f01946aa788.60befd3c_ef15_481b_ab9a_5e1205e90abc.d4cb6566_30c1_470d_9777_8c2d71c6bd8d",
            "f7c06302_3c06_4331_b7ee_6f01946aa788.60befd3c_ef15_481b_ab9a_5e1205e90abc.f043bd1e_905e_45bb_b70b_33cc422e7a27",
            "fd5601fa_5513_4b0a_b935_9817c84319e6.3a3f575d_2d3c_4399_a159_9cfabfb29282.75d51cf9_fc4c_4f0b_9987_0d2ceb58e294",
            "fd5601fa_5513_4b0a_b935_9817c84319e6.3a3f575d_2d3c_4399_a159_9cfabfb29282.d4cb6566_30c1_470d_9777_8c2d71c6bd8d",
            "fd5601fa_5513_4b0a_b935_9817c84319e6.3a3f575d_2d3c_4399_a159_9cfabfb29282.f043bd1e_905e_45bb_b70b_33cc422e7a27",
            "3062fe14_682d_481f_a98e_b217c45c2337.260d58ee_9e0f_4217_ae6c_7204e50b0b0b",
            "3abdac1c_4717_445e_8248_0143c701015a.f5a07a2d_5e03_4a9c_ab12_79feb4d465ae",
            "793f94f9_73d2_4ed2_8ccb_abf4576c2a84.6e595562_95fc_4213_85cd_945697ec6f38",
            "8dbdff35_af3a_4c69_8963_53bdcb33c775.5a8bbc3a_d142_48cd_8c31_a76c56d4cc6f",
            "a047df87_7c81_4a1c_abc5_99a6eda40f1a.4a2d9671_6a0f_4f57_9af7_581cf25c87f9",
            "bc3a295e_af26_46d7_9445_63325ab035b8.1f5a1448_c522_4ef0_995d_37f7861097a4",
            "c10f79c9_744d_40a5_a272_7cde7ca1f5a6.0654bfbd_6249_4bb5_a8fd_4a19da72ad73",
            "ebb4f301_f353_446c_9b92_19f131e5181d.76167b6b_e2fe_4431_8b2a_59b17688b2c0",
            "f7c06302_3c06_4331_b7ee_6f01946aa788.4fc6f966_49b6_4c54_b322_ae66f252078a",
            "fd5601fa_5513_4b0a_b935_9817c84319e6.6b5b413e_aaff_4499_8c4e_8c5ea9fe7766",
            "3abdac1c_4717_445e_8248_0143c701015a.4b3adae1_1b32_4180_bad5_24d40c9726fb",
            "bc3a295e_af26_46d7_9445_63325ab035b8.d17aa466_7355_4d3e_9087_ccdc4c6777ad",
            "c10f79c9_744d_40a5_a272_7cde7ca1f5a6.2a8b4dd8_0a7d_4caf_a200_b9881c915a0a",
            "f7c06302_3c06_4331_b7ee_6f01946aa788.24bb4b39_1401_4218_a4a0_9f943c19be6c",
            "fd5601fa_5513_4b0a_b935_9817c84319e6.5274e12b_7815_4beb_b0e0_1c2cdeebf2f4",
            "124295e4_f6a9_4904_baa2_6bb2752d0059.859193de_a4f3_4707_879c_b8a8188c5f5b.345dacf8_07e0_45c0_b151_c22f407fcc13",
            "124295e4_f6a9_4904_baa2_6bb2752d0059.859193de_a4f3_4707_879c_b8a8188c5f5b.9661bdcc_e598_421d_82f4_97a0dc5863de",
            "124295e4_f6a9_4904_baa2_6bb2752d0059.859193de_a4f3_4707_879c_b8a8188c5f5b.cc4b2230_9874_4b09_92d4_3b0fd4ff9318",
            "3062fe14_682d_481f_a98e_b217c45c2337.b3f637dd_fc6a_48c7_9919_ed48775a743a.345dacf8_07e0_45c0_b151_c22f407fcc13",
            "3062fe14_682d_481f_a98e_b217c45c2337.b3f637dd_fc6a_48c7_9919_ed48775a743a.9661bdcc_e598_421d_82f4_97a0dc5863de",
            "3062fe14_682d_481f_a98e_b217c45c2337.b3f637dd_fc6a_48c7_9919_ed48775a743a.cc4b2230_9874_4b09_92d4_3b0fd4ff9318",
            "3abdac1c_4717_445e_8248_0143c701015a.71bfdedb_73da_4307_9046_dba6e35eabdf.345dacf8_07e0_45c0_b151_c22f407fcc13",
            "3abdac1c_4717_445e_8248_0143c701015a.71bfdedb_73da_4307_9046_dba6e35eabdf.9661bdcc_e598_421d_82f4_97a0dc5863de",
            "3abdac1c_4717_445e_8248_0143c701015a.71bfdedb_73da_4307_9046_dba6e35eabdf.cc4b2230_9874_4b09_92d4_3b0fd4ff9318",
            "554f7ba1_7232_4a12_a2b6_0954976ff3b9.a8a33c70_c979_47b7_aa0a_4a2c14cf89aa.345dacf8_07e0_45c0_b151_c22f407fcc13",
            "554f7ba1_7232_4a12_a2b6_0954976ff3b9.a8a33c70_c979_47b7_aa0a_4a2c14cf89aa.9661bdcc_e598_421d_82f4_97a0dc5863de",
            "554f7ba1_7232_4a12_a2b6_0954976ff3b9.a8a33c70_c979_47b7_aa0a_4a2c14cf89aa.cc4b2230_9874_4b09_92d4_3b0fd4ff9318",
            "5953d8e3_565b_4b29_a498_5ef50f9aefbe.c9640af1_0c83_4ee4_9e18_3dd88f104727.345dacf8_07e0_45c0_b151_c22f407fcc13",
            "5953d8e3_565b_4b29_a498_5ef50f9aefbe.c9640af1_0c83_4ee4_9e18_3dd88f104727.9661bdcc_e598_421d_82f4_97a0dc5863de",
            "5953d8e3_565b_4b29_a498_5ef50f9aefbe.c9640af1_0c83_4ee4_9e18_3dd88f104727.cc4b2230_9874_4b09_92d4_3b0fd4ff9318",
            "793f94f9_73d2_4ed2_8ccb_abf4576c2a84.9a6c9ad4_3c32_4aab_a58e_03ed48e116eb.345dacf8_07e0_45c0_b151_c22f407fcc13",
            "793f94f9_73d2_4ed2_8ccb_abf4576c2a84.9a6c9ad4_3c32_4aab_a58e_03ed48e116eb.9661bdcc_e598_421d_82f4_97a0dc5863de",
            "793f94f9_73d2_4ed2_8ccb_abf4576c2a84.9a6c9ad4_3c32_4aab_a58e_03ed48e116eb.cc4b2230_9874_4b09_92d4_3b0fd4ff9318",
            "8dbdff35_af3a_4c69_8963_53bdcb33c775.0283d8fe_43f1_4d0e_9a53_9dba9dacb759.345dacf8_07e0_45c0_b151_c22f407fcc13",
            "8dbdff35_af3a_4c69_8963_53bdcb33c775.0283d8fe_43f1_4d0e_9a53_9dba9dacb759.9661bdcc_e598_421d_82f4_97a0dc5863de",
            "8dbdff35_af3a_4c69_8963_53bdcb33c775.0283d8fe_43f1_4d0e_9a53_9dba9dacb759.cc4b2230_9874_4b09_92d4_3b0fd4ff9318",
            "951d1945_98d0_4329_9025_dce55687f3a4.7ea99eda_1771_4b77_bd58_81e429a973fa.345dacf8_07e0_45c0_b151_c22f407fcc13",
            "951d1945_98d0_4329_9025_dce55687f3a4.7ea99eda_1771_4b77_bd58_81e429a973fa.9661bdcc_e598_421d_82f4_97a0dc5863de",
            "951d1945_98d0_4329_9025_dce55687f3a4.7ea99eda_1771_4b77_bd58_81e429a973fa.cc4b2230_9874_4b09_92d4_3b0fd4ff9318",
            "a047df87_7c81_4a1c_abc5_99a6eda40f1a.de900d60_7e5c_4f71_aa0a_7e9a2e7522f5.345dacf8_07e0_45c0_b151_c22f407fcc13",
            "a047df87_7c81_4a1c_abc5_99a6eda40f1a.de900d60_7e5c_4f71_aa0a_7e9a2e7522f5.9661bdcc_e598_421d_82f4_97a0dc5863de",
            "a047df87_7c81_4a1c_abc5_99a6eda40f1a.de900d60_7e5c_4f71_aa0a_7e9a2e7522f5.cc4b2230_9874_4b09_92d4_3b0fd4ff9318",
            "bc3a295e_af26_46d7_9445_63325ab035b8.936d6d8f_0388_448a_8732_257251232ef8.345dacf8_07e0_45c0_b151_c22f407fcc13",
            "bc3a295e_af26_46d7_9445_63325ab035b8.936d6d8f_0388_448a_8732_257251232ef8.9661bdcc_e598_421d_82f4_97a0dc5863de",
            "bc3a295e_af26_46d7_9445_63325ab035b8.936d6d8f_0388_448a_8732_257251232ef8.cc4b2230_9874_4b09_92d4_3b0fd4ff9318",
            "c10f79c9_744d_40a5_a272_7cde7ca1f5a6.e3794860_91e1_4d33_b59e_6d32b3608901.345dacf8_07e0_45c0_b151_c22f407fcc13",
            "c10f79c9_744d_40a5_a272_7cde7ca1f5a6.e3794860_91e1_4d33_b59e_6d32b3608901.9661bdcc_e598_421d_82f4_97a0dc5863de",
            "c10f79c9_744d_40a5_a272_7cde7ca1f5a6.e3794860_91e1_4d33_b59e_6d32b3608901.cc4b2230_9874_4b09_92d4_3b0fd4ff9318",
            "cbb33199_7896_432f_b0f6_ef45a4650723.9f0e2fee_7ea6_497c_9d2a_9d47a7accb4a.345dacf8_07e0_45c0_b151_c22f407fcc13",
            "cbb33199_7896_432f_b0f6_ef45a4650723.9f0e2fee_7ea6_497c_9d2a_9d47a7accb4a.9661bdcc_e598_421d_82f4_97a0dc5863de",
            "cbb33199_7896_432f_b0f6_ef45a4650723.9f0e2fee_7ea6_497c_9d2a_9d47a7accb4a.cc4b2230_9874_4b09_92d4_3b0fd4ff9318",
            "d0b621a6_148d_427d_8aef_b073b11184e1.444b6ff0_2823_4447_9544_c97ff41406c6.345dacf8_07e0_45c0_b151_c22f407fcc13",
            "d0b621a6_148d_427d_8aef_b073b11184e1.444b6ff0_2823_4447_9544_c97ff41406c6.9661bdcc_e598_421d_82f4_97a0dc5863de",
            "d0b621a6_148d_427d_8aef_b073b11184e1.444b6ff0_2823_4447_9544_c97ff41406c6.cc4b2230_9874_4b09_92d4_3b0fd4ff9318",
            "da5873de_e112_4f9b_9e0f_149bd1221894.8084c259_152b_4607_808b_0fd0a92973e2.345dacf8_07e0_45c0_b151_c22f407fcc13",
            "da5873de_e112_4f9b_9e0f_149bd1221894.8084c259_152b_4607_808b_0fd0a92973e2.9661bdcc_e598_421d_82f4_97a0dc5863de",
            "da5873de_e112_4f9b_9e0f_149bd1221894.8084c259_152b_4607_808b_0fd0a92973e2.cc4b2230_9874_4b09_92d4_3b0fd4ff9318",
            "e700973b_9070_4ec8_9e8d_10cdf1fd209d.9a7697b2_908b_44e2_9d47_24a3c5947254.345dacf8_07e0_45c0_b151_c22f407fcc13",
            "e700973b_9070_4ec8_9e8d_10cdf1fd209d.9a7697b2_908b_44e2_9d47_24a3c5947254.9661bdcc_e598_421d_82f4_97a0dc5863de",
            "e700973b_9070_4ec8_9e8d_10cdf1fd209d.9a7697b2_908b_44e2_9d47_24a3c5947254.cc4b2230_9874_4b09_92d4_3b0fd4ff9318",
            "ebb4f301_f353_446c_9b92_19f131e5181d.f6cf4a1e_6056_4f73_9dba_4e01a86113d8.345dacf8_07e0_45c0_b151_c22f407fcc13",
            "ebb4f301_f353_446c_9b92_19f131e5181d.f6cf4a1e_6056_4f73_9dba_4e01a86113d8.9661bdcc_e598_421d_82f4_97a0dc5863de",
            "ebb4f301_f353_446c_9b92_19f131e5181d.f6cf4a1e_6056_4f73_9dba_4e01a86113d8.cc4b2230_9874_4b09_92d4_3b0fd4ff9318",
            "f7c06302_3c06_4331_b7ee_6f01946aa788.60befd3c_ef15_481b_ab9a_5e1205e90abc.345dacf8_07e0_45c0_b151_c22f407fcc13",
            "f7c06302_3c06_4331_b7ee_6f01946aa788.60befd3c_ef15_481b_ab9a_5e1205e90abc.9661bdcc_e598_421d_82f4_97a0dc5863de",
            "f7c06302_3c06_4331_b7ee_6f01946aa788.60befd3c_ef15_481b_ab9a_5e1205e90abc.cc4b2230_9874_4b09_92d4_3b0fd4ff9318",
            "fd5601fa_5513_4b0a_b935_9817c84319e6.3a3f575d_2d3c_4399_a159_9cfabfb29282.345dacf8_07e0_45c0_b151_c22f407fcc13",
            "fd5601fa_5513_4b0a_b935_9817c84319e6.3a3f575d_2d3c_4399_a159_9cfabfb29282.9661bdcc_e598_421d_82f4_97a0dc5863de",
            "fd5601fa_5513_4b0a_b935_9817c84319e6.3a3f575d_2d3c_4399_a159_9cfabfb29282.cc4b2230_9874_4b09_92d4_3b0fd4ff9318",
            "124295e4_f6a9_4904_baa2_6bb2752d0059.172a91e5_48d2_4fbc_8c13_c637940b5dd8",
            "124295e4_f6a9_4904_baa2_6bb2752d0059.f9605379_de94_412e_8741_4b29bca81417.73210f0b_d972_48f3_9cea_dd93c1a04303",
            "124295e4_f6a9_4904_baa2_6bb2752d0059.f9605379_de94_412e_8741_4b29bca81417.7b8c0523_d3f0_4ffd_9f2c_f6d70d338c81",
            "3062fe14_682d_481f_a98e_b217c45c2337.1c22a32a_0864_4adf_aa2d_a06e7c121c6b.73210f0b_d972_48f3_9cea_dd93c1a04303",
            "3062fe14_682d_481f_a98e_b217c45c2337.1c22a32a_0864_4adf_aa2d_a06e7c121c6b.7b8c0523_d3f0_4ffd_9f2c_f6d70d338c81",
            "3062fe14_682d_481f_a98e_b217c45c2337.a39d905d_7682_4e42_bd46_b1b62300645f",
            "3abdac1c_4717_445e_8248_0143c701015a.1daaa597_06ba_4f0b_a386_ddeb2a95335a.73210f0b_d972_48f3_9cea_dd93c1a04303",
            "3abdac1c_4717_445e_8248_0143c701015a.1daaa597_06ba_4f0b_a386_ddeb2a95335a.7b8c0523_d3f0_4ffd_9f2c_f6d70d338c81",
            "3abdac1c_4717_445e_8248_0143c701015a.7a8a7921_f3a0_48ae_b593_11582e2e4bb0",
            "3abdac1c_4717_445e_8248_0143c701015a.834aede8_edb0_4c25_9a39_f747934774e0",
            "554f7ba1_7232_4a12_a2b6_0954976ff3b9.3e7a669d_72d7_4026_a4e0_1e5c9c36fcd2",
            "554f7ba1_7232_4a12_a2b6_0954976ff3b9.6688319f_ebfe_4449_b09c_48b227b00a11.73210f0b_d972_48f3_9cea_dd93c1a04303",
            "554f7ba1_7232_4a12_a2b6_0954976ff3b9.6688319f_ebfe_4449_b09c_48b227b00a11.7b8c0523_d3f0_4ffd_9f2c_f6d70d338c81",
            "5953d8e3_565b_4b29_a498_5ef50f9aefbe.9ee5549b_1896_4bff_b711_9f99cb47fc52.73210f0b_d972_48f3_9cea_dd93c1a04303",
            "5953d8e3_565b_4b29_a498_5ef50f9aefbe.9ee5549b_1896_4bff_b711_9f99cb47fc52.7b8c0523_d3f0_4ffd_9f2c_f6d70d338c81",
            "5953d8e3_565b_4b29_a498_5ef50f9aefbe.ce100d52_4f3d_4f17_b82b_ea425dfb41a9",
            "793f94f9_73d2_4ed2_8ccb_abf4576c2a84.06d2f814_1ca9_4431_a5ba_1557250d731a.73210f0b_d972_48f3_9cea_dd93c1a04303",
            "793f94f9_73d2_4ed2_8ccb_abf4576c2a84.06d2f814_1ca9_4431_a5ba_1557250d731a.7b8c0523_d3f0_4ffd_9f2c_f6d70d338c81",
            "793f94f9_73d2_4ed2_8ccb_abf4576c2a84.59e5a887_42a1_4dcd_a1d7_d79419f52f31",
            "8dbdff35_af3a_4c69_8963_53bdcb33c775.24704e21_0099_4948_b5e1_6d99c8057e47",
            "8dbdff35_af3a_4c69_8963_53bdcb33c775.941d8049_84c9_450a_8a91_c3eea5b8ea56.73210f0b_d972_48f3_9cea_dd93c1a04303",
            "8dbdff35_af3a_4c69_8963_53bdcb33c775.941d8049_84c9_450a_8a91_c3eea5b8ea56.7b8c0523_d3f0_4ffd_9f2c_f6d70d338c81",
            "8f8996ae_8dd4_4a45_bed9_7757fa6907db.7eae592e_94bb_49f8_9d28_dafbc9987a88",
            "8f8996ae_8dd4_4a45_bed9_7757fa6907db.b7336fe4_3eab_4f38_bf8f_fbc827e18da4",
            "951d1945_98d0_4329_9025_dce55687f3a4.0e0ba491_3a05_42eb_a10f_a567a2d9425a.73210f0b_d972_48f3_9cea_dd93c1a04303",
            "951d1945_98d0_4329_9025_dce55687f3a4.0e0ba491_3a05_42eb_a10f_a567a2d9425a.7b8c0523_d3f0_4ffd_9f2c_f6d70d338c81",
            "951d1945_98d0_4329_9025_dce55687f3a4.ef43b8c1_88c2_4bc1_b148_53ad4414fbdc",
            "a047df87_7c81_4a1c_abc5_99a6eda40f1a.23955269_2a1a_4f54_afcb_4e8cce56ffdd.73210f0b_d972_48f3_9cea_dd93c1a04303",
            "a047df87_7c81_4a1c_abc5_99a6eda40f1a.23955269_2a1a_4f54_afcb_4e8cce56ffdd.7b8c0523_d3f0_4ffd_9f2c_f6d70d338c81",
            "a047df87_7c81_4a1c_abc5_99a6eda40f1a.8f401c8c_4bc0_4448_b80f_21f74663ecef",
            "bc3a295e_af26_46d7_9445_63325ab035b8.78e0ce77_c6a5_47ce_8a12_230ffd06599a.73210f0b_d972_48f3_9cea_dd93c1a04303",
            "bc3a295e_af26_46d7_9445_63325ab035b8.78e0ce77_c6a5_47ce_8a12_230ffd06599a.7b8c0523_d3f0_4ffd_9f2c_f6d70d338c81",
            "bc3a295e_af26_46d7_9445_63325ab035b8.7df6b5c1_1464_4d5a_be1e_58327565a043",
            "c10f79c9_744d_40a5_a272_7cde7ca1f5a6.eecea823_7751_4732_afcc_8422b2036a3a",
            "cbb33199_7896_432f_b0f6_ef45a4650723.5e3de4d2_7ae6_4bff_a291_dc9fb4ec8cc2",
            "cbb33199_7896_432f_b0f6_ef45a4650723.ce5d9471_bf65_4117_a6a8_9b7f26664235.73210f0b_d972_48f3_9cea_dd93c1a04303",
            "cbb33199_7896_432f_b0f6_ef45a4650723.ce5d9471_bf65_4117_a6a8_9b7f26664235.7b8c0523_d3f0_4ffd_9f2c_f6d70d338c81",
            "d0b621a6_148d_427d_8aef_b073b11184e1.d9cb95c6_28d3_4848_8324_4b3deec25274",
            "d0b621a6_148d_427d_8aef_b073b11184e1.f7adbf32_0d36_479f_8068_2e955625c9b2.73210f0b_d972_48f3_9cea_dd93c1a04303",
            "d0b621a6_148d_427d_8aef_b073b11184e1.f7adbf32_0d36_479f_8068_2e955625c9b2.7b8c0523_d3f0_4ffd_9f2c_f6d70d338c81",
            "da5873de_e112_4f9b_9e0f_149bd1221894.351ed972_375b_4b15_82e1_d0f7625d7f4b.73210f0b_d972_48f3_9cea_dd93c1a04303",
            "da5873de_e112_4f9b_9e0f_149bd1221894.351ed972_375b_4b15_82e1_d0f7625d7f4b.7b8c0523_d3f0_4ffd_9f2c_f6d70d338c81",
            "da5873de_e112_4f9b_9e0f_149bd1221894.6df30f3c_a953_4232_b83b_242de530ace3",
            "e700973b_9070_4ec8_9e8d_10cdf1fd209d.8421f3ef_6cbe_4eff_84cd_9df22a4edd13.73210f0b_d972_48f3_9cea_dd93c1a04303",
            "e700973b_9070_4ec8_9e8d_10cdf1fd209d.8421f3ef_6cbe_4eff_84cd_9df22a4edd13.7b8c0523_d3f0_4ffd_9f2c_f6d70d338c81",
            "e700973b_9070_4ec8_9e8d_10cdf1fd209d.d3dbd193_d260_4ca8_b6f1_124fca9ffc27",
            "ebb4f301_f353_446c_9b92_19f131e5181d.64841685_1a8e_4cc4_aa63_ab7a9ffbba17",
            "ebb4f301_f353_446c_9b92_19f131e5181d.ed94673a_d1d2_4bae_88c7_e72ea95e0a3f.73210f0b_d972_48f3_9cea_dd93c1a04303",
            "ebb4f301_f353_446c_9b92_19f131e5181d.ed94673a_d1d2_4bae_88c7_e72ea95e0a3f.7b8c0523_d3f0_4ffd_9f2c_f6d70d338c81",
            "f7c06302_3c06_4331_b7ee_6f01946aa788.90c9ca09_f3b2_4df4_9819_876e99205529.73210f0b_d972_48f3_9cea_dd93c1a04303",
            "f7c06302_3c06_4331_b7ee_6f01946aa788.90c9ca09_f3b2_4df4_9819_876e99205529.7b8c0523_d3f0_4ffd_9f2c_f6d70d338c81",
            "f7c06302_3c06_4331_b7ee_6f01946aa788.a5144d9e_77cd_4dee_8fd5_ac7d984c04b4",
            "08ff7ae0_acef_4f4d_8328_2de484a6d5e1.080e0472_a061_4e7b_b5cd_e176a51e482d",
            "08ff7ae0_acef_4f4d_8328_2de484a6d5e1.68518b4e_7c35_4f7e_8c1f_6eb8cbf6c6d4",
            "3abdac1c_4717_445e_8248_0143c701015a.b9f01054_e14c_4d95_a7f5_77130239fa75",
            "47f9140d_38d8_4391_9aa1_08973d4b6370.39059a9a_d6f9_4433_8619_ac54b5f6b014",
            "47f9140d_38d8_4391_9aa1_08973d4b6370.410e261e_a3f0_4a2f_8d9f_5268a012fe9c",
            "bc3a295e_af26_46d7_9445_63325ab035b8.ba3f6927_cb27_4bd1_b354_90c7c5af2e75",
            "c10f79c9_744d_40a5_a272_7cde7ca1f5a6.1b47bdc9_74ed_405c_8653_aecb4fe76c9b",
            "c10f79c9_744d_40a5_a272_7cde7ca1f5a6.91e817fb_0048_4353_88f9_dc551aaaa440",
            "f7c06302_3c06_4331_b7ee_6f01946aa788.67fbec65_b1ef_4eb9_a1e6_65e7f116d3c0",
            "fd5601fa_5513_4b0a_b935_9817c84319e6.16849f54_6d6d_4a07_b312_9fe525331a92",
            "fd5601fa_5513_4b0a_b935_9817c84319e6.f5faf9d5_cec5_4a29_8526_ed141f688972",
            "124295e4_f6a9_4904_baa2_6bb2752d0059.aca1fa56_1299_4a7d_b712_c7e430a7d36c",
            "3062fe14_682d_481f_a98e_b217c45c2337.f7d288b7_bfee_415e_8b54_ebd575218e55",
            "3abdac1c_4717_445e_8248_0143c701015a.0bdda151_6998_4715_a962_bd4075d9bdec",
            "554f7ba1_7232_4a12_a2b6_0954976ff3b9.f00eba9f_6573_415a_ae7e_2d6a166dcf34",
            "5953d8e3_565b_4b29_a498_5ef50f9aefbe.636d0697_09fe_4e2a_9134_c6d23c1db03f",
            "793f94f9_73d2_4ed2_8ccb_abf4576c2a84.bb061051_8b46_4d59_8a8c_3e2c466a7424",
            "8dbdff35_af3a_4c69_8963_53bdcb33c775.ce66c526_64fb_492d_a43b_d8b1f22b35d0",
            "8f8996ae_8dd4_4a45_bed9_7757fa6907db.039b7852_e965_4469_95a3_6fcc09e5147e",
            "951d1945_98d0_4329_9025_dce55687f3a4.8b000366_cc6f_41e8_b997_c4bfb11fa701",
            "a047df87_7c81_4a1c_abc5_99a6eda40f1a.c011b1ca_90a6_457b_976f_6b69ab0de570",
            "bc3a295e_af26_46d7_9445_63325ab035b8.1cb69f10_e2ec_46df_9a5b_0d293f1c9ce7",
            "c10f79c9_744d_40a5_a272_7cde7ca1f5a6.012b93b4_cb2c_4f56_86fa_8bc6b4d39cdd",
            "cbb33199_7896_432f_b0f6_ef45a4650723.979eddbf_1d5e_43ce_bec3_fafe4b79566d",
            "d0b621a6_148d_427d_8aef_b073b11184e1.ae224b2b_8482_4474_8d08_be952968f42c",
            "d64b9bc0_e6b3_4556_acda_8040d33b7148.94708c06_7cab_491c_ac16_fabcc3f9fe4e",
            "da5873de_e112_4f9b_9e0f_149bd1221894.c71f745b_6f14_4e4f_921a_c4fc2cc46ec6",
            "e700973b_9070_4ec8_9e8d_10cdf1fd209d.94ebac20_7c60_4139_9a50_7e1e8cefe718",
            "ebb4f301_f353_446c_9b92_19f131e5181d.c94d7c43_11fd_4c5a_9942_9261d858e218",
            "f7c06302_3c06_4331_b7ee_6f01946aa788.a44d3bb0_49ea_4f97_a40f_3a941eb5d901",
            "fd5601fa_5513_4b0a_b935_9817c84319e6.02c26aed_2ca2_4f18_b86f_4297e1b31ba0",
            "1ca047e2_b601_4ba7_a579_abcfa7a45ea7.905fe508_239a_4ff6_9616_f4d60c1818f9",
            "3abdac1c_4717_445e_8248_0143c701015a.f05b3cec_4259_439c_b5e9_9b70d843bfb1",
            "bc3a295e_af26_46d7_9445_63325ab035b8.6fe38251_759a_43cf_94d2_d33296c8b4c8",
            "c10f79c9_744d_40a5_a272_7cde7ca1f5a6.cf9c438c_8afb_4819_b7c6_46ec2f650a62",
            "f7c06302_3c06_4331_b7ee_6f01946aa788.6a282474_b5da_494d_be6b_e1a0e7c8f3be",
            "fd5601fa_5513_4b0a_b935_9817c84319e6.58334e18_7ff0_43d9_9fd7_be611d623a5f",
            "1ca047e2_b601_4ba7_a579_abcfa7a45ea7.a48e2b92_9b73_4fbf_99d7_3fa6824903ff",
            "3abdac1c_4717_445e_8248_0143c701015a.2bae117f_38cc_4a0c_8662_04b19fe3277d",
            "bc3a295e_af26_46d7_9445_63325ab035b8.d33b6eb3_5b84_4e98_a1cd_546105794982",
            "c10f79c9_744d_40a5_a272_7cde7ca1f5a6.11d10266_9cb9_41dd_b9d4_dc29593aca76",
            "f7c06302_3c06_4331_b7ee_6f01946aa788.4a637b58_1770_4c13_9450_d5ad754ba624",
            "fd5601fa_5513_4b0a_b935_9817c84319e6.462820ea_ad24_48ff_9e2a_dee6c06172b8",
            "08ff7ae0_acef_4f4d_8328_2de484a6d5e1.4b9cb49f_ccb6_4c07_9d2c_f8221f0a2e22",
            "47f9140d_38d8_4391_9aa1_08973d4b6370.9f0c23cb_44a3_4e66_9f1c_4946a9dd8010",
            "309e9e63_9468_410a_ae6d_cd87d74a391f",
            "3b51f563_f7fb_4782_8c83_360a40ea6a5f",
            "8e370303_befe_4856_92ac_f5a26877728f",
            "a31f5463_d862_41bf_9945_a938216fcb32",
            "c7bfcd6d_b0a6_4298_b49d_550066004496",
            "a31374ca_9eb8_4ffe_8fa2_51035d36aaba",
            "124295e4_f6a9_4904_baa2_6bb2752d0059.859193de_a4f3_4707_879c_b8a8188c5f5b.292353e0_4db5_4ee1_a0b6_99a2446e5a68",
            "124295e4_f6a9_4904_baa2_6bb2752d0059.859193de_a4f3_4707_879c_b8a8188c5f5b.c1ddc422_0faa_4dfb_9eb9_074f8b9281e6",
            "124295e4_f6a9_4904_baa2_6bb2752d0059.859193de_a4f3_4707_879c_b8a8188c5f5b.c534d2ad_f93c_4741_8503_e4fa0c79ccae",
            "124295e4_f6a9_4904_baa2_6bb2752d0059.859193de_a4f3_4707_879c_b8a8188c5f5b.ca485062_e6af_41f3_8e24_eced3bef0c87",
            "124295e4_f6a9_4904_baa2_6bb2752d0059.859193de_a4f3_4707_879c_b8a8188c5f5b.fbf312d9_84e6_4d92_90e4_66457501404d",
            "1af5f6f9_15b1_4a62_962e_0ede16373202.1fb09601_408e_4074_98c5_e7a082e0bc58",
            "1af5f6f9_15b1_4a62_962e_0ede16373202.7b4f5802_1349_46b9_838d_b6bf2e847bdf",
            "3062fe14_682d_481f_a98e_b217c45c2337.b3f637dd_fc6a_48c7_9919_ed48775a743a.292353e0_4db5_4ee1_a0b6_99a2446e5a68",
            "3062fe14_682d_481f_a98e_b217c45c2337.b3f637dd_fc6a_48c7_9919_ed48775a743a.c1ddc422_0faa_4dfb_9eb9_074f8b9281e6",
            "3062fe14_682d_481f_a98e_b217c45c2337.b3f637dd_fc6a_48c7_9919_ed48775a743a.c534d2ad_f93c_4741_8503_e4fa0c79ccae",
            "3062fe14_682d_481f_a98e_b217c45c2337.b3f637dd_fc6a_48c7_9919_ed48775a743a.ca485062_e6af_41f3_8e24_eced3bef0c87",
            "3062fe14_682d_481f_a98e_b217c45c2337.b3f637dd_fc6a_48c7_9919_ed48775a743a.fbf312d9_84e6_4d92_90e4_66457501404d",
            "3abdac1c_4717_445e_8248_0143c701015a.71bfdedb_73da_4307_9046_dba6e35eabdf.292353e0_4db5_4ee1_a0b6_99a2446e5a68",
            "3abdac1c_4717_445e_8248_0143c701015a.71bfdedb_73da_4307_9046_dba6e35eabdf.c1ddc422_0faa_4dfb_9eb9_074f8b9281e6",
            "3abdac1c_4717_445e_8248_0143c701015a.71bfdedb_73da_4307_9046_dba6e35eabdf.c534d2ad_f93c_4741_8503_e4fa0c79ccae",
            "3abdac1c_4717_445e_8248_0143c701015a.71bfdedb_73da_4307_9046_dba6e35eabdf.ca485062_e6af_41f3_8e24_eced3bef0c87",
            "3abdac1c_4717_445e_8248_0143c701015a.71bfdedb_73da_4307_9046_dba6e35eabdf.fbf312d9_84e6_4d92_90e4_66457501404d",
            "554f7ba1_7232_4a12_a2b6_0954976ff3b9.a8a33c70_c979_47b7_aa0a_4a2c14cf89aa.292353e0_4db5_4ee1_a0b6_99a2446e5a68",
            "554f7ba1_7232_4a12_a2b6_0954976ff3b9.a8a33c70_c979_47b7_aa0a_4a2c14cf89aa.c1ddc422_0faa_4dfb_9eb9_074f8b9281e6",
            "554f7ba1_7232_4a12_a2b6_0954976ff3b9.a8a33c70_c979_47b7_aa0a_4a2c14cf89aa.c534d2ad_f93c_4741_8503_e4fa0c79ccae",
            "554f7ba1_7232_4a12_a2b6_0954976ff3b9.a8a33c70_c979_47b7_aa0a_4a2c14cf89aa.ca485062_e6af_41f3_8e24_eced3bef0c87",
            "554f7ba1_7232_4a12_a2b6_0954976ff3b9.a8a33c70_c979_47b7_aa0a_4a2c14cf89aa.fbf312d9_84e6_4d92_90e4_66457501404d",
            "5953d8e3_565b_4b29_a498_5ef50f9aefbe.c9640af1_0c83_4ee4_9e18_3dd88f104727.292353e0_4db5_4ee1_a0b6_99a2446e5a68",
            "5953d8e3_565b_4b29_a498_5ef50f9aefbe.c9640af1_0c83_4ee4_9e18_3dd88f104727.c1ddc422_0faa_4dfb_9eb9_074f8b9281e6",
            "5953d8e3_565b_4b29_a498_5ef50f9aefbe.c9640af1_0c83_4ee4_9e18_3dd88f104727.c534d2ad_f93c_4741_8503_e4fa0c79ccae",
            "5953d8e3_565b_4b29_a498_5ef50f9aefbe.c9640af1_0c83_4ee4_9e18_3dd88f104727.ca485062_e6af_41f3_8e24_eced3bef0c87",
            "5953d8e3_565b_4b29_a498_5ef50f9aefbe.c9640af1_0c83_4ee4_9e18_3dd88f104727.fbf312d9_84e6_4d92_90e4_66457501404d",
            "6b498416_1218_453d_a09e_64a2e2aebe24.1fb09601_408e_4074_98c5_e7a082e0bc58",
            "6b498416_1218_453d_a09e_64a2e2aebe24.7b4f5802_1349_46b9_838d_b6bf2e847bdf",
            "70d05bb1_6810_435a_bcac_8166afba0ba6.1fb09601_408e_4074_98c5_e7a082e0bc58",
            "70d05bb1_6810_435a_bcac_8166afba0ba6.7b4f5802_1349_46b9_838d_b6bf2e847bdf",
            "793f94f9_73d2_4ed2_8ccb_abf4576c2a84.9a6c9ad4_3c32_4aab_a58e_03ed48e116eb.292353e0_4db5_4ee1_a0b6_99a2446e5a68",
            "793f94f9_73d2_4ed2_8ccb_abf4576c2a84.9a6c9ad4_3c32_4aab_a58e_03ed48e116eb.c1ddc422_0faa_4dfb_9eb9_074f8b9281e6",
            "793f94f9_73d2_4ed2_8ccb_abf4576c2a84.9a6c9ad4_3c32_4aab_a58e_03ed48e116eb.c534d2ad_f93c_4741_8503_e4fa0c79ccae",
            "793f94f9_73d2_4ed2_8ccb_abf4576c2a84.9a6c9ad4_3c32_4aab_a58e_03ed48e116eb.ca485062_e6af_41f3_8e24_eced3bef0c87",
            "793f94f9_73d2_4ed2_8ccb_abf4576c2a84.9a6c9ad4_3c32_4aab_a58e_03ed48e116eb.fbf312d9_84e6_4d92_90e4_66457501404d",
            "7b630b30_400a_413b_9d29_b0b98688dac5.1fb09601_408e_4074_98c5_e7a082e0bc58",
            "7b630b30_400a_413b_9d29_b0b98688dac5.7b4f5802_1349_46b9_838d_b6bf2e847bdf",
            "8dbdff35_af3a_4c69_8963_53bdcb33c775.0283d8fe_43f1_4d0e_9a53_9dba9dacb759.292353e0_4db5_4ee1_a0b6_99a2446e5a68",
            "8dbdff35_af3a_4c69_8963_53bdcb33c775.0283d8fe_43f1_4d0e_9a53_9dba9dacb759.c1ddc422_0faa_4dfb_9eb9_074f8b9281e6",
            "8dbdff35_af3a_4c69_8963_53bdcb33c775.0283d8fe_43f1_4d0e_9a53_9dba9dacb759.c534d2ad_f93c_4741_8503_e4fa0c79ccae",
            "8dbdff35_af3a_4c69_8963_53bdcb33c775.0283d8fe_43f1_4d0e_9a53_9dba9dacb759.ca485062_e6af_41f3_8e24_eced3bef0c87",
            "8dbdff35_af3a_4c69_8963_53bdcb33c775.0283d8fe_43f1_4d0e_9a53_9dba9dacb759.fbf312d9_84e6_4d92_90e4_66457501404d",
            "951d1945_98d0_4329_9025_dce55687f3a4.7ea99eda_1771_4b77_bd58_81e429a973fa.292353e0_4db5_4ee1_a0b6_99a2446e5a68",
            "951d1945_98d0_4329_9025_dce55687f3a4.7ea99eda_1771_4b77_bd58_81e429a973fa.c1ddc422_0faa_4dfb_9eb9_074f8b9281e6",
            "951d1945_98d0_4329_9025_dce55687f3a4.7ea99eda_1771_4b77_bd58_81e429a973fa.c534d2ad_f93c_4741_8503_e4fa0c79ccae",
            "951d1945_98d0_4329_9025_dce55687f3a4.7ea99eda_1771_4b77_bd58_81e429a973fa.ca485062_e6af_41f3_8e24_eced3bef0c87",
            "951d1945_98d0_4329_9025_dce55687f3a4.7ea99eda_1771_4b77_bd58_81e429a973fa.fbf312d9_84e6_4d92_90e4_66457501404d",
            "a047df87_7c81_4a1c_abc5_99a6eda40f1a.de900d60_7e5c_4f71_aa0a_7e9a2e7522f5.292353e0_4db5_4ee1_a0b6_99a2446e5a68",
            "a047df87_7c81_4a1c_abc5_99a6eda40f1a.de900d60_7e5c_4f71_aa0a_7e9a2e7522f5.c1ddc422_0faa_4dfb_9eb9_074f8b9281e6",
            "a047df87_7c81_4a1c_abc5_99a6eda40f1a.de900d60_7e5c_4f71_aa0a_7e9a2e7522f5.c534d2ad_f93c_4741_8503_e4fa0c79ccae",
            "a047df87_7c81_4a1c_abc5_99a6eda40f1a.de900d60_7e5c_4f71_aa0a_7e9a2e7522f5.ca485062_e6af_41f3_8e24_eced3bef0c87",
            "a047df87_7c81_4a1c_abc5_99a6eda40f1a.de900d60_7e5c_4f71_aa0a_7e9a2e7522f5.fbf312d9_84e6_4d92_90e4_66457501404d",
            "bb8bdc58_4098_4ba0_a92d_907dad26eaab.1fb09601_408e_4074_98c5_e7a082e0bc58",
            "bb8bdc58_4098_4ba0_a92d_907dad26eaab.7b4f5802_1349_46b9_838d_b6bf2e847bdf",
            "bc3a295e_af26_46d7_9445_63325ab035b8.936d6d8f_0388_448a_8732_257251232ef8.292353e0_4db5_4ee1_a0b6_99a2446e5a68",
            "bc3a295e_af26_46d7_9445_63325ab035b8.936d6d8f_0388_448a_8732_257251232ef8.c1ddc422_0faa_4dfb_9eb9_074f8b9281e6",
            "bc3a295e_af26_46d7_9445_63325ab035b8.936d6d8f_0388_448a_8732_257251232ef8.c534d2ad_f93c_4741_8503_e4fa0c79ccae",
            "bc3a295e_af26_46d7_9445_63325ab035b8.936d6d8f_0388_448a_8732_257251232ef8.ca485062_e6af_41f3_8e24_eced3bef0c87",
            "bc3a295e_af26_46d7_9445_63325ab035b8.936d6d8f_0388_448a_8732_257251232ef8.fbf312d9_84e6_4d92_90e4_66457501404d",
            "c10f79c9_744d_40a5_a272_7cde7ca1f5a6.e3794860_91e1_4d33_b59e_6d32b3608901.292353e0_4db5_4ee1_a0b6_99a2446e5a68",
            "c10f79c9_744d_40a5_a272_7cde7ca1f5a6.e3794860_91e1_4d33_b59e_6d32b3608901.c1ddc422_0faa_4dfb_9eb9_074f8b9281e6",
            "c10f79c9_744d_40a5_a272_7cde7ca1f5a6.e3794860_91e1_4d33_b59e_6d32b3608901.c534d2ad_f93c_4741_8503_e4fa0c79ccae",
            "c10f79c9_744d_40a5_a272_7cde7ca1f5a6.e3794860_91e1_4d33_b59e_6d32b3608901.ca485062_e6af_41f3_8e24_eced3bef0c87",
            "c10f79c9_744d_40a5_a272_7cde7ca1f5a6.e3794860_91e1_4d33_b59e_6d32b3608901.fbf312d9_84e6_4d92_90e4_66457501404d",
            "ca7e8a8e_ee4e_4a39_9c81_5f4ffb0a0189",
            "cbb33199_7896_432f_b0f6_ef45a4650723.9f0e2fee_7ea6_497c_9d2a_9d47a7accb4a.292353e0_4db5_4ee1_a0b6_99a2446e5a68",
            "cbb33199_7896_432f_b0f6_ef45a4650723.9f0e2fee_7ea6_497c_9d2a_9d47a7accb4a.c1ddc422_0faa_4dfb_9eb9_074f8b9281e6",
            "cbb33199_7896_432f_b0f6_ef45a4650723.9f0e2fee_7ea6_497c_9d2a_9d47a7accb4a.c534d2ad_f93c_4741_8503_e4fa0c79ccae",
            "cbb33199_7896_432f_b0f6_ef45a4650723.9f0e2fee_7ea6_497c_9d2a_9d47a7accb4a.ca485062_e6af_41f3_8e24_eced3bef0c87",
            "cbb33199_7896_432f_b0f6_ef45a4650723.9f0e2fee_7ea6_497c_9d2a_9d47a7accb4a.fbf312d9_84e6_4d92_90e4_66457501404d",
            "d0b621a6_148d_427d_8aef_b073b11184e1.444b6ff0_2823_4447_9544_c97ff41406c6.292353e0_4db5_4ee1_a0b6_99a2446e5a68",
            "d0b621a6_148d_427d_8aef_b073b11184e1.444b6ff0_2823_4447_9544_c97ff41406c6.c1ddc422_0faa_4dfb_9eb9_074f8b9281e6",
            "d0b621a6_148d_427d_8aef_b073b11184e1.444b6ff0_2823_4447_9544_c97ff41406c6.c534d2ad_f93c_4741_8503_e4fa0c79ccae",
            "d0b621a6_148d_427d_8aef_b073b11184e1.444b6ff0_2823_4447_9544_c97ff41406c6.ca485062_e6af_41f3_8e24_eced3bef0c87",
            "d0b621a6_148d_427d_8aef_b073b11184e1.444b6ff0_2823_4447_9544_c97ff41406c6.fbf312d9_84e6_4d92_90e4_66457501404d",
            "d64b9bc0_e6b3_4556_acda_8040d33b7148.80a359a1_b323_43c9_a585_a1e870c26cab",
            "d64b9bc0_e6b3_4556_acda_8040d33b7148.acd1825b_3d24_4522_8eeb_afa3935131f0",
            "d64b9bc0_e6b3_4556_acda_8040d33b7148.bc357f2e_04de_4d58_849e_bb2f496e5e9e",
            "d64b9bc0_e6b3_4556_acda_8040d33b7148.d646b102_cad2_4c43_852c_6f4e04ca0b01.7b8c0523_d3f0_4ffd_9f2c_f6d70d338c81",
            "da5873de_e112_4f9b_9e0f_149bd1221894.8084c259_152b_4607_808b_0fd0a92973e2.292353e0_4db5_4ee1_a0b6_99a2446e5a68",
            "da5873de_e112_4f9b_9e0f_149bd1221894.8084c259_152b_4607_808b_0fd0a92973e2.c1ddc422_0faa_4dfb_9eb9_074f8b9281e6",
            "da5873de_e112_4f9b_9e0f_149bd1221894.8084c259_152b_4607_808b_0fd0a92973e2.c534d2ad_f93c_4741_8503_e4fa0c79ccae",
            "da5873de_e112_4f9b_9e0f_149bd1221894.8084c259_152b_4607_808b_0fd0a92973e2.ca485062_e6af_41f3_8e24_eced3bef0c87",
            "da5873de_e112_4f9b_9e0f_149bd1221894.8084c259_152b_4607_808b_0fd0a92973e2.fbf312d9_84e6_4d92_90e4_66457501404d",
            "e700973b_9070_4ec8_9e8d_10cdf1fd209d.9a7697b2_908b_44e2_9d47_24a3c5947254.292353e0_4db5_4ee1_a0b6_99a2446e5a68",
            "e700973b_9070_4ec8_9e8d_10cdf1fd209d.9a7697b2_908b_44e2_9d47_24a3c5947254.c1ddc422_0faa_4dfb_9eb9_074f8b9281e6",
            "e700973b_9070_4ec8_9e8d_10cdf1fd209d.9a7697b2_908b_44e2_9d47_24a3c5947254.c534d2ad_f93c_4741_8503_e4fa0c79ccae",
            "e700973b_9070_4ec8_9e8d_10cdf1fd209d.9a7697b2_908b_44e2_9d47_24a3c5947254.ca485062_e6af_41f3_8e24_eced3bef0c87",
            "e700973b_9070_4ec8_9e8d_10cdf1fd209d.9a7697b2_908b_44e2_9d47_24a3c5947254.fbf312d9_84e6_4d92_90e4_66457501404d",
            "ebb4f301_f353_446c_9b92_19f131e5181d.f6cf4a1e_6056_4f73_9dba_4e01a86113d8.292353e0_4db5_4ee1_a0b6_99a2446e5a68",
            "ebb4f301_f353_446c_9b92_19f131e5181d.f6cf4a1e_6056_4f73_9dba_4e01a86113d8.c1ddc422_0faa_4dfb_9eb9_074f8b9281e6",
            "ebb4f301_f353_446c_9b92_19f131e5181d.f6cf4a1e_6056_4f73_9dba_4e01a86113d8.c534d2ad_f93c_4741_8503_e4fa0c79ccae",
            "ebb4f301_f353_446c_9b92_19f131e5181d.f6cf4a1e_6056_4f73_9dba_4e01a86113d8.ca485062_e6af_41f3_8e24_eced3bef0c87",
            "ebb4f301_f353_446c_9b92_19f131e5181d.f6cf4a1e_6056_4f73_9dba_4e01a86113d8.fbf312d9_84e6_4d92_90e4_66457501404d",
            "f7c06302_3c06_4331_b7ee_6f01946aa788.60befd3c_ef15_481b_ab9a_5e1205e90abc.292353e0_4db5_4ee1_a0b6_99a2446e5a68",
            "f7c06302_3c06_4331_b7ee_6f01946aa788.60befd3c_ef15_481b_ab9a_5e1205e90abc.c1ddc422_0faa_4dfb_9eb9_074f8b9281e6",
            "f7c06302_3c06_4331_b7ee_6f01946aa788.60befd3c_ef15_481b_ab9a_5e1205e90abc.c534d2ad_f93c_4741_8503_e4fa0c79ccae",
            "f7c06302_3c06_4331_b7ee_6f01946aa788.60befd3c_ef15_481b_ab9a_5e1205e90abc.ca485062_e6af_41f3_8e24_eced3bef0c87",
            "f7c06302_3c06_4331_b7ee_6f01946aa788.60befd3c_ef15_481b_ab9a_5e1205e90abc.fbf312d9_84e6_4d92_90e4_66457501404d",
            "fd5601fa_5513_4b0a_b935_9817c84319e6.3a3f575d_2d3c_4399_a159_9cfabfb29282.292353e0_4db5_4ee1_a0b6_99a2446e5a68",
            "fd5601fa_5513_4b0a_b935_9817c84319e6.3a3f575d_2d3c_4399_a159_9cfabfb29282.c1ddc422_0faa_4dfb_9eb9_074f8b9281e6",
            "fd5601fa_5513_4b0a_b935_9817c84319e6.3a3f575d_2d3c_4399_a159_9cfabfb29282.c534d2ad_f93c_4741_8503_e4fa0c79ccae",
            "fd5601fa_5513_4b0a_b935_9817c84319e6.3a3f575d_2d3c_4399_a159_9cfabfb29282.ca485062_e6af_41f3_8e24_eced3bef0c87",
            "fd5601fa_5513_4b0a_b935_9817c84319e6.3a3f575d_2d3c_4399_a159_9cfabfb29282.fbf312d9_84e6_4d92_90e4_66457501404d",
            "124295e4_f6a9_4904_baa2_6bb2752d0059.092ca3e0_181a_4850_a7e1_51357b61966c",
            "124295e4_f6a9_4904_baa2_6bb2752d0059.b718b5f2_4c49_436f_8c2d_dacce4a07311",
            "3062fe14_682d_481f_a98e_b217c45c2337.05245071_95e5_47d4_af20_017b1d3800e8",
            "3062fe14_682d_481f_a98e_b217c45c2337.98b2d649_6f9e_40b5_acf9_17cd849875d8",
            "3abdac1c_4717_445e_8248_0143c701015a.0be68eb1_3f5f_4fbe_975e_6259422057f4",
            "3abdac1c_4717_445e_8248_0143c701015a.faf2965e_6edd_4149_ad97_37747f77a700",
            "554f7ba1_7232_4a12_a2b6_0954976ff3b9.b5a47f4f_4f3f_4f3b_a528_ba4c506cfe86",
            "554f7ba1_7232_4a12_a2b6_0954976ff3b9.e4d07c69_bf73_44c3_ba35_537ba041551f",
            "5953d8e3_565b_4b29_a498_5ef50f9aefbe.1bafce2d_4e81_4763_8488_4218cd2983e0",
            "5953d8e3_565b_4b29_a498_5ef50f9aefbe.aa83e3b3_07b9_4793_88cc_08f67f522e08",
            "793f94f9_73d2_4ed2_8ccb_abf4576c2a84.315de3ce_5982_4dec_87ef_b2f4feb421e6",
            "793f94f9_73d2_4ed2_8ccb_abf4576c2a84.799b4d3c_e095_4657_a22c_ded962ce07d0",
            "8dbdff35_af3a_4c69_8963_53bdcb33c775.24bdc701_5e82_49d9_8663_9fb3312f81c4",
            "8dbdff35_af3a_4c69_8963_53bdcb33c775.254a7e7f_a859_405b_8ede_5bc939f2b84d",
            "951d1945_98d0_4329_9025_dce55687f3a4.c8c4cb2a_cc76_4685_b52f_dc3c8af01dc9",
            "951d1945_98d0_4329_9025_dce55687f3a4.d0a9e2e0_8e50_42ef_8775_b1e8170881d8",
            "a047df87_7c81_4a1c_abc5_99a6eda40f1a.5e5e3795_6054_422e_b3c4_f5623993fc9d",
            "a047df87_7c81_4a1c_abc5_99a6eda40f1a.f85f0692_6ef7_4640_8442_241da9d8464d",
            "bc3a295e_af26_46d7_9445_63325ab035b8.2db44878_9a00_4015_b0a6_a79bbb6c498b",
            "bc3a295e_af26_46d7_9445_63325ab035b8.4b36bfa7_ced3_4c4b_a145_b9aefaaff4ac",
            "c10f79c9_744d_40a5_a272_7cde7ca1f5a6.0feaf9d9_924e_42dc_9bfc_aad29a54d56f",
            "c10f79c9_744d_40a5_a272_7cde7ca1f5a6.f81f9843_b9c5_45ba_b1fc_00ecb34928ff",
            "cbb33199_7896_432f_b0f6_ef45a4650723.54c65e2b_d5be_45bb_a10f_093294a424fd",
            "cbb33199_7896_432f_b0f6_ef45a4650723.98aaff7e_e57e_49d8_a700_455398624d00",
            "d0b621a6_148d_427d_8aef_b073b11184e1.179ba3d6_27ae_44bb_98a6_bf718d4b6de6",
            "d0b621a6_148d_427d_8aef_b073b11184e1.9e1450f7_fcf6_41c8_82b6_756c7dba7064",
            "da5873de_e112_4f9b_9e0f_149bd1221894.40af461d_acdb_4c4e_8036_3d4f24959c7b",
            "da5873de_e112_4f9b_9e0f_149bd1221894.8b340bf3_c30f_45ed_8224_1b19f1fdbc78",
            "e700973b_9070_4ec8_9e8d_10cdf1fd209d.15506928_103f_49cf_982d_ff4bcc72dba4",
            "e700973b_9070_4ec8_9e8d_10cdf1fd209d.663ed313_4b9d_4e9f_a67b_ec6ddb025a1a",
            "ebb4f301_f353_446c_9b92_19f131e5181d.40f734b2_8c72_4c61_b31d_a81caaf60b5d",
            "ebb4f301_f353_446c_9b92_19f131e5181d.d85d20c8_42c8_405a_b904_dffd4d29cbb8",
            "f7c06302_3c06_4331_b7ee_6f01946aa788.0e9786bf_f1e7_4e16_a018_73c84a7ba2fa",
            "f7c06302_3c06_4331_b7ee_6f01946aa788.dfc92986_ec8d_41af_b421_095ee18dafad",
            "fd5601fa_5513_4b0a_b935_9817c84319e6.20d9ea99_3a3b_4fa0_a089_b6f27e65b70c",
            "fd5601fa_5513_4b0a_b935_9817c84319e6.3a51de3f_2b93_4c03_bdbe_cee37748b998",
            "124295e4_f6a9_4904_baa2_6bb2752d0059.859193de_a4f3_4707_879c_b8a8188c5f5b.df34251f_78ab_4f7b_8e8b_75ed453cbe89",
            "3062fe14_682d_481f_a98e_b217c45c2337.b3f637dd_fc6a_48c7_9919_ed48775a743a.df34251f_78ab_4f7b_8e8b_75ed453cbe89",
            "3abdac1c_4717_445e_8248_0143c701015a.71bfdedb_73da_4307_9046_dba6e35eabdf.df34251f_78ab_4f7b_8e8b_75ed453cbe89",
            "554f7ba1_7232_4a12_a2b6_0954976ff3b9.a8a33c70_c979_47b7_aa0a_4a2c14cf89aa.df34251f_78ab_4f7b_8e8b_75ed453cbe89",
            "5953d8e3_565b_4b29_a498_5ef50f9aefbe.c9640af1_0c83_4ee4_9e18_3dd88f104727.df34251f_78ab_4f7b_8e8b_75ed453cbe89",
            "793f94f9_73d2_4ed2_8ccb_abf4576c2a84.9a6c9ad4_3c32_4aab_a58e_03ed48e116eb.df34251f_78ab_4f7b_8e8b_75ed453cbe89",
            "8dbdff35_af3a_4c69_8963_53bdcb33c775.0283d8fe_43f1_4d0e_9a53_9dba9dacb759.df34251f_78ab_4f7b_8e8b_75ed453cbe89",
            "951d1945_98d0_4329_9025_dce55687f3a4.7ea99eda_1771_4b77_bd58_81e429a973fa.df34251f_78ab_4f7b_8e8b_75ed453cbe89",
            "a047df87_7c81_4a1c_abc5_99a6eda40f1a.de900d60_7e5c_4f71_aa0a_7e9a2e7522f5.df34251f_78ab_4f7b_8e8b_75ed453cbe89",
            "bc3a295e_af26_46d7_9445_63325ab035b8.936d6d8f_0388_448a_8732_257251232ef8.df34251f_78ab_4f7b_8e8b_75ed453cbe89",
            "c10f79c9_744d_40a5_a272_7cde7ca1f5a6.e3794860_91e1_4d33_b59e_6d32b3608901.df34251f_78ab_4f7b_8e8b_75ed453cbe89",
            "cbb33199_7896_432f_b0f6_ef45a4650723.9f0e2fee_7ea6_497c_9d2a_9d47a7accb4a.df34251f_78ab_4f7b_8e8b_75ed453cbe89",
            "d0b621a6_148d_427d_8aef_b073b11184e1.444b6ff0_2823_4447_9544_c97ff41406c6.df34251f_78ab_4f7b_8e8b_75ed453cbe89",
            "da5873de_e112_4f9b_9e0f_149bd1221894.8084c259_152b_4607_808b_0fd0a92973e2.df34251f_78ab_4f7b_8e8b_75ed453cbe89",
            "e700973b_9070_4ec8_9e8d_10cdf1fd209d.9a7697b2_908b_44e2_9d47_24a3c5947254.df34251f_78ab_4f7b_8e8b_75ed453cbe89",
            "ebb4f301_f353_446c_9b92_19f131e5181d.f6cf4a1e_6056_4f73_9dba_4e01a86113d8.df34251f_78ab_4f7b_8e8b_75ed453cbe89",
            "f7c06302_3c06_4331_b7ee_6f01946aa788.60befd3c_ef15_481b_ab9a_5e1205e90abc.df34251f_78ab_4f7b_8e8b_75ed453cbe89",
            "fd5601fa_5513_4b0a_b935_9817c84319e6.3a3f575d_2d3c_4399_a159_9cfabfb29282.df34251f_78ab_4f7b_8e8b_75ed453cbe89",
            "124295e4_f6a9_4904_baa2_6bb2752d0059.f9605379_de94_412e_8741_4b29bca81417.c60338a8_5ddd_414c_9ac3_829ea890dc0e",
            "3062fe14_682d_481f_a98e_b217c45c2337.1c22a32a_0864_4adf_aa2d_a06e7c121c6b.c60338a8_5ddd_414c_9ac3_829ea890dc0e",
            "3abdac1c_4717_445e_8248_0143c701015a.1daaa597_06ba_4f0b_a386_ddeb2a95335a.c60338a8_5ddd_414c_9ac3_829ea890dc0e",
            "554f7ba1_7232_4a12_a2b6_0954976ff3b9.6688319f_ebfe_4449_b09c_48b227b00a11.c60338a8_5ddd_414c_9ac3_829ea890dc0e",
            "5953d8e3_565b_4b29_a498_5ef50f9aefbe.9ee5549b_1896_4bff_b711_9f99cb47fc52.c60338a8_5ddd_414c_9ac3_829ea890dc0e",
            "793f94f9_73d2_4ed2_8ccb_abf4576c2a84.06d2f814_1ca9_4431_a5ba_1557250d731a.c60338a8_5ddd_414c_9ac3_829ea890dc0e",
            "8dbdff35_af3a_4c69_8963_53bdcb33c775.941d8049_84c9_450a_8a91_c3eea5b8ea56.c60338a8_5ddd_414c_9ac3_829ea890dc0e",
            "951d1945_98d0_4329_9025_dce55687f3a4.0e0ba491_3a05_42eb_a10f_a567a2d9425a.c60338a8_5ddd_414c_9ac3_829ea890dc0e",
            "a047df87_7c81_4a1c_abc5_99a6eda40f1a.23955269_2a1a_4f54_afcb_4e8cce56ffdd.c60338a8_5ddd_414c_9ac3_829ea890dc0e",
            "bc3a295e_af26_46d7_9445_63325ab035b8.78e0ce77_c6a5_47ce_8a12_230ffd06599a.c60338a8_5ddd_414c_9ac3_829ea890dc0e",
            "cbb33199_7896_432f_b0f6_ef45a4650723.ce5d9471_bf65_4117_a6a8_9b7f26664235.c60338a8_5ddd_414c_9ac3_829ea890dc0e",
            "d0b621a6_148d_427d_8aef_b073b11184e1.f7adbf32_0d36_479f_8068_2e955625c9b2.c60338a8_5ddd_414c_9ac3_829ea890dc0e",
            "da5873de_e112_4f9b_9e0f_149bd1221894.351ed972_375b_4b15_82e1_d0f7625d7f4b.c60338a8_5ddd_414c_9ac3_829ea890dc0e",
            "e700973b_9070_4ec8_9e8d_10cdf1fd209d.8421f3ef_6cbe_4eff_84cd_9df22a4edd13.c60338a8_5ddd_414c_9ac3_829ea890dc0e",
            "ebb4f301_f353_446c_9b92_19f131e5181d.ed94673a_d1d2_4bae_88c7_e72ea95e0a3f.c60338a8_5ddd_414c_9ac3_829ea890dc0e",
            "f7c06302_3c06_4331_b7ee_6f01946aa788.90c9ca09_f3b2_4df4_9819_876e99205529.c60338a8_5ddd_414c_9ac3_829ea890dc0e",
            "1ca047e2_b601_4ba7_a579_abcfa7a45ea7.45f29b60_00a0_4fa6_93cf_ae0a04872711",
            "3b373634_2461_4b61_8bcb_068c12b7e1a8.0150c610_728a_4f05_a81d_9e86c17ccc8c",
            "3b373634_2461_4b61_8bcb_068c12b7e1a8.e7fe5d9b_519a_492e_8d3f_9735743644bd",
            "3b373634_2461_4b61_8bcb_068c12b7e1a8.fd502573_5625_4a52_840d_9e57f934adb6",
            "506f355b_ec0d_4763_8082_5d022dcf6153.0150c610_728a_4f05_a81d_9e86c17ccc8c",
            "506f355b_ec0d_4763_8082_5d022dcf6153.e7fe5d9b_519a_492e_8d3f_9735743644bd",
            "506f355b_ec0d_4763_8082_5d022dcf6153.fd502573_5625_4a52_840d_9e57f934adb6",
            "d02c6fdd_ce6b_44a1_b193_1ede85e7d4c8.11c987b4_223f_4d61_beaf_8b10ec3a3b2d",
            "d02c6fdd_ce6b_44a1_b193_1ede85e7d4c8.87389995_27ad_49a8_bf1b_5f25b117ce56",
            "d02c6fdd_ce6b_44a1_b193_1ede85e7d4c8.cbd54644_e644_4743_a015_7b53af377a11",
            "d02c6fdd_ce6b_44a1_b193_1ede85e7d4c8.f2091c19_8d0b_4d5d_983f_a3f335adfc8c",
            "083cc4dd_e831_416e_8066_271b9e938cad",
            "24494cc9_c59e_43dd_898e_4438fe626545",
            "289d2f33_65ac_4c4f_a6e5_1d14cb608749",
            "2d2e2dd0_3925_4f9f_91ba_c63d0f98dca4",
            "348e9a75_2bf1_42ab_bd03_d780f05f99bb",
            "68b3266f_360c_4bbf_9eef_873275c8671a",
            "77ed0326_d17a_4f8e_93d5_8d2b1af950c4",
            "95c89f03_18bb_4698_98fa_5a9abcbe50bf",
            "a486f3cd_85b2_4e44_ba49_0ef7467c9336",
            "db209cac_3b6a_4a8c_9771_8043a5f5dbaf",
            "08ff7ae0_acef_4f4d_8328_2de484a6d5e1.35b58a5c_c7a0_474e_9bb7_945567112b3f",
            "47f9140d_38d8_4391_9aa1_08973d4b6370.890ba12b_2800_43c2_8aa5_7291afd796a5",
            "d02c6fdd_ce6b_44a1_b193_1ede85e7d4c8.d0a77ae4_734b_4a4c_bff7_66ecdfd8e3af",
            "124295e4_f6a9_4904_baa2_6bb2752d0059.2a4ae9ff_2595_4614_894f_cb7e39bf36a7",
            "3062fe14_682d_481f_a98e_b217c45c2337.b5d96cbd_5254_4185_a8f2_b2f093eadd81",
            "3abdac1c_4717_445e_8248_0143c701015a.733e2b28_9e03_4186_a60b_4d5d089414ba",
            "3abdac1c_4717_445e_8248_0143c701015a.b7c63b49_e818_42ad_b867_1c2ae429f264",
            "554f7ba1_7232_4a12_a2b6_0954976ff3b9.a0812711_4b5c_45db_8f28_4addba2e1f0a",
            "5953d8e3_565b_4b29_a498_5ef50f9aefbe.62c0de72_e407_40e5_a526_56d512db78c7",
            "793f94f9_73d2_4ed2_8ccb_abf4576c2a84.0acadeb6_2b5e_4e88_87d0_bbf85e63d38a",
            "8dbdff35_af3a_4c69_8963_53bdcb33c775.418326e3_98a5_4cb5_8e24_160c3d33b813",
            "8f8996ae_8dd4_4a45_bed9_7757fa6907db.0b836588_96b1_47d9_9abe_ae6ef6718a06",
            "951d1945_98d0_4329_9025_dce55687f3a4.43a2661b_f333_447d_99d4_e21db64eaf2a",
            "a047df87_7c81_4a1c_abc5_99a6eda40f1a.2002a748_adce_49b7_9cad_d500844c9fbf",
            "bc3a295e_af26_46d7_9445_63325ab035b8.e01d215a_6ee9_45b4_84aa_079220101038",
            "c10f79c9_744d_40a5_a272_7cde7ca1f5a6.eb67d269_f4a3_40c0_851e_66bd89efb0da",
            "cbb33199_7896_432f_b0f6_ef45a4650723.673b534f_db1a_4d18_91d5_8b1baad9003f",
            "d0b621a6_148d_427d_8aef_b073b11184e1.83e18766_4ebb_492f_96eb_c94e48462ccf",
            "da5873de_e112_4f9b_9e0f_149bd1221894.80372541_e15b_439f_8046_fc563933e535",
            "e700973b_9070_4ec8_9e8d_10cdf1fd209d.ac7b342f_110e_40ff_8289_17f28e53d217",
            "ebb4f301_f353_446c_9b92_19f131e5181d.b74b25c5_1a79_41ef_a65f_284b53e5b005",
            "f7c06302_3c06_4331_b7ee_6f01946aa788.eb0689d0_e21a_476f_a64c_ddde508b11d4",
            "fd5601fa_5513_4b0a_b935_9817c84319e6.fba8d4de_1824_4977_98b2_b6fff0b269b0",
            "3b373634_2461_4b61_8bcb_068c12b7e1a8.d4581c33_9f26_436e_ba16_1fc524631b6f",
            "506f355b_ec0d_4763_8082_5d022dcf6153.e67c2bd5_77d8_4b17_8f49_506dd8473a7c",
            "d02c6fdd_ce6b_44a1_b193_1ede85e7d4c8.0150c610_728a_4f05_a81d_9e86c17ccc8c",
            "08ff7ae0_acef_4f4d_8328_2de484a6d5e1.c1a9a09c_434d_491b_836d_f3eec5671dbc",
            "47f9140d_38d8_4391_9aa1_08973d4b6370.64beb3ae_380d_4540_9275_4cf58aee84f9",
            "d02c6fdd_ce6b_44a1_b193_1ede85e7d4c8.e7fe5d9b_519a_492e_8d3f_9735743644bd",
            "d02c6fdd_ce6b_44a1_b193_1ede85e7d4c8.fd502573_5625_4a52_840d_9e57f934adb6",
            "03e2251b_c111_4c04_b8e2_93438d160457",
            "113d9eb5_17d2_4765_a366_0c2d0ce82ef3",
            "186b8696_d2fd_42c3_b0ef_269f95f4a3e8",
            "3ceb8d68_28c8_48db_a111_2c9d95871a6f",
            "58020af8_807c_41b5_989e_d88aee138305",
            "5aff232c_6c24_4b0a_a98c_6711dc5d981b",
            "6027c053_c6d5_4994_a38b_145baf58d9c4",
            "6c119dba_607b_4f9d_b3dd_51a681a65cf3",
            "6cce0b59_04f7_4b0f_aefb_2dea14760451",
            "82c5b316_25d7_48b1_81e8_89e74d443bfa",
            "a5dd93c8_135f_44d2_b904_dfd010201275",
            "abe5a9d2_b956_4b21_845b_ad9199f0b4c2",
            "ad7fa926_609c_4acd_aef1_e09802ccc8f2",
            "b03129a1_58a8_4b23_a389_bde27bf4567b",
            "d6b99f32_1416_4e4c_939f_9c71b90b2df8",
            "e94bb92b_fbaf_4280_aaae_e3241ee6e6f8",
            "ef551267_c7ee_4e63_a4ff_b384e2c6713e",
            "fdfd6a32_8ed1_4ffc_a8ae_15d9c8c8989a",
            "1c88dea7_7d7e_44c9_94db_b3f1121a7920",
            "124295e4_f6a9_4904_baa2_6bb2752d0059.859193de_a4f3_4707_879c_b8a8188c5f5b.04fa8942_55b0_41fb_9cfc_66d087d70245",
            "3062fe14_682d_481f_a98e_b217c45c2337.b3f637dd_fc6a_48c7_9919_ed48775a743a.04fa8942_55b0_41fb_9cfc_66d087d70245",
            "3abdac1c_4717_445e_8248_0143c701015a.71bfdedb_73da_4307_9046_dba6e35eabdf.04fa8942_55b0_41fb_9cfc_66d087d70245",
            "554f7ba1_7232_4a12_a2b6_0954976ff3b9.a8a33c70_c979_47b7_aa0a_4a2c14cf89aa.04fa8942_55b0_41fb_9cfc_66d087d70245",
            "5953d8e3_565b_4b29_a498_5ef50f9aefbe.c9640af1_0c83_4ee4_9e18_3dd88f104727.04fa8942_55b0_41fb_9cfc_66d087d70245",
            "793f94f9_73d2_4ed2_8ccb_abf4576c2a84.9a6c9ad4_3c32_4aab_a58e_03ed48e116eb.04fa8942_55b0_41fb_9cfc_66d087d70245",
            "8dbdff35_af3a_4c69_8963_53bdcb33c775.0283d8fe_43f1_4d0e_9a53_9dba9dacb759.04fa8942_55b0_41fb_9cfc_66d087d70245",
            "951d1945_98d0_4329_9025_dce55687f3a4.7ea99eda_1771_4b77_bd58_81e429a973fa.04fa8942_55b0_41fb_9cfc_66d087d70245",
            "a047df87_7c81_4a1c_abc5_99a6eda40f1a.de900d60_7e5c_4f71_aa0a_7e9a2e7522f5.04fa8942_55b0_41fb_9cfc_66d087d70245",
            "bc3a295e_af26_46d7_9445_63325ab035b8.936d6d8f_0388_448a_8732_257251232ef8.04fa8942_55b0_41fb_9cfc_66d087d70245",
            "c10f79c9_744d_40a5_a272_7cde7ca1f5a6.e3794860_91e1_4d33_b59e_6d32b3608901.04fa8942_55b0_41fb_9cfc_66d087d70245",
            "cbb33199_7896_432f_b0f6_ef45a4650723.9f0e2fee_7ea6_497c_9d2a_9d47a7accb4a.04fa8942_55b0_41fb_9cfc_66d087d70245",
            "d0b621a6_148d_427d_8aef_b073b11184e1.444b6ff0_2823_4447_9544_c97ff41406c6.04fa8942_55b0_41fb_9cfc_66d087d70245",
            "da5873de_e112_4f9b_9e0f_149bd1221894.8084c259_152b_4607_808b_0fd0a92973e2.04fa8942_55b0_41fb_9cfc_66d087d70245",
            "e700973b_9070_4ec8_9e8d_10cdf1fd209d.9a7697b2_908b_44e2_9d47_24a3c5947254.04fa8942_55b0_41fb_9cfc_66d087d70245",
            "ebb4f301_f353_446c_9b92_19f131e5181d.f6cf4a1e_6056_4f73_9dba_4e01a86113d8.04fa8942_55b0_41fb_9cfc_66d087d70245",
            "f7c06302_3c06_4331_b7ee_6f01946aa788.60befd3c_ef15_481b_ab9a_5e1205e90abc.04fa8942_55b0_41fb_9cfc_66d087d70245",
            "fd5601fa_5513_4b0a_b935_9817c84319e6.3a3f575d_2d3c_4399_a159_9cfabfb29282.04fa8942_55b0_41fb_9cfc_66d087d70245",
            "08ff7ae0_acef_4f4d_8328_2de484a6d5e1.b6505e76_94b4_433a_beaf_6017544b4592",
            "08ff7ae0_acef_4f4d_8328_2de484a6d5e1.c426826a_4671_43fa_a7c9_059a1be86541",
            "08ff7ae0_acef_4f4d_8328_2de484a6d5e1.c5544a98_fb48_414e_b3ba_c5ee0d8aeda4",
            "124295e4_f6a9_4904_baa2_6bb2752d0059.22726d96_34bc_4849_92a7_824ffabd4d72",
            "3062fe14_682d_481f_a98e_b217c45c2337.544cc617_8e14_41ca_b372_0e04d5e3bf12",
            "3abdac1c_4717_445e_8248_0143c701015a.7b2a4102_7d96_4a56_b52a_f2e22621d94a",
            "3abdac1c_4717_445e_8248_0143c701015a.c1dbecdd_2162_46ab_9839_007c10f92a09",
            "3abdac1c_4717_445e_8248_0143c701015a.fe9b1bb1_d4aa_468d_8f44_96a044ccd676",
            "47f9140d_38d8_4391_9aa1_08973d4b6370.33c495f2_9eb2_4587_8529_af39cedd32ac",
            "554f7ba1_7232_4a12_a2b6_0954976ff3b9.2d5f3770_15f6_41af_8e2b_3c8baac10f33",
            "5953d8e3_565b_4b29_a498_5ef50f9aefbe.c950d52c_d3f8_4b12_bb48_245d4e16e803",
            "793f94f9_73d2_4ed2_8ccb_abf4576c2a84.c5a1c310_72e5_4114_8654_7c97f4dae729",
            "8dbdff35_af3a_4c69_8963_53bdcb33c775.4f44dcd3_3f27_4e29_afe1_b217a0de9698",
            "8f8996ae_8dd4_4a45_bed9_7757fa6907db.1bf84ef9_7dc9_43f6_8c64_46357add1f9d",
            "8f8996ae_8dd4_4a45_bed9_7757fa6907db.46405a59_456b_4f61_8005_a73aab9150b4",
            "8f8996ae_8dd4_4a45_bed9_7757fa6907db.60147e27_507b_46e5_ae58_f7bbb242098e",
            "8f8996ae_8dd4_4a45_bed9_7757fa6907db.e6fd0b85_594b_4282_87fc_a0d390b75e51",
            "8f8996ae_8dd4_4a45_bed9_7757fa6907db.f34afc85_d1ee_4dfb_964f_8f3abad76614",
            "951d1945_98d0_4329_9025_dce55687f3a4.8c9c7dd9_1ed2_44fa_8d85_a58231fb660c",
            "a047df87_7c81_4a1c_abc5_99a6eda40f1a.7cf41241_f764_4165_b83d_fd0fb9af7684",
            "a623c910_08ec_4a6f_95ff_d6c28ead53ca.2305ed3a_0648_4501_ad77_fb03cd49be07",
            "bc3a295e_af26_46d7_9445_63325ab035b8.df99a06d_83f2_4000_a4a2_8a0cfc3ba952",
            "c10f79c9_744d_40a5_a272_7cde7ca1f5a6.310591fc_a3a8_4225_b371_959c2430c4d4",
            "c10f79c9_744d_40a5_a272_7cde7ca1f5a6.f59da42f_3979_47fa_9a62_7d073323a985",
            "cbb33199_7896_432f_b0f6_ef45a4650723.197ba5f8_759e_4177_bacc_891fb39384c3",
            "d0b621a6_148d_427d_8aef_b073b11184e1.896473fa_bfd5_466b_bd12_2962450790e1",
            "da5873de_e112_4f9b_9e0f_149bd1221894.e3479c33_7d89_4c02_9d8c_394e856b6d91",
            "e700973b_9070_4ec8_9e8d_10cdf1fd209d.ebb5aa94_3063_4865_b93d_14bcdab5b215",
            "ebb4f301_f353_446c_9b92_19f131e5181d.25a13945_4b43_43d2_bc21_e56afaffabd5",
            "f7c06302_3c06_4331_b7ee_6f01946aa788.aabca30b_669f_4028_95bc_efc73fac6d08",
            "fd5601fa_5513_4b0a_b935_9817c84319e6.c8fc55af_3199_49e4_9245_cfbb4348e110",
            "d64b9bc0_e6b3_4556_acda_8040d33b7148.054c5261_b483_48ff_a47c_97a7e9ce9880",
            "d64b9bc0_e6b3_4556_acda_8040d33b7148.0685a60a_9bce_4c0c_b68c_b7ae310dc149",
            "d64b9bc0_e6b3_4556_acda_8040d33b7148.13e04147_c9f3_43ce_a20a_45469f499030",
            "d64b9bc0_e6b3_4556_acda_8040d33b7148.1e39b32b_c387_4950_9269_62058bcbd7ad",
            "d64b9bc0_e6b3_4556_acda_8040d33b7148.26df9086_6531_406a_9fce_faaea4c4eeff",
            "d64b9bc0_e6b3_4556_acda_8040d33b7148.398480da_80d9_43f6_b796_d60002d3c63c",
            "d64b9bc0_e6b3_4556_acda_8040d33b7148.7b2d8b7e_bdfe_4837_93a8_2e71770258bf",
            "d64b9bc0_e6b3_4556_acda_8040d33b7148.7cdaf176_3062_4111_94f5_27ed2998a8eb",
            "d64b9bc0_e6b3_4556_acda_8040d33b7148.87cc7e8f_a2fa_4a46_9e18_002ad1f6984e",
            "d64b9bc0_e6b3_4556_acda_8040d33b7148.bf975320_a43e_43cc_86bc_a82983f735ec",
            "d64b9bc0_e6b3_4556_acda_8040d33b7148.c3257189_2c5f_4fba_8179_d08a3d6f5a94",
            "d64b9bc0_e6b3_4556_acda_8040d33b7148.c76e3d65_8b3a_4b18_8f73_ab3608a678a9",
            "d64b9bc0_e6b3_4556_acda_8040d33b7148.d1076877_aa60_4a48_9656_db0250342795",
            "d64b9bc0_e6b3_4556_acda_8040d33b7148.d2513e19_a7e7_4767_b1a9_0b41c9c99662",
            "d64b9bc0_e6b3_4556_acda_8040d33b7148.d6c2bf91_b015_4f44_8483_a0d72288ce38",
            "d64b9bc0_e6b3_4556_acda_8040d33b7148.df674f3d_795e_4d86_898e_6ec4f8a75347",
            "d64b9bc0_e6b3_4556_acda_8040d33b7148.eb39c7d4_f6e4_4cb4_9f18_96e0019eef5d",
            "d64b9bc0_e6b3_4556_acda_8040d33b7148.ef595a99_8c11_4b0d_971a_61c6d6044de8",
            "124295e4_f6a9_4904_baa2_6bb2752d0059.859193de_a4f3_4707_879c_b8a8188c5f5b.d851e5bd_1766_4aae_a571_d5070bcc3493",
            "3062fe14_682d_481f_a98e_b217c45c2337.b3f637dd_fc6a_48c7_9919_ed48775a743a.d851e5bd_1766_4aae_a571_d5070bcc3493",
            "3abdac1c_4717_445e_8248_0143c701015a.71bfdedb_73da_4307_9046_dba6e35eabdf.d851e5bd_1766_4aae_a571_d5070bcc3493",
            "554f7ba1_7232_4a12_a2b6_0954976ff3b9.a8a33c70_c979_47b7_aa0a_4a2c14cf89aa.d851e5bd_1766_4aae_a571_d5070bcc3493",
            "5953d8e3_565b_4b29_a498_5ef50f9aefbe.c9640af1_0c83_4ee4_9e18_3dd88f104727.d851e5bd_1766_4aae_a571_d5070bcc3493",
            "793f94f9_73d2_4ed2_8ccb_abf4576c2a84.9a6c9ad4_3c32_4aab_a58e_03ed48e116eb.d851e5bd_1766_4aae_a571_d5070bcc3493",
            "8dbdff35_af3a_4c69_8963_53bdcb33c775.0283d8fe_43f1_4d0e_9a53_9dba9dacb759.d851e5bd_1766_4aae_a571_d5070bcc3493",
            "951d1945_98d0_4329_9025_dce55687f3a4.7ea99eda_1771_4b77_bd58_81e429a973fa.d851e5bd_1766_4aae_a571_d5070bcc3493",
            "a047df87_7c81_4a1c_abc5_99a6eda40f1a.de900d60_7e5c_4f71_aa0a_7e9a2e7522f5.d851e5bd_1766_4aae_a571_d5070bcc3493",
            "bc3a295e_af26_46d7_9445_63325ab035b8.936d6d8f_0388_448a_8732_257251232ef8.d851e5bd_1766_4aae_a571_d5070bcc3493",
            "c10f79c9_744d_40a5_a272_7cde7ca1f5a6.e3794860_91e1_4d33_b59e_6d32b3608901.d851e5bd_1766_4aae_a571_d5070bcc3493",
            "cbb33199_7896_432f_b0f6_ef45a4650723.9f0e2fee_7ea6_497c_9d2a_9d47a7accb4a.d851e5bd_1766_4aae_a571_d5070bcc3493",
            "d0b621a6_148d_427d_8aef_b073b11184e1.444b6ff0_2823_4447_9544_c97ff41406c6.d851e5bd_1766_4aae_a571_d5070bcc3493",
            "da5873de_e112_4f9b_9e0f_149bd1221894.8084c259_152b_4607_808b_0fd0a92973e2.d851e5bd_1766_4aae_a571_d5070bcc3493",
            "e700973b_9070_4ec8_9e8d_10cdf1fd209d.9a7697b2_908b_44e2_9d47_24a3c5947254.d851e5bd_1766_4aae_a571_d5070bcc3493",
            "ebb4f301_f353_446c_9b92_19f131e5181d.f6cf4a1e_6056_4f73_9dba_4e01a86113d8.d851e5bd_1766_4aae_a571_d5070bcc3493",
            "f7c06302_3c06_4331_b7ee_6f01946aa788.60befd3c_ef15_481b_ab9a_5e1205e90abc.d851e5bd_1766_4aae_a571_d5070bcc3493",
            "fd5601fa_5513_4b0a_b935_9817c84319e6.3a3f575d_2d3c_4399_a159_9cfabfb29282.d851e5bd_1766_4aae_a571_d5070bcc3493",
            "47f9140d_38d8_4391_9aa1_08973d4b6370.095e2246_dd98_4fbe_aabb_bb72caa924ff",
            "1ca047e2_b601_4ba7_a579_abcfa7a45ea7.20fe1042_be9d_4550_abc9_1c9947a57f72",
            "1ca047e2_b601_4ba7_a579_abcfa7a45ea7.7db45373_727c_4019_8f6d_c50cd077dfdb",
            "1ca047e2_b601_4ba7_a579_abcfa7a45ea7.877e414e_8296_4a67_bd68_daaeb82fac75",
            "1ca047e2_b601_4ba7_a579_abcfa7a45ea7.c65464e9_74cb_4bc9_ae46_2e7dcefd7182",
            "2b6bd5c2_ff3b_4c3f_9403_598e2e15e289",
            "53a9a82f_a668_4334_a74d_f0b200ee11a5",
            "b1b7a5e9_d43a_4060_b822_6dd70adf9331",
            "c0f9af3f_8754_4118_97cc_6da6f4484353",
            "e4676dec_a89f_4314_ade5_e6285ab800ef",
            "febc01f1_d709_4c5d_a5c0_d1c3545c73af",
            "1af5f6f9_15b1_4a62_962e_0ede16373202.22ce6a56_6e92_414e_b70d_0deb2be5cc54",
            "1af5f6f9_15b1_4a62_962e_0ede16373202.9032ecc7_e32a_44de_859c_bf8b64c6ae8a",
            "1af5f6f9_15b1_4a62_962e_0ede16373202.a8dcfdcf_d834_43f2_8db6_ebc13f3c0049",
            "1af5f6f9_15b1_4a62_962e_0ede16373202.de95bdb2_ea14_4a4f_9b67_1492db07096c",
            "1af5f6f9_15b1_4a62_962e_0ede16373202.f1ecaee4_72c9_4199_b357_9a40f2c3a9e2",
            "1af5f6f9_15b1_4a62_962e_0ede16373202.f3fd55d7_811c_4eb1_8a5e_fc7921ad1f6d",
            "22ce6a56_6e92_414e_b70d_0deb2be5cc54",
            "6b498416_1218_453d_a09e_64a2e2aebe24.22ce6a56_6e92_414e_b70d_0deb2be5cc54",
            "6b498416_1218_453d_a09e_64a2e2aebe24.9032ecc7_e32a_44de_859c_bf8b64c6ae8a",
            "6b498416_1218_453d_a09e_64a2e2aebe24.a8dcfdcf_d834_43f2_8db6_ebc13f3c0049",
            "6b498416_1218_453d_a09e_64a2e2aebe24.de95bdb2_ea14_4a4f_9b67_1492db07096c",
            "6b498416_1218_453d_a09e_64a2e2aebe24.f1ecaee4_72c9_4199_b357_9a40f2c3a9e2",
            "6b498416_1218_453d_a09e_64a2e2aebe24.f3fd55d7_811c_4eb1_8a5e_fc7921ad1f6d",
            "70d05bb1_6810_435a_bcac_8166afba0ba6.22ce6a56_6e92_414e_b70d_0deb2be5cc54",
            "70d05bb1_6810_435a_bcac_8166afba0ba6.9032ecc7_e32a_44de_859c_bf8b64c6ae8a",
            "70d05bb1_6810_435a_bcac_8166afba0ba6.a8dcfdcf_d834_43f2_8db6_ebc13f3c0049",
            "70d05bb1_6810_435a_bcac_8166afba0ba6.de95bdb2_ea14_4a4f_9b67_1492db07096c",
            "70d05bb1_6810_435a_bcac_8166afba0ba6.f1ecaee4_72c9_4199_b357_9a40f2c3a9e2",
            "70d05bb1_6810_435a_bcac_8166afba0ba6.f3fd55d7_811c_4eb1_8a5e_fc7921ad1f6d",
            "7b630b30_400a_413b_9d29_b0b98688dac5.22ce6a56_6e92_414e_b70d_0deb2be5cc54",
            "7b630b30_400a_413b_9d29_b0b98688dac5.9032ecc7_e32a_44de_859c_bf8b64c6ae8a",
            "7b630b30_400a_413b_9d29_b0b98688dac5.a8dcfdcf_d834_43f2_8db6_ebc13f3c0049",
            "7b630b30_400a_413b_9d29_b0b98688dac5.de95bdb2_ea14_4a4f_9b67_1492db07096c",
            "7b630b30_400a_413b_9d29_b0b98688dac5.f1ecaee4_72c9_4199_b357_9a40f2c3a9e2",
            "7b630b30_400a_413b_9d29_b0b98688dac5.f3fd55d7_811c_4eb1_8a5e_fc7921ad1f6d",
            "bb8bdc58_4098_4ba0_a92d_907dad26eaab.22ce6a56_6e92_414e_b70d_0deb2be5cc54",
            "bb8bdc58_4098_4ba0_a92d_907dad26eaab.9032ecc7_e32a_44de_859c_bf8b64c6ae8a",
            "bb8bdc58_4098_4ba0_a92d_907dad26eaab.a8dcfdcf_d834_43f2_8db6_ebc13f3c0049",
            "bb8bdc58_4098_4ba0_a92d_907dad26eaab.de95bdb2_ea14_4a4f_9b67_1492db07096c",
            "bb8bdc58_4098_4ba0_a92d_907dad26eaab.f1ecaee4_72c9_4199_b357_9a40f2c3a9e2",
            "bb8bdc58_4098_4ba0_a92d_907dad26eaab.f3fd55d7_811c_4eb1_8a5e_fc7921ad1f6d",
            "de95bdb2_ea14_4a4f_9b67_1492db07096c",
            "f1ecaee4_72c9_4199_b357_9a40f2c3a9e2",
            "c10f79c9_744d_40a5_a272_7cde7ca1f5a6.bb042843_86c6_4d69_9e92_ef556849911b",
            "fd5601fa_5513_4b0a_b935_9817c84319e6.c9e11464_7ee1_4e1d_91ca_48666493fe33",
            "1826c235_f993_4507_8ea5_b1c82e8c47df",
            "dd2a3659_6674_4f80_88b7_be63664ff2e3",
            "08ff7ae0_acef_4f4d_8328_2de484a6d5e1.16fbd00a_c0dc_4a90_943d_1eab1b80190f",
            "3e61e901_9d3d_44a4_80aa_22259f31bc40",
            "3abdac1c_4717_445e_8248_0143c701015a.a1b31346_34a2_497a_9c2d_cd17d5d88871",
            "8f8996ae_8dd4_4a45_bed9_7757fa6907db.2699824a_dedf_4f3a_8fcf_5e69dcc9a992",
            "a623c910_08ec_4a6f_95ff_d6c28ead53ca.0c28985d_de35_4d8f_a3ed_21d1745118e3"
           ]
          ]
         },
         "domain": {
          "x": [
           0,
           1
          ],
          "y": [
           0.34333333333333327,
           0.6566666666666665
          ]
         },
         "header": {
          "align": "left",
          "font": {
           "size": 10
          },
          "values": [
           "Brick Class",
           "Entity ID"
          ]
         },
         "type": "table"
        },
        {
         "cells": {
          "align": "left",
          "values": [
           [
            "Electrical_Circuit",
            "Electrical_Circuit",
            "Electrical_Circuit",
            "Electrical_Circuit",
            "Electrical_Circuit",
            "Electrical_Circuit",
            "Electrical_Energy_Sensor",
            "Electrical_Energy_Sensor",
            "Electrical_Energy_Sensor",
            "Electrical_Energy_Sensor",
            "Electrical_Energy_Sensor",
            "Electrical_Energy_Sensor",
            "Electrical_Energy_Sensor",
            "Electrical_Energy_Sensor",
            "Electrical_Energy_Sensor",
            "Electrical_Energy_Sensor",
            "Electrical_Energy_Sensor",
            "Electrical_Energy_Sensor",
            "Electrical_Energy_Sensor",
            "Electrical_Energy_Sensor",
            "Electrical_Energy_Sensor",
            "Electrical_Energy_Sensor",
            "Electrical_Energy_Sensor",
            "Electrical_Generation_Meter",
            "Enclosed_space",
            "Enclosed_space",
            "Enclosed_space",
            "Enclosed_space",
            "Enclosed_space",
            "Enclosed_space",
            "Enclosed_space",
            "Enclosed_space",
            "Enclosed_space",
            "Enclosed_space",
            "Open_space",
            "Open_space",
            "Open_space",
            "Open_space",
            "Open_space",
            "Open_space",
            "Open_space",
            "Open_space",
            "Open_space",
            "Shared_space",
            "Solar_Inverter",
            "b1a78aa6_d50d_4c0a_920e_5ff7019ab663_Sensor",
            "b1a78aa6_d50d_4c0a_920e_5ff7019ab663_Sensor",
            "b1a78aa6_d50d_4c0a_920e_5ff7019ab663_Sensor",
            "b1a78aa6_d50d_4c0a_920e_5ff7019ab663_Sensor",
            "b1a78aa6_d50d_4c0a_920e_5ff7019ab663_Sensor",
            "b1a78aa6_d50d_4c0a_920e_5ff7019ab663_Sensor",
            "space",
            "space_Kitchen",
            "space_Kitchen",
            "space_Kitchen"
           ],
           [
            "4e5f09a8_0b2e_4c60_a6da_f7d332d6808e",
            "4f525a1e_69b2_4fff_be62_16b262d3724b",
            "6dc225a8_753e_4e47_8528_a3c03ea4e496",
            "a4bcf16d_a84e_414e_b9c1_603c3d10cb3e",
            "d8d2f843_6cc8_4b62_892e_5e67b56be41c",
            "ea12d627_47bd_409c_932e_9841594af306",
            "1af5f6f9_15b1_4a62_962e_0ede16373202.3ad9be1a_b080_4888_b6da_8bf10dec8623",
            "1af5f6f9_15b1_4a62_962e_0ede16373202.54513e05_7134_47e7_9851_c873ed33a104",
            "1af5f6f9_15b1_4a62_962e_0ede16373202.983cbacc_7d0f_47e8_aa19_a0912eab6f3c",
            "240f89b5_a8f7_4716_ba46_b583227d99a4",
            "6b498416_1218_453d_a09e_64a2e2aebe24.3ad9be1a_b080_4888_b6da_8bf10dec8623",
            "6b498416_1218_453d_a09e_64a2e2aebe24.54513e05_7134_47e7_9851_c873ed33a104",
            "6b498416_1218_453d_a09e_64a2e2aebe24.983cbacc_7d0f_47e8_aa19_a0912eab6f3c",
            "6ef4f046_1a38_4239_a20e_c52e3ed31f4e",
            "70d05bb1_6810_435a_bcac_8166afba0ba6.3ad9be1a_b080_4888_b6da_8bf10dec8623",
            "70d05bb1_6810_435a_bcac_8166afba0ba6.54513e05_7134_47e7_9851_c873ed33a104",
            "70d05bb1_6810_435a_bcac_8166afba0ba6.983cbacc_7d0f_47e8_aa19_a0912eab6f3c",
            "7b630b30_400a_413b_9d29_b0b98688dac5.3ad9be1a_b080_4888_b6da_8bf10dec8623",
            "7b630b30_400a_413b_9d29_b0b98688dac5.54513e05_7134_47e7_9851_c873ed33a104",
            "7b630b30_400a_413b_9d29_b0b98688dac5.983cbacc_7d0f_47e8_aa19_a0912eab6f3c",
            "bb8bdc58_4098_4ba0_a92d_907dad26eaab.3ad9be1a_b080_4888_b6da_8bf10dec8623",
            "bb8bdc58_4098_4ba0_a92d_907dad26eaab.54513e05_7134_47e7_9851_c873ed33a104",
            "bb8bdc58_4098_4ba0_a92d_907dad26eaab.983cbacc_7d0f_47e8_aa19_a0912eab6f3c",
            "b99ce6df_b057_4d80_81ba_ad76462968c1",
            "3b373634_2461_4b61_8bcb_068c12b7e1a8.2ffbcf7c_fafd_4ae5_b05a_e337ea56eaf9",
            "3b373634_2461_4b61_8bcb_068c12b7e1a8.89e05278_e33b_4bac_b51b_1204446d5017",
            "3b373634_2461_4b61_8bcb_068c12b7e1a8.c140c85d_d967_4838_bb9d_b4717886baab",
            "3b373634_2461_4b61_8bcb_068c12b7e1a8.de9e0393_c179_4e99_8bc8_db314a813440",
            "506f355b_ec0d_4763_8082_5d022dcf6153.0e964c7f_9275_47df_97c5_ede973dc0767",
            "506f355b_ec0d_4763_8082_5d022dcf6153.6af9698e_b72b_48d7_b864_9a0d518ec3b1",
            "506f355b_ec0d_4763_8082_5d022dcf6153.6d18ee1e_22f5_495f_89e6_cd613015478e",
            "506f355b_ec0d_4763_8082_5d022dcf6153.89e05278_e33b_4bac_b51b_1204446d5017",
            "506f355b_ec0d_4763_8082_5d022dcf6153.bdf61e88_72db_4fa9_85e1_66f46bfaf811",
            "506f355b_ec0d_4763_8082_5d022dcf6153.f2091c19_8d0b_4d5d_983f_a3f335adfc8c",
            "3b373634_2461_4b61_8bcb_068c12b7e1a8.0e964c7f_9275_47df_97c5_ede973dc0767",
            "3b373634_2461_4b61_8bcb_068c12b7e1a8.6d18ee1e_22f5_495f_89e6_cd613015478e",
            "3b373634_2461_4b61_8bcb_068c12b7e1a8.9e84cf78_5ff2_4d03_a537_a3a986cbb826",
            "3b373634_2461_4b61_8bcb_068c12b7e1a8.bdf61e88_72db_4fa9_85e1_66f46bfaf811",
            "506f355b_ec0d_4763_8082_5d022dcf6153.11c987b4_223f_4d61_beaf_8b10ec3a3b2d",
            "506f355b_ec0d_4763_8082_5d022dcf6153.9e84cf78_5ff2_4d03_a537_a3a986cbb826",
            "506f355b_ec0d_4763_8082_5d022dcf6153.c140c85d_d967_4838_bb9d_b4717886baab",
            "506f355b_ec0d_4763_8082_5d022dcf6153.cbd54644_e644_4743_a015_7b53af377a11",
            "506f355b_ec0d_4763_8082_5d022dcf6153.de9e0393_c179_4e99_8bc8_db314a813440",
            "3b373634_2461_4b61_8bcb_068c12b7e1a8.f2091c19_8d0b_4d5d_983f_a3f335adfc8c",
            "55f3c95d_872b_45d6_b207_23b09e27d278",
            "1af5f6f9_15b1_4a62_962e_0ede16373202.b1a78aa6_d50d_4c0a_920e_5ff7019ab663",
            "6b498416_1218_453d_a09e_64a2e2aebe24.b1a78aa6_d50d_4c0a_920e_5ff7019ab663",
            "70d05bb1_6810_435a_bcac_8166afba0ba6.b1a78aa6_d50d_4c0a_920e_5ff7019ab663",
            "7b630b30_400a_413b_9d29_b0b98688dac5.b1a78aa6_d50d_4c0a_920e_5ff7019ab663",
            "b1a78aa6_d50d_4c0a_920e_5ff7019ab663",
            "bb8bdc58_4098_4ba0_a92d_907dad26eaab.b1a78aa6_d50d_4c0a_920e_5ff7019ab663",
            "3b373634_2461_4b61_8bcb_068c12b7e1a8.11c987b4_223f_4d61_beaf_8b10ec3a3b2d",
            "3b373634_2461_4b61_8bcb_068c12b7e1a8.87389995_27ad_49a8_bf1b_5f25b117ce56",
            "506f355b_ec0d_4763_8082_5d022dcf6153.90ba5d37_73c0_41b4_a83e_1f7d6ab12db9",
            "d02c6fdd_ce6b_44a1_b193_1ede85e7d4c8.6d18ee1e_22f5_495f_89e6_cd613015478e"
           ]
          ]
         },
         "domain": {
          "x": [
           0,
           1
          ],
          "y": [
           0,
           0.3133333333333333
          ]
         },
         "header": {
          "align": "left",
          "font": {
           "size": 10
          },
          "values": [
           "Brick Class",
           "Entity ID"
          ]
         },
         "type": "table"
        }
       ],
       "layout": {
        "annotations": [
         {
          "font": {
           "size": 16
          },
          "showarrow": false,
          "text": "Proportion of Entities",
          "x": 0.5,
          "xanchor": "center",
          "xref": "paper",
          "y": 0.9999999999999998,
          "yanchor": "bottom",
          "yref": "paper"
         },
         {
          "font": {
           "size": 16
          },
          "showarrow": false,
          "text": "Recognised Entities",
          "x": 0.5,
          "xanchor": "center",
          "xref": "paper",
          "y": 0.6566666666666665,
          "yanchor": "bottom",
          "yref": "paper"
         },
         {
          "font": {
           "size": 16
          },
          "showarrow": false,
          "text": "Unrecognised Entities",
          "x": 0.5,
          "xanchor": "center",
          "xref": "paper",
          "y": 0.3133333333333333,
          "yanchor": "bottom",
          "yref": "paper"
         }
        ],
        "height": 1200,
        "showlegend": false,
        "template": {
         "data": {
          "bar": [
           {
            "error_x": {
             "color": "#2a3f5f"
            },
            "error_y": {
             "color": "#2a3f5f"
            },
            "marker": {
             "line": {
              "color": "#E5ECF6",
              "width": 0.5
             },
             "pattern": {
              "fillmode": "overlay",
              "size": 10,
              "solidity": 0.2
             }
            },
            "type": "bar"
           }
          ],
          "barpolar": [
           {
            "marker": {
             "line": {
              "color": "#E5ECF6",
              "width": 0.5
             },
             "pattern": {
              "fillmode": "overlay",
              "size": 10,
              "solidity": 0.2
             }
            },
            "type": "barpolar"
           }
          ],
          "carpet": [
           {
            "aaxis": {
             "endlinecolor": "#2a3f5f",
             "gridcolor": "white",
             "linecolor": "white",
             "minorgridcolor": "white",
             "startlinecolor": "#2a3f5f"
            },
            "baxis": {
             "endlinecolor": "#2a3f5f",
             "gridcolor": "white",
             "linecolor": "white",
             "minorgridcolor": "white",
             "startlinecolor": "#2a3f5f"
            },
            "type": "carpet"
           }
          ],
          "choropleth": [
           {
            "colorbar": {
             "outlinewidth": 0,
             "ticks": ""
            },
            "type": "choropleth"
           }
          ],
          "contour": [
           {
            "colorbar": {
             "outlinewidth": 0,
             "ticks": ""
            },
            "colorscale": [
             [
              0,
              "#0d0887"
             ],
             [
              0.1111111111111111,
              "#46039f"
             ],
             [
              0.2222222222222222,
              "#7201a8"
             ],
             [
              0.3333333333333333,
              "#9c179e"
             ],
             [
              0.4444444444444444,
              "#bd3786"
             ],
             [
              0.5555555555555556,
              "#d8576b"
             ],
             [
              0.6666666666666666,
              "#ed7953"
             ],
             [
              0.7777777777777778,
              "#fb9f3a"
             ],
             [
              0.8888888888888888,
              "#fdca26"
             ],
             [
              1,
              "#f0f921"
             ]
            ],
            "type": "contour"
           }
          ],
          "contourcarpet": [
           {
            "colorbar": {
             "outlinewidth": 0,
             "ticks": ""
            },
            "type": "contourcarpet"
           }
          ],
          "heatmap": [
           {
            "colorbar": {
             "outlinewidth": 0,
             "ticks": ""
            },
            "colorscale": [
             [
              0,
              "#0d0887"
             ],
             [
              0.1111111111111111,
              "#46039f"
             ],
             [
              0.2222222222222222,
              "#7201a8"
             ],
             [
              0.3333333333333333,
              "#9c179e"
             ],
             [
              0.4444444444444444,
              "#bd3786"
             ],
             [
              0.5555555555555556,
              "#d8576b"
             ],
             [
              0.6666666666666666,
              "#ed7953"
             ],
             [
              0.7777777777777778,
              "#fb9f3a"
             ],
             [
              0.8888888888888888,
              "#fdca26"
             ],
             [
              1,
              "#f0f921"
             ]
            ],
            "type": "heatmap"
           }
          ],
          "heatmapgl": [
           {
            "colorbar": {
             "outlinewidth": 0,
             "ticks": ""
            },
            "colorscale": [
             [
              0,
              "#0d0887"
             ],
             [
              0.1111111111111111,
              "#46039f"
             ],
             [
              0.2222222222222222,
              "#7201a8"
             ],
             [
              0.3333333333333333,
              "#9c179e"
             ],
             [
              0.4444444444444444,
              "#bd3786"
             ],
             [
              0.5555555555555556,
              "#d8576b"
             ],
             [
              0.6666666666666666,
              "#ed7953"
             ],
             [
              0.7777777777777778,
              "#fb9f3a"
             ],
             [
              0.8888888888888888,
              "#fdca26"
             ],
             [
              1,
              "#f0f921"
             ]
            ],
            "type": "heatmapgl"
           }
          ],
          "histogram": [
           {
            "marker": {
             "pattern": {
              "fillmode": "overlay",
              "size": 10,
              "solidity": 0.2
             }
            },
            "type": "histogram"
           }
          ],
          "histogram2d": [
           {
            "colorbar": {
             "outlinewidth": 0,
             "ticks": ""
            },
            "colorscale": [
             [
              0,
              "#0d0887"
             ],
             [
              0.1111111111111111,
              "#46039f"
             ],
             [
              0.2222222222222222,
              "#7201a8"
             ],
             [
              0.3333333333333333,
              "#9c179e"
             ],
             [
              0.4444444444444444,
              "#bd3786"
             ],
             [
              0.5555555555555556,
              "#d8576b"
             ],
             [
              0.6666666666666666,
              "#ed7953"
             ],
             [
              0.7777777777777778,
              "#fb9f3a"
             ],
             [
              0.8888888888888888,
              "#fdca26"
             ],
             [
              1,
              "#f0f921"
             ]
            ],
            "type": "histogram2d"
           }
          ],
          "histogram2dcontour": [
           {
            "colorbar": {
             "outlinewidth": 0,
             "ticks": ""
            },
            "colorscale": [
             [
              0,
              "#0d0887"
             ],
             [
              0.1111111111111111,
              "#46039f"
             ],
             [
              0.2222222222222222,
              "#7201a8"
             ],
             [
              0.3333333333333333,
              "#9c179e"
             ],
             [
              0.4444444444444444,
              "#bd3786"
             ],
             [
              0.5555555555555556,
              "#d8576b"
             ],
             [
              0.6666666666666666,
              "#ed7953"
             ],
             [
              0.7777777777777778,
              "#fb9f3a"
             ],
             [
              0.8888888888888888,
              "#fdca26"
             ],
             [
              1,
              "#f0f921"
             ]
            ],
            "type": "histogram2dcontour"
           }
          ],
          "mesh3d": [
           {
            "colorbar": {
             "outlinewidth": 0,
             "ticks": ""
            },
            "type": "mesh3d"
           }
          ],
          "parcoords": [
           {
            "line": {
             "colorbar": {
              "outlinewidth": 0,
              "ticks": ""
             }
            },
            "type": "parcoords"
           }
          ],
          "pie": [
           {
            "automargin": true,
            "type": "pie"
           }
          ],
          "scatter": [
           {
            "fillpattern": {
             "fillmode": "overlay",
             "size": 10,
             "solidity": 0.2
            },
            "type": "scatter"
           }
          ],
          "scatter3d": [
           {
            "line": {
             "colorbar": {
              "outlinewidth": 0,
              "ticks": ""
             }
            },
            "marker": {
             "colorbar": {
              "outlinewidth": 0,
              "ticks": ""
             }
            },
            "type": "scatter3d"
           }
          ],
          "scattercarpet": [
           {
            "marker": {
             "colorbar": {
              "outlinewidth": 0,
              "ticks": ""
             }
            },
            "type": "scattercarpet"
           }
          ],
          "scattergeo": [
           {
            "marker": {
             "colorbar": {
              "outlinewidth": 0,
              "ticks": ""
             }
            },
            "type": "scattergeo"
           }
          ],
          "scattergl": [
           {
            "marker": {
             "colorbar": {
              "outlinewidth": 0,
              "ticks": ""
             }
            },
            "type": "scattergl"
           }
          ],
          "scattermapbox": [
           {
            "marker": {
             "colorbar": {
              "outlinewidth": 0,
              "ticks": ""
             }
            },
            "type": "scattermapbox"
           }
          ],
          "scatterpolar": [
           {
            "marker": {
             "colorbar": {
              "outlinewidth": 0,
              "ticks": ""
             }
            },
            "type": "scatterpolar"
           }
          ],
          "scatterpolargl": [
           {
            "marker": {
             "colorbar": {
              "outlinewidth": 0,
              "ticks": ""
             }
            },
            "type": "scatterpolargl"
           }
          ],
          "scatterternary": [
           {
            "marker": {
             "colorbar": {
              "outlinewidth": 0,
              "ticks": ""
             }
            },
            "type": "scatterternary"
           }
          ],
          "surface": [
           {
            "colorbar": {
             "outlinewidth": 0,
             "ticks": ""
            },
            "colorscale": [
             [
              0,
              "#0d0887"
             ],
             [
              0.1111111111111111,
              "#46039f"
             ],
             [
              0.2222222222222222,
              "#7201a8"
             ],
             [
              0.3333333333333333,
              "#9c179e"
             ],
             [
              0.4444444444444444,
              "#bd3786"
             ],
             [
              0.5555555555555556,
              "#d8576b"
             ],
             [
              0.6666666666666666,
              "#ed7953"
             ],
             [
              0.7777777777777778,
              "#fb9f3a"
             ],
             [
              0.8888888888888888,
              "#fdca26"
             ],
             [
              1,
              "#f0f921"
             ]
            ],
            "type": "surface"
           }
          ],
          "table": [
           {
            "cells": {
             "fill": {
              "color": "#EBF0F8"
             },
             "line": {
              "color": "white"
             }
            },
            "header": {
             "fill": {
              "color": "#C8D4E3"
             },
             "line": {
              "color": "white"
             }
            },
            "type": "table"
           }
          ]
         },
         "layout": {
          "annotationdefaults": {
           "arrowcolor": "#2a3f5f",
           "arrowhead": 0,
           "arrowwidth": 1
          },
          "autotypenumbers": "strict",
          "coloraxis": {
           "colorbar": {
            "outlinewidth": 0,
            "ticks": ""
           }
          },
          "colorscale": {
           "diverging": [
            [
             0,
             "#8e0152"
            ],
            [
             0.1,
             "#c51b7d"
            ],
            [
             0.2,
             "#de77ae"
            ],
            [
             0.3,
             "#f1b6da"
            ],
            [
             0.4,
             "#fde0ef"
            ],
            [
             0.5,
             "#f7f7f7"
            ],
            [
             0.6,
             "#e6f5d0"
            ],
            [
             0.7,
             "#b8e186"
            ],
            [
             0.8,
             "#7fbc41"
            ],
            [
             0.9,
             "#4d9221"
            ],
            [
             1,
             "#276419"
            ]
           ],
           "sequential": [
            [
             0,
             "#0d0887"
            ],
            [
             0.1111111111111111,
             "#46039f"
            ],
            [
             0.2222222222222222,
             "#7201a8"
            ],
            [
             0.3333333333333333,
             "#9c179e"
            ],
            [
             0.4444444444444444,
             "#bd3786"
            ],
            [
             0.5555555555555556,
             "#d8576b"
            ],
            [
             0.6666666666666666,
             "#ed7953"
            ],
            [
             0.7777777777777778,
             "#fb9f3a"
            ],
            [
             0.8888888888888888,
             "#fdca26"
            ],
            [
             1,
             "#f0f921"
            ]
           ],
           "sequentialminus": [
            [
             0,
             "#0d0887"
            ],
            [
             0.1111111111111111,
             "#46039f"
            ],
            [
             0.2222222222222222,
             "#7201a8"
            ],
            [
             0.3333333333333333,
             "#9c179e"
            ],
            [
             0.4444444444444444,
             "#bd3786"
            ],
            [
             0.5555555555555556,
             "#d8576b"
            ],
            [
             0.6666666666666666,
             "#ed7953"
            ],
            [
             0.7777777777777778,
             "#fb9f3a"
            ],
            [
             0.8888888888888888,
             "#fdca26"
            ],
            [
             1,
             "#f0f921"
            ]
           ]
          },
          "colorway": [
           "#636efa",
           "#EF553B",
           "#00cc96",
           "#ab63fa",
           "#FFA15A",
           "#19d3f3",
           "#FF6692",
           "#B6E880",
           "#FF97FF",
           "#FECB52"
          ],
          "font": {
           "color": "#2a3f5f"
          },
          "geo": {
           "bgcolor": "white",
           "lakecolor": "white",
           "landcolor": "#E5ECF6",
           "showlakes": true,
           "showland": true,
           "subunitcolor": "white"
          },
          "hoverlabel": {
           "align": "left"
          },
          "hovermode": "closest",
          "mapbox": {
           "style": "light"
          },
          "paper_bgcolor": "white",
          "plot_bgcolor": "#E5ECF6",
          "polar": {
           "angularaxis": {
            "gridcolor": "white",
            "linecolor": "white",
            "ticks": ""
           },
           "bgcolor": "#E5ECF6",
           "radialaxis": {
            "gridcolor": "white",
            "linecolor": "white",
            "ticks": ""
           }
          },
          "scene": {
           "xaxis": {
            "backgroundcolor": "#E5ECF6",
            "gridcolor": "white",
            "gridwidth": 2,
            "linecolor": "white",
            "showbackground": true,
            "ticks": "",
            "zerolinecolor": "white"
           },
           "yaxis": {
            "backgroundcolor": "#E5ECF6",
            "gridcolor": "white",
            "gridwidth": 2,
            "linecolor": "white",
            "showbackground": true,
            "ticks": "",
            "zerolinecolor": "white"
           },
           "zaxis": {
            "backgroundcolor": "#E5ECF6",
            "gridcolor": "white",
            "gridwidth": 2,
            "linecolor": "white",
            "showbackground": true,
            "ticks": "",
            "zerolinecolor": "white"
           }
          },
          "shapedefaults": {
           "line": {
            "color": "#2a3f5f"
           }
          },
          "ternary": {
           "aaxis": {
            "gridcolor": "white",
            "linecolor": "white",
            "ticks": ""
           },
           "baxis": {
            "gridcolor": "white",
            "linecolor": "white",
            "ticks": ""
           },
           "bgcolor": "#E5ECF6",
           "caxis": {
            "gridcolor": "white",
            "linecolor": "white",
            "ticks": ""
           }
          },
          "title": {
           "x": 0.05
          },
          "xaxis": {
           "automargin": true,
           "gridcolor": "white",
           "linecolor": "white",
           "ticks": "",
           "title": {
            "standoff": 15
           },
           "zerolinecolor": "white",
           "zerolinewidth": 2
          },
          "yaxis": {
           "automargin": true,
           "gridcolor": "white",
           "linecolor": "white",
           "ticks": "",
           "title": {
            "standoff": 15
           },
           "zerolinecolor": "white",
           "zerolinewidth": 2
          }
         }
        },
        "title": {
         "text": "Brick Entities in Building Model Recognised by Brick Schema"
        }
       }
      }
     },
     "metadata": {},
     "output_type": "display_data"
    }
   ],
   "source": [
    "fig = make_subplots(\n",
    "    rows=3, cols=1,\n",
    "    # shared_xaxes=True,\n",
    "    # vertical_spacing=0.1,\n",
    "    vertical_spacing=0.03,\n",
    "    subplot_titles = ['Proportion of Entities', 'Recognised Entities', 'Unrecognised Entities'],\n",
    "    specs=[[{\"type\": \"pie\"}],\n",
    "           [{\"type\": \"table\"}],\n",
    "           [{\"type\": \"table\"}]]\n",
    ")\n",
    "\n",
    "labels = to_plot['class_in_provided_brick'].value_counts().index\n",
    "values = to_plot['class_in_provided_brick'].value_counts().values\n",
    "\n",
    "fig.add_trace(\n",
    "    go.Pie(#to_plot, \n",
    "        #    values='brick_class', \n",
    "            labels=labels,\n",
    "              values=values,\n",
    "              textposition='inside', \n",
    "              textinfo='percent+label',\n",
    "              name=\"\",\n",
    "        #    names='class_in_provided_brick',\n",
    "        #    title='Proportion of Brick Entities Recognised by Provided Brick Schema',\n",
    "        #    labels={'class_in_provided_brick': 'Class', 'brick_class':'Number of Entities'}\n",
    "    ),\n",
    "    row=1, col=1\n",
    ")\n",
    "\n",
    "entity_in_provided_brick_true = entity_in_provided_brick[entity_in_provided_brick['class_in_provided_brick'] == True]\n",
    "entity_in_provided_brick_false = entity_in_provided_brick[entity_in_provided_brick['class_in_provided_brick'] == False]\n",
    "\n",
    "fig.add_trace(\n",
    "    go.Table(\n",
    "        header=dict(\n",
    "            values=[\"Brick Class\", \"Entity ID\"],\n",
    "            font=dict(size=10),\n",
    "            align=\"left\"\n",
    "        ),\n",
    "        cells=dict(\n",
    "            # values=[entity_in_provided_brick[k].tolist() for k in entity_in_provided_brick.columns[1:]],\n",
    "            values=[entity_in_provided_brick_true[k].tolist() for k in entity_in_provided_brick_true.columns[:2]],\n",
    "            align = \"left\")\n",
    "    ),\n",
    "    row=2, col=1\n",
    ")\n",
    "\n",
    "fig.add_trace(\n",
    "    go.Table(\n",
    "        header=dict(\n",
    "            values=[\"Brick Class\", \"Entity ID\"],\n",
    "            font=dict(size=10),\n",
    "            align=\"left\"\n",
    "        ),\n",
    "        cells=dict(\n",
    "            # values=[entity_in_provided_brick[k].tolist() for k in entity_in_provided_brick.columns[1:]],\n",
    "            values=[entity_in_provided_brick_false[k].tolist() for k in entity_in_provided_brick_false.columns[:2]],\n",
    "            align = \"left\")\n",
    "    ),\n",
    "    row=3, col=1,\n",
    ")\n",
    "\n",
    "\n",
    "fig.update_layout(\n",
    "    height=1200,\n",
    "    showlegend=False,\n",
    "    title_text=\"Brick Entities in Building Model Recognised by Brick Schema\",\n",
    ")\n",
    "\n",
    "fig.show()"
   ]
  },
  {
   "cell_type": "code",
   "execution_count": 784,
   "metadata": {},
   "outputs": [
    {
     "data": {
      "application/vnd.plotly.v1+json": {
       "config": {
        "plotlyServerURL": "https://plot.ly"
       },
       "data": [
        {
         "domain": {
          "x": [
           0,
           0.45
          ],
          "y": [
           0.7,
           1
          ]
         },
         "labels": [
          "Recognised",
          "Unrecognised"
         ],
         "name": "",
         "textinfo": "percent+label",
         "textposition": "inside",
         "type": "pie",
         "values": [
          1060,
          55
         ]
        },
        {
         "domain": {
          "x": [
           0.55,
           1
          ],
          "y": [
           0.7,
           1
          ]
         },
         "labels": [
          "Electrical_Energy_Sensor",
          "Enclosed_space",
          "Open_space",
          "Electrical_Circuit",
          "b1a78aa6_d50d_4c0a_920e_5ff7019ab663_Sensor",
          "space_Kitchen",
          "Electrical_Generation_Meter",
          "Shared_space",
          "Solar_Inverter",
          "space"
         ],
         "name": "",
         "textinfo": "percent+label",
         "textposition": "inside",
         "type": "pie",
         "values": [
          17,
          10,
          9,
          6,
          6,
          3,
          1,
          1,
          1,
          1
         ]
        },
        {
         "cells": {
          "align": "left",
          "values": [
           [
            "Electrical_Circuit",
            "Electrical_Circuit",
            "Electrical_Circuit",
            "Electrical_Circuit",
            "Electrical_Circuit",
            "Electrical_Circuit",
            "Electrical_Energy_Sensor",
            "Electrical_Energy_Sensor",
            "Electrical_Energy_Sensor",
            "Electrical_Energy_Sensor",
            "Electrical_Energy_Sensor",
            "Electrical_Energy_Sensor",
            "Electrical_Energy_Sensor",
            "Electrical_Energy_Sensor",
            "Electrical_Energy_Sensor",
            "Electrical_Energy_Sensor",
            "Electrical_Energy_Sensor",
            "Electrical_Energy_Sensor",
            "Electrical_Energy_Sensor",
            "Electrical_Energy_Sensor",
            "Electrical_Energy_Sensor",
            "Electrical_Energy_Sensor",
            "Electrical_Energy_Sensor",
            "Electrical_Generation_Meter",
            "Enclosed_space",
            "Enclosed_space",
            "Enclosed_space",
            "Enclosed_space",
            "Enclosed_space",
            "Enclosed_space",
            "Enclosed_space",
            "Enclosed_space",
            "Enclosed_space",
            "Enclosed_space",
            "Open_space",
            "Open_space",
            "Open_space",
            "Open_space",
            "Open_space",
            "Open_space",
            "Open_space",
            "Open_space",
            "Open_space",
            "Shared_space",
            "Solar_Inverter",
            "b1a78aa6_d50d_4c0a_920e_5ff7019ab663_Sensor",
            "b1a78aa6_d50d_4c0a_920e_5ff7019ab663_Sensor",
            "b1a78aa6_d50d_4c0a_920e_5ff7019ab663_Sensor",
            "b1a78aa6_d50d_4c0a_920e_5ff7019ab663_Sensor",
            "b1a78aa6_d50d_4c0a_920e_5ff7019ab663_Sensor",
            "b1a78aa6_d50d_4c0a_920e_5ff7019ab663_Sensor",
            "space",
            "space_Kitchen",
            "space_Kitchen",
            "space_Kitchen"
           ],
           [
            "4e5f09a8_0b2e_4c60_a6da_f7d332d6808e",
            "4f525a1e_69b2_4fff_be62_16b262d3724b",
            "6dc225a8_753e_4e47_8528_a3c03ea4e496",
            "a4bcf16d_a84e_414e_b9c1_603c3d10cb3e",
            "d8d2f843_6cc8_4b62_892e_5e67b56be41c",
            "ea12d627_47bd_409c_932e_9841594af306",
            "1af5f6f9_15b1_4a62_962e_0ede16373202.3ad9be1a_b080_4888_b6da_8bf10dec8623",
            "1af5f6f9_15b1_4a62_962e_0ede16373202.54513e05_7134_47e7_9851_c873ed33a104",
            "1af5f6f9_15b1_4a62_962e_0ede16373202.983cbacc_7d0f_47e8_aa19_a0912eab6f3c",
            "240f89b5_a8f7_4716_ba46_b583227d99a4",
            "6b498416_1218_453d_a09e_64a2e2aebe24.3ad9be1a_b080_4888_b6da_8bf10dec8623",
            "6b498416_1218_453d_a09e_64a2e2aebe24.54513e05_7134_47e7_9851_c873ed33a104",
            "6b498416_1218_453d_a09e_64a2e2aebe24.983cbacc_7d0f_47e8_aa19_a0912eab6f3c",
            "6ef4f046_1a38_4239_a20e_c52e3ed31f4e",
            "70d05bb1_6810_435a_bcac_8166afba0ba6.3ad9be1a_b080_4888_b6da_8bf10dec8623",
            "70d05bb1_6810_435a_bcac_8166afba0ba6.54513e05_7134_47e7_9851_c873ed33a104",
            "70d05bb1_6810_435a_bcac_8166afba0ba6.983cbacc_7d0f_47e8_aa19_a0912eab6f3c",
            "7b630b30_400a_413b_9d29_b0b98688dac5.3ad9be1a_b080_4888_b6da_8bf10dec8623",
            "7b630b30_400a_413b_9d29_b0b98688dac5.54513e05_7134_47e7_9851_c873ed33a104",
            "7b630b30_400a_413b_9d29_b0b98688dac5.983cbacc_7d0f_47e8_aa19_a0912eab6f3c",
            "bb8bdc58_4098_4ba0_a92d_907dad26eaab.3ad9be1a_b080_4888_b6da_8bf10dec8623",
            "bb8bdc58_4098_4ba0_a92d_907dad26eaab.54513e05_7134_47e7_9851_c873ed33a104",
            "bb8bdc58_4098_4ba0_a92d_907dad26eaab.983cbacc_7d0f_47e8_aa19_a0912eab6f3c",
            "b99ce6df_b057_4d80_81ba_ad76462968c1",
            "3b373634_2461_4b61_8bcb_068c12b7e1a8.2ffbcf7c_fafd_4ae5_b05a_e337ea56eaf9",
            "3b373634_2461_4b61_8bcb_068c12b7e1a8.89e05278_e33b_4bac_b51b_1204446d5017",
            "3b373634_2461_4b61_8bcb_068c12b7e1a8.c140c85d_d967_4838_bb9d_b4717886baab",
            "3b373634_2461_4b61_8bcb_068c12b7e1a8.de9e0393_c179_4e99_8bc8_db314a813440",
            "506f355b_ec0d_4763_8082_5d022dcf6153.0e964c7f_9275_47df_97c5_ede973dc0767",
            "506f355b_ec0d_4763_8082_5d022dcf6153.6af9698e_b72b_48d7_b864_9a0d518ec3b1",
            "506f355b_ec0d_4763_8082_5d022dcf6153.6d18ee1e_22f5_495f_89e6_cd613015478e",
            "506f355b_ec0d_4763_8082_5d022dcf6153.89e05278_e33b_4bac_b51b_1204446d5017",
            "506f355b_ec0d_4763_8082_5d022dcf6153.bdf61e88_72db_4fa9_85e1_66f46bfaf811",
            "506f355b_ec0d_4763_8082_5d022dcf6153.f2091c19_8d0b_4d5d_983f_a3f335adfc8c",
            "3b373634_2461_4b61_8bcb_068c12b7e1a8.0e964c7f_9275_47df_97c5_ede973dc0767",
            "3b373634_2461_4b61_8bcb_068c12b7e1a8.6d18ee1e_22f5_495f_89e6_cd613015478e",
            "3b373634_2461_4b61_8bcb_068c12b7e1a8.9e84cf78_5ff2_4d03_a537_a3a986cbb826",
            "3b373634_2461_4b61_8bcb_068c12b7e1a8.bdf61e88_72db_4fa9_85e1_66f46bfaf811",
            "506f355b_ec0d_4763_8082_5d022dcf6153.11c987b4_223f_4d61_beaf_8b10ec3a3b2d",
            "506f355b_ec0d_4763_8082_5d022dcf6153.9e84cf78_5ff2_4d03_a537_a3a986cbb826",
            "506f355b_ec0d_4763_8082_5d022dcf6153.c140c85d_d967_4838_bb9d_b4717886baab",
            "506f355b_ec0d_4763_8082_5d022dcf6153.cbd54644_e644_4743_a015_7b53af377a11",
            "506f355b_ec0d_4763_8082_5d022dcf6153.de9e0393_c179_4e99_8bc8_db314a813440",
            "3b373634_2461_4b61_8bcb_068c12b7e1a8.f2091c19_8d0b_4d5d_983f_a3f335adfc8c",
            "55f3c95d_872b_45d6_b207_23b09e27d278",
            "1af5f6f9_15b1_4a62_962e_0ede16373202.b1a78aa6_d50d_4c0a_920e_5ff7019ab663",
            "6b498416_1218_453d_a09e_64a2e2aebe24.b1a78aa6_d50d_4c0a_920e_5ff7019ab663",
            "70d05bb1_6810_435a_bcac_8166afba0ba6.b1a78aa6_d50d_4c0a_920e_5ff7019ab663",
            "7b630b30_400a_413b_9d29_b0b98688dac5.b1a78aa6_d50d_4c0a_920e_5ff7019ab663",
            "b1a78aa6_d50d_4c0a_920e_5ff7019ab663",
            "bb8bdc58_4098_4ba0_a92d_907dad26eaab.b1a78aa6_d50d_4c0a_920e_5ff7019ab663",
            "3b373634_2461_4b61_8bcb_068c12b7e1a8.11c987b4_223f_4d61_beaf_8b10ec3a3b2d",
            "3b373634_2461_4b61_8bcb_068c12b7e1a8.87389995_27ad_49a8_bf1b_5f25b117ce56",
            "506f355b_ec0d_4763_8082_5d022dcf6153.90ba5d37_73c0_41b4_a83e_1f7d6ab12db9",
            "d02c6fdd_ce6b_44a1_b193_1ede85e7d4c8.6d18ee1e_22f5_495f_89e6_cd613015478e"
           ]
          ]
         },
         "domain": {
          "x": [
           0,
           1
          ],
          "y": [
           0.35,
           0.6499999999999999
          ]
         },
         "header": {
          "align": "left",
          "font": {
           "size": 10
          },
          "values": [
           "Brick Class",
           "Entity ID"
          ]
         },
         "type": "table"
        },
        {
         "cells": {
          "align": "left",
          "values": [
           [
            "Air_Handler_Unit",
            "Air_Handler_Unit",
            "Air_Handler_Unit",
            "Air_Handler_Unit",
            "Air_Handler_Unit",
            "Air_Temperature_Sensor",
            "Air_Temperature_Sensor",
            "Air_Temperature_Sensor",
            "Air_Temperature_Sensor",
            "Air_Temperature_Sensor",
            "Air_Temperature_Sensor",
            "Air_Temperature_Sensor",
            "Air_Temperature_Sensor",
            "Air_Temperature_Sensor",
            "Air_Temperature_Sensor",
            "Air_Temperature_Sensor",
            "Air_Temperature_Sensor",
            "Air_Temperature_Sensor",
            "Air_Temperature_Sensor",
            "Air_Temperature_Sensor",
            "Air_Temperature_Sensor",
            "Air_Temperature_Sensor",
            "Air_Temperature_Sensor",
            "Air_Temperature_Sensor",
            "Air_Temperature_Sensor",
            "Air_Temperature_Sensor",
            "Air_Temperature_Sensor",
            "Air_Temperature_Sensor",
            "Air_Temperature_Sensor",
            "Air_Temperature_Sensor",
            "Air_Temperature_Sensor",
            "Air_Temperature_Sensor",
            "Air_Temperature_Sensor",
            "Air_Temperature_Sensor",
            "Air_Temperature_Sensor",
            "Air_Temperature_Sensor",
            "Air_Temperature_Sensor",
            "Air_Temperature_Sensor",
            "Air_Temperature_Sensor",
            "Air_Temperature_Sensor",
            "Air_Temperature_Sensor",
            "Air_Temperature_Sensor",
            "Air_Temperature_Sensor",
            "Air_Temperature_Sensor",
            "Air_Temperature_Sensor",
            "Air_Temperature_Sensor",
            "Air_Temperature_Sensor",
            "Air_Temperature_Sensor",
            "Air_Temperature_Sensor",
            "Alarm",
            "Alarm",
            "Angle_Sensor",
            "Angle_Sensor",
            "Angle_Sensor",
            "Average_Zone_Air_Temperature_Sensor",
            "Average_Zone_Air_Temperature_Sensor",
            "Basement",
            "Boiler",
            "Breakroom",
            "Building",
            "Building_Electrical_Meter",
            "Building_Gas_Meter",
            "Building_Water_Meter",
            "Chilled_Water_Differential_Temperature_Sensor",
            "Chilled_Water_Pump",
            "Chilled_Water_System",
            "Chiller",
            "Conference_Room",
            "Conference_Room",
            "Conference_Room",
            "Conference_Room",
            "Conference_Room",
            "Conference_Room",
            "Conference_Room",
            "Conference_Room",
            "Conference_Room",
            "Conference_Room",
            "Conference_Room",
            "Cooling_Coil",
            "Cooling_Coil",
            "Cooling_Coil",
            "Cooling_Coil",
            "Cooling_Coil",
            "Cooling_Coil",
            "Cooling_Coil",
            "Cooling_Coil",
            "Cooling_Coil",
            "Cooling_Coil",
            "Cooling_Coil",
            "Cooling_Coil",
            "Cooling_Coil",
            "Cooling_Coil",
            "Cooling_Coil",
            "Cooling_Coil",
            "Cooling_Coil",
            "Cooling_Coil",
            "Cooling_Command",
            "Cooling_Command",
            "Cooling_Command",
            "Cooling_Command",
            "Cooling_Command",
            "Cooling_Command",
            "Cooling_Demand_Sensor",
            "Cooling_Demand_Setpoint",
            "Cooling_Temperature_Setpoint",
            "Cooling_Temperature_Setpoint",
            "Cooling_Temperature_Setpoint",
            "Cooling_Temperature_Setpoint",
            "Cooling_Temperature_Setpoint",
            "Cooling_Temperature_Setpoint",
            "Cooling_Temperature_Setpoint",
            "Cooling_Temperature_Setpoint",
            "Cooling_Temperature_Setpoint",
            "Cooling_Temperature_Setpoint",
            "Cooling_Temperature_Setpoint",
            "Cooling_Temperature_Setpoint",
            "Cooling_Temperature_Setpoint",
            "Cooling_Temperature_Setpoint",
            "Cooling_Temperature_Setpoint",
            "Cooling_Temperature_Setpoint",
            "Cooling_Temperature_Setpoint",
            "Cooling_Temperature_Setpoint",
            "Cooling_Valve",
            "Cooling_Valve",
            "Cooling_Valve",
            "Cooling_Valve",
            "Cooling_Valve",
            "Cooling_Valve",
            "Cooling_Valve",
            "Cooling_Valve",
            "Cooling_Valve",
            "Cooling_Valve",
            "Cooling_Valve",
            "Cooling_Valve",
            "Cooling_Valve",
            "Cooling_Valve",
            "Cooling_Valve",
            "Cooling_Valve",
            "Cooling_Valve",
            "Cooling_Valve",
            "Copy_Room",
            "Current_Sensor",
            "Current_Sensor",
            "Current_Sensor",
            "Current_Sensor",
            "Current_Sensor",
            "Current_Sensor",
            "Current_Sensor",
            "Current_Sensor",
            "Current_Sensor",
            "Current_Sensor",
            "Current_Sensor",
            "Current_Sensor",
            "Current_Sensor",
            "Current_Sensor",
            "Current_Sensor",
            "Current_Sensor",
            "Current_Sensor",
            "Current_Sensor",
            "Current_Sensor",
            "Current_Sensor",
            "Current_Sensor",
            "Current_Sensor",
            "Current_Sensor",
            "Damper_Position_Sensor",
            "Damper_Position_Sensor",
            "Damper_Position_Sensor",
            "Damper_Position_Sensor",
            "Damper_Position_Sensor",
            "Damper_Position_Sensor",
            "Damper_Position_Sensor",
            "Damper_Position_Sensor",
            "Damper_Position_Sensor",
            "Damper_Position_Sensor",
            "Differential_Pressure_Sensor",
            "Differential_Pressure_Sensor",
            "Differential_Pressure_Setpoint",
            "Differential_Pressure_Setpoint",
            "Differential_Pressure_Setpoint",
            "Differential_Pressure_Setpoint",
            "Differential_Pressure_Setpoint",
            "Differential_Pressure_Setpoint",
            "Differential_Pressure_Setpoint",
            "Differential_Pressure_Setpoint",
            "Differential_Pressure_Setpoint",
            "Differential_Pressure_Setpoint",
            "Discharge_Air_Temperature_Sensor",
            "Discharge_Air_Temperature_Sensor",
            "Discharge_Air_Temperature_Sensor",
            "Discharge_Air_Temperature_Sensor",
            "Discharge_Air_Temperature_Sensor",
            "Discharge_Air_Temperature_Sensor",
            "Discharge_Air_Temperature_Sensor",
            "Discharge_Air_Temperature_Sensor",
            "Discharge_Air_Temperature_Sensor",
            "Discharge_Air_Temperature_Sensor",
            "Discharge_Water_Temperature_Sensor",
            "Discharge_Water_Temperature_Sensor",
            "Domestic_Hot_Water_System",
            "Electrical_Meter",
            "Electrical_Meter",
            "Electrical_Meter",
            "Electrical_Meter",
            "Electrical_Meter",
            "Electrical_Power_Sensor",
            "Electrical_Power_Sensor",
            "Electrical_Power_Sensor",
            "Electrical_Power_Sensor",
            "Electrical_Power_Sensor",
            "Electrical_Power_Sensor",
            "Electrical_Power_Sensor",
            "Electrical_Power_Sensor",
            "Electrical_Power_Sensor",
            "Electrical_Power_Sensor",
            "Electrical_Power_Sensor",
            "Electrical_Power_Sensor",
            "Electrical_Power_Sensor",
            "Electrical_Power_Sensor",
            "Electrical_Power_Sensor",
            "Electrical_Power_Sensor",
            "Electrical_Power_Sensor",
            "Electrical_Power_Sensor",
            "Electrical_Power_Sensor",
            "Electrical_Power_Sensor",
            "Electrical_Power_Sensor",
            "Electrical_Power_Sensor",
            "Electrical_Power_Sensor",
            "Electrical_Power_Sensor",
            "Electrical_Power_Sensor",
            "Electrical_Power_Sensor",
            "Electrical_Power_Sensor",
            "Electrical_Power_Sensor",
            "Electrical_Power_Sensor",
            "Electrical_Power_Sensor",
            "Electrical_Power_Sensor",
            "Electrical_Power_Sensor",
            "Electrical_Power_Sensor",
            "Electrical_Power_Sensor",
            "Electrical_Power_Sensor",
            "Electrical_Power_Sensor",
            "Electrical_Power_Sensor",
            "Electrical_Power_Sensor",
            "Electrical_Power_Sensor",
            "Elevator",
            "Emergency_Alarm",
            "Emergency_Alarm",
            "Emergency_Alarm",
            "Enable_Status",
            "Enable_Status",
            "Enable_Status",
            "Enable_Status",
            "Enable_Status",
            "Enable_Status",
            "Enable_Status",
            "Enable_Status",
            "Enable_Status",
            "Enable_Status",
            "Enable_Status",
            "Enable_Status",
            "Enable_Status",
            "Enable_Status",
            "Enable_Status",
            "Enable_Status",
            "Enable_Status",
            "Enable_Status",
            "Enable_Status",
            "Enable_Status",
            "Enable_Status",
            "Enable_Status",
            "Enable_Status",
            "Enable_Status",
            "Enable_Status",
            "Enable_Status",
            "Enable_Status",
            "Enable_Status",
            "Enable_Status",
            "Enable_Status",
            "Enable_Status",
            "Enable_Status",
            "Enable_Status",
            "Enable_Status",
            "Enable_Status",
            "Enable_Status",
            "Enable_Status",
            "Enable_Status",
            "Enable_Status",
            "Enable_Status",
            "Enable_Status",
            "Enable_Status",
            "Enable_Status",
            "Enable_Status",
            "Exhaust_Fan",
            "Exhaust_Fan",
            "Exhaust_Fan",
            "Exhaust_Fan",
            "Exhaust_Fan",
            "Fan_Coil_Unit",
            "Fan_Coil_Unit",
            "Fan_Coil_Unit",
            "Fan_Coil_Unit",
            "Fan_Coil_Unit",
            "Fan_Coil_Unit",
            "Fan_Coil_Unit",
            "Fan_Coil_Unit",
            "Fan_Coil_Unit",
            "Fan_Coil_Unit",
            "Fan_Coil_Unit",
            "Fan_Coil_Unit",
            "Fan_Coil_Unit",
            "Fault_Status",
            "Fault_Status",
            "Filter",
            "Filter",
            "Filter",
            "Filter",
            "Filter",
            "Filter",
            "Filter",
            "Filter",
            "Filter",
            "Filter",
            "Filter_Differential_Pressure_Sensor",
            "Filter_Differential_Pressure_Sensor",
            "Filter_Differential_Pressure_Sensor",
            "Filter_Differential_Pressure_Sensor",
            "Filter_Differential_Pressure_Sensor",
            "Filter_Differential_Pressure_Sensor",
            "Filter_Differential_Pressure_Sensor",
            "Filter_Differential_Pressure_Sensor",
            "Filter_Differential_Pressure_Sensor",
            "Filter_Differential_Pressure_Sensor",
            "Fire_Control_Panel",
            "Floor",
            "Floor",
            "Fresh_Air_Fan",
            "Fresh_Air_Fan",
            "Fresh_Air_Fan",
            "Fresh_Air_Fan",
            "Gas_Meter",
            "HVAC_Zone",
            "HVAC_Zone",
            "HVAC_Zone",
            "HVAC_Zone",
            "HVAC_Zone",
            "HVAC_Zone",
            "HVAC_Zone",
            "HVAC_Zone",
            "HVAC_Zone",
            "HVAC_Zone",
            "HVAC_Zone",
            "HVAC_Zone",
            "HVAC_Zone",
            "HVAC_Zone",
            "HVAC_Zone",
            "HVAC_Zone",
            "HVAC_Zone",
            "HVAC_Zone",
            "Hallway",
            "Hallway",
            "Hallway",
            "Hallway",
            "Hallway",
            "Hallway",
            "Hallway",
            "Hallway",
            "Hallway",
            "Hallway",
            "Hallway",
            "Heating_Coil",
            "Heating_Coil",
            "Heating_Coil",
            "Heating_Coil",
            "Heating_Coil",
            "Heating_Coil",
            "Heating_Coil",
            "Heating_Coil",
            "Heating_Coil",
            "Heating_Coil",
            "Heating_Coil",
            "Heating_Coil",
            "Heating_Coil",
            "Heating_Coil",
            "Heating_Coil",
            "Heating_Coil",
            "Heating_Coil",
            "Heating_Coil",
            "Heating_Command",
            "Heating_Command",
            "Heating_Command",
            "Heating_Command",
            "Heating_Command",
            "Heating_Demand_Sensor",
            "Heating_Demand_Setpoint",
            "Heating_Temperature_Setpoint",
            "Heating_Temperature_Setpoint",
            "Heating_Temperature_Setpoint",
            "Heating_Temperature_Setpoint",
            "Heating_Temperature_Setpoint",
            "Heating_Temperature_Setpoint",
            "Heating_Temperature_Setpoint",
            "Heating_Temperature_Setpoint",
            "Heating_Temperature_Setpoint",
            "Heating_Temperature_Setpoint",
            "Heating_Temperature_Setpoint",
            "Heating_Temperature_Setpoint",
            "Heating_Temperature_Setpoint",
            "Heating_Temperature_Setpoint",
            "Heating_Temperature_Setpoint",
            "Heating_Temperature_Setpoint",
            "Heating_Temperature_Setpoint",
            "Heating_Temperature_Setpoint",
            "Heating_Valve",
            "Heating_Valve",
            "Heating_Valve",
            "Heating_Valve",
            "Heating_Valve",
            "Heating_Valve",
            "Heating_Valve",
            "Heating_Valve",
            "Heating_Valve",
            "Heating_Valve",
            "Heating_Valve",
            "Heating_Valve",
            "Heating_Valve",
            "Heating_Valve",
            "Heating_Valve",
            "Heating_Valve",
            "Heating_Valve",
            "Heating_Valve",
            "Hot_Water_Pump",
            "Hot_Water_System",
            "Janitor_Room",
            "Library",
            "Lobby",
            "Lobby",
            "Lobby",
            "Low_Outside_Air_Temperature_Enable_Setpoint",
            "Low_Outside_Air_Temperature_Enable_Setpoint",
            "Low_Outside_Air_Temperature_Enable_Setpoint",
            "Low_Outside_Air_Temperature_Enable_Setpoint",
            "Low_Outside_Air_Temperature_Enable_Setpoint",
            "Max_Discharge_Air_Temperature_Setpoint_Limit",
            "Max_Discharge_Air_Temperature_Setpoint_Limit",
            "Max_Discharge_Air_Temperature_Setpoint_Limit",
            "Max_Discharge_Air_Temperature_Setpoint_Limit",
            "Max_Discharge_Air_Temperature_Setpoint_Limit",
            "Max_Discharge_Air_Temperature_Setpoint_Limit",
            "Max_Discharge_Air_Temperature_Setpoint_Limit",
            "Max_Discharge_Air_Temperature_Setpoint_Limit",
            "Max_Discharge_Air_Temperature_Setpoint_Limit",
            "Max_Discharge_Air_Temperature_Setpoint_Limit",
            "Max_Temperature_Setpoint_Limit",
            "Max_Temperature_Setpoint_Limit",
            "Max_Temperature_Setpoint_Limit",
            "Max_Temperature_Setpoint_Limit",
            "Max_Temperature_Setpoint_Limit",
            "Max_Temperature_Setpoint_Limit",
            "Max_Temperature_Setpoint_Limit",
            "Max_Temperature_Setpoint_Limit",
            "Max_Temperature_Setpoint_Limit",
            "Max_Temperature_Setpoint_Limit",
            "Max_Temperature_Setpoint_Limit",
            "Max_Temperature_Setpoint_Limit",
            "Max_Temperature_Setpoint_Limit",
            "Max_Temperature_Setpoint_Limit",
            "Max_Temperature_Setpoint_Limit",
            "Max_Temperature_Setpoint_Limit",
            "Max_Temperature_Setpoint_Limit",
            "Max_Temperature_Setpoint_Limit",
            "Max_Temperature_Setpoint_Limit",
            "Max_Temperature_Setpoint_Limit",
            "Max_Temperature_Setpoint_Limit",
            "Max_Temperature_Setpoint_Limit",
            "Max_Temperature_Setpoint_Limit",
            "Max_Temperature_Setpoint_Limit",
            "Max_Temperature_Setpoint_Limit",
            "Max_Temperature_Setpoint_Limit",
            "Max_Temperature_Setpoint_Limit",
            "Max_Temperature_Setpoint_Limit",
            "Max_Temperature_Setpoint_Limit",
            "Max_Temperature_Setpoint_Limit",
            "Max_Temperature_Setpoint_Limit",
            "Max_Temperature_Setpoint_Limit",
            "Max_Temperature_Setpoint_Limit",
            "Max_Temperature_Setpoint_Limit",
            "Max_Temperature_Setpoint_Limit",
            "Max_Temperature_Setpoint_Limit",
            "Max_Temperature_Setpoint_Limit",
            "Max_Temperature_Setpoint_Limit",
            "Max_Temperature_Setpoint_Limit",
            "Max_Temperature_Setpoint_Limit",
            "Max_Temperature_Setpoint_Limit",
            "Max_Temperature_Setpoint_Limit",
            "Max_Temperature_Setpoint_Limit",
            "Max_Temperature_Setpoint_Limit",
            "Max_Temperature_Setpoint_Limit",
            "Max_Temperature_Setpoint_Limit",
            "Max_Temperature_Setpoint_Limit",
            "Max_Temperature_Setpoint_Limit",
            "Max_Temperature_Setpoint_Limit",
            "Max_Temperature_Setpoint_Limit",
            "Max_Temperature_Setpoint_Limit",
            "Max_Temperature_Setpoint_Limit",
            "Max_Temperature_Setpoint_Limit",
            "Max_Temperature_Setpoint_Limit",
            "Min_Discharge_Air_Temperature_Setpoint_Limit",
            "Min_Discharge_Air_Temperature_Setpoint_Limit",
            "Min_Discharge_Air_Temperature_Setpoint_Limit",
            "Min_Discharge_Air_Temperature_Setpoint_Limit",
            "Min_Discharge_Air_Temperature_Setpoint_Limit",
            "Min_Discharge_Air_Temperature_Setpoint_Limit",
            "Min_Discharge_Air_Temperature_Setpoint_Limit",
            "Min_Discharge_Air_Temperature_Setpoint_Limit",
            "Min_Discharge_Air_Temperature_Setpoint_Limit",
            "Min_Discharge_Air_Temperature_Setpoint_Limit",
            "Min_Position_Setpoint_Limit",
            "Min_Position_Setpoint_Limit",
            "Min_Position_Setpoint_Limit",
            "Min_Position_Setpoint_Limit",
            "Min_Position_Setpoint_Limit",
            "Min_Temperature_Setpoint_Limit",
            "Min_Temperature_Setpoint_Limit",
            "Min_Temperature_Setpoint_Limit",
            "Min_Temperature_Setpoint_Limit",
            "Min_Temperature_Setpoint_Limit",
            "Min_Temperature_Setpoint_Limit",
            "Min_Temperature_Setpoint_Limit",
            "Min_Temperature_Setpoint_Limit",
            "Min_Temperature_Setpoint_Limit",
            "Min_Temperature_Setpoint_Limit",
            "Min_Temperature_Setpoint_Limit",
            "Min_Temperature_Setpoint_Limit",
            "Min_Temperature_Setpoint_Limit",
            "Min_Temperature_Setpoint_Limit",
            "Min_Temperature_Setpoint_Limit",
            "Min_Temperature_Setpoint_Limit",
            "Min_Temperature_Setpoint_Limit",
            "Min_Temperature_Setpoint_Limit",
            "Min_Temperature_Setpoint_Limit",
            "Min_Temperature_Setpoint_Limit",
            "Min_Temperature_Setpoint_Limit",
            "Min_Temperature_Setpoint_Limit",
            "Min_Temperature_Setpoint_Limit",
            "Min_Temperature_Setpoint_Limit",
            "Min_Temperature_Setpoint_Limit",
            "Min_Temperature_Setpoint_Limit",
            "Min_Temperature_Setpoint_Limit",
            "Min_Temperature_Setpoint_Limit",
            "Min_Temperature_Setpoint_Limit",
            "Min_Temperature_Setpoint_Limit",
            "Min_Temperature_Setpoint_Limit",
            "Min_Temperature_Setpoint_Limit",
            "Min_Temperature_Setpoint_Limit",
            "Min_Temperature_Setpoint_Limit",
            "Min_Temperature_Setpoint_Limit",
            "Min_Temperature_Setpoint_Limit",
            "Min_Temperature_Setpoint_Limit",
            "Min_Temperature_Setpoint_Limit",
            "Min_Temperature_Setpoint_Limit",
            "Min_Temperature_Setpoint_Limit",
            "Min_Temperature_Setpoint_Limit",
            "Min_Temperature_Setpoint_Limit",
            "Min_Temperature_Setpoint_Limit",
            "Min_Temperature_Setpoint_Limit",
            "Min_Temperature_Setpoint_Limit",
            "Min_Temperature_Setpoint_Limit",
            "Min_Temperature_Setpoint_Limit",
            "Min_Temperature_Setpoint_Limit",
            "Min_Temperature_Setpoint_Limit",
            "Min_Temperature_Setpoint_Limit",
            "Min_Temperature_Setpoint_Limit",
            "Min_Temperature_Setpoint_Limit",
            "Min_Temperature_Setpoint_Limit",
            "Min_Temperature_Setpoint_Limit",
            "Mode_Command",
            "Mode_Command",
            "Mode_Command",
            "Mode_Command",
            "Mode_Command",
            "Mode_Command",
            "Mode_Command",
            "Mode_Command",
            "Mode_Command",
            "Mode_Command",
            "Mode_Command",
            "Mode_Command",
            "Mode_Command",
            "Mode_Command",
            "Mode_Command",
            "Mode_Command",
            "Mode_Command",
            "Mode_Command",
            "Mode_Command",
            "Mode_Command",
            "Mode_Command",
            "Mode_Command",
            "Mode_Command",
            "Mode_Command",
            "Mode_Command",
            "Mode_Command",
            "Mode_Command",
            "Mode_Command",
            "Mode_Command",
            "Mode_Command",
            "Mode_Command",
            "Mode_Command",
            "Mode_Command",
            "Mode_Command",
            "Mode_Command",
            "Mode_Command",
            "Mode_Command",
            "Mode_Command",
            "Mode_Command",
            "Mode_Command",
            "Mode_Command",
            "Mode_Command",
            "Mode_Command",
            "Mode_Command",
            "Mode_Command",
            "Mode_Command",
            "Mode_Command",
            "Mode_Command",
            "Mode_Command",
            "Mode_Command",
            "Mode_Command",
            "Mode_Command",
            "Mode_Status",
            "Mode_Status",
            "Mode_Status",
            "Mode_Status",
            "Mode_Status",
            "Mode_Status",
            "Mode_Status",
            "Mode_Status",
            "Mode_Status",
            "Mode_Status",
            "Mode_Status",
            "Operating_Mode_Status",
            "Operating_Mode_Status",
            "Operating_Mode_Status",
            "Operating_Mode_Status",
            "Operating_Mode_Status",
            "Operating_Mode_Status",
            "Operating_Mode_Status",
            "Operating_Mode_Status",
            "Operating_Mode_Status",
            "Operating_Mode_Status",
            "Operating_Mode_Status",
            "Operating_Mode_Status",
            "Operating_Mode_Status",
            "Operating_Mode_Status",
            "Operating_Mode_Status",
            "Operating_Mode_Status",
            "Operating_Mode_Status",
            "Operating_Mode_Status",
            "Operating_Mode_Status",
            "Operating_Mode_Status",
            "Outside_Air_Humidity_Sensor",
            "Outside_Air_Lockout_Temperature_Setpoint",
            "Outside_Air_Lockout_Temperature_Setpoint",
            "Outside_Air_Lockout_Temperature_Setpoint",
            "Outside_Air_Lockout_Temperature_Setpoint",
            "Outside_Air_Lockout_Temperature_Setpoint",
            "Outside_Air_Temperature_Sensor",
            "Outside_Air_Temperature_Sensor",
            "Outside_Air_Temperature_Sensor",
            "Outside_Air_Temperature_Sensor",
            "Outside_Air_Temperature_Sensor",
            "Outside_Air_Temperature_Sensor",
            "Outside_Air_Temperature_Setpoint",
            "Outside_Air_Temperature_Setpoint",
            "Outside_Damper",
            "Outside_Damper",
            "Outside_Damper",
            "Outside_Damper",
            "Outside_Damper",
            "PV_Array",
            "Point",
            "Point",
            "Point",
            "Point",
            "Point",
            "Point",
            "Point",
            "Point",
            "Point",
            "Point",
            "Point",
            "Point",
            "Point",
            "Point",
            "Point",
            "Point",
            "Point",
            "Point",
            "Point",
            "Point",
            "Point",
            "Point",
            "Point",
            "Point",
            "Point",
            "Point",
            "Point",
            "Point",
            "Point",
            "Point",
            "Point",
            "Point",
            "Point",
            "Point",
            "Point",
            "Point",
            "Point",
            "Point",
            "Point",
            "Point",
            "Point",
            "Point",
            "Point",
            "Point",
            "Point",
            "Point",
            "Point",
            "Point",
            "Point",
            "Point",
            "Point",
            "Point",
            "Point",
            "Point",
            "Point",
            "Point",
            "Point",
            "Point",
            "Point",
            "Point",
            "Point",
            "Point",
            "Point",
            "Point",
            "Point",
            "Point",
            "Point",
            "Point",
            "Point",
            "Point",
            "Point",
            "Point",
            "Point",
            "Point",
            "Point",
            "Point",
            "Point",
            "Point",
            "Point",
            "Point",
            "Point",
            "Point",
            "Point",
            "Point",
            "Point",
            "Point",
            "Point",
            "Point",
            "Point",
            "Point",
            "Point",
            "Point",
            "Point",
            "Point",
            "Point",
            "Point",
            "Point",
            "Point",
            "Point",
            "Point",
            "Point",
            "Point",
            "Point",
            "Point",
            "Point",
            "Position_Sensor",
            "Position_Sensor",
            "Position_Sensor",
            "Position_Sensor",
            "Position_Sensor",
            "Position_Sensor",
            "Position_Sensor",
            "Position_Sensor",
            "Position_Sensor",
            "Position_Sensor",
            "Position_Sensor",
            "Position_Sensor",
            "Position_Sensor",
            "Position_Sensor",
            "Position_Sensor",
            "Position_Sensor",
            "Position_Sensor",
            "Position_Sensor",
            "Position_Sensor",
            "Position_Sensor",
            "Position_Sensor",
            "Position_Sensor",
            "Position_Sensor",
            "Position_Sensor",
            "Position_Sensor",
            "Position_Sensor",
            "Position_Sensor",
            "Position_Sensor",
            "Position_Sensor",
            "Position_Sensor",
            "Position_Sensor",
            "Position_Sensor",
            "Position_Sensor",
            "Position_Sensor",
            "Position_Sensor",
            "Position_Sensor",
            "Proportional_Gain_Parameter",
            "Proportional_Gain_Parameter",
            "Proportional_Gain_Parameter",
            "Proportional_Gain_Parameter",
            "Proportional_Gain_Parameter",
            "Proportional_Gain_Parameter",
            "Proportional_Gain_Parameter",
            "Proportional_Gain_Parameter",
            "Proportional_Gain_Parameter",
            "Proportional_Gain_Parameter",
            "Proportional_Gain_Parameter",
            "Proportional_Gain_Parameter",
            "Proportional_Gain_Parameter",
            "Proportional_Gain_Parameter",
            "Proportional_Gain_Parameter",
            "Proportional_Gain_Parameter",
            "Proportional_Gain_Parameter",
            "Proportional_Gain_Parameter",
            "Reset_Command",
            "Reset_Command",
            "Reset_Command",
            "Reset_Command",
            "Reset_Command",
            "Reset_Command",
            "Reset_Command",
            "Reset_Command",
            "Reset_Command",
            "Reset_Command",
            "Reset_Command",
            "Reset_Command",
            "Reset_Command",
            "Reset_Command",
            "Reset_Command",
            "Reset_Command",
            "Reset_Setpoint",
            "Restroom",
            "Restroom",
            "Restroom",
            "Restroom",
            "Restroom",
            "Restroom",
            "Restroom",
            "Restroom",
            "Restroom",
            "Restroom",
            "Return_Damper",
            "Return_Damper",
            "Return_Damper",
            "Return_Damper",
            "Return_Damper",
            "Return_Damper",
            "Return_Damper",
            "Return_Damper",
            "Return_Damper",
            "Return_Damper",
            "Return_Water_Temperature_Sensor",
            "Return_Water_Temperature_Sensor",
            "Room",
            "Room_Air_Temperature_Setpoint",
            "Room_Air_Temperature_Setpoint",
            "Room_Air_Temperature_Setpoint",
            "Room_Air_Temperature_Setpoint",
            "Room_Air_Temperature_Setpoint",
            "Room_Air_Temperature_Setpoint",
            "Room_Air_Temperature_Setpoint",
            "Room_Air_Temperature_Setpoint",
            "Room_Air_Temperature_Setpoint",
            "Room_Air_Temperature_Setpoint",
            "Room_Air_Temperature_Setpoint",
            "Room_Air_Temperature_Setpoint",
            "Room_Air_Temperature_Setpoint",
            "Room_Air_Temperature_Setpoint",
            "Room_Air_Temperature_Setpoint",
            "Room_Air_Temperature_Setpoint",
            "Room_Air_Temperature_Setpoint",
            "Room_Air_Temperature_Setpoint",
            "Room_Air_Temperature_Setpoint",
            "Room_Air_Temperature_Setpoint",
            "Server_Room",
            "Server_Room",
            "Service_Room",
            "Stages_Status",
            "Stages_Status",
            "Storage_Room",
            "Storage_Room",
            "Supply_Fan",
            "Supply_Fan",
            "Supply_Fan",
            "Supply_Fan",
            "Supply_Fan",
            "Supply_Fan",
            "Supply_Fan",
            "Supply_Fan",
            "Supply_Fan",
            "Supply_Fan",
            "Supply_Fan",
            "Supply_Fan",
            "Supply_Fan",
            "Supply_Fan",
            "Supply_Fan",
            "Supply_Fan",
            "Supply_Fan",
            "Supply_Fan",
            "System",
            "System_Enable_Command",
            "System_Enable_Command",
            "System_Enable_Command",
            "System_Enable_Command",
            "System_Enable_Command",
            "System_Enable_Command",
            "System_Enable_Command",
            "System_Enable_Command",
            "System_Enable_Command",
            "System_Enable_Command",
            "System_Enable_Command",
            "System_Enable_Command",
            "System_Enable_Command",
            "System_Enable_Command",
            "System_Enable_Command",
            "System_Enable_Command",
            "System_Enable_Command",
            "System_Enable_Command",
            "System_Status",
            "System_Status",
            "System_Status",
            "System_Status",
            "System_Status",
            "System_Status",
            "System_Status",
            "System_Status",
            "System_Status",
            "System_Status",
            "System_Status",
            "System_Status",
            "System_Status",
            "System_Status",
            "System_Status",
            "System_Status",
            "System_Status",
            "System_Status",
            "System_Status",
            "System_Status",
            "System_Status",
            "System_Status",
            "System_Status",
            "System_Status",
            "System_Status",
            "System_Status",
            "System_Status",
            "System_Status",
            "System_Status",
            "System_Status",
            "System_Status",
            "Temperature_Parameter",
            "Temperature_Parameter",
            "Temperature_Parameter",
            "Temperature_Parameter",
            "Temperature_Parameter",
            "Temperature_Parameter",
            "Temperature_Parameter",
            "Temperature_Parameter",
            "Temperature_Parameter",
            "Temperature_Parameter",
            "Temperature_Parameter",
            "Temperature_Parameter",
            "Temperature_Parameter",
            "Temperature_Parameter",
            "Temperature_Parameter",
            "Temperature_Parameter",
            "Temperature_Parameter",
            "Temperature_Parameter",
            "Temperature_Setpoint",
            "Temperature_Setpoint",
            "Temperature_Setpoint",
            "Temperature_Setpoint",
            "Temperature_Setpoint",
            "Temperature_Setpoint",
            "Temperature_Setpoint",
            "Temperature_Setpoint",
            "Temperature_Setpoint",
            "Temperature_Setpoint",
            "Temperature_Setpoint",
            "Temperature_Setpoint",
            "Temperature_Setpoint",
            "Temperature_Setpoint",
            "Temperature_Setpoint",
            "Temperature_Setpoint",
            "Temperature_Setpoint",
            "Temperature_Setpoint",
            "Thermal_Power_Sensor",
            "Usage_Sensor",
            "Usage_Sensor",
            "Usage_Sensor",
            "Usage_Sensor",
            "Usage_Sensor",
            "Usage_Sensor",
            "Usage_Sensor",
            "Usage_Sensor",
            "Usage_Sensor",
            "Usage_Sensor",
            "Voltage_Sensor",
            "Voltage_Sensor",
            "Voltage_Sensor",
            "Voltage_Sensor",
            "Voltage_Sensor",
            "Voltage_Sensor",
            "Voltage_Sensor",
            "Voltage_Sensor",
            "Voltage_Sensor",
            "Voltage_Sensor",
            "Voltage_Sensor",
            "Voltage_Sensor",
            "Voltage_Sensor",
            "Voltage_Sensor",
            "Voltage_Sensor",
            "Voltage_Sensor",
            "Voltage_Sensor",
            "Voltage_Sensor",
            "Voltage_Sensor",
            "Voltage_Sensor",
            "Voltage_Sensor",
            "Voltage_Sensor",
            "Voltage_Sensor",
            "Voltage_Sensor",
            "Voltage_Sensor",
            "Voltage_Sensor",
            "Voltage_Sensor",
            "Voltage_Sensor",
            "Voltage_Sensor",
            "Voltage_Sensor",
            "Voltage_Sensor",
            "Voltage_Sensor",
            "Voltage_Sensor",
            "Warmest_Zone_Air_Temperature_Sensor",
            "Warmest_Zone_Air_Temperature_Sensor",
            "Water_Distribution",
            "Water_Tank",
            "Water_Temperature_Sensor",
            "Weather_Station",
            "Wind_Speed_Sensor",
            "Wind_Speed_Sensor",
            "Wind_Speed_Sensor"
           ],
           [
            "3abdac1c_4717_445e_8248_0143c701015a",
            "bc3a295e_af26_46d7_9445_63325ab035b8",
            "c10f79c9_744d_40a5_a272_7cde7ca1f5a6",
            "f7c06302_3c06_4331_b7ee_6f01946aa788",
            "fd5601fa_5513_4b0a_b935_9817c84319e6",
            "124295e4_f6a9_4904_baa2_6bb2752d0059.32c2ab64_a7da_4f4e_951f_64ee2fcc7e1b",
            "124295e4_f6a9_4904_baa2_6bb2752d0059.32fa613f_5abb_484a_8236_bd2a811dce27",
            "3062fe14_682d_481f_a98e_b217c45c2337.a6dd463f_8597_40da_b5fe_9f578af9373c",
            "3062fe14_682d_481f_a98e_b217c45c2337.f129b8da_f43e_4881_b28c_e06488e3537a",
            "3abdac1c_4717_445e_8248_0143c701015a.4c12ffce_66c4_4bf2_937c_5182cbd5b4d5",
            "3abdac1c_4717_445e_8248_0143c701015a.5a7fa5e3_062f_4d57_9b2a_dfd97e08e290",
            "3abdac1c_4717_445e_8248_0143c701015a.b272e611_c07f_44d5_9ff5_898b5b3ec515",
            "554f7ba1_7232_4a12_a2b6_0954976ff3b9.8869a237_11bc_44a4_b0c3_4c1689effddd",
            "554f7ba1_7232_4a12_a2b6_0954976ff3b9.f28cfd73_fb7e_453f_b1d1_431faf02b3c4",
            "5953d8e3_565b_4b29_a498_5ef50f9aefbe.4981b90d_70c7_402e_b441_1cfbe47fdd61",
            "5953d8e3_565b_4b29_a498_5ef50f9aefbe.525b3aea_8955_426b_b344_fb2a9b0f622f",
            "793f94f9_73d2_4ed2_8ccb_abf4576c2a84.013f2a1c_ef37_42c1_9c31_d547490e9cce",
            "793f94f9_73d2_4ed2_8ccb_abf4576c2a84.a92d2f05_e8e9_462d_9b97_1ca12190aaba",
            "8dbdff35_af3a_4c69_8963_53bdcb33c775.1fe537de_ff12_4bd4_b4de_de493e2b6bef",
            "8dbdff35_af3a_4c69_8963_53bdcb33c775.c759ad9f_9d6d_45c1_ad1c_377840198f64",
            "8f8996ae_8dd4_4a45_bed9_7757fa6907db.414f28b1_b9e6_46ea_9974_aa967c707211",
            "951d1945_98d0_4329_9025_dce55687f3a4.70ae4609_5637_4ad3_a8f1_619ee5d5df01",
            "951d1945_98d0_4329_9025_dce55687f3a4.abbc8080_9bf6_4e68_8195_bb3ee2d46b5d",
            "a047df87_7c81_4a1c_abc5_99a6eda40f1a.410b1290_1aaf_4489_95a8_7de44bf124c9",
            "a047df87_7c81_4a1c_abc5_99a6eda40f1a.cc60b5aa_ec3a_4161_b08f_bb9ec8617003",
            "bc3a295e_af26_46d7_9445_63325ab035b8.0944e01e_a84a_4fac_bb42_08f6c8c8cd1a",
            "bc3a295e_af26_46d7_9445_63325ab035b8.bcc72fd9_094d_4c92_acff_48a282107211",
            "c10f79c9_744d_40a5_a272_7cde7ca1f5a6.15a55f68_5a9d_4cf6_a73a_67b57b63b704",
            "c10f79c9_744d_40a5_a272_7cde7ca1f5a6.32bacb03_dff9_40b7_8c0b_aacd6babfe53",
            "c10f79c9_744d_40a5_a272_7cde7ca1f5a6.529c74f6_52ef_4cca_b124_e6d53a24e50e",
            "c10f79c9_744d_40a5_a272_7cde7ca1f5a6.a3f240ea_4fc6_40d6_a066_9b09f8bdbd8d",
            "c10f79c9_744d_40a5_a272_7cde7ca1f5a6.c9c2cae2_2355_4e3a_adbe_a553b98ee149",
            "cbb33199_7896_432f_b0f6_ef45a4650723.33cd6582_f1fe_48d5_a30c_5110e9ee79c6",
            "cbb33199_7896_432f_b0f6_ef45a4650723.b49eca2e_979e_4219_a73c_8625ea26ad90",
            "d0b621a6_148d_427d_8aef_b073b11184e1.500c86c1_9fd9_4aff_b398_056040c56e47",
            "d0b621a6_148d_427d_8aef_b073b11184e1.7e358f65_edaf_4cb7_a164_2156e30fe937",
            "da5873de_e112_4f9b_9e0f_149bd1221894.7fc956da_e397_41f7_ac74_ef9c0a03ddab",
            "da5873de_e112_4f9b_9e0f_149bd1221894.ef1a1240_07d1_4572_b3e5_6591c31372db",
            "e700973b_9070_4ec8_9e8d_10cdf1fd209d.11147468_4387_4cc6_8543_19487306fa71",
            "e700973b_9070_4ec8_9e8d_10cdf1fd209d.300cd4b0_44a6_469e_8520_92cae286ea83",
            "ebb4f301_f353_446c_9b92_19f131e5181d.4b45b47d_0513_4425_8f98_5892c696a533",
            "ebb4f301_f353_446c_9b92_19f131e5181d.e91d1845_79f7_43a0_8fcf_e7fa181f8c5d",
            "f7c06302_3c06_4331_b7ee_6f01946aa788.80d986bc_5c93_4843_89f1_1c82d737fca8",
            "f7c06302_3c06_4331_b7ee_6f01946aa788.f6d92607_adb8_4a66_a9e2_a28ae28b87fa",
            "fd5601fa_5513_4b0a_b935_9817c84319e6.005b4af3_1813_4b16_a89f_64733cd9e03a",
            "fd5601fa_5513_4b0a_b935_9817c84319e6.5e4ae5df_1476_48a7_a752_cbd08af4c677",
            "fd5601fa_5513_4b0a_b935_9817c84319e6.9c86e80b_e771_4df5_b780_b4678fea0c70",
            "fd5601fa_5513_4b0a_b935_9817c84319e6.9ca0f265_d2e7_4b44_b90b_8d1c9cb9db9f",
            "fd5601fa_5513_4b0a_b935_9817c84319e6.ed23a3b5_2e5d_4ba7_baef_3ebada8894ab",
            "47f9140d_38d8_4391_9aa1_08973d4b6370.850f4214_f94d_4b62_9e24_02705deba9b3",
            "47f9140d_38d8_4391_9aa1_08973d4b6370.b10f39ce_fba2_475f_a0f3_47fcdebe69c1",
            "541fd2f2_76a9_49dd_a2eb_16300bdf6ac6",
            "bcc0de5e_f29d_43cc_a45f_1718e805426d",
            "df67cba3_6743_4ae7_83f8_e492a62bb7bf",
            "c10f79c9_744d_40a5_a272_7cde7ca1f5a6.4b524f12_0c6f_4abd_a677_51db619f635f",
            "fd5601fa_5513_4b0a_b935_9817c84319e6.4583dd51_c3aa_4446_9495_858a1e337da3",
            "e8e7705d_b87a_4bf3_b454_202ca27ea7ad",
            "1f182f96_a9a9_4f89_adfc_e8c11498e926",
            "d02c6fdd_ce6b_44a1_b193_1ede85e7d4c8.b335617c_4262_41b5_80dc_4af207b12a10",
            "13211186_beb4_4227_bd2d_0644e860886e",
            "4583aa00_3dba_4283_8633_c44b9780855a",
            "0d5d19dc_e106_4cfb_9bee_c5f6d46e4388",
            "15fc7d70_1c93_497b_8f43_35ef2eab0a00",
            "47f9140d_38d8_4391_9aa1_08973d4b6370.9d354293_6f66_4520_afb8_348b8c398f03",
            "27afeb29_6311_414c_a5fc_79c19d6ea89d",
            "285ae1d5_09cb_4871_a61f_bcc5b44a36de",
            "959490bb_9624_4a8b_b9ae_b631a7848908",
            "3b373634_2461_4b61_8bcb_068c12b7e1a8.6af9698e_b72b_48d7_b864_9a0d518ec3b1",
            "3b373634_2461_4b61_8bcb_068c12b7e1a8.cbd54644_e644_4743_a015_7b53af377a11",
            "3b373634_2461_4b61_8bcb_068c12b7e1a8.df84f19d_e8f9_4bdf_963b_71b2cd80cf9e",
            "3b373634_2461_4b61_8bcb_068c12b7e1a8.ec82b630_d0f2_4f6d_9c7c_948279cb8bd6",
            "506f355b_ec0d_4763_8082_5d022dcf6153.2ffbcf7c_fafd_4ae5_b05a_e337ea56eaf9",
            "506f355b_ec0d_4763_8082_5d022dcf6153.87389995_27ad_49a8_bf1b_5f25b117ce56",
            "506f355b_ec0d_4763_8082_5d022dcf6153.d8561aa6_7a64_4f02_a210_0690761c6a3e",
            "506f355b_ec0d_4763_8082_5d022dcf6153.ec82b630_d0f2_4f6d_9c7c_948279cb8bd6",
            "d02c6fdd_ce6b_44a1_b193_1ede85e7d4c8.0e964c7f_9275_47df_97c5_ede973dc0767",
            "d02c6fdd_ce6b_44a1_b193_1ede85e7d4c8.89e05278_e33b_4bac_b51b_1204446d5017",
            "d02c6fdd_ce6b_44a1_b193_1ede85e7d4c8.de9e0393_c179_4e99_8bc8_db314a813440",
            "059465b4_6a0b_4083_9db7_d615c9a8a503",
            "0871cd8d_8191_49d1_a4e0_f9e0632b3415",
            "0c5cbfd3_203c_4c0a_96d2_52895ed4f84c",
            "368bbca0_5ffe_411a_8e6c_0a3ba893ba86",
            "37bd8556_455f_4bff_9517_59d2cc2649ed",
            "48756146_e5bd_496f_8864_4a33742dc0a4",
            "718e54c6_67a5_4ba6_b293_04bfd531e28f",
            "76705912_de37_4fcb_b1bc_f32d9c6b032f",
            "90aa800d_4d8d_47ac_a101_d15be3214e00",
            "96f936ce_399b_47f4_9e80_dd7a7e07c262",
            "b309f272_2c39_4182_ad56_2dd913d63e3e",
            "c0b51681_99ef_4501_92ab_d66bf21db311",
            "c512f8f9_6c59_491b_98d2_7ddbea43a129",
            "cef8f45f_6400_4876_886f_4c86382a9024",
            "d32ca226_912e_4212_a304_0b51c3e75f3b",
            "e8ceeebb_54d4_4821_aa17_15d88949401e",
            "f32898ec_774d_43b8_ad6f_6806ae29e394",
            "f3c2c140_38b6_410e_8917_8a72a742ca94",
            "47f9140d_38d8_4391_9aa1_08973d4b6370.16b4b1f2_2d78_4d5b_89f2_13081bce8dd8",
            "47f9140d_38d8_4391_9aa1_08973d4b6370.77563435_067b_4de1_b0fc_406ca277d130",
            "47f9140d_38d8_4391_9aa1_08973d4b6370.7d8a19a8_29c0_4973_9e2c_8d1fc84048ad",
            "47f9140d_38d8_4391_9aa1_08973d4b6370.840455c3_58f7_4bee_8e99_227d54c1f871",
            "47f9140d_38d8_4391_9aa1_08973d4b6370.9290e66a_a5c5_4b69_af0f_7291b99286ad",
            "47f9140d_38d8_4391_9aa1_08973d4b6370.b71b369a_bc34_4ff1_9a24_95de01fca685",
            "47f9140d_38d8_4391_9aa1_08973d4b6370.875e17b1_a6cf_4f93_830c_37a54c67028c",
            "47f9140d_38d8_4391_9aa1_08973d4b6370.a7e89ef7_adcd_4c9c_8672_3cb4d0febadf",
            "124295e4_f6a9_4904_baa2_6bb2752d0059.a6dc91a5_aa78_4501_9238_034a2befa16a",
            "3062fe14_682d_481f_a98e_b217c45c2337.222824e4_3f83_4be9_8cd6_0eb961dedf52",
            "3abdac1c_4717_445e_8248_0143c701015a.8276169e_bfe8_4fec_9500_3c8b2e271a7d",
            "554f7ba1_7232_4a12_a2b6_0954976ff3b9.9c707103_1eb8_4f2b_9b16_35eb3b169ece",
            "5953d8e3_565b_4b29_a498_5ef50f9aefbe.28012117_7a84_402b_86c4_ae1eb168d48a",
            "793f94f9_73d2_4ed2_8ccb_abf4576c2a84.c02f7965_a485_4487_959f_d8a31bb997a2",
            "8dbdff35_af3a_4c69_8963_53bdcb33c775.973039e1_772a_4771_bb39_1ef27616036d",
            "951d1945_98d0_4329_9025_dce55687f3a4.4c79aa8c_f652_4dee_b809_3b6385537ace",
            "a047df87_7c81_4a1c_abc5_99a6eda40f1a.30dbbb56_2371_4eb4_a1ca_be6c934e2e38",
            "bc3a295e_af26_46d7_9445_63325ab035b8.256f9edf_3066_4f9b_97dc_f5b685fe1660",
            "c10f79c9_744d_40a5_a272_7cde7ca1f5a6.e48f2638_d690_4f23_907e_f19a534c7f34",
            "cbb33199_7896_432f_b0f6_ef45a4650723.3c088d26_7862_46f4_aea2_12d7893c5d98",
            "d0b621a6_148d_427d_8aef_b073b11184e1.40cfb8c3_9e33_40a4_8780_50f7dbc15eff",
            "da5873de_e112_4f9b_9e0f_149bd1221894.a402fd63_304e_4125_a51a_41a5cca50800",
            "e700973b_9070_4ec8_9e8d_10cdf1fd209d.418ce6e2_9463_4786_958d_b71736421016",
            "ebb4f301_f353_446c_9b92_19f131e5181d.099dc70e_f41d_4bc5_aad0_0749d7685daa",
            "f7c06302_3c06_4331_b7ee_6f01946aa788.86198044_c6b3_449b_93bc_5f50bf70830d",
            "fd5601fa_5513_4b0a_b935_9817c84319e6.ed75d890_225f_4ad5_8137_d14743c37972",
            "00f36e5b_de4d_4cff_a935_44a44574b285",
            "054e56a7_9776_451b_96f1_ebd5992136a3",
            "1a8818c2_557b_4581_acc1_d035a544021b",
            "371dca70_b2c4_486d_924e_06217ea301de",
            "4637dfe7_2855_4c33_82ec_5dc7cbf3ca68",
            "4f4c49dc_3a34_4b16_a20f_ab7f916c2798",
            "520aeaf6_5518_474e_9a94_c8885c6aa1c7",
            "5552e0c4_3583_4204_822a_7882f2177596",
            "5ae6674c_beb6_468a_9fad_5c219624f605",
            "68ab4731_84bd_48ff_a4da_29f25e2c4d25",
            "74d91827_7222_4463_bc9c_0219a2a68374",
            "a32f27d9_0a51_4ea8_baeb_9c4ec1e34a04",
            "a9a31134_dbf3_42fd_bede_2b3d8d33cda3",
            "b768b18a_339b_4e83_989f_2c4efc699613",
            "d44e3104_282c_45db_bb95_e1918ed00fe7",
            "d53e0430_ac7a_4f4f_81ad_8299092c73d2",
            "d79e6b1c_8259_4717_80c0_b9642ba8f3f1",
            "f227cc61_92b7_42f2_9b55_0cf44658bd16",
            "d02c6fdd_ce6b_44a1_b193_1ede85e7d4c8.0c944fda_d94e_48f0_9b1a_b7f570c63c40",
            "08684dc4_48b2_49da_b3cd_9b061c76c4f4",
            "1af5f6f9_15b1_4a62_962e_0ede16373202.54b4e9ee_be4d_433b_b0f8_4263a00f6236",
            "1af5f6f9_15b1_4a62_962e_0ede16373202.9f7c160b_2de5_47a8_b284_2dd6edad72a0",
            "1af5f6f9_15b1_4a62_962e_0ede16373202.f246a8c4_e371_44e5_be8c_8e310eb39965",
            "1af5f6f9_15b1_4a62_962e_0ede16373202.f411c52f_1e8c_4f90_9bdc_f2cdc18c22f3",
            "6b498416_1218_453d_a09e_64a2e2aebe24.54b4e9ee_be4d_433b_b0f8_4263a00f6236",
            "6b498416_1218_453d_a09e_64a2e2aebe24.9f7c160b_2de5_47a8_b284_2dd6edad72a0",
            "6b498416_1218_453d_a09e_64a2e2aebe24.f246a8c4_e371_44e5_be8c_8e310eb39965",
            "6b498416_1218_453d_a09e_64a2e2aebe24.f411c52f_1e8c_4f90_9bdc_f2cdc18c22f3",
            "70d05bb1_6810_435a_bcac_8166afba0ba6.54b4e9ee_be4d_433b_b0f8_4263a00f6236",
            "70d05bb1_6810_435a_bcac_8166afba0ba6.9f7c160b_2de5_47a8_b284_2dd6edad72a0",
            "70d05bb1_6810_435a_bcac_8166afba0ba6.f246a8c4_e371_44e5_be8c_8e310eb39965",
            "70d05bb1_6810_435a_bcac_8166afba0ba6.f411c52f_1e8c_4f90_9bdc_f2cdc18c22f3",
            "71d76c95_92ae_4336_b8df_008eea79b59a",
            "7b630b30_400a_413b_9d29_b0b98688dac5.54b4e9ee_be4d_433b_b0f8_4263a00f6236",
            "7b630b30_400a_413b_9d29_b0b98688dac5.9f7c160b_2de5_47a8_b284_2dd6edad72a0",
            "7b630b30_400a_413b_9d29_b0b98688dac5.f246a8c4_e371_44e5_be8c_8e310eb39965",
            "7b630b30_400a_413b_9d29_b0b98688dac5.f411c52f_1e8c_4f90_9bdc_f2cdc18c22f3",
            "a931e657_2b90_4ab5_98fb_5f899761459e",
            "bb8bdc58_4098_4ba0_a92d_907dad26eaab.54b4e9ee_be4d_433b_b0f8_4263a00f6236",
            "bb8bdc58_4098_4ba0_a92d_907dad26eaab.9f7c160b_2de5_47a8_b284_2dd6edad72a0",
            "bb8bdc58_4098_4ba0_a92d_907dad26eaab.f246a8c4_e371_44e5_be8c_8e310eb39965",
            "bb8bdc58_4098_4ba0_a92d_907dad26eaab.f411c52f_1e8c_4f90_9bdc_f2cdc18c22f3",
            "3abdac1c_4717_445e_8248_0143c701015a.066adbcc_4ff8_44ef_9532_ddf4317cda1d",
            "3abdac1c_4717_445e_8248_0143c701015a.d63ebafc_0cfa_494f_a365_872e42564356",
            "bc3a295e_af26_46d7_9445_63325ab035b8.571ddd6d_fc12_47f6_bd07_e10c498ac742",
            "bc3a295e_af26_46d7_9445_63325ab035b8.f0f33bdd_e315_4fc5_9eab_a5a00211d3f8",
            "c10f79c9_744d_40a5_a272_7cde7ca1f5a6.36ab6c42_36b6_45af_a65e_fbd6d119b6f4",
            "c10f79c9_744d_40a5_a272_7cde7ca1f5a6.ac15587f_8b12_478f_bba8_652bfd9b9fd2",
            "f7c06302_3c06_4331_b7ee_6f01946aa788.98f02701_34d6_4fac_bcf3_412fdf68afff",
            "f7c06302_3c06_4331_b7ee_6f01946aa788.9b2707d8_11f8_4c54_9ac5_383879b10b90",
            "fd5601fa_5513_4b0a_b935_9817c84319e6.463a2507_2cb8_485d_8295_b97e311092bd",
            "fd5601fa_5513_4b0a_b935_9817c84319e6.78bd8dde_c90a_4f16_a19d_37a4945c018a",
            "08ff7ae0_acef_4f4d_8328_2de484a6d5e1.d7da115a_2c98_46f0_8ed0_070c844c2c3f",
            "47f9140d_38d8_4391_9aa1_08973d4b6370.fcf15fbf_1f03_4ae3_a1b9_09c21ae7c7c9",
            "3062fe14_682d_481f_a98e_b217c45c2337.219205ac_c806_4815_89f8_e5553838d484",
            "3abdac1c_4717_445e_8248_0143c701015a.e4462e58_35a7_48c6_a696_a54a696786ae",
            "793f94f9_73d2_4ed2_8ccb_abf4576c2a84.a670f52d_d221_47b4_ba67_bd8f5168907c",
            "8dbdff35_af3a_4c69_8963_53bdcb33c775.2d051934_94eb_497f_b85f_a928a0551586",
            "a047df87_7c81_4a1c_abc5_99a6eda40f1a.949bc9a5_ccfb_4e2f_9322_17eeccfa892a",
            "bc3a295e_af26_46d7_9445_63325ab035b8.f3378be5_da2a_4ef5_9111_dba3370f4b8a",
            "c10f79c9_744d_40a5_a272_7cde7ca1f5a6.a1c18ab6_ea4b_47a5_a6ce_7fbab20586d4",
            "ebb4f301_f353_446c_9b92_19f131e5181d.d3b18a02_2fde_48eb_9f78_e311eeb1990b",
            "f7c06302_3c06_4331_b7ee_6f01946aa788.a65adba9_bed7_4daa_bd1b_8520d7c54ac8",
            "fd5601fa_5513_4b0a_b935_9817c84319e6.2dfc0418_a9b9_431a_9d5c_572009e3c3da",
            "3062fe14_682d_481f_a98e_b217c45c2337.07b09fef_4f5c_4157_85a6_b67ee83010f3",
            "3abdac1c_4717_445e_8248_0143c701015a.ef042c0b_6845_47ee_935d_5e1466f9ce06",
            "793f94f9_73d2_4ed2_8ccb_abf4576c2a84.9ad2e97c_a220_49b8_9556_6ad6db019687",
            "8dbdff35_af3a_4c69_8963_53bdcb33c775.9da5f41c_49ae_45d5_9e9d_91b44261bc9e",
            "a047df87_7c81_4a1c_abc5_99a6eda40f1a.5aa74a2f_8579_4ecb_ad62_d746acf2b303",
            "bc3a295e_af26_46d7_9445_63325ab035b8.3243182a_b49e_4fa4_b17d_f03962b6d80e",
            "c10f79c9_744d_40a5_a272_7cde7ca1f5a6.7204a748_bc51_4070_bb1e_4a50b901df00",
            "ebb4f301_f353_446c_9b92_19f131e5181d.46f28e39_489d_43fd_ad39_de0e29ff2a90",
            "f7c06302_3c06_4331_b7ee_6f01946aa788.3559052c_d0f4_42ab_842f_7b17122e73b2",
            "fd5601fa_5513_4b0a_b935_9817c84319e6.08e5a191_0679_4c97_9c52_6079a3befaa4",
            "08ff7ae0_acef_4f4d_8328_2de484a6d5e1.f31b26ab_52c0_4781_a1dc_34c5096c825b",
            "47f9140d_38d8_4391_9aa1_08973d4b6370.e8a5b4d0_43f8_47fc_8bec_3df5201ef228",
            "f3fa74e8_4d3c_4003_9a22_1650c25f4da1",
            "1af5f6f9_15b1_4a62_962e_0ede16373202",
            "6b498416_1218_453d_a09e_64a2e2aebe24",
            "70d05bb1_6810_435a_bcac_8166afba0ba6",
            "7b630b30_400a_413b_9d29_b0b98688dac5",
            "bb8bdc58_4098_4ba0_a92d_907dad26eaab",
            "129c879b_b4b2_45a5_8daf_137885376b8a",
            "1af5f6f9_15b1_4a62_962e_0ede16373202.03b6527a_74b4_4292_8b2a_9ef67d5136ba",
            "1af5f6f9_15b1_4a62_962e_0ede16373202.2c1c5465_2f12_4247_abea_c7493d003286",
            "1af5f6f9_15b1_4a62_962e_0ede16373202.7f8a3b58_46c0_4bc8_a174_7ca36181c653",
            "1af5f6f9_15b1_4a62_962e_0ede16373202.a237d46d_cd33_4222_b76a_a6c3fa1ffe01",
            "1af5f6f9_15b1_4a62_962e_0ede16373202.bd260118_e2c4_4562_a67b_9cdd7c3c7b8c",
            "1af5f6f9_15b1_4a62_962e_0ede16373202.f1ddb1d3_e351_484e_84fe_51c28e57566a",
            "2254cd89_239d_49c2_acd5_96eabb45f817",
            "289fc135_2211_4de6_8e26_ceddc5aa48c5",
            "6b498416_1218_453d_a09e_64a2e2aebe24.03b6527a_74b4_4292_8b2a_9ef67d5136ba",
            "6b498416_1218_453d_a09e_64a2e2aebe24.2c1c5465_2f12_4247_abea_c7493d003286",
            "6b498416_1218_453d_a09e_64a2e2aebe24.7f8a3b58_46c0_4bc8_a174_7ca36181c653",
            "6b498416_1218_453d_a09e_64a2e2aebe24.a237d46d_cd33_4222_b76a_a6c3fa1ffe01",
            "6b498416_1218_453d_a09e_64a2e2aebe24.bd260118_e2c4_4562_a67b_9cdd7c3c7b8c",
            "6b498416_1218_453d_a09e_64a2e2aebe24.f1ddb1d3_e351_484e_84fe_51c28e57566a",
            "70d05bb1_6810_435a_bcac_8166afba0ba6.03b6527a_74b4_4292_8b2a_9ef67d5136ba",
            "70d05bb1_6810_435a_bcac_8166afba0ba6.2c1c5465_2f12_4247_abea_c7493d003286",
            "70d05bb1_6810_435a_bcac_8166afba0ba6.7f8a3b58_46c0_4bc8_a174_7ca36181c653",
            "70d05bb1_6810_435a_bcac_8166afba0ba6.a237d46d_cd33_4222_b76a_a6c3fa1ffe01",
            "70d05bb1_6810_435a_bcac_8166afba0ba6.bd260118_e2c4_4562_a67b_9cdd7c3c7b8c",
            "70d05bb1_6810_435a_bcac_8166afba0ba6.f1ddb1d3_e351_484e_84fe_51c28e57566a",
            "7b630b30_400a_413b_9d29_b0b98688dac5.03b6527a_74b4_4292_8b2a_9ef67d5136ba",
            "7b630b30_400a_413b_9d29_b0b98688dac5.2c1c5465_2f12_4247_abea_c7493d003286",
            "7b630b30_400a_413b_9d29_b0b98688dac5.7f8a3b58_46c0_4bc8_a174_7ca36181c653",
            "7b630b30_400a_413b_9d29_b0b98688dac5.a237d46d_cd33_4222_b76a_a6c3fa1ffe01",
            "7b630b30_400a_413b_9d29_b0b98688dac5.bd260118_e2c4_4562_a67b_9cdd7c3c7b8c",
            "7b630b30_400a_413b_9d29_b0b98688dac5.f1ddb1d3_e351_484e_84fe_51c28e57566a",
            "8879f46d_5f98_46d4_8565_3209fa379467",
            "8d8101df_d48b_4b8e_b54f_56e677011507",
            "a7c26929_0897_4967_aa99_3f9d4b10526a",
            "bb8bdc58_4098_4ba0_a92d_907dad26eaab.03b6527a_74b4_4292_8b2a_9ef67d5136ba",
            "bb8bdc58_4098_4ba0_a92d_907dad26eaab.2c1c5465_2f12_4247_abea_c7493d003286",
            "bb8bdc58_4098_4ba0_a92d_907dad26eaab.7f8a3b58_46c0_4bc8_a174_7ca36181c653",
            "bb8bdc58_4098_4ba0_a92d_907dad26eaab.a237d46d_cd33_4222_b76a_a6c3fa1ffe01",
            "bb8bdc58_4098_4ba0_a92d_907dad26eaab.bd260118_e2c4_4562_a67b_9cdd7c3c7b8c",
            "bb8bdc58_4098_4ba0_a92d_907dad26eaab.f1ddb1d3_e351_484e_84fe_51c28e57566a",
            "bdca0049_d1dc_4b15_95b8_d8f310dc651c",
            "f399e88d_ab5e_4eed_9aad_c466f4e5e740",
            "f3b6f23a_47a3_4b6b_ac7e_8fa00b83e560",
            "c08f4019_b535_41fd_a37a_282557a97934",
            "3abdac1c_4717_445e_8248_0143c701015a.5f9db389_7ade_4e13_a1d3_58bec0f0e647",
            "d64b9bc0_e6b3_4556_acda_8040d33b7148.96a43ad1_0a11_4ff6_8575_7debf96eb7fa",
            "d64b9bc0_e6b3_4556_acda_8040d33b7148.c7fec04c_e8ac_4a10_b940_ebd908f9d284",
            "08ff7ae0_acef_4f4d_8328_2de484a6d5e1.be157eec_28b6_451c_8003_826158c95f3a",
            "08ff7ae0_acef_4f4d_8328_2de484a6d5e1.c0d87097_2e40_4595_af3b_76306abf5f05",
            "124295e4_f6a9_4904_baa2_6bb2752d0059.3f1c3fd9_7770_4d52_90b2_920b826acf79",
            "3062fe14_682d_481f_a98e_b217c45c2337.0d1edc32_77a9_4ed6_be92_7a3b795ceb0e",
            "3abdac1c_4717_445e_8248_0143c701015a.3b909497_82ba_4a25_b737_1598d96d67ef",
            "3abdac1c_4717_445e_8248_0143c701015a.714fbd48_680e_4957_beac_7cad7a429760",
            "3abdac1c_4717_445e_8248_0143c701015a.b273eec4_77e6_4f86_a3e8_13e8f8ec1a05",
            "3abdac1c_4717_445e_8248_0143c701015a.e33ce5a7_ab9a_4d4b_8a27_718784b44a9c",
            "47f9140d_38d8_4391_9aa1_08973d4b6370.485eff8b_3a6a_4f36_be95_2d3f78ebddd4",
            "47f9140d_38d8_4391_9aa1_08973d4b6370.7b40bd35_8f79_4c33_8046_c4bda2231585",
            "554f7ba1_7232_4a12_a2b6_0954976ff3b9.a36e74ba_375e_42e0_a6f0_d932fc7d41da",
            "5953d8e3_565b_4b29_a498_5ef50f9aefbe.bf52d0a2_a3d1_46f2_ba36_129bd13c7abd",
            "793f94f9_73d2_4ed2_8ccb_abf4576c2a84.24586287_5927_424e_848d_889e322b97c8",
            "7ff5bb96_3b05_4eca_aa4d_237377014449.05a469ed_8f73_4a2e_9596_fa9d2413a1f5",
            "813fe978_db46_4f77_b69b_644bc8f3157a.c7db7e9c_6f8f_4b9b_9165_b6294c6690d5",
            "8dbdff35_af3a_4c69_8963_53bdcb33c775.b82c6949_dcee_43ac_b2b9_29c92c7f84b4",
            "8f8996ae_8dd4_4a45_bed9_7757fa6907db.00d6ac8b_77dd_4c03_ae3e_e2d9a051941e",
            "8f8996ae_8dd4_4a45_bed9_7757fa6907db.036904ae_1cd4_432e_b090_7b229fdefac7",
            "8f8996ae_8dd4_4a45_bed9_7757fa6907db.16544776_4d60_4e52_a598_fec8591af679",
            "8f8996ae_8dd4_4a45_bed9_7757fa6907db.31f74662_360c_468e_a205_512b566ca406",
            "8f8996ae_8dd4_4a45_bed9_7757fa6907db.5910bc28_5b9a_4f65_9ec8_ba966a592d44",
            "8f8996ae_8dd4_4a45_bed9_7757fa6907db.879521d3_b13f_4339_abae_14e97c2a3939",
            "951d1945_98d0_4329_9025_dce55687f3a4.75e94f04_dba6_43e1_9bd1_b010a7abb65c",
            "a0036c77_2d17_4e7d_a734_9e7a1e290270.bb1397a7_de71_4ce8_8772_f872991c0118",
            "a047df87_7c81_4a1c_abc5_99a6eda40f1a.628c1cc5_c875_460f_9451_01bca93c0093",
            "a623c910_08ec_4a6f_95ff_d6c28ead53ca.05bbade4_da0b_4d8c_8004_3280b2d1b560",
            "a623c910_08ec_4a6f_95ff_d6c28ead53ca.213fc08f_faea_4a35_adc9_67b59a4a9878",
            "a623c910_08ec_4a6f_95ff_d6c28ead53ca.73a0dd95_2b59_4e89_9fe6_4cdf668efe63",
            "b58b8aff_f133_4447_b776_5d8a825f0de3.5ead01a0_b541_4f33_b137_00d6ae9d3bed",
            "b81feefd_2a2b_488b_9618_3994e8ca9653.d9c149f6_4382_447d_9546_d6ebc2eb090d",
            "bc3a295e_af26_46d7_9445_63325ab035b8.87216800_970e_4b24_862f_8fd647071388",
            "c10f79c9_744d_40a5_a272_7cde7ca1f5a6.0d760e87_4d3f_4b5a_8580_8a5fc28d0113",
            "c10f79c9_744d_40a5_a272_7cde7ca1f5a6.916a24f0_33ef_432f_a435_21847edc39f9",
            "cbb33199_7896_432f_b0f6_ef45a4650723.a49381bc_c748_4757_b500_350b0aebdce5",
            "d0b621a6_148d_427d_8aef_b073b11184e1.70751450_4371_44af_a8a2_2b97480c34d0",
            "d64b9bc0_e6b3_4556_acda_8040d33b7148.d646b102_cad2_4c43_852c_6f4e04ca0b01.04fa8942_55b0_41fb_9cfc_66d087d70245",
            "da5873de_e112_4f9b_9e0f_149bd1221894.c86be32c_a122_4e1e_af28_3e7ff28b3fb5",
            "e04fe081_6287_4d73_8bf4_8b86c5169e65.037c21a3_39bc_42bf_908c_ff8fea5e6c2a",
            "e6a6a83c_d4a3_4399_bf59_2a465dde78ae.ec3ba9b6_19e4_4861_b9f1_584d11d080b8",
            "e700973b_9070_4ec8_9e8d_10cdf1fd209d.bf5dfa2b_5274_46ec_b613_c1de8df5bdd5",
            "ebb4f301_f353_446c_9b92_19f131e5181d.ea05dd1f_2cc1_4471_84b5_ca8b671c5684",
            "f0cc2646_d82d_4d1f_955c_46ed9c5fa1df.1de8217a_44b8_46f9_9fe4_367fadd30c3a",
            "f7c06302_3c06_4331_b7ee_6f01946aa788.b5383462_fe50_4751_ac5f_29b0c92e081b",
            "fd5601fa_5513_4b0a_b935_9817c84319e6.be69c4fb_c947_4f68_933c_a88f996642d8",
            "1d711925_bc14_4e4c_ad0a_f416c78b0099",
            "28e7567d_078b_4497_b23c_4c5abd28534d",
            "85139fef_5f26_498f_b481_0dfdd3f27b69",
            "ddc8bfdc_e73e_4f94_85f7_4aa0a8a62328",
            "e0d36d76_a920_4b06_a16d_faac01c76dc9",
            "124295e4_f6a9_4904_baa2_6bb2752d0059",
            "3062fe14_682d_481f_a98e_b217c45c2337",
            "554f7ba1_7232_4a12_a2b6_0954976ff3b9",
            "5953d8e3_565b_4b29_a498_5ef50f9aefbe",
            "793f94f9_73d2_4ed2_8ccb_abf4576c2a84",
            "8dbdff35_af3a_4c69_8963_53bdcb33c775",
            "951d1945_98d0_4329_9025_dce55687f3a4",
            "a047df87_7c81_4a1c_abc5_99a6eda40f1a",
            "cbb33199_7896_432f_b0f6_ef45a4650723",
            "d0b621a6_148d_427d_8aef_b073b11184e1",
            "da5873de_e112_4f9b_9e0f_149bd1221894",
            "e700973b_9070_4ec8_9e8d_10cdf1fd209d",
            "ebb4f301_f353_446c_9b92_19f131e5181d",
            "08ff7ae0_acef_4f4d_8328_2de484a6d5e1.7df66e65_e069_4e53_ab70_776b869e7450",
            "47f9140d_38d8_4391_9aa1_08973d4b6370.da249185_09ee_4925_9417_0940cd363b5c",
            "0e37779d_d4ce_4270_b949_10da6c2dcb3a",
            "146454a5_85c4_4311_a5c4_523e1990a3d7",
            "3c8e2ab6_d44c_4352_b84d_f1fca643e199",
            "58741249_11f2_4deb_8fc0_c26e4a43aa4a",
            "612360a9_b9a5_4040_83fa_b7e26f4780e2",
            "6ad7c8e6_3dc6_454e_a19c_1fa68fa9d917",
            "8f7007c1_ae4b_48a4_808c_18696b8c3fda",
            "e0e2d4d0_1ec8_4831_9023_0530ca3e9d09",
            "f341b406_b9b8_416d_9da8_99351b0010eb",
            "ffbf99d0_be8f_4f3b_bd21_1c10b8bed412",
            "3062fe14_682d_481f_a98e_b217c45c2337.c37ffbd6_a434_4c54_acb6_7acb47bcdebd",
            "3abdac1c_4717_445e_8248_0143c701015a.ec64f6bf_7848_4098_b019_e5990f504ea3",
            "793f94f9_73d2_4ed2_8ccb_abf4576c2a84.eb679d1f_669a_43e8_9280_5fbad69ee84e",
            "8dbdff35_af3a_4c69_8963_53bdcb33c775.bc7ae337_fe40_448f_b4c9_2d4388b01a9d",
            "a047df87_7c81_4a1c_abc5_99a6eda40f1a.d916a173_b696_47e1_878d_3bf49b037210",
            "bc3a295e_af26_46d7_9445_63325ab035b8.375a2f29_0da6_471b_bddb_a46c68e66c8f",
            "c10f79c9_744d_40a5_a272_7cde7ca1f5a6.fb3dae36_ad5f_4d5c_9b42_b9d991a02a54",
            "ebb4f301_f353_446c_9b92_19f131e5181d.c5095e71_a43a_45f4_a921_fab8117aad6f",
            "f7c06302_3c06_4331_b7ee_6f01946aa788.ebc04eca_84dd_47c1_a205_1e97156c4b7c",
            "fd5601fa_5513_4b0a_b935_9817c84319e6.c38e3bbe_8a6b_452e_ac68_e3a57288e3ce",
            "cc489177_105f_4f1f_848d_205d9c921ac6",
            "6e0854f9_3888_4867_9176_0693de75f841",
            "ef790dae_bb9b_4cd7_a52c_ea35841f02dd",
            "6ac599d9_8b6d_422e_be15_d3e9a05c50c4",
            "9434ad0c_af3b_438f_9d1f_f13aa2fce872",
            "a1077967_e4bb_4bd7_9819_9ce9222a6cdf",
            "b0729477_1c96_485d_bb5e_e19c5a5a73c4",
            "3fe4780d_670e_4eac_a222_94440f0de466",
            "0f91b6d7_2dbb_4054_9b79_e8c1f1a09d84",
            "133c55ef_4f15_4856_9df6_64ccb3331e19",
            "196e610c_423a_4d83_8758_27b56815ad39",
            "2635104d_76e3_425f_aa26_38b095d59a47",
            "3f0a0663_5bdf_479c_8a4d_764baaf61fa1",
            "585c34c1_63e7_4934_8c22_44b6ce98ed46",
            "5c2c591b_b04c_47d6_a586_7b323df99c9a",
            "6b06b678_a5f6_4e1b_9afc_b8790faf5956",
            "73d81674_fc66_4ba0_a0af_1d9e717e0366",
            "a6434932_7e47_428e_aee5_9b82f63438e4",
            "a7e9b5ac_074e_43e8_a128_3f84228eff7b",
            "b9a75205_8765_4a25_a589_70558fa07a92",
            "bba618b9_4988_4dc9_ba86_591157fc8b10",
            "cfb620a6_76ed_48e5_a44e_3670ea4f4c83",
            "e0c3249a_c00d_4e43_88a6_3a3feb3c489e",
            "e4b880fc_432b_4166_9999_b312904ab4b8",
            "eef8e72b_b26c_44ce_a346_204b969e8319",
            "fd879747_e934_46a0_b437_d42fad3b8388",
            "3b373634_2461_4b61_8bcb_068c12b7e1a8.2d8226ae_9fb5_477a_b1c3_dc069ae9ec4d",
            "3b373634_2461_4b61_8bcb_068c12b7e1a8.41c4c904_7cf6_4706_8495_a128086d07e7",
            "3b373634_2461_4b61_8bcb_068c12b7e1a8.b335617c_4262_41b5_80dc_4af207b12a10",
            "3b373634_2461_4b61_8bcb_068c12b7e1a8.d0a77ae4_734b_4a4c_bff7_66ecdfd8e3af",
            "3b373634_2461_4b61_8bcb_068c12b7e1a8.e1c332cd_b64b_40d6_bdb1_64c26eaca6ec",
            "506f355b_ec0d_4763_8082_5d022dcf6153.2d8226ae_9fb5_477a_b1c3_dc069ae9ec4d",
            "506f355b_ec0d_4763_8082_5d022dcf6153.b335617c_4262_41b5_80dc_4af207b12a10",
            "506f355b_ec0d_4763_8082_5d022dcf6153.d0a77ae4_734b_4a4c_bff7_66ecdfd8e3af",
            "506f355b_ec0d_4763_8082_5d022dcf6153.df84f19d_e8f9_4bdf_963b_71b2cd80cf9e",
            "d02c6fdd_ce6b_44a1_b193_1ede85e7d4c8.e1c332cd_b64b_40d6_bdb1_64c26eaca6ec",
            "d02c6fdd_ce6b_44a1_b193_1ede85e7d4c8.ec82b630_d0f2_4f6d_9c7c_948279cb8bd6",
            "08f65fc9_0394_4ab2_8068_0c07b4fe13f0",
            "0be7d9ef_1c44_4217_8b8b_7deb1e3c727d",
            "0cb0759c_3733_49f2_b1c0_d1f09c363563",
            "17342d15_48c8_4f15_9a8f_aba2de4391ca",
            "29a3dfd4_c060_4883_867b_ec0e204f0246",
            "2e896b5e_18f3_4702_a531_2aafe2b02fca",
            "64074733_c93d_409f_8b56_79a64ddca291",
            "646ca198_4192_4271_adcb_3b1ccb3c949a",
            "657a1c32_4f7d_4242_85ba_dcbf63990ecb",
            "66ab910e_ab78_423e_ba18_831423e00ccf",
            "81bd2318_6de7_4e2c_a51d_1ba0999bec1a",
            "adc6b0b0_9679_457d_adc5_3d653278be57",
            "c5434cb1_954e_4b27_891f_f890506397b3",
            "d6dfd1e2_df6a_4bce_a896_4f762f1061ed",
            "e99be6f7_cab8_4b9d_a814_606ccee605a3",
            "f9cca3c4_56ce_432b_840e_754fd0e3c918",
            "fc0c8557_0f24_41e1_836e_a0225707fb90",
            "ff4a5909_a9ec_43f2_87c3_8a4c1ec323fa",
            "08ff7ae0_acef_4f4d_8328_2de484a6d5e1.1316fd60_be4e_436d_ad12_45e17d3f7254",
            "08ff7ae0_acef_4f4d_8328_2de484a6d5e1.18999260_6d8c_4cd3_91fd_c52f89e25b4b",
            "08ff7ae0_acef_4f4d_8328_2de484a6d5e1.3cbb4762_6e59_4f46_b688_c11f433b1cfa",
            "08ff7ae0_acef_4f4d_8328_2de484a6d5e1.a178dace_cf4a_4160_8dfa_f30ecf806b87",
            "08ff7ae0_acef_4f4d_8328_2de484a6d5e1.ba309bf0_0849_44bb_9aaf_494a8aba4735",
            "08ff7ae0_acef_4f4d_8328_2de484a6d5e1.214c8636_0f46_4295_82ab_8aa2602ee776",
            "08ff7ae0_acef_4f4d_8328_2de484a6d5e1.2db1336a_027e_49a3_be92_d6fafdf09906",
            "124295e4_f6a9_4904_baa2_6bb2752d0059.5b44eda8_b48d_4288_9730_fb6c670fd0cb",
            "3062fe14_682d_481f_a98e_b217c45c2337.6a4b823e_a925_43f3_a2bd_71594907958b",
            "3abdac1c_4717_445e_8248_0143c701015a.24c35a0b_f711_43e9_8064_0c0a3cfa06b6",
            "554f7ba1_7232_4a12_a2b6_0954976ff3b9.9861b7de_7565_4d8e_938f_b48794d4e744",
            "5953d8e3_565b_4b29_a498_5ef50f9aefbe.7dc9a083_dc0e_4428_87ac_8e4f3c1cdd80",
            "793f94f9_73d2_4ed2_8ccb_abf4576c2a84.127e905e_b15f_42fc_a928_c773c761d53b",
            "8dbdff35_af3a_4c69_8963_53bdcb33c775.59d5c47c_cd59_4c0c_91b9_b055a79b2992",
            "951d1945_98d0_4329_9025_dce55687f3a4.b64b4982_080b_4581_8f0a_1021e9bfbca9",
            "a047df87_7c81_4a1c_abc5_99a6eda40f1a.e93987ef_2524_42e2_9750_127a5b165e18",
            "bc3a295e_af26_46d7_9445_63325ab035b8.530e4b40_a699_485f_a92f_ca81035320ec",
            "c10f79c9_744d_40a5_a272_7cde7ca1f5a6.fb20d0cb_185c_4d94_b1a1_37df9bc44074",
            "cbb33199_7896_432f_b0f6_ef45a4650723.64000e7d_4afa_4a79_8fb5_28a82180956c",
            "d0b621a6_148d_427d_8aef_b073b11184e1.ec9bef85_a712_4d49_9389_b0ac72ad8abd",
            "da5873de_e112_4f9b_9e0f_149bd1221894.512b8e70_2d08_44cf_9153_4f60b1bdd5be",
            "e700973b_9070_4ec8_9e8d_10cdf1fd209d.36b4dfef_6302_41ed_b481_bd4263a19e12",
            "ebb4f301_f353_446c_9b92_19f131e5181d.bae458eb_2959_460d_8bf2_1d9cc8b4a216",
            "f7c06302_3c06_4331_b7ee_6f01946aa788.42b56f2d_cc14_4859_a534_be645d6cefb7",
            "fd5601fa_5513_4b0a_b935_9817c84319e6.9a0ec717_4382_4dcd_9991_de2329f58b19",
            "00da8e36_4ba2_4467_8be8_45e25ccb5943",
            "22937c9b_ad32_47c9_b013_1df3a46f0d37",
            "28853f0e_39dc_4c33_8c92_0e7ac96e3cdb",
            "2ff57828_e11f_46c1_8613_4c46fa93df3d",
            "3d8a8792_c37d_4688_82a7_68d2106ba370",
            "3eb66776_ed74_400b_9347_eb5406265297",
            "52f2d2e0_bfb2_4239_b057_7d293bc0147b",
            "685bb024_b6a2_4db4_b08e_275b12da9764",
            "69332eeb_21e2_49a3_a29d_e115416c4fd0",
            "725de676_3337_4f38_bbbf_b1c0c63df2b0",
            "72a1c938_6603_4be8_aaa6_3335786af276",
            "749483d3_5a12_4773_be1a_622e706c814b",
            "a4579f9f_fa4e_4ee5_a453_056c30ce770f",
            "aa53e626_0e50_4824_bc67_8d24c51494d6",
            "ca2ea368_e410_4613_aa9c_9f2900a3e65a",
            "e5882b85_e45c_480b_ae94_51d1082906f3",
            "f10e6b0e_6f3d_4f4e_8283_246451c8c418",
            "f21b568c_9e73_4f3d_a388_9b8c414e8ebe",
            "7105ff0d_6772_4429_b7de_2ea15e1afd1c",
            "8c409529_fddc_41dc_a3a5_92fa14ca1cdb",
            "506f355b_ec0d_4763_8082_5d022dcf6153.41c4c904_7cf6_4706_8495_a128086d07e7",
            "506f355b_ec0d_4763_8082_5d022dcf6153.e1c332cd_b64b_40d6_bdb1_64c26eaca6ec",
            "3b373634_2461_4b61_8bcb_068c12b7e1a8.0c944fda_d94e_48f0_9b1a_b7f570c63c40",
            "506f355b_ec0d_4763_8082_5d022dcf6153.0c944fda_d94e_48f0_9b1a_b7f570c63c40",
            "d02c6fdd_ce6b_44a1_b193_1ede85e7d4c8.2d8226ae_9fb5_477a_b1c3_dc069ae9ec4d",
            "3abdac1c_4717_445e_8248_0143c701015a.3c7219ee_7287_4ab9_aff0_5d0e7ca4056d",
            "bc3a295e_af26_46d7_9445_63325ab035b8.a803cc3d_3abe_4025_b543_59663bfdee18",
            "c10f79c9_744d_40a5_a272_7cde7ca1f5a6.db8f95bc_01fa_43ba_8ea1_50d4df45fe7c",
            "f7c06302_3c06_4331_b7ee_6f01946aa788.55c94532_5ba1_4926_a365_ce0ba45ae766",
            "fd5601fa_5513_4b0a_b935_9817c84319e6.15195db0_d212_497d_8cf9_d3c50480bb80",
            "3062fe14_682d_481f_a98e_b217c45c2337.de3fa4f5_0167_4cb3_a31d_40c8be0ea15f",
            "3abdac1c_4717_445e_8248_0143c701015a.e8920540_0dda_4ff4_b59e_439c8650f5b8",
            "793f94f9_73d2_4ed2_8ccb_abf4576c2a84.92715a10_5ad9_4d9e_ae4f_77a6a189cca6",
            "8dbdff35_af3a_4c69_8963_53bdcb33c775.ce03ca4c_60a5_424a_acaf_0a320003823b",
            "a047df87_7c81_4a1c_abc5_99a6eda40f1a.7d329f80_d00e_4cdf_a7c6_7a5d695751e1",
            "bc3a295e_af26_46d7_9445_63325ab035b8.397e65a4_32ae_4891_bf58_481b36031e65",
            "c10f79c9_744d_40a5_a272_7cde7ca1f5a6.d2de1941_7ba3_40ef_88a7_5e71b79bf1fa",
            "ebb4f301_f353_446c_9b92_19f131e5181d.2b19fb5b_4957_4c2f_aa59_b65feb4c6f62",
            "f7c06302_3c06_4331_b7ee_6f01946aa788.d0dca69f_9dcc_4b6b_8ffb_e3c64d52f085",
            "fd5601fa_5513_4b0a_b935_9817c84319e6.ed7078ff_48e3_48e4_bcbb_3d38847be2f5",
            "124295e4_f6a9_4904_baa2_6bb2752d0059.859193de_a4f3_4707_879c_b8a8188c5f5b.75d51cf9_fc4c_4f0b_9987_0d2ceb58e294",
            "124295e4_f6a9_4904_baa2_6bb2752d0059.859193de_a4f3_4707_879c_b8a8188c5f5b.d4cb6566_30c1_470d_9777_8c2d71c6bd8d",
            "124295e4_f6a9_4904_baa2_6bb2752d0059.859193de_a4f3_4707_879c_b8a8188c5f5b.f043bd1e_905e_45bb_b70b_33cc422e7a27",
            "3062fe14_682d_481f_a98e_b217c45c2337.b3f637dd_fc6a_48c7_9919_ed48775a743a.75d51cf9_fc4c_4f0b_9987_0d2ceb58e294",
            "3062fe14_682d_481f_a98e_b217c45c2337.b3f637dd_fc6a_48c7_9919_ed48775a743a.d4cb6566_30c1_470d_9777_8c2d71c6bd8d",
            "3062fe14_682d_481f_a98e_b217c45c2337.b3f637dd_fc6a_48c7_9919_ed48775a743a.f043bd1e_905e_45bb_b70b_33cc422e7a27",
            "3abdac1c_4717_445e_8248_0143c701015a.71bfdedb_73da_4307_9046_dba6e35eabdf.75d51cf9_fc4c_4f0b_9987_0d2ceb58e294",
            "3abdac1c_4717_445e_8248_0143c701015a.71bfdedb_73da_4307_9046_dba6e35eabdf.d4cb6566_30c1_470d_9777_8c2d71c6bd8d",
            "3abdac1c_4717_445e_8248_0143c701015a.71bfdedb_73da_4307_9046_dba6e35eabdf.f043bd1e_905e_45bb_b70b_33cc422e7a27",
            "554f7ba1_7232_4a12_a2b6_0954976ff3b9.a8a33c70_c979_47b7_aa0a_4a2c14cf89aa.75d51cf9_fc4c_4f0b_9987_0d2ceb58e294",
            "554f7ba1_7232_4a12_a2b6_0954976ff3b9.a8a33c70_c979_47b7_aa0a_4a2c14cf89aa.d4cb6566_30c1_470d_9777_8c2d71c6bd8d",
            "554f7ba1_7232_4a12_a2b6_0954976ff3b9.a8a33c70_c979_47b7_aa0a_4a2c14cf89aa.f043bd1e_905e_45bb_b70b_33cc422e7a27",
            "5953d8e3_565b_4b29_a498_5ef50f9aefbe.c9640af1_0c83_4ee4_9e18_3dd88f104727.75d51cf9_fc4c_4f0b_9987_0d2ceb58e294",
            "5953d8e3_565b_4b29_a498_5ef50f9aefbe.c9640af1_0c83_4ee4_9e18_3dd88f104727.d4cb6566_30c1_470d_9777_8c2d71c6bd8d",
            "5953d8e3_565b_4b29_a498_5ef50f9aefbe.c9640af1_0c83_4ee4_9e18_3dd88f104727.f043bd1e_905e_45bb_b70b_33cc422e7a27",
            "793f94f9_73d2_4ed2_8ccb_abf4576c2a84.9a6c9ad4_3c32_4aab_a58e_03ed48e116eb.75d51cf9_fc4c_4f0b_9987_0d2ceb58e294",
            "793f94f9_73d2_4ed2_8ccb_abf4576c2a84.9a6c9ad4_3c32_4aab_a58e_03ed48e116eb.d4cb6566_30c1_470d_9777_8c2d71c6bd8d",
            "793f94f9_73d2_4ed2_8ccb_abf4576c2a84.9a6c9ad4_3c32_4aab_a58e_03ed48e116eb.f043bd1e_905e_45bb_b70b_33cc422e7a27",
            "8dbdff35_af3a_4c69_8963_53bdcb33c775.0283d8fe_43f1_4d0e_9a53_9dba9dacb759.75d51cf9_fc4c_4f0b_9987_0d2ceb58e294",
            "8dbdff35_af3a_4c69_8963_53bdcb33c775.0283d8fe_43f1_4d0e_9a53_9dba9dacb759.d4cb6566_30c1_470d_9777_8c2d71c6bd8d",
            "8dbdff35_af3a_4c69_8963_53bdcb33c775.0283d8fe_43f1_4d0e_9a53_9dba9dacb759.f043bd1e_905e_45bb_b70b_33cc422e7a27",
            "951d1945_98d0_4329_9025_dce55687f3a4.7ea99eda_1771_4b77_bd58_81e429a973fa.75d51cf9_fc4c_4f0b_9987_0d2ceb58e294",
            "951d1945_98d0_4329_9025_dce55687f3a4.7ea99eda_1771_4b77_bd58_81e429a973fa.d4cb6566_30c1_470d_9777_8c2d71c6bd8d",
            "951d1945_98d0_4329_9025_dce55687f3a4.7ea99eda_1771_4b77_bd58_81e429a973fa.f043bd1e_905e_45bb_b70b_33cc422e7a27",
            "a047df87_7c81_4a1c_abc5_99a6eda40f1a.de900d60_7e5c_4f71_aa0a_7e9a2e7522f5.75d51cf9_fc4c_4f0b_9987_0d2ceb58e294",
            "a047df87_7c81_4a1c_abc5_99a6eda40f1a.de900d60_7e5c_4f71_aa0a_7e9a2e7522f5.d4cb6566_30c1_470d_9777_8c2d71c6bd8d",
            "a047df87_7c81_4a1c_abc5_99a6eda40f1a.de900d60_7e5c_4f71_aa0a_7e9a2e7522f5.f043bd1e_905e_45bb_b70b_33cc422e7a27",
            "bc3a295e_af26_46d7_9445_63325ab035b8.936d6d8f_0388_448a_8732_257251232ef8.75d51cf9_fc4c_4f0b_9987_0d2ceb58e294",
            "bc3a295e_af26_46d7_9445_63325ab035b8.936d6d8f_0388_448a_8732_257251232ef8.d4cb6566_30c1_470d_9777_8c2d71c6bd8d",
            "bc3a295e_af26_46d7_9445_63325ab035b8.936d6d8f_0388_448a_8732_257251232ef8.f043bd1e_905e_45bb_b70b_33cc422e7a27",
            "c10f79c9_744d_40a5_a272_7cde7ca1f5a6.e3794860_91e1_4d33_b59e_6d32b3608901.75d51cf9_fc4c_4f0b_9987_0d2ceb58e294",
            "c10f79c9_744d_40a5_a272_7cde7ca1f5a6.e3794860_91e1_4d33_b59e_6d32b3608901.d4cb6566_30c1_470d_9777_8c2d71c6bd8d",
            "c10f79c9_744d_40a5_a272_7cde7ca1f5a6.e3794860_91e1_4d33_b59e_6d32b3608901.f043bd1e_905e_45bb_b70b_33cc422e7a27",
            "cbb33199_7896_432f_b0f6_ef45a4650723.9f0e2fee_7ea6_497c_9d2a_9d47a7accb4a.75d51cf9_fc4c_4f0b_9987_0d2ceb58e294",
            "cbb33199_7896_432f_b0f6_ef45a4650723.9f0e2fee_7ea6_497c_9d2a_9d47a7accb4a.d4cb6566_30c1_470d_9777_8c2d71c6bd8d",
            "cbb33199_7896_432f_b0f6_ef45a4650723.9f0e2fee_7ea6_497c_9d2a_9d47a7accb4a.f043bd1e_905e_45bb_b70b_33cc422e7a27",
            "d0b621a6_148d_427d_8aef_b073b11184e1.444b6ff0_2823_4447_9544_c97ff41406c6.75d51cf9_fc4c_4f0b_9987_0d2ceb58e294",
            "d0b621a6_148d_427d_8aef_b073b11184e1.444b6ff0_2823_4447_9544_c97ff41406c6.d4cb6566_30c1_470d_9777_8c2d71c6bd8d",
            "d0b621a6_148d_427d_8aef_b073b11184e1.444b6ff0_2823_4447_9544_c97ff41406c6.f043bd1e_905e_45bb_b70b_33cc422e7a27",
            "da5873de_e112_4f9b_9e0f_149bd1221894.8084c259_152b_4607_808b_0fd0a92973e2.75d51cf9_fc4c_4f0b_9987_0d2ceb58e294",
            "da5873de_e112_4f9b_9e0f_149bd1221894.8084c259_152b_4607_808b_0fd0a92973e2.d4cb6566_30c1_470d_9777_8c2d71c6bd8d",
            "da5873de_e112_4f9b_9e0f_149bd1221894.8084c259_152b_4607_808b_0fd0a92973e2.f043bd1e_905e_45bb_b70b_33cc422e7a27",
            "e700973b_9070_4ec8_9e8d_10cdf1fd209d.9a7697b2_908b_44e2_9d47_24a3c5947254.75d51cf9_fc4c_4f0b_9987_0d2ceb58e294",
            "e700973b_9070_4ec8_9e8d_10cdf1fd209d.9a7697b2_908b_44e2_9d47_24a3c5947254.d4cb6566_30c1_470d_9777_8c2d71c6bd8d",
            "e700973b_9070_4ec8_9e8d_10cdf1fd209d.9a7697b2_908b_44e2_9d47_24a3c5947254.f043bd1e_905e_45bb_b70b_33cc422e7a27",
            "ebb4f301_f353_446c_9b92_19f131e5181d.f6cf4a1e_6056_4f73_9dba_4e01a86113d8.75d51cf9_fc4c_4f0b_9987_0d2ceb58e294",
            "ebb4f301_f353_446c_9b92_19f131e5181d.f6cf4a1e_6056_4f73_9dba_4e01a86113d8.d4cb6566_30c1_470d_9777_8c2d71c6bd8d",
            "ebb4f301_f353_446c_9b92_19f131e5181d.f6cf4a1e_6056_4f73_9dba_4e01a86113d8.f043bd1e_905e_45bb_b70b_33cc422e7a27",
            "f7c06302_3c06_4331_b7ee_6f01946aa788.60befd3c_ef15_481b_ab9a_5e1205e90abc.75d51cf9_fc4c_4f0b_9987_0d2ceb58e294",
            "f7c06302_3c06_4331_b7ee_6f01946aa788.60befd3c_ef15_481b_ab9a_5e1205e90abc.d4cb6566_30c1_470d_9777_8c2d71c6bd8d",
            "f7c06302_3c06_4331_b7ee_6f01946aa788.60befd3c_ef15_481b_ab9a_5e1205e90abc.f043bd1e_905e_45bb_b70b_33cc422e7a27",
            "fd5601fa_5513_4b0a_b935_9817c84319e6.3a3f575d_2d3c_4399_a159_9cfabfb29282.75d51cf9_fc4c_4f0b_9987_0d2ceb58e294",
            "fd5601fa_5513_4b0a_b935_9817c84319e6.3a3f575d_2d3c_4399_a159_9cfabfb29282.d4cb6566_30c1_470d_9777_8c2d71c6bd8d",
            "fd5601fa_5513_4b0a_b935_9817c84319e6.3a3f575d_2d3c_4399_a159_9cfabfb29282.f043bd1e_905e_45bb_b70b_33cc422e7a27",
            "3062fe14_682d_481f_a98e_b217c45c2337.260d58ee_9e0f_4217_ae6c_7204e50b0b0b",
            "3abdac1c_4717_445e_8248_0143c701015a.f5a07a2d_5e03_4a9c_ab12_79feb4d465ae",
            "793f94f9_73d2_4ed2_8ccb_abf4576c2a84.6e595562_95fc_4213_85cd_945697ec6f38",
            "8dbdff35_af3a_4c69_8963_53bdcb33c775.5a8bbc3a_d142_48cd_8c31_a76c56d4cc6f",
            "a047df87_7c81_4a1c_abc5_99a6eda40f1a.4a2d9671_6a0f_4f57_9af7_581cf25c87f9",
            "bc3a295e_af26_46d7_9445_63325ab035b8.1f5a1448_c522_4ef0_995d_37f7861097a4",
            "c10f79c9_744d_40a5_a272_7cde7ca1f5a6.0654bfbd_6249_4bb5_a8fd_4a19da72ad73",
            "ebb4f301_f353_446c_9b92_19f131e5181d.76167b6b_e2fe_4431_8b2a_59b17688b2c0",
            "f7c06302_3c06_4331_b7ee_6f01946aa788.4fc6f966_49b6_4c54_b322_ae66f252078a",
            "fd5601fa_5513_4b0a_b935_9817c84319e6.6b5b413e_aaff_4499_8c4e_8c5ea9fe7766",
            "3abdac1c_4717_445e_8248_0143c701015a.4b3adae1_1b32_4180_bad5_24d40c9726fb",
            "bc3a295e_af26_46d7_9445_63325ab035b8.d17aa466_7355_4d3e_9087_ccdc4c6777ad",
            "c10f79c9_744d_40a5_a272_7cde7ca1f5a6.2a8b4dd8_0a7d_4caf_a200_b9881c915a0a",
            "f7c06302_3c06_4331_b7ee_6f01946aa788.24bb4b39_1401_4218_a4a0_9f943c19be6c",
            "fd5601fa_5513_4b0a_b935_9817c84319e6.5274e12b_7815_4beb_b0e0_1c2cdeebf2f4",
            "124295e4_f6a9_4904_baa2_6bb2752d0059.859193de_a4f3_4707_879c_b8a8188c5f5b.345dacf8_07e0_45c0_b151_c22f407fcc13",
            "124295e4_f6a9_4904_baa2_6bb2752d0059.859193de_a4f3_4707_879c_b8a8188c5f5b.9661bdcc_e598_421d_82f4_97a0dc5863de",
            "124295e4_f6a9_4904_baa2_6bb2752d0059.859193de_a4f3_4707_879c_b8a8188c5f5b.cc4b2230_9874_4b09_92d4_3b0fd4ff9318",
            "3062fe14_682d_481f_a98e_b217c45c2337.b3f637dd_fc6a_48c7_9919_ed48775a743a.345dacf8_07e0_45c0_b151_c22f407fcc13",
            "3062fe14_682d_481f_a98e_b217c45c2337.b3f637dd_fc6a_48c7_9919_ed48775a743a.9661bdcc_e598_421d_82f4_97a0dc5863de",
            "3062fe14_682d_481f_a98e_b217c45c2337.b3f637dd_fc6a_48c7_9919_ed48775a743a.cc4b2230_9874_4b09_92d4_3b0fd4ff9318",
            "3abdac1c_4717_445e_8248_0143c701015a.71bfdedb_73da_4307_9046_dba6e35eabdf.345dacf8_07e0_45c0_b151_c22f407fcc13",
            "3abdac1c_4717_445e_8248_0143c701015a.71bfdedb_73da_4307_9046_dba6e35eabdf.9661bdcc_e598_421d_82f4_97a0dc5863de",
            "3abdac1c_4717_445e_8248_0143c701015a.71bfdedb_73da_4307_9046_dba6e35eabdf.cc4b2230_9874_4b09_92d4_3b0fd4ff9318",
            "554f7ba1_7232_4a12_a2b6_0954976ff3b9.a8a33c70_c979_47b7_aa0a_4a2c14cf89aa.345dacf8_07e0_45c0_b151_c22f407fcc13",
            "554f7ba1_7232_4a12_a2b6_0954976ff3b9.a8a33c70_c979_47b7_aa0a_4a2c14cf89aa.9661bdcc_e598_421d_82f4_97a0dc5863de",
            "554f7ba1_7232_4a12_a2b6_0954976ff3b9.a8a33c70_c979_47b7_aa0a_4a2c14cf89aa.cc4b2230_9874_4b09_92d4_3b0fd4ff9318",
            "5953d8e3_565b_4b29_a498_5ef50f9aefbe.c9640af1_0c83_4ee4_9e18_3dd88f104727.345dacf8_07e0_45c0_b151_c22f407fcc13",
            "5953d8e3_565b_4b29_a498_5ef50f9aefbe.c9640af1_0c83_4ee4_9e18_3dd88f104727.9661bdcc_e598_421d_82f4_97a0dc5863de",
            "5953d8e3_565b_4b29_a498_5ef50f9aefbe.c9640af1_0c83_4ee4_9e18_3dd88f104727.cc4b2230_9874_4b09_92d4_3b0fd4ff9318",
            "793f94f9_73d2_4ed2_8ccb_abf4576c2a84.9a6c9ad4_3c32_4aab_a58e_03ed48e116eb.345dacf8_07e0_45c0_b151_c22f407fcc13",
            "793f94f9_73d2_4ed2_8ccb_abf4576c2a84.9a6c9ad4_3c32_4aab_a58e_03ed48e116eb.9661bdcc_e598_421d_82f4_97a0dc5863de",
            "793f94f9_73d2_4ed2_8ccb_abf4576c2a84.9a6c9ad4_3c32_4aab_a58e_03ed48e116eb.cc4b2230_9874_4b09_92d4_3b0fd4ff9318",
            "8dbdff35_af3a_4c69_8963_53bdcb33c775.0283d8fe_43f1_4d0e_9a53_9dba9dacb759.345dacf8_07e0_45c0_b151_c22f407fcc13",
            "8dbdff35_af3a_4c69_8963_53bdcb33c775.0283d8fe_43f1_4d0e_9a53_9dba9dacb759.9661bdcc_e598_421d_82f4_97a0dc5863de",
            "8dbdff35_af3a_4c69_8963_53bdcb33c775.0283d8fe_43f1_4d0e_9a53_9dba9dacb759.cc4b2230_9874_4b09_92d4_3b0fd4ff9318",
            "951d1945_98d0_4329_9025_dce55687f3a4.7ea99eda_1771_4b77_bd58_81e429a973fa.345dacf8_07e0_45c0_b151_c22f407fcc13",
            "951d1945_98d0_4329_9025_dce55687f3a4.7ea99eda_1771_4b77_bd58_81e429a973fa.9661bdcc_e598_421d_82f4_97a0dc5863de",
            "951d1945_98d0_4329_9025_dce55687f3a4.7ea99eda_1771_4b77_bd58_81e429a973fa.cc4b2230_9874_4b09_92d4_3b0fd4ff9318",
            "a047df87_7c81_4a1c_abc5_99a6eda40f1a.de900d60_7e5c_4f71_aa0a_7e9a2e7522f5.345dacf8_07e0_45c0_b151_c22f407fcc13",
            "a047df87_7c81_4a1c_abc5_99a6eda40f1a.de900d60_7e5c_4f71_aa0a_7e9a2e7522f5.9661bdcc_e598_421d_82f4_97a0dc5863de",
            "a047df87_7c81_4a1c_abc5_99a6eda40f1a.de900d60_7e5c_4f71_aa0a_7e9a2e7522f5.cc4b2230_9874_4b09_92d4_3b0fd4ff9318",
            "bc3a295e_af26_46d7_9445_63325ab035b8.936d6d8f_0388_448a_8732_257251232ef8.345dacf8_07e0_45c0_b151_c22f407fcc13",
            "bc3a295e_af26_46d7_9445_63325ab035b8.936d6d8f_0388_448a_8732_257251232ef8.9661bdcc_e598_421d_82f4_97a0dc5863de",
            "bc3a295e_af26_46d7_9445_63325ab035b8.936d6d8f_0388_448a_8732_257251232ef8.cc4b2230_9874_4b09_92d4_3b0fd4ff9318",
            "c10f79c9_744d_40a5_a272_7cde7ca1f5a6.e3794860_91e1_4d33_b59e_6d32b3608901.345dacf8_07e0_45c0_b151_c22f407fcc13",
            "c10f79c9_744d_40a5_a272_7cde7ca1f5a6.e3794860_91e1_4d33_b59e_6d32b3608901.9661bdcc_e598_421d_82f4_97a0dc5863de",
            "c10f79c9_744d_40a5_a272_7cde7ca1f5a6.e3794860_91e1_4d33_b59e_6d32b3608901.cc4b2230_9874_4b09_92d4_3b0fd4ff9318",
            "cbb33199_7896_432f_b0f6_ef45a4650723.9f0e2fee_7ea6_497c_9d2a_9d47a7accb4a.345dacf8_07e0_45c0_b151_c22f407fcc13",
            "cbb33199_7896_432f_b0f6_ef45a4650723.9f0e2fee_7ea6_497c_9d2a_9d47a7accb4a.9661bdcc_e598_421d_82f4_97a0dc5863de",
            "cbb33199_7896_432f_b0f6_ef45a4650723.9f0e2fee_7ea6_497c_9d2a_9d47a7accb4a.cc4b2230_9874_4b09_92d4_3b0fd4ff9318",
            "d0b621a6_148d_427d_8aef_b073b11184e1.444b6ff0_2823_4447_9544_c97ff41406c6.345dacf8_07e0_45c0_b151_c22f407fcc13",
            "d0b621a6_148d_427d_8aef_b073b11184e1.444b6ff0_2823_4447_9544_c97ff41406c6.9661bdcc_e598_421d_82f4_97a0dc5863de",
            "d0b621a6_148d_427d_8aef_b073b11184e1.444b6ff0_2823_4447_9544_c97ff41406c6.cc4b2230_9874_4b09_92d4_3b0fd4ff9318",
            "da5873de_e112_4f9b_9e0f_149bd1221894.8084c259_152b_4607_808b_0fd0a92973e2.345dacf8_07e0_45c0_b151_c22f407fcc13",
            "da5873de_e112_4f9b_9e0f_149bd1221894.8084c259_152b_4607_808b_0fd0a92973e2.9661bdcc_e598_421d_82f4_97a0dc5863de",
            "da5873de_e112_4f9b_9e0f_149bd1221894.8084c259_152b_4607_808b_0fd0a92973e2.cc4b2230_9874_4b09_92d4_3b0fd4ff9318",
            "e700973b_9070_4ec8_9e8d_10cdf1fd209d.9a7697b2_908b_44e2_9d47_24a3c5947254.345dacf8_07e0_45c0_b151_c22f407fcc13",
            "e700973b_9070_4ec8_9e8d_10cdf1fd209d.9a7697b2_908b_44e2_9d47_24a3c5947254.9661bdcc_e598_421d_82f4_97a0dc5863de",
            "e700973b_9070_4ec8_9e8d_10cdf1fd209d.9a7697b2_908b_44e2_9d47_24a3c5947254.cc4b2230_9874_4b09_92d4_3b0fd4ff9318",
            "ebb4f301_f353_446c_9b92_19f131e5181d.f6cf4a1e_6056_4f73_9dba_4e01a86113d8.345dacf8_07e0_45c0_b151_c22f407fcc13",
            "ebb4f301_f353_446c_9b92_19f131e5181d.f6cf4a1e_6056_4f73_9dba_4e01a86113d8.9661bdcc_e598_421d_82f4_97a0dc5863de",
            "ebb4f301_f353_446c_9b92_19f131e5181d.f6cf4a1e_6056_4f73_9dba_4e01a86113d8.cc4b2230_9874_4b09_92d4_3b0fd4ff9318",
            "f7c06302_3c06_4331_b7ee_6f01946aa788.60befd3c_ef15_481b_ab9a_5e1205e90abc.345dacf8_07e0_45c0_b151_c22f407fcc13",
            "f7c06302_3c06_4331_b7ee_6f01946aa788.60befd3c_ef15_481b_ab9a_5e1205e90abc.9661bdcc_e598_421d_82f4_97a0dc5863de",
            "f7c06302_3c06_4331_b7ee_6f01946aa788.60befd3c_ef15_481b_ab9a_5e1205e90abc.cc4b2230_9874_4b09_92d4_3b0fd4ff9318",
            "fd5601fa_5513_4b0a_b935_9817c84319e6.3a3f575d_2d3c_4399_a159_9cfabfb29282.345dacf8_07e0_45c0_b151_c22f407fcc13",
            "fd5601fa_5513_4b0a_b935_9817c84319e6.3a3f575d_2d3c_4399_a159_9cfabfb29282.9661bdcc_e598_421d_82f4_97a0dc5863de",
            "fd5601fa_5513_4b0a_b935_9817c84319e6.3a3f575d_2d3c_4399_a159_9cfabfb29282.cc4b2230_9874_4b09_92d4_3b0fd4ff9318",
            "124295e4_f6a9_4904_baa2_6bb2752d0059.172a91e5_48d2_4fbc_8c13_c637940b5dd8",
            "124295e4_f6a9_4904_baa2_6bb2752d0059.f9605379_de94_412e_8741_4b29bca81417.73210f0b_d972_48f3_9cea_dd93c1a04303",
            "124295e4_f6a9_4904_baa2_6bb2752d0059.f9605379_de94_412e_8741_4b29bca81417.7b8c0523_d3f0_4ffd_9f2c_f6d70d338c81",
            "3062fe14_682d_481f_a98e_b217c45c2337.1c22a32a_0864_4adf_aa2d_a06e7c121c6b.73210f0b_d972_48f3_9cea_dd93c1a04303",
            "3062fe14_682d_481f_a98e_b217c45c2337.1c22a32a_0864_4adf_aa2d_a06e7c121c6b.7b8c0523_d3f0_4ffd_9f2c_f6d70d338c81",
            "3062fe14_682d_481f_a98e_b217c45c2337.a39d905d_7682_4e42_bd46_b1b62300645f",
            "3abdac1c_4717_445e_8248_0143c701015a.1daaa597_06ba_4f0b_a386_ddeb2a95335a.73210f0b_d972_48f3_9cea_dd93c1a04303",
            "3abdac1c_4717_445e_8248_0143c701015a.1daaa597_06ba_4f0b_a386_ddeb2a95335a.7b8c0523_d3f0_4ffd_9f2c_f6d70d338c81",
            "3abdac1c_4717_445e_8248_0143c701015a.7a8a7921_f3a0_48ae_b593_11582e2e4bb0",
            "3abdac1c_4717_445e_8248_0143c701015a.834aede8_edb0_4c25_9a39_f747934774e0",
            "554f7ba1_7232_4a12_a2b6_0954976ff3b9.3e7a669d_72d7_4026_a4e0_1e5c9c36fcd2",
            "554f7ba1_7232_4a12_a2b6_0954976ff3b9.6688319f_ebfe_4449_b09c_48b227b00a11.73210f0b_d972_48f3_9cea_dd93c1a04303",
            "554f7ba1_7232_4a12_a2b6_0954976ff3b9.6688319f_ebfe_4449_b09c_48b227b00a11.7b8c0523_d3f0_4ffd_9f2c_f6d70d338c81",
            "5953d8e3_565b_4b29_a498_5ef50f9aefbe.9ee5549b_1896_4bff_b711_9f99cb47fc52.73210f0b_d972_48f3_9cea_dd93c1a04303",
            "5953d8e3_565b_4b29_a498_5ef50f9aefbe.9ee5549b_1896_4bff_b711_9f99cb47fc52.7b8c0523_d3f0_4ffd_9f2c_f6d70d338c81",
            "5953d8e3_565b_4b29_a498_5ef50f9aefbe.ce100d52_4f3d_4f17_b82b_ea425dfb41a9",
            "793f94f9_73d2_4ed2_8ccb_abf4576c2a84.06d2f814_1ca9_4431_a5ba_1557250d731a.73210f0b_d972_48f3_9cea_dd93c1a04303",
            "793f94f9_73d2_4ed2_8ccb_abf4576c2a84.06d2f814_1ca9_4431_a5ba_1557250d731a.7b8c0523_d3f0_4ffd_9f2c_f6d70d338c81",
            "793f94f9_73d2_4ed2_8ccb_abf4576c2a84.59e5a887_42a1_4dcd_a1d7_d79419f52f31",
            "8dbdff35_af3a_4c69_8963_53bdcb33c775.24704e21_0099_4948_b5e1_6d99c8057e47",
            "8dbdff35_af3a_4c69_8963_53bdcb33c775.941d8049_84c9_450a_8a91_c3eea5b8ea56.73210f0b_d972_48f3_9cea_dd93c1a04303",
            "8dbdff35_af3a_4c69_8963_53bdcb33c775.941d8049_84c9_450a_8a91_c3eea5b8ea56.7b8c0523_d3f0_4ffd_9f2c_f6d70d338c81",
            "8f8996ae_8dd4_4a45_bed9_7757fa6907db.7eae592e_94bb_49f8_9d28_dafbc9987a88",
            "8f8996ae_8dd4_4a45_bed9_7757fa6907db.b7336fe4_3eab_4f38_bf8f_fbc827e18da4",
            "951d1945_98d0_4329_9025_dce55687f3a4.0e0ba491_3a05_42eb_a10f_a567a2d9425a.73210f0b_d972_48f3_9cea_dd93c1a04303",
            "951d1945_98d0_4329_9025_dce55687f3a4.0e0ba491_3a05_42eb_a10f_a567a2d9425a.7b8c0523_d3f0_4ffd_9f2c_f6d70d338c81",
            "951d1945_98d0_4329_9025_dce55687f3a4.ef43b8c1_88c2_4bc1_b148_53ad4414fbdc",
            "a047df87_7c81_4a1c_abc5_99a6eda40f1a.23955269_2a1a_4f54_afcb_4e8cce56ffdd.73210f0b_d972_48f3_9cea_dd93c1a04303",
            "a047df87_7c81_4a1c_abc5_99a6eda40f1a.23955269_2a1a_4f54_afcb_4e8cce56ffdd.7b8c0523_d3f0_4ffd_9f2c_f6d70d338c81",
            "a047df87_7c81_4a1c_abc5_99a6eda40f1a.8f401c8c_4bc0_4448_b80f_21f74663ecef",
            "bc3a295e_af26_46d7_9445_63325ab035b8.78e0ce77_c6a5_47ce_8a12_230ffd06599a.73210f0b_d972_48f3_9cea_dd93c1a04303",
            "bc3a295e_af26_46d7_9445_63325ab035b8.78e0ce77_c6a5_47ce_8a12_230ffd06599a.7b8c0523_d3f0_4ffd_9f2c_f6d70d338c81",
            "bc3a295e_af26_46d7_9445_63325ab035b8.7df6b5c1_1464_4d5a_be1e_58327565a043",
            "c10f79c9_744d_40a5_a272_7cde7ca1f5a6.eecea823_7751_4732_afcc_8422b2036a3a",
            "cbb33199_7896_432f_b0f6_ef45a4650723.5e3de4d2_7ae6_4bff_a291_dc9fb4ec8cc2",
            "cbb33199_7896_432f_b0f6_ef45a4650723.ce5d9471_bf65_4117_a6a8_9b7f26664235.73210f0b_d972_48f3_9cea_dd93c1a04303",
            "cbb33199_7896_432f_b0f6_ef45a4650723.ce5d9471_bf65_4117_a6a8_9b7f26664235.7b8c0523_d3f0_4ffd_9f2c_f6d70d338c81",
            "d0b621a6_148d_427d_8aef_b073b11184e1.d9cb95c6_28d3_4848_8324_4b3deec25274",
            "d0b621a6_148d_427d_8aef_b073b11184e1.f7adbf32_0d36_479f_8068_2e955625c9b2.73210f0b_d972_48f3_9cea_dd93c1a04303",
            "d0b621a6_148d_427d_8aef_b073b11184e1.f7adbf32_0d36_479f_8068_2e955625c9b2.7b8c0523_d3f0_4ffd_9f2c_f6d70d338c81",
            "da5873de_e112_4f9b_9e0f_149bd1221894.351ed972_375b_4b15_82e1_d0f7625d7f4b.73210f0b_d972_48f3_9cea_dd93c1a04303",
            "da5873de_e112_4f9b_9e0f_149bd1221894.351ed972_375b_4b15_82e1_d0f7625d7f4b.7b8c0523_d3f0_4ffd_9f2c_f6d70d338c81",
            "da5873de_e112_4f9b_9e0f_149bd1221894.6df30f3c_a953_4232_b83b_242de530ace3",
            "e700973b_9070_4ec8_9e8d_10cdf1fd209d.8421f3ef_6cbe_4eff_84cd_9df22a4edd13.73210f0b_d972_48f3_9cea_dd93c1a04303",
            "e700973b_9070_4ec8_9e8d_10cdf1fd209d.8421f3ef_6cbe_4eff_84cd_9df22a4edd13.7b8c0523_d3f0_4ffd_9f2c_f6d70d338c81",
            "e700973b_9070_4ec8_9e8d_10cdf1fd209d.d3dbd193_d260_4ca8_b6f1_124fca9ffc27",
            "ebb4f301_f353_446c_9b92_19f131e5181d.64841685_1a8e_4cc4_aa63_ab7a9ffbba17",
            "ebb4f301_f353_446c_9b92_19f131e5181d.ed94673a_d1d2_4bae_88c7_e72ea95e0a3f.73210f0b_d972_48f3_9cea_dd93c1a04303",
            "ebb4f301_f353_446c_9b92_19f131e5181d.ed94673a_d1d2_4bae_88c7_e72ea95e0a3f.7b8c0523_d3f0_4ffd_9f2c_f6d70d338c81",
            "f7c06302_3c06_4331_b7ee_6f01946aa788.90c9ca09_f3b2_4df4_9819_876e99205529.73210f0b_d972_48f3_9cea_dd93c1a04303",
            "f7c06302_3c06_4331_b7ee_6f01946aa788.90c9ca09_f3b2_4df4_9819_876e99205529.7b8c0523_d3f0_4ffd_9f2c_f6d70d338c81",
            "f7c06302_3c06_4331_b7ee_6f01946aa788.a5144d9e_77cd_4dee_8fd5_ac7d984c04b4",
            "08ff7ae0_acef_4f4d_8328_2de484a6d5e1.080e0472_a061_4e7b_b5cd_e176a51e482d",
            "08ff7ae0_acef_4f4d_8328_2de484a6d5e1.68518b4e_7c35_4f7e_8c1f_6eb8cbf6c6d4",
            "3abdac1c_4717_445e_8248_0143c701015a.b9f01054_e14c_4d95_a7f5_77130239fa75",
            "47f9140d_38d8_4391_9aa1_08973d4b6370.39059a9a_d6f9_4433_8619_ac54b5f6b014",
            "47f9140d_38d8_4391_9aa1_08973d4b6370.410e261e_a3f0_4a2f_8d9f_5268a012fe9c",
            "bc3a295e_af26_46d7_9445_63325ab035b8.ba3f6927_cb27_4bd1_b354_90c7c5af2e75",
            "c10f79c9_744d_40a5_a272_7cde7ca1f5a6.1b47bdc9_74ed_405c_8653_aecb4fe76c9b",
            "c10f79c9_744d_40a5_a272_7cde7ca1f5a6.91e817fb_0048_4353_88f9_dc551aaaa440",
            "f7c06302_3c06_4331_b7ee_6f01946aa788.67fbec65_b1ef_4eb9_a1e6_65e7f116d3c0",
            "fd5601fa_5513_4b0a_b935_9817c84319e6.16849f54_6d6d_4a07_b312_9fe525331a92",
            "fd5601fa_5513_4b0a_b935_9817c84319e6.f5faf9d5_cec5_4a29_8526_ed141f688972",
            "124295e4_f6a9_4904_baa2_6bb2752d0059.aca1fa56_1299_4a7d_b712_c7e430a7d36c",
            "3062fe14_682d_481f_a98e_b217c45c2337.f7d288b7_bfee_415e_8b54_ebd575218e55",
            "3abdac1c_4717_445e_8248_0143c701015a.0bdda151_6998_4715_a962_bd4075d9bdec",
            "554f7ba1_7232_4a12_a2b6_0954976ff3b9.f00eba9f_6573_415a_ae7e_2d6a166dcf34",
            "5953d8e3_565b_4b29_a498_5ef50f9aefbe.636d0697_09fe_4e2a_9134_c6d23c1db03f",
            "793f94f9_73d2_4ed2_8ccb_abf4576c2a84.bb061051_8b46_4d59_8a8c_3e2c466a7424",
            "8dbdff35_af3a_4c69_8963_53bdcb33c775.ce66c526_64fb_492d_a43b_d8b1f22b35d0",
            "8f8996ae_8dd4_4a45_bed9_7757fa6907db.039b7852_e965_4469_95a3_6fcc09e5147e",
            "951d1945_98d0_4329_9025_dce55687f3a4.8b000366_cc6f_41e8_b997_c4bfb11fa701",
            "a047df87_7c81_4a1c_abc5_99a6eda40f1a.c011b1ca_90a6_457b_976f_6b69ab0de570",
            "bc3a295e_af26_46d7_9445_63325ab035b8.1cb69f10_e2ec_46df_9a5b_0d293f1c9ce7",
            "c10f79c9_744d_40a5_a272_7cde7ca1f5a6.012b93b4_cb2c_4f56_86fa_8bc6b4d39cdd",
            "cbb33199_7896_432f_b0f6_ef45a4650723.979eddbf_1d5e_43ce_bec3_fafe4b79566d",
            "d0b621a6_148d_427d_8aef_b073b11184e1.ae224b2b_8482_4474_8d08_be952968f42c",
            "d64b9bc0_e6b3_4556_acda_8040d33b7148.94708c06_7cab_491c_ac16_fabcc3f9fe4e",
            "da5873de_e112_4f9b_9e0f_149bd1221894.c71f745b_6f14_4e4f_921a_c4fc2cc46ec6",
            "e700973b_9070_4ec8_9e8d_10cdf1fd209d.94ebac20_7c60_4139_9a50_7e1e8cefe718",
            "ebb4f301_f353_446c_9b92_19f131e5181d.c94d7c43_11fd_4c5a_9942_9261d858e218",
            "f7c06302_3c06_4331_b7ee_6f01946aa788.a44d3bb0_49ea_4f97_a40f_3a941eb5d901",
            "fd5601fa_5513_4b0a_b935_9817c84319e6.02c26aed_2ca2_4f18_b86f_4297e1b31ba0",
            "1ca047e2_b601_4ba7_a579_abcfa7a45ea7.905fe508_239a_4ff6_9616_f4d60c1818f9",
            "3abdac1c_4717_445e_8248_0143c701015a.f05b3cec_4259_439c_b5e9_9b70d843bfb1",
            "bc3a295e_af26_46d7_9445_63325ab035b8.6fe38251_759a_43cf_94d2_d33296c8b4c8",
            "c10f79c9_744d_40a5_a272_7cde7ca1f5a6.cf9c438c_8afb_4819_b7c6_46ec2f650a62",
            "f7c06302_3c06_4331_b7ee_6f01946aa788.6a282474_b5da_494d_be6b_e1a0e7c8f3be",
            "fd5601fa_5513_4b0a_b935_9817c84319e6.58334e18_7ff0_43d9_9fd7_be611d623a5f",
            "1ca047e2_b601_4ba7_a579_abcfa7a45ea7.a48e2b92_9b73_4fbf_99d7_3fa6824903ff",
            "3abdac1c_4717_445e_8248_0143c701015a.2bae117f_38cc_4a0c_8662_04b19fe3277d",
            "bc3a295e_af26_46d7_9445_63325ab035b8.d33b6eb3_5b84_4e98_a1cd_546105794982",
            "c10f79c9_744d_40a5_a272_7cde7ca1f5a6.11d10266_9cb9_41dd_b9d4_dc29593aca76",
            "f7c06302_3c06_4331_b7ee_6f01946aa788.4a637b58_1770_4c13_9450_d5ad754ba624",
            "fd5601fa_5513_4b0a_b935_9817c84319e6.462820ea_ad24_48ff_9e2a_dee6c06172b8",
            "08ff7ae0_acef_4f4d_8328_2de484a6d5e1.4b9cb49f_ccb6_4c07_9d2c_f8221f0a2e22",
            "47f9140d_38d8_4391_9aa1_08973d4b6370.9f0c23cb_44a3_4e66_9f1c_4946a9dd8010",
            "309e9e63_9468_410a_ae6d_cd87d74a391f",
            "3b51f563_f7fb_4782_8c83_360a40ea6a5f",
            "8e370303_befe_4856_92ac_f5a26877728f",
            "a31f5463_d862_41bf_9945_a938216fcb32",
            "c7bfcd6d_b0a6_4298_b49d_550066004496",
            "a31374ca_9eb8_4ffe_8fa2_51035d36aaba",
            "124295e4_f6a9_4904_baa2_6bb2752d0059.859193de_a4f3_4707_879c_b8a8188c5f5b.292353e0_4db5_4ee1_a0b6_99a2446e5a68",
            "124295e4_f6a9_4904_baa2_6bb2752d0059.859193de_a4f3_4707_879c_b8a8188c5f5b.c1ddc422_0faa_4dfb_9eb9_074f8b9281e6",
            "124295e4_f6a9_4904_baa2_6bb2752d0059.859193de_a4f3_4707_879c_b8a8188c5f5b.c534d2ad_f93c_4741_8503_e4fa0c79ccae",
            "124295e4_f6a9_4904_baa2_6bb2752d0059.859193de_a4f3_4707_879c_b8a8188c5f5b.ca485062_e6af_41f3_8e24_eced3bef0c87",
            "124295e4_f6a9_4904_baa2_6bb2752d0059.859193de_a4f3_4707_879c_b8a8188c5f5b.fbf312d9_84e6_4d92_90e4_66457501404d",
            "1af5f6f9_15b1_4a62_962e_0ede16373202.1fb09601_408e_4074_98c5_e7a082e0bc58",
            "1af5f6f9_15b1_4a62_962e_0ede16373202.7b4f5802_1349_46b9_838d_b6bf2e847bdf",
            "3062fe14_682d_481f_a98e_b217c45c2337.b3f637dd_fc6a_48c7_9919_ed48775a743a.292353e0_4db5_4ee1_a0b6_99a2446e5a68",
            "3062fe14_682d_481f_a98e_b217c45c2337.b3f637dd_fc6a_48c7_9919_ed48775a743a.c1ddc422_0faa_4dfb_9eb9_074f8b9281e6",
            "3062fe14_682d_481f_a98e_b217c45c2337.b3f637dd_fc6a_48c7_9919_ed48775a743a.c534d2ad_f93c_4741_8503_e4fa0c79ccae",
            "3062fe14_682d_481f_a98e_b217c45c2337.b3f637dd_fc6a_48c7_9919_ed48775a743a.ca485062_e6af_41f3_8e24_eced3bef0c87",
            "3062fe14_682d_481f_a98e_b217c45c2337.b3f637dd_fc6a_48c7_9919_ed48775a743a.fbf312d9_84e6_4d92_90e4_66457501404d",
            "3abdac1c_4717_445e_8248_0143c701015a.71bfdedb_73da_4307_9046_dba6e35eabdf.292353e0_4db5_4ee1_a0b6_99a2446e5a68",
            "3abdac1c_4717_445e_8248_0143c701015a.71bfdedb_73da_4307_9046_dba6e35eabdf.c1ddc422_0faa_4dfb_9eb9_074f8b9281e6",
            "3abdac1c_4717_445e_8248_0143c701015a.71bfdedb_73da_4307_9046_dba6e35eabdf.c534d2ad_f93c_4741_8503_e4fa0c79ccae",
            "3abdac1c_4717_445e_8248_0143c701015a.71bfdedb_73da_4307_9046_dba6e35eabdf.ca485062_e6af_41f3_8e24_eced3bef0c87",
            "3abdac1c_4717_445e_8248_0143c701015a.71bfdedb_73da_4307_9046_dba6e35eabdf.fbf312d9_84e6_4d92_90e4_66457501404d",
            "554f7ba1_7232_4a12_a2b6_0954976ff3b9.a8a33c70_c979_47b7_aa0a_4a2c14cf89aa.292353e0_4db5_4ee1_a0b6_99a2446e5a68",
            "554f7ba1_7232_4a12_a2b6_0954976ff3b9.a8a33c70_c979_47b7_aa0a_4a2c14cf89aa.c1ddc422_0faa_4dfb_9eb9_074f8b9281e6",
            "554f7ba1_7232_4a12_a2b6_0954976ff3b9.a8a33c70_c979_47b7_aa0a_4a2c14cf89aa.c534d2ad_f93c_4741_8503_e4fa0c79ccae",
            "554f7ba1_7232_4a12_a2b6_0954976ff3b9.a8a33c70_c979_47b7_aa0a_4a2c14cf89aa.ca485062_e6af_41f3_8e24_eced3bef0c87",
            "554f7ba1_7232_4a12_a2b6_0954976ff3b9.a8a33c70_c979_47b7_aa0a_4a2c14cf89aa.fbf312d9_84e6_4d92_90e4_66457501404d",
            "5953d8e3_565b_4b29_a498_5ef50f9aefbe.c9640af1_0c83_4ee4_9e18_3dd88f104727.292353e0_4db5_4ee1_a0b6_99a2446e5a68",
            "5953d8e3_565b_4b29_a498_5ef50f9aefbe.c9640af1_0c83_4ee4_9e18_3dd88f104727.c1ddc422_0faa_4dfb_9eb9_074f8b9281e6",
            "5953d8e3_565b_4b29_a498_5ef50f9aefbe.c9640af1_0c83_4ee4_9e18_3dd88f104727.c534d2ad_f93c_4741_8503_e4fa0c79ccae",
            "5953d8e3_565b_4b29_a498_5ef50f9aefbe.c9640af1_0c83_4ee4_9e18_3dd88f104727.ca485062_e6af_41f3_8e24_eced3bef0c87",
            "5953d8e3_565b_4b29_a498_5ef50f9aefbe.c9640af1_0c83_4ee4_9e18_3dd88f104727.fbf312d9_84e6_4d92_90e4_66457501404d",
            "6b498416_1218_453d_a09e_64a2e2aebe24.1fb09601_408e_4074_98c5_e7a082e0bc58",
            "6b498416_1218_453d_a09e_64a2e2aebe24.7b4f5802_1349_46b9_838d_b6bf2e847bdf",
            "70d05bb1_6810_435a_bcac_8166afba0ba6.1fb09601_408e_4074_98c5_e7a082e0bc58",
            "70d05bb1_6810_435a_bcac_8166afba0ba6.7b4f5802_1349_46b9_838d_b6bf2e847bdf",
            "793f94f9_73d2_4ed2_8ccb_abf4576c2a84.9a6c9ad4_3c32_4aab_a58e_03ed48e116eb.292353e0_4db5_4ee1_a0b6_99a2446e5a68",
            "793f94f9_73d2_4ed2_8ccb_abf4576c2a84.9a6c9ad4_3c32_4aab_a58e_03ed48e116eb.c1ddc422_0faa_4dfb_9eb9_074f8b9281e6",
            "793f94f9_73d2_4ed2_8ccb_abf4576c2a84.9a6c9ad4_3c32_4aab_a58e_03ed48e116eb.c534d2ad_f93c_4741_8503_e4fa0c79ccae",
            "793f94f9_73d2_4ed2_8ccb_abf4576c2a84.9a6c9ad4_3c32_4aab_a58e_03ed48e116eb.ca485062_e6af_41f3_8e24_eced3bef0c87",
            "793f94f9_73d2_4ed2_8ccb_abf4576c2a84.9a6c9ad4_3c32_4aab_a58e_03ed48e116eb.fbf312d9_84e6_4d92_90e4_66457501404d",
            "7b630b30_400a_413b_9d29_b0b98688dac5.1fb09601_408e_4074_98c5_e7a082e0bc58",
            "7b630b30_400a_413b_9d29_b0b98688dac5.7b4f5802_1349_46b9_838d_b6bf2e847bdf",
            "8dbdff35_af3a_4c69_8963_53bdcb33c775.0283d8fe_43f1_4d0e_9a53_9dba9dacb759.292353e0_4db5_4ee1_a0b6_99a2446e5a68",
            "8dbdff35_af3a_4c69_8963_53bdcb33c775.0283d8fe_43f1_4d0e_9a53_9dba9dacb759.c1ddc422_0faa_4dfb_9eb9_074f8b9281e6",
            "8dbdff35_af3a_4c69_8963_53bdcb33c775.0283d8fe_43f1_4d0e_9a53_9dba9dacb759.c534d2ad_f93c_4741_8503_e4fa0c79ccae",
            "8dbdff35_af3a_4c69_8963_53bdcb33c775.0283d8fe_43f1_4d0e_9a53_9dba9dacb759.ca485062_e6af_41f3_8e24_eced3bef0c87",
            "8dbdff35_af3a_4c69_8963_53bdcb33c775.0283d8fe_43f1_4d0e_9a53_9dba9dacb759.fbf312d9_84e6_4d92_90e4_66457501404d",
            "951d1945_98d0_4329_9025_dce55687f3a4.7ea99eda_1771_4b77_bd58_81e429a973fa.292353e0_4db5_4ee1_a0b6_99a2446e5a68",
            "951d1945_98d0_4329_9025_dce55687f3a4.7ea99eda_1771_4b77_bd58_81e429a973fa.c1ddc422_0faa_4dfb_9eb9_074f8b9281e6",
            "951d1945_98d0_4329_9025_dce55687f3a4.7ea99eda_1771_4b77_bd58_81e429a973fa.c534d2ad_f93c_4741_8503_e4fa0c79ccae",
            "951d1945_98d0_4329_9025_dce55687f3a4.7ea99eda_1771_4b77_bd58_81e429a973fa.ca485062_e6af_41f3_8e24_eced3bef0c87",
            "951d1945_98d0_4329_9025_dce55687f3a4.7ea99eda_1771_4b77_bd58_81e429a973fa.fbf312d9_84e6_4d92_90e4_66457501404d",
            "a047df87_7c81_4a1c_abc5_99a6eda40f1a.de900d60_7e5c_4f71_aa0a_7e9a2e7522f5.292353e0_4db5_4ee1_a0b6_99a2446e5a68",
            "a047df87_7c81_4a1c_abc5_99a6eda40f1a.de900d60_7e5c_4f71_aa0a_7e9a2e7522f5.c1ddc422_0faa_4dfb_9eb9_074f8b9281e6",
            "a047df87_7c81_4a1c_abc5_99a6eda40f1a.de900d60_7e5c_4f71_aa0a_7e9a2e7522f5.c534d2ad_f93c_4741_8503_e4fa0c79ccae",
            "a047df87_7c81_4a1c_abc5_99a6eda40f1a.de900d60_7e5c_4f71_aa0a_7e9a2e7522f5.ca485062_e6af_41f3_8e24_eced3bef0c87",
            "a047df87_7c81_4a1c_abc5_99a6eda40f1a.de900d60_7e5c_4f71_aa0a_7e9a2e7522f5.fbf312d9_84e6_4d92_90e4_66457501404d",
            "bb8bdc58_4098_4ba0_a92d_907dad26eaab.1fb09601_408e_4074_98c5_e7a082e0bc58",
            "bb8bdc58_4098_4ba0_a92d_907dad26eaab.7b4f5802_1349_46b9_838d_b6bf2e847bdf",
            "bc3a295e_af26_46d7_9445_63325ab035b8.936d6d8f_0388_448a_8732_257251232ef8.292353e0_4db5_4ee1_a0b6_99a2446e5a68",
            "bc3a295e_af26_46d7_9445_63325ab035b8.936d6d8f_0388_448a_8732_257251232ef8.c1ddc422_0faa_4dfb_9eb9_074f8b9281e6",
            "bc3a295e_af26_46d7_9445_63325ab035b8.936d6d8f_0388_448a_8732_257251232ef8.c534d2ad_f93c_4741_8503_e4fa0c79ccae",
            "bc3a295e_af26_46d7_9445_63325ab035b8.936d6d8f_0388_448a_8732_257251232ef8.ca485062_e6af_41f3_8e24_eced3bef0c87",
            "bc3a295e_af26_46d7_9445_63325ab035b8.936d6d8f_0388_448a_8732_257251232ef8.fbf312d9_84e6_4d92_90e4_66457501404d",
            "c10f79c9_744d_40a5_a272_7cde7ca1f5a6.e3794860_91e1_4d33_b59e_6d32b3608901.292353e0_4db5_4ee1_a0b6_99a2446e5a68",
            "c10f79c9_744d_40a5_a272_7cde7ca1f5a6.e3794860_91e1_4d33_b59e_6d32b3608901.c1ddc422_0faa_4dfb_9eb9_074f8b9281e6",
            "c10f79c9_744d_40a5_a272_7cde7ca1f5a6.e3794860_91e1_4d33_b59e_6d32b3608901.c534d2ad_f93c_4741_8503_e4fa0c79ccae",
            "c10f79c9_744d_40a5_a272_7cde7ca1f5a6.e3794860_91e1_4d33_b59e_6d32b3608901.ca485062_e6af_41f3_8e24_eced3bef0c87",
            "c10f79c9_744d_40a5_a272_7cde7ca1f5a6.e3794860_91e1_4d33_b59e_6d32b3608901.fbf312d9_84e6_4d92_90e4_66457501404d",
            "ca7e8a8e_ee4e_4a39_9c81_5f4ffb0a0189",
            "cbb33199_7896_432f_b0f6_ef45a4650723.9f0e2fee_7ea6_497c_9d2a_9d47a7accb4a.292353e0_4db5_4ee1_a0b6_99a2446e5a68",
            "cbb33199_7896_432f_b0f6_ef45a4650723.9f0e2fee_7ea6_497c_9d2a_9d47a7accb4a.c1ddc422_0faa_4dfb_9eb9_074f8b9281e6",
            "cbb33199_7896_432f_b0f6_ef45a4650723.9f0e2fee_7ea6_497c_9d2a_9d47a7accb4a.c534d2ad_f93c_4741_8503_e4fa0c79ccae",
            "cbb33199_7896_432f_b0f6_ef45a4650723.9f0e2fee_7ea6_497c_9d2a_9d47a7accb4a.ca485062_e6af_41f3_8e24_eced3bef0c87",
            "cbb33199_7896_432f_b0f6_ef45a4650723.9f0e2fee_7ea6_497c_9d2a_9d47a7accb4a.fbf312d9_84e6_4d92_90e4_66457501404d",
            "d0b621a6_148d_427d_8aef_b073b11184e1.444b6ff0_2823_4447_9544_c97ff41406c6.292353e0_4db5_4ee1_a0b6_99a2446e5a68",
            "d0b621a6_148d_427d_8aef_b073b11184e1.444b6ff0_2823_4447_9544_c97ff41406c6.c1ddc422_0faa_4dfb_9eb9_074f8b9281e6",
            "d0b621a6_148d_427d_8aef_b073b11184e1.444b6ff0_2823_4447_9544_c97ff41406c6.c534d2ad_f93c_4741_8503_e4fa0c79ccae",
            "d0b621a6_148d_427d_8aef_b073b11184e1.444b6ff0_2823_4447_9544_c97ff41406c6.ca485062_e6af_41f3_8e24_eced3bef0c87",
            "d0b621a6_148d_427d_8aef_b073b11184e1.444b6ff0_2823_4447_9544_c97ff41406c6.fbf312d9_84e6_4d92_90e4_66457501404d",
            "d64b9bc0_e6b3_4556_acda_8040d33b7148.80a359a1_b323_43c9_a585_a1e870c26cab",
            "d64b9bc0_e6b3_4556_acda_8040d33b7148.acd1825b_3d24_4522_8eeb_afa3935131f0",
            "d64b9bc0_e6b3_4556_acda_8040d33b7148.bc357f2e_04de_4d58_849e_bb2f496e5e9e",
            "d64b9bc0_e6b3_4556_acda_8040d33b7148.d646b102_cad2_4c43_852c_6f4e04ca0b01.7b8c0523_d3f0_4ffd_9f2c_f6d70d338c81",
            "da5873de_e112_4f9b_9e0f_149bd1221894.8084c259_152b_4607_808b_0fd0a92973e2.292353e0_4db5_4ee1_a0b6_99a2446e5a68",
            "da5873de_e112_4f9b_9e0f_149bd1221894.8084c259_152b_4607_808b_0fd0a92973e2.c1ddc422_0faa_4dfb_9eb9_074f8b9281e6",
            "da5873de_e112_4f9b_9e0f_149bd1221894.8084c259_152b_4607_808b_0fd0a92973e2.c534d2ad_f93c_4741_8503_e4fa0c79ccae",
            "da5873de_e112_4f9b_9e0f_149bd1221894.8084c259_152b_4607_808b_0fd0a92973e2.ca485062_e6af_41f3_8e24_eced3bef0c87",
            "da5873de_e112_4f9b_9e0f_149bd1221894.8084c259_152b_4607_808b_0fd0a92973e2.fbf312d9_84e6_4d92_90e4_66457501404d",
            "e700973b_9070_4ec8_9e8d_10cdf1fd209d.9a7697b2_908b_44e2_9d47_24a3c5947254.292353e0_4db5_4ee1_a0b6_99a2446e5a68",
            "e700973b_9070_4ec8_9e8d_10cdf1fd209d.9a7697b2_908b_44e2_9d47_24a3c5947254.c1ddc422_0faa_4dfb_9eb9_074f8b9281e6",
            "e700973b_9070_4ec8_9e8d_10cdf1fd209d.9a7697b2_908b_44e2_9d47_24a3c5947254.c534d2ad_f93c_4741_8503_e4fa0c79ccae",
            "e700973b_9070_4ec8_9e8d_10cdf1fd209d.9a7697b2_908b_44e2_9d47_24a3c5947254.ca485062_e6af_41f3_8e24_eced3bef0c87",
            "e700973b_9070_4ec8_9e8d_10cdf1fd209d.9a7697b2_908b_44e2_9d47_24a3c5947254.fbf312d9_84e6_4d92_90e4_66457501404d",
            "ebb4f301_f353_446c_9b92_19f131e5181d.f6cf4a1e_6056_4f73_9dba_4e01a86113d8.292353e0_4db5_4ee1_a0b6_99a2446e5a68",
            "ebb4f301_f353_446c_9b92_19f131e5181d.f6cf4a1e_6056_4f73_9dba_4e01a86113d8.c1ddc422_0faa_4dfb_9eb9_074f8b9281e6",
            "ebb4f301_f353_446c_9b92_19f131e5181d.f6cf4a1e_6056_4f73_9dba_4e01a86113d8.c534d2ad_f93c_4741_8503_e4fa0c79ccae",
            "ebb4f301_f353_446c_9b92_19f131e5181d.f6cf4a1e_6056_4f73_9dba_4e01a86113d8.ca485062_e6af_41f3_8e24_eced3bef0c87",
            "ebb4f301_f353_446c_9b92_19f131e5181d.f6cf4a1e_6056_4f73_9dba_4e01a86113d8.fbf312d9_84e6_4d92_90e4_66457501404d",
            "f7c06302_3c06_4331_b7ee_6f01946aa788.60befd3c_ef15_481b_ab9a_5e1205e90abc.292353e0_4db5_4ee1_a0b6_99a2446e5a68",
            "f7c06302_3c06_4331_b7ee_6f01946aa788.60befd3c_ef15_481b_ab9a_5e1205e90abc.c1ddc422_0faa_4dfb_9eb9_074f8b9281e6",
            "f7c06302_3c06_4331_b7ee_6f01946aa788.60befd3c_ef15_481b_ab9a_5e1205e90abc.c534d2ad_f93c_4741_8503_e4fa0c79ccae",
            "f7c06302_3c06_4331_b7ee_6f01946aa788.60befd3c_ef15_481b_ab9a_5e1205e90abc.ca485062_e6af_41f3_8e24_eced3bef0c87",
            "f7c06302_3c06_4331_b7ee_6f01946aa788.60befd3c_ef15_481b_ab9a_5e1205e90abc.fbf312d9_84e6_4d92_90e4_66457501404d",
            "fd5601fa_5513_4b0a_b935_9817c84319e6.3a3f575d_2d3c_4399_a159_9cfabfb29282.292353e0_4db5_4ee1_a0b6_99a2446e5a68",
            "fd5601fa_5513_4b0a_b935_9817c84319e6.3a3f575d_2d3c_4399_a159_9cfabfb29282.c1ddc422_0faa_4dfb_9eb9_074f8b9281e6",
            "fd5601fa_5513_4b0a_b935_9817c84319e6.3a3f575d_2d3c_4399_a159_9cfabfb29282.c534d2ad_f93c_4741_8503_e4fa0c79ccae",
            "fd5601fa_5513_4b0a_b935_9817c84319e6.3a3f575d_2d3c_4399_a159_9cfabfb29282.ca485062_e6af_41f3_8e24_eced3bef0c87",
            "fd5601fa_5513_4b0a_b935_9817c84319e6.3a3f575d_2d3c_4399_a159_9cfabfb29282.fbf312d9_84e6_4d92_90e4_66457501404d",
            "124295e4_f6a9_4904_baa2_6bb2752d0059.092ca3e0_181a_4850_a7e1_51357b61966c",
            "124295e4_f6a9_4904_baa2_6bb2752d0059.b718b5f2_4c49_436f_8c2d_dacce4a07311",
            "3062fe14_682d_481f_a98e_b217c45c2337.05245071_95e5_47d4_af20_017b1d3800e8",
            "3062fe14_682d_481f_a98e_b217c45c2337.98b2d649_6f9e_40b5_acf9_17cd849875d8",
            "3abdac1c_4717_445e_8248_0143c701015a.0be68eb1_3f5f_4fbe_975e_6259422057f4",
            "3abdac1c_4717_445e_8248_0143c701015a.faf2965e_6edd_4149_ad97_37747f77a700",
            "554f7ba1_7232_4a12_a2b6_0954976ff3b9.b5a47f4f_4f3f_4f3b_a528_ba4c506cfe86",
            "554f7ba1_7232_4a12_a2b6_0954976ff3b9.e4d07c69_bf73_44c3_ba35_537ba041551f",
            "5953d8e3_565b_4b29_a498_5ef50f9aefbe.1bafce2d_4e81_4763_8488_4218cd2983e0",
            "5953d8e3_565b_4b29_a498_5ef50f9aefbe.aa83e3b3_07b9_4793_88cc_08f67f522e08",
            "793f94f9_73d2_4ed2_8ccb_abf4576c2a84.315de3ce_5982_4dec_87ef_b2f4feb421e6",
            "793f94f9_73d2_4ed2_8ccb_abf4576c2a84.799b4d3c_e095_4657_a22c_ded962ce07d0",
            "8dbdff35_af3a_4c69_8963_53bdcb33c775.24bdc701_5e82_49d9_8663_9fb3312f81c4",
            "8dbdff35_af3a_4c69_8963_53bdcb33c775.254a7e7f_a859_405b_8ede_5bc939f2b84d",
            "951d1945_98d0_4329_9025_dce55687f3a4.c8c4cb2a_cc76_4685_b52f_dc3c8af01dc9",
            "951d1945_98d0_4329_9025_dce55687f3a4.d0a9e2e0_8e50_42ef_8775_b1e8170881d8",
            "a047df87_7c81_4a1c_abc5_99a6eda40f1a.5e5e3795_6054_422e_b3c4_f5623993fc9d",
            "a047df87_7c81_4a1c_abc5_99a6eda40f1a.f85f0692_6ef7_4640_8442_241da9d8464d",
            "bc3a295e_af26_46d7_9445_63325ab035b8.2db44878_9a00_4015_b0a6_a79bbb6c498b",
            "bc3a295e_af26_46d7_9445_63325ab035b8.4b36bfa7_ced3_4c4b_a145_b9aefaaff4ac",
            "c10f79c9_744d_40a5_a272_7cde7ca1f5a6.0feaf9d9_924e_42dc_9bfc_aad29a54d56f",
            "c10f79c9_744d_40a5_a272_7cde7ca1f5a6.f81f9843_b9c5_45ba_b1fc_00ecb34928ff",
            "cbb33199_7896_432f_b0f6_ef45a4650723.54c65e2b_d5be_45bb_a10f_093294a424fd",
            "cbb33199_7896_432f_b0f6_ef45a4650723.98aaff7e_e57e_49d8_a700_455398624d00",
            "d0b621a6_148d_427d_8aef_b073b11184e1.179ba3d6_27ae_44bb_98a6_bf718d4b6de6",
            "d0b621a6_148d_427d_8aef_b073b11184e1.9e1450f7_fcf6_41c8_82b6_756c7dba7064",
            "da5873de_e112_4f9b_9e0f_149bd1221894.40af461d_acdb_4c4e_8036_3d4f24959c7b",
            "da5873de_e112_4f9b_9e0f_149bd1221894.8b340bf3_c30f_45ed_8224_1b19f1fdbc78",
            "e700973b_9070_4ec8_9e8d_10cdf1fd209d.15506928_103f_49cf_982d_ff4bcc72dba4",
            "e700973b_9070_4ec8_9e8d_10cdf1fd209d.663ed313_4b9d_4e9f_a67b_ec6ddb025a1a",
            "ebb4f301_f353_446c_9b92_19f131e5181d.40f734b2_8c72_4c61_b31d_a81caaf60b5d",
            "ebb4f301_f353_446c_9b92_19f131e5181d.d85d20c8_42c8_405a_b904_dffd4d29cbb8",
            "f7c06302_3c06_4331_b7ee_6f01946aa788.0e9786bf_f1e7_4e16_a018_73c84a7ba2fa",
            "f7c06302_3c06_4331_b7ee_6f01946aa788.dfc92986_ec8d_41af_b421_095ee18dafad",
            "fd5601fa_5513_4b0a_b935_9817c84319e6.20d9ea99_3a3b_4fa0_a089_b6f27e65b70c",
            "fd5601fa_5513_4b0a_b935_9817c84319e6.3a51de3f_2b93_4c03_bdbe_cee37748b998",
            "124295e4_f6a9_4904_baa2_6bb2752d0059.859193de_a4f3_4707_879c_b8a8188c5f5b.df34251f_78ab_4f7b_8e8b_75ed453cbe89",
            "3062fe14_682d_481f_a98e_b217c45c2337.b3f637dd_fc6a_48c7_9919_ed48775a743a.df34251f_78ab_4f7b_8e8b_75ed453cbe89",
            "3abdac1c_4717_445e_8248_0143c701015a.71bfdedb_73da_4307_9046_dba6e35eabdf.df34251f_78ab_4f7b_8e8b_75ed453cbe89",
            "554f7ba1_7232_4a12_a2b6_0954976ff3b9.a8a33c70_c979_47b7_aa0a_4a2c14cf89aa.df34251f_78ab_4f7b_8e8b_75ed453cbe89",
            "5953d8e3_565b_4b29_a498_5ef50f9aefbe.c9640af1_0c83_4ee4_9e18_3dd88f104727.df34251f_78ab_4f7b_8e8b_75ed453cbe89",
            "793f94f9_73d2_4ed2_8ccb_abf4576c2a84.9a6c9ad4_3c32_4aab_a58e_03ed48e116eb.df34251f_78ab_4f7b_8e8b_75ed453cbe89",
            "8dbdff35_af3a_4c69_8963_53bdcb33c775.0283d8fe_43f1_4d0e_9a53_9dba9dacb759.df34251f_78ab_4f7b_8e8b_75ed453cbe89",
            "951d1945_98d0_4329_9025_dce55687f3a4.7ea99eda_1771_4b77_bd58_81e429a973fa.df34251f_78ab_4f7b_8e8b_75ed453cbe89",
            "a047df87_7c81_4a1c_abc5_99a6eda40f1a.de900d60_7e5c_4f71_aa0a_7e9a2e7522f5.df34251f_78ab_4f7b_8e8b_75ed453cbe89",
            "bc3a295e_af26_46d7_9445_63325ab035b8.936d6d8f_0388_448a_8732_257251232ef8.df34251f_78ab_4f7b_8e8b_75ed453cbe89",
            "c10f79c9_744d_40a5_a272_7cde7ca1f5a6.e3794860_91e1_4d33_b59e_6d32b3608901.df34251f_78ab_4f7b_8e8b_75ed453cbe89",
            "cbb33199_7896_432f_b0f6_ef45a4650723.9f0e2fee_7ea6_497c_9d2a_9d47a7accb4a.df34251f_78ab_4f7b_8e8b_75ed453cbe89",
            "d0b621a6_148d_427d_8aef_b073b11184e1.444b6ff0_2823_4447_9544_c97ff41406c6.df34251f_78ab_4f7b_8e8b_75ed453cbe89",
            "da5873de_e112_4f9b_9e0f_149bd1221894.8084c259_152b_4607_808b_0fd0a92973e2.df34251f_78ab_4f7b_8e8b_75ed453cbe89",
            "e700973b_9070_4ec8_9e8d_10cdf1fd209d.9a7697b2_908b_44e2_9d47_24a3c5947254.df34251f_78ab_4f7b_8e8b_75ed453cbe89",
            "ebb4f301_f353_446c_9b92_19f131e5181d.f6cf4a1e_6056_4f73_9dba_4e01a86113d8.df34251f_78ab_4f7b_8e8b_75ed453cbe89",
            "f7c06302_3c06_4331_b7ee_6f01946aa788.60befd3c_ef15_481b_ab9a_5e1205e90abc.df34251f_78ab_4f7b_8e8b_75ed453cbe89",
            "fd5601fa_5513_4b0a_b935_9817c84319e6.3a3f575d_2d3c_4399_a159_9cfabfb29282.df34251f_78ab_4f7b_8e8b_75ed453cbe89",
            "124295e4_f6a9_4904_baa2_6bb2752d0059.f9605379_de94_412e_8741_4b29bca81417.c60338a8_5ddd_414c_9ac3_829ea890dc0e",
            "3062fe14_682d_481f_a98e_b217c45c2337.1c22a32a_0864_4adf_aa2d_a06e7c121c6b.c60338a8_5ddd_414c_9ac3_829ea890dc0e",
            "3abdac1c_4717_445e_8248_0143c701015a.1daaa597_06ba_4f0b_a386_ddeb2a95335a.c60338a8_5ddd_414c_9ac3_829ea890dc0e",
            "554f7ba1_7232_4a12_a2b6_0954976ff3b9.6688319f_ebfe_4449_b09c_48b227b00a11.c60338a8_5ddd_414c_9ac3_829ea890dc0e",
            "5953d8e3_565b_4b29_a498_5ef50f9aefbe.9ee5549b_1896_4bff_b711_9f99cb47fc52.c60338a8_5ddd_414c_9ac3_829ea890dc0e",
            "793f94f9_73d2_4ed2_8ccb_abf4576c2a84.06d2f814_1ca9_4431_a5ba_1557250d731a.c60338a8_5ddd_414c_9ac3_829ea890dc0e",
            "8dbdff35_af3a_4c69_8963_53bdcb33c775.941d8049_84c9_450a_8a91_c3eea5b8ea56.c60338a8_5ddd_414c_9ac3_829ea890dc0e",
            "951d1945_98d0_4329_9025_dce55687f3a4.0e0ba491_3a05_42eb_a10f_a567a2d9425a.c60338a8_5ddd_414c_9ac3_829ea890dc0e",
            "a047df87_7c81_4a1c_abc5_99a6eda40f1a.23955269_2a1a_4f54_afcb_4e8cce56ffdd.c60338a8_5ddd_414c_9ac3_829ea890dc0e",
            "bc3a295e_af26_46d7_9445_63325ab035b8.78e0ce77_c6a5_47ce_8a12_230ffd06599a.c60338a8_5ddd_414c_9ac3_829ea890dc0e",
            "cbb33199_7896_432f_b0f6_ef45a4650723.ce5d9471_bf65_4117_a6a8_9b7f26664235.c60338a8_5ddd_414c_9ac3_829ea890dc0e",
            "d0b621a6_148d_427d_8aef_b073b11184e1.f7adbf32_0d36_479f_8068_2e955625c9b2.c60338a8_5ddd_414c_9ac3_829ea890dc0e",
            "da5873de_e112_4f9b_9e0f_149bd1221894.351ed972_375b_4b15_82e1_d0f7625d7f4b.c60338a8_5ddd_414c_9ac3_829ea890dc0e",
            "e700973b_9070_4ec8_9e8d_10cdf1fd209d.8421f3ef_6cbe_4eff_84cd_9df22a4edd13.c60338a8_5ddd_414c_9ac3_829ea890dc0e",
            "ebb4f301_f353_446c_9b92_19f131e5181d.ed94673a_d1d2_4bae_88c7_e72ea95e0a3f.c60338a8_5ddd_414c_9ac3_829ea890dc0e",
            "f7c06302_3c06_4331_b7ee_6f01946aa788.90c9ca09_f3b2_4df4_9819_876e99205529.c60338a8_5ddd_414c_9ac3_829ea890dc0e",
            "1ca047e2_b601_4ba7_a579_abcfa7a45ea7.45f29b60_00a0_4fa6_93cf_ae0a04872711",
            "3b373634_2461_4b61_8bcb_068c12b7e1a8.0150c610_728a_4f05_a81d_9e86c17ccc8c",
            "3b373634_2461_4b61_8bcb_068c12b7e1a8.e7fe5d9b_519a_492e_8d3f_9735743644bd",
            "3b373634_2461_4b61_8bcb_068c12b7e1a8.fd502573_5625_4a52_840d_9e57f934adb6",
            "506f355b_ec0d_4763_8082_5d022dcf6153.0150c610_728a_4f05_a81d_9e86c17ccc8c",
            "506f355b_ec0d_4763_8082_5d022dcf6153.e7fe5d9b_519a_492e_8d3f_9735743644bd",
            "506f355b_ec0d_4763_8082_5d022dcf6153.fd502573_5625_4a52_840d_9e57f934adb6",
            "d02c6fdd_ce6b_44a1_b193_1ede85e7d4c8.11c987b4_223f_4d61_beaf_8b10ec3a3b2d",
            "d02c6fdd_ce6b_44a1_b193_1ede85e7d4c8.87389995_27ad_49a8_bf1b_5f25b117ce56",
            "d02c6fdd_ce6b_44a1_b193_1ede85e7d4c8.cbd54644_e644_4743_a015_7b53af377a11",
            "d02c6fdd_ce6b_44a1_b193_1ede85e7d4c8.f2091c19_8d0b_4d5d_983f_a3f335adfc8c",
            "083cc4dd_e831_416e_8066_271b9e938cad",
            "24494cc9_c59e_43dd_898e_4438fe626545",
            "289d2f33_65ac_4c4f_a6e5_1d14cb608749",
            "2d2e2dd0_3925_4f9f_91ba_c63d0f98dca4",
            "348e9a75_2bf1_42ab_bd03_d780f05f99bb",
            "68b3266f_360c_4bbf_9eef_873275c8671a",
            "77ed0326_d17a_4f8e_93d5_8d2b1af950c4",
            "95c89f03_18bb_4698_98fa_5a9abcbe50bf",
            "a486f3cd_85b2_4e44_ba49_0ef7467c9336",
            "db209cac_3b6a_4a8c_9771_8043a5f5dbaf",
            "08ff7ae0_acef_4f4d_8328_2de484a6d5e1.35b58a5c_c7a0_474e_9bb7_945567112b3f",
            "47f9140d_38d8_4391_9aa1_08973d4b6370.890ba12b_2800_43c2_8aa5_7291afd796a5",
            "d02c6fdd_ce6b_44a1_b193_1ede85e7d4c8.d0a77ae4_734b_4a4c_bff7_66ecdfd8e3af",
            "124295e4_f6a9_4904_baa2_6bb2752d0059.2a4ae9ff_2595_4614_894f_cb7e39bf36a7",
            "3062fe14_682d_481f_a98e_b217c45c2337.b5d96cbd_5254_4185_a8f2_b2f093eadd81",
            "3abdac1c_4717_445e_8248_0143c701015a.733e2b28_9e03_4186_a60b_4d5d089414ba",
            "3abdac1c_4717_445e_8248_0143c701015a.b7c63b49_e818_42ad_b867_1c2ae429f264",
            "554f7ba1_7232_4a12_a2b6_0954976ff3b9.a0812711_4b5c_45db_8f28_4addba2e1f0a",
            "5953d8e3_565b_4b29_a498_5ef50f9aefbe.62c0de72_e407_40e5_a526_56d512db78c7",
            "793f94f9_73d2_4ed2_8ccb_abf4576c2a84.0acadeb6_2b5e_4e88_87d0_bbf85e63d38a",
            "8dbdff35_af3a_4c69_8963_53bdcb33c775.418326e3_98a5_4cb5_8e24_160c3d33b813",
            "8f8996ae_8dd4_4a45_bed9_7757fa6907db.0b836588_96b1_47d9_9abe_ae6ef6718a06",
            "951d1945_98d0_4329_9025_dce55687f3a4.43a2661b_f333_447d_99d4_e21db64eaf2a",
            "a047df87_7c81_4a1c_abc5_99a6eda40f1a.2002a748_adce_49b7_9cad_d500844c9fbf",
            "bc3a295e_af26_46d7_9445_63325ab035b8.e01d215a_6ee9_45b4_84aa_079220101038",
            "c10f79c9_744d_40a5_a272_7cde7ca1f5a6.eb67d269_f4a3_40c0_851e_66bd89efb0da",
            "cbb33199_7896_432f_b0f6_ef45a4650723.673b534f_db1a_4d18_91d5_8b1baad9003f",
            "d0b621a6_148d_427d_8aef_b073b11184e1.83e18766_4ebb_492f_96eb_c94e48462ccf",
            "da5873de_e112_4f9b_9e0f_149bd1221894.80372541_e15b_439f_8046_fc563933e535",
            "e700973b_9070_4ec8_9e8d_10cdf1fd209d.ac7b342f_110e_40ff_8289_17f28e53d217",
            "ebb4f301_f353_446c_9b92_19f131e5181d.b74b25c5_1a79_41ef_a65f_284b53e5b005",
            "f7c06302_3c06_4331_b7ee_6f01946aa788.eb0689d0_e21a_476f_a64c_ddde508b11d4",
            "fd5601fa_5513_4b0a_b935_9817c84319e6.fba8d4de_1824_4977_98b2_b6fff0b269b0",
            "3b373634_2461_4b61_8bcb_068c12b7e1a8.d4581c33_9f26_436e_ba16_1fc524631b6f",
            "506f355b_ec0d_4763_8082_5d022dcf6153.e67c2bd5_77d8_4b17_8f49_506dd8473a7c",
            "d02c6fdd_ce6b_44a1_b193_1ede85e7d4c8.0150c610_728a_4f05_a81d_9e86c17ccc8c",
            "08ff7ae0_acef_4f4d_8328_2de484a6d5e1.c1a9a09c_434d_491b_836d_f3eec5671dbc",
            "47f9140d_38d8_4391_9aa1_08973d4b6370.64beb3ae_380d_4540_9275_4cf58aee84f9",
            "d02c6fdd_ce6b_44a1_b193_1ede85e7d4c8.e7fe5d9b_519a_492e_8d3f_9735743644bd",
            "d02c6fdd_ce6b_44a1_b193_1ede85e7d4c8.fd502573_5625_4a52_840d_9e57f934adb6",
            "03e2251b_c111_4c04_b8e2_93438d160457",
            "113d9eb5_17d2_4765_a366_0c2d0ce82ef3",
            "186b8696_d2fd_42c3_b0ef_269f95f4a3e8",
            "3ceb8d68_28c8_48db_a111_2c9d95871a6f",
            "58020af8_807c_41b5_989e_d88aee138305",
            "5aff232c_6c24_4b0a_a98c_6711dc5d981b",
            "6027c053_c6d5_4994_a38b_145baf58d9c4",
            "6c119dba_607b_4f9d_b3dd_51a681a65cf3",
            "6cce0b59_04f7_4b0f_aefb_2dea14760451",
            "82c5b316_25d7_48b1_81e8_89e74d443bfa",
            "a5dd93c8_135f_44d2_b904_dfd010201275",
            "abe5a9d2_b956_4b21_845b_ad9199f0b4c2",
            "ad7fa926_609c_4acd_aef1_e09802ccc8f2",
            "b03129a1_58a8_4b23_a389_bde27bf4567b",
            "d6b99f32_1416_4e4c_939f_9c71b90b2df8",
            "e94bb92b_fbaf_4280_aaae_e3241ee6e6f8",
            "ef551267_c7ee_4e63_a4ff_b384e2c6713e",
            "fdfd6a32_8ed1_4ffc_a8ae_15d9c8c8989a",
            "1c88dea7_7d7e_44c9_94db_b3f1121a7920",
            "124295e4_f6a9_4904_baa2_6bb2752d0059.859193de_a4f3_4707_879c_b8a8188c5f5b.04fa8942_55b0_41fb_9cfc_66d087d70245",
            "3062fe14_682d_481f_a98e_b217c45c2337.b3f637dd_fc6a_48c7_9919_ed48775a743a.04fa8942_55b0_41fb_9cfc_66d087d70245",
            "3abdac1c_4717_445e_8248_0143c701015a.71bfdedb_73da_4307_9046_dba6e35eabdf.04fa8942_55b0_41fb_9cfc_66d087d70245",
            "554f7ba1_7232_4a12_a2b6_0954976ff3b9.a8a33c70_c979_47b7_aa0a_4a2c14cf89aa.04fa8942_55b0_41fb_9cfc_66d087d70245",
            "5953d8e3_565b_4b29_a498_5ef50f9aefbe.c9640af1_0c83_4ee4_9e18_3dd88f104727.04fa8942_55b0_41fb_9cfc_66d087d70245",
            "793f94f9_73d2_4ed2_8ccb_abf4576c2a84.9a6c9ad4_3c32_4aab_a58e_03ed48e116eb.04fa8942_55b0_41fb_9cfc_66d087d70245",
            "8dbdff35_af3a_4c69_8963_53bdcb33c775.0283d8fe_43f1_4d0e_9a53_9dba9dacb759.04fa8942_55b0_41fb_9cfc_66d087d70245",
            "951d1945_98d0_4329_9025_dce55687f3a4.7ea99eda_1771_4b77_bd58_81e429a973fa.04fa8942_55b0_41fb_9cfc_66d087d70245",
            "a047df87_7c81_4a1c_abc5_99a6eda40f1a.de900d60_7e5c_4f71_aa0a_7e9a2e7522f5.04fa8942_55b0_41fb_9cfc_66d087d70245",
            "bc3a295e_af26_46d7_9445_63325ab035b8.936d6d8f_0388_448a_8732_257251232ef8.04fa8942_55b0_41fb_9cfc_66d087d70245",
            "c10f79c9_744d_40a5_a272_7cde7ca1f5a6.e3794860_91e1_4d33_b59e_6d32b3608901.04fa8942_55b0_41fb_9cfc_66d087d70245",
            "cbb33199_7896_432f_b0f6_ef45a4650723.9f0e2fee_7ea6_497c_9d2a_9d47a7accb4a.04fa8942_55b0_41fb_9cfc_66d087d70245",
            "d0b621a6_148d_427d_8aef_b073b11184e1.444b6ff0_2823_4447_9544_c97ff41406c6.04fa8942_55b0_41fb_9cfc_66d087d70245",
            "da5873de_e112_4f9b_9e0f_149bd1221894.8084c259_152b_4607_808b_0fd0a92973e2.04fa8942_55b0_41fb_9cfc_66d087d70245",
            "e700973b_9070_4ec8_9e8d_10cdf1fd209d.9a7697b2_908b_44e2_9d47_24a3c5947254.04fa8942_55b0_41fb_9cfc_66d087d70245",
            "ebb4f301_f353_446c_9b92_19f131e5181d.f6cf4a1e_6056_4f73_9dba_4e01a86113d8.04fa8942_55b0_41fb_9cfc_66d087d70245",
            "f7c06302_3c06_4331_b7ee_6f01946aa788.60befd3c_ef15_481b_ab9a_5e1205e90abc.04fa8942_55b0_41fb_9cfc_66d087d70245",
            "fd5601fa_5513_4b0a_b935_9817c84319e6.3a3f575d_2d3c_4399_a159_9cfabfb29282.04fa8942_55b0_41fb_9cfc_66d087d70245",
            "08ff7ae0_acef_4f4d_8328_2de484a6d5e1.b6505e76_94b4_433a_beaf_6017544b4592",
            "08ff7ae0_acef_4f4d_8328_2de484a6d5e1.c426826a_4671_43fa_a7c9_059a1be86541",
            "08ff7ae0_acef_4f4d_8328_2de484a6d5e1.c5544a98_fb48_414e_b3ba_c5ee0d8aeda4",
            "124295e4_f6a9_4904_baa2_6bb2752d0059.22726d96_34bc_4849_92a7_824ffabd4d72",
            "3062fe14_682d_481f_a98e_b217c45c2337.544cc617_8e14_41ca_b372_0e04d5e3bf12",
            "3abdac1c_4717_445e_8248_0143c701015a.7b2a4102_7d96_4a56_b52a_f2e22621d94a",
            "3abdac1c_4717_445e_8248_0143c701015a.c1dbecdd_2162_46ab_9839_007c10f92a09",
            "3abdac1c_4717_445e_8248_0143c701015a.fe9b1bb1_d4aa_468d_8f44_96a044ccd676",
            "47f9140d_38d8_4391_9aa1_08973d4b6370.33c495f2_9eb2_4587_8529_af39cedd32ac",
            "554f7ba1_7232_4a12_a2b6_0954976ff3b9.2d5f3770_15f6_41af_8e2b_3c8baac10f33",
            "5953d8e3_565b_4b29_a498_5ef50f9aefbe.c950d52c_d3f8_4b12_bb48_245d4e16e803",
            "793f94f9_73d2_4ed2_8ccb_abf4576c2a84.c5a1c310_72e5_4114_8654_7c97f4dae729",
            "8dbdff35_af3a_4c69_8963_53bdcb33c775.4f44dcd3_3f27_4e29_afe1_b217a0de9698",
            "8f8996ae_8dd4_4a45_bed9_7757fa6907db.1bf84ef9_7dc9_43f6_8c64_46357add1f9d",
            "8f8996ae_8dd4_4a45_bed9_7757fa6907db.46405a59_456b_4f61_8005_a73aab9150b4",
            "8f8996ae_8dd4_4a45_bed9_7757fa6907db.60147e27_507b_46e5_ae58_f7bbb242098e",
            "8f8996ae_8dd4_4a45_bed9_7757fa6907db.e6fd0b85_594b_4282_87fc_a0d390b75e51",
            "8f8996ae_8dd4_4a45_bed9_7757fa6907db.f34afc85_d1ee_4dfb_964f_8f3abad76614",
            "951d1945_98d0_4329_9025_dce55687f3a4.8c9c7dd9_1ed2_44fa_8d85_a58231fb660c",
            "a047df87_7c81_4a1c_abc5_99a6eda40f1a.7cf41241_f764_4165_b83d_fd0fb9af7684",
            "a623c910_08ec_4a6f_95ff_d6c28ead53ca.2305ed3a_0648_4501_ad77_fb03cd49be07",
            "bc3a295e_af26_46d7_9445_63325ab035b8.df99a06d_83f2_4000_a4a2_8a0cfc3ba952",
            "c10f79c9_744d_40a5_a272_7cde7ca1f5a6.310591fc_a3a8_4225_b371_959c2430c4d4",
            "c10f79c9_744d_40a5_a272_7cde7ca1f5a6.f59da42f_3979_47fa_9a62_7d073323a985",
            "cbb33199_7896_432f_b0f6_ef45a4650723.197ba5f8_759e_4177_bacc_891fb39384c3",
            "d0b621a6_148d_427d_8aef_b073b11184e1.896473fa_bfd5_466b_bd12_2962450790e1",
            "da5873de_e112_4f9b_9e0f_149bd1221894.e3479c33_7d89_4c02_9d8c_394e856b6d91",
            "e700973b_9070_4ec8_9e8d_10cdf1fd209d.ebb5aa94_3063_4865_b93d_14bcdab5b215",
            "ebb4f301_f353_446c_9b92_19f131e5181d.25a13945_4b43_43d2_bc21_e56afaffabd5",
            "f7c06302_3c06_4331_b7ee_6f01946aa788.aabca30b_669f_4028_95bc_efc73fac6d08",
            "fd5601fa_5513_4b0a_b935_9817c84319e6.c8fc55af_3199_49e4_9245_cfbb4348e110",
            "d64b9bc0_e6b3_4556_acda_8040d33b7148.054c5261_b483_48ff_a47c_97a7e9ce9880",
            "d64b9bc0_e6b3_4556_acda_8040d33b7148.0685a60a_9bce_4c0c_b68c_b7ae310dc149",
            "d64b9bc0_e6b3_4556_acda_8040d33b7148.13e04147_c9f3_43ce_a20a_45469f499030",
            "d64b9bc0_e6b3_4556_acda_8040d33b7148.1e39b32b_c387_4950_9269_62058bcbd7ad",
            "d64b9bc0_e6b3_4556_acda_8040d33b7148.26df9086_6531_406a_9fce_faaea4c4eeff",
            "d64b9bc0_e6b3_4556_acda_8040d33b7148.398480da_80d9_43f6_b796_d60002d3c63c",
            "d64b9bc0_e6b3_4556_acda_8040d33b7148.7b2d8b7e_bdfe_4837_93a8_2e71770258bf",
            "d64b9bc0_e6b3_4556_acda_8040d33b7148.7cdaf176_3062_4111_94f5_27ed2998a8eb",
            "d64b9bc0_e6b3_4556_acda_8040d33b7148.87cc7e8f_a2fa_4a46_9e18_002ad1f6984e",
            "d64b9bc0_e6b3_4556_acda_8040d33b7148.bf975320_a43e_43cc_86bc_a82983f735ec",
            "d64b9bc0_e6b3_4556_acda_8040d33b7148.c3257189_2c5f_4fba_8179_d08a3d6f5a94",
            "d64b9bc0_e6b3_4556_acda_8040d33b7148.c76e3d65_8b3a_4b18_8f73_ab3608a678a9",
            "d64b9bc0_e6b3_4556_acda_8040d33b7148.d1076877_aa60_4a48_9656_db0250342795",
            "d64b9bc0_e6b3_4556_acda_8040d33b7148.d2513e19_a7e7_4767_b1a9_0b41c9c99662",
            "d64b9bc0_e6b3_4556_acda_8040d33b7148.d6c2bf91_b015_4f44_8483_a0d72288ce38",
            "d64b9bc0_e6b3_4556_acda_8040d33b7148.df674f3d_795e_4d86_898e_6ec4f8a75347",
            "d64b9bc0_e6b3_4556_acda_8040d33b7148.eb39c7d4_f6e4_4cb4_9f18_96e0019eef5d",
            "d64b9bc0_e6b3_4556_acda_8040d33b7148.ef595a99_8c11_4b0d_971a_61c6d6044de8",
            "124295e4_f6a9_4904_baa2_6bb2752d0059.859193de_a4f3_4707_879c_b8a8188c5f5b.d851e5bd_1766_4aae_a571_d5070bcc3493",
            "3062fe14_682d_481f_a98e_b217c45c2337.b3f637dd_fc6a_48c7_9919_ed48775a743a.d851e5bd_1766_4aae_a571_d5070bcc3493",
            "3abdac1c_4717_445e_8248_0143c701015a.71bfdedb_73da_4307_9046_dba6e35eabdf.d851e5bd_1766_4aae_a571_d5070bcc3493",
            "554f7ba1_7232_4a12_a2b6_0954976ff3b9.a8a33c70_c979_47b7_aa0a_4a2c14cf89aa.d851e5bd_1766_4aae_a571_d5070bcc3493",
            "5953d8e3_565b_4b29_a498_5ef50f9aefbe.c9640af1_0c83_4ee4_9e18_3dd88f104727.d851e5bd_1766_4aae_a571_d5070bcc3493",
            "793f94f9_73d2_4ed2_8ccb_abf4576c2a84.9a6c9ad4_3c32_4aab_a58e_03ed48e116eb.d851e5bd_1766_4aae_a571_d5070bcc3493",
            "8dbdff35_af3a_4c69_8963_53bdcb33c775.0283d8fe_43f1_4d0e_9a53_9dba9dacb759.d851e5bd_1766_4aae_a571_d5070bcc3493",
            "951d1945_98d0_4329_9025_dce55687f3a4.7ea99eda_1771_4b77_bd58_81e429a973fa.d851e5bd_1766_4aae_a571_d5070bcc3493",
            "a047df87_7c81_4a1c_abc5_99a6eda40f1a.de900d60_7e5c_4f71_aa0a_7e9a2e7522f5.d851e5bd_1766_4aae_a571_d5070bcc3493",
            "bc3a295e_af26_46d7_9445_63325ab035b8.936d6d8f_0388_448a_8732_257251232ef8.d851e5bd_1766_4aae_a571_d5070bcc3493",
            "c10f79c9_744d_40a5_a272_7cde7ca1f5a6.e3794860_91e1_4d33_b59e_6d32b3608901.d851e5bd_1766_4aae_a571_d5070bcc3493",
            "cbb33199_7896_432f_b0f6_ef45a4650723.9f0e2fee_7ea6_497c_9d2a_9d47a7accb4a.d851e5bd_1766_4aae_a571_d5070bcc3493",
            "d0b621a6_148d_427d_8aef_b073b11184e1.444b6ff0_2823_4447_9544_c97ff41406c6.d851e5bd_1766_4aae_a571_d5070bcc3493",
            "da5873de_e112_4f9b_9e0f_149bd1221894.8084c259_152b_4607_808b_0fd0a92973e2.d851e5bd_1766_4aae_a571_d5070bcc3493",
            "e700973b_9070_4ec8_9e8d_10cdf1fd209d.9a7697b2_908b_44e2_9d47_24a3c5947254.d851e5bd_1766_4aae_a571_d5070bcc3493",
            "ebb4f301_f353_446c_9b92_19f131e5181d.f6cf4a1e_6056_4f73_9dba_4e01a86113d8.d851e5bd_1766_4aae_a571_d5070bcc3493",
            "f7c06302_3c06_4331_b7ee_6f01946aa788.60befd3c_ef15_481b_ab9a_5e1205e90abc.d851e5bd_1766_4aae_a571_d5070bcc3493",
            "fd5601fa_5513_4b0a_b935_9817c84319e6.3a3f575d_2d3c_4399_a159_9cfabfb29282.d851e5bd_1766_4aae_a571_d5070bcc3493",
            "47f9140d_38d8_4391_9aa1_08973d4b6370.095e2246_dd98_4fbe_aabb_bb72caa924ff",
            "1ca047e2_b601_4ba7_a579_abcfa7a45ea7.20fe1042_be9d_4550_abc9_1c9947a57f72",
            "1ca047e2_b601_4ba7_a579_abcfa7a45ea7.7db45373_727c_4019_8f6d_c50cd077dfdb",
            "1ca047e2_b601_4ba7_a579_abcfa7a45ea7.877e414e_8296_4a67_bd68_daaeb82fac75",
            "1ca047e2_b601_4ba7_a579_abcfa7a45ea7.c65464e9_74cb_4bc9_ae46_2e7dcefd7182",
            "2b6bd5c2_ff3b_4c3f_9403_598e2e15e289",
            "53a9a82f_a668_4334_a74d_f0b200ee11a5",
            "b1b7a5e9_d43a_4060_b822_6dd70adf9331",
            "c0f9af3f_8754_4118_97cc_6da6f4484353",
            "e4676dec_a89f_4314_ade5_e6285ab800ef",
            "febc01f1_d709_4c5d_a5c0_d1c3545c73af",
            "1af5f6f9_15b1_4a62_962e_0ede16373202.22ce6a56_6e92_414e_b70d_0deb2be5cc54",
            "1af5f6f9_15b1_4a62_962e_0ede16373202.9032ecc7_e32a_44de_859c_bf8b64c6ae8a",
            "1af5f6f9_15b1_4a62_962e_0ede16373202.a8dcfdcf_d834_43f2_8db6_ebc13f3c0049",
            "1af5f6f9_15b1_4a62_962e_0ede16373202.de95bdb2_ea14_4a4f_9b67_1492db07096c",
            "1af5f6f9_15b1_4a62_962e_0ede16373202.f1ecaee4_72c9_4199_b357_9a40f2c3a9e2",
            "1af5f6f9_15b1_4a62_962e_0ede16373202.f3fd55d7_811c_4eb1_8a5e_fc7921ad1f6d",
            "22ce6a56_6e92_414e_b70d_0deb2be5cc54",
            "6b498416_1218_453d_a09e_64a2e2aebe24.22ce6a56_6e92_414e_b70d_0deb2be5cc54",
            "6b498416_1218_453d_a09e_64a2e2aebe24.9032ecc7_e32a_44de_859c_bf8b64c6ae8a",
            "6b498416_1218_453d_a09e_64a2e2aebe24.a8dcfdcf_d834_43f2_8db6_ebc13f3c0049",
            "6b498416_1218_453d_a09e_64a2e2aebe24.de95bdb2_ea14_4a4f_9b67_1492db07096c",
            "6b498416_1218_453d_a09e_64a2e2aebe24.f1ecaee4_72c9_4199_b357_9a40f2c3a9e2",
            "6b498416_1218_453d_a09e_64a2e2aebe24.f3fd55d7_811c_4eb1_8a5e_fc7921ad1f6d",
            "70d05bb1_6810_435a_bcac_8166afba0ba6.22ce6a56_6e92_414e_b70d_0deb2be5cc54",
            "70d05bb1_6810_435a_bcac_8166afba0ba6.9032ecc7_e32a_44de_859c_bf8b64c6ae8a",
            "70d05bb1_6810_435a_bcac_8166afba0ba6.a8dcfdcf_d834_43f2_8db6_ebc13f3c0049",
            "70d05bb1_6810_435a_bcac_8166afba0ba6.de95bdb2_ea14_4a4f_9b67_1492db07096c",
            "70d05bb1_6810_435a_bcac_8166afba0ba6.f1ecaee4_72c9_4199_b357_9a40f2c3a9e2",
            "70d05bb1_6810_435a_bcac_8166afba0ba6.f3fd55d7_811c_4eb1_8a5e_fc7921ad1f6d",
            "7b630b30_400a_413b_9d29_b0b98688dac5.22ce6a56_6e92_414e_b70d_0deb2be5cc54",
            "7b630b30_400a_413b_9d29_b0b98688dac5.9032ecc7_e32a_44de_859c_bf8b64c6ae8a",
            "7b630b30_400a_413b_9d29_b0b98688dac5.a8dcfdcf_d834_43f2_8db6_ebc13f3c0049",
            "7b630b30_400a_413b_9d29_b0b98688dac5.de95bdb2_ea14_4a4f_9b67_1492db07096c",
            "7b630b30_400a_413b_9d29_b0b98688dac5.f1ecaee4_72c9_4199_b357_9a40f2c3a9e2",
            "7b630b30_400a_413b_9d29_b0b98688dac5.f3fd55d7_811c_4eb1_8a5e_fc7921ad1f6d",
            "bb8bdc58_4098_4ba0_a92d_907dad26eaab.22ce6a56_6e92_414e_b70d_0deb2be5cc54",
            "bb8bdc58_4098_4ba0_a92d_907dad26eaab.9032ecc7_e32a_44de_859c_bf8b64c6ae8a",
            "bb8bdc58_4098_4ba0_a92d_907dad26eaab.a8dcfdcf_d834_43f2_8db6_ebc13f3c0049",
            "bb8bdc58_4098_4ba0_a92d_907dad26eaab.de95bdb2_ea14_4a4f_9b67_1492db07096c",
            "bb8bdc58_4098_4ba0_a92d_907dad26eaab.f1ecaee4_72c9_4199_b357_9a40f2c3a9e2",
            "bb8bdc58_4098_4ba0_a92d_907dad26eaab.f3fd55d7_811c_4eb1_8a5e_fc7921ad1f6d",
            "de95bdb2_ea14_4a4f_9b67_1492db07096c",
            "f1ecaee4_72c9_4199_b357_9a40f2c3a9e2",
            "c10f79c9_744d_40a5_a272_7cde7ca1f5a6.bb042843_86c6_4d69_9e92_ef556849911b",
            "fd5601fa_5513_4b0a_b935_9817c84319e6.c9e11464_7ee1_4e1d_91ca_48666493fe33",
            "1826c235_f993_4507_8ea5_b1c82e8c47df",
            "dd2a3659_6674_4f80_88b7_be63664ff2e3",
            "08ff7ae0_acef_4f4d_8328_2de484a6d5e1.16fbd00a_c0dc_4a90_943d_1eab1b80190f",
            "3e61e901_9d3d_44a4_80aa_22259f31bc40",
            "3abdac1c_4717_445e_8248_0143c701015a.a1b31346_34a2_497a_9c2d_cd17d5d88871",
            "8f8996ae_8dd4_4a45_bed9_7757fa6907db.2699824a_dedf_4f3a_8fcf_5e69dcc9a992",
            "a623c910_08ec_4a6f_95ff_d6c28ead53ca.0c28985d_de35_4d8f_a3ed_21d1745118e3"
           ]
          ]
         },
         "domain": {
          "x": [
           0,
           1
          ],
          "y": [
           0,
           0.3
          ]
         },
         "header": {
          "align": "left",
          "font": {
           "size": 10
          },
          "values": [
           "Brick Class",
           "Entity ID"
          ]
         },
         "type": "table"
        }
       ],
       "layout": {
        "annotations": [
         {
          "font": {
           "size": 16
          },
          "showarrow": false,
          "text": "Proportion of Entities",
          "x": 0.225,
          "xanchor": "center",
          "xref": "paper",
          "y": 1,
          "yanchor": "bottom",
          "yref": "paper"
         },
         {
          "font": {
           "size": 16
          },
          "showarrow": false,
          "text": "Unrecognised by Class",
          "x": 0.775,
          "xanchor": "center",
          "xref": "paper",
          "y": 1,
          "yanchor": "bottom",
          "yref": "paper"
         },
         {
          "font": {
           "size": 16
          },
          "showarrow": false,
          "text": "Unrecognised Entities",
          "x": 0.5,
          "xanchor": "center",
          "xref": "paper",
          "y": 0.6499999999999999,
          "yanchor": "bottom",
          "yref": "paper"
         },
         {
          "font": {
           "size": 16
          },
          "showarrow": false,
          "text": "Recognised Entities",
          "x": 0.5,
          "xanchor": "center",
          "xref": "paper",
          "y": 0.3,
          "yanchor": "bottom",
          "yref": "paper"
         }
        ],
        "height": 1200,
        "showlegend": false,
        "template": {
         "data": {
          "bar": [
           {
            "error_x": {
             "color": "#2a3f5f"
            },
            "error_y": {
             "color": "#2a3f5f"
            },
            "marker": {
             "line": {
              "color": "#E5ECF6",
              "width": 0.5
             },
             "pattern": {
              "fillmode": "overlay",
              "size": 10,
              "solidity": 0.2
             }
            },
            "type": "bar"
           }
          ],
          "barpolar": [
           {
            "marker": {
             "line": {
              "color": "#E5ECF6",
              "width": 0.5
             },
             "pattern": {
              "fillmode": "overlay",
              "size": 10,
              "solidity": 0.2
             }
            },
            "type": "barpolar"
           }
          ],
          "carpet": [
           {
            "aaxis": {
             "endlinecolor": "#2a3f5f",
             "gridcolor": "white",
             "linecolor": "white",
             "minorgridcolor": "white",
             "startlinecolor": "#2a3f5f"
            },
            "baxis": {
             "endlinecolor": "#2a3f5f",
             "gridcolor": "white",
             "linecolor": "white",
             "minorgridcolor": "white",
             "startlinecolor": "#2a3f5f"
            },
            "type": "carpet"
           }
          ],
          "choropleth": [
           {
            "colorbar": {
             "outlinewidth": 0,
             "ticks": ""
            },
            "type": "choropleth"
           }
          ],
          "contour": [
           {
            "colorbar": {
             "outlinewidth": 0,
             "ticks": ""
            },
            "colorscale": [
             [
              0,
              "#0d0887"
             ],
             [
              0.1111111111111111,
              "#46039f"
             ],
             [
              0.2222222222222222,
              "#7201a8"
             ],
             [
              0.3333333333333333,
              "#9c179e"
             ],
             [
              0.4444444444444444,
              "#bd3786"
             ],
             [
              0.5555555555555556,
              "#d8576b"
             ],
             [
              0.6666666666666666,
              "#ed7953"
             ],
             [
              0.7777777777777778,
              "#fb9f3a"
             ],
             [
              0.8888888888888888,
              "#fdca26"
             ],
             [
              1,
              "#f0f921"
             ]
            ],
            "type": "contour"
           }
          ],
          "contourcarpet": [
           {
            "colorbar": {
             "outlinewidth": 0,
             "ticks": ""
            },
            "type": "contourcarpet"
           }
          ],
          "heatmap": [
           {
            "colorbar": {
             "outlinewidth": 0,
             "ticks": ""
            },
            "colorscale": [
             [
              0,
              "#0d0887"
             ],
             [
              0.1111111111111111,
              "#46039f"
             ],
             [
              0.2222222222222222,
              "#7201a8"
             ],
             [
              0.3333333333333333,
              "#9c179e"
             ],
             [
              0.4444444444444444,
              "#bd3786"
             ],
             [
              0.5555555555555556,
              "#d8576b"
             ],
             [
              0.6666666666666666,
              "#ed7953"
             ],
             [
              0.7777777777777778,
              "#fb9f3a"
             ],
             [
              0.8888888888888888,
              "#fdca26"
             ],
             [
              1,
              "#f0f921"
             ]
            ],
            "type": "heatmap"
           }
          ],
          "heatmapgl": [
           {
            "colorbar": {
             "outlinewidth": 0,
             "ticks": ""
            },
            "colorscale": [
             [
              0,
              "#0d0887"
             ],
             [
              0.1111111111111111,
              "#46039f"
             ],
             [
              0.2222222222222222,
              "#7201a8"
             ],
             [
              0.3333333333333333,
              "#9c179e"
             ],
             [
              0.4444444444444444,
              "#bd3786"
             ],
             [
              0.5555555555555556,
              "#d8576b"
             ],
             [
              0.6666666666666666,
              "#ed7953"
             ],
             [
              0.7777777777777778,
              "#fb9f3a"
             ],
             [
              0.8888888888888888,
              "#fdca26"
             ],
             [
              1,
              "#f0f921"
             ]
            ],
            "type": "heatmapgl"
           }
          ],
          "histogram": [
           {
            "marker": {
             "pattern": {
              "fillmode": "overlay",
              "size": 10,
              "solidity": 0.2
             }
            },
            "type": "histogram"
           }
          ],
          "histogram2d": [
           {
            "colorbar": {
             "outlinewidth": 0,
             "ticks": ""
            },
            "colorscale": [
             [
              0,
              "#0d0887"
             ],
             [
              0.1111111111111111,
              "#46039f"
             ],
             [
              0.2222222222222222,
              "#7201a8"
             ],
             [
              0.3333333333333333,
              "#9c179e"
             ],
             [
              0.4444444444444444,
              "#bd3786"
             ],
             [
              0.5555555555555556,
              "#d8576b"
             ],
             [
              0.6666666666666666,
              "#ed7953"
             ],
             [
              0.7777777777777778,
              "#fb9f3a"
             ],
             [
              0.8888888888888888,
              "#fdca26"
             ],
             [
              1,
              "#f0f921"
             ]
            ],
            "type": "histogram2d"
           }
          ],
          "histogram2dcontour": [
           {
            "colorbar": {
             "outlinewidth": 0,
             "ticks": ""
            },
            "colorscale": [
             [
              0,
              "#0d0887"
             ],
             [
              0.1111111111111111,
              "#46039f"
             ],
             [
              0.2222222222222222,
              "#7201a8"
             ],
             [
              0.3333333333333333,
              "#9c179e"
             ],
             [
              0.4444444444444444,
              "#bd3786"
             ],
             [
              0.5555555555555556,
              "#d8576b"
             ],
             [
              0.6666666666666666,
              "#ed7953"
             ],
             [
              0.7777777777777778,
              "#fb9f3a"
             ],
             [
              0.8888888888888888,
              "#fdca26"
             ],
             [
              1,
              "#f0f921"
             ]
            ],
            "type": "histogram2dcontour"
           }
          ],
          "mesh3d": [
           {
            "colorbar": {
             "outlinewidth": 0,
             "ticks": ""
            },
            "type": "mesh3d"
           }
          ],
          "parcoords": [
           {
            "line": {
             "colorbar": {
              "outlinewidth": 0,
              "ticks": ""
             }
            },
            "type": "parcoords"
           }
          ],
          "pie": [
           {
            "automargin": true,
            "type": "pie"
           }
          ],
          "scatter": [
           {
            "fillpattern": {
             "fillmode": "overlay",
             "size": 10,
             "solidity": 0.2
            },
            "type": "scatter"
           }
          ],
          "scatter3d": [
           {
            "line": {
             "colorbar": {
              "outlinewidth": 0,
              "ticks": ""
             }
            },
            "marker": {
             "colorbar": {
              "outlinewidth": 0,
              "ticks": ""
             }
            },
            "type": "scatter3d"
           }
          ],
          "scattercarpet": [
           {
            "marker": {
             "colorbar": {
              "outlinewidth": 0,
              "ticks": ""
             }
            },
            "type": "scattercarpet"
           }
          ],
          "scattergeo": [
           {
            "marker": {
             "colorbar": {
              "outlinewidth": 0,
              "ticks": ""
             }
            },
            "type": "scattergeo"
           }
          ],
          "scattergl": [
           {
            "marker": {
             "colorbar": {
              "outlinewidth": 0,
              "ticks": ""
             }
            },
            "type": "scattergl"
           }
          ],
          "scattermapbox": [
           {
            "marker": {
             "colorbar": {
              "outlinewidth": 0,
              "ticks": ""
             }
            },
            "type": "scattermapbox"
           }
          ],
          "scatterpolar": [
           {
            "marker": {
             "colorbar": {
              "outlinewidth": 0,
              "ticks": ""
             }
            },
            "type": "scatterpolar"
           }
          ],
          "scatterpolargl": [
           {
            "marker": {
             "colorbar": {
              "outlinewidth": 0,
              "ticks": ""
             }
            },
            "type": "scatterpolargl"
           }
          ],
          "scatterternary": [
           {
            "marker": {
             "colorbar": {
              "outlinewidth": 0,
              "ticks": ""
             }
            },
            "type": "scatterternary"
           }
          ],
          "surface": [
           {
            "colorbar": {
             "outlinewidth": 0,
             "ticks": ""
            },
            "colorscale": [
             [
              0,
              "#0d0887"
             ],
             [
              0.1111111111111111,
              "#46039f"
             ],
             [
              0.2222222222222222,
              "#7201a8"
             ],
             [
              0.3333333333333333,
              "#9c179e"
             ],
             [
              0.4444444444444444,
              "#bd3786"
             ],
             [
              0.5555555555555556,
              "#d8576b"
             ],
             [
              0.6666666666666666,
              "#ed7953"
             ],
             [
              0.7777777777777778,
              "#fb9f3a"
             ],
             [
              0.8888888888888888,
              "#fdca26"
             ],
             [
              1,
              "#f0f921"
             ]
            ],
            "type": "surface"
           }
          ],
          "table": [
           {
            "cells": {
             "fill": {
              "color": "#EBF0F8"
             },
             "line": {
              "color": "white"
             }
            },
            "header": {
             "fill": {
              "color": "#C8D4E3"
             },
             "line": {
              "color": "white"
             }
            },
            "type": "table"
           }
          ]
         },
         "layout": {
          "annotationdefaults": {
           "arrowcolor": "#2a3f5f",
           "arrowhead": 0,
           "arrowwidth": 1
          },
          "autotypenumbers": "strict",
          "coloraxis": {
           "colorbar": {
            "outlinewidth": 0,
            "ticks": ""
           }
          },
          "colorscale": {
           "diverging": [
            [
             0,
             "#8e0152"
            ],
            [
             0.1,
             "#c51b7d"
            ],
            [
             0.2,
             "#de77ae"
            ],
            [
             0.3,
             "#f1b6da"
            ],
            [
             0.4,
             "#fde0ef"
            ],
            [
             0.5,
             "#f7f7f7"
            ],
            [
             0.6,
             "#e6f5d0"
            ],
            [
             0.7,
             "#b8e186"
            ],
            [
             0.8,
             "#7fbc41"
            ],
            [
             0.9,
             "#4d9221"
            ],
            [
             1,
             "#276419"
            ]
           ],
           "sequential": [
            [
             0,
             "#0d0887"
            ],
            [
             0.1111111111111111,
             "#46039f"
            ],
            [
             0.2222222222222222,
             "#7201a8"
            ],
            [
             0.3333333333333333,
             "#9c179e"
            ],
            [
             0.4444444444444444,
             "#bd3786"
            ],
            [
             0.5555555555555556,
             "#d8576b"
            ],
            [
             0.6666666666666666,
             "#ed7953"
            ],
            [
             0.7777777777777778,
             "#fb9f3a"
            ],
            [
             0.8888888888888888,
             "#fdca26"
            ],
            [
             1,
             "#f0f921"
            ]
           ],
           "sequentialminus": [
            [
             0,
             "#0d0887"
            ],
            [
             0.1111111111111111,
             "#46039f"
            ],
            [
             0.2222222222222222,
             "#7201a8"
            ],
            [
             0.3333333333333333,
             "#9c179e"
            ],
            [
             0.4444444444444444,
             "#bd3786"
            ],
            [
             0.5555555555555556,
             "#d8576b"
            ],
            [
             0.6666666666666666,
             "#ed7953"
            ],
            [
             0.7777777777777778,
             "#fb9f3a"
            ],
            [
             0.8888888888888888,
             "#fdca26"
            ],
            [
             1,
             "#f0f921"
            ]
           ]
          },
          "colorway": [
           "#636efa",
           "#EF553B",
           "#00cc96",
           "#ab63fa",
           "#FFA15A",
           "#19d3f3",
           "#FF6692",
           "#B6E880",
           "#FF97FF",
           "#FECB52"
          ],
          "font": {
           "color": "#2a3f5f"
          },
          "geo": {
           "bgcolor": "white",
           "lakecolor": "white",
           "landcolor": "#E5ECF6",
           "showlakes": true,
           "showland": true,
           "subunitcolor": "white"
          },
          "hoverlabel": {
           "align": "left"
          },
          "hovermode": "closest",
          "mapbox": {
           "style": "light"
          },
          "paper_bgcolor": "white",
          "plot_bgcolor": "#E5ECF6",
          "polar": {
           "angularaxis": {
            "gridcolor": "white",
            "linecolor": "white",
            "ticks": ""
           },
           "bgcolor": "#E5ECF6",
           "radialaxis": {
            "gridcolor": "white",
            "linecolor": "white",
            "ticks": ""
           }
          },
          "scene": {
           "xaxis": {
            "backgroundcolor": "#E5ECF6",
            "gridcolor": "white",
            "gridwidth": 2,
            "linecolor": "white",
            "showbackground": true,
            "ticks": "",
            "zerolinecolor": "white"
           },
           "yaxis": {
            "backgroundcolor": "#E5ECF6",
            "gridcolor": "white",
            "gridwidth": 2,
            "linecolor": "white",
            "showbackground": true,
            "ticks": "",
            "zerolinecolor": "white"
           },
           "zaxis": {
            "backgroundcolor": "#E5ECF6",
            "gridcolor": "white",
            "gridwidth": 2,
            "linecolor": "white",
            "showbackground": true,
            "ticks": "",
            "zerolinecolor": "white"
           }
          },
          "shapedefaults": {
           "line": {
            "color": "#2a3f5f"
           }
          },
          "ternary": {
           "aaxis": {
            "gridcolor": "white",
            "linecolor": "white",
            "ticks": ""
           },
           "baxis": {
            "gridcolor": "white",
            "linecolor": "white",
            "ticks": ""
           },
           "bgcolor": "#E5ECF6",
           "caxis": {
            "gridcolor": "white",
            "linecolor": "white",
            "ticks": ""
           }
          },
          "title": {
           "x": 0.05
          },
          "xaxis": {
           "automargin": true,
           "gridcolor": "white",
           "linecolor": "white",
           "ticks": "",
           "title": {
            "standoff": 15
           },
           "zerolinecolor": "white",
           "zerolinewidth": 2
          },
          "yaxis": {
           "automargin": true,
           "gridcolor": "white",
           "linecolor": "white",
           "ticks": "",
           "title": {
            "standoff": 15
           },
           "zerolinecolor": "white",
           "zerolinewidth": 2
          }
         }
        },
        "title": {
         "text": "Brick Entities in Building Model Recognised by Brick Schema",
         "x": 0.5
        }
       }
      }
     },
     "metadata": {},
     "output_type": "display_data"
    }
   ],
   "source": [
    "fig = make_subplots(\n",
    "    rows=3, cols=2,\n",
    "    # shared_xaxes=True,\n",
    "    # vertical_spacing=0.1,\n",
    "    # vertical_spacing=0.03,\n",
    "    vertical_spacing=0.05,\n",
    "    subplot_titles = ['Proportion of Entities', 'Unrecognised by Class', 'Unrecognised Entities', 'Recognised Entities'],\n",
    "    specs=[[{\"type\": \"pie\"}, {\"type\": \"pie\"}],\n",
    "           [{\"type\": \"table\", 'colspan': 2}, None],\n",
    "           [{\"type\": \"table\", 'colspan': 2}, None]]\n",
    ")\n",
    "\n",
    "labels = to_plot['class_in_provided_brick'].value_counts().index\n",
    "values = to_plot['class_in_provided_brick'].value_counts().values\n",
    "\n",
    "fig.add_trace(\n",
    "    go.Pie(#to_plot, \n",
    "        #    values='brick_class', \n",
    "            labels=labels,\n",
    "              values=values,\n",
    "              textposition='inside', \n",
    "              textinfo='percent+label',\n",
    "              name=\"\",\n",
    "        #    names='class_in_provided_brick',\n",
    "        #    title='Proportion of Brick Entities Recognised by Provided Brick Schema',\n",
    "        #    labels={'class_in_provided_brick': 'Class', 'brick_class':'Number of Entities'}\n",
    "    ),\n",
    "    row=1, col=1\n",
    ")\n",
    "\n",
    "entity_in_provided_brick_true = entity_in_provided_brick[entity_in_provided_brick['class_in_provided_brick'] == True]\n",
    "entity_in_provided_brick_false = entity_in_provided_brick[entity_in_provided_brick['class_in_provided_brick'] == False]\n",
    "\n",
    "labels = entity_in_provided_brick[entity_in_provided_brick['class_in_provided_brick'] == False]['brick_class'].value_counts().index\n",
    "values = entity_in_provided_brick[entity_in_provided_brick['class_in_provided_brick'] == False]['brick_class'].value_counts().values\n",
    "\n",
    "fig.add_trace(\n",
    "    go.Pie(#to_plot, \n",
    "        #    values='brick_class', \n",
    "            labels=labels,\n",
    "              values=values,\n",
    "              textposition='inside', \n",
    "              textinfo='percent+label',\n",
    "            #   textinfo='value+label',\n",
    "              name=\"\",\n",
    "        #    names='class_in_provided_brick',\n",
    "        #    title='Proportion of Brick Entities Recognised by Provided Brick Schema',\n",
    "        #    labels={'class_in_provided_brick': 'Class', 'brick_class':'Number of Entities'}\n",
    "    ),\n",
    "    row=1, col=2\n",
    ")\n",
    "\n",
    "fig.add_trace(\n",
    "    go.Table(\n",
    "        header=dict(\n",
    "            values=[\"Brick Class\", \"Entity ID\"],\n",
    "            font=dict(size=10),\n",
    "            align=\"left\"\n",
    "        ),\n",
    "        cells=dict(\n",
    "            # values=[entity_in_provided_brick[k].tolist() for k in entity_in_provided_brick.columns[1:]],\n",
    "            values=[entity_in_provided_brick_false[k].tolist() for k in entity_in_provided_brick_false.columns[:2]],\n",
    "            align = \"left\")\n",
    "    ),\n",
    "    row=2, col=1,\n",
    ")\n",
    "\n",
    "fig.add_trace(\n",
    "    go.Table(\n",
    "        header=dict(\n",
    "            values=[\"Brick Class\", \"Entity ID\"],\n",
    "            font=dict(size=10),\n",
    "            align=\"left\"\n",
    "        ),\n",
    "        cells=dict(\n",
    "            # values=[entity_in_provided_brick[k].tolist() for k in entity_in_provided_brick.columns[1:]],\n",
    "            values=[entity_in_provided_brick_true[k].tolist() for k in entity_in_provided_brick_true.columns[:2]],\n",
    "            align = \"left\")\n",
    "    ),\n",
    "    row=3, col=1\n",
    ")\n",
    "\n",
    "fig.update_layout(\n",
    "    height=1200,\n",
    "    showlegend=False,\n",
    "    title_text=\"Brick Entities in Building Model Recognised by Brick Schema\",\n",
    "    title_x=0.5,\n",
    ")\n",
    "\n",
    "fig.show()"
   ]
  },
  {
   "cell_type": "code",
   "execution_count": 785,
   "metadata": {},
   "outputs": [],
   "source": [
    "entity_in_provided_brick_false.to_csv('01_unrecognised_entities.csv', index=False)"
   ]
  },
  {
   "cell_type": "code",
   "execution_count": 786,
   "metadata": {},
   "outputs": [],
   "source": [
    "fig.write_html(\"01_brick_entities_recognised_by_schema.html\")"
   ]
  },
  {
   "cell_type": "markdown",
   "metadata": {},
   "source": [
    "## Data Sources in Building Model with Associated Units"
   ]
  },
  {
   "cell_type": "code",
   "execution_count": 787,
   "metadata": {},
   "outputs": [
    {
     "data": {
      "text/html": [
       "<div>\n",
       "<style scoped>\n",
       "    .dataframe tbody tr th:only-of-type {\n",
       "        vertical-align: middle;\n",
       "    }\n",
       "\n",
       "    .dataframe tbody tr th {\n",
       "        vertical-align: top;\n",
       "    }\n",
       "\n",
       "    .dataframe thead th {\n",
       "        text-align: right;\n",
       "    }\n",
       "</style>\n",
       "<table border=\"1\" class=\"dataframe\">\n",
       "  <thead>\n",
       "    <tr style=\"text-align: right;\">\n",
       "      <th></th>\n",
       "      <th>brick_class</th>\n",
       "      <th>stream_id</th>\n",
       "      <th>unit</th>\n",
       "      <th>unit_is_named</th>\n",
       "      <th>has_unit</th>\n",
       "    </tr>\n",
       "  </thead>\n",
       "  <tbody>\n",
       "    <tr>\n",
       "      <th>491</th>\n",
       "      <td>Air_Temperature_Sensor</td>\n",
       "      <td>021f5ffa_16bc_4efc_bedd_5eb04d8b3837</td>\n",
       "      <td>NaN</td>\n",
       "      <td>None</td>\n",
       "      <td>No units</td>\n",
       "    </tr>\n",
       "    <tr>\n",
       "      <th>461</th>\n",
       "      <td>Air_Temperature_Sensor</td>\n",
       "      <td>03f84d72_615b_4b71_840c_41c2a5015d76</td>\n",
       "      <td>NaN</td>\n",
       "      <td>None</td>\n",
       "      <td>No units</td>\n",
       "    </tr>\n",
       "    <tr>\n",
       "      <th>472</th>\n",
       "      <td>Air_Temperature_Sensor</td>\n",
       "      <td>09d686a2_134c_4904_b4c4_8ce3ce582169</td>\n",
       "      <td>NaN</td>\n",
       "      <td>None</td>\n",
       "      <td>No units</td>\n",
       "    </tr>\n",
       "    <tr>\n",
       "      <th>492</th>\n",
       "      <td>Air_Temperature_Sensor</td>\n",
       "      <td>11328598_25fc_4808_ba70_a4a48ed1d6e4</td>\n",
       "      <td>NaN</td>\n",
       "      <td>None</td>\n",
       "      <td>No units</td>\n",
       "    </tr>\n",
       "    <tr>\n",
       "      <th>475</th>\n",
       "      <td>Air_Temperature_Sensor</td>\n",
       "      <td>12fd9d33_d6a4_46c3_b647_b58a569a2db5</td>\n",
       "      <td>NaN</td>\n",
       "      <td>None</td>\n",
       "      <td>No units</td>\n",
       "    </tr>\n",
       "  </tbody>\n",
       "</table>\n",
       "</div>"
      ],
      "text/plain": [
       "                brick_class                             stream_id unit  \\\n",
       "491  Air_Temperature_Sensor  021f5ffa_16bc_4efc_bedd_5eb04d8b3837  NaN   \n",
       "461  Air_Temperature_Sensor  03f84d72_615b_4b71_840c_41c2a5015d76  NaN   \n",
       "472  Air_Temperature_Sensor  09d686a2_134c_4904_b4c4_8ce3ce582169  NaN   \n",
       "492  Air_Temperature_Sensor  11328598_25fc_4808_ba70_a4a48ed1d6e4  NaN   \n",
       "475  Air_Temperature_Sensor  12fd9d33_d6a4_46c3_b647_b58a569a2db5  NaN   \n",
       "\n",
       "    unit_is_named  has_unit  \n",
       "491          None  No units  \n",
       "461          None  No units  \n",
       "472          None  No units  \n",
       "492          None  No units  \n",
       "475          None  No units  "
      ]
     },
     "execution_count": 787,
     "metadata": {},
     "output_type": "execute_result"
    }
   ],
   "source": [
    "stream_with_units = df[['brick_class', 'stream_id', 'unit', 'unit_is_named']].copy()\n",
    "stream_with_units.dropna(subset=['stream_id'], inplace=True)\n",
    "stream_with_units.sort_values(by=['brick_class', 'stream_id'], inplace=True)\n",
    "# entity_in_provided_brick.sort_values(by=['class_in_provided_brick', 'brick_class', 'entity'], inplace=True)\n",
    "stream_with_units['has_unit'] = stream_with_units['unit'].apply(lambda x: 'No units' if pd.isna(x) else 'Units')\n",
    "stream_with_units.head()"
   ]
  },
  {
   "cell_type": "code",
   "execution_count": 788,
   "metadata": {},
   "outputs": [
    {
     "data": {
      "text/html": [
       "<div>\n",
       "<style scoped>\n",
       "    .dataframe tbody tr th:only-of-type {\n",
       "        vertical-align: middle;\n",
       "    }\n",
       "\n",
       "    .dataframe tbody tr th {\n",
       "        vertical-align: top;\n",
       "    }\n",
       "\n",
       "    .dataframe thead th {\n",
       "        text-align: right;\n",
       "    }\n",
       "</style>\n",
       "<table border=\"1\" class=\"dataframe\">\n",
       "  <thead>\n",
       "    <tr style=\"text-align: right;\">\n",
       "      <th></th>\n",
       "      <th>brick_class</th>\n",
       "      <th>stream_id</th>\n",
       "      <th>unit</th>\n",
       "      <th>unit_is_named</th>\n",
       "      <th>has_unit</th>\n",
       "    </tr>\n",
       "  </thead>\n",
       "  <tbody>\n",
       "    <tr>\n",
       "      <th>491</th>\n",
       "      <td>Air_Temperature_Sensor</td>\n",
       "      <td>021f5ffa_16bc_4efc_bedd_5eb04d8b3837</td>\n",
       "      <td>NaN</td>\n",
       "      <td>None</td>\n",
       "      <td>No units</td>\n",
       "    </tr>\n",
       "    <tr>\n",
       "      <th>461</th>\n",
       "      <td>Air_Temperature_Sensor</td>\n",
       "      <td>03f84d72_615b_4b71_840c_41c2a5015d76</td>\n",
       "      <td>NaN</td>\n",
       "      <td>None</td>\n",
       "      <td>No units</td>\n",
       "    </tr>\n",
       "    <tr>\n",
       "      <th>472</th>\n",
       "      <td>Air_Temperature_Sensor</td>\n",
       "      <td>09d686a2_134c_4904_b4c4_8ce3ce582169</td>\n",
       "      <td>NaN</td>\n",
       "      <td>None</td>\n",
       "      <td>No units</td>\n",
       "    </tr>\n",
       "    <tr>\n",
       "      <th>492</th>\n",
       "      <td>Air_Temperature_Sensor</td>\n",
       "      <td>11328598_25fc_4808_ba70_a4a48ed1d6e4</td>\n",
       "      <td>NaN</td>\n",
       "      <td>None</td>\n",
       "      <td>No units</td>\n",
       "    </tr>\n",
       "    <tr>\n",
       "      <th>475</th>\n",
       "      <td>Air_Temperature_Sensor</td>\n",
       "      <td>12fd9d33_d6a4_46c3_b647_b58a569a2db5</td>\n",
       "      <td>NaN</td>\n",
       "      <td>None</td>\n",
       "      <td>No units</td>\n",
       "    </tr>\n",
       "  </tbody>\n",
       "</table>\n",
       "</div>"
      ],
      "text/plain": [
       "                brick_class                             stream_id unit  \\\n",
       "491  Air_Temperature_Sensor  021f5ffa_16bc_4efc_bedd_5eb04d8b3837  NaN   \n",
       "461  Air_Temperature_Sensor  03f84d72_615b_4b71_840c_41c2a5015d76  NaN   \n",
       "472  Air_Temperature_Sensor  09d686a2_134c_4904_b4c4_8ce3ce582169  NaN   \n",
       "492  Air_Temperature_Sensor  11328598_25fc_4808_ba70_a4a48ed1d6e4  NaN   \n",
       "475  Air_Temperature_Sensor  12fd9d33_d6a4_46c3_b647_b58a569a2db5  NaN   \n",
       "\n",
       "    unit_is_named  has_unit  \n",
       "491          None  No units  \n",
       "461          None  No units  \n",
       "472          None  No units  \n",
       "492          None  No units  \n",
       "475          None  No units  "
      ]
     },
     "execution_count": 788,
     "metadata": {},
     "output_type": "execute_result"
    }
   ],
   "source": [
    "streams_without_units = stream_with_units[pd.isna(stream_with_units['unit'])].copy()\n",
    "streams_without_units.sort_values(by=['brick_class', 'stream_id'], inplace=True)\n",
    "streams_without_units.head()"
   ]
  },
  {
   "cell_type": "code",
   "execution_count": 789,
   "metadata": {},
   "outputs": [
    {
     "name": "stdout",
     "output_type": "stream",
     "text": [
      "Index(['No units', 'Units'], dtype='object', name='has_unit')\n",
      "[730 121]\n"
     ]
    }
   ],
   "source": [
    "number_with_units_labels = stream_with_units['has_unit'].value_counts().index\n",
    "number_with_units_values = stream_with_units['has_unit'].value_counts().values\n",
    "print(number_with_units_labels)\n",
    "print(number_with_units_values)"
   ]
  },
  {
   "cell_type": "code",
   "execution_count": 790,
   "metadata": {},
   "outputs": [
    {
     "data": {
      "text/html": [
       "<div>\n",
       "<style scoped>\n",
       "    .dataframe tbody tr th:only-of-type {\n",
       "        vertical-align: middle;\n",
       "    }\n",
       "\n",
       "    .dataframe tbody tr th {\n",
       "        vertical-align: top;\n",
       "    }\n",
       "\n",
       "    .dataframe thead th {\n",
       "        text-align: right;\n",
       "    }\n",
       "</style>\n",
       "<table border=\"1\" class=\"dataframe\">\n",
       "  <thead>\n",
       "    <tr style=\"text-align: right;\">\n",
       "      <th></th>\n",
       "      <th>brick_class</th>\n",
       "      <th>stream_id</th>\n",
       "      <th>unit</th>\n",
       "      <th>unit_is_named</th>\n",
       "      <th>has_unit</th>\n",
       "      <th>has_named_unit</th>\n",
       "    </tr>\n",
       "  </thead>\n",
       "  <tbody>\n",
       "    <tr>\n",
       "      <th>727</th>\n",
       "      <td>Angle_Sensor</td>\n",
       "      <td>9c9c5d83_ba16_4b45_826d_071e226ebbe8</td>\n",
       "      <td>DEG</td>\n",
       "      <td>False</td>\n",
       "      <td>Units</td>\n",
       "      <td>Not machine readable</td>\n",
       "    </tr>\n",
       "    <tr>\n",
       "      <th>725</th>\n",
       "      <td>Angle_Sensor</td>\n",
       "      <td>b52d78be_742a_4a1e_a6b4_498de7cca709</td>\n",
       "      <td>DEG</td>\n",
       "      <td>False</td>\n",
       "      <td>Units</td>\n",
       "      <td>Not machine readable</td>\n",
       "    </tr>\n",
       "    <tr>\n",
       "      <th>726</th>\n",
       "      <td>Angle_Sensor</td>\n",
       "      <td>d5156069_91d0_468f_bbf7_96070b4325cd</td>\n",
       "      <td>DEG</td>\n",
       "      <td>False</td>\n",
       "      <td>Units</td>\n",
       "      <td>Not machine readable</td>\n",
       "    </tr>\n",
       "    <tr>\n",
       "      <th>782</th>\n",
       "      <td>Current_Sensor</td>\n",
       "      <td>02e608c1_09fe_48be_91dc_1419d6bc1fa7</td>\n",
       "      <td>A</td>\n",
       "      <td>False</td>\n",
       "      <td>Units</td>\n",
       "      <td>Not machine readable</td>\n",
       "    </tr>\n",
       "    <tr>\n",
       "      <th>783</th>\n",
       "      <td>Current_Sensor</td>\n",
       "      <td>08b1cc70_e437_43e2_b961_9eb2e1e7cf28</td>\n",
       "      <td>A</td>\n",
       "      <td>False</td>\n",
       "      <td>Units</td>\n",
       "      <td>Not machine readable</td>\n",
       "    </tr>\n",
       "  </tbody>\n",
       "</table>\n",
       "</div>"
      ],
      "text/plain": [
       "        brick_class                             stream_id unit unit_is_named  \\\n",
       "727    Angle_Sensor  9c9c5d83_ba16_4b45_826d_071e226ebbe8  DEG         False   \n",
       "725    Angle_Sensor  b52d78be_742a_4a1e_a6b4_498de7cca709  DEG         False   \n",
       "726    Angle_Sensor  d5156069_91d0_468f_bbf7_96070b4325cd  DEG         False   \n",
       "782  Current_Sensor  02e608c1_09fe_48be_91dc_1419d6bc1fa7    A         False   \n",
       "783  Current_Sensor  08b1cc70_e437_43e2_b961_9eb2e1e7cf28    A         False   \n",
       "\n",
       "    has_unit        has_named_unit  \n",
       "727    Units  Not machine readable  \n",
       "725    Units  Not machine readable  \n",
       "726    Units  Not machine readable  \n",
       "782    Units  Not machine readable  \n",
       "783    Units  Not machine readable  "
      ]
     },
     "execution_count": 790,
     "metadata": {},
     "output_type": "execute_result"
    }
   ],
   "source": [
    "stream_with_named_units = stream_with_units.dropna(subset=['unit']).copy()\n",
    "stream_with_named_units['has_named_unit'] = stream_with_units['unit_is_named'].apply(lambda x: 'Machine readable' if x else 'Not machine readable')\n",
    "stream_with_named_units.head()"
   ]
  },
  {
   "cell_type": "code",
   "execution_count": 791,
   "metadata": {},
   "outputs": [
    {
     "data": {
      "text/html": [
       "<div>\n",
       "<style scoped>\n",
       "    .dataframe tbody tr th:only-of-type {\n",
       "        vertical-align: middle;\n",
       "    }\n",
       "\n",
       "    .dataframe tbody tr th {\n",
       "        vertical-align: top;\n",
       "    }\n",
       "\n",
       "    .dataframe thead th {\n",
       "        text-align: right;\n",
       "    }\n",
       "</style>\n",
       "<table border=\"1\" class=\"dataframe\">\n",
       "  <thead>\n",
       "    <tr style=\"text-align: right;\">\n",
       "      <th></th>\n",
       "      <th>brick_class</th>\n",
       "      <th>stream_id</th>\n",
       "      <th>unit</th>\n",
       "      <th>unit_is_named</th>\n",
       "      <th>has_unit</th>\n",
       "    </tr>\n",
       "  </thead>\n",
       "  <tbody>\n",
       "    <tr>\n",
       "      <th>727</th>\n",
       "      <td>Angle_Sensor</td>\n",
       "      <td>9c9c5d83_ba16_4b45_826d_071e226ebbe8</td>\n",
       "      <td>DEG</td>\n",
       "      <td>False</td>\n",
       "      <td>Units</td>\n",
       "    </tr>\n",
       "    <tr>\n",
       "      <th>725</th>\n",
       "      <td>Angle_Sensor</td>\n",
       "      <td>b52d78be_742a_4a1e_a6b4_498de7cca709</td>\n",
       "      <td>DEG</td>\n",
       "      <td>False</td>\n",
       "      <td>Units</td>\n",
       "    </tr>\n",
       "    <tr>\n",
       "      <th>726</th>\n",
       "      <td>Angle_Sensor</td>\n",
       "      <td>d5156069_91d0_468f_bbf7_96070b4325cd</td>\n",
       "      <td>DEG</td>\n",
       "      <td>False</td>\n",
       "      <td>Units</td>\n",
       "    </tr>\n",
       "    <tr>\n",
       "      <th>782</th>\n",
       "      <td>Current_Sensor</td>\n",
       "      <td>02e608c1_09fe_48be_91dc_1419d6bc1fa7</td>\n",
       "      <td>A</td>\n",
       "      <td>False</td>\n",
       "      <td>Units</td>\n",
       "    </tr>\n",
       "    <tr>\n",
       "      <th>783</th>\n",
       "      <td>Current_Sensor</td>\n",
       "      <td>08b1cc70_e437_43e2_b961_9eb2e1e7cf28</td>\n",
       "      <td>A</td>\n",
       "      <td>False</td>\n",
       "      <td>Units</td>\n",
       "    </tr>\n",
       "  </tbody>\n",
       "</table>\n",
       "</div>"
      ],
      "text/plain": [
       "        brick_class                             stream_id unit unit_is_named  \\\n",
       "727    Angle_Sensor  9c9c5d83_ba16_4b45_826d_071e226ebbe8  DEG         False   \n",
       "725    Angle_Sensor  b52d78be_742a_4a1e_a6b4_498de7cca709  DEG         False   \n",
       "726    Angle_Sensor  d5156069_91d0_468f_bbf7_96070b4325cd  DEG         False   \n",
       "782  Current_Sensor  02e608c1_09fe_48be_91dc_1419d6bc1fa7    A         False   \n",
       "783  Current_Sensor  08b1cc70_e437_43e2_b961_9eb2e1e7cf28    A         False   \n",
       "\n",
       "    has_unit  \n",
       "727    Units  \n",
       "725    Units  \n",
       "726    Units  \n",
       "782    Units  \n",
       "783    Units  "
      ]
     },
     "execution_count": 791,
     "metadata": {},
     "output_type": "execute_result"
    }
   ],
   "source": [
    "streams_with_anonymous_units = stream_with_units[stream_with_units['unit_is_named'] == False]\n",
    "streams_with_anonymous_units.head()"
   ]
  },
  {
   "cell_type": "code",
   "execution_count": 792,
   "metadata": {},
   "outputs": [
    {
     "name": "stdout",
     "output_type": "stream",
     "text": [
      "Index(['Not machine readable'], dtype='object', name='has_named_unit')\n",
      "[121]\n"
     ]
    }
   ],
   "source": [
    "number_with_named_units_labels = stream_with_named_units['has_named_unit'].value_counts().index\n",
    "number_with_named_units_values = stream_with_named_units['has_named_unit'].value_counts().values\n",
    "print(number_with_named_units_labels)\n",
    "print(number_with_named_units_values)"
   ]
  },
  {
   "cell_type": "code",
   "execution_count": 793,
   "metadata": {},
   "outputs": [
    {
     "data": {
      "application/vnd.plotly.v1+json": {
       "config": {
        "plotlyServerURL": "https://plot.ly"
       },
       "data": [
        {
         "domain": {
          "x": [
           0,
           0.45
          ],
          "y": [
           0.7,
           1
          ]
         },
         "labels": [
          "No units",
          "Units"
         ],
         "name": "",
         "textinfo": "percent+label",
         "textposition": "inside",
         "type": "pie",
         "values": [
          730,
          121
         ]
        },
        {
         "domain": {
          "x": [
           0.55,
           1
          ],
          "y": [
           0.7,
           1
          ]
         },
         "labels": [
          "Not machine readable"
         ],
         "name": "",
         "textinfo": "percent+label",
         "textposition": "inside",
         "type": "pie",
         "values": [
          121
         ]
        },
        {
         "cells": {
          "align": "left",
          "values": [
           [
            "Air_Temperature_Sensor",
            "Air_Temperature_Sensor",
            "Air_Temperature_Sensor",
            "Air_Temperature_Sensor",
            "Air_Temperature_Sensor",
            "Air_Temperature_Sensor",
            "Air_Temperature_Sensor",
            "Air_Temperature_Sensor",
            "Air_Temperature_Sensor",
            "Air_Temperature_Sensor",
            "Air_Temperature_Sensor",
            "Air_Temperature_Sensor",
            "Air_Temperature_Sensor",
            "Air_Temperature_Sensor",
            "Air_Temperature_Sensor",
            "Air_Temperature_Sensor",
            "Air_Temperature_Sensor",
            "Air_Temperature_Sensor",
            "Air_Temperature_Sensor",
            "Air_Temperature_Sensor",
            "Air_Temperature_Sensor",
            "Air_Temperature_Sensor",
            "Air_Temperature_Sensor",
            "Air_Temperature_Sensor",
            "Air_Temperature_Sensor",
            "Air_Temperature_Sensor",
            "Air_Temperature_Sensor",
            "Air_Temperature_Sensor",
            "Air_Temperature_Sensor",
            "Air_Temperature_Sensor",
            "Air_Temperature_Sensor",
            "Air_Temperature_Sensor",
            "Air_Temperature_Sensor",
            "Air_Temperature_Sensor",
            "Air_Temperature_Sensor",
            "Air_Temperature_Sensor",
            "Air_Temperature_Sensor",
            "Air_Temperature_Sensor",
            "Air_Temperature_Sensor",
            "Air_Temperature_Sensor",
            "Air_Temperature_Sensor",
            "Air_Temperature_Sensor",
            "Air_Temperature_Sensor",
            "Air_Temperature_Sensor",
            "Alarm",
            "Alarm",
            "Average_Zone_Air_Temperature_Sensor",
            "Average_Zone_Air_Temperature_Sensor",
            "Chilled_Water_Differential_Temperature_Sensor",
            "Cooling_Command",
            "Cooling_Command",
            "Cooling_Command",
            "Cooling_Command",
            "Cooling_Command",
            "Cooling_Command",
            "Cooling_Demand_Sensor",
            "Cooling_Demand_Setpoint",
            "Cooling_Temperature_Setpoint",
            "Cooling_Temperature_Setpoint",
            "Cooling_Temperature_Setpoint",
            "Cooling_Temperature_Setpoint",
            "Cooling_Temperature_Setpoint",
            "Cooling_Temperature_Setpoint",
            "Cooling_Temperature_Setpoint",
            "Cooling_Temperature_Setpoint",
            "Cooling_Temperature_Setpoint",
            "Cooling_Temperature_Setpoint",
            "Cooling_Temperature_Setpoint",
            "Cooling_Temperature_Setpoint",
            "Cooling_Temperature_Setpoint",
            "Cooling_Temperature_Setpoint",
            "Cooling_Temperature_Setpoint",
            "Cooling_Temperature_Setpoint",
            "Cooling_Temperature_Setpoint",
            "Cooling_Temperature_Setpoint",
            "Damper_Position_Sensor",
            "Damper_Position_Sensor",
            "Damper_Position_Sensor",
            "Damper_Position_Sensor",
            "Damper_Position_Sensor",
            "Damper_Position_Sensor",
            "Damper_Position_Sensor",
            "Damper_Position_Sensor",
            "Damper_Position_Sensor",
            "Damper_Position_Sensor",
            "Differential_Pressure_Sensor",
            "Differential_Pressure_Sensor",
            "Differential_Pressure_Setpoint",
            "Differential_Pressure_Setpoint",
            "Differential_Pressure_Setpoint",
            "Differential_Pressure_Setpoint",
            "Differential_Pressure_Setpoint",
            "Differential_Pressure_Setpoint",
            "Differential_Pressure_Setpoint",
            "Differential_Pressure_Setpoint",
            "Differential_Pressure_Setpoint",
            "Differential_Pressure_Setpoint",
            "Discharge_Air_Temperature_Sensor",
            "Discharge_Air_Temperature_Sensor",
            "Discharge_Air_Temperature_Sensor",
            "Discharge_Air_Temperature_Sensor",
            "Discharge_Air_Temperature_Sensor",
            "Discharge_Air_Temperature_Sensor",
            "Discharge_Air_Temperature_Sensor",
            "Discharge_Air_Temperature_Sensor",
            "Discharge_Air_Temperature_Sensor",
            "Discharge_Air_Temperature_Sensor",
            "Discharge_Water_Temperature_Sensor",
            "Discharge_Water_Temperature_Sensor",
            "Emergency_Alarm",
            "Emergency_Alarm",
            "Emergency_Alarm",
            "Enable_Status",
            "Enable_Status",
            "Enable_Status",
            "Enable_Status",
            "Enable_Status",
            "Enable_Status",
            "Enable_Status",
            "Enable_Status",
            "Enable_Status",
            "Enable_Status",
            "Enable_Status",
            "Enable_Status",
            "Enable_Status",
            "Enable_Status",
            "Enable_Status",
            "Enable_Status",
            "Enable_Status",
            "Enable_Status",
            "Enable_Status",
            "Enable_Status",
            "Enable_Status",
            "Enable_Status",
            "Enable_Status",
            "Enable_Status",
            "Enable_Status",
            "Enable_Status",
            "Enable_Status",
            "Enable_Status",
            "Enable_Status",
            "Enable_Status",
            "Enable_Status",
            "Enable_Status",
            "Enable_Status",
            "Enable_Status",
            "Enable_Status",
            "Enable_Status",
            "Enable_Status",
            "Enable_Status",
            "Enable_Status",
            "Enable_Status",
            "Enable_Status",
            "Enable_Status",
            "Enable_Status",
            "Enable_Status",
            "Fault_Status",
            "Fault_Status",
            "Filter_Differential_Pressure_Sensor",
            "Filter_Differential_Pressure_Sensor",
            "Filter_Differential_Pressure_Sensor",
            "Filter_Differential_Pressure_Sensor",
            "Filter_Differential_Pressure_Sensor",
            "Filter_Differential_Pressure_Sensor",
            "Filter_Differential_Pressure_Sensor",
            "Filter_Differential_Pressure_Sensor",
            "Filter_Differential_Pressure_Sensor",
            "Filter_Differential_Pressure_Sensor",
            "Heating_Command",
            "Heating_Command",
            "Heating_Command",
            "Heating_Command",
            "Heating_Command",
            "Heating_Demand_Sensor",
            "Heating_Demand_Setpoint",
            "Heating_Temperature_Setpoint",
            "Heating_Temperature_Setpoint",
            "Heating_Temperature_Setpoint",
            "Heating_Temperature_Setpoint",
            "Heating_Temperature_Setpoint",
            "Heating_Temperature_Setpoint",
            "Heating_Temperature_Setpoint",
            "Heating_Temperature_Setpoint",
            "Heating_Temperature_Setpoint",
            "Heating_Temperature_Setpoint",
            "Heating_Temperature_Setpoint",
            "Heating_Temperature_Setpoint",
            "Heating_Temperature_Setpoint",
            "Heating_Temperature_Setpoint",
            "Heating_Temperature_Setpoint",
            "Heating_Temperature_Setpoint",
            "Heating_Temperature_Setpoint",
            "Heating_Temperature_Setpoint",
            "Low_Outside_Air_Temperature_Enable_Setpoint",
            "Low_Outside_Air_Temperature_Enable_Setpoint",
            "Low_Outside_Air_Temperature_Enable_Setpoint",
            "Low_Outside_Air_Temperature_Enable_Setpoint",
            "Low_Outside_Air_Temperature_Enable_Setpoint",
            "Max_Discharge_Air_Temperature_Setpoint_Limit",
            "Max_Discharge_Air_Temperature_Setpoint_Limit",
            "Max_Discharge_Air_Temperature_Setpoint_Limit",
            "Max_Discharge_Air_Temperature_Setpoint_Limit",
            "Max_Discharge_Air_Temperature_Setpoint_Limit",
            "Max_Discharge_Air_Temperature_Setpoint_Limit",
            "Max_Discharge_Air_Temperature_Setpoint_Limit",
            "Max_Discharge_Air_Temperature_Setpoint_Limit",
            "Max_Discharge_Air_Temperature_Setpoint_Limit",
            "Max_Discharge_Air_Temperature_Setpoint_Limit",
            "Max_Temperature_Setpoint_Limit",
            "Max_Temperature_Setpoint_Limit",
            "Max_Temperature_Setpoint_Limit",
            "Max_Temperature_Setpoint_Limit",
            "Max_Temperature_Setpoint_Limit",
            "Max_Temperature_Setpoint_Limit",
            "Max_Temperature_Setpoint_Limit",
            "Max_Temperature_Setpoint_Limit",
            "Max_Temperature_Setpoint_Limit",
            "Max_Temperature_Setpoint_Limit",
            "Max_Temperature_Setpoint_Limit",
            "Max_Temperature_Setpoint_Limit",
            "Max_Temperature_Setpoint_Limit",
            "Max_Temperature_Setpoint_Limit",
            "Max_Temperature_Setpoint_Limit",
            "Max_Temperature_Setpoint_Limit",
            "Max_Temperature_Setpoint_Limit",
            "Max_Temperature_Setpoint_Limit",
            "Max_Temperature_Setpoint_Limit",
            "Max_Temperature_Setpoint_Limit",
            "Max_Temperature_Setpoint_Limit",
            "Max_Temperature_Setpoint_Limit",
            "Max_Temperature_Setpoint_Limit",
            "Max_Temperature_Setpoint_Limit",
            "Max_Temperature_Setpoint_Limit",
            "Max_Temperature_Setpoint_Limit",
            "Max_Temperature_Setpoint_Limit",
            "Max_Temperature_Setpoint_Limit",
            "Max_Temperature_Setpoint_Limit",
            "Max_Temperature_Setpoint_Limit",
            "Max_Temperature_Setpoint_Limit",
            "Max_Temperature_Setpoint_Limit",
            "Max_Temperature_Setpoint_Limit",
            "Max_Temperature_Setpoint_Limit",
            "Max_Temperature_Setpoint_Limit",
            "Max_Temperature_Setpoint_Limit",
            "Max_Temperature_Setpoint_Limit",
            "Max_Temperature_Setpoint_Limit",
            "Max_Temperature_Setpoint_Limit",
            "Max_Temperature_Setpoint_Limit",
            "Max_Temperature_Setpoint_Limit",
            "Max_Temperature_Setpoint_Limit",
            "Max_Temperature_Setpoint_Limit",
            "Max_Temperature_Setpoint_Limit",
            "Max_Temperature_Setpoint_Limit",
            "Max_Temperature_Setpoint_Limit",
            "Max_Temperature_Setpoint_Limit",
            "Max_Temperature_Setpoint_Limit",
            "Max_Temperature_Setpoint_Limit",
            "Max_Temperature_Setpoint_Limit",
            "Max_Temperature_Setpoint_Limit",
            "Max_Temperature_Setpoint_Limit",
            "Max_Temperature_Setpoint_Limit",
            "Max_Temperature_Setpoint_Limit",
            "Min_Discharge_Air_Temperature_Setpoint_Limit",
            "Min_Discharge_Air_Temperature_Setpoint_Limit",
            "Min_Discharge_Air_Temperature_Setpoint_Limit",
            "Min_Discharge_Air_Temperature_Setpoint_Limit",
            "Min_Discharge_Air_Temperature_Setpoint_Limit",
            "Min_Discharge_Air_Temperature_Setpoint_Limit",
            "Min_Discharge_Air_Temperature_Setpoint_Limit",
            "Min_Discharge_Air_Temperature_Setpoint_Limit",
            "Min_Discharge_Air_Temperature_Setpoint_Limit",
            "Min_Discharge_Air_Temperature_Setpoint_Limit",
            "Min_Position_Setpoint_Limit",
            "Min_Position_Setpoint_Limit",
            "Min_Position_Setpoint_Limit",
            "Min_Position_Setpoint_Limit",
            "Min_Position_Setpoint_Limit",
            "Min_Temperature_Setpoint_Limit",
            "Min_Temperature_Setpoint_Limit",
            "Min_Temperature_Setpoint_Limit",
            "Min_Temperature_Setpoint_Limit",
            "Min_Temperature_Setpoint_Limit",
            "Min_Temperature_Setpoint_Limit",
            "Min_Temperature_Setpoint_Limit",
            "Min_Temperature_Setpoint_Limit",
            "Min_Temperature_Setpoint_Limit",
            "Min_Temperature_Setpoint_Limit",
            "Min_Temperature_Setpoint_Limit",
            "Min_Temperature_Setpoint_Limit",
            "Min_Temperature_Setpoint_Limit",
            "Min_Temperature_Setpoint_Limit",
            "Min_Temperature_Setpoint_Limit",
            "Min_Temperature_Setpoint_Limit",
            "Min_Temperature_Setpoint_Limit",
            "Min_Temperature_Setpoint_Limit",
            "Min_Temperature_Setpoint_Limit",
            "Min_Temperature_Setpoint_Limit",
            "Min_Temperature_Setpoint_Limit",
            "Min_Temperature_Setpoint_Limit",
            "Min_Temperature_Setpoint_Limit",
            "Min_Temperature_Setpoint_Limit",
            "Min_Temperature_Setpoint_Limit",
            "Min_Temperature_Setpoint_Limit",
            "Min_Temperature_Setpoint_Limit",
            "Min_Temperature_Setpoint_Limit",
            "Min_Temperature_Setpoint_Limit",
            "Min_Temperature_Setpoint_Limit",
            "Min_Temperature_Setpoint_Limit",
            "Min_Temperature_Setpoint_Limit",
            "Min_Temperature_Setpoint_Limit",
            "Min_Temperature_Setpoint_Limit",
            "Min_Temperature_Setpoint_Limit",
            "Min_Temperature_Setpoint_Limit",
            "Min_Temperature_Setpoint_Limit",
            "Min_Temperature_Setpoint_Limit",
            "Min_Temperature_Setpoint_Limit",
            "Min_Temperature_Setpoint_Limit",
            "Min_Temperature_Setpoint_Limit",
            "Min_Temperature_Setpoint_Limit",
            "Min_Temperature_Setpoint_Limit",
            "Min_Temperature_Setpoint_Limit",
            "Min_Temperature_Setpoint_Limit",
            "Min_Temperature_Setpoint_Limit",
            "Min_Temperature_Setpoint_Limit",
            "Min_Temperature_Setpoint_Limit",
            "Min_Temperature_Setpoint_Limit",
            "Min_Temperature_Setpoint_Limit",
            "Min_Temperature_Setpoint_Limit",
            "Min_Temperature_Setpoint_Limit",
            "Min_Temperature_Setpoint_Limit",
            "Min_Temperature_Setpoint_Limit",
            "Mode_Command",
            "Mode_Command",
            "Mode_Command",
            "Mode_Command",
            "Mode_Command",
            "Mode_Command",
            "Mode_Command",
            "Mode_Command",
            "Mode_Command",
            "Mode_Command",
            "Mode_Command",
            "Mode_Command",
            "Mode_Command",
            "Mode_Command",
            "Mode_Command",
            "Mode_Command",
            "Mode_Command",
            "Mode_Command",
            "Mode_Command",
            "Mode_Command",
            "Mode_Command",
            "Mode_Command",
            "Mode_Command",
            "Mode_Command",
            "Mode_Command",
            "Mode_Command",
            "Mode_Command",
            "Mode_Command",
            "Mode_Command",
            "Mode_Command",
            "Mode_Command",
            "Mode_Command",
            "Mode_Command",
            "Mode_Command",
            "Mode_Command",
            "Mode_Command",
            "Mode_Command",
            "Mode_Command",
            "Mode_Command",
            "Mode_Command",
            "Mode_Command",
            "Mode_Command",
            "Mode_Command",
            "Mode_Command",
            "Mode_Command",
            "Mode_Command",
            "Mode_Command",
            "Mode_Command",
            "Mode_Command",
            "Mode_Command",
            "Mode_Command",
            "Mode_Command",
            "Mode_Status",
            "Mode_Status",
            "Mode_Status",
            "Mode_Status",
            "Mode_Status",
            "Mode_Status",
            "Mode_Status",
            "Mode_Status",
            "Mode_Status",
            "Mode_Status",
            "Mode_Status",
            "Operating_Mode_Status",
            "Operating_Mode_Status",
            "Operating_Mode_Status",
            "Operating_Mode_Status",
            "Operating_Mode_Status",
            "Operating_Mode_Status",
            "Operating_Mode_Status",
            "Operating_Mode_Status",
            "Operating_Mode_Status",
            "Operating_Mode_Status",
            "Operating_Mode_Status",
            "Operating_Mode_Status",
            "Operating_Mode_Status",
            "Operating_Mode_Status",
            "Operating_Mode_Status",
            "Operating_Mode_Status",
            "Operating_Mode_Status",
            "Operating_Mode_Status",
            "Operating_Mode_Status",
            "Operating_Mode_Status",
            "Outside_Air_Humidity_Sensor",
            "Outside_Air_Lockout_Temperature_Setpoint",
            "Outside_Air_Lockout_Temperature_Setpoint",
            "Outside_Air_Lockout_Temperature_Setpoint",
            "Outside_Air_Lockout_Temperature_Setpoint",
            "Outside_Air_Lockout_Temperature_Setpoint",
            "Outside_Air_Temperature_Sensor",
            "Outside_Air_Temperature_Sensor",
            "Outside_Air_Temperature_Sensor",
            "Outside_Air_Temperature_Sensor",
            "Outside_Air_Temperature_Sensor",
            "Outside_Air_Temperature_Sensor",
            "Outside_Air_Temperature_Setpoint",
            "Outside_Air_Temperature_Setpoint",
            "Point",
            "Point",
            "Point",
            "Point",
            "Point",
            "Point",
            "Point",
            "Point",
            "Point",
            "Point",
            "Point",
            "Point",
            "Point",
            "Point",
            "Point",
            "Point",
            "Point",
            "Point",
            "Point",
            "Point",
            "Point",
            "Point",
            "Point",
            "Point",
            "Point",
            "Point",
            "Point",
            "Point",
            "Point",
            "Point",
            "Point",
            "Point",
            "Point",
            "Point",
            "Point",
            "Point",
            "Point",
            "Point",
            "Point",
            "Point",
            "Point",
            "Point",
            "Point",
            "Point",
            "Point",
            "Point",
            "Point",
            "Point",
            "Point",
            "Point",
            "Point",
            "Point",
            "Point",
            "Point",
            "Point",
            "Point",
            "Point",
            "Point",
            "Point",
            "Point",
            "Point",
            "Point",
            "Point",
            "Point",
            "Point",
            "Point",
            "Point",
            "Point",
            "Point",
            "Point",
            "Point",
            "Point",
            "Point",
            "Point",
            "Point",
            "Point",
            "Point",
            "Point",
            "Point",
            "Point",
            "Point",
            "Point",
            "Point",
            "Point",
            "Point",
            "Point",
            "Point",
            "Point",
            "Point",
            "Point",
            "Point",
            "Point",
            "Point",
            "Point",
            "Point",
            "Point",
            "Point",
            "Point",
            "Point",
            "Point",
            "Point",
            "Point",
            "Point",
            "Point",
            "Point",
            "Position_Sensor",
            "Position_Sensor",
            "Position_Sensor",
            "Position_Sensor",
            "Position_Sensor",
            "Position_Sensor",
            "Position_Sensor",
            "Position_Sensor",
            "Position_Sensor",
            "Position_Sensor",
            "Position_Sensor",
            "Position_Sensor",
            "Position_Sensor",
            "Position_Sensor",
            "Position_Sensor",
            "Position_Sensor",
            "Position_Sensor",
            "Position_Sensor",
            "Position_Sensor",
            "Position_Sensor",
            "Position_Sensor",
            "Position_Sensor",
            "Position_Sensor",
            "Position_Sensor",
            "Position_Sensor",
            "Position_Sensor",
            "Position_Sensor",
            "Position_Sensor",
            "Position_Sensor",
            "Position_Sensor",
            "Position_Sensor",
            "Position_Sensor",
            "Position_Sensor",
            "Position_Sensor",
            "Position_Sensor",
            "Position_Sensor",
            "Proportional_Gain_Parameter",
            "Proportional_Gain_Parameter",
            "Proportional_Gain_Parameter",
            "Proportional_Gain_Parameter",
            "Proportional_Gain_Parameter",
            "Proportional_Gain_Parameter",
            "Proportional_Gain_Parameter",
            "Proportional_Gain_Parameter",
            "Proportional_Gain_Parameter",
            "Proportional_Gain_Parameter",
            "Proportional_Gain_Parameter",
            "Proportional_Gain_Parameter",
            "Proportional_Gain_Parameter",
            "Proportional_Gain_Parameter",
            "Proportional_Gain_Parameter",
            "Proportional_Gain_Parameter",
            "Proportional_Gain_Parameter",
            "Proportional_Gain_Parameter",
            "Reset_Command",
            "Reset_Command",
            "Reset_Command",
            "Reset_Command",
            "Reset_Command",
            "Reset_Command",
            "Reset_Command",
            "Reset_Command",
            "Reset_Command",
            "Reset_Command",
            "Reset_Command",
            "Reset_Command",
            "Reset_Command",
            "Reset_Command",
            "Reset_Command",
            "Reset_Command",
            "Reset_Setpoint",
            "Return_Water_Temperature_Sensor",
            "Return_Water_Temperature_Sensor",
            "Room_Air_Temperature_Setpoint",
            "Room_Air_Temperature_Setpoint",
            "Room_Air_Temperature_Setpoint",
            "Room_Air_Temperature_Setpoint",
            "Room_Air_Temperature_Setpoint",
            "Room_Air_Temperature_Setpoint",
            "Room_Air_Temperature_Setpoint",
            "Room_Air_Temperature_Setpoint",
            "Room_Air_Temperature_Setpoint",
            "Room_Air_Temperature_Setpoint",
            "Room_Air_Temperature_Setpoint",
            "Room_Air_Temperature_Setpoint",
            "Room_Air_Temperature_Setpoint",
            "Room_Air_Temperature_Setpoint",
            "Room_Air_Temperature_Setpoint",
            "Room_Air_Temperature_Setpoint",
            "Room_Air_Temperature_Setpoint",
            "Room_Air_Temperature_Setpoint",
            "Room_Air_Temperature_Setpoint",
            "Room_Air_Temperature_Setpoint",
            "Stages_Status",
            "Stages_Status",
            "System_Enable_Command",
            "System_Enable_Command",
            "System_Enable_Command",
            "System_Enable_Command",
            "System_Enable_Command",
            "System_Enable_Command",
            "System_Enable_Command",
            "System_Enable_Command",
            "System_Enable_Command",
            "System_Enable_Command",
            "System_Enable_Command",
            "System_Enable_Command",
            "System_Enable_Command",
            "System_Enable_Command",
            "System_Enable_Command",
            "System_Enable_Command",
            "System_Enable_Command",
            "System_Enable_Command",
            "System_Status",
            "System_Status",
            "System_Status",
            "System_Status",
            "System_Status",
            "System_Status",
            "System_Status",
            "System_Status",
            "System_Status",
            "System_Status",
            "System_Status",
            "System_Status",
            "System_Status",
            "System_Status",
            "System_Status",
            "System_Status",
            "System_Status",
            "System_Status",
            "System_Status",
            "System_Status",
            "System_Status",
            "System_Status",
            "System_Status",
            "System_Status",
            "System_Status",
            "System_Status",
            "System_Status",
            "System_Status",
            "System_Status",
            "System_Status",
            "System_Status",
            "Temperature_Parameter",
            "Temperature_Parameter",
            "Temperature_Parameter",
            "Temperature_Parameter",
            "Temperature_Parameter",
            "Temperature_Parameter",
            "Temperature_Parameter",
            "Temperature_Parameter",
            "Temperature_Parameter",
            "Temperature_Parameter",
            "Temperature_Parameter",
            "Temperature_Parameter",
            "Temperature_Parameter",
            "Temperature_Parameter",
            "Temperature_Parameter",
            "Temperature_Parameter",
            "Temperature_Parameter",
            "Temperature_Parameter",
            "Temperature_Setpoint",
            "Temperature_Setpoint",
            "Temperature_Setpoint",
            "Temperature_Setpoint",
            "Temperature_Setpoint",
            "Temperature_Setpoint",
            "Temperature_Setpoint",
            "Temperature_Setpoint",
            "Temperature_Setpoint",
            "Temperature_Setpoint",
            "Temperature_Setpoint",
            "Temperature_Setpoint",
            "Temperature_Setpoint",
            "Temperature_Setpoint",
            "Temperature_Setpoint",
            "Temperature_Setpoint",
            "Temperature_Setpoint",
            "Temperature_Setpoint",
            "Thermal_Power_Sensor",
            "Usage_Sensor",
            "Usage_Sensor",
            "Usage_Sensor",
            "Usage_Sensor",
            "Usage_Sensor",
            "Usage_Sensor",
            "Usage_Sensor",
            "Usage_Sensor",
            "Usage_Sensor",
            "Usage_Sensor",
            "Warmest_Zone_Air_Temperature_Sensor",
            "Warmest_Zone_Air_Temperature_Sensor",
            "Water_Temperature_Sensor",
            "Wind_Speed_Sensor",
            "Wind_Speed_Sensor",
            "Wind_Speed_Sensor"
           ],
           [
            "021f5ffa_16bc_4efc_bedd_5eb04d8b3837",
            "03f84d72_615b_4b71_840c_41c2a5015d76",
            "09d686a2_134c_4904_b4c4_8ce3ce582169",
            "11328598_25fc_4808_ba70_a4a48ed1d6e4",
            "12fd9d33_d6a4_46c3_b647_b58a569a2db5",
            "17286014_ce1a_4ed3_89b3_92e0b16f0ef7",
            "1bb97105_2614_4197_9cb1_62d0f6f851d6",
            "236bb7ad_eb0d_40ae_b841_2e3b5c748fd5",
            "3579ef08_6cda_483a_8b7e_cb2e471de630",
            "38066954_1756_48f6_9902_64c58b9688f4",
            "38a93e9d_d911_4ce0_81fa_71972b0ee995",
            "3ebacdfd_bd8a_44da_9241_f192615018c7",
            "430ca3a7_9f16_490f_aae0_f7fd9675c8a9",
            "4c8df37a_3677_4c84_b346_0b6979ccbf06",
            "4e60c456_42a7_4bc9_9fa4_d36f23f46c64",
            "4efa0c0a_220e_4000_8c21_4c012ef228d0",
            "55f85b9e_fd33_44e2_b6c6_e4aa34397989",
            "5794706b_7b64_4202_b743_61c671c4add3",
            "59426334_4fec_4097_8a81_d66cd01c582e",
            "5b1bfac5_c924_4e0b_ba79_7d3b6e7c4a05",
            "623ef3ce_c32c_4f05_ae16_09a4e0eb5ba1",
            "6712f196_56e0_4f15_baa7_8e9e2ab9443d",
            "6b310be6_aadc_49a0_ad92_d5f11ff86d24",
            "76400d3b_e997_446a_b2d1_c850bc453416",
            "7baae988_b38f_4f0a_a79c_e91d928f4311",
            "7d56a436_e850_4768_8038_62e142f5bca0",
            "7f269e8d_b754_4484_ad1d_78d7abdd9dbe",
            "84ddec06_b9f3_4f34_936d_0789717cae25",
            "88c705af_679c_4b6c_b2c5_e3078a71c7ad",
            "9e5771cc_d778_41a4_9bd3_73da4e9852d2",
            "9f6e47c8_ec19_402e_b27b_4551655ec984",
            "a52e12e5_dafa_4c8a_9ce5_0e66125d208c",
            "b3d83e96_431f_4382_a595_e0edcf939282",
            "b7f27959_ba2f_4447_947e_8b0bb3bdc0d5",
            "c06f6743_1c68_485b_9d18_78c33fafb01c",
            "c12eb576_6496_4553_b655_b6a3c465d679",
            "d2e74c8f_f550_42a0_b05c_bfc61e4e3b12",
            "d90f2c2b_99fa_4609_8395_107d76dc8fe3",
            "dc2f8f57_1cba_4667_86c4_a089c0371562",
            "de513952_c58a_49e0_9c77_77bcdf1474c1",
            "f00e4df8_06a4_4a96_9261_a8b47c87935f",
            "f1b9a441_5d6f_4cb1_8e17_a9f18f876e15",
            "f6113e06_759b_426f_9a3a_83a25254a4ea",
            "fa4dca2e_0d5b_4ef8_8b1b_80c2ee01e71c",
            "26fe8480_ef01_49d2_a83d_d172b1ad67f9",
            "f39d1391_6c3e_44cc_9123_612264c831b7",
            "2fd1c1ab_7bfe_44d1_b1b9_01488a83f05f",
            "60f9369f_b7bb_4d03_9b8a_32d06a9826e0",
            "1ccf1c24_fca5_4b0d_af96_34522b52e810",
            "105648a4_b620_4504_97b4_2302ebe7ab3b",
            "277fdfb6_70bf_4393_8fec_d19af2a40137",
            "a7625d8e_c749_4245_8c21_a55f16dbd082",
            "d23493cb_ae9d_4402_9f22_bb41d9f35697",
            "e5b51371_7d32_4ba5_b3ca_8eae9a3d9855",
            "f13cf5c2_20f7_4279_b182_8bdcd3089cf6",
            "d2a1adf3_b2d7_4fd2_b186_7aa9f02393f5",
            "9ea81184_4e1b_4390_afae_65e0c05b4a15",
            "03a31202_d278_4d7a_b565_fa0427a57822",
            "29fcf6b6_31db_4c39_954d_b54c57ccd39a",
            "34208a29_b7b4_4224_8c1d_659992ae443e",
            "36510756_4918_4f07_9e40_c96ef1ff7239",
            "405896a1_c195_422d_a0aa_18d2eca6a61d",
            "4d03c6d3_efae_4172_987b_729946aaca44",
            "54d670e8_000e_42f6_a8c4_f22f20e298e3",
            "5766a97b_9bfe_4cf7_8977_d9cd32eda40f",
            "5fe6b5c7_9f67_4044_b4f6_d673003c53c0",
            "6218ba6f_9906_4193_9c16_bba2d8178fba",
            "6da16878_c4e0_43d8_bf65_aa5cbeac57af",
            "88936720_242e_4c0b_be77_18ea6dbf58f4",
            "93ed260e_1391_47b8_90d4_ebfc8615470e",
            "a226896c_34ee_4170_9181_07bd294f2d41",
            "c0a8212a_356e_4598_9187_91470d9c0fa8",
            "d97f7a72_643a_4ef8_8866_6c6f616817d0",
            "dde46225_da3c_4751_a600_7e0b1a71e17b",
            "f6fa622c_0936_4981_a8a4_1f67830ceaa0",
            "00fc1fb0_41ba_4bb7_a570_9028d0bd451f",
            "250af432_9be1_4475_ae81_50c4e43cbdc9",
            "27b340fd_9156_4c61_8421_eb5e67648bfa",
            "35739c91_b712_4847_beea_9de0c41ab8fd",
            "78078042_e16e_425b_9ec8_605aa149274e",
            "9079339e_7691_49a4_85eb_72c34b50738e",
            "cd856e99_e635_4995_80da_0652f88f6e7a",
            "cee135fd_0590_4d6a_a1cc_e9ffc1c4e332",
            "d3337246_6084_4add_b40c_ae718e49929d",
            "efc0e732_cd0f_4b44_bb78_373c67f066b8",
            "21664c05_92c5_453f_9274_123711a5a5c0",
            "28611c31_e1f3_4626_a32e_486887c704a0",
            "454fc0fa_4c69_45ff_8dab_c7bee2644dc9",
            "4609947b_c8a2_4cc1_9c37_535502f7d2cc",
            "52d88b28_8a0e_409d_a08d_06f5e062e451",
            "77bc70e6_7b0c_4c69_ae68_f1095f56f175",
            "91b9dd7b_7f1d_4bb3_a152_c8391a4398b6",
            "94c9c821_4341_4aea_abfc_d69ba17dfb44",
            "a8849783_c012_496e_9222_7750af111ecb",
            "ba3414a6_c16f_4872_ae49_a4e5830164d4",
            "dbd1311d_2e30_44ad_92fc_345fa477a3e9",
            "e9dcd490_a9a5_4eb1_86b7_fff9ba1833cb",
            "1f912733_aad2_40bb_afe7_45f6cdf432af",
            "1fab2d67_c02f_4f6a_b761_4aa3d164d7e5",
            "347f59ac_e8c7_4e85_ae58_d4f968707f3f",
            "3c0f9669_b985_4488_b12c_0db42b17ae2b",
            "81d76fb3_6646_4347_8dad_9900327cefd6",
            "92cb1bd7_b38b_4258_a0d8_7cd3154f8dca",
            "a268d54f_c714_4ca5_82b8_7c5dba2d69ef",
            "d26e2136_8c4d_4f0b_9b38_5681724bb725",
            "da8edb58_9bba_4306_8873_f9a618f35920",
            "e13c04f2_5db9_42af_ac8e_a1c1f5caa679",
            "6c9214a5_cec9_4f6a_b787_58620ae90aa0",
            "f380c64a_3437_4012_b9ff_03358a2144f0",
            "5c1ffc0c_d69c_47bd_ada7_7851f4d8226b",
            "8263b6cf_3126_4633_868c_9eb507799964",
            "f5bd05b7_bc89_4203_997e_9c2b51b0dd2e",
            "09cb5556_3853_42e1_9825_93d7a8e154d6",
            "0abc6394_8037_4c4f_bfdb_8047a06e6404",
            "0adb4e3a_d977_4efd_ad37_5108a4701878",
            "0c61b304_729f_4175_a440_c3b7dcdf76da",
            "0db0177c_1dc2_4396_9054_c206c3ff02fa",
            "15980373_bca0_453f_9af7_169c0070f716",
            "214836bc_229b_4cfe_930b_db3430b12f65",
            "21ea1983_4b12_424f_a23b_d663168cd1c0",
            "22759eff_a4bb_4f1e_bb8e_bc3f4577b146",
            "28da5ba1_1a2d_4594_9da4_bc916c19f360",
            "292678da_3e72_4715_85ed_a0e019bc3a95",
            "29ae3f47_0b89_4223_b46f_db2eb5da302a",
            "3897ff4a_f72a_473f_8f17_a3f863bb6b77",
            "3bc4d618_e8b4_4731_850e_eec0de05b899",
            "3ee9ce5d_006c_4905_b410_10f7ba57ba12",
            "403db364_9025_411d_b12c_f48477c5a381",
            "4c37e7d1_a58d_490f_8e44_f4a5f8a4a644",
            "4c7151e3_fe8f_4c31_a5ab_9aecbf1d6953",
            "4ccd418e_cac6_4a00_9760_7ddb2742455f",
            "5141794f_4852_4207_ae26_42d488fbaa4d",
            "5adfd47e_9e5b_49f4_8b3d_95129788d27a",
            "61b90e6c_ab26_43a2_aee4_8eac512e3f16",
            "6fcda7f2_dacb_4849_a961_450059aa2246",
            "70280088_4d47_4d9c_a496_dda81593f2e3",
            "78c4b52a_2a28_4f96_b61e_688ef42252c2",
            "7b23ae8e_7a50_4455_b6e3_20afe8e87892",
            "810305a5_f20a_43c1_ab83_3645a69e8cd3",
            "835a86d6_c235_4caf_8071_31b9bf24960b",
            "868e59bc_0f86_42ad_8f3d_f9ca789aca7c",
            "9be9270b_d33a_4dd0_9a42_58c084a5bc99",
            "9d856aa0_74ca_4b12_a25c_1ca90cc1fc92",
            "a35cb628_b9c1_4962_a971_dae1001599c0",
            "ab4afb21_2fdc_4a27_bbcf_cdcb1bface15",
            "b5e401ef_354c_4c2b_8441_6ef4c51af33f",
            "baa02c02_d95f_4b94_a7ae_d70c27ec63af",
            "bd0a5007_0967_44ff_8878_2714c6775073",
            "c6f4adff_ef56_44e2_add6_714a15bce2a5",
            "c8dcc38e_a9ae_4a44_85c1_dbc27f5ba559",
            "cee8f360_3fb5_48be_9e38_aba38941ad87",
            "da157ba8_46d7_4fe6_8639_3a1e6df5bccd",
            "e376c231_9c76_4da6_b3e6_6bd743c3ffdc",
            "e3e678c2_4b66_43f3_b23f_fb1bc364f6f3",
            "edd9f2c4_5224_433e_a698_6c95856e8f96",
            "ef68742c_aabf_4aff_9997_789cda5f121d",
            "4c2158af_f3a1_4a39_af94_efae7e63597f",
            "f25a8cfe_b301_4cfb_b9fe_869da8fd7fab",
            "0261b604_b2fc_4e20_931d_6f3122c2971c",
            "2d12a97f_9bd7_4f21_9ddc_2ac36bf1c7fe",
            "45923996_731e_48c8_ab40_dbf90bd5b2c2",
            "53fe9aa9_551e_4394_96ca_30bbd99055ae",
            "8c653335_24b7_491c_a3d2_ca7961175f36",
            "9345a858_35a1_4713_bad4_16002b08ece2",
            "c3990511_0d2c_499d_b939_dea88e81eb8e",
            "e8ffc7ba_d2dc_4bff_a068_6317ae240d85",
            "f394c9cd_72dd_4993_a79d_be85473cdcbf",
            "f3ea305d_c7af_4708_ab6a_91f9f8693e71",
            "0c6cb0a3_7b9c_43af_baf5_dcb4ccd6914a",
            "608b74f5_9fed_4464_91d6_1ff857da60da",
            "6c61a963_a4cf_485d_a15f_13154222a1ae",
            "ccb76429_d16b_42df_9b76_4492b28d6d81",
            "e16e016d_e13f_4077_a1f8_703c4a19d5a7",
            "3058787c_07ef_4d8c_8214_872064f85f95",
            "2bfea9cf_141f_4a2e_8dd0_50eb3c5219e4",
            "12ceccb3_7882_4009_9b3f_1b0972d88f6f",
            "2bc454c3_a32b_40b6_a272_56fb161e8a24",
            "31b56e56_1515_4abf_822e_93283587aec7",
            "4125da91_852a_40a6_b9b2_ae0ff721379f",
            "46c72f42_6a42_4dff_a42c_abcd15775178",
            "4e58a613_f9cf_42dc_9e66_530950548cd7",
            "7766d090_ec44_4bfa_ad0a_9efd34902fdd",
            "b1f9e994_3efb_469e_a88a_8a879dc1eb86",
            "b34b56ec_8b0e_44d7_9c8c_163046963890",
            "b9521d70_3b01_4269_9bf5_b9ff1f75b727",
            "b993dc74_b17e_431f_b30e_bad265d21fcc",
            "cf10043c_ebe3_4db0_8abf_8f3908a8c933",
            "d4991106_54c3_4017_a889_c250bac80c2b",
            "e479c24c_2a91_4290_9eca_ede2309bd2e1",
            "ee946b24_d5bb_42f2_a2e8_a9365b7df5c2",
            "f2eec6f2_5e90_4b17_8e1a_f9696fcc8580",
            "f8150516_c497_40c8_9d93_ca9143fb9ecd",
            "fab1d85d_ea11_4dd2_b02b_775422a89642",
            "18a4eb5d_617b_469b_bb8f_1c3987843328",
            "315fbf97_0628_4625_8181_b2ec26eb5020",
            "4cc819c1_5c80_47ad_ba82_e8392ce0eb0a",
            "7dc26f84_8654_4dee_9839_64fb935fce6f",
            "a1ce6616_9c71_4dd1_9283_1eba7da34fa4",
            "0d0e3bb7_62e6_4f4a_91b5_17b1044c69cf",
            "25dc6fea_6fc1_43cb_9b0a_fa81d4eb2383",
            "3f18ed73_2f85_45b0_bd7f_048e9229043a",
            "44775cb9_d137_40cc_85d3_c666f5a0945e",
            "64ff7e69_483c_4d45_9edc_74c00ad9d527",
            "6bb072ef_14f1_4024_b505_dd74f2d33232",
            "7ab46192_1167_472a_afd6_1a5ce1fbabdd",
            "d3ae64d9_5d6b_47dd_8662_8f4b8171c4c5",
            "d68c9a06_d46e_4f9d_bc02_8ffd6f3bc564",
            "da5edbd0_2d33_44c6_98db_23acdc082355",
            "0d94e546_6aec_4fb0_a17d_cfe63740de16",
            "10897241_8ad4_4543_8c4c_a845c8c7438e",
            "12947a76_8193_46f6_8dea_2c5aac39d1a1",
            "213ac15b_3fbd_40b7_b59b_43ab87a09260",
            "2613b9a8_374b_4cb3_a058_bf01cf32dd56",
            "2d94fecd_b601_4c5a_936d_662d99e4edcf",
            "2f78775f_b037_4854_997f_1064dd5f6852",
            "344aaffb_1732_44b1_b4a7_f1219c90fcd7",
            "34b0bb58_bfd1_4626_ac5a_e8ffbe158a2d",
            "38fafd1e_6667_469d_b97c_4d3696116d1a",
            "3d429929_1aeb_49bc_b5c1_4fb7955e7b06",
            "4f9d0882_c587_440c_b246_e0f0e4329d04",
            "52437055_32d7_43d7_bee6_47eb6adce8ca",
            "5302d3a8_86f6_4afa_8e85_ef1f4f4a853b",
            "550c1efa_59c0_497a_b453_851dbb82546a",
            "5a652cd1_ad60_4c80_be85_fc5daa2a03b4",
            "5ac2b6af_9f6b_43e1_847c_ee539ea65ef5",
            "5af3c1ad_947f_4724_b982_62669f0c0053",
            "5b26e2f3_5984_4cc9_a14f_616c21dc2491",
            "5f644b32_42e8_4cf9_8a39_4444a41a3735",
            "61631b38_b0b9_4c7c_96a5_ac0a43bb2074",
            "62482ead_e807_4a8b_a1dd_84c8544b6578",
            "681ca5bb_7a35_417e_8094_71d0c24b4e38",
            "6ba43136_3c00_4d77_adee_557c4b027fd1",
            "6c3c5fb2_3a7d_4d8f_8bd9_103c12eeeff4",
            "6eb44cf1_f855_4cb4_99fd_19d55d76cfed",
            "76f52c23_8902_444c_9056_47aa867b3af7",
            "7a2ff512_fcd4_41eb_9299_379824d3347f",
            "7e1083f7_8274_4df8_abbd_3b1336557040",
            "82f75178_cc15_4db7_b06c_48432305bd58",
            "838e6fa7_4202_4546_b61e_d77341abb64e",
            "8fab601c_cd78_41bd_bb26_6bd3edbddcdb",
            "96e84c0c_5a9b_4c58_b76b_781a73880537",
            "9b236c19_3c1e_4e6b_9176_5eda7d4730bf",
            "a1cfe99f_d548_4e39_9d24_93bacf750721",
            "a7035f1c_6617_4c57_b28e_9c8de4c53706",
            "b8c9fe85_44f3_4a7a_aec5_0181101044c8",
            "b9185a53_b43d_4797_ace0_8850711d25bf",
            "bcdc4b0c_a939_4209_8b97_19338fa3aa94",
            "bd36e021_4a93_4775_8941_fafe75ae19ed",
            "bea83970_cc30_4168_b7e0_3dc165043cbc",
            "bfaf2665_254d_4a13_b1eb_811d5bf3732a",
            "c77a5516_42bb_4064_965a_f5213078ba2e",
            "cab929ab_c3b3_4ac0_bc80_9ff4704c3ff0",
            "d19ecd1d_f340_4165_a629_a1a74138257f",
            "de9bb82e_ff19_484f_964c_ddb3ad64b14c",
            "eb0d5916_d942_4e2d_8129_60b83d984fdd",
            "edd9a75f_d0ea_4720_b3fe_41d279514427",
            "f0e22692_4f06_4931_929a_d84f35397c56",
            "f19fb0a6_02e2_4463_b62d_e1898668dc7c",
            "f42500c6_71ed_46e3_b72d_8e1b6b547171",
            "f7099058_afdb_421a_91b7_c08237abe7d7",
            "f85ce24c_f090_4d58_b0ea_d26e95f55147",
            "f89604a5_99e8_42ec_b385_aa6a865cb76b",
            "00c9657d_ed65_4700_bee6_45bcb992175a",
            "08cb745e_9ebd_4f6f_8410_01053aa8f8d6",
            "0b1d848c_0845_4295_80d0_e5fa8b33dfdc",
            "15839915_722f_43ca_84e7_a36ac6c80e94",
            "33b4836a_7838_480f_a641_4621288e2ff2",
            "3c9ca09b_8952_45da_a066_bcb645cbbc68",
            "67d8dc82_db3f_4c1c_87fa_5f55fd6b0c22",
            "78fb166d_a503_41c5_80f1_11a387168a8d",
            "7cf7f76b_1764_4ae6_a85d_02e0ebb63ca5",
            "d91528be_afcd_4a27_9f58_899515e78994",
            "27f000fa_9ac9_4d70_a614_cd73b66ddc1b",
            "943d9d74_6b4a_4680_8d1f_f202f5c9cb0b",
            "a4053f2b_0e97_4bf0_a63b_81d40374f21b",
            "aaafdee0_ec03_4101_8216_e8f4c44d04ef",
            "de53eacc_1448_40aa_a4f9_13b75ec04f58",
            "0c45912e_a846_4e6c_aa34_31dc9d507b87",
            "0d3b1b76_c042_4c6e_a885_34d11845b725",
            "10bf38f3_ba29_41c3_a61a_c77a8cd0a6d7",
            "139f8178_52ee_4ec7_af6a_42e0b1bd2546",
            "153b9bda_a4d6_4f25_9710_f65194d66f6c",
            "1f1ed319_bd73_4acc_a68d_5a8247acbaf2",
            "2668358d_a507_4a83_882d_bf9f800ff9d1",
            "2cb58c71_c15c_4934_b320_5cd316f3a1a6",
            "336414e6_7de4_4d41_8b6d_c914d0092e16",
            "3bd76f4a_9fb2_4477_9777_56329fd9bf4a",
            "444f93de_4904_4a2d_a56b_270f0b78723c",
            "4532d82f_b53d_4bc9_a85a_5cc83be061e5",
            "4f9b0cc9_cbc2_40e2_aecc_57d740cd1ca2",
            "560c54ec_2da0_4064_bffe_feaa922490b6",
            "58cf01f8_e5f2_455c_bbcb_6ad0fe5c10cc",
            "5aadcedf_c233_4df9_9903_aae9e1a7accf",
            "5d5fdda9_1381_433b_84c5_5f74373e8713",
            "5e89fa22_7eef_4781_b287_3593a241a8f6",
            "63172dff_9c98_446e_981b_45a0c073d2f9",
            "6655c63b_1a57_4fe9_a2a7_8331873624ec",
            "6970ec93_43db_4ca0_bb81_5302734d9eed",
            "73d3b8c1_ace9_41f4_a205_907c32a0cae2",
            "757f31c2_0c2e_4e2d_b085_9970d88f40c6",
            "75e21308_99b7_48d0_83c3_a1753f5d982f",
            "7ee07028_6c0c_4d1f_a868_9385bfa97884",
            "81a3d707_cb1e_4ce3_a127_afcb0755a366",
            "86a55b03_c075_4941_9c4e_0af11ebe1fb2",
            "8849f40a_5093_4ea3_9cb7_6209d76b7e10",
            "8e0dc973_8228_42b4_b32c_971ad0ba42b9",
            "9348979b_cad6_46a7_922b_6849412ca5c4",
            "9a507b72_7ad3_494c_b0c1_dd4c0ebbb506",
            "a5823f69_5cc8_46c2_9bdd_c934af38340a",
            "adb30815_faf6_4590_95a7_c4c0f7bfd3d9",
            "b3122c59_ceb9_4aaf_a90c_7950df64e7bf",
            "b53e8795_3d6f_4a56_a802_cec2c9e6f808",
            "b81f4b1a_cdb0_471e_b197_8dc4d39e5f13",
            "b89e7233_92c4_4a78_a65e_beeb74424ab9",
            "ba9bea17_be44_40d3_b32a_1293472a2a00",
            "c9d83657_d13f_41b0_b773_c6c0606890e3",
            "cd7d3f34_67e6_4520_8a9d_1d44a4ea3d1d",
            "cdad6df4_aa45_487d_9369_be7665cd2929",
            "d354524b_3111_4e69_ba03_66a2347662c7",
            "d3d45b49_1b16_48be_a5e1_639cc60b8a7b",
            "d53fd751_a856_4e37_9c8a_7dfed4a2665c",
            "d6363a04_9b57_488b_99c6_4852f0d09a50",
            "d795d2b7_1e8f_47f2_bdb9_28e3405fa47b",
            "d8b8360a_3c22_4ea7_b7dc_c9e1880f0875",
            "df021dc2_26ae_4093_b2a0_d9068811f695",
            "e5cac543_ce56_46b7_96ed_0a2fa04edab9",
            "e603d239_8b09_4fb8_a1ca_a7d475da3475",
            "ef8ef7f1_8f81_4c00_b3f3_8da89ad8ff1c",
            "efe6f878_7bda_4378_a739_9f67b5731f2a",
            "f3c0f575_372e_4bc3_993c_0195c54b9a66",
            "fa2cd128_5171_40b3_908c_9612c24382db",
            "03cd827d_1baf_422c_a896_54cf0069046e",
            "062090b3_5147_41d1_afde_ffee8ed62c7e",
            "08925a51_9848_4f33_98f4_9e984f654005",
            "117dffb3_c06b_4a53_b998_4fdfadc1749f",
            "129418f4_ffec_4676_918f_38b750f08de3",
            "15384324_6bd2_416c_ac58_10874a4d3be4",
            "174f5c9a_7774_4063_898c_b05f29ae1c79",
            "186704a4_285b_45ba_a0dc_38b289401e9b",
            "1b16c523_9b12_4caf_ad8e_2c2612242064",
            "1f95f1d5_708a_46e6_86c4_e96b586650c6",
            "27eac0ca_3587_4d24_845c_5605fc001f9f",
            "2a067d12_616f_481d_a12b_8bc7b8364cca",
            "3349d16a_88c2_47ca_80c8_679ecd929e27",
            "3a5b84c8_5889_405a_a9e1_3eb4d31f0317",
            "50ac3787_751a_4ad4_8527_c8dea8a15063",
            "51481b9c_8637_4aec_86ee_dbe1c40ce6d0",
            "59aa6de5_2074_4168_ad94_00339e21603e",
            "5f9f7014_bc31_43dc_9264_9ece2cdb0634",
            "63aeadda_187a_47a6_972f_5b6325fbb1ac",
            "65d60058_0589_449e_9822_dfda471f6e17",
            "7a6ac413_5ddb_466a_9ae1_0b887ca84c04",
            "7c092694_762f_458a_8b38_2f8514599cd4",
            "82127b54_d11f_4048_a039_29e9114b9364",
            "8fa54d14_ccdf_4537_a7ad_66951165e4d6",
            "97623167_4c3e_4127_81c9_1479f3c7d07d",
            "a3b73bfb_359d_4784_b7ad_e6a541a1fbff",
            "a5b78973_6f67_476b_bf19_011e080afa0f",
            "aeab89a2_0d9b_4ebd_97fe_033e93447fbd",
            "b157a75e_4e91_4072_97ba_c0a0c9524954",
            "ba8f5b91_c7f1_4a2d_945d_3adcf08dc6de",
            "bc56632b_7fec_4de5_a4a7_d202851b8c25",
            "bf39f869_7d09_4d25_bb6a_1cc5f75f14c2",
            "c15f58d3_027a_4373_aa48_c78cffb29bcb",
            "c8b4eea5_2bbc_4c83_bbd7_aad7ed1ba146",
            "c9114da7_5de4_44dc_8f21_57dc1703755b",
            "cd93898e_ec21_4d45_95fe_502ad92fa0ba",
            "d335c293_979d_4fbd_933f_df753e90754f",
            "d38703cc_2e6e_40a3_835d_d7c36f7d653b",
            "d58c45fc_2ea3_4ae8_ab01_2d37c8dbfcaa",
            "d8d3f744_9079_4974_bd87_d1e00cbf63ec",
            "d9fa4be7_46ca_4441_80d7_e23db0752d6f",
            "dcbfe18a_3e3b_4b88_ab19_982467e7c20f",
            "dd1d88eb_7e39_4767_aa2a_bf562791b355",
            "e30eb7d4_25a1_4c7d_87a7_0634f63627f0",
            "e35c6dbf_d24c_46b9_94d0_600f92134af1",
            "e563effc_565a_4244_a12c_43f23093d4fe",
            "e6b582c5_0beb_44f6_8f82_0a809ef27ecc",
            "e91f4ad0_989b_427e_aa7b_9ac9d8a54543",
            "e9a36f74_8882_4d65_a7cf_3126b6d59aa8",
            "f789e5f7_3417_4cee_a783_7e8887e520ae",
            "f78d9be8_3008_43ef_bfdb_037b7c4490b8",
            "fad205e6_9ccb_4938_97b5_1c9b11da395b",
            "05dfaf75_5216_4d9b_ab03_16ad69832041",
            "09507f19_2973_4140_8e56_c40fc0a3eb89",
            "3c9d2ada_56d9_41cf_8558_597e61849fdf",
            "594ac793_a23b_4b17_a47c_496ae8f123a9",
            "5b002cb5_d1d7_4530_a3d4_b74fce08b27e",
            "6a849ab3_e0f6_4c88_b752_38b83ff4198b",
            "7274bab7_ada3_4c00_8d20_e84a8d33f995",
            "c5ccee34_228f_417c_8084_dc921283b9c1",
            "d3311603_7101_455f_9692_1d4d08ddc3ea",
            "e9496fce_46ba_451d_a30d_9588fbb8db31",
            "f1925127_cd39_4c0e_a336_ecc50cc0e32b",
            "137b04ee_6b3b_43ae_84f3_03d3482b2fdb",
            "1f2f7881_0dff_4580_91cb_93cca0cda361",
            "22543d51_3c38_46d3_98fe_a77838976df9",
            "2a70f4be_c1cf_450a_b396_37a9e41b70a9",
            "580937d1_41bd_4b24_af09_720709833bfb",
            "59195fd8_9b97_4fa2_b0ab_30effed9cf62",
            "622aeef7_86c9_4e4c_a2c6_5353436a33ed",
            "67acaa30_5d5a_42af_90a6_a5715b673f7c",
            "6ce99ed6_5493_4b4f_8eb5_8768d1286034",
            "70bada9b_3ca7_405d_8983_8f486a470c3f",
            "7392685a_708d_4356_9030_d0b44e295dbd",
            "978117ac_26bc_4dcf_a04f_2cd8f55ab1b8",
            "9afd1181_64c8_4a67_9ff5_2b94859199e8",
            "c418fa15_090c_47a6_b39b_8576af580b19",
            "d0d97179_d50d_4e22_8922_c4c7ca575fa9",
            "d1b16a90_dfae_44f9_8683_261a459ba91a",
            "df8236b0_6ed6_4d78_91c6_1af723476015",
            "e24407a2_f06e_419e_8e96_edf6754d9176",
            "e5a1315c_5b86_4c92_8f4e_98afb6e489f1",
            "ef1c39a8_1a31_484a_855b_1b484fbcf1bf",
            "03d25283_5abe_4120_b184_903bc77109c0",
            "1cbcac68_d055_4fa2_9fcb_29a554ba06b4",
            "3dc018b7_c15d_4aee_855c_28f5908c0b95",
            "72cd859a_0f4b_4480_a438_3d623defd799",
            "d0ded6b9_0479_4719_8811_0eec38029de8",
            "fc487980_ca40_4166_88d7_c0c8e0b5c1b8",
            "1f24bcff_00c1_4843_b4ee_e33a4cf23c32",
            "59d9b366_e56a_4faf_88c3_dd4299b51ba8",
            "664ddc27_ccc5_43a1_97b7_3000c0e948db",
            "6b5a7bdf_b566_44cf_99e8_be7ca514fa00",
            "9c4a31dc_2195_4f59_b3eb_2d744f1bddc0",
            "d31987d1_1756_48a6_bfc6_ab129fc30084",
            "5344c826_a528_465b_b962_a22c2c662cb3",
            "f864fe09_c8c3_4b96_b190_88ef0b1cfe3f",
            "00767c03_e4f1_4323_88db_4b3c5b048bd8",
            "07ae8323_56bf_4a33_9fac_7ba7f1da6f00",
            "083c0f25_8bc1_4db8_b2d6_9bd0223dae4d",
            "0ef8992a_ccd9_4120_8add_6bfba5a4aa3b",
            "10dd4bbe_3172_40e0_8a13_b054d298e5bb",
            "13be1a63_ec02_46a3_b3c2_4d68d0c76f92",
            "16046fad_e38c_4345_8338_6030aa89cba4",
            "17a38b26_3632_4994_896b_dd92487bb5fc",
            "1b0e031e_c5e0_4b2d_add0_858f0887e48d",
            "1be1ba75_f7bc_4270_b037_60fc602b36ac",
            "1c9ebda2_97f9_47f9_b9e3_1c2b45fe6844",
            "286a5220_5396_4af5_a987_abedc6fadf54",
            "28bf16d4_2f1d_4627_8a7f_47a5c23d0319",
            "2c210e9e_d0f8_410c_84d8_5aae5764cac1",
            "2dbf4503_071a_42a9_9ede_4de1c4bc80ad",
            "2f3c0c2e_ea6f_4d88_8383_e71f54b61200",
            "2ff2001b_b4fa_4fc3_adc8_b90e4c1b746f",
            "3269cd92_dbc4_401b_aa25_729f23645dff",
            "36044d6b_7db1_4d88_8174_5d4b21fa2314",
            "39174b3c_0e37_4568_b159_0c5cccf80959",
            "3d4ef144_67a2_4e0b_8ae0_7c13e867571e",
            "3f7a52b5_3acb_4d55_b999_38e275b2c4d9",
            "3faf947f_7f6b_4b46_ab76_98346e6d1f1f",
            "3fe79a74_9e7f_4a29_ab60_284c712c8243",
            "410088e1_6fb7_44d4_b2f3_7ca6f2883383",
            "494467c5_7a5f_45af_9ad7_64fb9b21037f",
            "4a2b4d48_5265_40eb_a677_172c77f55c3d",
            "4ba3cfa5_45a0_45a5_8aff_b012b2846854",
            "4bc6e154_d12d_451a_b8cb_87eb1641fee2",
            "4d9bb8ab_90de_4d2e_9cc0_d46ec7f7387e",
            "503620bc_ceb3_43eb_9293_ce22386270f2",
            "5301aad9_aa4e_4703_b434_e7d25fc31959",
            "56b0c966_8c9e_423d_b26b_7782a8868561",
            "5855ced9_1d30_495b_a545_a0eaeb31aa76",
            "5b55a04e_8164_4266_a3eb_6b202e577f49",
            "5c808e07_0a9c_47ac_bdab_45b4bea97be9",
            "5d709da6_60c8_4dce_b33e_fd8a337e54dc",
            "5d796f92_44d6_49e8_8066_2e7b49f0c3b6",
            "6708bc1c_a81c_406c_9796_23d81668a3d3",
            "676a25db_36e7_4448_a0bc_b9c0e6162902",
            "67c1e337_0346_4c2c_bca0_6e24e170cb30",
            "68e8588c_9395_441c_97d4_1b5bb056ee80",
            "6e2b3e2e_3cb6_4188_953e_70787e13317b",
            "725da21b_4673_48aa_9053_5c0a758d5f5f",
            "7411525a_14d7_4b55_aa51_7cc11d8d1c57",
            "763a4142_1801_4949_8938_8d3139541052",
            "764d4d44_aa29_4e19_8396_2821126f0ad0",
            "7733aafa_cf54_4481_a4cc_379bd8dc5270",
            "7e21a7c7_3c00_4f1f_a639_5cc03bf45494",
            "7e252e62_440d_4753_8fee_86132791aa15",
            "8000eb50_5b29_4612_97f3_a6db6fdd7658",
            "802cff1b_cc7a_490d_9eda_fe56241b15cb",
            "80527669_80b4_4267_b3f7_b5e0f0aa68e1",
            "81d9cfb5_5e3b_41bb_a35e_7ec2fa362e64",
            "834eeace_b35d_4c33_95c2_f3c0224c45b6",
            "859dfd12_ae72_45ce_9339_f93f94c3bba2",
            "89325e0f_7cfb_4ead_a7d3_aa791cd7e7d0",
            "8f288ca4_0e65_47b2_ac16_ded4a4de769c",
            "91e967bb_d79b_4b1f_88d4_73c47dbac4f4",
            "929a697d_9146_4a66_aafb_cbae7840c19f",
            "94088409_7c46_4320_b846_a0c4db766cbf",
            "94b2695c_7314_412c_b1c4_45df586f4757",
            "989c4c03_d744_4c48_a58b_b53fc42101e2",
            "99f93911_2af6_42e8_876b_2317dd9f9be6",
            "a3deeea5_43a5_4bab_a8b9_842ee4fda2ad",
            "aacd13d2_716d_4c0d_92ae_45b03b34bbac",
            "ab4de7b0_0656_4bcb_b58c_75734a2ad6e2",
            "ad2ef22c_f72b_49b9_becb_4d212737558d",
            "b114392e_3729_4835_8c71_4c16077bad84",
            "b2185d5a_37d4_4703_8953_22856c9f04cd",
            "b2f75740_de75_4a2d_a168_243404f63a7f",
            "bad34de4_aeaa_408b_baf1_9fc4abe2d71f",
            "bb16be5e_a08a_4cab_8e55_bbe1814282e7",
            "bbb9ec1d_6c57_42b3_b8a6_d26b56f4d85f",
            "bc90f102_8dbf_43a5_8258_df8816ff3813",
            "be4fe8f0_de84_4470_8ace_f42268be3dc7",
            "c0f823c9_267a_4f1c_aa81_0bde5ae54e07",
            "c118b4d7_f3e6_4812_9262_ad29ffd54d17",
            "c36eea17_ddf8_4525_90c0_976cb3d90c4c",
            "c4161e69_ad87_48d5_b7cc_065c0c71e55d",
            "c561d880_f43a_4626_aee0_4e4bcfb3d280",
            "c77d55b4_697c_4487_a36a_2717f43604dc",
            "cc6fa510_5ab5_4c02_bcd1_a60087842dde",
            "ce0e5f96_0dbf_4db5_8321_84491d1aa0f9",
            "ceed9740_53bc_41b4_ba74_cd6311c55e64",
            "cf785696_664f_4249_aff4_14c5522387e6",
            "d50fbd1d_72a3_4f1e_8d27_513fc1f7c0d5",
            "d734397b_0b5f_4f4f_a844_4136217037a4",
            "d8baa241_df08_4ec6_a10b_c34ca8f81b0b",
            "da8b3f22_f156_4410_b96a_66b0438086cb",
            "dbc23a28_250f_4967_92ca_583c44b2e912",
            "dd2914bd_cf1b_4d55_9438_dd3ee8266210",
            "dda62a6f_eb2a_47f5_b20f_faaee84df9dd",
            "de6a1742_7864_4496_8eb9_4c9b9db00d0b",
            "df4b8090_b8d6_463b_a4c3_2eca10d64f41",
            "dfb8ff56_c7a7_4d3f_ba5b_2374feb7be52",
            "e05e1c5c_45b4_4044_bfb9_3c8b0f49bf98",
            "e28ee52d_7a14_4163_bb03_13ce27778b40",
            "e777c567_724d_4725_a7e1_42599f4533e3",
            "e8449989_e073_468a_ab2a_10c376f2b4cf",
            "ea0c677a_2e24_4e28_8d2c_0d3de7a3b1be",
            "fbeda7fa_1d9d_47c6_bc32_8faf21a25732",
            "fc95b2b9_c26a_40a7_bc80_6515ba51429a",
            "fd110a5d_96b4_4df9_808d_4327e545d738",
            "fe2df390_0b9e_49b7_b7e6_6290d37c50c4",
            "030e72f4_4e97_47a9_bd7e_6a1433a76528",
            "0ea4aa4f_0228_4dae_afd1_5da948fdb5d7",
            "130a1dd7_4a2b_47bf_ad36_ca19f27c3236",
            "292069fc_b6da_492f_aaf6_258fb2ac3f46",
            "2cb1aa91_d358_4551_a667_7edb9917a185",
            "39b19d28_59a8_441e_a241_cfb902989edc",
            "4325430d_eaf6_4742_b9b1_25b580b8bf6d",
            "475e4abd_143c_43fe_bb45_b40c6c9d4500",
            "4a62ba89_9aed_4390_902b_2707ee8b9c74",
            "4bbc2b2b_0c0d_4312_bf7d_a81a3bc85a62",
            "58a27651_cd8b_4a68_b423_a6f8ece58a94",
            "5c754743_a7ef_4397_9daf_17a57cad9d20",
            "5df63319_c6ce_4a51_b145_09841a4fe6e2",
            "69d202a0_e748_4bf7_ae0a_6c52d3339b2d",
            "6ac095ab_36fc_40ea_8d9e_927fc1db6767",
            "6f648be2_6194_45f4_ad12_cc0c4a014c58",
            "77f66bf3_4b12_4406_a921_bc7adf8098d0",
            "8a0b61fd_28bf_45d7_88e1_47f8eec9a347",
            "8b604b37_aef4_4ad4_bcb8_5ec3e5c26deb",
            "a2e1d60e_6698_41dd_9ec4_27e7c5248cee",
            "a6efa18a_c19b_4e3b_8a48_0cbd3736b3ae",
            "aaaa015a_c1bc_4afb_8f1a_f65342045f07",
            "ac8c92ee_96bb_4354_bab7_205cf8973292",
            "b2f20353_3105_4781_8d66_8008adb780a4",
            "bd05ba9f_4563_4c9b_a787_d077b71dab36",
            "d1f111b9_0c46_4c87_9b45_e8cd3112bcf0",
            "d60c44c3_62fc_409a_a751_8b3ddeb9f197",
            "daa4ba03_ffb6_4ed6_ac5b_f726319f70c7",
            "e5c9b95d_45e1_45d3_acf5_214066dcf82c",
            "e6443122_74c4_49df_aeb7_7dc58eeed71e",
            "e8bdd3d0_c91d_4bd0_8d08_698aec3f3185",
            "f2362f57_7f87_452c_8d3b_b3e4e68b7ab5",
            "f2eacc3b_8b91_4e0f_83f0_5eb19cab173a",
            "f7208c91_5274_4391_b920_7f03b2acbfeb",
            "fa8f1a22_6c53_4141_a181_91c6dc0e344d",
            "fd037ec9_4f32_4c11_bd81_1ee9f25ea508",
            "089bc308_e5dc_426d_976d_0726a9e6179e",
            "0c139e30_412d_4331_a131_bd9d37082768",
            "0fd082e2_f627_4554_a2a4_2193534f63f1",
            "166e852b_0e15_4fa9_9a6c_a4fe3d04bf39",
            "16b768f0_5fb1_4db3_b506_d811b7c67738",
            "23836eea_1970_4516_b9f4_1aa0e25cc495",
            "2b6b38aa_3a20_4902_ab1a_cbbb3642416f",
            "5d20c616_c2d5_42ac_a66e_3b4cf552dffc",
            "61117f51_5699_4cb9_8ad3_966613d3553e",
            "77f7b769_34f6_44d0_a372_e35b8cc486f6",
            "7f58bcdb_a365_4a27_9295_b6d4fced9c0f",
            "8f6c04db_e033_40a6_a832_34311f8b6afe",
            "95f6ed28_7f93_41a9_8e01_e2b2a86b5256",
            "a392f1b0_0fc1_4721_af9d_846409414379",
            "cecb5e82_01d1_4d62_89c0_b2937eda6e2f",
            "dcc8c731_53e3_4f43_967b_5a1e02216bd8",
            "e1fa488d_7422_4605_b75f_44f79d5a3795",
            "eb69d32c_3aa1_40b1_8eae_be4122bf1dbc",
            "19177032_972a_44c8_9c58_611c59d5df31",
            "2189ab4c_d8f5_435a_94b1_c64c304edb60",
            "3a087c14_6ced_4af0_b9c5_f5d1f825912c",
            "3f566df3_7fa4_4416_aed0_2ba55e9a08b7",
            "513e3e0f_6155_433d_9d60_8c82ff0c2557",
            "5cbf9b60_918b_4233_a9a8_621aaebc1a51",
            "8909b642_116d_4eb4_8a41_87322ab1653e",
            "959a5f3c_b4a5_40c7_a2ce_ea1a0940779c",
            "a33d438e_c1b7_49ab_a0cd_48a3a87a9e48",
            "aa3c01a9_f83c_4445_b744_b58f3a7dbea1",
            "b36d10da_c435_4e4b_b6af_f00cba018c6d",
            "b83ab5c8_c885_4e2c_9914_69a9bfbdc4f3",
            "c2299119_099a_4303_a9a1_6558bdeb9c4d",
            "c4a521a3_b6fe_4114_bc16_ac119e9eb6af",
            "ebca65ca_f6d5_4a7f_a861_6659dca8935b",
            "fb220a7e_3082_44e9_929b_885001199fa5",
            "3c2f73b2_fd4f_4c94_b9a5_1c2b18165aea",
            "4d8495e0_c9be_43a1_8b87_9e53eedc4495",
            "71c8331a_b0ef_4586_8f80_6b9d1b267562",
            "05b18e56_48a1_4849_b3c0_693beb43bd53",
            "0653ab33_0059_4e34_a822_d9ed02a6a26a",
            "09dddf0d_4fa8_4fd2_8772_48c76c9f378c",
            "1dbe18bb_c8ed_4394_9e12_4e5bebfbf3b3",
            "2d018326_faf7_4e32_9e49_55403d2fd51d",
            "3041928a_2eb2_48aa_a124_0736ec019c4b",
            "31b2fc7d_9187_4724_818f_40d88a14e1f3",
            "57ba80ff_11b6_4547_a406_f54ae23f24d9",
            "58e9c3f3_0100_446a_b446_521ba738db46",
            "63aeb858_0500_4bda_a9fc_b7eaef4a4f8d",
            "67da0763_fcd4_4e68_85dd_3e3deac4f2ac",
            "714c7aa4_2e2e_45e3_966d_919072ce254a",
            "74bddb76_5062_4e8c_87f6_d049d86397cb",
            "82e325c3_eff2_4012_b199_75d98073af1b",
            "9b792f02_9cb0_43fe_b3e0_b1f39e463ec7",
            "9f896196_0154_43fe_9f28_f6dc7a352c02",
            "c3ff1399_c664_4d76_830f_a1307a6d2d64",
            "c8418cf8_ec06_436e_8e1e_b15e7b2523b5",
            "d4b6d6d5_a827_49b6_8498_988a82f6c716",
            "eb921c3a_2936_4634_9e61_e4e2a117b1ec",
            "b3c66a26_6ff1_4a6d_a82e_de299215db78",
            "c899e127_a02b_4ca1_bae6_35790b070c62",
            "089b6bc8_6957_4e6a_98e1_171c24e8cdb6",
            "09b6788a_37b5_4563_86cc_ae1f77ed4ffe",
            "5f139913_01eb_4da2_8d6b_d79f7162156f",
            "66ca8fbb_1c4a_4da0_83e9_682a105db0ce",
            "6c4e5c64_1042_4eca_a703_27a51e4283fe",
            "77ed01a5_11c3_4607_9bf8_342b947c88de",
            "7e3b7041_26bb_466f_b9a0_e3c52e6414be",
            "8325d4d1_e310_402b_bc3c_9597123825d3",
            "aec6ebfe_904c_4f06_862b_50b3370397b8",
            "bf13f789_bf37_4070_ad61_e3b9246e0871",
            "c1a6f74a_95fe_49fe_8b55_d78de51ff45c",
            "c837b3af_a98b_4ea3_bff6_9012504ff93e",
            "d02fc17a_bc46_4bd9_9c8c_cb2d83f47af7",
            "d85d789a_5df8_4035_8a2a_6c032aa6621d",
            "dde1cb7b_a95b_4cdb_bd67_3e2fcf5d1cab",
            "dfa98adb_093a_486a_a2da_523cb7294d4f",
            "f6093eec_4b82_4427_b4c7_4b09e62cff58",
            "fdc88ec8_8f4f_43c9_b62e_fc1d85ee3cfb",
            "0ab05234_ccb7_458f_8d73_dd1fab6088ed",
            "1f23b488_abad_41ae_9f8a_8d9ece97d9fa",
            "23a693e3_2b42_4bd7_bc53_3847aa51b82a",
            "26474aac_3036_42e8_860a_25bd407c888b",
            "295601bd_3f34_4c58_b123_cbbe98d31dcf",
            "2964fb41_5e2b_4a60_a250_4a28d05dbfad",
            "347c024a_9acb_4ab7_9dd3_5d5159baf824",
            "3ab9c8c6_a8f3_42c6_a190_b9044d6b89d2",
            "3fc34b0f_af75_4d94_aacb_92b267e476e5",
            "4af1813e_7d65_43f7_8c7f_69b8fb4d7440",
            "54d6551c_ee4b_48a2_9986_a9430348abc5",
            "65cbd31b_2385_4daa_b506_9027fc944bb2",
            "69cbc66e_e7a8_431a_a8e5_6a05bb68979e",
            "6f502ba0_77fb_43db_b6dc_48e68d5c822b",
            "81547325_5ce3_456a_8ea6_0265ce16bee5",
            "8397f972_46bc_4062_bbb5_294aa04990b0",
            "8a242263_7b12_44e1_bc5b_e2c5b9f72d31",
            "a93bff62_2589_4701_9a3f_03082706f111",
            "b19e4e8d_83b6_44a7_a91f_09dce277d2e7",
            "b4c8c12e_8a0e_4d59_b8ee_ff8c9c840d65",
            "bc190414_ee33_4aaa_9456_2add9808c47f",
            "bf51d136_df9b_4c4d_8a55_385c021361c8",
            "c677c507_5736_4c0c_9f9c_73c26567e379",
            "d2b8eedc_93ee_41d8_8a18_e7db4c93bb6c",
            "d7b4af7b_5874_426b_a014_995a9cc71b73",
            "d7f8743c_c785_4ca6_a094_a7503405722d",
            "da2b1313_1111_4e11_b033_97943f46c7f4",
            "eb788347_626f_4bfc_a658_135090dc27da",
            "edf90edb_3ef1_41e7_9ed6_7097803798f1",
            "f2d031bd_78ce_42e6_bf5f_9749855d7a44",
            "f826cb06_e2e5_45e4_92ef_49274e98f431",
            "01a1464a_0ff3_489b_92c0_0c4e150439dc",
            "01f9c23d_29d2_450d_ad4d_5f5ef965b4b0",
            "1c626054_c55f_4749_bf59_913ebeef5687",
            "27718d38_38cc_4654_a19e_c2451d186176",
            "2e3fb64b_4ceb_40ff_b19d_17c1836f8c37",
            "5889cad4_b62d_43d0_9c82_fc18bb1bd7bc",
            "6a172353_cb12_4b12_80b6_c8649f46a399",
            "720e338b_e716_4fc4_b3d0_0d5365810248",
            "74380a4f_8711_4ec3_a998_89ea73bb79ef",
            "8505af9f_fbfe_4c4c_8f65_afde6917e35d",
            "9964a810_f5c5_44a5_bcbf_67697acc3987",
            "9b817310_cf85_44bf_bade_f23a09f219f5",
            "a77c6752_5d77_4c68_9276_c140dce06bd8",
            "e53e4237_11e5_4540_a661_6fb6c56175b3",
            "e81c7a56_d6f0_4b0d_85b8_69f4b08429e6",
            "eb1f4b29_8cf0_4cf6_98f5_6207bae38b36",
            "ec850878_cdbc_493f_8562_544b1dcffeea",
            "f71aaa70_ce0f_4bc0_9e80_611080a253b3",
            "03fc6876_5d4b_4fe8_9d08_7599f9b1a3df",
            "09a1a9e0_ddaf_4765_96a2_484537d19e7d",
            "0ace4d2f_11d3_49f0_a61a_2f839ae3208e",
            "141b6d3e_2aaf_4872_81b2_e5be3e5e3b66",
            "1e63f54b_2119_42b8_873b_ca707e8fe211",
            "324eb1fb_0c49_45ce_8628_e780b84964aa",
            "33427c2b_0bb6_4b75_8920_9a97cbb06098",
            "3dfa2bab_f8f2_485b_80e9_5afdeeac9dc4",
            "4e1f9452_b52f_4ce1_a36f_e8a5cc8c3a5d",
            "54ba0cea_8d18_4610_be10_532f8c8387bd",
            "739adc20_34e1_4542_a2cd_aaf481d57eae",
            "8f7f7acf_ffa1_45ff_a868_8ae19ebabe53",
            "9c7ff2af_653e_47b8_ad1a_759e364696e5",
            "a8c6ed3c_1fe1_4c65_b523_520d456cd9e9",
            "c157e611_6cf7_4e6b_a439_e002fdec0c22",
            "d4aa2eb2_311a_49c3_a847_fa95d7534a7b",
            "de1ac5f7_b183_4311_a388_ceca474f1b3b",
            "f9833afd_e8a3_437b_9031_f29b656c94f9",
            "cb112b79_28b7_4e1b_8be4_799f336f3c57",
            "3624bd6d_337e_4b72_ba60_2233f1c1137f",
            "403284aa_1546_4528_98e3_afea0df2cd05",
            "4117d845_cd0d_4759_97b0_bd4ab87c595a",
            "5af5135d_0075_4e72_bcf7_3fca4c26fab0",
            "894ffb99_daa6_4436_ab8f_4d95f7a8af5e",
            "a1be7214_6b91_4243_8dd5_df8e81591ffe",
            "b39cc41e_1c39_4d96_a72f_a4dbda7e81c4",
            "be6f602f_e7d7_4a46_ba50_7ef7fba0d76e",
            "e593c243_6b87_446d_8b40_aac10607dbbe",
            "ffdb52d3_f6f9_4b2d_96f4_3b9e3ee0600a",
            "73700c2d_cc14_4743_a2a3_b1cfe2eb032b",
            "acefc08d_7a4e_4988_8da4_015ca6626ebe",
            "e022d248_71dc_4142_a4af_01f2eff3360b",
            "514574d1_8dd8_4b4a_abab_d992dc5ee7e3",
            "ad9c8664_0433_4c65_a57c_a1a5a969b112",
            "bb34ad66_61ef_4964_bcb2_d37fe05f79a3"
           ]
          ]
         },
         "domain": {
          "x": [
           0,
           1
          ],
          "y": [
           0.35,
           0.6499999999999999
          ]
         },
         "header": {
          "align": "left",
          "font": {
           "size": 10
          },
          "values": [
           "Brick Class",
           "Stream ID"
          ]
         },
         "type": "table"
        },
        {
         "cells": {
          "align": "left",
          "values": [
           [
            "Angle_Sensor",
            "Angle_Sensor",
            "Angle_Sensor",
            "Current_Sensor",
            "Current_Sensor",
            "Current_Sensor",
            "Current_Sensor",
            "Current_Sensor",
            "Current_Sensor",
            "Current_Sensor",
            "Current_Sensor",
            "Current_Sensor",
            "Current_Sensor",
            "Current_Sensor",
            "Current_Sensor",
            "Current_Sensor",
            "Current_Sensor",
            "Current_Sensor",
            "Current_Sensor",
            "Current_Sensor",
            "Current_Sensor",
            "Current_Sensor",
            "Current_Sensor",
            "Current_Sensor",
            "Current_Sensor",
            "Current_Sensor",
            "Electrical_Energy_Sensor",
            "Electrical_Energy_Sensor",
            "Electrical_Energy_Sensor",
            "Electrical_Energy_Sensor",
            "Electrical_Energy_Sensor",
            "Electrical_Energy_Sensor",
            "Electrical_Energy_Sensor",
            "Electrical_Energy_Sensor",
            "Electrical_Energy_Sensor",
            "Electrical_Energy_Sensor",
            "Electrical_Energy_Sensor",
            "Electrical_Energy_Sensor",
            "Electrical_Energy_Sensor",
            "Electrical_Energy_Sensor",
            "Electrical_Energy_Sensor",
            "Electrical_Energy_Sensor",
            "Electrical_Energy_Sensor",
            "Electrical_Power_Sensor",
            "Electrical_Power_Sensor",
            "Electrical_Power_Sensor",
            "Electrical_Power_Sensor",
            "Electrical_Power_Sensor",
            "Electrical_Power_Sensor",
            "Electrical_Power_Sensor",
            "Electrical_Power_Sensor",
            "Electrical_Power_Sensor",
            "Electrical_Power_Sensor",
            "Electrical_Power_Sensor",
            "Electrical_Power_Sensor",
            "Electrical_Power_Sensor",
            "Electrical_Power_Sensor",
            "Electrical_Power_Sensor",
            "Electrical_Power_Sensor",
            "Electrical_Power_Sensor",
            "Electrical_Power_Sensor",
            "Electrical_Power_Sensor",
            "Electrical_Power_Sensor",
            "Electrical_Power_Sensor",
            "Electrical_Power_Sensor",
            "Electrical_Power_Sensor",
            "Electrical_Power_Sensor",
            "Electrical_Power_Sensor",
            "Electrical_Power_Sensor",
            "Electrical_Power_Sensor",
            "Electrical_Power_Sensor",
            "Electrical_Power_Sensor",
            "Electrical_Power_Sensor",
            "Electrical_Power_Sensor",
            "Electrical_Power_Sensor",
            "Electrical_Power_Sensor",
            "Electrical_Power_Sensor",
            "Electrical_Power_Sensor",
            "Electrical_Power_Sensor",
            "Electrical_Power_Sensor",
            "Electrical_Power_Sensor",
            "Electrical_Power_Sensor",
            "Voltage_Sensor",
            "Voltage_Sensor",
            "Voltage_Sensor",
            "Voltage_Sensor",
            "Voltage_Sensor",
            "Voltage_Sensor",
            "Voltage_Sensor",
            "Voltage_Sensor",
            "Voltage_Sensor",
            "Voltage_Sensor",
            "Voltage_Sensor",
            "Voltage_Sensor",
            "Voltage_Sensor",
            "Voltage_Sensor",
            "Voltage_Sensor",
            "Voltage_Sensor",
            "Voltage_Sensor",
            "Voltage_Sensor",
            "Voltage_Sensor",
            "Voltage_Sensor",
            "Voltage_Sensor",
            "Voltage_Sensor",
            "Voltage_Sensor",
            "Voltage_Sensor",
            "Voltage_Sensor",
            "Voltage_Sensor",
            "Voltage_Sensor",
            "Voltage_Sensor",
            "Voltage_Sensor",
            "Voltage_Sensor",
            "Voltage_Sensor",
            "Voltage_Sensor",
            "Voltage_Sensor",
            "b1a78aa6_d50d_4c0a_920e_5ff7019ab663_Sensor",
            "b1a78aa6_d50d_4c0a_920e_5ff7019ab663_Sensor",
            "b1a78aa6_d50d_4c0a_920e_5ff7019ab663_Sensor",
            "b1a78aa6_d50d_4c0a_920e_5ff7019ab663_Sensor",
            "b1a78aa6_d50d_4c0a_920e_5ff7019ab663_Sensor",
            "b1a78aa6_d50d_4c0a_920e_5ff7019ab663_Sensor"
           ],
           [
            "9c9c5d83_ba16_4b45_826d_071e226ebbe8",
            "b52d78be_742a_4a1e_a6b4_498de7cca709",
            "d5156069_91d0_468f_bbf7_96070b4325cd",
            "02e608c1_09fe_48be_91dc_1419d6bc1fa7",
            "08b1cc70_e437_43e2_b961_9eb2e1e7cf28",
            "0c2ce5e2_3858_4303_8e11_7e2080c187c2",
            "2d82b574_ab1b_4d96_871a_5b71f6f3d262",
            "312ebcd7_5181_4557_9faa_de06a5e0c2a4",
            "477165cc_20e8_4fcb_a477_837eb0f4310e",
            "5b8427ad_9c88_482c_83c0_f9df3c20f460",
            "7ea4c937_94bc_413c_b087_4b3232772add",
            "882a51a7_8902_444f_bba6_71f2d5cead3f",
            "a64ec55d_eda3_46e8_bad7_90fe1c03f816",
            "aa2f7338_7edd_4500_ae39_601427c0c341",
            "aba34360_b41c_4c78_9a09_c112ae524537",
            "ba07cfd8_6558_45a1_9761_feb877307b76",
            "bdce4a94_9990_4ddd_8b9e_33d253a4da42",
            "c3701971_ae21_442b_b93a_d82d47af13a2",
            "c3de85f6_91b7_4cff_be64_3d0723e1d4b1",
            "cee6f002_0277_4f56_9636_c4b91fd57570",
            "e8f98951_e060_40c2_83a6_9d3239c464a4",
            "e91a32ca_1683_4228_9218_298a8e358f11",
            "eb9ea1fb_e0f8_4e3f_9034_91c40d8d730f",
            "f104dcf4_694e_4507_9c99_db25e7a63e9e",
            "f3628673_839d_4681_9a34_b6374951908f",
            "f415083c_0e4a_4ca0_bc69_61b59324e1e0",
            "1afde7d7_004d_41c5_89b2_ede5967e4807",
            "2fd4569b_a084_4e5a_9898_0d8801310fb6",
            "40697530_1df5_47dd_ae18_89c4aaa2a8fd",
            "52333345_fda6_498a_a5eb_8c9becf3996b",
            "5e176e58_f776_46e9_8e5d_d88c5e0b718c",
            "6cbc6276_6433_4918_8547_b2409e95a527",
            "7501ddac_f570_469a_86f6_071737d419e7",
            "853a7557_bcaf_468c_9f25_6d1ae28a0de6",
            "8f40de4d_72a0_4dc9_b757_9b32f62cb3fe",
            "9ad43890_1083_47db_8d1f_60a37a0f139a",
            "9ff52a4f_128b_4c44_86b3_4fa1d029506e",
            "a77ec80b_9fd3_4ac9_a227_d9c11b01f0de",
            "b4ddffb2_3f89_4e54_a67d_b9b67dc2120c",
            "d8449728_9f2d_469b_973b_2a5fa2b7d0c0",
            "d9e781e0_1de1_46f9_8b93_3865860c9049",
            "e71b8d64_7691_4826_9f6b_8e1c8f396482",
            "fe28339c_e17d_4a5c_ad7c_e056f42a644d",
            "10002612_fe3c_450b_9bf7_ba516e331361",
            "1043c1cf_c88e_4559_9fba_3edce44a1e09",
            "12f70f76_a4e7_4ca9_a3bb_7178197baa17",
            "1a5494eb_f54d_4a30_85f1_7112e3c3b4a8",
            "202cf2c0_356e_4a2a_9f30_6cb1e06bd638",
            "27b478b7_9326_4665_a148_06b3e62a6f45",
            "27b6662b_9497_466e_a2cf_88c0716d04f3",
            "3010a24a_2deb_43c8_9db4_cfc94c5faa5c",
            "4a15eb2a_0ad2_49ea_91da_47f66e46a794",
            "4b57752b_3f1b_4e5e_b7b9_827fbdb8294b",
            "4fcfdb9e_838e_4026_a388_be52090be2ba",
            "519c0d4d_0cef_4bc0_848e_4d8cd26f7709",
            "64541acc_3244_481e_9142_a06be610c28e",
            "65116d40_8e7c_4a61_9dd0_c9d797504140",
            "6f844326_c153_4231_86d7_a801b524b5f3",
            "7da0d8bf_05c0_4213_bd5d_3356917ad67d",
            "87677553_3917_452b_8647_6d912927f558",
            "88f33bdd_5e78_48b1_b8e4_7ee6b358ea35",
            "8a3270ca_af93_48ee_be19_c1addf3df25a",
            "969923d8_06fc_4a23_9559_0504ccee997a",
            "9781fd19_d1e3_4dbb_87f2_8b4e34332f7a",
            "9ccc1290_a8dd_43c1_9d8d_349042fb27df",
            "a01c1a36_da2b_4de0_8903_1b4b338360f8",
            "a38727ba_c15c_4f20_97f4_c8bbabaa8583",
            "b537c4ee_9ab9_49af_a73b_70fa6e3b6055",
            "b81a35cd_3b10_4f4d_a622_b47097752a01",
            "bb86923b_2f22_4aaa_b50f_7aa162635eba",
            "c23628e1_3be4_4e95_8fe4_549e4818c2cd",
            "c698af17_1a9f_493d_a24e_add7ce859f54",
            "cd3cdc47_969f_462b_ab08_db21e7e024a0",
            "d105b80b_8f6f_4786_959c_b1efc8a293ed",
            "d2c45bbe_f5fa_4104_9aa3_fc080e27a112",
            "d40fdd3a_ee77_485c_9c4f_7f074900c1fe",
            "d54ce31c_50ff_4915_af0f_5694a9e3aade",
            "d729c013_210c_4aba_8539_ee5c33fefc54",
            "f79b2095_a259_4f04_9a80_9e4e5380016f",
            "fc0fbb7a_fcd3_4d8d_948f_2e0737f06aab",
            "fd91b406_f358_4786_89cd_23ff63effa48",
            "ff903ff1_5b5d_41c3_ab72_75b49c9df39b",
            "0a7d2a43_da4b_4f50_a2b8_eea1f96e92ec",
            "10eba71f_8208_40be_961d_1a25936fa4b3",
            "1796b1b3_9ace_4813_8827_08337a5042ee",
            "1984eb96_4be4_4128_a425_7e5abcfd7bad",
            "1c63d045_3464_4f45_be94_f87bf6e17490",
            "1e2dde80_ea56_471a_904d_d98aa2b9aa09",
            "2b8a66e5_2f10_4a44_99cd_0e76b87fd132",
            "30fafb3d_ba46_41d4_99e9_068342c65855",
            "43bd8860_c945_4ed0_90d4_8aa83fae24eb",
            "54bfe9e4_7e0f_484e_8a37_67f5915f3fc8",
            "5964e4e1_37e7_4d1f_a5e4_a3342d9ed416",
            "60a76402_fb41_4cc0_a8e9_97b6a5a14ba1",
            "6392641d_d6f9_4ca5_9a5f_d30e7b591c98",
            "6dbec550_bd5e_46f8_bbf0_5da86e213c82",
            "782ff5fd_e9ba_42d7_b05a_e9fb4cbddc13",
            "7891ea90_dc17_4bc8_af18_bb0b14ae4a7d",
            "7e33c99c_8244_41d7_b5f5_35c03eb78aee",
            "84822083_c421_4c60_b4e3_e5c762a6a8d3",
            "8be7fb20_8d4b_410c_b580_a9f0a0b0c917",
            "9ba9f84b_f91b_4168_861f_74c448dacb94",
            "9d57ea25_0f35_4dc4_91bc_ceda320bdbfd",
            "a381ff86_c182_47dd_a6f6_921248304381",
            "b0b973e8_98cc_4adf_b1d1_774d2314512d",
            "b9c0dfe7_4cd7_43a4_b21d_bc514cec2087",
            "bb33fa6b_6a82_4a3e_92a8_3b744363257a",
            "bcef6619_a7cd_4b26_92c6_f78b58fb7cbf",
            "c3cddcba_d5c1_4d3e_9242_74ba9f45b254",
            "da89eadb_5d68_4aca_bc75_92b99436f2d0",
            "db7e08e4_50fd_4a34_84d6_f8191b598f60",
            "e25db03d_202d_4d9f_a0b5_6f65f4ed8e40",
            "e3356164_f7ce_43f9_ac97_541790b24f1e",
            "ed75b4a7_337a_4103_8a60_95d35fe356f9",
            "ef1a387b_7a14_445d_b394_e7e3eef16ef8",
            "1b17847c_ff17_43a3_8a01_3ee94f638cb7",
            "41c056b3_0532_45b6_8c5f_afa3fa8784b5",
            "62380d5c_9694_48aa_9808_106ac346ca86",
            "8b8c990a_7908_4ce5_9b07_9b0f08fb4769",
            "d5f1b4a1_9025_46c8_b04f_898d578aaef3",
            "e9c71c58_0047_4611_a978_e8ee77a85417"
           ],
           [
            "DEG",
            "DEG",
            "DEG",
            "A",
            "A",
            "A",
            "A",
            "A",
            "A",
            "A",
            "A",
            "A",
            "A",
            "A",
            "A",
            "A",
            "A",
            "A",
            "A",
            "A",
            "A",
            "A",
            "A",
            "A",
            "A",
            "A",
            "KiloV-A_Reactive",
            "KiloW-HR",
            "KiloW-HR",
            "KiloV-A_Reactive",
            "KiloW-HR",
            "KiloV-A_Reactive",
            "KiloW-HR",
            "KiloW-HR",
            "KiloW-HR",
            "KiloW-HR",
            "KiloW-HR",
            "KiloV-A_Reactive",
            "KiloW-HR",
            "KiloW-HR",
            "KiloV-A_Reactive",
            "KiloW-HR",
            "KiloW-HR",
            "KiloW",
            "KiloW",
            "KiloV-A",
            "KiloW",
            "KiloW",
            "KiloW",
            "KiloV-A",
            "KiloV-A_Reactive",
            "KiloW",
            "KiloV-A_Reactive",
            "KiloW",
            "KiloW",
            "KiloW",
            "KiloW",
            "KiloW",
            "KiloW",
            "KiloW",
            "KiloW",
            "KiloV-A",
            "KiloV-A_Reactive",
            "KiloW",
            "KiloV-A",
            "KiloW",
            "KiloV-A_Reactive",
            "KiloW",
            "KiloV-A_Reactive",
            "KiloV-A_Reactive",
            "KiloW",
            "KiloW",
            "KiloW",
            "KiloV-A",
            "KiloV-A_Reactive",
            "KiloV-A",
            "KiloW",
            "KiloW",
            "KiloV-A_Reactive",
            "KiloW",
            "KiloV-A",
            "KiloV-A",
            "V",
            "V",
            "V",
            "V",
            "V",
            "V",
            "V",
            "V",
            "V",
            "V",
            "V",
            "V",
            "V",
            "V",
            "V",
            "V",
            "V",
            "V",
            "V",
            "V",
            "V",
            "V",
            "V",
            "V",
            "V",
            "V",
            "V",
            "V",
            "V",
            "V",
            "V",
            "V",
            "V",
            "HZ",
            "HZ",
            "HZ",
            "HZ",
            "HZ",
            "HZ"
           ]
          ]
         },
         "domain": {
          "x": [
           0,
           1
          ],
          "y": [
           0,
           0.3
          ]
         },
         "header": {
          "align": "left",
          "font": {
           "size": 10
          },
          "values": [
           "Brick Class",
           "Stream ID",
           "Units"
          ]
         },
         "type": "table"
        }
       ],
       "layout": {
        "annotations": [
         {
          "font": {
           "size": 16
          },
          "showarrow": false,
          "text": "Proportion of Streams with Units",
          "x": 0.225,
          "xanchor": "center",
          "xref": "paper",
          "y": 1,
          "yanchor": "bottom",
          "yref": "paper"
         },
         {
          "font": {
           "size": 16
          },
          "showarrow": false,
          "text": "Units that are Machine Readable",
          "x": 0.775,
          "xanchor": "center",
          "xref": "paper",
          "y": 1,
          "yanchor": "bottom",
          "yref": "paper"
         },
         {
          "font": {
           "size": 16
          },
          "showarrow": false,
          "text": "Streams without Units",
          "x": 0.5,
          "xanchor": "center",
          "xref": "paper",
          "y": 0.6499999999999999,
          "yanchor": "bottom",
          "yref": "paper"
         },
         {
          "font": {
           "size": 16
          },
          "showarrow": false,
          "text": "Streams with Non-Machine Readable Units",
          "x": 0.5,
          "xanchor": "center",
          "xref": "paper",
          "y": 0.3,
          "yanchor": "bottom",
          "yref": "paper"
         }
        ],
        "height": 1200,
        "showlegend": false,
        "template": {
         "data": {
          "bar": [
           {
            "error_x": {
             "color": "#2a3f5f"
            },
            "error_y": {
             "color": "#2a3f5f"
            },
            "marker": {
             "line": {
              "color": "#E5ECF6",
              "width": 0.5
             },
             "pattern": {
              "fillmode": "overlay",
              "size": 10,
              "solidity": 0.2
             }
            },
            "type": "bar"
           }
          ],
          "barpolar": [
           {
            "marker": {
             "line": {
              "color": "#E5ECF6",
              "width": 0.5
             },
             "pattern": {
              "fillmode": "overlay",
              "size": 10,
              "solidity": 0.2
             }
            },
            "type": "barpolar"
           }
          ],
          "carpet": [
           {
            "aaxis": {
             "endlinecolor": "#2a3f5f",
             "gridcolor": "white",
             "linecolor": "white",
             "minorgridcolor": "white",
             "startlinecolor": "#2a3f5f"
            },
            "baxis": {
             "endlinecolor": "#2a3f5f",
             "gridcolor": "white",
             "linecolor": "white",
             "minorgridcolor": "white",
             "startlinecolor": "#2a3f5f"
            },
            "type": "carpet"
           }
          ],
          "choropleth": [
           {
            "colorbar": {
             "outlinewidth": 0,
             "ticks": ""
            },
            "type": "choropleth"
           }
          ],
          "contour": [
           {
            "colorbar": {
             "outlinewidth": 0,
             "ticks": ""
            },
            "colorscale": [
             [
              0,
              "#0d0887"
             ],
             [
              0.1111111111111111,
              "#46039f"
             ],
             [
              0.2222222222222222,
              "#7201a8"
             ],
             [
              0.3333333333333333,
              "#9c179e"
             ],
             [
              0.4444444444444444,
              "#bd3786"
             ],
             [
              0.5555555555555556,
              "#d8576b"
             ],
             [
              0.6666666666666666,
              "#ed7953"
             ],
             [
              0.7777777777777778,
              "#fb9f3a"
             ],
             [
              0.8888888888888888,
              "#fdca26"
             ],
             [
              1,
              "#f0f921"
             ]
            ],
            "type": "contour"
           }
          ],
          "contourcarpet": [
           {
            "colorbar": {
             "outlinewidth": 0,
             "ticks": ""
            },
            "type": "contourcarpet"
           }
          ],
          "heatmap": [
           {
            "colorbar": {
             "outlinewidth": 0,
             "ticks": ""
            },
            "colorscale": [
             [
              0,
              "#0d0887"
             ],
             [
              0.1111111111111111,
              "#46039f"
             ],
             [
              0.2222222222222222,
              "#7201a8"
             ],
             [
              0.3333333333333333,
              "#9c179e"
             ],
             [
              0.4444444444444444,
              "#bd3786"
             ],
             [
              0.5555555555555556,
              "#d8576b"
             ],
             [
              0.6666666666666666,
              "#ed7953"
             ],
             [
              0.7777777777777778,
              "#fb9f3a"
             ],
             [
              0.8888888888888888,
              "#fdca26"
             ],
             [
              1,
              "#f0f921"
             ]
            ],
            "type": "heatmap"
           }
          ],
          "heatmapgl": [
           {
            "colorbar": {
             "outlinewidth": 0,
             "ticks": ""
            },
            "colorscale": [
             [
              0,
              "#0d0887"
             ],
             [
              0.1111111111111111,
              "#46039f"
             ],
             [
              0.2222222222222222,
              "#7201a8"
             ],
             [
              0.3333333333333333,
              "#9c179e"
             ],
             [
              0.4444444444444444,
              "#bd3786"
             ],
             [
              0.5555555555555556,
              "#d8576b"
             ],
             [
              0.6666666666666666,
              "#ed7953"
             ],
             [
              0.7777777777777778,
              "#fb9f3a"
             ],
             [
              0.8888888888888888,
              "#fdca26"
             ],
             [
              1,
              "#f0f921"
             ]
            ],
            "type": "heatmapgl"
           }
          ],
          "histogram": [
           {
            "marker": {
             "pattern": {
              "fillmode": "overlay",
              "size": 10,
              "solidity": 0.2
             }
            },
            "type": "histogram"
           }
          ],
          "histogram2d": [
           {
            "colorbar": {
             "outlinewidth": 0,
             "ticks": ""
            },
            "colorscale": [
             [
              0,
              "#0d0887"
             ],
             [
              0.1111111111111111,
              "#46039f"
             ],
             [
              0.2222222222222222,
              "#7201a8"
             ],
             [
              0.3333333333333333,
              "#9c179e"
             ],
             [
              0.4444444444444444,
              "#bd3786"
             ],
             [
              0.5555555555555556,
              "#d8576b"
             ],
             [
              0.6666666666666666,
              "#ed7953"
             ],
             [
              0.7777777777777778,
              "#fb9f3a"
             ],
             [
              0.8888888888888888,
              "#fdca26"
             ],
             [
              1,
              "#f0f921"
             ]
            ],
            "type": "histogram2d"
           }
          ],
          "histogram2dcontour": [
           {
            "colorbar": {
             "outlinewidth": 0,
             "ticks": ""
            },
            "colorscale": [
             [
              0,
              "#0d0887"
             ],
             [
              0.1111111111111111,
              "#46039f"
             ],
             [
              0.2222222222222222,
              "#7201a8"
             ],
             [
              0.3333333333333333,
              "#9c179e"
             ],
             [
              0.4444444444444444,
              "#bd3786"
             ],
             [
              0.5555555555555556,
              "#d8576b"
             ],
             [
              0.6666666666666666,
              "#ed7953"
             ],
             [
              0.7777777777777778,
              "#fb9f3a"
             ],
             [
              0.8888888888888888,
              "#fdca26"
             ],
             [
              1,
              "#f0f921"
             ]
            ],
            "type": "histogram2dcontour"
           }
          ],
          "mesh3d": [
           {
            "colorbar": {
             "outlinewidth": 0,
             "ticks": ""
            },
            "type": "mesh3d"
           }
          ],
          "parcoords": [
           {
            "line": {
             "colorbar": {
              "outlinewidth": 0,
              "ticks": ""
             }
            },
            "type": "parcoords"
           }
          ],
          "pie": [
           {
            "automargin": true,
            "type": "pie"
           }
          ],
          "scatter": [
           {
            "fillpattern": {
             "fillmode": "overlay",
             "size": 10,
             "solidity": 0.2
            },
            "type": "scatter"
           }
          ],
          "scatter3d": [
           {
            "line": {
             "colorbar": {
              "outlinewidth": 0,
              "ticks": ""
             }
            },
            "marker": {
             "colorbar": {
              "outlinewidth": 0,
              "ticks": ""
             }
            },
            "type": "scatter3d"
           }
          ],
          "scattercarpet": [
           {
            "marker": {
             "colorbar": {
              "outlinewidth": 0,
              "ticks": ""
             }
            },
            "type": "scattercarpet"
           }
          ],
          "scattergeo": [
           {
            "marker": {
             "colorbar": {
              "outlinewidth": 0,
              "ticks": ""
             }
            },
            "type": "scattergeo"
           }
          ],
          "scattergl": [
           {
            "marker": {
             "colorbar": {
              "outlinewidth": 0,
              "ticks": ""
             }
            },
            "type": "scattergl"
           }
          ],
          "scattermapbox": [
           {
            "marker": {
             "colorbar": {
              "outlinewidth": 0,
              "ticks": ""
             }
            },
            "type": "scattermapbox"
           }
          ],
          "scatterpolar": [
           {
            "marker": {
             "colorbar": {
              "outlinewidth": 0,
              "ticks": ""
             }
            },
            "type": "scatterpolar"
           }
          ],
          "scatterpolargl": [
           {
            "marker": {
             "colorbar": {
              "outlinewidth": 0,
              "ticks": ""
             }
            },
            "type": "scatterpolargl"
           }
          ],
          "scatterternary": [
           {
            "marker": {
             "colorbar": {
              "outlinewidth": 0,
              "ticks": ""
             }
            },
            "type": "scatterternary"
           }
          ],
          "surface": [
           {
            "colorbar": {
             "outlinewidth": 0,
             "ticks": ""
            },
            "colorscale": [
             [
              0,
              "#0d0887"
             ],
             [
              0.1111111111111111,
              "#46039f"
             ],
             [
              0.2222222222222222,
              "#7201a8"
             ],
             [
              0.3333333333333333,
              "#9c179e"
             ],
             [
              0.4444444444444444,
              "#bd3786"
             ],
             [
              0.5555555555555556,
              "#d8576b"
             ],
             [
              0.6666666666666666,
              "#ed7953"
             ],
             [
              0.7777777777777778,
              "#fb9f3a"
             ],
             [
              0.8888888888888888,
              "#fdca26"
             ],
             [
              1,
              "#f0f921"
             ]
            ],
            "type": "surface"
           }
          ],
          "table": [
           {
            "cells": {
             "fill": {
              "color": "#EBF0F8"
             },
             "line": {
              "color": "white"
             }
            },
            "header": {
             "fill": {
              "color": "#C8D4E3"
             },
             "line": {
              "color": "white"
             }
            },
            "type": "table"
           }
          ]
         },
         "layout": {
          "annotationdefaults": {
           "arrowcolor": "#2a3f5f",
           "arrowhead": 0,
           "arrowwidth": 1
          },
          "autotypenumbers": "strict",
          "coloraxis": {
           "colorbar": {
            "outlinewidth": 0,
            "ticks": ""
           }
          },
          "colorscale": {
           "diverging": [
            [
             0,
             "#8e0152"
            ],
            [
             0.1,
             "#c51b7d"
            ],
            [
             0.2,
             "#de77ae"
            ],
            [
             0.3,
             "#f1b6da"
            ],
            [
             0.4,
             "#fde0ef"
            ],
            [
             0.5,
             "#f7f7f7"
            ],
            [
             0.6,
             "#e6f5d0"
            ],
            [
             0.7,
             "#b8e186"
            ],
            [
             0.8,
             "#7fbc41"
            ],
            [
             0.9,
             "#4d9221"
            ],
            [
             1,
             "#276419"
            ]
           ],
           "sequential": [
            [
             0,
             "#0d0887"
            ],
            [
             0.1111111111111111,
             "#46039f"
            ],
            [
             0.2222222222222222,
             "#7201a8"
            ],
            [
             0.3333333333333333,
             "#9c179e"
            ],
            [
             0.4444444444444444,
             "#bd3786"
            ],
            [
             0.5555555555555556,
             "#d8576b"
            ],
            [
             0.6666666666666666,
             "#ed7953"
            ],
            [
             0.7777777777777778,
             "#fb9f3a"
            ],
            [
             0.8888888888888888,
             "#fdca26"
            ],
            [
             1,
             "#f0f921"
            ]
           ],
           "sequentialminus": [
            [
             0,
             "#0d0887"
            ],
            [
             0.1111111111111111,
             "#46039f"
            ],
            [
             0.2222222222222222,
             "#7201a8"
            ],
            [
             0.3333333333333333,
             "#9c179e"
            ],
            [
             0.4444444444444444,
             "#bd3786"
            ],
            [
             0.5555555555555556,
             "#d8576b"
            ],
            [
             0.6666666666666666,
             "#ed7953"
            ],
            [
             0.7777777777777778,
             "#fb9f3a"
            ],
            [
             0.8888888888888888,
             "#fdca26"
            ],
            [
             1,
             "#f0f921"
            ]
           ]
          },
          "colorway": [
           "#636efa",
           "#EF553B",
           "#00cc96",
           "#ab63fa",
           "#FFA15A",
           "#19d3f3",
           "#FF6692",
           "#B6E880",
           "#FF97FF",
           "#FECB52"
          ],
          "font": {
           "color": "#2a3f5f"
          },
          "geo": {
           "bgcolor": "white",
           "lakecolor": "white",
           "landcolor": "#E5ECF6",
           "showlakes": true,
           "showland": true,
           "subunitcolor": "white"
          },
          "hoverlabel": {
           "align": "left"
          },
          "hovermode": "closest",
          "mapbox": {
           "style": "light"
          },
          "paper_bgcolor": "white",
          "plot_bgcolor": "#E5ECF6",
          "polar": {
           "angularaxis": {
            "gridcolor": "white",
            "linecolor": "white",
            "ticks": ""
           },
           "bgcolor": "#E5ECF6",
           "radialaxis": {
            "gridcolor": "white",
            "linecolor": "white",
            "ticks": ""
           }
          },
          "scene": {
           "xaxis": {
            "backgroundcolor": "#E5ECF6",
            "gridcolor": "white",
            "gridwidth": 2,
            "linecolor": "white",
            "showbackground": true,
            "ticks": "",
            "zerolinecolor": "white"
           },
           "yaxis": {
            "backgroundcolor": "#E5ECF6",
            "gridcolor": "white",
            "gridwidth": 2,
            "linecolor": "white",
            "showbackground": true,
            "ticks": "",
            "zerolinecolor": "white"
           },
           "zaxis": {
            "backgroundcolor": "#E5ECF6",
            "gridcolor": "white",
            "gridwidth": 2,
            "linecolor": "white",
            "showbackground": true,
            "ticks": "",
            "zerolinecolor": "white"
           }
          },
          "shapedefaults": {
           "line": {
            "color": "#2a3f5f"
           }
          },
          "ternary": {
           "aaxis": {
            "gridcolor": "white",
            "linecolor": "white",
            "ticks": ""
           },
           "baxis": {
            "gridcolor": "white",
            "linecolor": "white",
            "ticks": ""
           },
           "bgcolor": "#E5ECF6",
           "caxis": {
            "gridcolor": "white",
            "linecolor": "white",
            "ticks": ""
           }
          },
          "title": {
           "x": 0.05
          },
          "xaxis": {
           "automargin": true,
           "gridcolor": "white",
           "linecolor": "white",
           "ticks": "",
           "title": {
            "standoff": 15
           },
           "zerolinecolor": "white",
           "zerolinewidth": 2
          },
          "yaxis": {
           "automargin": true,
           "gridcolor": "white",
           "linecolor": "white",
           "ticks": "",
           "title": {
            "standoff": 15
           },
           "zerolinecolor": "white",
           "zerolinewidth": 2
          }
         }
        },
        "title": {
         "text": "Data Sources in Building Model with Associated Units",
         "x": 0.5
        }
       }
      }
     },
     "metadata": {},
     "output_type": "display_data"
    }
   ],
   "source": [
    "fig = make_subplots(\n",
    "    rows=3, cols=2,\n",
    "    vertical_spacing=0.05,\n",
    "    subplot_titles = ['Proportion of Streams with Units', 'Units that are Machine Readable', 'Streams without Units', 'Streams with Non-Machine Readable Units'],\n",
    "    specs=[[{\"type\": \"pie\"}, {\"type\": \"pie\"}],\n",
    "           [{\"type\": \"table\", 'colspan': 2}, None],\n",
    "           [{\"type\": \"table\", 'colspan': 2}, None]]\n",
    ")\n",
    "\n",
    "fig.add_trace(\n",
    "    go.Pie(\n",
    "        labels=number_with_units_labels,\n",
    "        values=number_with_units_values,\n",
    "        textposition='inside', \n",
    "        textinfo='percent+label',\n",
    "        name=\"\",\n",
    "    ),\n",
    "    row=1, col=1\n",
    ")\n",
    "\n",
    "entity_in_provided_brick_true = entity_in_provided_brick[entity_in_provided_brick['class_in_provided_brick'] == True]\n",
    "entity_in_provided_brick_false = entity_in_provided_brick[entity_in_provided_brick['class_in_provided_brick'] == False]\n",
    "\n",
    "fig.add_trace(\n",
    "    go.Pie( \n",
    "        labels=number_with_named_units_labels,\n",
    "        values=number_with_named_units_values,\n",
    "        textposition='inside', \n",
    "        textinfo='percent+label',\n",
    "        name=\"\",\n",
    "    ),\n",
    "    row=1, col=2\n",
    ")\n",
    "\n",
    "fig.add_trace(\n",
    "    go.Table(\n",
    "        header=dict(\n",
    "            values=[\"Brick Class\", \"Stream ID\"],\n",
    "            font=dict(size=10),\n",
    "            align=\"left\"\n",
    "        ),\n",
    "        cells=dict(\n",
    "            # values=[entity_in_provided_brick[k].tolist() for k in entity_in_provided_brick.columns[1:]],\n",
    "            values=[streams_without_units[k].tolist() for k in streams_without_units.columns[:2]],\n",
    "            align = \"left\")\n",
    "    ),\n",
    "    row=2, col=1,\n",
    ")\n",
    "\n",
    "fig.add_trace(\n",
    "    go.Table(\n",
    "        header=dict(\n",
    "            values=[\"Brick Class\", \"Stream ID\", \"Units\"],\n",
    "            font=dict(size=10),\n",
    "            align=\"left\"\n",
    "        ),\n",
    "        cells=dict(\n",
    "            # values=[entity_in_provided_brick[k].tolist() for k in entity_in_provided_brick.columns[1:]],\n",
    "            values=[streams_with_anonymous_units[k].tolist() for k in streams_with_anonymous_units.columns[:3]],\n",
    "            align = \"left\")\n",
    "    ),\n",
    "    row=3, col=1\n",
    ")\n",
    "\n",
    "fig.update_layout(\n",
    "    height=1200,\n",
    "    showlegend=False,\n",
    "    title_text=\"Data Sources in Building Model with Associated Units\",\n",
    "    title_x=0.5,\n",
    ")\n",
    "\n",
    "fig.show()"
   ]
  },
  {
   "cell_type": "code",
   "execution_count": 794,
   "metadata": {},
   "outputs": [],
   "source": [
    "streams_without_units.to_csv('02_A_streams_without_units.csv', index=False)\n",
    "streams_with_anonymous_units.to_csv('02_B_streams_with_anonymous_units.csv', index=False)"
   ]
  },
  {
   "cell_type": "code",
   "execution_count": 795,
   "metadata": {},
   "outputs": [],
   "source": [
    "fig.write_html(\"02_data_sources_with_associated_units.html\")"
   ]
  },
  {
   "cell_type": "markdown",
   "metadata": {},
   "source": [
    "## Data Sources in Building Model without Timeseries Data"
   ]
  },
  {
   "cell_type": "code",
   "execution_count": 796,
   "metadata": {},
   "outputs": [
    {
     "data": {
      "text/html": [
       "<div>\n",
       "<style scoped>\n",
       "    .dataframe tbody tr th:only-of-type {\n",
       "        vertical-align: middle;\n",
       "    }\n",
       "\n",
       "    .dataframe tbody tr th {\n",
       "        vertical-align: top;\n",
       "    }\n",
       "\n",
       "    .dataframe thead th {\n",
       "        text-align: right;\n",
       "    }\n",
       "</style>\n",
       "<table border=\"1\" class=\"dataframe\">\n",
       "  <thead>\n",
       "    <tr style=\"text-align: right;\">\n",
       "      <th></th>\n",
       "      <th>brick_class</th>\n",
       "      <th>stream_id</th>\n",
       "      <th>stream_exists_in_mapping</th>\n",
       "      <th>has_data</th>\n",
       "    </tr>\n",
       "  </thead>\n",
       "  <tbody>\n",
       "    <tr>\n",
       "      <th>491</th>\n",
       "      <td>Air_Temperature_Sensor</td>\n",
       "      <td>021f5ffa_16bc_4efc_bedd_5eb04d8b3837</td>\n",
       "      <td>True</td>\n",
       "      <td>Data</td>\n",
       "    </tr>\n",
       "    <tr>\n",
       "      <th>461</th>\n",
       "      <td>Air_Temperature_Sensor</td>\n",
       "      <td>03f84d72_615b_4b71_840c_41c2a5015d76</td>\n",
       "      <td>True</td>\n",
       "      <td>Data</td>\n",
       "    </tr>\n",
       "    <tr>\n",
       "      <th>472</th>\n",
       "      <td>Air_Temperature_Sensor</td>\n",
       "      <td>09d686a2_134c_4904_b4c4_8ce3ce582169</td>\n",
       "      <td>True</td>\n",
       "      <td>Data</td>\n",
       "    </tr>\n",
       "    <tr>\n",
       "      <th>492</th>\n",
       "      <td>Air_Temperature_Sensor</td>\n",
       "      <td>11328598_25fc_4808_ba70_a4a48ed1d6e4</td>\n",
       "      <td>True</td>\n",
       "      <td>Data</td>\n",
       "    </tr>\n",
       "    <tr>\n",
       "      <th>475</th>\n",
       "      <td>Air_Temperature_Sensor</td>\n",
       "      <td>12fd9d33_d6a4_46c3_b647_b58a569a2db5</td>\n",
       "      <td>True</td>\n",
       "      <td>Data</td>\n",
       "    </tr>\n",
       "  </tbody>\n",
       "</table>\n",
       "</div>"
      ],
      "text/plain": [
       "                brick_class                             stream_id  \\\n",
       "491  Air_Temperature_Sensor  021f5ffa_16bc_4efc_bedd_5eb04d8b3837   \n",
       "461  Air_Temperature_Sensor  03f84d72_615b_4b71_840c_41c2a5015d76   \n",
       "472  Air_Temperature_Sensor  09d686a2_134c_4904_b4c4_8ce3ce582169   \n",
       "492  Air_Temperature_Sensor  11328598_25fc_4808_ba70_a4a48ed1d6e4   \n",
       "475  Air_Temperature_Sensor  12fd9d33_d6a4_46c3_b647_b58a569a2db5   \n",
       "\n",
       "    stream_exists_in_mapping has_data  \n",
       "491                     True     Data  \n",
       "461                     True     Data  \n",
       "472                     True     Data  \n",
       "492                     True     Data  \n",
       "475                     True     Data  "
      ]
     },
     "execution_count": 796,
     "metadata": {},
     "output_type": "execute_result"
    }
   ],
   "source": [
    "have_data = df[['brick_class', 'stream_id', 'stream_exists_in_mapping']].copy()\n",
    "have_data.dropna(subset=['stream_id'], inplace=True)\n",
    "have_data.sort_values(by=['brick_class', 'stream_id'], inplace=True)\n",
    "have_data['has_data'] = have_data['stream_exists_in_mapping'].apply(lambda x: 'Data' if x else 'No data')\n",
    "have_data.head()"
   ]
  },
  {
   "cell_type": "code",
   "execution_count": 797,
   "metadata": {},
   "outputs": [
    {
     "name": "stdout",
     "output_type": "stream",
     "text": [
      "Index(['Data', 'No data'], dtype='object', name='has_data')\n",
      "[668 183]\n"
     ]
    }
   ],
   "source": [
    "number_with_data_labels = have_data['has_data'].value_counts().index\n",
    "number_with_data_values = have_data['has_data'].value_counts().values\n",
    "print(number_with_data_labels)\n",
    "print(number_with_data_values)"
   ]
  },
  {
   "cell_type": "code",
   "execution_count": 798,
   "metadata": {},
   "outputs": [
    {
     "data": {
      "text/html": [
       "<div>\n",
       "<style scoped>\n",
       "    .dataframe tbody tr th:only-of-type {\n",
       "        vertical-align: middle;\n",
       "    }\n",
       "\n",
       "    .dataframe tbody tr th {\n",
       "        vertical-align: top;\n",
       "    }\n",
       "\n",
       "    .dataframe thead th {\n",
       "        text-align: right;\n",
       "    }\n",
       "</style>\n",
       "<table border=\"1\" class=\"dataframe\">\n",
       "  <thead>\n",
       "    <tr style=\"text-align: right;\">\n",
       "      <th></th>\n",
       "      <th>stream_id</th>\n",
       "      <th>stream_exists_in_mapping</th>\n",
       "      <th>has_data</th>\n",
       "    </tr>\n",
       "    <tr>\n",
       "      <th>brick_class</th>\n",
       "      <th></th>\n",
       "      <th></th>\n",
       "      <th></th>\n",
       "    </tr>\n",
       "  </thead>\n",
       "  <tbody>\n",
       "    <tr>\n",
       "      <th>Cooling_Command</th>\n",
       "      <td>1</td>\n",
       "      <td>1</td>\n",
       "      <td>1</td>\n",
       "    </tr>\n",
       "    <tr>\n",
       "      <th>Cooling_Demand_Sensor</th>\n",
       "      <td>1</td>\n",
       "      <td>1</td>\n",
       "      <td>1</td>\n",
       "    </tr>\n",
       "    <tr>\n",
       "      <th>Enable_Status</th>\n",
       "      <td>3</td>\n",
       "      <td>3</td>\n",
       "      <td>3</td>\n",
       "    </tr>\n",
       "    <tr>\n",
       "      <th>Heating_Command</th>\n",
       "      <td>1</td>\n",
       "      <td>1</td>\n",
       "      <td>1</td>\n",
       "    </tr>\n",
       "    <tr>\n",
       "      <th>Heating_Demand_Sensor</th>\n",
       "      <td>1</td>\n",
       "      <td>1</td>\n",
       "      <td>1</td>\n",
       "    </tr>\n",
       "  </tbody>\n",
       "</table>\n",
       "</div>"
      ],
      "text/plain": [
       "                       stream_id  stream_exists_in_mapping  has_data\n",
       "brick_class                                                         \n",
       "Cooling_Command                1                         1         1\n",
       "Cooling_Demand_Sensor          1                         1         1\n",
       "Enable_Status                  3                         3         3\n",
       "Heating_Command                1                         1         1\n",
       "Heating_Demand_Sensor          1                         1         1"
      ]
     },
     "execution_count": 798,
     "metadata": {},
     "output_type": "execute_result"
    }
   ],
   "source": [
    "missing_data_by_class = have_data[have_data['stream_exists_in_mapping'] == False].copy()\n",
    "missing_data_by_class = missing_data_by_class.groupby('brick_class').count()\n",
    "missing_data_by_class.head()"
   ]
  },
  {
   "cell_type": "code",
   "execution_count": 799,
   "metadata": {},
   "outputs": [
    {
     "name": "stdout",
     "output_type": "stream",
     "text": [
      "Index(['Point', 'Mode_Command', 'Temperature_Parameter', 'Reset_Command',\n",
      "       'Enable_Status', 'Mode_Status', 'System_Status', 'Cooling_Command',\n",
      "       'Cooling_Demand_Sensor', 'Heating_Command', 'Heating_Demand_Sensor'],\n",
      "      dtype='object', name='brick_class')\n",
      "[105  33  18  16   3   2   2   1   1   1   1]\n"
     ]
    }
   ],
   "source": [
    "missing_data_by_class_labels = have_data[have_data['stream_exists_in_mapping'] == False]['brick_class'].value_counts().index\n",
    "missing_data_by_class_values = have_data[have_data['stream_exists_in_mapping'] == False]['brick_class'].value_counts().values\n",
    "print(missing_data_by_class_labels)\n",
    "print(missing_data_by_class_values)"
   ]
  },
  {
   "cell_type": "code",
   "execution_count": 800,
   "metadata": {},
   "outputs": [],
   "source": [
    "missing_data_true = have_data[have_data['stream_exists_in_mapping'] == True]\n",
    "missing_data_false = have_data[have_data['stream_exists_in_mapping'] == False]"
   ]
  },
  {
   "cell_type": "code",
   "execution_count": 801,
   "metadata": {},
   "outputs": [
    {
     "data": {
      "application/vnd.plotly.v1+json": {
       "config": {
        "plotlyServerURL": "https://plot.ly"
       },
       "data": [
        {
         "domain": {
          "x": [
           0,
           0.45
          ],
          "y": [
           0.7,
           1
          ]
         },
         "labels": [
          "Data",
          "No data"
         ],
         "name": "",
         "textinfo": "percent+label",
         "textposition": "inside",
         "type": "pie",
         "values": [
          668,
          183
         ]
        },
        {
         "domain": {
          "x": [
           0.55,
           1
          ],
          "y": [
           0.7,
           1
          ]
         },
         "labels": [
          "Point",
          "Mode_Command",
          "Temperature_Parameter",
          "Reset_Command",
          "Enable_Status",
          "Mode_Status",
          "System_Status",
          "Cooling_Command",
          "Cooling_Demand_Sensor",
          "Heating_Command",
          "Heating_Demand_Sensor"
         ],
         "name": "",
         "textinfo": "percent+label",
         "textposition": "inside",
         "type": "pie",
         "values": [
          105,
          33,
          18,
          16,
          3,
          2,
          2,
          1,
          1,
          1,
          1
         ]
        },
        {
         "cells": {
          "align": "left",
          "values": [
           [
            "Cooling_Command",
            "Cooling_Demand_Sensor",
            "Enable_Status",
            "Enable_Status",
            "Enable_Status",
            "Heating_Command",
            "Heating_Demand_Sensor",
            "Mode_Command",
            "Mode_Command",
            "Mode_Command",
            "Mode_Command",
            "Mode_Command",
            "Mode_Command",
            "Mode_Command",
            "Mode_Command",
            "Mode_Command",
            "Mode_Command",
            "Mode_Command",
            "Mode_Command",
            "Mode_Command",
            "Mode_Command",
            "Mode_Command",
            "Mode_Command",
            "Mode_Command",
            "Mode_Command",
            "Mode_Command",
            "Mode_Command",
            "Mode_Command",
            "Mode_Command",
            "Mode_Command",
            "Mode_Command",
            "Mode_Command",
            "Mode_Command",
            "Mode_Command",
            "Mode_Command",
            "Mode_Command",
            "Mode_Command",
            "Mode_Command",
            "Mode_Command",
            "Mode_Command",
            "Mode_Status",
            "Mode_Status",
            "Point",
            "Point",
            "Point",
            "Point",
            "Point",
            "Point",
            "Point",
            "Point",
            "Point",
            "Point",
            "Point",
            "Point",
            "Point",
            "Point",
            "Point",
            "Point",
            "Point",
            "Point",
            "Point",
            "Point",
            "Point",
            "Point",
            "Point",
            "Point",
            "Point",
            "Point",
            "Point",
            "Point",
            "Point",
            "Point",
            "Point",
            "Point",
            "Point",
            "Point",
            "Point",
            "Point",
            "Point",
            "Point",
            "Point",
            "Point",
            "Point",
            "Point",
            "Point",
            "Point",
            "Point",
            "Point",
            "Point",
            "Point",
            "Point",
            "Point",
            "Point",
            "Point",
            "Point",
            "Point",
            "Point",
            "Point",
            "Point",
            "Point",
            "Point",
            "Point",
            "Point",
            "Point",
            "Point",
            "Point",
            "Point",
            "Point",
            "Point",
            "Point",
            "Point",
            "Point",
            "Point",
            "Point",
            "Point",
            "Point",
            "Point",
            "Point",
            "Point",
            "Point",
            "Point",
            "Point",
            "Point",
            "Point",
            "Point",
            "Point",
            "Point",
            "Point",
            "Point",
            "Point",
            "Point",
            "Point",
            "Point",
            "Point",
            "Point",
            "Point",
            "Point",
            "Point",
            "Point",
            "Point",
            "Point",
            "Point",
            "Point",
            "Point",
            "Point",
            "Point",
            "Point",
            "Reset_Command",
            "Reset_Command",
            "Reset_Command",
            "Reset_Command",
            "Reset_Command",
            "Reset_Command",
            "Reset_Command",
            "Reset_Command",
            "Reset_Command",
            "Reset_Command",
            "Reset_Command",
            "Reset_Command",
            "Reset_Command",
            "Reset_Command",
            "Reset_Command",
            "Reset_Command",
            "System_Status",
            "System_Status",
            "Temperature_Parameter",
            "Temperature_Parameter",
            "Temperature_Parameter",
            "Temperature_Parameter",
            "Temperature_Parameter",
            "Temperature_Parameter",
            "Temperature_Parameter",
            "Temperature_Parameter",
            "Temperature_Parameter",
            "Temperature_Parameter",
            "Temperature_Parameter",
            "Temperature_Parameter",
            "Temperature_Parameter",
            "Temperature_Parameter",
            "Temperature_Parameter",
            "Temperature_Parameter",
            "Temperature_Parameter",
            "Temperature_Parameter"
           ],
           [
            "d23493cb_ae9d_4402_9f22_bb41d9f35697",
            "d2a1adf3_b2d7_4fd2_b186_7aa9f02393f5",
            "09cb5556_3853_42e1_9825_93d7a8e154d6",
            "3ee9ce5d_006c_4905_b410_10f7ba57ba12",
            "78c4b52a_2a28_4f96_b61e_688ef42252c2",
            "e16e016d_e13f_4077_a1f8_703c4a19d5a7",
            "3058787c_07ef_4d8c_8214_872064f85f95",
            "08925a51_9848_4f33_98f4_9e984f654005",
            "117dffb3_c06b_4a53_b998_4fdfadc1749f",
            "129418f4_ffec_4676_918f_38b750f08de3",
            "15384324_6bd2_416c_ac58_10874a4d3be4",
            "174f5c9a_7774_4063_898c_b05f29ae1c79",
            "186704a4_285b_45ba_a0dc_38b289401e9b",
            "1b16c523_9b12_4caf_ad8e_2c2612242064",
            "1f95f1d5_708a_46e6_86c4_e96b586650c6",
            "3349d16a_88c2_47ca_80c8_679ecd929e27",
            "50ac3787_751a_4ad4_8527_c8dea8a15063",
            "51481b9c_8637_4aec_86ee_dbe1c40ce6d0",
            "5f9f7014_bc31_43dc_9264_9ece2cdb0634",
            "65d60058_0589_449e_9822_dfda471f6e17",
            "7a6ac413_5ddb_466a_9ae1_0b887ca84c04",
            "7c092694_762f_458a_8b38_2f8514599cd4",
            "82127b54_d11f_4048_a039_29e9114b9364",
            "8fa54d14_ccdf_4537_a7ad_66951165e4d6",
            "97623167_4c3e_4127_81c9_1479f3c7d07d",
            "ba8f5b91_c7f1_4a2d_945d_3adcf08dc6de",
            "bc56632b_7fec_4de5_a4a7_d202851b8c25",
            "c9114da7_5de4_44dc_8f21_57dc1703755b",
            "cd93898e_ec21_4d45_95fe_502ad92fa0ba",
            "d335c293_979d_4fbd_933f_df753e90754f",
            "d38703cc_2e6e_40a3_835d_d7c36f7d653b",
            "d8d3f744_9079_4974_bd87_d1e00cbf63ec",
            "d9fa4be7_46ca_4441_80d7_e23db0752d6f",
            "e35c6dbf_d24c_46b9_94d0_600f92134af1",
            "e563effc_565a_4244_a12c_43f23093d4fe",
            "e6b582c5_0beb_44f6_8f82_0a809ef27ecc",
            "e91f4ad0_989b_427e_aa7b_9ac9d8a54543",
            "e9a36f74_8882_4d65_a7cf_3126b6d59aa8",
            "f78d9be8_3008_43ef_bfdb_037b7c4490b8",
            "fad205e6_9ccb_4938_97b5_1c9b11da395b",
            "09507f19_2973_4140_8e56_c40fc0a3eb89",
            "7274bab7_ada3_4c00_8d20_e84a8d33f995",
            "00767c03_e4f1_4323_88db_4b3c5b048bd8",
            "07ae8323_56bf_4a33_9fac_7ba7f1da6f00",
            "083c0f25_8bc1_4db8_b2d6_9bd0223dae4d",
            "0ef8992a_ccd9_4120_8add_6bfba5a4aa3b",
            "10dd4bbe_3172_40e0_8a13_b054d298e5bb",
            "13be1a63_ec02_46a3_b3c2_4d68d0c76f92",
            "16046fad_e38c_4345_8338_6030aa89cba4",
            "17a38b26_3632_4994_896b_dd92487bb5fc",
            "1b0e031e_c5e0_4b2d_add0_858f0887e48d",
            "1be1ba75_f7bc_4270_b037_60fc602b36ac",
            "1c9ebda2_97f9_47f9_b9e3_1c2b45fe6844",
            "286a5220_5396_4af5_a987_abedc6fadf54",
            "28bf16d4_2f1d_4627_8a7f_47a5c23d0319",
            "2c210e9e_d0f8_410c_84d8_5aae5764cac1",
            "2dbf4503_071a_42a9_9ede_4de1c4bc80ad",
            "2f3c0c2e_ea6f_4d88_8383_e71f54b61200",
            "2ff2001b_b4fa_4fc3_adc8_b90e4c1b746f",
            "3269cd92_dbc4_401b_aa25_729f23645dff",
            "36044d6b_7db1_4d88_8174_5d4b21fa2314",
            "39174b3c_0e37_4568_b159_0c5cccf80959",
            "3d4ef144_67a2_4e0b_8ae0_7c13e867571e",
            "3f7a52b5_3acb_4d55_b999_38e275b2c4d9",
            "3faf947f_7f6b_4b46_ab76_98346e6d1f1f",
            "3fe79a74_9e7f_4a29_ab60_284c712c8243",
            "410088e1_6fb7_44d4_b2f3_7ca6f2883383",
            "494467c5_7a5f_45af_9ad7_64fb9b21037f",
            "4a2b4d48_5265_40eb_a677_172c77f55c3d",
            "4ba3cfa5_45a0_45a5_8aff_b012b2846854",
            "4bc6e154_d12d_451a_b8cb_87eb1641fee2",
            "4d9bb8ab_90de_4d2e_9cc0_d46ec7f7387e",
            "503620bc_ceb3_43eb_9293_ce22386270f2",
            "5301aad9_aa4e_4703_b434_e7d25fc31959",
            "56b0c966_8c9e_423d_b26b_7782a8868561",
            "5855ced9_1d30_495b_a545_a0eaeb31aa76",
            "5b55a04e_8164_4266_a3eb_6b202e577f49",
            "5c808e07_0a9c_47ac_bdab_45b4bea97be9",
            "5d709da6_60c8_4dce_b33e_fd8a337e54dc",
            "5d796f92_44d6_49e8_8066_2e7b49f0c3b6",
            "6708bc1c_a81c_406c_9796_23d81668a3d3",
            "676a25db_36e7_4448_a0bc_b9c0e6162902",
            "67c1e337_0346_4c2c_bca0_6e24e170cb30",
            "68e8588c_9395_441c_97d4_1b5bb056ee80",
            "6e2b3e2e_3cb6_4188_953e_70787e13317b",
            "725da21b_4673_48aa_9053_5c0a758d5f5f",
            "7411525a_14d7_4b55_aa51_7cc11d8d1c57",
            "763a4142_1801_4949_8938_8d3139541052",
            "764d4d44_aa29_4e19_8396_2821126f0ad0",
            "7733aafa_cf54_4481_a4cc_379bd8dc5270",
            "7e21a7c7_3c00_4f1f_a639_5cc03bf45494",
            "7e252e62_440d_4753_8fee_86132791aa15",
            "8000eb50_5b29_4612_97f3_a6db6fdd7658",
            "802cff1b_cc7a_490d_9eda_fe56241b15cb",
            "80527669_80b4_4267_b3f7_b5e0f0aa68e1",
            "81d9cfb5_5e3b_41bb_a35e_7ec2fa362e64",
            "834eeace_b35d_4c33_95c2_f3c0224c45b6",
            "859dfd12_ae72_45ce_9339_f93f94c3bba2",
            "89325e0f_7cfb_4ead_a7d3_aa791cd7e7d0",
            "8f288ca4_0e65_47b2_ac16_ded4a4de769c",
            "91e967bb_d79b_4b1f_88d4_73c47dbac4f4",
            "929a697d_9146_4a66_aafb_cbae7840c19f",
            "94088409_7c46_4320_b846_a0c4db766cbf",
            "94b2695c_7314_412c_b1c4_45df586f4757",
            "989c4c03_d744_4c48_a58b_b53fc42101e2",
            "99f93911_2af6_42e8_876b_2317dd9f9be6",
            "a3deeea5_43a5_4bab_a8b9_842ee4fda2ad",
            "aacd13d2_716d_4c0d_92ae_45b03b34bbac",
            "ab4de7b0_0656_4bcb_b58c_75734a2ad6e2",
            "ad2ef22c_f72b_49b9_becb_4d212737558d",
            "b114392e_3729_4835_8c71_4c16077bad84",
            "b2185d5a_37d4_4703_8953_22856c9f04cd",
            "b2f75740_de75_4a2d_a168_243404f63a7f",
            "bad34de4_aeaa_408b_baf1_9fc4abe2d71f",
            "bb16be5e_a08a_4cab_8e55_bbe1814282e7",
            "bbb9ec1d_6c57_42b3_b8a6_d26b56f4d85f",
            "bc90f102_8dbf_43a5_8258_df8816ff3813",
            "be4fe8f0_de84_4470_8ace_f42268be3dc7",
            "c0f823c9_267a_4f1c_aa81_0bde5ae54e07",
            "c118b4d7_f3e6_4812_9262_ad29ffd54d17",
            "c36eea17_ddf8_4525_90c0_976cb3d90c4c",
            "c4161e69_ad87_48d5_b7cc_065c0c71e55d",
            "c561d880_f43a_4626_aee0_4e4bcfb3d280",
            "c77d55b4_697c_4487_a36a_2717f43604dc",
            "cc6fa510_5ab5_4c02_bcd1_a60087842dde",
            "ce0e5f96_0dbf_4db5_8321_84491d1aa0f9",
            "ceed9740_53bc_41b4_ba74_cd6311c55e64",
            "cf785696_664f_4249_aff4_14c5522387e6",
            "d50fbd1d_72a3_4f1e_8d27_513fc1f7c0d5",
            "d734397b_0b5f_4f4f_a844_4136217037a4",
            "d8baa241_df08_4ec6_a10b_c34ca8f81b0b",
            "da8b3f22_f156_4410_b96a_66b0438086cb",
            "dbc23a28_250f_4967_92ca_583c44b2e912",
            "dd2914bd_cf1b_4d55_9438_dd3ee8266210",
            "dda62a6f_eb2a_47f5_b20f_faaee84df9dd",
            "de6a1742_7864_4496_8eb9_4c9b9db00d0b",
            "df4b8090_b8d6_463b_a4c3_2eca10d64f41",
            "dfb8ff56_c7a7_4d3f_ba5b_2374feb7be52",
            "e05e1c5c_45b4_4044_bfb9_3c8b0f49bf98",
            "e28ee52d_7a14_4163_bb03_13ce27778b40",
            "e777c567_724d_4725_a7e1_42599f4533e3",
            "e8449989_e073_468a_ab2a_10c376f2b4cf",
            "ea0c677a_2e24_4e28_8d2c_0d3de7a3b1be",
            "fbeda7fa_1d9d_47c6_bc32_8faf21a25732",
            "fc95b2b9_c26a_40a7_bc80_6515ba51429a",
            "fd110a5d_96b4_4df9_808d_4327e545d738",
            "fe2df390_0b9e_49b7_b7e6_6290d37c50c4",
            "19177032_972a_44c8_9c58_611c59d5df31",
            "2189ab4c_d8f5_435a_94b1_c64c304edb60",
            "3a087c14_6ced_4af0_b9c5_f5d1f825912c",
            "3f566df3_7fa4_4416_aed0_2ba55e9a08b7",
            "513e3e0f_6155_433d_9d60_8c82ff0c2557",
            "5cbf9b60_918b_4233_a9a8_621aaebc1a51",
            "8909b642_116d_4eb4_8a41_87322ab1653e",
            "959a5f3c_b4a5_40c7_a2ce_ea1a0940779c",
            "a33d438e_c1b7_49ab_a0cd_48a3a87a9e48",
            "aa3c01a9_f83c_4445_b744_b58f3a7dbea1",
            "b36d10da_c435_4e4b_b6af_f00cba018c6d",
            "b83ab5c8_c885_4e2c_9914_69a9bfbdc4f3",
            "c2299119_099a_4303_a9a1_6558bdeb9c4d",
            "c4a521a3_b6fe_4114_bc16_ac119e9eb6af",
            "ebca65ca_f6d5_4a7f_a861_6659dca8935b",
            "fb220a7e_3082_44e9_929b_885001199fa5",
            "4af1813e_7d65_43f7_8c7f_69b8fb4d7440",
            "54d6551c_ee4b_48a2_9986_a9430348abc5",
            "01a1464a_0ff3_489b_92c0_0c4e150439dc",
            "01f9c23d_29d2_450d_ad4d_5f5ef965b4b0",
            "1c626054_c55f_4749_bf59_913ebeef5687",
            "27718d38_38cc_4654_a19e_c2451d186176",
            "2e3fb64b_4ceb_40ff_b19d_17c1836f8c37",
            "5889cad4_b62d_43d0_9c82_fc18bb1bd7bc",
            "6a172353_cb12_4b12_80b6_c8649f46a399",
            "720e338b_e716_4fc4_b3d0_0d5365810248",
            "74380a4f_8711_4ec3_a998_89ea73bb79ef",
            "8505af9f_fbfe_4c4c_8f65_afde6917e35d",
            "9964a810_f5c5_44a5_bcbf_67697acc3987",
            "9b817310_cf85_44bf_bade_f23a09f219f5",
            "a77c6752_5d77_4c68_9276_c140dce06bd8",
            "e53e4237_11e5_4540_a661_6fb6c56175b3",
            "e81c7a56_d6f0_4b0d_85b8_69f4b08429e6",
            "eb1f4b29_8cf0_4cf6_98f5_6207bae38b36",
            "ec850878_cdbc_493f_8562_544b1dcffeea",
            "f71aaa70_ce0f_4bc0_9e80_611080a253b3"
           ]
          ]
         },
         "domain": {
          "x": [
           0,
           1
          ],
          "y": [
           0.35,
           0.6499999999999999
          ]
         },
         "header": {
          "align": "left",
          "font": {
           "size": 10
          },
          "values": [
           "Brick Class",
           "Stream ID"
          ]
         },
         "type": "table"
        },
        {
         "cells": {
          "align": "left",
          "values": [
           [
            "Air_Temperature_Sensor",
            "Air_Temperature_Sensor",
            "Air_Temperature_Sensor",
            "Air_Temperature_Sensor",
            "Air_Temperature_Sensor",
            "Air_Temperature_Sensor",
            "Air_Temperature_Sensor",
            "Air_Temperature_Sensor",
            "Air_Temperature_Sensor",
            "Air_Temperature_Sensor",
            "Air_Temperature_Sensor",
            "Air_Temperature_Sensor",
            "Air_Temperature_Sensor",
            "Air_Temperature_Sensor",
            "Air_Temperature_Sensor",
            "Air_Temperature_Sensor",
            "Air_Temperature_Sensor",
            "Air_Temperature_Sensor",
            "Air_Temperature_Sensor",
            "Air_Temperature_Sensor",
            "Air_Temperature_Sensor",
            "Air_Temperature_Sensor",
            "Air_Temperature_Sensor",
            "Air_Temperature_Sensor",
            "Air_Temperature_Sensor",
            "Air_Temperature_Sensor",
            "Air_Temperature_Sensor",
            "Air_Temperature_Sensor",
            "Air_Temperature_Sensor",
            "Air_Temperature_Sensor",
            "Air_Temperature_Sensor",
            "Air_Temperature_Sensor",
            "Air_Temperature_Sensor",
            "Air_Temperature_Sensor",
            "Air_Temperature_Sensor",
            "Air_Temperature_Sensor",
            "Air_Temperature_Sensor",
            "Air_Temperature_Sensor",
            "Air_Temperature_Sensor",
            "Air_Temperature_Sensor",
            "Air_Temperature_Sensor",
            "Air_Temperature_Sensor",
            "Air_Temperature_Sensor",
            "Air_Temperature_Sensor",
            "Alarm",
            "Alarm",
            "Angle_Sensor",
            "Angle_Sensor",
            "Angle_Sensor",
            "Average_Zone_Air_Temperature_Sensor",
            "Average_Zone_Air_Temperature_Sensor",
            "Chilled_Water_Differential_Temperature_Sensor",
            "Cooling_Command",
            "Cooling_Command",
            "Cooling_Command",
            "Cooling_Command",
            "Cooling_Command",
            "Cooling_Demand_Setpoint",
            "Cooling_Temperature_Setpoint",
            "Cooling_Temperature_Setpoint",
            "Cooling_Temperature_Setpoint",
            "Cooling_Temperature_Setpoint",
            "Cooling_Temperature_Setpoint",
            "Cooling_Temperature_Setpoint",
            "Cooling_Temperature_Setpoint",
            "Cooling_Temperature_Setpoint",
            "Cooling_Temperature_Setpoint",
            "Cooling_Temperature_Setpoint",
            "Cooling_Temperature_Setpoint",
            "Cooling_Temperature_Setpoint",
            "Cooling_Temperature_Setpoint",
            "Cooling_Temperature_Setpoint",
            "Cooling_Temperature_Setpoint",
            "Cooling_Temperature_Setpoint",
            "Cooling_Temperature_Setpoint",
            "Cooling_Temperature_Setpoint",
            "Current_Sensor",
            "Current_Sensor",
            "Current_Sensor",
            "Current_Sensor",
            "Current_Sensor",
            "Current_Sensor",
            "Current_Sensor",
            "Current_Sensor",
            "Current_Sensor",
            "Current_Sensor",
            "Current_Sensor",
            "Current_Sensor",
            "Current_Sensor",
            "Current_Sensor",
            "Current_Sensor",
            "Current_Sensor",
            "Current_Sensor",
            "Current_Sensor",
            "Current_Sensor",
            "Current_Sensor",
            "Current_Sensor",
            "Current_Sensor",
            "Current_Sensor",
            "Damper_Position_Sensor",
            "Damper_Position_Sensor",
            "Damper_Position_Sensor",
            "Damper_Position_Sensor",
            "Damper_Position_Sensor",
            "Damper_Position_Sensor",
            "Damper_Position_Sensor",
            "Damper_Position_Sensor",
            "Damper_Position_Sensor",
            "Damper_Position_Sensor",
            "Differential_Pressure_Sensor",
            "Differential_Pressure_Sensor",
            "Differential_Pressure_Setpoint",
            "Differential_Pressure_Setpoint",
            "Differential_Pressure_Setpoint",
            "Differential_Pressure_Setpoint",
            "Differential_Pressure_Setpoint",
            "Differential_Pressure_Setpoint",
            "Differential_Pressure_Setpoint",
            "Differential_Pressure_Setpoint",
            "Differential_Pressure_Setpoint",
            "Differential_Pressure_Setpoint",
            "Discharge_Air_Temperature_Sensor",
            "Discharge_Air_Temperature_Sensor",
            "Discharge_Air_Temperature_Sensor",
            "Discharge_Air_Temperature_Sensor",
            "Discharge_Air_Temperature_Sensor",
            "Discharge_Air_Temperature_Sensor",
            "Discharge_Air_Temperature_Sensor",
            "Discharge_Air_Temperature_Sensor",
            "Discharge_Air_Temperature_Sensor",
            "Discharge_Air_Temperature_Sensor",
            "Discharge_Water_Temperature_Sensor",
            "Discharge_Water_Temperature_Sensor",
            "Electrical_Energy_Sensor",
            "Electrical_Energy_Sensor",
            "Electrical_Energy_Sensor",
            "Electrical_Energy_Sensor",
            "Electrical_Energy_Sensor",
            "Electrical_Energy_Sensor",
            "Electrical_Energy_Sensor",
            "Electrical_Energy_Sensor",
            "Electrical_Energy_Sensor",
            "Electrical_Energy_Sensor",
            "Electrical_Energy_Sensor",
            "Electrical_Energy_Sensor",
            "Electrical_Energy_Sensor",
            "Electrical_Energy_Sensor",
            "Electrical_Energy_Sensor",
            "Electrical_Energy_Sensor",
            "Electrical_Energy_Sensor",
            "Electrical_Power_Sensor",
            "Electrical_Power_Sensor",
            "Electrical_Power_Sensor",
            "Electrical_Power_Sensor",
            "Electrical_Power_Sensor",
            "Electrical_Power_Sensor",
            "Electrical_Power_Sensor",
            "Electrical_Power_Sensor",
            "Electrical_Power_Sensor",
            "Electrical_Power_Sensor",
            "Electrical_Power_Sensor",
            "Electrical_Power_Sensor",
            "Electrical_Power_Sensor",
            "Electrical_Power_Sensor",
            "Electrical_Power_Sensor",
            "Electrical_Power_Sensor",
            "Electrical_Power_Sensor",
            "Electrical_Power_Sensor",
            "Electrical_Power_Sensor",
            "Electrical_Power_Sensor",
            "Electrical_Power_Sensor",
            "Electrical_Power_Sensor",
            "Electrical_Power_Sensor",
            "Electrical_Power_Sensor",
            "Electrical_Power_Sensor",
            "Electrical_Power_Sensor",
            "Electrical_Power_Sensor",
            "Electrical_Power_Sensor",
            "Electrical_Power_Sensor",
            "Electrical_Power_Sensor",
            "Electrical_Power_Sensor",
            "Electrical_Power_Sensor",
            "Electrical_Power_Sensor",
            "Electrical_Power_Sensor",
            "Electrical_Power_Sensor",
            "Electrical_Power_Sensor",
            "Electrical_Power_Sensor",
            "Electrical_Power_Sensor",
            "Electrical_Power_Sensor",
            "Emergency_Alarm",
            "Emergency_Alarm",
            "Emergency_Alarm",
            "Enable_Status",
            "Enable_Status",
            "Enable_Status",
            "Enable_Status",
            "Enable_Status",
            "Enable_Status",
            "Enable_Status",
            "Enable_Status",
            "Enable_Status",
            "Enable_Status",
            "Enable_Status",
            "Enable_Status",
            "Enable_Status",
            "Enable_Status",
            "Enable_Status",
            "Enable_Status",
            "Enable_Status",
            "Enable_Status",
            "Enable_Status",
            "Enable_Status",
            "Enable_Status",
            "Enable_Status",
            "Enable_Status",
            "Enable_Status",
            "Enable_Status",
            "Enable_Status",
            "Enable_Status",
            "Enable_Status",
            "Enable_Status",
            "Enable_Status",
            "Enable_Status",
            "Enable_Status",
            "Enable_Status",
            "Enable_Status",
            "Enable_Status",
            "Enable_Status",
            "Enable_Status",
            "Enable_Status",
            "Enable_Status",
            "Enable_Status",
            "Enable_Status",
            "Fault_Status",
            "Fault_Status",
            "Filter_Differential_Pressure_Sensor",
            "Filter_Differential_Pressure_Sensor",
            "Filter_Differential_Pressure_Sensor",
            "Filter_Differential_Pressure_Sensor",
            "Filter_Differential_Pressure_Sensor",
            "Filter_Differential_Pressure_Sensor",
            "Filter_Differential_Pressure_Sensor",
            "Filter_Differential_Pressure_Sensor",
            "Filter_Differential_Pressure_Sensor",
            "Filter_Differential_Pressure_Sensor",
            "Heating_Command",
            "Heating_Command",
            "Heating_Command",
            "Heating_Command",
            "Heating_Demand_Setpoint",
            "Heating_Temperature_Setpoint",
            "Heating_Temperature_Setpoint",
            "Heating_Temperature_Setpoint",
            "Heating_Temperature_Setpoint",
            "Heating_Temperature_Setpoint",
            "Heating_Temperature_Setpoint",
            "Heating_Temperature_Setpoint",
            "Heating_Temperature_Setpoint",
            "Heating_Temperature_Setpoint",
            "Heating_Temperature_Setpoint",
            "Heating_Temperature_Setpoint",
            "Heating_Temperature_Setpoint",
            "Heating_Temperature_Setpoint",
            "Heating_Temperature_Setpoint",
            "Heating_Temperature_Setpoint",
            "Heating_Temperature_Setpoint",
            "Heating_Temperature_Setpoint",
            "Heating_Temperature_Setpoint",
            "Low_Outside_Air_Temperature_Enable_Setpoint",
            "Low_Outside_Air_Temperature_Enable_Setpoint",
            "Low_Outside_Air_Temperature_Enable_Setpoint",
            "Low_Outside_Air_Temperature_Enable_Setpoint",
            "Low_Outside_Air_Temperature_Enable_Setpoint",
            "Max_Discharge_Air_Temperature_Setpoint_Limit",
            "Max_Discharge_Air_Temperature_Setpoint_Limit",
            "Max_Discharge_Air_Temperature_Setpoint_Limit",
            "Max_Discharge_Air_Temperature_Setpoint_Limit",
            "Max_Discharge_Air_Temperature_Setpoint_Limit",
            "Max_Discharge_Air_Temperature_Setpoint_Limit",
            "Max_Discharge_Air_Temperature_Setpoint_Limit",
            "Max_Discharge_Air_Temperature_Setpoint_Limit",
            "Max_Discharge_Air_Temperature_Setpoint_Limit",
            "Max_Discharge_Air_Temperature_Setpoint_Limit",
            "Max_Temperature_Setpoint_Limit",
            "Max_Temperature_Setpoint_Limit",
            "Max_Temperature_Setpoint_Limit",
            "Max_Temperature_Setpoint_Limit",
            "Max_Temperature_Setpoint_Limit",
            "Max_Temperature_Setpoint_Limit",
            "Max_Temperature_Setpoint_Limit",
            "Max_Temperature_Setpoint_Limit",
            "Max_Temperature_Setpoint_Limit",
            "Max_Temperature_Setpoint_Limit",
            "Max_Temperature_Setpoint_Limit",
            "Max_Temperature_Setpoint_Limit",
            "Max_Temperature_Setpoint_Limit",
            "Max_Temperature_Setpoint_Limit",
            "Max_Temperature_Setpoint_Limit",
            "Max_Temperature_Setpoint_Limit",
            "Max_Temperature_Setpoint_Limit",
            "Max_Temperature_Setpoint_Limit",
            "Max_Temperature_Setpoint_Limit",
            "Max_Temperature_Setpoint_Limit",
            "Max_Temperature_Setpoint_Limit",
            "Max_Temperature_Setpoint_Limit",
            "Max_Temperature_Setpoint_Limit",
            "Max_Temperature_Setpoint_Limit",
            "Max_Temperature_Setpoint_Limit",
            "Max_Temperature_Setpoint_Limit",
            "Max_Temperature_Setpoint_Limit",
            "Max_Temperature_Setpoint_Limit",
            "Max_Temperature_Setpoint_Limit",
            "Max_Temperature_Setpoint_Limit",
            "Max_Temperature_Setpoint_Limit",
            "Max_Temperature_Setpoint_Limit",
            "Max_Temperature_Setpoint_Limit",
            "Max_Temperature_Setpoint_Limit",
            "Max_Temperature_Setpoint_Limit",
            "Max_Temperature_Setpoint_Limit",
            "Max_Temperature_Setpoint_Limit",
            "Max_Temperature_Setpoint_Limit",
            "Max_Temperature_Setpoint_Limit",
            "Max_Temperature_Setpoint_Limit",
            "Max_Temperature_Setpoint_Limit",
            "Max_Temperature_Setpoint_Limit",
            "Max_Temperature_Setpoint_Limit",
            "Max_Temperature_Setpoint_Limit",
            "Max_Temperature_Setpoint_Limit",
            "Max_Temperature_Setpoint_Limit",
            "Max_Temperature_Setpoint_Limit",
            "Max_Temperature_Setpoint_Limit",
            "Max_Temperature_Setpoint_Limit",
            "Max_Temperature_Setpoint_Limit",
            "Max_Temperature_Setpoint_Limit",
            "Max_Temperature_Setpoint_Limit",
            "Max_Temperature_Setpoint_Limit",
            "Max_Temperature_Setpoint_Limit",
            "Min_Discharge_Air_Temperature_Setpoint_Limit",
            "Min_Discharge_Air_Temperature_Setpoint_Limit",
            "Min_Discharge_Air_Temperature_Setpoint_Limit",
            "Min_Discharge_Air_Temperature_Setpoint_Limit",
            "Min_Discharge_Air_Temperature_Setpoint_Limit",
            "Min_Discharge_Air_Temperature_Setpoint_Limit",
            "Min_Discharge_Air_Temperature_Setpoint_Limit",
            "Min_Discharge_Air_Temperature_Setpoint_Limit",
            "Min_Discharge_Air_Temperature_Setpoint_Limit",
            "Min_Discharge_Air_Temperature_Setpoint_Limit",
            "Min_Position_Setpoint_Limit",
            "Min_Position_Setpoint_Limit",
            "Min_Position_Setpoint_Limit",
            "Min_Position_Setpoint_Limit",
            "Min_Position_Setpoint_Limit",
            "Min_Temperature_Setpoint_Limit",
            "Min_Temperature_Setpoint_Limit",
            "Min_Temperature_Setpoint_Limit",
            "Min_Temperature_Setpoint_Limit",
            "Min_Temperature_Setpoint_Limit",
            "Min_Temperature_Setpoint_Limit",
            "Min_Temperature_Setpoint_Limit",
            "Min_Temperature_Setpoint_Limit",
            "Min_Temperature_Setpoint_Limit",
            "Min_Temperature_Setpoint_Limit",
            "Min_Temperature_Setpoint_Limit",
            "Min_Temperature_Setpoint_Limit",
            "Min_Temperature_Setpoint_Limit",
            "Min_Temperature_Setpoint_Limit",
            "Min_Temperature_Setpoint_Limit",
            "Min_Temperature_Setpoint_Limit",
            "Min_Temperature_Setpoint_Limit",
            "Min_Temperature_Setpoint_Limit",
            "Min_Temperature_Setpoint_Limit",
            "Min_Temperature_Setpoint_Limit",
            "Min_Temperature_Setpoint_Limit",
            "Min_Temperature_Setpoint_Limit",
            "Min_Temperature_Setpoint_Limit",
            "Min_Temperature_Setpoint_Limit",
            "Min_Temperature_Setpoint_Limit",
            "Min_Temperature_Setpoint_Limit",
            "Min_Temperature_Setpoint_Limit",
            "Min_Temperature_Setpoint_Limit",
            "Min_Temperature_Setpoint_Limit",
            "Min_Temperature_Setpoint_Limit",
            "Min_Temperature_Setpoint_Limit",
            "Min_Temperature_Setpoint_Limit",
            "Min_Temperature_Setpoint_Limit",
            "Min_Temperature_Setpoint_Limit",
            "Min_Temperature_Setpoint_Limit",
            "Min_Temperature_Setpoint_Limit",
            "Min_Temperature_Setpoint_Limit",
            "Min_Temperature_Setpoint_Limit",
            "Min_Temperature_Setpoint_Limit",
            "Min_Temperature_Setpoint_Limit",
            "Min_Temperature_Setpoint_Limit",
            "Min_Temperature_Setpoint_Limit",
            "Min_Temperature_Setpoint_Limit",
            "Min_Temperature_Setpoint_Limit",
            "Min_Temperature_Setpoint_Limit",
            "Min_Temperature_Setpoint_Limit",
            "Min_Temperature_Setpoint_Limit",
            "Min_Temperature_Setpoint_Limit",
            "Min_Temperature_Setpoint_Limit",
            "Min_Temperature_Setpoint_Limit",
            "Min_Temperature_Setpoint_Limit",
            "Min_Temperature_Setpoint_Limit",
            "Min_Temperature_Setpoint_Limit",
            "Min_Temperature_Setpoint_Limit",
            "Mode_Command",
            "Mode_Command",
            "Mode_Command",
            "Mode_Command",
            "Mode_Command",
            "Mode_Command",
            "Mode_Command",
            "Mode_Command",
            "Mode_Command",
            "Mode_Command",
            "Mode_Command",
            "Mode_Command",
            "Mode_Command",
            "Mode_Command",
            "Mode_Command",
            "Mode_Command",
            "Mode_Command",
            "Mode_Command",
            "Mode_Command",
            "Mode_Status",
            "Mode_Status",
            "Mode_Status",
            "Mode_Status",
            "Mode_Status",
            "Mode_Status",
            "Mode_Status",
            "Mode_Status",
            "Mode_Status",
            "Operating_Mode_Status",
            "Operating_Mode_Status",
            "Operating_Mode_Status",
            "Operating_Mode_Status",
            "Operating_Mode_Status",
            "Operating_Mode_Status",
            "Operating_Mode_Status",
            "Operating_Mode_Status",
            "Operating_Mode_Status",
            "Operating_Mode_Status",
            "Operating_Mode_Status",
            "Operating_Mode_Status",
            "Operating_Mode_Status",
            "Operating_Mode_Status",
            "Operating_Mode_Status",
            "Operating_Mode_Status",
            "Operating_Mode_Status",
            "Operating_Mode_Status",
            "Operating_Mode_Status",
            "Operating_Mode_Status",
            "Outside_Air_Humidity_Sensor",
            "Outside_Air_Lockout_Temperature_Setpoint",
            "Outside_Air_Lockout_Temperature_Setpoint",
            "Outside_Air_Lockout_Temperature_Setpoint",
            "Outside_Air_Lockout_Temperature_Setpoint",
            "Outside_Air_Lockout_Temperature_Setpoint",
            "Outside_Air_Temperature_Sensor",
            "Outside_Air_Temperature_Sensor",
            "Outside_Air_Temperature_Sensor",
            "Outside_Air_Temperature_Sensor",
            "Outside_Air_Temperature_Sensor",
            "Outside_Air_Temperature_Sensor",
            "Outside_Air_Temperature_Setpoint",
            "Outside_Air_Temperature_Setpoint",
            "Position_Sensor",
            "Position_Sensor",
            "Position_Sensor",
            "Position_Sensor",
            "Position_Sensor",
            "Position_Sensor",
            "Position_Sensor",
            "Position_Sensor",
            "Position_Sensor",
            "Position_Sensor",
            "Position_Sensor",
            "Position_Sensor",
            "Position_Sensor",
            "Position_Sensor",
            "Position_Sensor",
            "Position_Sensor",
            "Position_Sensor",
            "Position_Sensor",
            "Position_Sensor",
            "Position_Sensor",
            "Position_Sensor",
            "Position_Sensor",
            "Position_Sensor",
            "Position_Sensor",
            "Position_Sensor",
            "Position_Sensor",
            "Position_Sensor",
            "Position_Sensor",
            "Position_Sensor",
            "Position_Sensor",
            "Position_Sensor",
            "Position_Sensor",
            "Position_Sensor",
            "Position_Sensor",
            "Position_Sensor",
            "Position_Sensor",
            "Proportional_Gain_Parameter",
            "Proportional_Gain_Parameter",
            "Proportional_Gain_Parameter",
            "Proportional_Gain_Parameter",
            "Proportional_Gain_Parameter",
            "Proportional_Gain_Parameter",
            "Proportional_Gain_Parameter",
            "Proportional_Gain_Parameter",
            "Proportional_Gain_Parameter",
            "Proportional_Gain_Parameter",
            "Proportional_Gain_Parameter",
            "Proportional_Gain_Parameter",
            "Proportional_Gain_Parameter",
            "Proportional_Gain_Parameter",
            "Proportional_Gain_Parameter",
            "Proportional_Gain_Parameter",
            "Proportional_Gain_Parameter",
            "Proportional_Gain_Parameter",
            "Reset_Setpoint",
            "Return_Water_Temperature_Sensor",
            "Return_Water_Temperature_Sensor",
            "Room_Air_Temperature_Setpoint",
            "Room_Air_Temperature_Setpoint",
            "Room_Air_Temperature_Setpoint",
            "Room_Air_Temperature_Setpoint",
            "Room_Air_Temperature_Setpoint",
            "Room_Air_Temperature_Setpoint",
            "Room_Air_Temperature_Setpoint",
            "Room_Air_Temperature_Setpoint",
            "Room_Air_Temperature_Setpoint",
            "Room_Air_Temperature_Setpoint",
            "Room_Air_Temperature_Setpoint",
            "Room_Air_Temperature_Setpoint",
            "Room_Air_Temperature_Setpoint",
            "Room_Air_Temperature_Setpoint",
            "Room_Air_Temperature_Setpoint",
            "Room_Air_Temperature_Setpoint",
            "Room_Air_Temperature_Setpoint",
            "Room_Air_Temperature_Setpoint",
            "Room_Air_Temperature_Setpoint",
            "Room_Air_Temperature_Setpoint",
            "Stages_Status",
            "Stages_Status",
            "System_Enable_Command",
            "System_Enable_Command",
            "System_Enable_Command",
            "System_Enable_Command",
            "System_Enable_Command",
            "System_Enable_Command",
            "System_Enable_Command",
            "System_Enable_Command",
            "System_Enable_Command",
            "System_Enable_Command",
            "System_Enable_Command",
            "System_Enable_Command",
            "System_Enable_Command",
            "System_Enable_Command",
            "System_Enable_Command",
            "System_Enable_Command",
            "System_Enable_Command",
            "System_Enable_Command",
            "System_Status",
            "System_Status",
            "System_Status",
            "System_Status",
            "System_Status",
            "System_Status",
            "System_Status",
            "System_Status",
            "System_Status",
            "System_Status",
            "System_Status",
            "System_Status",
            "System_Status",
            "System_Status",
            "System_Status",
            "System_Status",
            "System_Status",
            "System_Status",
            "System_Status",
            "System_Status",
            "System_Status",
            "System_Status",
            "System_Status",
            "System_Status",
            "System_Status",
            "System_Status",
            "System_Status",
            "System_Status",
            "System_Status",
            "Temperature_Setpoint",
            "Temperature_Setpoint",
            "Temperature_Setpoint",
            "Temperature_Setpoint",
            "Temperature_Setpoint",
            "Temperature_Setpoint",
            "Temperature_Setpoint",
            "Temperature_Setpoint",
            "Temperature_Setpoint",
            "Temperature_Setpoint",
            "Temperature_Setpoint",
            "Temperature_Setpoint",
            "Temperature_Setpoint",
            "Temperature_Setpoint",
            "Temperature_Setpoint",
            "Temperature_Setpoint",
            "Temperature_Setpoint",
            "Temperature_Setpoint",
            "Thermal_Power_Sensor",
            "Usage_Sensor",
            "Usage_Sensor",
            "Usage_Sensor",
            "Usage_Sensor",
            "Usage_Sensor",
            "Usage_Sensor",
            "Usage_Sensor",
            "Usage_Sensor",
            "Usage_Sensor",
            "Usage_Sensor",
            "Voltage_Sensor",
            "Voltage_Sensor",
            "Voltage_Sensor",
            "Voltage_Sensor",
            "Voltage_Sensor",
            "Voltage_Sensor",
            "Voltage_Sensor",
            "Voltage_Sensor",
            "Voltage_Sensor",
            "Voltage_Sensor",
            "Voltage_Sensor",
            "Voltage_Sensor",
            "Voltage_Sensor",
            "Voltage_Sensor",
            "Voltage_Sensor",
            "Voltage_Sensor",
            "Voltage_Sensor",
            "Voltage_Sensor",
            "Voltage_Sensor",
            "Voltage_Sensor",
            "Voltage_Sensor",
            "Voltage_Sensor",
            "Voltage_Sensor",
            "Voltage_Sensor",
            "Voltage_Sensor",
            "Voltage_Sensor",
            "Voltage_Sensor",
            "Voltage_Sensor",
            "Voltage_Sensor",
            "Voltage_Sensor",
            "Voltage_Sensor",
            "Voltage_Sensor",
            "Voltage_Sensor",
            "Warmest_Zone_Air_Temperature_Sensor",
            "Warmest_Zone_Air_Temperature_Sensor",
            "Water_Temperature_Sensor",
            "Wind_Speed_Sensor",
            "Wind_Speed_Sensor",
            "Wind_Speed_Sensor",
            "b1a78aa6_d50d_4c0a_920e_5ff7019ab663_Sensor",
            "b1a78aa6_d50d_4c0a_920e_5ff7019ab663_Sensor",
            "b1a78aa6_d50d_4c0a_920e_5ff7019ab663_Sensor",
            "b1a78aa6_d50d_4c0a_920e_5ff7019ab663_Sensor",
            "b1a78aa6_d50d_4c0a_920e_5ff7019ab663_Sensor",
            "b1a78aa6_d50d_4c0a_920e_5ff7019ab663_Sensor"
           ],
           [
            "021f5ffa_16bc_4efc_bedd_5eb04d8b3837",
            "03f84d72_615b_4b71_840c_41c2a5015d76",
            "09d686a2_134c_4904_b4c4_8ce3ce582169",
            "11328598_25fc_4808_ba70_a4a48ed1d6e4",
            "12fd9d33_d6a4_46c3_b647_b58a569a2db5",
            "17286014_ce1a_4ed3_89b3_92e0b16f0ef7",
            "1bb97105_2614_4197_9cb1_62d0f6f851d6",
            "236bb7ad_eb0d_40ae_b841_2e3b5c748fd5",
            "3579ef08_6cda_483a_8b7e_cb2e471de630",
            "38066954_1756_48f6_9902_64c58b9688f4",
            "38a93e9d_d911_4ce0_81fa_71972b0ee995",
            "3ebacdfd_bd8a_44da_9241_f192615018c7",
            "430ca3a7_9f16_490f_aae0_f7fd9675c8a9",
            "4c8df37a_3677_4c84_b346_0b6979ccbf06",
            "4e60c456_42a7_4bc9_9fa4_d36f23f46c64",
            "4efa0c0a_220e_4000_8c21_4c012ef228d0",
            "55f85b9e_fd33_44e2_b6c6_e4aa34397989",
            "5794706b_7b64_4202_b743_61c671c4add3",
            "59426334_4fec_4097_8a81_d66cd01c582e",
            "5b1bfac5_c924_4e0b_ba79_7d3b6e7c4a05",
            "623ef3ce_c32c_4f05_ae16_09a4e0eb5ba1",
            "6712f196_56e0_4f15_baa7_8e9e2ab9443d",
            "6b310be6_aadc_49a0_ad92_d5f11ff86d24",
            "76400d3b_e997_446a_b2d1_c850bc453416",
            "7baae988_b38f_4f0a_a79c_e91d928f4311",
            "7d56a436_e850_4768_8038_62e142f5bca0",
            "7f269e8d_b754_4484_ad1d_78d7abdd9dbe",
            "84ddec06_b9f3_4f34_936d_0789717cae25",
            "88c705af_679c_4b6c_b2c5_e3078a71c7ad",
            "9e5771cc_d778_41a4_9bd3_73da4e9852d2",
            "9f6e47c8_ec19_402e_b27b_4551655ec984",
            "a52e12e5_dafa_4c8a_9ce5_0e66125d208c",
            "b3d83e96_431f_4382_a595_e0edcf939282",
            "b7f27959_ba2f_4447_947e_8b0bb3bdc0d5",
            "c06f6743_1c68_485b_9d18_78c33fafb01c",
            "c12eb576_6496_4553_b655_b6a3c465d679",
            "d2e74c8f_f550_42a0_b05c_bfc61e4e3b12",
            "d90f2c2b_99fa_4609_8395_107d76dc8fe3",
            "dc2f8f57_1cba_4667_86c4_a089c0371562",
            "de513952_c58a_49e0_9c77_77bcdf1474c1",
            "f00e4df8_06a4_4a96_9261_a8b47c87935f",
            "f1b9a441_5d6f_4cb1_8e17_a9f18f876e15",
            "f6113e06_759b_426f_9a3a_83a25254a4ea",
            "fa4dca2e_0d5b_4ef8_8b1b_80c2ee01e71c",
            "26fe8480_ef01_49d2_a83d_d172b1ad67f9",
            "f39d1391_6c3e_44cc_9123_612264c831b7",
            "9c9c5d83_ba16_4b45_826d_071e226ebbe8",
            "b52d78be_742a_4a1e_a6b4_498de7cca709",
            "d5156069_91d0_468f_bbf7_96070b4325cd",
            "2fd1c1ab_7bfe_44d1_b1b9_01488a83f05f",
            "60f9369f_b7bb_4d03_9b8a_32d06a9826e0",
            "1ccf1c24_fca5_4b0d_af96_34522b52e810",
            "105648a4_b620_4504_97b4_2302ebe7ab3b",
            "277fdfb6_70bf_4393_8fec_d19af2a40137",
            "a7625d8e_c749_4245_8c21_a55f16dbd082",
            "e5b51371_7d32_4ba5_b3ca_8eae9a3d9855",
            "f13cf5c2_20f7_4279_b182_8bdcd3089cf6",
            "9ea81184_4e1b_4390_afae_65e0c05b4a15",
            "03a31202_d278_4d7a_b565_fa0427a57822",
            "29fcf6b6_31db_4c39_954d_b54c57ccd39a",
            "34208a29_b7b4_4224_8c1d_659992ae443e",
            "36510756_4918_4f07_9e40_c96ef1ff7239",
            "405896a1_c195_422d_a0aa_18d2eca6a61d",
            "4d03c6d3_efae_4172_987b_729946aaca44",
            "54d670e8_000e_42f6_a8c4_f22f20e298e3",
            "5766a97b_9bfe_4cf7_8977_d9cd32eda40f",
            "5fe6b5c7_9f67_4044_b4f6_d673003c53c0",
            "6218ba6f_9906_4193_9c16_bba2d8178fba",
            "6da16878_c4e0_43d8_bf65_aa5cbeac57af",
            "88936720_242e_4c0b_be77_18ea6dbf58f4",
            "93ed260e_1391_47b8_90d4_ebfc8615470e",
            "a226896c_34ee_4170_9181_07bd294f2d41",
            "c0a8212a_356e_4598_9187_91470d9c0fa8",
            "d97f7a72_643a_4ef8_8866_6c6f616817d0",
            "dde46225_da3c_4751_a600_7e0b1a71e17b",
            "f6fa622c_0936_4981_a8a4_1f67830ceaa0",
            "02e608c1_09fe_48be_91dc_1419d6bc1fa7",
            "08b1cc70_e437_43e2_b961_9eb2e1e7cf28",
            "0c2ce5e2_3858_4303_8e11_7e2080c187c2",
            "2d82b574_ab1b_4d96_871a_5b71f6f3d262",
            "312ebcd7_5181_4557_9faa_de06a5e0c2a4",
            "477165cc_20e8_4fcb_a477_837eb0f4310e",
            "5b8427ad_9c88_482c_83c0_f9df3c20f460",
            "7ea4c937_94bc_413c_b087_4b3232772add",
            "882a51a7_8902_444f_bba6_71f2d5cead3f",
            "a64ec55d_eda3_46e8_bad7_90fe1c03f816",
            "aa2f7338_7edd_4500_ae39_601427c0c341",
            "aba34360_b41c_4c78_9a09_c112ae524537",
            "ba07cfd8_6558_45a1_9761_feb877307b76",
            "bdce4a94_9990_4ddd_8b9e_33d253a4da42",
            "c3701971_ae21_442b_b93a_d82d47af13a2",
            "c3de85f6_91b7_4cff_be64_3d0723e1d4b1",
            "cee6f002_0277_4f56_9636_c4b91fd57570",
            "e8f98951_e060_40c2_83a6_9d3239c464a4",
            "e91a32ca_1683_4228_9218_298a8e358f11",
            "eb9ea1fb_e0f8_4e3f_9034_91c40d8d730f",
            "f104dcf4_694e_4507_9c99_db25e7a63e9e",
            "f3628673_839d_4681_9a34_b6374951908f",
            "f415083c_0e4a_4ca0_bc69_61b59324e1e0",
            "00fc1fb0_41ba_4bb7_a570_9028d0bd451f",
            "250af432_9be1_4475_ae81_50c4e43cbdc9",
            "27b340fd_9156_4c61_8421_eb5e67648bfa",
            "35739c91_b712_4847_beea_9de0c41ab8fd",
            "78078042_e16e_425b_9ec8_605aa149274e",
            "9079339e_7691_49a4_85eb_72c34b50738e",
            "cd856e99_e635_4995_80da_0652f88f6e7a",
            "cee135fd_0590_4d6a_a1cc_e9ffc1c4e332",
            "d3337246_6084_4add_b40c_ae718e49929d",
            "efc0e732_cd0f_4b44_bb78_373c67f066b8",
            "21664c05_92c5_453f_9274_123711a5a5c0",
            "28611c31_e1f3_4626_a32e_486887c704a0",
            "454fc0fa_4c69_45ff_8dab_c7bee2644dc9",
            "4609947b_c8a2_4cc1_9c37_535502f7d2cc",
            "52d88b28_8a0e_409d_a08d_06f5e062e451",
            "77bc70e6_7b0c_4c69_ae68_f1095f56f175",
            "91b9dd7b_7f1d_4bb3_a152_c8391a4398b6",
            "94c9c821_4341_4aea_abfc_d69ba17dfb44",
            "a8849783_c012_496e_9222_7750af111ecb",
            "ba3414a6_c16f_4872_ae49_a4e5830164d4",
            "dbd1311d_2e30_44ad_92fc_345fa477a3e9",
            "e9dcd490_a9a5_4eb1_86b7_fff9ba1833cb",
            "1f912733_aad2_40bb_afe7_45f6cdf432af",
            "1fab2d67_c02f_4f6a_b761_4aa3d164d7e5",
            "347f59ac_e8c7_4e85_ae58_d4f968707f3f",
            "3c0f9669_b985_4488_b12c_0db42b17ae2b",
            "81d76fb3_6646_4347_8dad_9900327cefd6",
            "92cb1bd7_b38b_4258_a0d8_7cd3154f8dca",
            "a268d54f_c714_4ca5_82b8_7c5dba2d69ef",
            "d26e2136_8c4d_4f0b_9b38_5681724bb725",
            "da8edb58_9bba_4306_8873_f9a618f35920",
            "e13c04f2_5db9_42af_ac8e_a1c1f5caa679",
            "6c9214a5_cec9_4f6a_b787_58620ae90aa0",
            "f380c64a_3437_4012_b9ff_03358a2144f0",
            "1afde7d7_004d_41c5_89b2_ede5967e4807",
            "2fd4569b_a084_4e5a_9898_0d8801310fb6",
            "40697530_1df5_47dd_ae18_89c4aaa2a8fd",
            "52333345_fda6_498a_a5eb_8c9becf3996b",
            "5e176e58_f776_46e9_8e5d_d88c5e0b718c",
            "6cbc6276_6433_4918_8547_b2409e95a527",
            "7501ddac_f570_469a_86f6_071737d419e7",
            "853a7557_bcaf_468c_9f25_6d1ae28a0de6",
            "8f40de4d_72a0_4dc9_b757_9b32f62cb3fe",
            "9ad43890_1083_47db_8d1f_60a37a0f139a",
            "9ff52a4f_128b_4c44_86b3_4fa1d029506e",
            "a77ec80b_9fd3_4ac9_a227_d9c11b01f0de",
            "b4ddffb2_3f89_4e54_a67d_b9b67dc2120c",
            "d8449728_9f2d_469b_973b_2a5fa2b7d0c0",
            "d9e781e0_1de1_46f9_8b93_3865860c9049",
            "e71b8d64_7691_4826_9f6b_8e1c8f396482",
            "fe28339c_e17d_4a5c_ad7c_e056f42a644d",
            "10002612_fe3c_450b_9bf7_ba516e331361",
            "1043c1cf_c88e_4559_9fba_3edce44a1e09",
            "12f70f76_a4e7_4ca9_a3bb_7178197baa17",
            "1a5494eb_f54d_4a30_85f1_7112e3c3b4a8",
            "202cf2c0_356e_4a2a_9f30_6cb1e06bd638",
            "27b478b7_9326_4665_a148_06b3e62a6f45",
            "27b6662b_9497_466e_a2cf_88c0716d04f3",
            "3010a24a_2deb_43c8_9db4_cfc94c5faa5c",
            "4a15eb2a_0ad2_49ea_91da_47f66e46a794",
            "4b57752b_3f1b_4e5e_b7b9_827fbdb8294b",
            "4fcfdb9e_838e_4026_a388_be52090be2ba",
            "519c0d4d_0cef_4bc0_848e_4d8cd26f7709",
            "64541acc_3244_481e_9142_a06be610c28e",
            "65116d40_8e7c_4a61_9dd0_c9d797504140",
            "6f844326_c153_4231_86d7_a801b524b5f3",
            "7da0d8bf_05c0_4213_bd5d_3356917ad67d",
            "87677553_3917_452b_8647_6d912927f558",
            "88f33bdd_5e78_48b1_b8e4_7ee6b358ea35",
            "8a3270ca_af93_48ee_be19_c1addf3df25a",
            "969923d8_06fc_4a23_9559_0504ccee997a",
            "9781fd19_d1e3_4dbb_87f2_8b4e34332f7a",
            "9ccc1290_a8dd_43c1_9d8d_349042fb27df",
            "a01c1a36_da2b_4de0_8903_1b4b338360f8",
            "a38727ba_c15c_4f20_97f4_c8bbabaa8583",
            "b537c4ee_9ab9_49af_a73b_70fa6e3b6055",
            "b81a35cd_3b10_4f4d_a622_b47097752a01",
            "bb86923b_2f22_4aaa_b50f_7aa162635eba",
            "c23628e1_3be4_4e95_8fe4_549e4818c2cd",
            "c698af17_1a9f_493d_a24e_add7ce859f54",
            "cd3cdc47_969f_462b_ab08_db21e7e024a0",
            "d105b80b_8f6f_4786_959c_b1efc8a293ed",
            "d2c45bbe_f5fa_4104_9aa3_fc080e27a112",
            "d40fdd3a_ee77_485c_9c4f_7f074900c1fe",
            "d54ce31c_50ff_4915_af0f_5694a9e3aade",
            "d729c013_210c_4aba_8539_ee5c33fefc54",
            "f79b2095_a259_4f04_9a80_9e4e5380016f",
            "fc0fbb7a_fcd3_4d8d_948f_2e0737f06aab",
            "fd91b406_f358_4786_89cd_23ff63effa48",
            "ff903ff1_5b5d_41c3_ab72_75b49c9df39b",
            "5c1ffc0c_d69c_47bd_ada7_7851f4d8226b",
            "8263b6cf_3126_4633_868c_9eb507799964",
            "f5bd05b7_bc89_4203_997e_9c2b51b0dd2e",
            "0abc6394_8037_4c4f_bfdb_8047a06e6404",
            "0adb4e3a_d977_4efd_ad37_5108a4701878",
            "0c61b304_729f_4175_a440_c3b7dcdf76da",
            "0db0177c_1dc2_4396_9054_c206c3ff02fa",
            "15980373_bca0_453f_9af7_169c0070f716",
            "214836bc_229b_4cfe_930b_db3430b12f65",
            "21ea1983_4b12_424f_a23b_d663168cd1c0",
            "22759eff_a4bb_4f1e_bb8e_bc3f4577b146",
            "28da5ba1_1a2d_4594_9da4_bc916c19f360",
            "292678da_3e72_4715_85ed_a0e019bc3a95",
            "29ae3f47_0b89_4223_b46f_db2eb5da302a",
            "3897ff4a_f72a_473f_8f17_a3f863bb6b77",
            "3bc4d618_e8b4_4731_850e_eec0de05b899",
            "403db364_9025_411d_b12c_f48477c5a381",
            "4c37e7d1_a58d_490f_8e44_f4a5f8a4a644",
            "4c7151e3_fe8f_4c31_a5ab_9aecbf1d6953",
            "4ccd418e_cac6_4a00_9760_7ddb2742455f",
            "5141794f_4852_4207_ae26_42d488fbaa4d",
            "5adfd47e_9e5b_49f4_8b3d_95129788d27a",
            "61b90e6c_ab26_43a2_aee4_8eac512e3f16",
            "6fcda7f2_dacb_4849_a961_450059aa2246",
            "70280088_4d47_4d9c_a496_dda81593f2e3",
            "7b23ae8e_7a50_4455_b6e3_20afe8e87892",
            "810305a5_f20a_43c1_ab83_3645a69e8cd3",
            "835a86d6_c235_4caf_8071_31b9bf24960b",
            "868e59bc_0f86_42ad_8f3d_f9ca789aca7c",
            "9be9270b_d33a_4dd0_9a42_58c084a5bc99",
            "9d856aa0_74ca_4b12_a25c_1ca90cc1fc92",
            "a35cb628_b9c1_4962_a971_dae1001599c0",
            "ab4afb21_2fdc_4a27_bbcf_cdcb1bface15",
            "b5e401ef_354c_4c2b_8441_6ef4c51af33f",
            "baa02c02_d95f_4b94_a7ae_d70c27ec63af",
            "bd0a5007_0967_44ff_8878_2714c6775073",
            "c6f4adff_ef56_44e2_add6_714a15bce2a5",
            "c8dcc38e_a9ae_4a44_85c1_dbc27f5ba559",
            "cee8f360_3fb5_48be_9e38_aba38941ad87",
            "da157ba8_46d7_4fe6_8639_3a1e6df5bccd",
            "e376c231_9c76_4da6_b3e6_6bd743c3ffdc",
            "e3e678c2_4b66_43f3_b23f_fb1bc364f6f3",
            "edd9f2c4_5224_433e_a698_6c95856e8f96",
            "ef68742c_aabf_4aff_9997_789cda5f121d",
            "4c2158af_f3a1_4a39_af94_efae7e63597f",
            "f25a8cfe_b301_4cfb_b9fe_869da8fd7fab",
            "0261b604_b2fc_4e20_931d_6f3122c2971c",
            "2d12a97f_9bd7_4f21_9ddc_2ac36bf1c7fe",
            "45923996_731e_48c8_ab40_dbf90bd5b2c2",
            "53fe9aa9_551e_4394_96ca_30bbd99055ae",
            "8c653335_24b7_491c_a3d2_ca7961175f36",
            "9345a858_35a1_4713_bad4_16002b08ece2",
            "c3990511_0d2c_499d_b939_dea88e81eb8e",
            "e8ffc7ba_d2dc_4bff_a068_6317ae240d85",
            "f394c9cd_72dd_4993_a79d_be85473cdcbf",
            "f3ea305d_c7af_4708_ab6a_91f9f8693e71",
            "0c6cb0a3_7b9c_43af_baf5_dcb4ccd6914a",
            "608b74f5_9fed_4464_91d6_1ff857da60da",
            "6c61a963_a4cf_485d_a15f_13154222a1ae",
            "ccb76429_d16b_42df_9b76_4492b28d6d81",
            "2bfea9cf_141f_4a2e_8dd0_50eb3c5219e4",
            "12ceccb3_7882_4009_9b3f_1b0972d88f6f",
            "2bc454c3_a32b_40b6_a272_56fb161e8a24",
            "31b56e56_1515_4abf_822e_93283587aec7",
            "4125da91_852a_40a6_b9b2_ae0ff721379f",
            "46c72f42_6a42_4dff_a42c_abcd15775178",
            "4e58a613_f9cf_42dc_9e66_530950548cd7",
            "7766d090_ec44_4bfa_ad0a_9efd34902fdd",
            "b1f9e994_3efb_469e_a88a_8a879dc1eb86",
            "b34b56ec_8b0e_44d7_9c8c_163046963890",
            "b9521d70_3b01_4269_9bf5_b9ff1f75b727",
            "b993dc74_b17e_431f_b30e_bad265d21fcc",
            "cf10043c_ebe3_4db0_8abf_8f3908a8c933",
            "d4991106_54c3_4017_a889_c250bac80c2b",
            "e479c24c_2a91_4290_9eca_ede2309bd2e1",
            "ee946b24_d5bb_42f2_a2e8_a9365b7df5c2",
            "f2eec6f2_5e90_4b17_8e1a_f9696fcc8580",
            "f8150516_c497_40c8_9d93_ca9143fb9ecd",
            "fab1d85d_ea11_4dd2_b02b_775422a89642",
            "18a4eb5d_617b_469b_bb8f_1c3987843328",
            "315fbf97_0628_4625_8181_b2ec26eb5020",
            "4cc819c1_5c80_47ad_ba82_e8392ce0eb0a",
            "7dc26f84_8654_4dee_9839_64fb935fce6f",
            "a1ce6616_9c71_4dd1_9283_1eba7da34fa4",
            "0d0e3bb7_62e6_4f4a_91b5_17b1044c69cf",
            "25dc6fea_6fc1_43cb_9b0a_fa81d4eb2383",
            "3f18ed73_2f85_45b0_bd7f_048e9229043a",
            "44775cb9_d137_40cc_85d3_c666f5a0945e",
            "64ff7e69_483c_4d45_9edc_74c00ad9d527",
            "6bb072ef_14f1_4024_b505_dd74f2d33232",
            "7ab46192_1167_472a_afd6_1a5ce1fbabdd",
            "d3ae64d9_5d6b_47dd_8662_8f4b8171c4c5",
            "d68c9a06_d46e_4f9d_bc02_8ffd6f3bc564",
            "da5edbd0_2d33_44c6_98db_23acdc082355",
            "0d94e546_6aec_4fb0_a17d_cfe63740de16",
            "10897241_8ad4_4543_8c4c_a845c8c7438e",
            "12947a76_8193_46f6_8dea_2c5aac39d1a1",
            "213ac15b_3fbd_40b7_b59b_43ab87a09260",
            "2613b9a8_374b_4cb3_a058_bf01cf32dd56",
            "2d94fecd_b601_4c5a_936d_662d99e4edcf",
            "2f78775f_b037_4854_997f_1064dd5f6852",
            "344aaffb_1732_44b1_b4a7_f1219c90fcd7",
            "34b0bb58_bfd1_4626_ac5a_e8ffbe158a2d",
            "38fafd1e_6667_469d_b97c_4d3696116d1a",
            "3d429929_1aeb_49bc_b5c1_4fb7955e7b06",
            "4f9d0882_c587_440c_b246_e0f0e4329d04",
            "52437055_32d7_43d7_bee6_47eb6adce8ca",
            "5302d3a8_86f6_4afa_8e85_ef1f4f4a853b",
            "550c1efa_59c0_497a_b453_851dbb82546a",
            "5a652cd1_ad60_4c80_be85_fc5daa2a03b4",
            "5ac2b6af_9f6b_43e1_847c_ee539ea65ef5",
            "5af3c1ad_947f_4724_b982_62669f0c0053",
            "5b26e2f3_5984_4cc9_a14f_616c21dc2491",
            "5f644b32_42e8_4cf9_8a39_4444a41a3735",
            "61631b38_b0b9_4c7c_96a5_ac0a43bb2074",
            "62482ead_e807_4a8b_a1dd_84c8544b6578",
            "681ca5bb_7a35_417e_8094_71d0c24b4e38",
            "6ba43136_3c00_4d77_adee_557c4b027fd1",
            "6c3c5fb2_3a7d_4d8f_8bd9_103c12eeeff4",
            "6eb44cf1_f855_4cb4_99fd_19d55d76cfed",
            "76f52c23_8902_444c_9056_47aa867b3af7",
            "7a2ff512_fcd4_41eb_9299_379824d3347f",
            "7e1083f7_8274_4df8_abbd_3b1336557040",
            "82f75178_cc15_4db7_b06c_48432305bd58",
            "838e6fa7_4202_4546_b61e_d77341abb64e",
            "8fab601c_cd78_41bd_bb26_6bd3edbddcdb",
            "96e84c0c_5a9b_4c58_b76b_781a73880537",
            "9b236c19_3c1e_4e6b_9176_5eda7d4730bf",
            "a1cfe99f_d548_4e39_9d24_93bacf750721",
            "a7035f1c_6617_4c57_b28e_9c8de4c53706",
            "b8c9fe85_44f3_4a7a_aec5_0181101044c8",
            "b9185a53_b43d_4797_ace0_8850711d25bf",
            "bcdc4b0c_a939_4209_8b97_19338fa3aa94",
            "bd36e021_4a93_4775_8941_fafe75ae19ed",
            "bea83970_cc30_4168_b7e0_3dc165043cbc",
            "bfaf2665_254d_4a13_b1eb_811d5bf3732a",
            "c77a5516_42bb_4064_965a_f5213078ba2e",
            "cab929ab_c3b3_4ac0_bc80_9ff4704c3ff0",
            "d19ecd1d_f340_4165_a629_a1a74138257f",
            "de9bb82e_ff19_484f_964c_ddb3ad64b14c",
            "eb0d5916_d942_4e2d_8129_60b83d984fdd",
            "edd9a75f_d0ea_4720_b3fe_41d279514427",
            "f0e22692_4f06_4931_929a_d84f35397c56",
            "f19fb0a6_02e2_4463_b62d_e1898668dc7c",
            "f42500c6_71ed_46e3_b72d_8e1b6b547171",
            "f7099058_afdb_421a_91b7_c08237abe7d7",
            "f85ce24c_f090_4d58_b0ea_d26e95f55147",
            "f89604a5_99e8_42ec_b385_aa6a865cb76b",
            "00c9657d_ed65_4700_bee6_45bcb992175a",
            "08cb745e_9ebd_4f6f_8410_01053aa8f8d6",
            "0b1d848c_0845_4295_80d0_e5fa8b33dfdc",
            "15839915_722f_43ca_84e7_a36ac6c80e94",
            "33b4836a_7838_480f_a641_4621288e2ff2",
            "3c9ca09b_8952_45da_a066_bcb645cbbc68",
            "67d8dc82_db3f_4c1c_87fa_5f55fd6b0c22",
            "78fb166d_a503_41c5_80f1_11a387168a8d",
            "7cf7f76b_1764_4ae6_a85d_02e0ebb63ca5",
            "d91528be_afcd_4a27_9f58_899515e78994",
            "27f000fa_9ac9_4d70_a614_cd73b66ddc1b",
            "943d9d74_6b4a_4680_8d1f_f202f5c9cb0b",
            "a4053f2b_0e97_4bf0_a63b_81d40374f21b",
            "aaafdee0_ec03_4101_8216_e8f4c44d04ef",
            "de53eacc_1448_40aa_a4f9_13b75ec04f58",
            "0c45912e_a846_4e6c_aa34_31dc9d507b87",
            "0d3b1b76_c042_4c6e_a885_34d11845b725",
            "10bf38f3_ba29_41c3_a61a_c77a8cd0a6d7",
            "139f8178_52ee_4ec7_af6a_42e0b1bd2546",
            "153b9bda_a4d6_4f25_9710_f65194d66f6c",
            "1f1ed319_bd73_4acc_a68d_5a8247acbaf2",
            "2668358d_a507_4a83_882d_bf9f800ff9d1",
            "2cb58c71_c15c_4934_b320_5cd316f3a1a6",
            "336414e6_7de4_4d41_8b6d_c914d0092e16",
            "3bd76f4a_9fb2_4477_9777_56329fd9bf4a",
            "444f93de_4904_4a2d_a56b_270f0b78723c",
            "4532d82f_b53d_4bc9_a85a_5cc83be061e5",
            "4f9b0cc9_cbc2_40e2_aecc_57d740cd1ca2",
            "560c54ec_2da0_4064_bffe_feaa922490b6",
            "58cf01f8_e5f2_455c_bbcb_6ad0fe5c10cc",
            "5aadcedf_c233_4df9_9903_aae9e1a7accf",
            "5d5fdda9_1381_433b_84c5_5f74373e8713",
            "5e89fa22_7eef_4781_b287_3593a241a8f6",
            "63172dff_9c98_446e_981b_45a0c073d2f9",
            "6655c63b_1a57_4fe9_a2a7_8331873624ec",
            "6970ec93_43db_4ca0_bb81_5302734d9eed",
            "73d3b8c1_ace9_41f4_a205_907c32a0cae2",
            "757f31c2_0c2e_4e2d_b085_9970d88f40c6",
            "75e21308_99b7_48d0_83c3_a1753f5d982f",
            "7ee07028_6c0c_4d1f_a868_9385bfa97884",
            "81a3d707_cb1e_4ce3_a127_afcb0755a366",
            "86a55b03_c075_4941_9c4e_0af11ebe1fb2",
            "8849f40a_5093_4ea3_9cb7_6209d76b7e10",
            "8e0dc973_8228_42b4_b32c_971ad0ba42b9",
            "9348979b_cad6_46a7_922b_6849412ca5c4",
            "9a507b72_7ad3_494c_b0c1_dd4c0ebbb506",
            "a5823f69_5cc8_46c2_9bdd_c934af38340a",
            "adb30815_faf6_4590_95a7_c4c0f7bfd3d9",
            "b3122c59_ceb9_4aaf_a90c_7950df64e7bf",
            "b53e8795_3d6f_4a56_a802_cec2c9e6f808",
            "b81f4b1a_cdb0_471e_b197_8dc4d39e5f13",
            "b89e7233_92c4_4a78_a65e_beeb74424ab9",
            "ba9bea17_be44_40d3_b32a_1293472a2a00",
            "c9d83657_d13f_41b0_b773_c6c0606890e3",
            "cd7d3f34_67e6_4520_8a9d_1d44a4ea3d1d",
            "cdad6df4_aa45_487d_9369_be7665cd2929",
            "d354524b_3111_4e69_ba03_66a2347662c7",
            "d3d45b49_1b16_48be_a5e1_639cc60b8a7b",
            "d53fd751_a856_4e37_9c8a_7dfed4a2665c",
            "d6363a04_9b57_488b_99c6_4852f0d09a50",
            "d795d2b7_1e8f_47f2_bdb9_28e3405fa47b",
            "d8b8360a_3c22_4ea7_b7dc_c9e1880f0875",
            "df021dc2_26ae_4093_b2a0_d9068811f695",
            "e5cac543_ce56_46b7_96ed_0a2fa04edab9",
            "e603d239_8b09_4fb8_a1ca_a7d475da3475",
            "ef8ef7f1_8f81_4c00_b3f3_8da89ad8ff1c",
            "efe6f878_7bda_4378_a739_9f67b5731f2a",
            "f3c0f575_372e_4bc3_993c_0195c54b9a66",
            "fa2cd128_5171_40b3_908c_9612c24382db",
            "03cd827d_1baf_422c_a896_54cf0069046e",
            "062090b3_5147_41d1_afde_ffee8ed62c7e",
            "27eac0ca_3587_4d24_845c_5605fc001f9f",
            "2a067d12_616f_481d_a12b_8bc7b8364cca",
            "3a5b84c8_5889_405a_a9e1_3eb4d31f0317",
            "59aa6de5_2074_4168_ad94_00339e21603e",
            "63aeadda_187a_47a6_972f_5b6325fbb1ac",
            "a3b73bfb_359d_4784_b7ad_e6a541a1fbff",
            "a5b78973_6f67_476b_bf19_011e080afa0f",
            "aeab89a2_0d9b_4ebd_97fe_033e93447fbd",
            "b157a75e_4e91_4072_97ba_c0a0c9524954",
            "bf39f869_7d09_4d25_bb6a_1cc5f75f14c2",
            "c15f58d3_027a_4373_aa48_c78cffb29bcb",
            "c8b4eea5_2bbc_4c83_bbd7_aad7ed1ba146",
            "d58c45fc_2ea3_4ae8_ab01_2d37c8dbfcaa",
            "dcbfe18a_3e3b_4b88_ab19_982467e7c20f",
            "dd1d88eb_7e39_4767_aa2a_bf562791b355",
            "e30eb7d4_25a1_4c7d_87a7_0634f63627f0",
            "f789e5f7_3417_4cee_a783_7e8887e520ae",
            "05dfaf75_5216_4d9b_ab03_16ad69832041",
            "3c9d2ada_56d9_41cf_8558_597e61849fdf",
            "594ac793_a23b_4b17_a47c_496ae8f123a9",
            "5b002cb5_d1d7_4530_a3d4_b74fce08b27e",
            "6a849ab3_e0f6_4c88_b752_38b83ff4198b",
            "c5ccee34_228f_417c_8084_dc921283b9c1",
            "d3311603_7101_455f_9692_1d4d08ddc3ea",
            "e9496fce_46ba_451d_a30d_9588fbb8db31",
            "f1925127_cd39_4c0e_a336_ecc50cc0e32b",
            "137b04ee_6b3b_43ae_84f3_03d3482b2fdb",
            "1f2f7881_0dff_4580_91cb_93cca0cda361",
            "22543d51_3c38_46d3_98fe_a77838976df9",
            "2a70f4be_c1cf_450a_b396_37a9e41b70a9",
            "580937d1_41bd_4b24_af09_720709833bfb",
            "59195fd8_9b97_4fa2_b0ab_30effed9cf62",
            "622aeef7_86c9_4e4c_a2c6_5353436a33ed",
            "67acaa30_5d5a_42af_90a6_a5715b673f7c",
            "6ce99ed6_5493_4b4f_8eb5_8768d1286034",
            "70bada9b_3ca7_405d_8983_8f486a470c3f",
            "7392685a_708d_4356_9030_d0b44e295dbd",
            "978117ac_26bc_4dcf_a04f_2cd8f55ab1b8",
            "9afd1181_64c8_4a67_9ff5_2b94859199e8",
            "c418fa15_090c_47a6_b39b_8576af580b19",
            "d0d97179_d50d_4e22_8922_c4c7ca575fa9",
            "d1b16a90_dfae_44f9_8683_261a459ba91a",
            "df8236b0_6ed6_4d78_91c6_1af723476015",
            "e24407a2_f06e_419e_8e96_edf6754d9176",
            "e5a1315c_5b86_4c92_8f4e_98afb6e489f1",
            "ef1c39a8_1a31_484a_855b_1b484fbcf1bf",
            "03d25283_5abe_4120_b184_903bc77109c0",
            "1cbcac68_d055_4fa2_9fcb_29a554ba06b4",
            "3dc018b7_c15d_4aee_855c_28f5908c0b95",
            "72cd859a_0f4b_4480_a438_3d623defd799",
            "d0ded6b9_0479_4719_8811_0eec38029de8",
            "fc487980_ca40_4166_88d7_c0c8e0b5c1b8",
            "1f24bcff_00c1_4843_b4ee_e33a4cf23c32",
            "59d9b366_e56a_4faf_88c3_dd4299b51ba8",
            "664ddc27_ccc5_43a1_97b7_3000c0e948db",
            "6b5a7bdf_b566_44cf_99e8_be7ca514fa00",
            "9c4a31dc_2195_4f59_b3eb_2d744f1bddc0",
            "d31987d1_1756_48a6_bfc6_ab129fc30084",
            "5344c826_a528_465b_b962_a22c2c662cb3",
            "f864fe09_c8c3_4b96_b190_88ef0b1cfe3f",
            "030e72f4_4e97_47a9_bd7e_6a1433a76528",
            "0ea4aa4f_0228_4dae_afd1_5da948fdb5d7",
            "130a1dd7_4a2b_47bf_ad36_ca19f27c3236",
            "292069fc_b6da_492f_aaf6_258fb2ac3f46",
            "2cb1aa91_d358_4551_a667_7edb9917a185",
            "39b19d28_59a8_441e_a241_cfb902989edc",
            "4325430d_eaf6_4742_b9b1_25b580b8bf6d",
            "475e4abd_143c_43fe_bb45_b40c6c9d4500",
            "4a62ba89_9aed_4390_902b_2707ee8b9c74",
            "4bbc2b2b_0c0d_4312_bf7d_a81a3bc85a62",
            "58a27651_cd8b_4a68_b423_a6f8ece58a94",
            "5c754743_a7ef_4397_9daf_17a57cad9d20",
            "5df63319_c6ce_4a51_b145_09841a4fe6e2",
            "69d202a0_e748_4bf7_ae0a_6c52d3339b2d",
            "6ac095ab_36fc_40ea_8d9e_927fc1db6767",
            "6f648be2_6194_45f4_ad12_cc0c4a014c58",
            "77f66bf3_4b12_4406_a921_bc7adf8098d0",
            "8a0b61fd_28bf_45d7_88e1_47f8eec9a347",
            "8b604b37_aef4_4ad4_bcb8_5ec3e5c26deb",
            "a2e1d60e_6698_41dd_9ec4_27e7c5248cee",
            "a6efa18a_c19b_4e3b_8a48_0cbd3736b3ae",
            "aaaa015a_c1bc_4afb_8f1a_f65342045f07",
            "ac8c92ee_96bb_4354_bab7_205cf8973292",
            "b2f20353_3105_4781_8d66_8008adb780a4",
            "bd05ba9f_4563_4c9b_a787_d077b71dab36",
            "d1f111b9_0c46_4c87_9b45_e8cd3112bcf0",
            "d60c44c3_62fc_409a_a751_8b3ddeb9f197",
            "daa4ba03_ffb6_4ed6_ac5b_f726319f70c7",
            "e5c9b95d_45e1_45d3_acf5_214066dcf82c",
            "e6443122_74c4_49df_aeb7_7dc58eeed71e",
            "e8bdd3d0_c91d_4bd0_8d08_698aec3f3185",
            "f2362f57_7f87_452c_8d3b_b3e4e68b7ab5",
            "f2eacc3b_8b91_4e0f_83f0_5eb19cab173a",
            "f7208c91_5274_4391_b920_7f03b2acbfeb",
            "fa8f1a22_6c53_4141_a181_91c6dc0e344d",
            "fd037ec9_4f32_4c11_bd81_1ee9f25ea508",
            "089bc308_e5dc_426d_976d_0726a9e6179e",
            "0c139e30_412d_4331_a131_bd9d37082768",
            "0fd082e2_f627_4554_a2a4_2193534f63f1",
            "166e852b_0e15_4fa9_9a6c_a4fe3d04bf39",
            "16b768f0_5fb1_4db3_b506_d811b7c67738",
            "23836eea_1970_4516_b9f4_1aa0e25cc495",
            "2b6b38aa_3a20_4902_ab1a_cbbb3642416f",
            "5d20c616_c2d5_42ac_a66e_3b4cf552dffc",
            "61117f51_5699_4cb9_8ad3_966613d3553e",
            "77f7b769_34f6_44d0_a372_e35b8cc486f6",
            "7f58bcdb_a365_4a27_9295_b6d4fced9c0f",
            "8f6c04db_e033_40a6_a832_34311f8b6afe",
            "95f6ed28_7f93_41a9_8e01_e2b2a86b5256",
            "a392f1b0_0fc1_4721_af9d_846409414379",
            "cecb5e82_01d1_4d62_89c0_b2937eda6e2f",
            "dcc8c731_53e3_4f43_967b_5a1e02216bd8",
            "e1fa488d_7422_4605_b75f_44f79d5a3795",
            "eb69d32c_3aa1_40b1_8eae_be4122bf1dbc",
            "3c2f73b2_fd4f_4c94_b9a5_1c2b18165aea",
            "4d8495e0_c9be_43a1_8b87_9e53eedc4495",
            "71c8331a_b0ef_4586_8f80_6b9d1b267562",
            "05b18e56_48a1_4849_b3c0_693beb43bd53",
            "0653ab33_0059_4e34_a822_d9ed02a6a26a",
            "09dddf0d_4fa8_4fd2_8772_48c76c9f378c",
            "1dbe18bb_c8ed_4394_9e12_4e5bebfbf3b3",
            "2d018326_faf7_4e32_9e49_55403d2fd51d",
            "3041928a_2eb2_48aa_a124_0736ec019c4b",
            "31b2fc7d_9187_4724_818f_40d88a14e1f3",
            "57ba80ff_11b6_4547_a406_f54ae23f24d9",
            "58e9c3f3_0100_446a_b446_521ba738db46",
            "63aeb858_0500_4bda_a9fc_b7eaef4a4f8d",
            "67da0763_fcd4_4e68_85dd_3e3deac4f2ac",
            "714c7aa4_2e2e_45e3_966d_919072ce254a",
            "74bddb76_5062_4e8c_87f6_d049d86397cb",
            "82e325c3_eff2_4012_b199_75d98073af1b",
            "9b792f02_9cb0_43fe_b3e0_b1f39e463ec7",
            "9f896196_0154_43fe_9f28_f6dc7a352c02",
            "c3ff1399_c664_4d76_830f_a1307a6d2d64",
            "c8418cf8_ec06_436e_8e1e_b15e7b2523b5",
            "d4b6d6d5_a827_49b6_8498_988a82f6c716",
            "eb921c3a_2936_4634_9e61_e4e2a117b1ec",
            "b3c66a26_6ff1_4a6d_a82e_de299215db78",
            "c899e127_a02b_4ca1_bae6_35790b070c62",
            "089b6bc8_6957_4e6a_98e1_171c24e8cdb6",
            "09b6788a_37b5_4563_86cc_ae1f77ed4ffe",
            "5f139913_01eb_4da2_8d6b_d79f7162156f",
            "66ca8fbb_1c4a_4da0_83e9_682a105db0ce",
            "6c4e5c64_1042_4eca_a703_27a51e4283fe",
            "77ed01a5_11c3_4607_9bf8_342b947c88de",
            "7e3b7041_26bb_466f_b9a0_e3c52e6414be",
            "8325d4d1_e310_402b_bc3c_9597123825d3",
            "aec6ebfe_904c_4f06_862b_50b3370397b8",
            "bf13f789_bf37_4070_ad61_e3b9246e0871",
            "c1a6f74a_95fe_49fe_8b55_d78de51ff45c",
            "c837b3af_a98b_4ea3_bff6_9012504ff93e",
            "d02fc17a_bc46_4bd9_9c8c_cb2d83f47af7",
            "d85d789a_5df8_4035_8a2a_6c032aa6621d",
            "dde1cb7b_a95b_4cdb_bd67_3e2fcf5d1cab",
            "dfa98adb_093a_486a_a2da_523cb7294d4f",
            "f6093eec_4b82_4427_b4c7_4b09e62cff58",
            "fdc88ec8_8f4f_43c9_b62e_fc1d85ee3cfb",
            "0ab05234_ccb7_458f_8d73_dd1fab6088ed",
            "1f23b488_abad_41ae_9f8a_8d9ece97d9fa",
            "23a693e3_2b42_4bd7_bc53_3847aa51b82a",
            "26474aac_3036_42e8_860a_25bd407c888b",
            "295601bd_3f34_4c58_b123_cbbe98d31dcf",
            "2964fb41_5e2b_4a60_a250_4a28d05dbfad",
            "347c024a_9acb_4ab7_9dd3_5d5159baf824",
            "3ab9c8c6_a8f3_42c6_a190_b9044d6b89d2",
            "3fc34b0f_af75_4d94_aacb_92b267e476e5",
            "65cbd31b_2385_4daa_b506_9027fc944bb2",
            "69cbc66e_e7a8_431a_a8e5_6a05bb68979e",
            "6f502ba0_77fb_43db_b6dc_48e68d5c822b",
            "81547325_5ce3_456a_8ea6_0265ce16bee5",
            "8397f972_46bc_4062_bbb5_294aa04990b0",
            "8a242263_7b12_44e1_bc5b_e2c5b9f72d31",
            "a93bff62_2589_4701_9a3f_03082706f111",
            "b19e4e8d_83b6_44a7_a91f_09dce277d2e7",
            "b4c8c12e_8a0e_4d59_b8ee_ff8c9c840d65",
            "bc190414_ee33_4aaa_9456_2add9808c47f",
            "bf51d136_df9b_4c4d_8a55_385c021361c8",
            "c677c507_5736_4c0c_9f9c_73c26567e379",
            "d2b8eedc_93ee_41d8_8a18_e7db4c93bb6c",
            "d7b4af7b_5874_426b_a014_995a9cc71b73",
            "d7f8743c_c785_4ca6_a094_a7503405722d",
            "da2b1313_1111_4e11_b033_97943f46c7f4",
            "eb788347_626f_4bfc_a658_135090dc27da",
            "edf90edb_3ef1_41e7_9ed6_7097803798f1",
            "f2d031bd_78ce_42e6_bf5f_9749855d7a44",
            "f826cb06_e2e5_45e4_92ef_49274e98f431",
            "03fc6876_5d4b_4fe8_9d08_7599f9b1a3df",
            "09a1a9e0_ddaf_4765_96a2_484537d19e7d",
            "0ace4d2f_11d3_49f0_a61a_2f839ae3208e",
            "141b6d3e_2aaf_4872_81b2_e5be3e5e3b66",
            "1e63f54b_2119_42b8_873b_ca707e8fe211",
            "324eb1fb_0c49_45ce_8628_e780b84964aa",
            "33427c2b_0bb6_4b75_8920_9a97cbb06098",
            "3dfa2bab_f8f2_485b_80e9_5afdeeac9dc4",
            "4e1f9452_b52f_4ce1_a36f_e8a5cc8c3a5d",
            "54ba0cea_8d18_4610_be10_532f8c8387bd",
            "739adc20_34e1_4542_a2cd_aaf481d57eae",
            "8f7f7acf_ffa1_45ff_a868_8ae19ebabe53",
            "9c7ff2af_653e_47b8_ad1a_759e364696e5",
            "a8c6ed3c_1fe1_4c65_b523_520d456cd9e9",
            "c157e611_6cf7_4e6b_a439_e002fdec0c22",
            "d4aa2eb2_311a_49c3_a847_fa95d7534a7b",
            "de1ac5f7_b183_4311_a388_ceca474f1b3b",
            "f9833afd_e8a3_437b_9031_f29b656c94f9",
            "cb112b79_28b7_4e1b_8be4_799f336f3c57",
            "3624bd6d_337e_4b72_ba60_2233f1c1137f",
            "403284aa_1546_4528_98e3_afea0df2cd05",
            "4117d845_cd0d_4759_97b0_bd4ab87c595a",
            "5af5135d_0075_4e72_bcf7_3fca4c26fab0",
            "894ffb99_daa6_4436_ab8f_4d95f7a8af5e",
            "a1be7214_6b91_4243_8dd5_df8e81591ffe",
            "b39cc41e_1c39_4d96_a72f_a4dbda7e81c4",
            "be6f602f_e7d7_4a46_ba50_7ef7fba0d76e",
            "e593c243_6b87_446d_8b40_aac10607dbbe",
            "ffdb52d3_f6f9_4b2d_96f4_3b9e3ee0600a",
            "0a7d2a43_da4b_4f50_a2b8_eea1f96e92ec",
            "10eba71f_8208_40be_961d_1a25936fa4b3",
            "1796b1b3_9ace_4813_8827_08337a5042ee",
            "1984eb96_4be4_4128_a425_7e5abcfd7bad",
            "1c63d045_3464_4f45_be94_f87bf6e17490",
            "1e2dde80_ea56_471a_904d_d98aa2b9aa09",
            "2b8a66e5_2f10_4a44_99cd_0e76b87fd132",
            "30fafb3d_ba46_41d4_99e9_068342c65855",
            "43bd8860_c945_4ed0_90d4_8aa83fae24eb",
            "54bfe9e4_7e0f_484e_8a37_67f5915f3fc8",
            "5964e4e1_37e7_4d1f_a5e4_a3342d9ed416",
            "60a76402_fb41_4cc0_a8e9_97b6a5a14ba1",
            "6392641d_d6f9_4ca5_9a5f_d30e7b591c98",
            "6dbec550_bd5e_46f8_bbf0_5da86e213c82",
            "782ff5fd_e9ba_42d7_b05a_e9fb4cbddc13",
            "7891ea90_dc17_4bc8_af18_bb0b14ae4a7d",
            "7e33c99c_8244_41d7_b5f5_35c03eb78aee",
            "84822083_c421_4c60_b4e3_e5c762a6a8d3",
            "8be7fb20_8d4b_410c_b580_a9f0a0b0c917",
            "9ba9f84b_f91b_4168_861f_74c448dacb94",
            "9d57ea25_0f35_4dc4_91bc_ceda320bdbfd",
            "a381ff86_c182_47dd_a6f6_921248304381",
            "b0b973e8_98cc_4adf_b1d1_774d2314512d",
            "b9c0dfe7_4cd7_43a4_b21d_bc514cec2087",
            "bb33fa6b_6a82_4a3e_92a8_3b744363257a",
            "bcef6619_a7cd_4b26_92c6_f78b58fb7cbf",
            "c3cddcba_d5c1_4d3e_9242_74ba9f45b254",
            "da89eadb_5d68_4aca_bc75_92b99436f2d0",
            "db7e08e4_50fd_4a34_84d6_f8191b598f60",
            "e25db03d_202d_4d9f_a0b5_6f65f4ed8e40",
            "e3356164_f7ce_43f9_ac97_541790b24f1e",
            "ed75b4a7_337a_4103_8a60_95d35fe356f9",
            "ef1a387b_7a14_445d_b394_e7e3eef16ef8",
            "73700c2d_cc14_4743_a2a3_b1cfe2eb032b",
            "acefc08d_7a4e_4988_8da4_015ca6626ebe",
            "e022d248_71dc_4142_a4af_01f2eff3360b",
            "514574d1_8dd8_4b4a_abab_d992dc5ee7e3",
            "ad9c8664_0433_4c65_a57c_a1a5a969b112",
            "bb34ad66_61ef_4964_bcb2_d37fe05f79a3",
            "1b17847c_ff17_43a3_8a01_3ee94f638cb7",
            "41c056b3_0532_45b6_8c5f_afa3fa8784b5",
            "62380d5c_9694_48aa_9808_106ac346ca86",
            "8b8c990a_7908_4ce5_9b07_9b0f08fb4769",
            "d5f1b4a1_9025_46c8_b04f_898d578aaef3",
            "e9c71c58_0047_4611_a978_e8ee77a85417"
           ]
          ]
         },
         "domain": {
          "x": [
           0,
           1
          ],
          "y": [
           0,
           0.3
          ]
         },
         "header": {
          "align": "left",
          "font": {
           "size": 10
          },
          "values": [
           "Brick Class",
           "Stream ID"
          ]
         },
         "type": "table"
        }
       ],
       "layout": {
        "annotations": [
         {
          "font": {
           "size": 16
          },
          "showarrow": false,
          "text": "Proportion of Data Sources",
          "x": 0.225,
          "xanchor": "center",
          "xref": "paper",
          "y": 1,
          "yanchor": "bottom",
          "yref": "paper"
         },
         {
          "font": {
           "size": 16
          },
          "showarrow": false,
          "text": "Missing by Class",
          "x": 0.775,
          "xanchor": "center",
          "xref": "paper",
          "y": 1,
          "yanchor": "bottom",
          "yref": "paper"
         },
         {
          "font": {
           "size": 16
          },
          "showarrow": false,
          "text": "Data Sources with Missing Timeseries Data",
          "x": 0.5,
          "xanchor": "center",
          "xref": "paper",
          "y": 0.6499999999999999,
          "yanchor": "bottom",
          "yref": "paper"
         },
         {
          "font": {
           "size": 16
          },
          "showarrow": false,
          "text": "Data Sources with Available Timeseries Data",
          "x": 0.5,
          "xanchor": "center",
          "xref": "paper",
          "y": 0.3,
          "yanchor": "bottom",
          "yref": "paper"
         }
        ],
        "height": 1200,
        "showlegend": false,
        "template": {
         "data": {
          "bar": [
           {
            "error_x": {
             "color": "#2a3f5f"
            },
            "error_y": {
             "color": "#2a3f5f"
            },
            "marker": {
             "line": {
              "color": "#E5ECF6",
              "width": 0.5
             },
             "pattern": {
              "fillmode": "overlay",
              "size": 10,
              "solidity": 0.2
             }
            },
            "type": "bar"
           }
          ],
          "barpolar": [
           {
            "marker": {
             "line": {
              "color": "#E5ECF6",
              "width": 0.5
             },
             "pattern": {
              "fillmode": "overlay",
              "size": 10,
              "solidity": 0.2
             }
            },
            "type": "barpolar"
           }
          ],
          "carpet": [
           {
            "aaxis": {
             "endlinecolor": "#2a3f5f",
             "gridcolor": "white",
             "linecolor": "white",
             "minorgridcolor": "white",
             "startlinecolor": "#2a3f5f"
            },
            "baxis": {
             "endlinecolor": "#2a3f5f",
             "gridcolor": "white",
             "linecolor": "white",
             "minorgridcolor": "white",
             "startlinecolor": "#2a3f5f"
            },
            "type": "carpet"
           }
          ],
          "choropleth": [
           {
            "colorbar": {
             "outlinewidth": 0,
             "ticks": ""
            },
            "type": "choropleth"
           }
          ],
          "contour": [
           {
            "colorbar": {
             "outlinewidth": 0,
             "ticks": ""
            },
            "colorscale": [
             [
              0,
              "#0d0887"
             ],
             [
              0.1111111111111111,
              "#46039f"
             ],
             [
              0.2222222222222222,
              "#7201a8"
             ],
             [
              0.3333333333333333,
              "#9c179e"
             ],
             [
              0.4444444444444444,
              "#bd3786"
             ],
             [
              0.5555555555555556,
              "#d8576b"
             ],
             [
              0.6666666666666666,
              "#ed7953"
             ],
             [
              0.7777777777777778,
              "#fb9f3a"
             ],
             [
              0.8888888888888888,
              "#fdca26"
             ],
             [
              1,
              "#f0f921"
             ]
            ],
            "type": "contour"
           }
          ],
          "contourcarpet": [
           {
            "colorbar": {
             "outlinewidth": 0,
             "ticks": ""
            },
            "type": "contourcarpet"
           }
          ],
          "heatmap": [
           {
            "colorbar": {
             "outlinewidth": 0,
             "ticks": ""
            },
            "colorscale": [
             [
              0,
              "#0d0887"
             ],
             [
              0.1111111111111111,
              "#46039f"
             ],
             [
              0.2222222222222222,
              "#7201a8"
             ],
             [
              0.3333333333333333,
              "#9c179e"
             ],
             [
              0.4444444444444444,
              "#bd3786"
             ],
             [
              0.5555555555555556,
              "#d8576b"
             ],
             [
              0.6666666666666666,
              "#ed7953"
             ],
             [
              0.7777777777777778,
              "#fb9f3a"
             ],
             [
              0.8888888888888888,
              "#fdca26"
             ],
             [
              1,
              "#f0f921"
             ]
            ],
            "type": "heatmap"
           }
          ],
          "heatmapgl": [
           {
            "colorbar": {
             "outlinewidth": 0,
             "ticks": ""
            },
            "colorscale": [
             [
              0,
              "#0d0887"
             ],
             [
              0.1111111111111111,
              "#46039f"
             ],
             [
              0.2222222222222222,
              "#7201a8"
             ],
             [
              0.3333333333333333,
              "#9c179e"
             ],
             [
              0.4444444444444444,
              "#bd3786"
             ],
             [
              0.5555555555555556,
              "#d8576b"
             ],
             [
              0.6666666666666666,
              "#ed7953"
             ],
             [
              0.7777777777777778,
              "#fb9f3a"
             ],
             [
              0.8888888888888888,
              "#fdca26"
             ],
             [
              1,
              "#f0f921"
             ]
            ],
            "type": "heatmapgl"
           }
          ],
          "histogram": [
           {
            "marker": {
             "pattern": {
              "fillmode": "overlay",
              "size": 10,
              "solidity": 0.2
             }
            },
            "type": "histogram"
           }
          ],
          "histogram2d": [
           {
            "colorbar": {
             "outlinewidth": 0,
             "ticks": ""
            },
            "colorscale": [
             [
              0,
              "#0d0887"
             ],
             [
              0.1111111111111111,
              "#46039f"
             ],
             [
              0.2222222222222222,
              "#7201a8"
             ],
             [
              0.3333333333333333,
              "#9c179e"
             ],
             [
              0.4444444444444444,
              "#bd3786"
             ],
             [
              0.5555555555555556,
              "#d8576b"
             ],
             [
              0.6666666666666666,
              "#ed7953"
             ],
             [
              0.7777777777777778,
              "#fb9f3a"
             ],
             [
              0.8888888888888888,
              "#fdca26"
             ],
             [
              1,
              "#f0f921"
             ]
            ],
            "type": "histogram2d"
           }
          ],
          "histogram2dcontour": [
           {
            "colorbar": {
             "outlinewidth": 0,
             "ticks": ""
            },
            "colorscale": [
             [
              0,
              "#0d0887"
             ],
             [
              0.1111111111111111,
              "#46039f"
             ],
             [
              0.2222222222222222,
              "#7201a8"
             ],
             [
              0.3333333333333333,
              "#9c179e"
             ],
             [
              0.4444444444444444,
              "#bd3786"
             ],
             [
              0.5555555555555556,
              "#d8576b"
             ],
             [
              0.6666666666666666,
              "#ed7953"
             ],
             [
              0.7777777777777778,
              "#fb9f3a"
             ],
             [
              0.8888888888888888,
              "#fdca26"
             ],
             [
              1,
              "#f0f921"
             ]
            ],
            "type": "histogram2dcontour"
           }
          ],
          "mesh3d": [
           {
            "colorbar": {
             "outlinewidth": 0,
             "ticks": ""
            },
            "type": "mesh3d"
           }
          ],
          "parcoords": [
           {
            "line": {
             "colorbar": {
              "outlinewidth": 0,
              "ticks": ""
             }
            },
            "type": "parcoords"
           }
          ],
          "pie": [
           {
            "automargin": true,
            "type": "pie"
           }
          ],
          "scatter": [
           {
            "fillpattern": {
             "fillmode": "overlay",
             "size": 10,
             "solidity": 0.2
            },
            "type": "scatter"
           }
          ],
          "scatter3d": [
           {
            "line": {
             "colorbar": {
              "outlinewidth": 0,
              "ticks": ""
             }
            },
            "marker": {
             "colorbar": {
              "outlinewidth": 0,
              "ticks": ""
             }
            },
            "type": "scatter3d"
           }
          ],
          "scattercarpet": [
           {
            "marker": {
             "colorbar": {
              "outlinewidth": 0,
              "ticks": ""
             }
            },
            "type": "scattercarpet"
           }
          ],
          "scattergeo": [
           {
            "marker": {
             "colorbar": {
              "outlinewidth": 0,
              "ticks": ""
             }
            },
            "type": "scattergeo"
           }
          ],
          "scattergl": [
           {
            "marker": {
             "colorbar": {
              "outlinewidth": 0,
              "ticks": ""
             }
            },
            "type": "scattergl"
           }
          ],
          "scattermapbox": [
           {
            "marker": {
             "colorbar": {
              "outlinewidth": 0,
              "ticks": ""
             }
            },
            "type": "scattermapbox"
           }
          ],
          "scatterpolar": [
           {
            "marker": {
             "colorbar": {
              "outlinewidth": 0,
              "ticks": ""
             }
            },
            "type": "scatterpolar"
           }
          ],
          "scatterpolargl": [
           {
            "marker": {
             "colorbar": {
              "outlinewidth": 0,
              "ticks": ""
             }
            },
            "type": "scatterpolargl"
           }
          ],
          "scatterternary": [
           {
            "marker": {
             "colorbar": {
              "outlinewidth": 0,
              "ticks": ""
             }
            },
            "type": "scatterternary"
           }
          ],
          "surface": [
           {
            "colorbar": {
             "outlinewidth": 0,
             "ticks": ""
            },
            "colorscale": [
             [
              0,
              "#0d0887"
             ],
             [
              0.1111111111111111,
              "#46039f"
             ],
             [
              0.2222222222222222,
              "#7201a8"
             ],
             [
              0.3333333333333333,
              "#9c179e"
             ],
             [
              0.4444444444444444,
              "#bd3786"
             ],
             [
              0.5555555555555556,
              "#d8576b"
             ],
             [
              0.6666666666666666,
              "#ed7953"
             ],
             [
              0.7777777777777778,
              "#fb9f3a"
             ],
             [
              0.8888888888888888,
              "#fdca26"
             ],
             [
              1,
              "#f0f921"
             ]
            ],
            "type": "surface"
           }
          ],
          "table": [
           {
            "cells": {
             "fill": {
              "color": "#EBF0F8"
             },
             "line": {
              "color": "white"
             }
            },
            "header": {
             "fill": {
              "color": "#C8D4E3"
             },
             "line": {
              "color": "white"
             }
            },
            "type": "table"
           }
          ]
         },
         "layout": {
          "annotationdefaults": {
           "arrowcolor": "#2a3f5f",
           "arrowhead": 0,
           "arrowwidth": 1
          },
          "autotypenumbers": "strict",
          "coloraxis": {
           "colorbar": {
            "outlinewidth": 0,
            "ticks": ""
           }
          },
          "colorscale": {
           "diverging": [
            [
             0,
             "#8e0152"
            ],
            [
             0.1,
             "#c51b7d"
            ],
            [
             0.2,
             "#de77ae"
            ],
            [
             0.3,
             "#f1b6da"
            ],
            [
             0.4,
             "#fde0ef"
            ],
            [
             0.5,
             "#f7f7f7"
            ],
            [
             0.6,
             "#e6f5d0"
            ],
            [
             0.7,
             "#b8e186"
            ],
            [
             0.8,
             "#7fbc41"
            ],
            [
             0.9,
             "#4d9221"
            ],
            [
             1,
             "#276419"
            ]
           ],
           "sequential": [
            [
             0,
             "#0d0887"
            ],
            [
             0.1111111111111111,
             "#46039f"
            ],
            [
             0.2222222222222222,
             "#7201a8"
            ],
            [
             0.3333333333333333,
             "#9c179e"
            ],
            [
             0.4444444444444444,
             "#bd3786"
            ],
            [
             0.5555555555555556,
             "#d8576b"
            ],
            [
             0.6666666666666666,
             "#ed7953"
            ],
            [
             0.7777777777777778,
             "#fb9f3a"
            ],
            [
             0.8888888888888888,
             "#fdca26"
            ],
            [
             1,
             "#f0f921"
            ]
           ],
           "sequentialminus": [
            [
             0,
             "#0d0887"
            ],
            [
             0.1111111111111111,
             "#46039f"
            ],
            [
             0.2222222222222222,
             "#7201a8"
            ],
            [
             0.3333333333333333,
             "#9c179e"
            ],
            [
             0.4444444444444444,
             "#bd3786"
            ],
            [
             0.5555555555555556,
             "#d8576b"
            ],
            [
             0.6666666666666666,
             "#ed7953"
            ],
            [
             0.7777777777777778,
             "#fb9f3a"
            ],
            [
             0.8888888888888888,
             "#fdca26"
            ],
            [
             1,
             "#f0f921"
            ]
           ]
          },
          "colorway": [
           "#636efa",
           "#EF553B",
           "#00cc96",
           "#ab63fa",
           "#FFA15A",
           "#19d3f3",
           "#FF6692",
           "#B6E880",
           "#FF97FF",
           "#FECB52"
          ],
          "font": {
           "color": "#2a3f5f"
          },
          "geo": {
           "bgcolor": "white",
           "lakecolor": "white",
           "landcolor": "#E5ECF6",
           "showlakes": true,
           "showland": true,
           "subunitcolor": "white"
          },
          "hoverlabel": {
           "align": "left"
          },
          "hovermode": "closest",
          "mapbox": {
           "style": "light"
          },
          "paper_bgcolor": "white",
          "plot_bgcolor": "#E5ECF6",
          "polar": {
           "angularaxis": {
            "gridcolor": "white",
            "linecolor": "white",
            "ticks": ""
           },
           "bgcolor": "#E5ECF6",
           "radialaxis": {
            "gridcolor": "white",
            "linecolor": "white",
            "ticks": ""
           }
          },
          "scene": {
           "xaxis": {
            "backgroundcolor": "#E5ECF6",
            "gridcolor": "white",
            "gridwidth": 2,
            "linecolor": "white",
            "showbackground": true,
            "ticks": "",
            "zerolinecolor": "white"
           },
           "yaxis": {
            "backgroundcolor": "#E5ECF6",
            "gridcolor": "white",
            "gridwidth": 2,
            "linecolor": "white",
            "showbackground": true,
            "ticks": "",
            "zerolinecolor": "white"
           },
           "zaxis": {
            "backgroundcolor": "#E5ECF6",
            "gridcolor": "white",
            "gridwidth": 2,
            "linecolor": "white",
            "showbackground": true,
            "ticks": "",
            "zerolinecolor": "white"
           }
          },
          "shapedefaults": {
           "line": {
            "color": "#2a3f5f"
           }
          },
          "ternary": {
           "aaxis": {
            "gridcolor": "white",
            "linecolor": "white",
            "ticks": ""
           },
           "baxis": {
            "gridcolor": "white",
            "linecolor": "white",
            "ticks": ""
           },
           "bgcolor": "#E5ECF6",
           "caxis": {
            "gridcolor": "white",
            "linecolor": "white",
            "ticks": ""
           }
          },
          "title": {
           "x": 0.05
          },
          "xaxis": {
           "automargin": true,
           "gridcolor": "white",
           "linecolor": "white",
           "ticks": "",
           "title": {
            "standoff": 15
           },
           "zerolinecolor": "white",
           "zerolinewidth": 2
          },
          "yaxis": {
           "automargin": true,
           "gridcolor": "white",
           "linecolor": "white",
           "ticks": "",
           "title": {
            "standoff": 15
           },
           "zerolinecolor": "white",
           "zerolinewidth": 2
          }
         }
        },
        "title": {
         "text": "Data Sources in Building Model without Timeseries Data",
         "x": 0.5
        }
       }
      }
     },
     "metadata": {},
     "output_type": "display_data"
    }
   ],
   "source": [
    "fig = make_subplots(\n",
    "    rows=3, cols=2,\n",
    "    vertical_spacing=0.05,\n",
    "    subplot_titles = ['Proportion of Data Sources', 'Missing by Class', 'Data Sources with Missing Timeseries Data', 'Data Sources with Available Timeseries Data'],\n",
    "    specs=[[{\"type\": \"pie\"}, {\"type\": \"pie\"}],\n",
    "           [{\"type\": \"table\", 'colspan': 2}, None],\n",
    "           [{\"type\": \"table\", 'colspan': 2}, None]]\n",
    ")\n",
    "\n",
    "fig.add_trace(\n",
    "    go.Pie(\n",
    "        labels=number_with_data_labels,\n",
    "        values=number_with_data_values,\n",
    "        textposition='inside', \n",
    "        textinfo='percent+label',\n",
    "        name=\"\",\n",
    "    ),\n",
    "    row=1, col=1\n",
    ")\n",
    "\n",
    "\n",
    "fig.add_trace(\n",
    "    go.Pie(\n",
    "        labels=missing_data_by_class_labels,\n",
    "        values=missing_data_by_class_values,\n",
    "        textposition='inside', \n",
    "        textinfo='percent+label',\n",
    "        name=\"\",\n",
    "    ),\n",
    "    row=1, col=2\n",
    ")\n",
    "\n",
    "fig.add_trace(\n",
    "    go.Table(\n",
    "        header=dict(\n",
    "            values=[\"Brick Class\", \"Stream ID\"],\n",
    "            font=dict(size=10),\n",
    "            align=\"left\"\n",
    "        ),\n",
    "        cells=dict(\n",
    "            values=[missing_data_false[k].tolist() for k in missing_data_false.columns[:2]],\n",
    "            align = \"left\")\n",
    "    ),\n",
    "    row=2, col=1,\n",
    ")\n",
    "\n",
    "fig.add_trace(\n",
    "    go.Table(\n",
    "        header=dict(\n",
    "            values=[\"Brick Class\", \"Stream ID\"],\n",
    "            font=dict(size=10),\n",
    "            align=\"left\"\n",
    "        ),\n",
    "        cells=dict(\n",
    "            values=[missing_data_true[k].tolist() for k in missing_data_true.columns[:2]],\n",
    "            align = \"left\")\n",
    "    ),\n",
    "    row=3, col=1\n",
    ")\n",
    "\n",
    "fig.update_layout(\n",
    "    height=1200,\n",
    "    showlegend=False,\n",
    "    title_text=\"Data Sources in Building Model without Timeseries Data\",\n",
    "    title_x=0.5,\n",
    ")\n",
    "\n",
    "fig.show()"
   ]
  },
  {
   "cell_type": "code",
   "execution_count": 802,
   "metadata": {},
   "outputs": [],
   "source": [
    "missing_data_false.to_csv('03_data_sources_with_missing_data.csv', index=False)"
   ]
  },
  {
   "cell_type": "code",
   "execution_count": 803,
   "metadata": {},
   "outputs": [],
   "source": [
    "fig.write_html(\"03_data_sources_without_data.html\")"
   ]
  },
  {
   "cell_type": "markdown",
   "metadata": {},
   "source": [
    "## Data Sources with Inconsistent Brick Class between Model and Mapper"
   ]
  },
  {
   "cell_type": "code",
   "execution_count": 804,
   "metadata": {},
   "outputs": [
    {
     "data": {
      "text/html": [
       "<div>\n",
       "<style scoped>\n",
       "    .dataframe tbody tr th:only-of-type {\n",
       "        vertical-align: middle;\n",
       "    }\n",
       "\n",
       "    .dataframe tbody tr th {\n",
       "        vertical-align: top;\n",
       "    }\n",
       "\n",
       "    .dataframe thead th {\n",
       "        text-align: right;\n",
       "    }\n",
       "</style>\n",
       "<table border=\"1\" class=\"dataframe\">\n",
       "  <thead>\n",
       "    <tr style=\"text-align: right;\">\n",
       "      <th></th>\n",
       "      <th>brick_class</th>\n",
       "      <th>brick_class_in_mapping</th>\n",
       "      <th>entity</th>\n",
       "      <th>brick_class_is_consistent</th>\n",
       "      <th>consistency</th>\n",
       "    </tr>\n",
       "  </thead>\n",
       "  <tbody>\n",
       "    <tr>\n",
       "      <th>455</th>\n",
       "      <td>Air_Temperature_Sensor</td>\n",
       "      <td>Air_Temperature_Sensor</td>\n",
       "      <td>124295e4_f6a9_4904_baa2_6bb2752d0059.32c2ab64_...</td>\n",
       "      <td>True</td>\n",
       "      <td>Consistent</td>\n",
       "    </tr>\n",
       "    <tr>\n",
       "      <th>456</th>\n",
       "      <td>Air_Temperature_Sensor</td>\n",
       "      <td>Air_Temperature_Sensor</td>\n",
       "      <td>124295e4_f6a9_4904_baa2_6bb2752d0059.32fa613f_...</td>\n",
       "      <td>True</td>\n",
       "      <td>Consistent</td>\n",
       "    </tr>\n",
       "    <tr>\n",
       "      <th>487</th>\n",
       "      <td>Air_Temperature_Sensor</td>\n",
       "      <td>Air_Temperature_Sensor</td>\n",
       "      <td>3062fe14_682d_481f_a98e_b217c45c2337.a6dd463f_...</td>\n",
       "      <td>True</td>\n",
       "      <td>Consistent</td>\n",
       "    </tr>\n",
       "    <tr>\n",
       "      <th>488</th>\n",
       "      <td>Air_Temperature_Sensor</td>\n",
       "      <td>Air_Temperature_Sensor</td>\n",
       "      <td>3062fe14_682d_481f_a98e_b217c45c2337.f129b8da_...</td>\n",
       "      <td>True</td>\n",
       "      <td>Consistent</td>\n",
       "    </tr>\n",
       "    <tr>\n",
       "      <th>480</th>\n",
       "      <td>Air_Temperature_Sensor</td>\n",
       "      <td>Air_Temperature_Sensor</td>\n",
       "      <td>3abdac1c_4717_445e_8248_0143c701015a.4c12ffce_...</td>\n",
       "      <td>True</td>\n",
       "      <td>Consistent</td>\n",
       "    </tr>\n",
       "  </tbody>\n",
       "</table>\n",
       "</div>"
      ],
      "text/plain": [
       "                brick_class  brick_class_in_mapping  \\\n",
       "455  Air_Temperature_Sensor  Air_Temperature_Sensor   \n",
       "456  Air_Temperature_Sensor  Air_Temperature_Sensor   \n",
       "487  Air_Temperature_Sensor  Air_Temperature_Sensor   \n",
       "488  Air_Temperature_Sensor  Air_Temperature_Sensor   \n",
       "480  Air_Temperature_Sensor  Air_Temperature_Sensor   \n",
       "\n",
       "                                                entity  \\\n",
       "455  124295e4_f6a9_4904_baa2_6bb2752d0059.32c2ab64_...   \n",
       "456  124295e4_f6a9_4904_baa2_6bb2752d0059.32fa613f_...   \n",
       "487  3062fe14_682d_481f_a98e_b217c45c2337.a6dd463f_...   \n",
       "488  3062fe14_682d_481f_a98e_b217c45c2337.f129b8da_...   \n",
       "480  3abdac1c_4717_445e_8248_0143c701015a.4c12ffce_...   \n",
       "\n",
       "    brick_class_is_consistent consistency  \n",
       "455                      True  Consistent  \n",
       "456                      True  Consistent  \n",
       "487                      True  Consistent  \n",
       "488                      True  Consistent  \n",
       "480                      True  Consistent  "
      ]
     },
     "execution_count": 804,
     "metadata": {},
     "output_type": "execute_result"
    }
   ],
   "source": [
    "class_consistency = df[['brick_class', 'brick_class_in_mapping', 'entity', 'brick_class_is_consistent']].copy()\n",
    "class_consistency.dropna(subset=['brick_class_in_mapping'], inplace=True)\n",
    "class_consistency.sort_values(by=['brick_class', 'brick_class_in_mapping', 'entity'], inplace=True)\n",
    "class_consistency['consistency'] = class_consistency['brick_class_is_consistent'].apply(lambda x: 'Consistent' if x else 'Inconsistent')\n",
    "class_consistency.head()"
   ]
  },
  {
   "cell_type": "code",
   "execution_count": 805,
   "metadata": {},
   "outputs": [
    {
     "name": "stdout",
     "output_type": "stream",
     "text": [
      "Index(['Consistent', 'Inconsistent'], dtype='object', name='consistency')\n",
      "[645  23]\n"
     ]
    }
   ],
   "source": [
    "number_consistency_labels = class_consistency['consistency'].value_counts().index\n",
    "number_consistency_values = class_consistency['consistency'].value_counts().values\n",
    "print(number_consistency_labels)\n",
    "print(number_consistency_values)"
   ]
  },
  {
   "cell_type": "code",
   "execution_count": 806,
   "metadata": {},
   "outputs": [
    {
     "data": {
      "text/html": [
       "<div>\n",
       "<style scoped>\n",
       "    .dataframe tbody tr th:only-of-type {\n",
       "        vertical-align: middle;\n",
       "    }\n",
       "\n",
       "    .dataframe tbody tr th {\n",
       "        vertical-align: top;\n",
       "    }\n",
       "\n",
       "    .dataframe thead th {\n",
       "        text-align: right;\n",
       "    }\n",
       "</style>\n",
       "<table border=\"1\" class=\"dataframe\">\n",
       "  <thead>\n",
       "    <tr style=\"text-align: right;\">\n",
       "      <th></th>\n",
       "      <th>brick_class</th>\n",
       "      <th>brick_class_in_mapping</th>\n",
       "      <th>entity</th>\n",
       "      <th>brick_class_is_consistent</th>\n",
       "      <th>consistency</th>\n",
       "    </tr>\n",
       "  </thead>\n",
       "  <tbody>\n",
       "    <tr>\n",
       "      <th>867</th>\n",
       "      <td>Electrical_Energy_Sensor</td>\n",
       "      <td>Electrical_Power_Sensor</td>\n",
       "      <td>1af5f6f9_15b1_4a62_962e_0ede16373202.3ad9be1a_...</td>\n",
       "      <td>False</td>\n",
       "      <td>Inconsistent</td>\n",
       "    </tr>\n",
       "    <tr>\n",
       "      <th>866</th>\n",
       "      <td>Electrical_Energy_Sensor</td>\n",
       "      <td>Electrical_Power_Sensor</td>\n",
       "      <td>1af5f6f9_15b1_4a62_962e_0ede16373202.54513e05_...</td>\n",
       "      <td>False</td>\n",
       "      <td>Inconsistent</td>\n",
       "    </tr>\n",
       "    <tr>\n",
       "      <th>865</th>\n",
       "      <td>Electrical_Energy_Sensor</td>\n",
       "      <td>Electrical_Power_Sensor</td>\n",
       "      <td>1af5f6f9_15b1_4a62_962e_0ede16373202.983cbacc_...</td>\n",
       "      <td>False</td>\n",
       "      <td>Inconsistent</td>\n",
       "    </tr>\n",
       "    <tr>\n",
       "      <th>878</th>\n",
       "      <td>Electrical_Energy_Sensor</td>\n",
       "      <td>Electrical_Power_Sensor</td>\n",
       "      <td>240f89b5_a8f7_4716_ba46_b583227d99a4</td>\n",
       "      <td>False</td>\n",
       "      <td>Inconsistent</td>\n",
       "    </tr>\n",
       "    <tr>\n",
       "      <th>870</th>\n",
       "      <td>Electrical_Energy_Sensor</td>\n",
       "      <td>Electrical_Power_Sensor</td>\n",
       "      <td>6b498416_1218_453d_a09e_64a2e2aebe24.3ad9be1a_...</td>\n",
       "      <td>False</td>\n",
       "      <td>Inconsistent</td>\n",
       "    </tr>\n",
       "  </tbody>\n",
       "</table>\n",
       "</div>"
      ],
      "text/plain": [
       "                  brick_class   brick_class_in_mapping  \\\n",
       "867  Electrical_Energy_Sensor  Electrical_Power_Sensor   \n",
       "866  Electrical_Energy_Sensor  Electrical_Power_Sensor   \n",
       "865  Electrical_Energy_Sensor  Electrical_Power_Sensor   \n",
       "878  Electrical_Energy_Sensor  Electrical_Power_Sensor   \n",
       "870  Electrical_Energy_Sensor  Electrical_Power_Sensor   \n",
       "\n",
       "                                                entity  \\\n",
       "867  1af5f6f9_15b1_4a62_962e_0ede16373202.3ad9be1a_...   \n",
       "866  1af5f6f9_15b1_4a62_962e_0ede16373202.54513e05_...   \n",
       "865  1af5f6f9_15b1_4a62_962e_0ede16373202.983cbacc_...   \n",
       "878               240f89b5_a8f7_4716_ba46_b583227d99a4   \n",
       "870  6b498416_1218_453d_a09e_64a2e2aebe24.3ad9be1a_...   \n",
       "\n",
       "    brick_class_is_consistent   consistency  \n",
       "867                     False  Inconsistent  \n",
       "866                     False  Inconsistent  \n",
       "865                     False  Inconsistent  \n",
       "878                     False  Inconsistent  \n",
       "870                     False  Inconsistent  "
      ]
     },
     "execution_count": 806,
     "metadata": {},
     "output_type": "execute_result"
    }
   ],
   "source": [
    "inconsistent_classes = class_consistency[class_consistency['brick_class_is_consistent'] == False].copy()\n",
    "inconsistent_classes.head()"
   ]
  },
  {
   "cell_type": "code",
   "execution_count": 807,
   "metadata": {},
   "outputs": [
    {
     "name": "stdout",
     "output_type": "stream",
     "text": [
      "Index(['Electrical_Energy_Sensor', 'b1a78aa6_d50d_4c0a_920e_5ff7019ab663_Sensor'], dtype='object', name='brick_class')\n",
      "[17  6]\n"
     ]
    }
   ],
   "source": [
    "consistency_by_class_labels = inconsistent_classes['brick_class'].value_counts().index\n",
    "consistency_by_class_values = inconsistent_classes['brick_class'].value_counts().values\n",
    "print(consistency_by_class_labels)\n",
    "print(consistency_by_class_values)"
   ]
  },
  {
   "cell_type": "code",
   "execution_count": 808,
   "metadata": {},
   "outputs": [
    {
     "data": {
      "application/vnd.plotly.v1+json": {
       "config": {
        "plotlyServerURL": "https://plot.ly"
       },
       "data": [
        {
         "domain": {
          "x": [
           0,
           0.45
          ],
          "y": [
           0.525,
           1
          ]
         },
         "labels": [
          "Consistent",
          "Inconsistent"
         ],
         "name": "",
         "textinfo": "percent+label",
         "textposition": "inside",
         "type": "pie",
         "values": [
          645,
          23
         ]
        },
        {
         "domain": {
          "x": [
           0.55,
           1
          ],
          "y": [
           0.525,
           1
          ]
         },
         "labels": [
          "Electrical_Energy_Sensor",
          "b1a78aa6_d50d_4c0a_920e_5ff7019ab663_Sensor"
         ],
         "name": "",
         "textinfo": "percent+label",
         "textposition": "inside",
         "type": "pie",
         "values": [
          17,
          6
         ]
        },
        {
         "cells": {
          "align": "left",
          "values": [
           [
            "Electrical_Energy_Sensor",
            "Electrical_Energy_Sensor",
            "Electrical_Energy_Sensor",
            "Electrical_Energy_Sensor",
            "Electrical_Energy_Sensor",
            "Electrical_Energy_Sensor",
            "Electrical_Energy_Sensor",
            "Electrical_Energy_Sensor",
            "Electrical_Energy_Sensor",
            "Electrical_Energy_Sensor",
            "Electrical_Energy_Sensor",
            "Electrical_Energy_Sensor",
            "Electrical_Energy_Sensor",
            "Electrical_Energy_Sensor",
            "Electrical_Energy_Sensor",
            "Electrical_Energy_Sensor",
            "Electrical_Energy_Sensor",
            "b1a78aa6_d50d_4c0a_920e_5ff7019ab663_Sensor",
            "b1a78aa6_d50d_4c0a_920e_5ff7019ab663_Sensor",
            "b1a78aa6_d50d_4c0a_920e_5ff7019ab663_Sensor",
            "b1a78aa6_d50d_4c0a_920e_5ff7019ab663_Sensor",
            "b1a78aa6_d50d_4c0a_920e_5ff7019ab663_Sensor",
            "b1a78aa6_d50d_4c0a_920e_5ff7019ab663_Sensor"
           ],
           [
            "Electrical_Power_Sensor",
            "Electrical_Power_Sensor",
            "Electrical_Power_Sensor",
            "Electrical_Power_Sensor",
            "Electrical_Power_Sensor",
            "Electrical_Power_Sensor",
            "Electrical_Power_Sensor",
            "Electrical_Power_Sensor",
            "Electrical_Power_Sensor",
            "Electrical_Power_Sensor",
            "Electrical_Power_Sensor",
            "Electrical_Power_Sensor",
            "Electrical_Power_Sensor",
            "Electrical_Power_Sensor",
            "Electrical_Power_Sensor",
            "Electrical_Power_Sensor",
            "Electrical_Power_Sensor",
            "Sensor",
            "Sensor",
            "Sensor",
            "Sensor",
            "Sensor",
            "Sensor"
           ],
           [
            "1af5f6f9_15b1_4a62_962e_0ede16373202.3ad9be1a_b080_4888_b6da_8bf10dec8623",
            "1af5f6f9_15b1_4a62_962e_0ede16373202.54513e05_7134_47e7_9851_c873ed33a104",
            "1af5f6f9_15b1_4a62_962e_0ede16373202.983cbacc_7d0f_47e8_aa19_a0912eab6f3c",
            "240f89b5_a8f7_4716_ba46_b583227d99a4",
            "6b498416_1218_453d_a09e_64a2e2aebe24.3ad9be1a_b080_4888_b6da_8bf10dec8623",
            "6b498416_1218_453d_a09e_64a2e2aebe24.54513e05_7134_47e7_9851_c873ed33a104",
            "6b498416_1218_453d_a09e_64a2e2aebe24.983cbacc_7d0f_47e8_aa19_a0912eab6f3c",
            "6ef4f046_1a38_4239_a20e_c52e3ed31f4e",
            "70d05bb1_6810_435a_bcac_8166afba0ba6.3ad9be1a_b080_4888_b6da_8bf10dec8623",
            "70d05bb1_6810_435a_bcac_8166afba0ba6.54513e05_7134_47e7_9851_c873ed33a104",
            "70d05bb1_6810_435a_bcac_8166afba0ba6.983cbacc_7d0f_47e8_aa19_a0912eab6f3c",
            "7b630b30_400a_413b_9d29_b0b98688dac5.3ad9be1a_b080_4888_b6da_8bf10dec8623",
            "7b630b30_400a_413b_9d29_b0b98688dac5.54513e05_7134_47e7_9851_c873ed33a104",
            "7b630b30_400a_413b_9d29_b0b98688dac5.983cbacc_7d0f_47e8_aa19_a0912eab6f3c",
            "bb8bdc58_4098_4ba0_a92d_907dad26eaab.3ad9be1a_b080_4888_b6da_8bf10dec8623",
            "bb8bdc58_4098_4ba0_a92d_907dad26eaab.54513e05_7134_47e7_9851_c873ed33a104",
            "bb8bdc58_4098_4ba0_a92d_907dad26eaab.983cbacc_7d0f_47e8_aa19_a0912eab6f3c",
            "1af5f6f9_15b1_4a62_962e_0ede16373202.b1a78aa6_d50d_4c0a_920e_5ff7019ab663",
            "6b498416_1218_453d_a09e_64a2e2aebe24.b1a78aa6_d50d_4c0a_920e_5ff7019ab663",
            "70d05bb1_6810_435a_bcac_8166afba0ba6.b1a78aa6_d50d_4c0a_920e_5ff7019ab663",
            "7b630b30_400a_413b_9d29_b0b98688dac5.b1a78aa6_d50d_4c0a_920e_5ff7019ab663",
            "b1a78aa6_d50d_4c0a_920e_5ff7019ab663",
            "bb8bdc58_4098_4ba0_a92d_907dad26eaab.b1a78aa6_d50d_4c0a_920e_5ff7019ab663"
           ]
          ]
         },
         "domain": {
          "x": [
           0,
           1
          ],
          "y": [
           0,
           0.475
          ]
         },
         "header": {
          "align": "left",
          "font": {
           "size": 10
          },
          "values": [
           "Brick Class in Model",
           "Brick Class in Mapper",
           "Entity ID"
          ]
         },
         "type": "table"
        }
       ],
       "layout": {
        "annotations": [
         {
          "font": {
           "size": 16
          },
          "showarrow": false,
          "text": "Proportion of Data Sources",
          "x": 0.225,
          "xanchor": "center",
          "xref": "paper",
          "y": 1,
          "yanchor": "bottom",
          "yref": "paper"
         },
         {
          "font": {
           "size": 16
          },
          "showarrow": false,
          "text": "Inconsistent by Class",
          "x": 0.775,
          "xanchor": "center",
          "xref": "paper",
          "y": 1,
          "yanchor": "bottom",
          "yref": "paper"
         },
         {
          "font": {
           "size": 16
          },
          "showarrow": false,
          "text": "Data Sources with Inconsistent Brick Class",
          "x": 0.5,
          "xanchor": "center",
          "xref": "paper",
          "y": 0.475,
          "yanchor": "bottom",
          "yref": "paper"
         }
        ],
        "height": 800,
        "showlegend": false,
        "template": {
         "data": {
          "bar": [
           {
            "error_x": {
             "color": "#2a3f5f"
            },
            "error_y": {
             "color": "#2a3f5f"
            },
            "marker": {
             "line": {
              "color": "#E5ECF6",
              "width": 0.5
             },
             "pattern": {
              "fillmode": "overlay",
              "size": 10,
              "solidity": 0.2
             }
            },
            "type": "bar"
           }
          ],
          "barpolar": [
           {
            "marker": {
             "line": {
              "color": "#E5ECF6",
              "width": 0.5
             },
             "pattern": {
              "fillmode": "overlay",
              "size": 10,
              "solidity": 0.2
             }
            },
            "type": "barpolar"
           }
          ],
          "carpet": [
           {
            "aaxis": {
             "endlinecolor": "#2a3f5f",
             "gridcolor": "white",
             "linecolor": "white",
             "minorgridcolor": "white",
             "startlinecolor": "#2a3f5f"
            },
            "baxis": {
             "endlinecolor": "#2a3f5f",
             "gridcolor": "white",
             "linecolor": "white",
             "minorgridcolor": "white",
             "startlinecolor": "#2a3f5f"
            },
            "type": "carpet"
           }
          ],
          "choropleth": [
           {
            "colorbar": {
             "outlinewidth": 0,
             "ticks": ""
            },
            "type": "choropleth"
           }
          ],
          "contour": [
           {
            "colorbar": {
             "outlinewidth": 0,
             "ticks": ""
            },
            "colorscale": [
             [
              0,
              "#0d0887"
             ],
             [
              0.1111111111111111,
              "#46039f"
             ],
             [
              0.2222222222222222,
              "#7201a8"
             ],
             [
              0.3333333333333333,
              "#9c179e"
             ],
             [
              0.4444444444444444,
              "#bd3786"
             ],
             [
              0.5555555555555556,
              "#d8576b"
             ],
             [
              0.6666666666666666,
              "#ed7953"
             ],
             [
              0.7777777777777778,
              "#fb9f3a"
             ],
             [
              0.8888888888888888,
              "#fdca26"
             ],
             [
              1,
              "#f0f921"
             ]
            ],
            "type": "contour"
           }
          ],
          "contourcarpet": [
           {
            "colorbar": {
             "outlinewidth": 0,
             "ticks": ""
            },
            "type": "contourcarpet"
           }
          ],
          "heatmap": [
           {
            "colorbar": {
             "outlinewidth": 0,
             "ticks": ""
            },
            "colorscale": [
             [
              0,
              "#0d0887"
             ],
             [
              0.1111111111111111,
              "#46039f"
             ],
             [
              0.2222222222222222,
              "#7201a8"
             ],
             [
              0.3333333333333333,
              "#9c179e"
             ],
             [
              0.4444444444444444,
              "#bd3786"
             ],
             [
              0.5555555555555556,
              "#d8576b"
             ],
             [
              0.6666666666666666,
              "#ed7953"
             ],
             [
              0.7777777777777778,
              "#fb9f3a"
             ],
             [
              0.8888888888888888,
              "#fdca26"
             ],
             [
              1,
              "#f0f921"
             ]
            ],
            "type": "heatmap"
           }
          ],
          "heatmapgl": [
           {
            "colorbar": {
             "outlinewidth": 0,
             "ticks": ""
            },
            "colorscale": [
             [
              0,
              "#0d0887"
             ],
             [
              0.1111111111111111,
              "#46039f"
             ],
             [
              0.2222222222222222,
              "#7201a8"
             ],
             [
              0.3333333333333333,
              "#9c179e"
             ],
             [
              0.4444444444444444,
              "#bd3786"
             ],
             [
              0.5555555555555556,
              "#d8576b"
             ],
             [
              0.6666666666666666,
              "#ed7953"
             ],
             [
              0.7777777777777778,
              "#fb9f3a"
             ],
             [
              0.8888888888888888,
              "#fdca26"
             ],
             [
              1,
              "#f0f921"
             ]
            ],
            "type": "heatmapgl"
           }
          ],
          "histogram": [
           {
            "marker": {
             "pattern": {
              "fillmode": "overlay",
              "size": 10,
              "solidity": 0.2
             }
            },
            "type": "histogram"
           }
          ],
          "histogram2d": [
           {
            "colorbar": {
             "outlinewidth": 0,
             "ticks": ""
            },
            "colorscale": [
             [
              0,
              "#0d0887"
             ],
             [
              0.1111111111111111,
              "#46039f"
             ],
             [
              0.2222222222222222,
              "#7201a8"
             ],
             [
              0.3333333333333333,
              "#9c179e"
             ],
             [
              0.4444444444444444,
              "#bd3786"
             ],
             [
              0.5555555555555556,
              "#d8576b"
             ],
             [
              0.6666666666666666,
              "#ed7953"
             ],
             [
              0.7777777777777778,
              "#fb9f3a"
             ],
             [
              0.8888888888888888,
              "#fdca26"
             ],
             [
              1,
              "#f0f921"
             ]
            ],
            "type": "histogram2d"
           }
          ],
          "histogram2dcontour": [
           {
            "colorbar": {
             "outlinewidth": 0,
             "ticks": ""
            },
            "colorscale": [
             [
              0,
              "#0d0887"
             ],
             [
              0.1111111111111111,
              "#46039f"
             ],
             [
              0.2222222222222222,
              "#7201a8"
             ],
             [
              0.3333333333333333,
              "#9c179e"
             ],
             [
              0.4444444444444444,
              "#bd3786"
             ],
             [
              0.5555555555555556,
              "#d8576b"
             ],
             [
              0.6666666666666666,
              "#ed7953"
             ],
             [
              0.7777777777777778,
              "#fb9f3a"
             ],
             [
              0.8888888888888888,
              "#fdca26"
             ],
             [
              1,
              "#f0f921"
             ]
            ],
            "type": "histogram2dcontour"
           }
          ],
          "mesh3d": [
           {
            "colorbar": {
             "outlinewidth": 0,
             "ticks": ""
            },
            "type": "mesh3d"
           }
          ],
          "parcoords": [
           {
            "line": {
             "colorbar": {
              "outlinewidth": 0,
              "ticks": ""
             }
            },
            "type": "parcoords"
           }
          ],
          "pie": [
           {
            "automargin": true,
            "type": "pie"
           }
          ],
          "scatter": [
           {
            "fillpattern": {
             "fillmode": "overlay",
             "size": 10,
             "solidity": 0.2
            },
            "type": "scatter"
           }
          ],
          "scatter3d": [
           {
            "line": {
             "colorbar": {
              "outlinewidth": 0,
              "ticks": ""
             }
            },
            "marker": {
             "colorbar": {
              "outlinewidth": 0,
              "ticks": ""
             }
            },
            "type": "scatter3d"
           }
          ],
          "scattercarpet": [
           {
            "marker": {
             "colorbar": {
              "outlinewidth": 0,
              "ticks": ""
             }
            },
            "type": "scattercarpet"
           }
          ],
          "scattergeo": [
           {
            "marker": {
             "colorbar": {
              "outlinewidth": 0,
              "ticks": ""
             }
            },
            "type": "scattergeo"
           }
          ],
          "scattergl": [
           {
            "marker": {
             "colorbar": {
              "outlinewidth": 0,
              "ticks": ""
             }
            },
            "type": "scattergl"
           }
          ],
          "scattermapbox": [
           {
            "marker": {
             "colorbar": {
              "outlinewidth": 0,
              "ticks": ""
             }
            },
            "type": "scattermapbox"
           }
          ],
          "scatterpolar": [
           {
            "marker": {
             "colorbar": {
              "outlinewidth": 0,
              "ticks": ""
             }
            },
            "type": "scatterpolar"
           }
          ],
          "scatterpolargl": [
           {
            "marker": {
             "colorbar": {
              "outlinewidth": 0,
              "ticks": ""
             }
            },
            "type": "scatterpolargl"
           }
          ],
          "scatterternary": [
           {
            "marker": {
             "colorbar": {
              "outlinewidth": 0,
              "ticks": ""
             }
            },
            "type": "scatterternary"
           }
          ],
          "surface": [
           {
            "colorbar": {
             "outlinewidth": 0,
             "ticks": ""
            },
            "colorscale": [
             [
              0,
              "#0d0887"
             ],
             [
              0.1111111111111111,
              "#46039f"
             ],
             [
              0.2222222222222222,
              "#7201a8"
             ],
             [
              0.3333333333333333,
              "#9c179e"
             ],
             [
              0.4444444444444444,
              "#bd3786"
             ],
             [
              0.5555555555555556,
              "#d8576b"
             ],
             [
              0.6666666666666666,
              "#ed7953"
             ],
             [
              0.7777777777777778,
              "#fb9f3a"
             ],
             [
              0.8888888888888888,
              "#fdca26"
             ],
             [
              1,
              "#f0f921"
             ]
            ],
            "type": "surface"
           }
          ],
          "table": [
           {
            "cells": {
             "fill": {
              "color": "#EBF0F8"
             },
             "line": {
              "color": "white"
             }
            },
            "header": {
             "fill": {
              "color": "#C8D4E3"
             },
             "line": {
              "color": "white"
             }
            },
            "type": "table"
           }
          ]
         },
         "layout": {
          "annotationdefaults": {
           "arrowcolor": "#2a3f5f",
           "arrowhead": 0,
           "arrowwidth": 1
          },
          "autotypenumbers": "strict",
          "coloraxis": {
           "colorbar": {
            "outlinewidth": 0,
            "ticks": ""
           }
          },
          "colorscale": {
           "diverging": [
            [
             0,
             "#8e0152"
            ],
            [
             0.1,
             "#c51b7d"
            ],
            [
             0.2,
             "#de77ae"
            ],
            [
             0.3,
             "#f1b6da"
            ],
            [
             0.4,
             "#fde0ef"
            ],
            [
             0.5,
             "#f7f7f7"
            ],
            [
             0.6,
             "#e6f5d0"
            ],
            [
             0.7,
             "#b8e186"
            ],
            [
             0.8,
             "#7fbc41"
            ],
            [
             0.9,
             "#4d9221"
            ],
            [
             1,
             "#276419"
            ]
           ],
           "sequential": [
            [
             0,
             "#0d0887"
            ],
            [
             0.1111111111111111,
             "#46039f"
            ],
            [
             0.2222222222222222,
             "#7201a8"
            ],
            [
             0.3333333333333333,
             "#9c179e"
            ],
            [
             0.4444444444444444,
             "#bd3786"
            ],
            [
             0.5555555555555556,
             "#d8576b"
            ],
            [
             0.6666666666666666,
             "#ed7953"
            ],
            [
             0.7777777777777778,
             "#fb9f3a"
            ],
            [
             0.8888888888888888,
             "#fdca26"
            ],
            [
             1,
             "#f0f921"
            ]
           ],
           "sequentialminus": [
            [
             0,
             "#0d0887"
            ],
            [
             0.1111111111111111,
             "#46039f"
            ],
            [
             0.2222222222222222,
             "#7201a8"
            ],
            [
             0.3333333333333333,
             "#9c179e"
            ],
            [
             0.4444444444444444,
             "#bd3786"
            ],
            [
             0.5555555555555556,
             "#d8576b"
            ],
            [
             0.6666666666666666,
             "#ed7953"
            ],
            [
             0.7777777777777778,
             "#fb9f3a"
            ],
            [
             0.8888888888888888,
             "#fdca26"
            ],
            [
             1,
             "#f0f921"
            ]
           ]
          },
          "colorway": [
           "#636efa",
           "#EF553B",
           "#00cc96",
           "#ab63fa",
           "#FFA15A",
           "#19d3f3",
           "#FF6692",
           "#B6E880",
           "#FF97FF",
           "#FECB52"
          ],
          "font": {
           "color": "#2a3f5f"
          },
          "geo": {
           "bgcolor": "white",
           "lakecolor": "white",
           "landcolor": "#E5ECF6",
           "showlakes": true,
           "showland": true,
           "subunitcolor": "white"
          },
          "hoverlabel": {
           "align": "left"
          },
          "hovermode": "closest",
          "mapbox": {
           "style": "light"
          },
          "paper_bgcolor": "white",
          "plot_bgcolor": "#E5ECF6",
          "polar": {
           "angularaxis": {
            "gridcolor": "white",
            "linecolor": "white",
            "ticks": ""
           },
           "bgcolor": "#E5ECF6",
           "radialaxis": {
            "gridcolor": "white",
            "linecolor": "white",
            "ticks": ""
           }
          },
          "scene": {
           "xaxis": {
            "backgroundcolor": "#E5ECF6",
            "gridcolor": "white",
            "gridwidth": 2,
            "linecolor": "white",
            "showbackground": true,
            "ticks": "",
            "zerolinecolor": "white"
           },
           "yaxis": {
            "backgroundcolor": "#E5ECF6",
            "gridcolor": "white",
            "gridwidth": 2,
            "linecolor": "white",
            "showbackground": true,
            "ticks": "",
            "zerolinecolor": "white"
           },
           "zaxis": {
            "backgroundcolor": "#E5ECF6",
            "gridcolor": "white",
            "gridwidth": 2,
            "linecolor": "white",
            "showbackground": true,
            "ticks": "",
            "zerolinecolor": "white"
           }
          },
          "shapedefaults": {
           "line": {
            "color": "#2a3f5f"
           }
          },
          "ternary": {
           "aaxis": {
            "gridcolor": "white",
            "linecolor": "white",
            "ticks": ""
           },
           "baxis": {
            "gridcolor": "white",
            "linecolor": "white",
            "ticks": ""
           },
           "bgcolor": "#E5ECF6",
           "caxis": {
            "gridcolor": "white",
            "linecolor": "white",
            "ticks": ""
           }
          },
          "title": {
           "x": 0.05
          },
          "xaxis": {
           "automargin": true,
           "gridcolor": "white",
           "linecolor": "white",
           "ticks": "",
           "title": {
            "standoff": 15
           },
           "zerolinecolor": "white",
           "zerolinewidth": 2
          },
          "yaxis": {
           "automargin": true,
           "gridcolor": "white",
           "linecolor": "white",
           "ticks": "",
           "title": {
            "standoff": 15
           },
           "zerolinecolor": "white",
           "zerolinewidth": 2
          }
         }
        },
        "title": {
         "text": "Data Sources with Inconsistent Brick Class between Model and Mapper",
         "x": 0.5
        }
       }
      }
     },
     "metadata": {},
     "output_type": "display_data"
    }
   ],
   "source": [
    "fig = make_subplots(\n",
    "    rows=2, cols=2,\n",
    "    # shared_xaxes=True,\n",
    "    # vertical_spacing=0.1,\n",
    "    vertical_spacing=0.05,\n",
    "    subplot_titles = ['Proportion of Data Sources', 'Inconsistent by Class', 'Data Sources with Inconsistent Brick Class'],\n",
    "    specs=[[{\"type\": \"pie\"}, {\"type\": \"pie\"}],\n",
    "           [{\"type\": \"table\", 'colspan': 2}, None]]\n",
    ")\n",
    "\n",
    "fig.add_trace(\n",
    "    go.Pie(\n",
    "        labels=number_consistency_labels,\n",
    "        values=number_consistency_values,\n",
    "        textposition='inside', \n",
    "        textinfo='percent+label',\n",
    "        name=\"\",\n",
    "    ),\n",
    "    row=1, col=1\n",
    ")\n",
    "\n",
    "\n",
    "fig.add_trace(\n",
    "    go.Pie(\n",
    "        labels=consistency_by_class_labels,\n",
    "        values=consistency_by_class_values,\n",
    "        textposition='inside', \n",
    "        textinfo='percent+label',\n",
    "        name=\"\",\n",
    "    ),\n",
    "    row=1, col=2\n",
    ")\n",
    "\n",
    "fig.add_trace(\n",
    "    go.Table(\n",
    "        header=dict(\n",
    "            values=[\"Brick Class in Model\", \"Brick Class in Mapper\", \"Entity ID\"],\n",
    "            font=dict(size=10),\n",
    "            align=\"left\"\n",
    "        ),\n",
    "        cells=dict(\n",
    "            values=[inconsistent_classes[k].tolist() for k in inconsistent_classes.columns[:3]],\n",
    "            align = \"left\")\n",
    "    ),\n",
    "    row=2, col=1,\n",
    ")\n",
    "\n",
    "fig.update_layout(\n",
    "    height=800,\n",
    "    showlegend=False,\n",
    "    title_text=\"Data Sources with Inconsistent Brick Class between Model and Mapper\",\n",
    "    title_x=0.5,\n",
    ")\n",
    "\n",
    "fig.show()"
   ]
  },
  {
   "cell_type": "code",
   "execution_count": 809,
   "metadata": {},
   "outputs": [],
   "source": [
    "inconsistent_classes.to_csv('04_data_sources_with_inconsistent_classes.csv', index=False)"
   ]
  },
  {
   "cell_type": "code",
   "execution_count": 810,
   "metadata": {},
   "outputs": [],
   "source": [
    "fig.write_html(\"04_data_sources_with_inconsistent_class.html\")"
   ]
  },
  {
   "cell_type": "markdown",
   "metadata": {},
   "source": [
    "---\n",
    "\n",
    "# SCRATCH"
   ]
  },
  {
   "cell_type": "code",
   "execution_count": null,
   "metadata": {},
   "outputs": [],
   "source": [
    "# streams with blank node units\n",
    "q = '''\n",
    "SELECT ?a ?b\n",
    "WHERE {\n",
    "    ?a brick:hasUnit [ brick:value ?b ] .\n",
    "}\n",
    "'''\n",
    "sparql_to_df(g_building, q)"
   ]
  },
  {
   "cell_type": "code",
   "execution_count": null,
   "metadata": {},
   "outputs": [],
   "source": [
    "# streams with blank node units\n",
    "q = '''\n",
    "SELECT ?a ?b\n",
    "WHERE {\n",
    "    ?a brick:hasUnit ?b .\n",
    "    ?b rdf:type/rdfs:subClassOf* unit: .\n",
    "}\n",
    "'''\n",
    "sparql_to_df(g_building, q)"
   ]
  },
  {
   "cell_type": "code",
   "execution_count": null,
   "metadata": {},
   "outputs": [],
   "source": [
    "# streams with proper units\n",
    "q = '''\n",
    "SELECT ?a ?b\n",
    "WHERE {\n",
    "    ?a brick:hasUnit ?b .\n",
    "    filter ( strstarts(str(?b),str(unit:)) ) .\n",
    "}\n",
    "'''\n",
    "sparql_to_df(g_building, q)"
   ]
  },
  {
   "cell_type": "code",
   "execution_count": null,
   "metadata": {},
   "outputs": [],
   "source": [
    "for ns_prefix, namespace in g_building.namespaces():\n",
    "    print(f'{ns_prefix}: {namespace}')"
   ]
  },
  {
   "cell_type": "code",
   "execution_count": 245,
   "metadata": {},
   "outputs": [],
   "source": [
    "df.to_csv('model_quality_defrag.csv', index=False)"
   ]
  },
  {
   "cell_type": "code",
   "execution_count": null,
   "metadata": {},
   "outputs": [],
   "source": [
    "def get_anonymous_units(s, g):\n",
    "    q = '''\n",
    "    SELECT ?units\n",
    "    WHERE {\n",
    "        ?entity brick:hasUnit [ brick:value ?units ] .\n",
    "    }\n",
    "    '''\n",
    "    return sparql_to_df(g, q, initBindings={'entity': s})\n",
    "\n",
    "df['anonymous_units'] = df['entity'].apply(get_anonymous_units, args=(g_building,))\n",
    "\n",
    "df.head()"
   ]
  },
  {
   "cell_type": "code",
   "execution_count": null,
   "metadata": {},
   "outputs": [],
   "source": [
    "def get_named_units(s, g):\n",
    "    # streams with proper units\n",
    "    q = '''\n",
    "    SELECT ?named_units\n",
    "    WHERE {\n",
    "        ?entity brick:hasUnit ?named_units .\n",
    "        # filter ( strstarts(str(?b),str(unit:)) ) .\n",
    "    }\n",
    "    '''\n",
    "    return sparql_to_df(g, q, initBindings={'entity': s})\n",
    "\n",
    "df['named_units'] = df['entity'].apply(get_named_units, args=(g_building,))\n",
    "\n",
    "df.head()"
   ]
  },
  {
   "cell_type": "code",
   "execution_count": null,
   "metadata": {},
   "outputs": [],
   "source": [
    "# df['stream_exists_in_mapping'] = np.where(df['stream_id'].isna(), np.nan, df['stream_id'].str.isin(mapping_df['StreamID']))\n",
    "\n",
    "df['stream_exists_in_mapping'] = np.where(\n",
    "    df['stream_id'].apply(lambda x: pd.isna(str(x).strip())), pd.NA,  # Handle empty Literal\n",
    "    df['stream_id'].apply(lambda x: str(x)).isin(mapping_df['StreamID'])  # Convert Literal to string and check\n",
    ")\n",
    "# df['stream_exists_in_mapping'] = df['stream_exists_in_mapping'].astype('boolean')\n",
    "df['stream_exists_in_mapping'] = df['stream_exists_in_mapping'].apply(\n",
    "    lambda x: pd.NA if pd.isna(x) else bool(x)\n",
    ")\n",
    "\n",
    "df.head()\n",
    "# df[('stream_id' == '')]\n",
    "# df[df['stream_id'] != '']\n",
    "df[pd.isna(df['stream_id'])]\n",
    "# for val in df['stream_id']:\n",
    "#     print(val)"
   ]
  }
 ],
 "metadata": {
  "kernelspec": {
   "display_name": ".venv",
   "language": "python",
   "name": "python3"
  },
  "language_info": {
   "codemirror_mode": {
    "name": "ipython",
    "version": 3
   },
   "file_extension": ".py",
   "mimetype": "text/x-python",
   "name": "python",
   "nbconvert_exporter": "python",
   "pygments_lexer": "ipython3",
   "version": "3.12.2"
  }
 },
 "nbformat": 4,
 "nbformat_minor": 2
}
