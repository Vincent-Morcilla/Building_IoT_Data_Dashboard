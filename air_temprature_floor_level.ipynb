{
 "cells": [
  {
   "cell_type": "code",
   "execution_count": 3,
   "metadata": {},
   "outputs": [],
   "source": [
    "import pandas as pd\n",
    "import pickle\n",
    "import matplotlib.pyplot as plt"
   ]
  },
  {
   "cell_type": "code",
   "execution_count": 4,
   "metadata": {},
   "outputs": [],
   "source": [
    "train_mapper_path = \"./datasets/bts_site_b_train/mapper_TrainOnly.csv\"\n",
    "train_file_path =  \"./datasets/train/\" "
   ]
  },
  {
   "cell_type": "code",
   "execution_count": 5,
   "metadata": {},
   "outputs": [
    {
     "data": {
      "text/html": [
       "<div>\n",
       "<style scoped>\n",
       "    .dataframe tbody tr th:only-of-type {\n",
       "        vertical-align: middle;\n",
       "    }\n",
       "\n",
       "    .dataframe tbody tr th {\n",
       "        vertical-align: top;\n",
       "    }\n",
       "\n",
       "    .dataframe thead th {\n",
       "        text-align: right;\n",
       "    }\n",
       "</style>\n",
       "<table border=\"1\" class=\"dataframe\">\n",
       "  <thead>\n",
       "    <tr style=\"text-align: right;\">\n",
       "      <th></th>\n",
       "      <th>Unnamed: 0</th>\n",
       "      <th>Building</th>\n",
       "      <th>StreamID</th>\n",
       "      <th>Filename</th>\n",
       "      <th>strBrickLabel</th>\n",
       "    </tr>\n",
       "  </thead>\n",
       "  <tbody>\n",
       "    <tr>\n",
       "      <th>0</th>\n",
       "      <td>0</td>\n",
       "      <td>A</td>\n",
       "      <td>9ba955fa_5960_4c9b_b73a_10156da7d083</td>\n",
       "      <td>trainAll_0.pkl</td>\n",
       "      <td>Operating_Mode_Status</td>\n",
       "    </tr>\n",
       "    <tr>\n",
       "      <th>1</th>\n",
       "      <td>1</td>\n",
       "      <td>A</td>\n",
       "      <td>7a027f80_7d78_4a88_a1c1_20aaed374d97</td>\n",
       "      <td>FILE NOT SAVED: y is Point.</td>\n",
       "      <td>Point</td>\n",
       "    </tr>\n",
       "    <tr>\n",
       "      <th>2</th>\n",
       "      <td>2</td>\n",
       "      <td>A</td>\n",
       "      <td>8fd6e75b_88bc_4992_b420_77389969b3c4</td>\n",
       "      <td>trainAll_1.pkl</td>\n",
       "      <td>Mode_Command</td>\n",
       "    </tr>\n",
       "    <tr>\n",
       "      <th>3</th>\n",
       "      <td>3</td>\n",
       "      <td>A</td>\n",
       "      <td>8db6eaa9_bd6c_4f7e_aed0_a47e4e192a6c</td>\n",
       "      <td>trainAll_2.pkl</td>\n",
       "      <td>Active_Power_Sensor</td>\n",
       "    </tr>\n",
       "    <tr>\n",
       "      <th>4</th>\n",
       "      <td>4</td>\n",
       "      <td>A</td>\n",
       "      <td>b2338dec_110a_45cc_8358_1171aaef2c45</td>\n",
       "      <td>trainAll_3.pkl</td>\n",
       "      <td>System_Status</td>\n",
       "    </tr>\n",
       "  </tbody>\n",
       "</table>\n",
       "</div>"
      ],
      "text/plain": [
       "   Unnamed: 0 Building                              StreamID  \\\n",
       "0           0        A  9ba955fa_5960_4c9b_b73a_10156da7d083   \n",
       "1           1        A  7a027f80_7d78_4a88_a1c1_20aaed374d97   \n",
       "2           2        A  8fd6e75b_88bc_4992_b420_77389969b3c4   \n",
       "3           3        A  8db6eaa9_bd6c_4f7e_aed0_a47e4e192a6c   \n",
       "4           4        A  b2338dec_110a_45cc_8358_1171aaef2c45   \n",
       "\n",
       "                      Filename          strBrickLabel  \n",
       "0               trainAll_0.pkl  Operating_Mode_Status  \n",
       "1  FILE NOT SAVED: y is Point.                  Point  \n",
       "2               trainAll_1.pkl           Mode_Command  \n",
       "3               trainAll_2.pkl    Active_Power_Sensor  \n",
       "4               trainAll_3.pkl          System_Status  "
      ]
     },
     "execution_count": 5,
     "metadata": {},
     "output_type": "execute_result"
    }
   ],
   "source": [
    "df_mapper = pd.read_csv(train_mapper_path)\n",
    "df_mapper.head()"
   ]
  },
  {
   "cell_type": "code",
   "execution_count": 6,
   "metadata": {},
   "outputs": [
    {
     "data": {
      "text/html": [
       "<div>\n",
       "<style scoped>\n",
       "    .dataframe tbody tr th:only-of-type {\n",
       "        vertical-align: middle;\n",
       "    }\n",
       "\n",
       "    .dataframe tbody tr th {\n",
       "        vertical-align: top;\n",
       "    }\n",
       "\n",
       "    .dataframe thead th {\n",
       "        text-align: right;\n",
       "    }\n",
       "</style>\n",
       "<table border=\"1\" class=\"dataframe\">\n",
       "  <thead>\n",
       "    <tr style=\"text-align: right;\">\n",
       "      <th></th>\n",
       "      <th>ID</th>\n",
       "      <th>StreamID</th>\n",
       "      <th>Type</th>\n",
       "      <th>Category</th>\n",
       "      <th>Unit</th>\n",
       "      <th>NestedRelations</th>\n",
       "      <th>RelationType.1</th>\n",
       "      <th>Entity.EntityID.1</th>\n",
       "      <th>Entity.EntityType.1</th>\n",
       "      <th>Entity.Category.1</th>\n",
       "      <th>...</th>\n",
       "      <th>Entity.EntityType.4</th>\n",
       "      <th>Entity.Category.4</th>\n",
       "      <th>Entity.Depth.4</th>\n",
       "      <th>RelationType.5</th>\n",
       "      <th>Entity.EntityID.5</th>\n",
       "      <th>Entity.EntityType.5</th>\n",
       "      <th>Entity.Category.5</th>\n",
       "      <th>Entity.Depth.5</th>\n",
       "      <th>hasStream</th>\n",
       "      <th>Unnamed: 32</th>\n",
       "    </tr>\n",
       "  </thead>\n",
       "  <tbody>\n",
       "    <tr>\n",
       "      <th>0</th>\n",
       "      <td>08684dc4_48b2_49da_b3cd_9b061c76c4f4</td>\n",
       "      <td>f3628673_839d_4681_9a34_b6374951908f</td>\n",
       "      <td>Current_Sensor</td>\n",
       "      <td>Sensor</td>\n",
       "      <td>A</td>\n",
       "      <td>{'RelatedEntities': [{'RelationType': 'isPoint...</td>\n",
       "      <td>isPointOf</td>\n",
       "      <td>b99ce6df_b057_4d80_81ba_ad76462968c1</td>\n",
       "      <td>Electrical_Generation_Meter</td>\n",
       "      <td>Equipment</td>\n",
       "      <td>...</td>\n",
       "      <td>NaN</td>\n",
       "      <td>NaN</td>\n",
       "      <td>NaN</td>\n",
       "      <td>NaN</td>\n",
       "      <td>NaN</td>\n",
       "      <td>NaN</td>\n",
       "      <td>NaN</td>\n",
       "      <td>NaN</td>\n",
       "      <td>True</td>\n",
       "      <td>f3628673_839d_4681_9a34_b6374951908f</td>\n",
       "    </tr>\n",
       "    <tr>\n",
       "      <th>1</th>\n",
       "      <td>08ff7ae0_acef_4f4d_8328_2de484a6d5e1.080e0472_...</td>\n",
       "      <td>7274bab7_ada3_4c00_8d20_e84a8d33f995</td>\n",
       "      <td>Mode_Status</td>\n",
       "      <td>Point</td>\n",
       "      <td>NaN</td>\n",
       "      <td>{'RelatedEntities': []}</td>\n",
       "      <td>NaN</td>\n",
       "      <td>NaN</td>\n",
       "      <td>NaN</td>\n",
       "      <td>NaN</td>\n",
       "      <td>...</td>\n",
       "      <td>NaN</td>\n",
       "      <td>NaN</td>\n",
       "      <td>NaN</td>\n",
       "      <td>NaN</td>\n",
       "      <td>NaN</td>\n",
       "      <td>NaN</td>\n",
       "      <td>NaN</td>\n",
       "      <td>NaN</td>\n",
       "      <td>False</td>\n",
       "      <td>NaN</td>\n",
       "    </tr>\n",
       "    <tr>\n",
       "      <th>2</th>\n",
       "      <td>08ff7ae0_acef_4f4d_8328_2de484a6d5e1.1316fd60_...</td>\n",
       "      <td>6c61a963_a4cf_485d_a15f_13154222a1ae</td>\n",
       "      <td>Heating_Command</td>\n",
       "      <td>Point</td>\n",
       "      <td>NaN</td>\n",
       "      <td>{'RelatedEntities': []}</td>\n",
       "      <td>NaN</td>\n",
       "      <td>NaN</td>\n",
       "      <td>NaN</td>\n",
       "      <td>NaN</td>\n",
       "      <td>...</td>\n",
       "      <td>NaN</td>\n",
       "      <td>NaN</td>\n",
       "      <td>NaN</td>\n",
       "      <td>NaN</td>\n",
       "      <td>NaN</td>\n",
       "      <td>NaN</td>\n",
       "      <td>NaN</td>\n",
       "      <td>NaN</td>\n",
       "      <td>True</td>\n",
       "      <td>NaN</td>\n",
       "    </tr>\n",
       "    <tr>\n",
       "      <th>3</th>\n",
       "      <td>08ff7ae0_acef_4f4d_8328_2de484a6d5e1.16fbd00a_...</td>\n",
       "      <td>e022d248_71dc_4142_a4af_01f2eff3360b</td>\n",
       "      <td>Water_Temperature_Sensor</td>\n",
       "      <td>Sensor</td>\n",
       "      <td>NaN</td>\n",
       "      <td>{'RelatedEntities': []}</td>\n",
       "      <td>NaN</td>\n",
       "      <td>NaN</td>\n",
       "      <td>NaN</td>\n",
       "      <td>NaN</td>\n",
       "      <td>...</td>\n",
       "      <td>NaN</td>\n",
       "      <td>NaN</td>\n",
       "      <td>NaN</td>\n",
       "      <td>NaN</td>\n",
       "      <td>NaN</td>\n",
       "      <td>NaN</td>\n",
       "      <td>NaN</td>\n",
       "      <td>NaN</td>\n",
       "      <td>True</td>\n",
       "      <td>NaN</td>\n",
       "    </tr>\n",
       "    <tr>\n",
       "      <th>4</th>\n",
       "      <td>08ff7ae0_acef_4f4d_8328_2de484a6d5e1.18999260_...</td>\n",
       "      <td>0c6cb0a3_7b9c_43af_baf5_dcb4ccd6914a</td>\n",
       "      <td>Heating_Command</td>\n",
       "      <td>Point</td>\n",
       "      <td>NaN</td>\n",
       "      <td>{'RelatedEntities': [{'RelationType': 'isPoint...</td>\n",
       "      <td>isPointOf</td>\n",
       "      <td>c10f79c9_744d_40a5_a272_7cde7ca1f5a6</td>\n",
       "      <td>Air_Handler_Unit</td>\n",
       "      <td>Equipment</td>\n",
       "      <td>...</td>\n",
       "      <td>NaN</td>\n",
       "      <td>NaN</td>\n",
       "      <td>NaN</td>\n",
       "      <td>NaN</td>\n",
       "      <td>NaN</td>\n",
       "      <td>NaN</td>\n",
       "      <td>NaN</td>\n",
       "      <td>NaN</td>\n",
       "      <td>True</td>\n",
       "      <td>NaN</td>\n",
       "    </tr>\n",
       "  </tbody>\n",
       "</table>\n",
       "<p>5 rows × 33 columns</p>\n",
       "</div>"
      ],
      "text/plain": [
       "                                                  ID  \\\n",
       "0               08684dc4_48b2_49da_b3cd_9b061c76c4f4   \n",
       "1  08ff7ae0_acef_4f4d_8328_2de484a6d5e1.080e0472_...   \n",
       "2  08ff7ae0_acef_4f4d_8328_2de484a6d5e1.1316fd60_...   \n",
       "3  08ff7ae0_acef_4f4d_8328_2de484a6d5e1.16fbd00a_...   \n",
       "4  08ff7ae0_acef_4f4d_8328_2de484a6d5e1.18999260_...   \n",
       "\n",
       "                               StreamID                      Type Category  \\\n",
       "0  f3628673_839d_4681_9a34_b6374951908f            Current_Sensor   Sensor   \n",
       "1  7274bab7_ada3_4c00_8d20_e84a8d33f995               Mode_Status    Point   \n",
       "2  6c61a963_a4cf_485d_a15f_13154222a1ae           Heating_Command    Point   \n",
       "3  e022d248_71dc_4142_a4af_01f2eff3360b  Water_Temperature_Sensor   Sensor   \n",
       "4  0c6cb0a3_7b9c_43af_baf5_dcb4ccd6914a           Heating_Command    Point   \n",
       "\n",
       "  Unit                                    NestedRelations RelationType.1  \\\n",
       "0    A  {'RelatedEntities': [{'RelationType': 'isPoint...      isPointOf   \n",
       "1  NaN                            {'RelatedEntities': []}            NaN   \n",
       "2  NaN                            {'RelatedEntities': []}            NaN   \n",
       "3  NaN                            {'RelatedEntities': []}            NaN   \n",
       "4  NaN  {'RelatedEntities': [{'RelationType': 'isPoint...      isPointOf   \n",
       "\n",
       "                      Entity.EntityID.1          Entity.EntityType.1  \\\n",
       "0  b99ce6df_b057_4d80_81ba_ad76462968c1  Electrical_Generation_Meter   \n",
       "1                                   NaN                          NaN   \n",
       "2                                   NaN                          NaN   \n",
       "3                                   NaN                          NaN   \n",
       "4  c10f79c9_744d_40a5_a272_7cde7ca1f5a6             Air_Handler_Unit   \n",
       "\n",
       "  Entity.Category.1  ...  Entity.EntityType.4 Entity.Category.4  \\\n",
       "0         Equipment  ...                  NaN               NaN   \n",
       "1               NaN  ...                  NaN               NaN   \n",
       "2               NaN  ...                  NaN               NaN   \n",
       "3               NaN  ...                  NaN               NaN   \n",
       "4         Equipment  ...                  NaN               NaN   \n",
       "\n",
       "  Entity.Depth.4 RelationType.5 Entity.EntityID.5  Entity.EntityType.5  \\\n",
       "0            NaN            NaN               NaN                  NaN   \n",
       "1            NaN            NaN               NaN                  NaN   \n",
       "2            NaN            NaN               NaN                  NaN   \n",
       "3            NaN            NaN               NaN                  NaN   \n",
       "4            NaN            NaN               NaN                  NaN   \n",
       "\n",
       "  Entity.Category.5 Entity.Depth.5 hasStream  \\\n",
       "0               NaN            NaN      True   \n",
       "1               NaN            NaN     False   \n",
       "2               NaN            NaN      True   \n",
       "3               NaN            NaN      True   \n",
       "4               NaN            NaN      True   \n",
       "\n",
       "                            Unnamed: 32  \n",
       "0  f3628673_839d_4681_9a34_b6374951908f  \n",
       "1                                   NaN  \n",
       "2                                   NaN  \n",
       "3                                   NaN  \n",
       "4                                   NaN  \n",
       "\n",
       "[5 rows x 33 columns]"
      ]
     },
     "execution_count": 6,
     "metadata": {},
     "output_type": "execute_result"
    }
   ],
   "source": [
    "df = pd.read_csv('./sensor_location.csv')\n",
    "df.head()"
   ]
  },
  {
   "cell_type": "markdown",
   "metadata": {},
   "source": [
    "#### Sensor In the Building"
   ]
  },
  {
   "cell_type": "code",
   "execution_count": 7,
   "metadata": {},
   "outputs": [
    {
     "data": {
      "text/plain": [
       "array(['Current_Sensor', 'Water_Temperature_Sensor',\n",
       "       'Heating_Demand_Sensor', 'Return_Water_Temperature_Sensor',\n",
       "       'Differential_Pressure_Sensor',\n",
       "       'Discharge_Water_Temperature_Sensor', 'Position_Sensor',\n",
       "       'Air_Temperature_Sensor', 'Electrical_Power_Sensor',\n",
       "       'Voltage_Sensor', 'Electrical_Energy_Sensor',\n",
       "       'b1a78aa6_d50d_4c0a_920e_5ff7019ab663_Sensor', 'Usage_Sensor',\n",
       "       'Outside_Air_Humidity_Sensor', 'Outside_Air_Temperature_Sensor',\n",
       "       'Discharge_Air_Temperature_Sensor',\n",
       "       'Filter_Differential_Pressure_Sensor', 'Damper_Position_Sensor',\n",
       "       'Wind_Speed_Sensor', 'Thermal_Power_Sensor',\n",
       "       'Cooling_Demand_Sensor',\n",
       "       'Chilled_Water_Differential_Temperature_Sensor', 'Angle_Sensor',\n",
       "       'Average_Zone_Air_Temperature_Sensor',\n",
       "       'Warmest_Zone_Air_Temperature_Sensor'], dtype=object)"
      ]
     },
     "execution_count": 7,
     "metadata": {},
     "output_type": "execute_result"
    }
   ],
   "source": [
    "df.query(\"Category=='Sensor'\").Type.unique()"
   ]
  },
  {
   "cell_type": "markdown",
   "metadata": {},
   "source": [
    "- Air_Temperature_Sensor\n",
    "- Electrical_Energy_Sensor\n",
    "- Electrical_Power_Sensor\n",
    "- Water_Temperature_Sensor\n",
    "- Usage_Sensor (Note: it contains gas and water meter)"
   ]
  },
  {
   "cell_type": "markdown",
   "metadata": {},
   "source": [
    "#### Point In the Building"
   ]
  },
  {
   "cell_type": "code",
   "execution_count": 8,
   "metadata": {},
   "outputs": [
    {
     "data": {
      "text/plain": [
       "array(['Mode_Status', 'Heating_Command', 'Heating_Demand_Setpoint',\n",
       "       'Outside_Air_Temperature_Setpoint', 'Fault_Status',\n",
       "       'System_Status', 'Enable_Status', 'Stages_Status', 'Mode_Command',\n",
       "       'Room_Air_Temperature_Setpoint', 'Heating_Temperature_Setpoint',\n",
       "       'System_Enable_Command', 'Point', 'Min_Temperature_Setpoint_Limit',\n",
       "       'Max_Temperature_Setpoint_Limit', 'Temperature_Setpoint',\n",
       "       'Proportional_Gain_Parameter', 'Cooling_Temperature_Setpoint',\n",
       "       'Operating_Mode_Status', 'Reset_Command', 'Reset_Setpoint',\n",
       "       'Differential_Pressure_Setpoint',\n",
       "       'Min_Discharge_Air_Temperature_Setpoint_Limit',\n",
       "       'Max_Discharge_Air_Temperature_Setpoint_Limit',\n",
       "       'Low_Outside_Air_Temperature_Enable_Setpoint',\n",
       "       'Min_Position_Setpoint_Limit', 'Emergency_Alarm',\n",
       "       'Outside_Air_Lockout_Temperature_Setpoint', 'Cooling_Command',\n",
       "       'Alarm', 'Cooling_Demand_Setpoint', 'Temperature_Parameter'],\n",
       "      dtype=object)"
      ]
     },
     "execution_count": 8,
     "metadata": {},
     "output_type": "execute_result"
    }
   ],
   "source": [
    "df.query(\"Category=='Point'\").Type.unique()"
   ]
  },
  {
   "cell_type": "markdown",
   "metadata": {},
   "source": [
    "#### Location in the Building"
   ]
  },
  {
   "cell_type": "code",
   "execution_count": 9,
   "metadata": {},
   "outputs": [
    {
     "data": {
      "text/plain": [
       "array(['Conference_Room', 'Library', 'Floor', 'Basement', 'Shared_space',\n",
       "       'space', 'Open_space', 'HVAC_Zone', 'Enclosed_space', 'Water_Tank',\n",
       "       'Copy_Room'], dtype=object)"
      ]
     },
     "execution_count": 9,
     "metadata": {},
     "output_type": "execute_result"
    }
   ],
   "source": [
    "df[df[\"Entity.Category.1\"]=='Location']['Entity.EntityType.1'].unique()"
   ]
  },
  {
   "cell_type": "markdown",
   "metadata": {},
   "source": [
    "#### We can focus analysis of following\n",
    "\n",
    "-  Conference_Room\n",
    "- Library\n",
    "- Basement\n",
    "- ....\n"
   ]
  },
  {
   "cell_type": "markdown",
   "metadata": {},
   "source": [
    "#### Conference Room "
   ]
  },
  {
   "cell_type": "code",
   "execution_count": 10,
   "metadata": {},
   "outputs": [
    {
     "data": {
      "text/html": [
       "<div>\n",
       "<style scoped>\n",
       "    .dataframe tbody tr th:only-of-type {\n",
       "        vertical-align: middle;\n",
       "    }\n",
       "\n",
       "    .dataframe tbody tr th {\n",
       "        vertical-align: top;\n",
       "    }\n",
       "\n",
       "    .dataframe thead th {\n",
       "        text-align: right;\n",
       "    }\n",
       "</style>\n",
       "<table border=\"1\" class=\"dataframe\">\n",
       "  <thead>\n",
       "    <tr style=\"text-align: right;\">\n",
       "      <th></th>\n",
       "      <th>StreamID</th>\n",
       "      <th>Entity.Category.1</th>\n",
       "      <th>Entity.EntityType.1</th>\n",
       "      <th>Entity.EntityID.1</th>\n",
       "      <th>Entity.EntityType.2</th>\n",
       "      <th>Entity.Category.2</th>\n",
       "      <th>Entity.EntityID.2</th>\n",
       "      <th>Entity.EntityType.3</th>\n",
       "      <th>Entity.Category.3</th>\n",
       "      <th>Entity.EntityType.4</th>\n",
       "      <th>Entity.Category.4</th>\n",
       "      <th>Category</th>\n",
       "      <th>Type</th>\n",
       "      <th>Unit</th>\n",
       "    </tr>\n",
       "  </thead>\n",
       "  <tbody>\n",
       "    <tr>\n",
       "      <th>27</th>\n",
       "      <td>3ebacdfd_bd8a_44da_9241_f192615018c7</td>\n",
       "      <td>Location</td>\n",
       "      <td>Conference_Room</td>\n",
       "      <td>3b373634_2461_4b61_8bcb_068c12b7e1a8.cbd54644_...</td>\n",
       "      <td>Floor</td>\n",
       "      <td>Location</td>\n",
       "      <td>6e0854f9_3888_4867_9176_0693de75f841</td>\n",
       "      <td>Building</td>\n",
       "      <td>Location</td>\n",
       "      <td>NaN</td>\n",
       "      <td>NaN</td>\n",
       "      <td>Sensor</td>\n",
       "      <td>Air_Temperature_Sensor</td>\n",
       "      <td>NaN</td>\n",
       "    </tr>\n",
       "    <tr>\n",
       "      <th>118</th>\n",
       "      <td>7f269e8d_b754_4484_ad1d_78d7abdd9dbe</td>\n",
       "      <td>Location</td>\n",
       "      <td>Conference_Room</td>\n",
       "      <td>d02c6fdd_ce6b_44a1_b193_1ede85e7d4c8.0e964c7f_...</td>\n",
       "      <td>Basement</td>\n",
       "      <td>Location</td>\n",
       "      <td>e8e7705d_b87a_4bf3_b454_202ca27ea7ad</td>\n",
       "      <td>Building</td>\n",
       "      <td>Location</td>\n",
       "      <td>NaN</td>\n",
       "      <td>NaN</td>\n",
       "      <td>Sensor</td>\n",
       "      <td>Air_Temperature_Sensor</td>\n",
       "      <td>NaN</td>\n",
       "    </tr>\n",
       "    <tr>\n",
       "      <th>203</th>\n",
       "      <td>9e5771cc_d778_41a4_9bd3_73da4e9852d2</td>\n",
       "      <td>Location</td>\n",
       "      <td>Conference_Room</td>\n",
       "      <td>3b373634_2461_4b61_8bcb_068c12b7e1a8.6af9698e_...</td>\n",
       "      <td>Floor</td>\n",
       "      <td>Location</td>\n",
       "      <td>6e0854f9_3888_4867_9176_0693de75f841</td>\n",
       "      <td>Building</td>\n",
       "      <td>Location</td>\n",
       "      <td>NaN</td>\n",
       "      <td>NaN</td>\n",
       "      <td>Sensor</td>\n",
       "      <td>Air_Temperature_Sensor</td>\n",
       "      <td>NaN</td>\n",
       "    </tr>\n",
       "    <tr>\n",
       "      <th>230</th>\n",
       "      <td>5794706b_7b64_4202_b743_61c671c4add3</td>\n",
       "      <td>Location</td>\n",
       "      <td>Conference_Room</td>\n",
       "      <td>3b373634_2461_4b61_8bcb_068c12b7e1a8.df84f19d_...</td>\n",
       "      <td>Floor</td>\n",
       "      <td>Location</td>\n",
       "      <td>6e0854f9_3888_4867_9176_0693de75f841</td>\n",
       "      <td>Building</td>\n",
       "      <td>Location</td>\n",
       "      <td>NaN</td>\n",
       "      <td>NaN</td>\n",
       "      <td>Sensor</td>\n",
       "      <td>Air_Temperature_Sensor</td>\n",
       "      <td>NaN</td>\n",
       "    </tr>\n",
       "    <tr>\n",
       "      <th>303</th>\n",
       "      <td>11328598_25fc_4808_ba70_a4a48ed1d6e4</td>\n",
       "      <td>Location</td>\n",
       "      <td>Conference_Room</td>\n",
       "      <td>d02c6fdd_ce6b_44a1_b193_1ede85e7d4c8.de9e0393_...</td>\n",
       "      <td>Basement</td>\n",
       "      <td>Location</td>\n",
       "      <td>e8e7705d_b87a_4bf3_b454_202ca27ea7ad</td>\n",
       "      <td>Building</td>\n",
       "      <td>Location</td>\n",
       "      <td>NaN</td>\n",
       "      <td>NaN</td>\n",
       "      <td>Sensor</td>\n",
       "      <td>Air_Temperature_Sensor</td>\n",
       "      <td>NaN</td>\n",
       "    </tr>\n",
       "  </tbody>\n",
       "</table>\n",
       "</div>"
      ],
      "text/plain": [
       "                                 StreamID Entity.Category.1  \\\n",
       "27   3ebacdfd_bd8a_44da_9241_f192615018c7          Location   \n",
       "118  7f269e8d_b754_4484_ad1d_78d7abdd9dbe          Location   \n",
       "203  9e5771cc_d778_41a4_9bd3_73da4e9852d2          Location   \n",
       "230  5794706b_7b64_4202_b743_61c671c4add3          Location   \n",
       "303  11328598_25fc_4808_ba70_a4a48ed1d6e4          Location   \n",
       "\n",
       "    Entity.EntityType.1                                  Entity.EntityID.1  \\\n",
       "27      Conference_Room  3b373634_2461_4b61_8bcb_068c12b7e1a8.cbd54644_...   \n",
       "118     Conference_Room  d02c6fdd_ce6b_44a1_b193_1ede85e7d4c8.0e964c7f_...   \n",
       "203     Conference_Room  3b373634_2461_4b61_8bcb_068c12b7e1a8.6af9698e_...   \n",
       "230     Conference_Room  3b373634_2461_4b61_8bcb_068c12b7e1a8.df84f19d_...   \n",
       "303     Conference_Room  d02c6fdd_ce6b_44a1_b193_1ede85e7d4c8.de9e0393_...   \n",
       "\n",
       "    Entity.EntityType.2 Entity.Category.2  \\\n",
       "27                Floor          Location   \n",
       "118            Basement          Location   \n",
       "203               Floor          Location   \n",
       "230               Floor          Location   \n",
       "303            Basement          Location   \n",
       "\n",
       "                        Entity.EntityID.2 Entity.EntityType.3  \\\n",
       "27   6e0854f9_3888_4867_9176_0693de75f841            Building   \n",
       "118  e8e7705d_b87a_4bf3_b454_202ca27ea7ad            Building   \n",
       "203  6e0854f9_3888_4867_9176_0693de75f841            Building   \n",
       "230  6e0854f9_3888_4867_9176_0693de75f841            Building   \n",
       "303  e8e7705d_b87a_4bf3_b454_202ca27ea7ad            Building   \n",
       "\n",
       "    Entity.Category.3 Entity.EntityType.4 Entity.Category.4 Category  \\\n",
       "27           Location                 NaN               NaN   Sensor   \n",
       "118          Location                 NaN               NaN   Sensor   \n",
       "203          Location                 NaN               NaN   Sensor   \n",
       "230          Location                 NaN               NaN   Sensor   \n",
       "303          Location                 NaN               NaN   Sensor   \n",
       "\n",
       "                       Type Unit  \n",
       "27   Air_Temperature_Sensor  NaN  \n",
       "118  Air_Temperature_Sensor  NaN  \n",
       "203  Air_Temperature_Sensor  NaN  \n",
       "230  Air_Temperature_Sensor  NaN  \n",
       "303  Air_Temperature_Sensor  NaN  "
      ]
     },
     "execution_count": 10,
     "metadata": {},
     "output_type": "execute_result"
    }
   ],
   "source": [
    "df_conference_room = (df[\n",
    "    (df[\"Entity.Category.1\"]== 'Location') \n",
    "        & (df['Entity.EntityType.1']=='Conference_Room')\n",
    "        & (df['Category']=='Sensor')\n",
    "        & (df['Type']=='Air_Temperature_Sensor')\n",
    "    ][[\"StreamID\", \"Entity.Category.1\",'Entity.EntityType.1',  'Entity.EntityID.1', 'Entity.EntityType.2',  \"Entity.Category.2\", 'Entity.EntityID.2', 'Entity.EntityType.3',  \"Entity.Category.3\", 'Entity.EntityType.4',  \"Entity.Category.4\", 'Category', 'Type', 'Unit']]\n",
    ")\n",
    "df_conference_room.to_csv('./conference_room_tmp.csv')\n",
    "df_conference_room.head()"
   ]
  },
  {
   "cell_type": "code",
   "execution_count": 11,
   "metadata": {},
   "outputs": [
    {
     "data": {
      "text/html": [
       "<div>\n",
       "<style scoped>\n",
       "    .dataframe tbody tr th:only-of-type {\n",
       "        vertical-align: middle;\n",
       "    }\n",
       "\n",
       "    .dataframe tbody tr th {\n",
       "        vertical-align: top;\n",
       "    }\n",
       "\n",
       "    .dataframe thead th {\n",
       "        text-align: right;\n",
       "    }\n",
       "</style>\n",
       "<table border=\"1\" class=\"dataframe\">\n",
       "  <thead>\n",
       "    <tr style=\"text-align: right;\">\n",
       "      <th></th>\n",
       "      <th>StreamID</th>\n",
       "      <th>Entity.Category.1</th>\n",
       "      <th>Entity.EntityType.1</th>\n",
       "      <th>Entity.EntityID.1</th>\n",
       "      <th>Entity.EntityType.2</th>\n",
       "      <th>Entity.Category.2</th>\n",
       "      <th>Entity.EntityID.2</th>\n",
       "      <th>Entity.EntityType.3</th>\n",
       "      <th>Entity.Category.3</th>\n",
       "      <th>Entity.EntityType.4</th>\n",
       "      <th>Entity.Category.4</th>\n",
       "      <th>Category</th>\n",
       "      <th>Type</th>\n",
       "      <th>Unit</th>\n",
       "    </tr>\n",
       "  </thead>\n",
       "  <tbody>\n",
       "  </tbody>\n",
       "</table>\n",
       "</div>"
      ],
      "text/plain": [
       "Empty DataFrame\n",
       "Columns: [StreamID, Entity.Category.1, Entity.EntityType.1, Entity.EntityID.1, Entity.EntityType.2, Entity.Category.2, Entity.EntityID.2, Entity.EntityType.3, Entity.Category.3, Entity.EntityType.4, Entity.Category.4, Category, Type, Unit]\n",
       "Index: []"
      ]
     },
     "execution_count": 11,
     "metadata": {},
     "output_type": "execute_result"
    }
   ],
   "source": [
    "df_conference_room = (df[\n",
    "    (df[\"Entity.Category.1\"]== 'Location') \n",
    "        & (df['Entity.EntityType.1']=='Conference_Room')\n",
    "        & (df['Category']=='Sensor')\n",
    "        & (df['Type']=='Outside_Air_Temperature_Sensor')\n",
    "    ][[\"StreamID\", \"Entity.Category.1\",'Entity.EntityType.1',  'Entity.EntityID.1', 'Entity.EntityType.2',  \"Entity.Category.2\", 'Entity.EntityID.2', 'Entity.EntityType.3',  \"Entity.Category.3\", 'Entity.EntityType.4',  \"Entity.Category.4\", 'Category', 'Type', 'Unit']]\n",
    ")\n",
    "# df_conference_room.to_csv('./conference_room_tmp.csv')\n",
    "df_conference_room.head()"
   ]
  },
  {
   "cell_type": "markdown",
   "metadata": {},
   "source": [
    "- Entity.EntityID.1 =>  conference room\n",
    "- Entity.EntityID.2 => Floor"
   ]
  },
  {
   "cell_type": "code",
   "execution_count": 12,
   "metadata": {},
   "outputs": [
    {
     "data": {
      "text/plain": [
       "{}"
      ]
     },
     "execution_count": 12,
     "metadata": {},
     "output_type": "execute_result"
    }
   ],
   "source": [
    "conf_room_id_mapping = {f\"conference_room_{i+1}\":conf_room_id for i, conf_room_id\n",
    "                        in enumerate(list(df_conference_room['Entity.EntityID.1'].unique()))}\n",
    "conf_room_id_mapping"
   ]
  },
  {
   "cell_type": "code",
   "execution_count": 13,
   "metadata": {},
   "outputs": [],
   "source": [
    "floor_id_mapping = {\"Basement\": 'e8e7705d_b87a_4bf3_b454_202ca27ea7ad',\n",
    "                    \"floor_a\": '6e0854f9_3888_4867_9176_0693de75f841',\n",
    "                    \"floor_b\": 'ef790dae_bb9b_4cd7_a52c_ea35841f02dd'}"
   ]
  },
  {
   "cell_type": "code",
   "execution_count": 14,
   "metadata": {},
   "outputs": [
    {
     "data": {
      "text/html": [
       "<div>\n",
       "<style scoped>\n",
       "    .dataframe tbody tr th:only-of-type {\n",
       "        vertical-align: middle;\n",
       "    }\n",
       "\n",
       "    .dataframe tbody tr th {\n",
       "        vertical-align: top;\n",
       "    }\n",
       "\n",
       "    .dataframe thead th {\n",
       "        text-align: right;\n",
       "    }\n",
       "</style>\n",
       "<table border=\"1\" class=\"dataframe\">\n",
       "  <thead>\n",
       "    <tr style=\"text-align: right;\">\n",
       "      <th></th>\n",
       "      <th>StreamID</th>\n",
       "      <th>Entity.Category.1</th>\n",
       "      <th>Entity.EntityType.1</th>\n",
       "      <th>Entity.EntityID.1</th>\n",
       "      <th>Entity.EntityType.2</th>\n",
       "      <th>Entity.Category.2</th>\n",
       "      <th>Entity.EntityID.2</th>\n",
       "      <th>Entity.EntityType.3</th>\n",
       "      <th>Entity.Category.3</th>\n",
       "      <th>Entity.EntityType.4</th>\n",
       "      <th>Entity.Category.4</th>\n",
       "      <th>Category</th>\n",
       "      <th>Type</th>\n",
       "      <th>Unit</th>\n",
       "      <th>floor_name</th>\n",
       "      <th>conference_room_name</th>\n",
       "    </tr>\n",
       "  </thead>\n",
       "  <tbody>\n",
       "  </tbody>\n",
       "</table>\n",
       "</div>"
      ],
      "text/plain": [
       "Empty DataFrame\n",
       "Columns: [StreamID, Entity.Category.1, Entity.EntityType.1, Entity.EntityID.1, Entity.EntityType.2, Entity.Category.2, Entity.EntityID.2, Entity.EntityType.3, Entity.Category.3, Entity.EntityType.4, Entity.Category.4, Category, Type, Unit, floor_name, conference_room_name]\n",
       "Index: []"
      ]
     },
     "execution_count": 14,
     "metadata": {},
     "output_type": "execute_result"
    }
   ],
   "source": [
    "reverse_mapping = {v: k for k, v in floor_id_mapping.items()}\n",
    "df_conference_room['floor_name'] = df_conference_room['Entity.EntityID.2'].map(reverse_mapping)\n",
    "\n",
    "reverse_mapping = {v: k for k, v in conf_room_id_mapping.items()}\n",
    "df_conference_room['conference_room_name'] = df_conference_room['Entity.EntityID.1'].map(reverse_mapping)\n",
    "df_conference_room"
   ]
  },
  {
   "cell_type": "code",
   "execution_count": 15,
   "metadata": {},
   "outputs": [
    {
     "data": {
      "text/plain": [
       "Index(['StreamID', 'Entity.Category.1', 'Entity.EntityType.1',\n",
       "       'Entity.EntityID.1', 'Entity.EntityType.2', 'Entity.Category.2',\n",
       "       'Entity.EntityID.2', 'Entity.EntityType.3', 'Entity.Category.3',\n",
       "       'Entity.EntityType.4', 'Entity.Category.4', 'Category', 'Type', 'Unit',\n",
       "       'floor_name', 'conference_room_name'],\n",
       "      dtype='object')"
      ]
     },
     "execution_count": 15,
     "metadata": {},
     "output_type": "execute_result"
    }
   ],
   "source": [
    "df_conference_room.columns"
   ]
  },
  {
   "cell_type": "code",
   "execution_count": null,
   "metadata": {},
   "outputs": [],
   "source": []
  },
  {
   "cell_type": "markdown",
   "metadata": {},
   "source": [
    "##### Join the processed df_conference_room to df_mapper to obtain the data file (.pkl)"
   ]
  },
  {
   "cell_type": "code",
   "execution_count": 16,
   "metadata": {},
   "outputs": [
    {
     "data": {
      "text/html": [
       "<div>\n",
       "<style scoped>\n",
       "    .dataframe tbody tr th:only-of-type {\n",
       "        vertical-align: middle;\n",
       "    }\n",
       "\n",
       "    .dataframe tbody tr th {\n",
       "        vertical-align: top;\n",
       "    }\n",
       "\n",
       "    .dataframe thead th {\n",
       "        text-align: right;\n",
       "    }\n",
       "</style>\n",
       "<table border=\"1\" class=\"dataframe\">\n",
       "  <thead>\n",
       "    <tr style=\"text-align: right;\">\n",
       "      <th></th>\n",
       "      <th>StreamID</th>\n",
       "      <th>Type</th>\n",
       "      <th>Building</th>\n",
       "      <th>Filename</th>\n",
       "      <th>floor_name</th>\n",
       "      <th>conference_room_name</th>\n",
       "    </tr>\n",
       "  </thead>\n",
       "  <tbody>\n",
       "  </tbody>\n",
       "</table>\n",
       "</div>"
      ],
      "text/plain": [
       "Empty DataFrame\n",
       "Columns: [StreamID, Type, Building, Filename, floor_name, conference_room_name]\n",
       "Index: []"
      ]
     },
     "execution_count": 16,
     "metadata": {},
     "output_type": "execute_result"
    }
   ],
   "source": [
    "df_conference_mapping = (df_conference_room\n",
    "                         .merge(df_mapper, on='StreamID')\n",
    "                         [['StreamID', 'Type', 'Building', 'Filename', 'floor_name', 'conference_room_name']]\n",
    "                        )\n",
    "df_conference_mapping"
   ]
  },
  {
   "cell_type": "code",
   "execution_count": 17,
   "metadata": {},
   "outputs": [],
   "source": [
    "def get_conference_room_temp(df, title):\n",
    "    df['dt'] = pd.to_datetime(df['dt'])\n",
    "    df['date'] = df['dt'].dt.date\n",
    "\n",
    "    # Calculate daily median temperature for each sensor\n",
    "    daily_median = df.groupby(['date', 'sensor'])['value'].median().unstack()\n",
    "\n",
    "    # Create the plot\n",
    "    plt.figure(figsize=(12, 6))\n",
    "    for sensor in daily_median.columns:\n",
    "        plt.plot(daily_median.index, daily_median[sensor], label=sensor, marker='o')\n",
    "\n",
    "    plt.title(title)\n",
    "    plt.xlabel('Date')\n",
    "    plt.ylabel('Median Temperature')\n",
    "    plt.legend()\n",
    "    plt.grid(True)\n",
    "\n",
    "    plt.xticks(rotation=45)\n",
    "    plt.tight_layout()\n",
    "    plt.show()"
   ]
  },
  {
   "cell_type": "code",
   "execution_count": 18,
   "metadata": {},
   "outputs": [],
   "source": [
    "# Iterate over each row and plot\n",
    "for index, row in df_conference_mapping.iterrows():\n",
    "    print(row['Type'], row['conference_room_name'],  row['floor_name'], row['Filename'])\n",
    "    data_path = f\"{train_file_path}/{row['Filename']}\"\n",
    "    print(f\"{data_path=}\")\n",
    "    with open(data_path, 'rb') as file:\n",
    "        data = pickle.load(file)\n",
    "        \n",
    "    df = pd.DataFrame(data)\n",
    "    df.columns = ['dt','value', 'sensor']\n",
    "    title = f\"{row['Type']} in {row['floor_name']} of  { row['conference_room_name'] }\"\n",
    "    get_conference_room_temp(df, title)\n",
    "    file_name = row['Filename'].split('.')[0]\n",
    "    df.to_csv(f\"../frontend/processed_{file_name}.csv\")\n",
    "    break\n"
   ]
  },
  {
   "cell_type": "code",
   "execution_count": null,
   "metadata": {},
   "outputs": [],
   "source": []
  },
  {
   "cell_type": "code",
   "execution_count": null,
   "metadata": {},
   "outputs": [],
   "source": []
  }
 ],
 "metadata": {
  "kernelspec": {
   "display_name": "fp",
   "language": "python",
   "name": "python3"
  },
  "language_info": {
   "codemirror_mode": {
    "name": "ipython",
    "version": 3
   },
   "file_extension": ".py",
   "mimetype": "text/x-python",
   "name": "python",
   "nbconvert_exporter": "python",
   "pygments_lexer": "ipython3",
   "version": "3.10.15"
  }
 },
 "nbformat": 4,
 "nbformat_minor": 2
}
