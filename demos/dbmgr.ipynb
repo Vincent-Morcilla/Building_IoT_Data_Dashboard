{
 "cells": [
  {
   "cell_type": "markdown",
   "metadata": {},
   "source": [
    "# Paths to our dataset files"
   ]
  },
  {
   "cell_type": "code",
   "execution_count": 1,
   "metadata": {},
   "outputs": [],
   "source": [
    "data = '../datasets/bts_site_b_train/train.zip'\n",
    "mapper = '../datasets/bts_site_b_train/mapper_TrainOnly.csv'\n",
    "model = '../datasets/bts_site_b_train/Site_B.ttl'\n",
    "schema = '../datasets/bts_site_b_train/Brick_v1.2.1.ttl'"
   ]
  },
  {
   "cell_type": "markdown",
   "metadata": {},
   "source": [
    "# Load the Dataset"
   ]
  },
  {
   "cell_type": "markdown",
   "metadata": {},
   "source": [
    "Hack for demo purposes to add the `src` directory to the path:"
   ]
  },
  {
   "cell_type": "code",
   "execution_count": 2,
   "metadata": {},
   "outputs": [],
   "source": [
    "import sys\n",
    "sys.path.append(\"../src\")"
   ]
  },
  {
   "cell_type": "markdown",
   "metadata": {},
   "source": [
    "Import and instantiate the manager:"
   ]
  },
  {
   "cell_type": "code",
   "execution_count": 3,
   "metadata": {},
   "outputs": [],
   "source": [
    "from dbmgr import DBManager\n",
    "db = DBManager(data, mapper, model, schema)"
   ]
  },
  {
   "cell_type": "markdown",
   "metadata": {},
   "source": [
    "This `db` object is what is passed to each analytics module.\n",
    "\n",
    "## Number of streams in the dataset"
   ]
  },
  {
   "cell_type": "code",
   "execution_count": 4,
   "metadata": {},
   "outputs": [
    {
     "data": {
      "text/plain": [
       "668"
      ]
     },
     "execution_count": 4,
     "metadata": {},
     "output_type": "execute_result"
    }
   ],
   "source": [
    "len(db)"
   ]
  },
  {
   "cell_type": "markdown",
   "metadata": {},
   "source": [
    "## Iterating over the streams in the dataset"
   ]
  },
  {
   "cell_type": "code",
   "execution_count": 5,
   "metadata": {},
   "outputs": [
    {
     "name": "stdout",
     "output_type": "stream",
     "text": [
      "6f502ba0_77fb_43db_b6dc_48e68d5c822b\n",
      "3c9ca09b_8952_45da_a066_bcb645cbbc68\n",
      "d60c44c3_62fc_409a_a751_8b3ddeb9f197\n",
      "eb0d5916_d942_4e2d_8129_60b83d984fdd\n",
      "78078042_e16e_425b_9ec8_605aa149274e\n"
     ]
    }
   ],
   "source": [
    "i = 0\n",
    "for stream_id in db:\n",
    "    print(stream_id)\n",
    "    i += 1\n",
    "    if i == 5:\n",
    "        break"
   ]
  },
  {
   "cell_type": "markdown",
   "metadata": {},
   "source": [
    "## Check if a stream ID is in the dataset:\n",
    "\n",
    "Not in the dataset:"
   ]
  },
  {
   "cell_type": "code",
   "execution_count": 6,
   "metadata": {},
   "outputs": [
    {
     "data": {
      "text/plain": [
       "False"
      ]
     },
     "execution_count": 6,
     "metadata": {},
     "output_type": "execute_result"
    }
   ],
   "source": [
    "'tim' in db"
   ]
  },
  {
   "cell_type": "markdown",
   "metadata": {},
   "source": [
    "In the dataset:"
   ]
  },
  {
   "cell_type": "code",
   "execution_count": 7,
   "metadata": {},
   "outputs": [
    {
     "data": {
      "text/plain": [
       "True"
      ]
     },
     "execution_count": 7,
     "metadata": {},
     "output_type": "execute_result"
    }
   ],
   "source": [
    "'835a86d6_c235_4caf_8071_31b9bf24960b' in db"
   ]
  },
  {
   "cell_type": "markdown",
   "metadata": {},
   "source": [
    "## Get a stream by its ID:\n",
    "\n",
    "By indexing into the manager:"
   ]
  },
  {
   "cell_type": "code",
   "execution_count": 8,
   "metadata": {},
   "outputs": [
    {
     "data": {
      "text/html": [
       "<div>\n",
       "<style scoped>\n",
       "    .dataframe tbody tr th:only-of-type {\n",
       "        vertical-align: middle;\n",
       "    }\n",
       "\n",
       "    .dataframe tbody tr th {\n",
       "        vertical-align: top;\n",
       "    }\n",
       "\n",
       "    .dataframe thead th {\n",
       "        text-align: right;\n",
       "    }\n",
       "</style>\n",
       "<table border=\"1\" class=\"dataframe\">\n",
       "  <thead>\n",
       "    <tr style=\"text-align: right;\">\n",
       "      <th></th>\n",
       "      <th>time</th>\n",
       "      <th>value</th>\n",
       "      <th>brick_class</th>\n",
       "    </tr>\n",
       "  </thead>\n",
       "  <tbody>\n",
       "    <tr>\n",
       "      <th>0</th>\n",
       "      <td>2021-01-01 00:03:09.662</td>\n",
       "      <td>0.0</td>\n",
       "      <td>Enable_Status</td>\n",
       "    </tr>\n",
       "    <tr>\n",
       "      <th>1</th>\n",
       "      <td>2021-01-01 00:13:39.017</td>\n",
       "      <td>0.0</td>\n",
       "      <td>Enable_Status</td>\n",
       "    </tr>\n",
       "    <tr>\n",
       "      <th>2</th>\n",
       "      <td>2021-01-01 00:23:10.073</td>\n",
       "      <td>0.0</td>\n",
       "      <td>Enable_Status</td>\n",
       "    </tr>\n",
       "    <tr>\n",
       "      <th>3</th>\n",
       "      <td>2021-01-01 00:33:09.637</td>\n",
       "      <td>0.0</td>\n",
       "      <td>Enable_Status</td>\n",
       "    </tr>\n",
       "    <tr>\n",
       "      <th>4</th>\n",
       "      <td>2021-01-01 00:43:09.639</td>\n",
       "      <td>0.0</td>\n",
       "      <td>Enable_Status</td>\n",
       "    </tr>\n",
       "  </tbody>\n",
       "</table>\n",
       "</div>"
      ],
      "text/plain": [
       "                     time  value    brick_class\n",
       "0 2021-01-01 00:03:09.662    0.0  Enable_Status\n",
       "1 2021-01-01 00:13:39.017    0.0  Enable_Status\n",
       "2 2021-01-01 00:23:10.073    0.0  Enable_Status\n",
       "3 2021-01-01 00:33:09.637    0.0  Enable_Status\n",
       "4 2021-01-01 00:43:09.639    0.0  Enable_Status"
      ]
     },
     "execution_count": 8,
     "metadata": {},
     "output_type": "execute_result"
    }
   ],
   "source": [
    "db['835a86d6_c235_4caf_8071_31b9bf24960b'].head()"
   ]
  },
  {
   "cell_type": "markdown",
   "metadata": {},
   "source": [
    "By calling the getter:"
   ]
  },
  {
   "cell_type": "code",
   "execution_count": 9,
   "metadata": {},
   "outputs": [
    {
     "data": {
      "text/html": [
       "<div>\n",
       "<style scoped>\n",
       "    .dataframe tbody tr th:only-of-type {\n",
       "        vertical-align: middle;\n",
       "    }\n",
       "\n",
       "    .dataframe tbody tr th {\n",
       "        vertical-align: top;\n",
       "    }\n",
       "\n",
       "    .dataframe thead th {\n",
       "        text-align: right;\n",
       "    }\n",
       "</style>\n",
       "<table border=\"1\" class=\"dataframe\">\n",
       "  <thead>\n",
       "    <tr style=\"text-align: right;\">\n",
       "      <th></th>\n",
       "      <th>time</th>\n",
       "      <th>value</th>\n",
       "      <th>brick_class</th>\n",
       "    </tr>\n",
       "  </thead>\n",
       "  <tbody>\n",
       "    <tr>\n",
       "      <th>0</th>\n",
       "      <td>2021-01-01 00:03:09.662</td>\n",
       "      <td>0.0</td>\n",
       "      <td>Enable_Status</td>\n",
       "    </tr>\n",
       "    <tr>\n",
       "      <th>1</th>\n",
       "      <td>2021-01-01 00:13:39.017</td>\n",
       "      <td>0.0</td>\n",
       "      <td>Enable_Status</td>\n",
       "    </tr>\n",
       "    <tr>\n",
       "      <th>2</th>\n",
       "      <td>2021-01-01 00:23:10.073</td>\n",
       "      <td>0.0</td>\n",
       "      <td>Enable_Status</td>\n",
       "    </tr>\n",
       "    <tr>\n",
       "      <th>3</th>\n",
       "      <td>2021-01-01 00:33:09.637</td>\n",
       "      <td>0.0</td>\n",
       "      <td>Enable_Status</td>\n",
       "    </tr>\n",
       "    <tr>\n",
       "      <th>4</th>\n",
       "      <td>2021-01-01 00:43:09.639</td>\n",
       "      <td>0.0</td>\n",
       "      <td>Enable_Status</td>\n",
       "    </tr>\n",
       "  </tbody>\n",
       "</table>\n",
       "</div>"
      ],
      "text/plain": [
       "                     time  value    brick_class\n",
       "0 2021-01-01 00:03:09.662    0.0  Enable_Status\n",
       "1 2021-01-01 00:13:39.017    0.0  Enable_Status\n",
       "2 2021-01-01 00:23:10.073    0.0  Enable_Status\n",
       "3 2021-01-01 00:33:09.637    0.0  Enable_Status\n",
       "4 2021-01-01 00:43:09.639    0.0  Enable_Status"
      ]
     },
     "execution_count": 9,
     "metadata": {},
     "output_type": "execute_result"
    }
   ],
   "source": [
    "db.get_stream('835a86d6_c235_4caf_8071_31b9bf24960b').head()"
   ]
  },
  {
   "cell_type": "markdown",
   "metadata": {},
   "source": [
    "## Set a stream by its ID:"
   ]
  },
  {
   "cell_type": "code",
   "execution_count": 10,
   "metadata": {},
   "outputs": [],
   "source": [
    "import pandas as pd\n",
    "\n",
    "data = pd.DataFrame({\n",
    "            \"time\": [pd.Timestamp('2017-03-22 15:16:45'), pd.Timestamp('2017-03-22 15:17:45'), pd.Timestamp('2017-03-22 15:18:45'), pd.Timestamp('2017-03-22 15:19:45') ],\n",
    "            \"value\": [22.0, 23.0, 24.0, 25.0],\n",
    "            \"brick_class\": [\"Fake_Class\", \"Fake_Class\", \"Fake_Class\", \"Fake_Class\"],\n",
    "        })"
   ]
  },
  {
   "cell_type": "markdown",
   "metadata": {},
   "source": [
    "By indexing into the manager:"
   ]
  },
  {
   "cell_type": "code",
   "execution_count": 11,
   "metadata": {},
   "outputs": [
    {
     "data": {
      "text/html": [
       "<div>\n",
       "<style scoped>\n",
       "    .dataframe tbody tr th:only-of-type {\n",
       "        vertical-align: middle;\n",
       "    }\n",
       "\n",
       "    .dataframe tbody tr th {\n",
       "        vertical-align: top;\n",
       "    }\n",
       "\n",
       "    .dataframe thead th {\n",
       "        text-align: right;\n",
       "    }\n",
       "</style>\n",
       "<table border=\"1\" class=\"dataframe\">\n",
       "  <thead>\n",
       "    <tr style=\"text-align: right;\">\n",
       "      <th></th>\n",
       "      <th>time</th>\n",
       "      <th>value</th>\n",
       "      <th>brick_class</th>\n",
       "    </tr>\n",
       "  </thead>\n",
       "  <tbody>\n",
       "    <tr>\n",
       "      <th>0</th>\n",
       "      <td>2017-03-22 15:16:45</td>\n",
       "      <td>22.0</td>\n",
       "      <td>Fake_Class</td>\n",
       "    </tr>\n",
       "    <tr>\n",
       "      <th>1</th>\n",
       "      <td>2017-03-22 15:17:45</td>\n",
       "      <td>23.0</td>\n",
       "      <td>Fake_Class</td>\n",
       "    </tr>\n",
       "    <tr>\n",
       "      <th>2</th>\n",
       "      <td>2017-03-22 15:18:45</td>\n",
       "      <td>24.0</td>\n",
       "      <td>Fake_Class</td>\n",
       "    </tr>\n",
       "    <tr>\n",
       "      <th>3</th>\n",
       "      <td>2017-03-22 15:19:45</td>\n",
       "      <td>25.0</td>\n",
       "      <td>Fake_Class</td>\n",
       "    </tr>\n",
       "  </tbody>\n",
       "</table>\n",
       "</div>"
      ],
      "text/plain": [
       "                 time  value brick_class\n",
       "0 2017-03-22 15:16:45   22.0  Fake_Class\n",
       "1 2017-03-22 15:17:45   23.0  Fake_Class\n",
       "2 2017-03-22 15:18:45   24.0  Fake_Class\n",
       "3 2017-03-22 15:19:45   25.0  Fake_Class"
      ]
     },
     "execution_count": 11,
     "metadata": {},
     "output_type": "execute_result"
    }
   ],
   "source": [
    "db['835a86d6_c235_4caf_8071_31b9bf24960b'] = data\n",
    "db['835a86d6_c235_4caf_8071_31b9bf24960b'].head()"
   ]
  },
  {
   "cell_type": "markdown",
   "metadata": {},
   "source": [
    "By calling the setter:"
   ]
  },
  {
   "cell_type": "code",
   "execution_count": 12,
   "metadata": {},
   "outputs": [
    {
     "data": {
      "text/html": [
       "<div>\n",
       "<style scoped>\n",
       "    .dataframe tbody tr th:only-of-type {\n",
       "        vertical-align: middle;\n",
       "    }\n",
       "\n",
       "    .dataframe tbody tr th {\n",
       "        vertical-align: top;\n",
       "    }\n",
       "\n",
       "    .dataframe thead th {\n",
       "        text-align: right;\n",
       "    }\n",
       "</style>\n",
       "<table border=\"1\" class=\"dataframe\">\n",
       "  <thead>\n",
       "    <tr style=\"text-align: right;\">\n",
       "      <th></th>\n",
       "      <th>time</th>\n",
       "      <th>value</th>\n",
       "      <th>brick_class</th>\n",
       "    </tr>\n",
       "  </thead>\n",
       "  <tbody>\n",
       "    <tr>\n",
       "      <th>0</th>\n",
       "      <td>2017-03-22 15:16:45</td>\n",
       "      <td>22.0</td>\n",
       "      <td>Fake_Class</td>\n",
       "    </tr>\n",
       "    <tr>\n",
       "      <th>1</th>\n",
       "      <td>2017-03-22 15:17:45</td>\n",
       "      <td>23.0</td>\n",
       "      <td>Fake_Class</td>\n",
       "    </tr>\n",
       "    <tr>\n",
       "      <th>2</th>\n",
       "      <td>2017-03-22 15:18:45</td>\n",
       "      <td>24.0</td>\n",
       "      <td>Fake_Class</td>\n",
       "    </tr>\n",
       "    <tr>\n",
       "      <th>3</th>\n",
       "      <td>2017-03-22 15:19:45</td>\n",
       "      <td>25.0</td>\n",
       "      <td>Fake_Class</td>\n",
       "    </tr>\n",
       "  </tbody>\n",
       "</table>\n",
       "</div>"
      ],
      "text/plain": [
       "                 time  value brick_class\n",
       "0 2017-03-22 15:16:45   22.0  Fake_Class\n",
       "1 2017-03-22 15:17:45   23.0  Fake_Class\n",
       "2 2017-03-22 15:18:45   24.0  Fake_Class\n",
       "3 2017-03-22 15:19:45   25.0  Fake_Class"
      ]
     },
     "execution_count": 12,
     "metadata": {},
     "output_type": "execute_result"
    }
   ],
   "source": [
    "db.set_stream('22543d51_3c38_46d3_98fe_a77838976df9', data)\n",
    "db.get_stream('22543d51_3c38_46d3_98fe_a77838976df9').head()"
   ]
  },
  {
   "cell_type": "markdown",
   "metadata": {},
   "source": [
    "## Get multiple streams by their IDs:"
   ]
  },
  {
   "cell_type": "code",
   "execution_count": 13,
   "metadata": {},
   "outputs": [
    {
     "name": "stdout",
     "output_type": "stream",
     "text": [
      "========= 22543d51_3c38_46d3_98fe_a77838976df9 =========\n",
      "                 time  value brick_class\n",
      "0 2017-03-22 15:16:45   22.0  Fake_Class\n",
      "1 2017-03-22 15:17:45   23.0  Fake_Class\n",
      "2 2017-03-22 15:18:45   24.0  Fake_Class\n",
      "3 2017-03-22 15:19:45   25.0  Fake_Class\n",
      "\n",
      "========= 3010a24a_2deb_43c8_9db4_cfc94c5faa5c =========\n",
      "                     time  value              brick_class\n",
      "0 2021-07-13 01:26:18.083 -0.107  Electrical_Power_Sensor\n",
      "1 2021-07-13 01:31:17.035 -0.042  Electrical_Power_Sensor\n",
      "2 2021-07-13 01:36:13.143  0.054  Electrical_Power_Sensor\n",
      "3 2021-07-13 01:50:12.735 -0.016  Electrical_Power_Sensor\n",
      "4 2021-07-13 01:55:12.150 -0.164  Electrical_Power_Sensor\n",
      "\n",
      "========= 405896a1_c195_422d_a0aa_18d2eca6a61d =========\n",
      "                     time  value                   brick_class\n",
      "0 2021-01-01 00:03:16.153   23.5  Cooling_Temperature_Setpoint\n",
      "1 2021-01-01 00:13:44.730   23.5  Cooling_Temperature_Setpoint\n",
      "2 2021-01-01 00:23:16.055   23.5  Cooling_Temperature_Setpoint\n",
      "3 2021-01-01 00:33:16.093   23.5  Cooling_Temperature_Setpoint\n",
      "4 2021-01-01 00:43:16.129   23.5  Cooling_Temperature_Setpoint\n",
      "\n"
     ]
    }
   ],
   "source": [
    "stream_ids = [\n",
    "    '22543d51_3c38_46d3_98fe_a77838976df9',\n",
    "    '3010a24a_2deb_43c8_9db4_cfc94c5faa5c',\n",
    "    '405896a1_c195_422d_a0aa_18d2eca6a61d',\n",
    "]\n",
    "streams = db.get_streams(stream_ids)\n",
    "for stream_id, stream in streams.items():\n",
    "    print(f'========= {stream_id} =========')\n",
    "    print(stream.head())\n",
    "    print()"
   ]
  },
  {
   "cell_type": "markdown",
   "metadata": {},
   "source": [
    "## Query the building model:\n",
    "\n",
    "Some arbitrary sparql query:"
   ]
  },
  {
   "cell_type": "code",
   "execution_count": 14,
   "metadata": {},
   "outputs": [],
   "source": [
    "q = \"\"\"\n",
    "SELECT ?s ?p ?o WHERE {\n",
    "    ?s ?p ?o\n",
    "} LIMIT 5\n",
    "\"\"\""
   ]
  },
  {
   "cell_type": "markdown",
   "metadata": {},
   "source": [
    "Get the results as RDFLib rows:"
   ]
  },
  {
   "cell_type": "code",
   "execution_count": 15,
   "metadata": {},
   "outputs": [
    {
     "name": "stdout",
     "output_type": "stream",
     "text": [
      "(rdflib.term.URIRef('dch:org/df125f8d_93e4_4a4f_bc87_1c4e332f32b8/site/c495fbd8_7a71_44b4_ad2a_014ac2df7ce9/building/95d1f7f3_33c6_4bd8_a82c_99c550d83bb8#8f8996ae_8dd4_4a45_bed9_7757fa6907db.00d6ac8b_77dd_4c03_ae3e_e2d9a051941e'), rdflib.term.URIRef('http://senaps.io/schema/1.0/senaps#stream_id'), rdflib.term.Literal('ef68742c_aabf_4aff_9997_789cda5f121d'))\n",
      "(rdflib.term.URIRef('dch:org/df125f8d_93e4_4a4f_bc87_1c4e332f32b8/site/c495fbd8_7a71_44b4_ad2a_014ac2df7ce9/building/95d1f7f3_33c6_4bd8_a82c_99c550d83bb8#70d05bb1_6810_435a_bcac_8166afba0ba6.7f8a3b58_46c0_4bc8_a174_7ca36181c653'), rdflib.term.URIRef('https://brickschema.org/schema/Brick#powerComplexity'), rdflib.term.BNode('n265b1488f2e54296a4563ceb27215c5db90'))\n",
      "(rdflib.term.URIRef('dch:org/df125f8d_93e4_4a4f_bc87_1c4e332f32b8/site/c495fbd8_7a71_44b4_ad2a_014ac2df7ce9/building/95d1f7f3_33c6_4bd8_a82c_99c550d83bb8#1af5f6f9_15b1_4a62_962e_0ede16373202.7b4f5802_1349_46b9_838d_b6bf2e847bdf'), rdflib.term.URIRef('https://brickschema.org/schema/Brick#isPointOf'), rdflib.term.URIRef('dch:org/df125f8d_93e4_4a4f_bc87_1c4e332f32b8/site/c495fbd8_7a71_44b4_ad2a_014ac2df7ce9/building/95d1f7f3_33c6_4bd8_a82c_99c550d83bb8#1af5f6f9_15b1_4a62_962e_0ede16373202'))\n",
      "(rdflib.term.URIRef('dch:org/df125f8d_93e4_4a4f_bc87_1c4e332f32b8/site/c495fbd8_7a71_44b4_ad2a_014ac2df7ce9/building/95d1f7f3_33c6_4bd8_a82c_99c550d83bb8#d64b9bc0_e6b3_4556_acda_8040d33b7148.7cdaf176_3062_4111_94f5_27ed2998a8eb'), rdflib.term.URIRef('http://www.w3.org/1999/02/22-rdf-syntax-ns#type'), rdflib.term.URIRef('https://brickschema.org/schema/Brick#Temperature_Parameter'))\n",
      "(rdflib.term.URIRef('dch:org/df125f8d_93e4_4a4f_bc87_1c4e332f32b8/site/c495fbd8_7a71_44b4_ad2a_014ac2df7ce9/building/95d1f7f3_33c6_4bd8_a82c_99c550d83bb8#ebb4f301_f353_446c_9b92_19f131e5181d.099dc70e_f41d_4bc5_aad0_0749d7685daa'), rdflib.term.URIRef('http://www.w3.org/1999/02/22-rdf-syntax-ns#type'), rdflib.term.URIRef('https://brickschema.org/schema/Brick#Cooling_Temperature_Setpoint'))\n"
     ]
    }
   ],
   "source": [
    "res = db.query(q)\n",
    "for r in res:\n",
    "    print(r)"
   ]
  },
  {
   "cell_type": "markdown",
   "metadata": {},
   "source": [
    "Get the results as a DataFrame:"
   ]
  },
  {
   "cell_type": "code",
   "execution_count": 16,
   "metadata": {},
   "outputs": [
    {
     "data": {
      "text/html": [
       "<div>\n",
       "<style scoped>\n",
       "    .dataframe tbody tr th:only-of-type {\n",
       "        vertical-align: middle;\n",
       "    }\n",
       "\n",
       "    .dataframe tbody tr th {\n",
       "        vertical-align: top;\n",
       "    }\n",
       "\n",
       "    .dataframe thead th {\n",
       "        text-align: right;\n",
       "    }\n",
       "</style>\n",
       "<table border=\"1\" class=\"dataframe\">\n",
       "  <thead>\n",
       "    <tr style=\"text-align: right;\">\n",
       "      <th></th>\n",
       "      <th>o</th>\n",
       "      <th>p</th>\n",
       "      <th>s</th>\n",
       "    </tr>\n",
       "  </thead>\n",
       "  <tbody>\n",
       "    <tr>\n",
       "      <th>0</th>\n",
       "      <td>ef68742c_aabf_4aff_9997_789cda5f121d</td>\n",
       "      <td>http://senaps.io/schema/1.0/senaps#stream_id</td>\n",
       "      <td>dch:org/df125f8d_93e4_4a4f_bc87_1c4e332f32b8/s...</td>\n",
       "    </tr>\n",
       "    <tr>\n",
       "      <th>1</th>\n",
       "      <td>n265b1488f2e54296a4563ceb27215c5db90</td>\n",
       "      <td>https://brickschema.org/schema/Brick#powerComp...</td>\n",
       "      <td>dch:org/df125f8d_93e4_4a4f_bc87_1c4e332f32b8/s...</td>\n",
       "    </tr>\n",
       "    <tr>\n",
       "      <th>2</th>\n",
       "      <td>dch:org/df125f8d_93e4_4a4f_bc87_1c4e332f32b8/s...</td>\n",
       "      <td>https://brickschema.org/schema/Brick#isPointOf</td>\n",
       "      <td>dch:org/df125f8d_93e4_4a4f_bc87_1c4e332f32b8/s...</td>\n",
       "    </tr>\n",
       "    <tr>\n",
       "      <th>3</th>\n",
       "      <td>https://brickschema.org/schema/Brick#Temperatu...</td>\n",
       "      <td>http://www.w3.org/1999/02/22-rdf-syntax-ns#type</td>\n",
       "      <td>dch:org/df125f8d_93e4_4a4f_bc87_1c4e332f32b8/s...</td>\n",
       "    </tr>\n",
       "    <tr>\n",
       "      <th>4</th>\n",
       "      <td>https://brickschema.org/schema/Brick#Cooling_T...</td>\n",
       "      <td>http://www.w3.org/1999/02/22-rdf-syntax-ns#type</td>\n",
       "      <td>dch:org/df125f8d_93e4_4a4f_bc87_1c4e332f32b8/s...</td>\n",
       "    </tr>\n",
       "  </tbody>\n",
       "</table>\n",
       "</div>"
      ],
      "text/plain": [
       "                                                   o  \\\n",
       "0               ef68742c_aabf_4aff_9997_789cda5f121d   \n",
       "1               n265b1488f2e54296a4563ceb27215c5db90   \n",
       "2  dch:org/df125f8d_93e4_4a4f_bc87_1c4e332f32b8/s...   \n",
       "3  https://brickschema.org/schema/Brick#Temperatu...   \n",
       "4  https://brickschema.org/schema/Brick#Cooling_T...   \n",
       "\n",
       "                                                   p  \\\n",
       "0       http://senaps.io/schema/1.0/senaps#stream_id   \n",
       "1  https://brickschema.org/schema/Brick#powerComp...   \n",
       "2     https://brickschema.org/schema/Brick#isPointOf   \n",
       "3    http://www.w3.org/1999/02/22-rdf-syntax-ns#type   \n",
       "4    http://www.w3.org/1999/02/22-rdf-syntax-ns#type   \n",
       "\n",
       "                                                   s  \n",
       "0  dch:org/df125f8d_93e4_4a4f_bc87_1c4e332f32b8/s...  \n",
       "1  dch:org/df125f8d_93e4_4a4f_bc87_1c4e332f32b8/s...  \n",
       "2  dch:org/df125f8d_93e4_4a4f_bc87_1c4e332f32b8/s...  \n",
       "3  dch:org/df125f8d_93e4_4a4f_bc87_1c4e332f32b8/s...  \n",
       "4  dch:org/df125f8d_93e4_4a4f_bc87_1c4e332f32b8/s...  "
      ]
     },
     "execution_count": 16,
     "metadata": {},
     "output_type": "execute_result"
    }
   ],
   "source": [
    "res = db.query(q, return_df=True)\n",
    "res.head()"
   ]
  },
  {
   "cell_type": "markdown",
   "metadata": {},
   "source": [
    "## Query the brick schema:\n",
    "\n",
    "Get the results as RDFLib rows:"
   ]
  },
  {
   "cell_type": "code",
   "execution_count": 17,
   "metadata": {},
   "outputs": [
    {
     "name": "stdout",
     "output_type": "stream",
     "text": [
      "(rdflib.term.URIRef('https://brickschema.org/schema/Brick#Static_Pressure_Setpoint_Limit'), rdflib.term.URIRef('http://www.w3.org/2000/01/rdf-schema#subClassOf'), rdflib.term.URIRef('https://brickschema.org/schema/Brick#Limit'))\n",
      "(rdflib.term.BNode('n23ef4a68f44b4af0af4970741a3c6cb2b7348'), rdflib.term.URIRef('http://www.w3.org/2002/07/owl#intersectionOf'), rdflib.term.BNode('n23ef4a68f44b4af0af4970741a3c6cb2b7349'))\n",
      "(rdflib.term.URIRef('http://qudt.org/vocab/unit/MilliL-PER-DAY'), rdflib.term.URIRef('http://www.w3.org/1999/02/22-rdf-syntax-ns#type'), rdflib.term.URIRef('http://qudt.org/vocab/unit/Unit'))\n",
      "(rdflib.term.URIRef('https://brickschema.org/schema/Brick#tilt'), rdflib.term.URIRef('http://www.w3.org/2004/02/skos/core#definition'), rdflib.term.Literal('The direction an entity is facing in degrees above the horizon'))\n",
      "(rdflib.term.BNode('n23ef4a68f44b4af0af4970741a3c6cb2b5267'), rdflib.term.URIRef('http://www.w3.org/1999/02/22-rdf-syntax-ns#rest'), rdflib.term.URIRef('http://www.w3.org/1999/02/22-rdf-syntax-ns#nil'))\n"
     ]
    }
   ],
   "source": [
    "res = db.query(q, graph='schema')\n",
    "for r in res:\n",
    "    print(r)"
   ]
  },
  {
   "cell_type": "markdown",
   "metadata": {},
   "source": [
    "Get the results as a DataFrame:"
   ]
  },
  {
   "cell_type": "code",
   "execution_count": 18,
   "metadata": {},
   "outputs": [
    {
     "data": {
      "text/html": [
       "<div>\n",
       "<style scoped>\n",
       "    .dataframe tbody tr th:only-of-type {\n",
       "        vertical-align: middle;\n",
       "    }\n",
       "\n",
       "    .dataframe tbody tr th {\n",
       "        vertical-align: top;\n",
       "    }\n",
       "\n",
       "    .dataframe thead th {\n",
       "        text-align: right;\n",
       "    }\n",
       "</style>\n",
       "<table border=\"1\" class=\"dataframe\">\n",
       "  <thead>\n",
       "    <tr style=\"text-align: right;\">\n",
       "      <th></th>\n",
       "      <th>o</th>\n",
       "      <th>p</th>\n",
       "      <th>s</th>\n",
       "    </tr>\n",
       "  </thead>\n",
       "  <tbody>\n",
       "    <tr>\n",
       "      <th>0</th>\n",
       "      <td>https://brickschema.org/schema/Brick#Limit</td>\n",
       "      <td>http://www.w3.org/2000/01/rdf-schema#subClassOf</td>\n",
       "      <td>https://brickschema.org/schema/Brick#Static_Pr...</td>\n",
       "    </tr>\n",
       "    <tr>\n",
       "      <th>1</th>\n",
       "      <td>n23ef4a68f44b4af0af4970741a3c6cb2b7349</td>\n",
       "      <td>http://www.w3.org/2002/07/owl#intersectionOf</td>\n",
       "      <td>n23ef4a68f44b4af0af4970741a3c6cb2b7348</td>\n",
       "    </tr>\n",
       "    <tr>\n",
       "      <th>2</th>\n",
       "      <td>http://qudt.org/vocab/unit/Unit</td>\n",
       "      <td>http://www.w3.org/1999/02/22-rdf-syntax-ns#type</td>\n",
       "      <td>http://qudt.org/vocab/unit/MilliL-PER-DAY</td>\n",
       "    </tr>\n",
       "    <tr>\n",
       "      <th>3</th>\n",
       "      <td>The direction an entity is facing in degrees a...</td>\n",
       "      <td>http://www.w3.org/2004/02/skos/core#definition</td>\n",
       "      <td>https://brickschema.org/schema/Brick#tilt</td>\n",
       "    </tr>\n",
       "    <tr>\n",
       "      <th>4</th>\n",
       "      <td>http://www.w3.org/1999/02/22-rdf-syntax-ns#nil</td>\n",
       "      <td>http://www.w3.org/1999/02/22-rdf-syntax-ns#rest</td>\n",
       "      <td>n23ef4a68f44b4af0af4970741a3c6cb2b5267</td>\n",
       "    </tr>\n",
       "  </tbody>\n",
       "</table>\n",
       "</div>"
      ],
      "text/plain": [
       "                                                   o  \\\n",
       "0         https://brickschema.org/schema/Brick#Limit   \n",
       "1             n23ef4a68f44b4af0af4970741a3c6cb2b7349   \n",
       "2                    http://qudt.org/vocab/unit/Unit   \n",
       "3  The direction an entity is facing in degrees a...   \n",
       "4     http://www.w3.org/1999/02/22-rdf-syntax-ns#nil   \n",
       "\n",
       "                                                 p  \\\n",
       "0  http://www.w3.org/2000/01/rdf-schema#subClassOf   \n",
       "1     http://www.w3.org/2002/07/owl#intersectionOf   \n",
       "2  http://www.w3.org/1999/02/22-rdf-syntax-ns#type   \n",
       "3   http://www.w3.org/2004/02/skos/core#definition   \n",
       "4  http://www.w3.org/1999/02/22-rdf-syntax-ns#rest   \n",
       "\n",
       "                                                   s  \n",
       "0  https://brickschema.org/schema/Brick#Static_Pr...  \n",
       "1             n23ef4a68f44b4af0af4970741a3c6cb2b7348  \n",
       "2          http://qudt.org/vocab/unit/MilliL-PER-DAY  \n",
       "3          https://brickschema.org/schema/Brick#tilt  \n",
       "4             n23ef4a68f44b4af0af4970741a3c6cb2b5267  "
      ]
     },
     "execution_count": 18,
     "metadata": {},
     "output_type": "execute_result"
    }
   ],
   "source": [
    "res = db.query(q, graph='schema', return_df=True)\n",
    "res.head()"
   ]
  },
  {
   "cell_type": "markdown",
   "metadata": {},
   "source": [
    "## Remove the RDF prefixes from the query results:"
   ]
  },
  {
   "cell_type": "code",
   "execution_count": 19,
   "metadata": {},
   "outputs": [
    {
     "data": {
      "text/html": [
       "<div>\n",
       "<style scoped>\n",
       "    .dataframe tbody tr th:only-of-type {\n",
       "        vertical-align: middle;\n",
       "    }\n",
       "\n",
       "    .dataframe tbody tr th {\n",
       "        vertical-align: top;\n",
       "    }\n",
       "\n",
       "    .dataframe thead th {\n",
       "        text-align: right;\n",
       "    }\n",
       "</style>\n",
       "<table border=\"1\" class=\"dataframe\">\n",
       "  <thead>\n",
       "    <tr style=\"text-align: right;\">\n",
       "      <th></th>\n",
       "      <th>o</th>\n",
       "      <th>p</th>\n",
       "      <th>s</th>\n",
       "    </tr>\n",
       "  </thead>\n",
       "  <tbody>\n",
       "    <tr>\n",
       "      <th>0</th>\n",
       "      <td>ef68742c_aabf_4aff_9997_789cda5f121d</td>\n",
       "      <td>stream_id</td>\n",
       "      <td>8f8996ae_8dd4_4a45_bed9_7757fa6907db.00d6ac8b_...</td>\n",
       "    </tr>\n",
       "    <tr>\n",
       "      <th>1</th>\n",
       "      <td>n265b1488f2e54296a4563ceb27215c5db90</td>\n",
       "      <td>powerComplexity</td>\n",
       "      <td>70d05bb1_6810_435a_bcac_8166afba0ba6.7f8a3b58_...</td>\n",
       "    </tr>\n",
       "    <tr>\n",
       "      <th>2</th>\n",
       "      <td>1af5f6f9_15b1_4a62_962e_0ede16373202</td>\n",
       "      <td>isPointOf</td>\n",
       "      <td>1af5f6f9_15b1_4a62_962e_0ede16373202.7b4f5802_...</td>\n",
       "    </tr>\n",
       "    <tr>\n",
       "      <th>3</th>\n",
       "      <td>Temperature_Parameter</td>\n",
       "      <td>type</td>\n",
       "      <td>d64b9bc0_e6b3_4556_acda_8040d33b7148.7cdaf176_...</td>\n",
       "    </tr>\n",
       "    <tr>\n",
       "      <th>4</th>\n",
       "      <td>Cooling_Temperature_Setpoint</td>\n",
       "      <td>type</td>\n",
       "      <td>ebb4f301_f353_446c_9b92_19f131e5181d.099dc70e_...</td>\n",
       "    </tr>\n",
       "  </tbody>\n",
       "</table>\n",
       "</div>"
      ],
      "text/plain": [
       "                                      o                p  \\\n",
       "0  ef68742c_aabf_4aff_9997_789cda5f121d        stream_id   \n",
       "1  n265b1488f2e54296a4563ceb27215c5db90  powerComplexity   \n",
       "2  1af5f6f9_15b1_4a62_962e_0ede16373202        isPointOf   \n",
       "3                 Temperature_Parameter             type   \n",
       "4          Cooling_Temperature_Setpoint             type   \n",
       "\n",
       "                                                   s  \n",
       "0  8f8996ae_8dd4_4a45_bed9_7757fa6907db.00d6ac8b_...  \n",
       "1  70d05bb1_6810_435a_bcac_8166afba0ba6.7f8a3b58_...  \n",
       "2  1af5f6f9_15b1_4a62_962e_0ede16373202.7b4f5802_...  \n",
       "3  d64b9bc0_e6b3_4556_acda_8040d33b7148.7cdaf176_...  \n",
       "4  ebb4f301_f353_446c_9b92_19f131e5181d.099dc70e_...  "
      ]
     },
     "execution_count": 19,
     "metadata": {},
     "output_type": "execute_result"
    }
   ],
   "source": [
    "res = db.query(q, return_df=True, defrag=True)\n",
    "res.head()"
   ]
  },
  {
   "cell_type": "markdown",
   "metadata": {},
   "source": [
    "## Get the building model knowledge graph itself:"
   ]
  },
  {
   "cell_type": "code",
   "execution_count": 20,
   "metadata": {},
   "outputs": [
    {
     "name": "stdout",
     "output_type": "stream",
     "text": [
      "dch:org/df125f8d_93e4_4a4f_bc87_1c4e332f32b8/site/c495fbd8_7a71_44b4_ad2a_014ac2df7ce9/building/95d1f7f3_33c6_4bd8_a82c_99c550d83bb8#8f8996ae_8dd4_4a45_bed9_7757fa6907db.00d6ac8b_77dd_4c03_ae3e_e2d9a051941e http://senaps.io/schema/1.0/senaps#stream_id ef68742c_aabf_4aff_9997_789cda5f121d\n",
      "dch:org/df125f8d_93e4_4a4f_bc87_1c4e332f32b8/site/c495fbd8_7a71_44b4_ad2a_014ac2df7ce9/building/95d1f7f3_33c6_4bd8_a82c_99c550d83bb8#70d05bb1_6810_435a_bcac_8166afba0ba6.7f8a3b58_46c0_4bc8_a174_7ca36181c653 https://brickschema.org/schema/Brick#powerComplexity n265b1488f2e54296a4563ceb27215c5db90\n",
      "dch:org/df125f8d_93e4_4a4f_bc87_1c4e332f32b8/site/c495fbd8_7a71_44b4_ad2a_014ac2df7ce9/building/95d1f7f3_33c6_4bd8_a82c_99c550d83bb8#1af5f6f9_15b1_4a62_962e_0ede16373202.7b4f5802_1349_46b9_838d_b6bf2e847bdf https://brickschema.org/schema/Brick#isPointOf dch:org/df125f8d_93e4_4a4f_bc87_1c4e332f32b8/site/c495fbd8_7a71_44b4_ad2a_014ac2df7ce9/building/95d1f7f3_33c6_4bd8_a82c_99c550d83bb8#1af5f6f9_15b1_4a62_962e_0ede16373202\n",
      "dch:org/df125f8d_93e4_4a4f_bc87_1c4e332f32b8/site/c495fbd8_7a71_44b4_ad2a_014ac2df7ce9/building/95d1f7f3_33c6_4bd8_a82c_99c550d83bb8#d64b9bc0_e6b3_4556_acda_8040d33b7148.7cdaf176_3062_4111_94f5_27ed2998a8eb http://www.w3.org/1999/02/22-rdf-syntax-ns#type https://brickschema.org/schema/Brick#Temperature_Parameter\n",
      "dch:org/df125f8d_93e4_4a4f_bc87_1c4e332f32b8/site/c495fbd8_7a71_44b4_ad2a_014ac2df7ce9/building/95d1f7f3_33c6_4bd8_a82c_99c550d83bb8#ebb4f301_f353_446c_9b92_19f131e5181d.099dc70e_f41d_4bc5_aad0_0749d7685daa http://www.w3.org/1999/02/22-rdf-syntax-ns#type https://brickschema.org/schema/Brick#Cooling_Temperature_Setpoint\n"
     ]
    }
   ],
   "source": [
    "g = db.model\n",
    "i = 0\n",
    "for s, p, o in g:\n",
    "    print(s, p, o)\n",
    "    i += 1\n",
    "    if i == 5:\n",
    "        break"
   ]
  },
  {
   "cell_type": "markdown",
   "metadata": {},
   "source": [
    "## Get the brick schema knowledge graph itself:"
   ]
  },
  {
   "cell_type": "code",
   "execution_count": 21,
   "metadata": {},
   "outputs": [
    {
     "name": "stdout",
     "output_type": "stream",
     "text": [
      "https://brickschema.org/schema/Brick#Static_Pressure_Setpoint_Limit http://www.w3.org/2000/01/rdf-schema#subClassOf https://brickschema.org/schema/Brick#Limit\n",
      "n23ef4a68f44b4af0af4970741a3c6cb2b7348 http://www.w3.org/2002/07/owl#intersectionOf n23ef4a68f44b4af0af4970741a3c6cb2b7349\n",
      "http://qudt.org/vocab/unit/MilliL-PER-DAY http://www.w3.org/1999/02/22-rdf-syntax-ns#type http://qudt.org/vocab/unit/Unit\n",
      "https://brickschema.org/schema/Brick#tilt http://www.w3.org/2004/02/skos/core#definition The direction an entity is facing in degrees above the horizon\n",
      "n23ef4a68f44b4af0af4970741a3c6cb2b5267 http://www.w3.org/1999/02/22-rdf-syntax-ns#rest http://www.w3.org/1999/02/22-rdf-syntax-ns#nil\n"
     ]
    }
   ],
   "source": [
    "g = db.schema\n",
    "i = 0\n",
    "for s, p, o in g:\n",
    "    print(s, p, o)\n",
    "    i += 1\n",
    "    if i == 5:\n",
    "        break"
   ]
  },
  {
   "cell_type": "markdown",
   "metadata": {},
   "source": [
    "## Get the time series data itself:"
   ]
  },
  {
   "cell_type": "code",
   "execution_count": 22,
   "metadata": {},
   "outputs": [
    {
     "name": "stdout",
     "output_type": "stream",
     "text": [
      "6f502ba0_77fb_43db_b6dc_48e68d5c822b: 51193 data points\n",
      "3c9ca09b_8952_45da_a066_bcb645cbbc68: 51194 data points\n",
      "d60c44c3_62fc_409a_a751_8b3ddeb9f197: 51194 data points\n",
      "eb0d5916_d942_4e2d_8129_60b83d984fdd: 51200 data points\n",
      "78078042_e16e_425b_9ec8_605aa149274e: 51188 data points\n"
     ]
    }
   ],
   "source": [
    "data = db.data\n",
    "i = 0\n",
    "for k, v in data.items():\n",
    "    print(f'{k}: {len(v)} data points')\n",
    "    i += 1\n",
    "    if i == 5:\n",
    "        break"
   ]
  },
  {
   "cell_type": "markdown",
   "metadata": {},
   "source": [
    "## Get the mapper itself:"
   ]
  },
  {
   "cell_type": "code",
   "execution_count": 23,
   "metadata": {},
   "outputs": [
    {
     "data": {
      "text/html": [
       "<div>\n",
       "<style scoped>\n",
       "    .dataframe tbody tr th:only-of-type {\n",
       "        vertical-align: middle;\n",
       "    }\n",
       "\n",
       "    .dataframe tbody tr th {\n",
       "        vertical-align: top;\n",
       "    }\n",
       "\n",
       "    .dataframe thead th {\n",
       "        text-align: right;\n",
       "    }\n",
       "</style>\n",
       "<table border=\"1\" class=\"dataframe\">\n",
       "  <thead>\n",
       "    <tr style=\"text-align: right;\">\n",
       "      <th></th>\n",
       "      <th>Building</th>\n",
       "      <th>StreamID</th>\n",
       "      <th>Filename</th>\n",
       "      <th>strBrickLabel</th>\n",
       "    </tr>\n",
       "  </thead>\n",
       "  <tbody>\n",
       "    <tr>\n",
       "      <th>8349</th>\n",
       "      <td>B</td>\n",
       "      <td>3dfa2bab_f8f2_485b_80e9_5afdeeac9dc4</td>\n",
       "      <td>trainAll_7989.pkl</td>\n",
       "      <td>Temperature_Setpoint</td>\n",
       "    </tr>\n",
       "    <tr>\n",
       "      <th>8350</th>\n",
       "      <td>B</td>\n",
       "      <td>77ed01a5_11c3_4607_9bf8_342b947c88de</td>\n",
       "      <td>trainAll_7990.pkl</td>\n",
       "      <td>System_Enable_Command</td>\n",
       "    </tr>\n",
       "    <tr>\n",
       "      <th>8351</th>\n",
       "      <td>B</td>\n",
       "      <td>16b768f0_5fb1_4db3_b506_d811b7c67738</td>\n",
       "      <td>trainAll_7991.pkl</td>\n",
       "      <td>Proportional_Gain_Parameter</td>\n",
       "    </tr>\n",
       "    <tr>\n",
       "      <th>8353</th>\n",
       "      <td>B</td>\n",
       "      <td>eb0d5916_d942_4e2d_8129_60b83d984fdd</td>\n",
       "      <td>trainAll_7992.pkl</td>\n",
       "      <td>Max_Temperature_Setpoint_Limit</td>\n",
       "    </tr>\n",
       "    <tr>\n",
       "      <th>8354</th>\n",
       "      <td>B</td>\n",
       "      <td>82f75178_cc15_4db7_b06c_48432305bd58</td>\n",
       "      <td>trainAll_7993.pkl</td>\n",
       "      <td>Max_Temperature_Setpoint_Limit</td>\n",
       "    </tr>\n",
       "  </tbody>\n",
       "</table>\n",
       "</div>"
      ],
      "text/plain": [
       "     Building                              StreamID           Filename  \\\n",
       "8349        B  3dfa2bab_f8f2_485b_80e9_5afdeeac9dc4  trainAll_7989.pkl   \n",
       "8350        B  77ed01a5_11c3_4607_9bf8_342b947c88de  trainAll_7990.pkl   \n",
       "8351        B  16b768f0_5fb1_4db3_b506_d811b7c67738  trainAll_7991.pkl   \n",
       "8353        B  eb0d5916_d942_4e2d_8129_60b83d984fdd  trainAll_7992.pkl   \n",
       "8354        B  82f75178_cc15_4db7_b06c_48432305bd58  trainAll_7993.pkl   \n",
       "\n",
       "                       strBrickLabel  \n",
       "8349            Temperature_Setpoint  \n",
       "8350           System_Enable_Command  \n",
       "8351     Proportional_Gain_Parameter  \n",
       "8353  Max_Temperature_Setpoint_Limit  \n",
       "8354  Max_Temperature_Setpoint_Limit  "
      ]
     },
     "execution_count": 23,
     "metadata": {},
     "output_type": "execute_result"
    }
   ],
   "source": [
    "mapper = db.mapper\n",
    "mapper.head()"
   ]
  }
 ],
 "metadata": {
  "kernelspec": {
   "display_name": ".venv",
   "language": "python",
   "name": "python3"
  },
  "language_info": {
   "codemirror_mode": {
    "name": "ipython",
    "version": 3
   },
   "file_extension": ".py",
   "mimetype": "text/x-python",
   "name": "python",
   "nbconvert_exporter": "python",
   "pygments_lexer": "ipython3",
   "version": "3.12.2"
  }
 },
 "nbformat": 4,
 "nbformat_minor": 2
}
