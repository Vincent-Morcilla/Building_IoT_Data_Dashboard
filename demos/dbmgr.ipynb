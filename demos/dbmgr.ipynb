{
 "cells": [
  {
   "cell_type": "markdown",
   "metadata": {},
   "source": [
    "# Paths to our dataset files"
   ]
  },
  {
   "cell_type": "code",
   "execution_count": 16,
   "metadata": {},
   "outputs": [],
   "source": [
    "data = '../datasets/bts_site_b_train/train.zip'\n",
    "mapper = '../datasets/bts_site_b_train/mapper_TrainOnly.csv'\n",
    "model = '../datasets/bts_site_b_train/Site_B.ttl'\n",
    "schema = '../datasets/bts_site_b_train/Brick_v1.2.1.ttl'"
   ]
  },
  {
   "cell_type": "markdown",
   "metadata": {},
   "source": [
    "# Load the Dataset"
   ]
  },
  {
   "cell_type": "markdown",
   "metadata": {},
   "source": [
    "Hack for demo purposes to add the `src` directory to the path:"
   ]
  },
  {
   "cell_type": "code",
   "execution_count": 17,
   "metadata": {},
   "outputs": [],
   "source": [
    "import sys\n",
    "sys.path.append(\"../src\")"
   ]
  },
  {
   "cell_type": "markdown",
   "metadata": {},
   "source": [
    "Import and instantiate the manager:"
   ]
  },
  {
   "cell_type": "code",
   "execution_count": 18,
   "metadata": {},
   "outputs": [],
   "source": [
    "from dbmgr import DBManager\n",
    "db = DBManager(data, mapper, model, schema)"
   ]
  },
  {
   "cell_type": "markdown",
   "metadata": {},
   "source": [
    "This `db` object is what is passed to each analytics module.\n",
    "\n",
    "## Number of streams in the dataset"
   ]
  },
  {
   "cell_type": "code",
   "execution_count": 19,
   "metadata": {},
   "outputs": [
    {
     "data": {
      "text/plain": [
       "668"
      ]
     },
     "execution_count": 19,
     "metadata": {},
     "output_type": "execute_result"
    }
   ],
   "source": [
    "len(db)"
   ]
  },
  {
   "cell_type": "markdown",
   "metadata": {},
   "source": [
    "## Iterating over the streams in the dataset"
   ]
  },
  {
   "cell_type": "code",
   "execution_count": 20,
   "metadata": {},
   "outputs": [
    {
     "name": "stdout",
     "output_type": "stream",
     "text": [
      "6f502ba0_77fb_43db_b6dc_48e68d5c822b\n",
      "3c9ca09b_8952_45da_a066_bcb645cbbc68\n",
      "d60c44c3_62fc_409a_a751_8b3ddeb9f197\n",
      "eb0d5916_d942_4e2d_8129_60b83d984fdd\n",
      "78078042_e16e_425b_9ec8_605aa149274e\n"
     ]
    }
   ],
   "source": [
    "i = 0\n",
    "for stream_id in db:\n",
    "    print(stream_id)\n",
    "    i += 1\n",
    "    if i == 5:\n",
    "        break"
   ]
  },
  {
   "cell_type": "markdown",
   "metadata": {},
   "source": [
    "## Check if a stream ID is in the dataset:\n",
    "\n",
    "Not in the dataset:"
   ]
  },
  {
   "cell_type": "code",
   "execution_count": 21,
   "metadata": {},
   "outputs": [
    {
     "data": {
      "text/plain": [
       "False"
      ]
     },
     "execution_count": 21,
     "metadata": {},
     "output_type": "execute_result"
    }
   ],
   "source": [
    "'tim' in db"
   ]
  },
  {
   "cell_type": "markdown",
   "metadata": {},
   "source": [
    "In the dataset:"
   ]
  },
  {
   "cell_type": "code",
   "execution_count": 22,
   "metadata": {},
   "outputs": [
    {
     "data": {
      "text/plain": [
       "True"
      ]
     },
     "execution_count": 22,
     "metadata": {},
     "output_type": "execute_result"
    }
   ],
   "source": [
    "'835a86d6_c235_4caf_8071_31b9bf24960b' in db"
   ]
  },
  {
   "cell_type": "markdown",
   "metadata": {},
   "source": [
    "## Get a stream by its ID:\n",
    "\n",
    "By indexing into the manager:"
   ]
  },
  {
   "cell_type": "code",
   "execution_count": 23,
   "metadata": {},
   "outputs": [
    {
     "data": {
      "text/html": [
       "<div>\n",
       "<style scoped>\n",
       "    .dataframe tbody tr th:only-of-type {\n",
       "        vertical-align: middle;\n",
       "    }\n",
       "\n",
       "    .dataframe tbody tr th {\n",
       "        vertical-align: top;\n",
       "    }\n",
       "\n",
       "    .dataframe thead th {\n",
       "        text-align: right;\n",
       "    }\n",
       "</style>\n",
       "<table border=\"1\" class=\"dataframe\">\n",
       "  <thead>\n",
       "    <tr style=\"text-align: right;\">\n",
       "      <th></th>\n",
       "      <th>time</th>\n",
       "      <th>value</th>\n",
       "      <th>brick_class</th>\n",
       "    </tr>\n",
       "  </thead>\n",
       "  <tbody>\n",
       "    <tr>\n",
       "      <th>0</th>\n",
       "      <td>2021-01-01 00:03:09.662</td>\n",
       "      <td>0.0</td>\n",
       "      <td>Enable_Status</td>\n",
       "    </tr>\n",
       "    <tr>\n",
       "      <th>1</th>\n",
       "      <td>2021-01-01 00:13:39.017</td>\n",
       "      <td>0.0</td>\n",
       "      <td>Enable_Status</td>\n",
       "    </tr>\n",
       "    <tr>\n",
       "      <th>2</th>\n",
       "      <td>2021-01-01 00:23:10.073</td>\n",
       "      <td>0.0</td>\n",
       "      <td>Enable_Status</td>\n",
       "    </tr>\n",
       "    <tr>\n",
       "      <th>3</th>\n",
       "      <td>2021-01-01 00:33:09.637</td>\n",
       "      <td>0.0</td>\n",
       "      <td>Enable_Status</td>\n",
       "    </tr>\n",
       "    <tr>\n",
       "      <th>4</th>\n",
       "      <td>2021-01-01 00:43:09.639</td>\n",
       "      <td>0.0</td>\n",
       "      <td>Enable_Status</td>\n",
       "    </tr>\n",
       "  </tbody>\n",
       "</table>\n",
       "</div>"
      ],
      "text/plain": [
       "                     time  value    brick_class\n",
       "0 2021-01-01 00:03:09.662    0.0  Enable_Status\n",
       "1 2021-01-01 00:13:39.017    0.0  Enable_Status\n",
       "2 2021-01-01 00:23:10.073    0.0  Enable_Status\n",
       "3 2021-01-01 00:33:09.637    0.0  Enable_Status\n",
       "4 2021-01-01 00:43:09.639    0.0  Enable_Status"
      ]
     },
     "execution_count": 23,
     "metadata": {},
     "output_type": "execute_result"
    }
   ],
   "source": [
    "db['835a86d6_c235_4caf_8071_31b9bf24960b'].head()"
   ]
  },
  {
   "cell_type": "markdown",
   "metadata": {},
   "source": [
    "By calling the getter:"
   ]
  },
  {
   "cell_type": "code",
   "execution_count": 24,
   "metadata": {},
   "outputs": [
    {
     "data": {
      "text/html": [
       "<div>\n",
       "<style scoped>\n",
       "    .dataframe tbody tr th:only-of-type {\n",
       "        vertical-align: middle;\n",
       "    }\n",
       "\n",
       "    .dataframe tbody tr th {\n",
       "        vertical-align: top;\n",
       "    }\n",
       "\n",
       "    .dataframe thead th {\n",
       "        text-align: right;\n",
       "    }\n",
       "</style>\n",
       "<table border=\"1\" class=\"dataframe\">\n",
       "  <thead>\n",
       "    <tr style=\"text-align: right;\">\n",
       "      <th></th>\n",
       "      <th>time</th>\n",
       "      <th>value</th>\n",
       "      <th>brick_class</th>\n",
       "    </tr>\n",
       "  </thead>\n",
       "  <tbody>\n",
       "    <tr>\n",
       "      <th>0</th>\n",
       "      <td>2021-01-01 00:03:09.662</td>\n",
       "      <td>0.0</td>\n",
       "      <td>Enable_Status</td>\n",
       "    </tr>\n",
       "    <tr>\n",
       "      <th>1</th>\n",
       "      <td>2021-01-01 00:13:39.017</td>\n",
       "      <td>0.0</td>\n",
       "      <td>Enable_Status</td>\n",
       "    </tr>\n",
       "    <tr>\n",
       "      <th>2</th>\n",
       "      <td>2021-01-01 00:23:10.073</td>\n",
       "      <td>0.0</td>\n",
       "      <td>Enable_Status</td>\n",
       "    </tr>\n",
       "    <tr>\n",
       "      <th>3</th>\n",
       "      <td>2021-01-01 00:33:09.637</td>\n",
       "      <td>0.0</td>\n",
       "      <td>Enable_Status</td>\n",
       "    </tr>\n",
       "    <tr>\n",
       "      <th>4</th>\n",
       "      <td>2021-01-01 00:43:09.639</td>\n",
       "      <td>0.0</td>\n",
       "      <td>Enable_Status</td>\n",
       "    </tr>\n",
       "  </tbody>\n",
       "</table>\n",
       "</div>"
      ],
      "text/plain": [
       "                     time  value    brick_class\n",
       "0 2021-01-01 00:03:09.662    0.0  Enable_Status\n",
       "1 2021-01-01 00:13:39.017    0.0  Enable_Status\n",
       "2 2021-01-01 00:23:10.073    0.0  Enable_Status\n",
       "3 2021-01-01 00:33:09.637    0.0  Enable_Status\n",
       "4 2021-01-01 00:43:09.639    0.0  Enable_Status"
      ]
     },
     "execution_count": 24,
     "metadata": {},
     "output_type": "execute_result"
    }
   ],
   "source": [
    "db.get_stream('835a86d6_c235_4caf_8071_31b9bf24960b').head()"
   ]
  },
  {
   "cell_type": "markdown",
   "metadata": {},
   "source": [
    "## Set a stream by its ID:"
   ]
  },
  {
   "cell_type": "code",
   "execution_count": 25,
   "metadata": {},
   "outputs": [],
   "source": [
    "import pandas as pd\n",
    "\n",
    "data = pd.DataFrame({\n",
    "            \"time\": [pd.Timestamp('2017-03-22 15:16:45'), pd.Timestamp('2017-03-22 15:17:45'), pd.Timestamp('2017-03-22 15:18:45'), pd.Timestamp('2017-03-22 15:19:45') ],\n",
    "            \"value\": [22.0, 23.0, 24.0, 25.0],\n",
    "            \"brick_class\": [\"Fake_Class\", \"Fake_Class\", \"Fake_Class\", \"Fake_Class\"],\n",
    "        })"
   ]
  },
  {
   "cell_type": "markdown",
   "metadata": {},
   "source": [
    "By indexing into the manager:"
   ]
  },
  {
   "cell_type": "code",
   "execution_count": 26,
   "metadata": {},
   "outputs": [
    {
     "data": {
      "text/html": [
       "<div>\n",
       "<style scoped>\n",
       "    .dataframe tbody tr th:only-of-type {\n",
       "        vertical-align: middle;\n",
       "    }\n",
       "\n",
       "    .dataframe tbody tr th {\n",
       "        vertical-align: top;\n",
       "    }\n",
       "\n",
       "    .dataframe thead th {\n",
       "        text-align: right;\n",
       "    }\n",
       "</style>\n",
       "<table border=\"1\" class=\"dataframe\">\n",
       "  <thead>\n",
       "    <tr style=\"text-align: right;\">\n",
       "      <th></th>\n",
       "      <th>time</th>\n",
       "      <th>value</th>\n",
       "      <th>brick_class</th>\n",
       "    </tr>\n",
       "  </thead>\n",
       "  <tbody>\n",
       "    <tr>\n",
       "      <th>0</th>\n",
       "      <td>2017-03-22 15:16:45</td>\n",
       "      <td>22.0</td>\n",
       "      <td>Fake_Class</td>\n",
       "    </tr>\n",
       "    <tr>\n",
       "      <th>1</th>\n",
       "      <td>2017-03-22 15:17:45</td>\n",
       "      <td>23.0</td>\n",
       "      <td>Fake_Class</td>\n",
       "    </tr>\n",
       "    <tr>\n",
       "      <th>2</th>\n",
       "      <td>2017-03-22 15:18:45</td>\n",
       "      <td>24.0</td>\n",
       "      <td>Fake_Class</td>\n",
       "    </tr>\n",
       "    <tr>\n",
       "      <th>3</th>\n",
       "      <td>2017-03-22 15:19:45</td>\n",
       "      <td>25.0</td>\n",
       "      <td>Fake_Class</td>\n",
       "    </tr>\n",
       "  </tbody>\n",
       "</table>\n",
       "</div>"
      ],
      "text/plain": [
       "                 time  value brick_class\n",
       "0 2017-03-22 15:16:45   22.0  Fake_Class\n",
       "1 2017-03-22 15:17:45   23.0  Fake_Class\n",
       "2 2017-03-22 15:18:45   24.0  Fake_Class\n",
       "3 2017-03-22 15:19:45   25.0  Fake_Class"
      ]
     },
     "execution_count": 26,
     "metadata": {},
     "output_type": "execute_result"
    }
   ],
   "source": [
    "db['835a86d6_c235_4caf_8071_31b9bf24960b'] = data\n",
    "db['835a86d6_c235_4caf_8071_31b9bf24960b'].head()"
   ]
  },
  {
   "cell_type": "markdown",
   "metadata": {},
   "source": [
    "By calling the setter:"
   ]
  },
  {
   "cell_type": "code",
   "execution_count": 27,
   "metadata": {},
   "outputs": [
    {
     "data": {
      "text/html": [
       "<div>\n",
       "<style scoped>\n",
       "    .dataframe tbody tr th:only-of-type {\n",
       "        vertical-align: middle;\n",
       "    }\n",
       "\n",
       "    .dataframe tbody tr th {\n",
       "        vertical-align: top;\n",
       "    }\n",
       "\n",
       "    .dataframe thead th {\n",
       "        text-align: right;\n",
       "    }\n",
       "</style>\n",
       "<table border=\"1\" class=\"dataframe\">\n",
       "  <thead>\n",
       "    <tr style=\"text-align: right;\">\n",
       "      <th></th>\n",
       "      <th>time</th>\n",
       "      <th>value</th>\n",
       "      <th>brick_class</th>\n",
       "    </tr>\n",
       "  </thead>\n",
       "  <tbody>\n",
       "    <tr>\n",
       "      <th>0</th>\n",
       "      <td>2017-03-22 15:16:45</td>\n",
       "      <td>22.0</td>\n",
       "      <td>Fake_Class</td>\n",
       "    </tr>\n",
       "    <tr>\n",
       "      <th>1</th>\n",
       "      <td>2017-03-22 15:17:45</td>\n",
       "      <td>23.0</td>\n",
       "      <td>Fake_Class</td>\n",
       "    </tr>\n",
       "    <tr>\n",
       "      <th>2</th>\n",
       "      <td>2017-03-22 15:18:45</td>\n",
       "      <td>24.0</td>\n",
       "      <td>Fake_Class</td>\n",
       "    </tr>\n",
       "    <tr>\n",
       "      <th>3</th>\n",
       "      <td>2017-03-22 15:19:45</td>\n",
       "      <td>25.0</td>\n",
       "      <td>Fake_Class</td>\n",
       "    </tr>\n",
       "  </tbody>\n",
       "</table>\n",
       "</div>"
      ],
      "text/plain": [
       "                 time  value brick_class\n",
       "0 2017-03-22 15:16:45   22.0  Fake_Class\n",
       "1 2017-03-22 15:17:45   23.0  Fake_Class\n",
       "2 2017-03-22 15:18:45   24.0  Fake_Class\n",
       "3 2017-03-22 15:19:45   25.0  Fake_Class"
      ]
     },
     "execution_count": 27,
     "metadata": {},
     "output_type": "execute_result"
    }
   ],
   "source": [
    "db.set_stream('22543d51_3c38_46d3_98fe_a77838976df9', data)\n",
    "db.get_stream('22543d51_3c38_46d3_98fe_a77838976df9').head()"
   ]
  },
  {
   "cell_type": "markdown",
   "metadata": {},
   "source": [
    "## Get multiple streams by their IDs:"
   ]
  },
  {
   "cell_type": "code",
   "execution_count": 28,
   "metadata": {},
   "outputs": [
    {
     "name": "stdout",
     "output_type": "stream",
     "text": [
      "========= 22543d51_3c38_46d3_98fe_a77838976df9 =========\n",
      "                 time  value brick_class\n",
      "0 2017-03-22 15:16:45   22.0  Fake_Class\n",
      "1 2017-03-22 15:17:45   23.0  Fake_Class\n",
      "2 2017-03-22 15:18:45   24.0  Fake_Class\n",
      "3 2017-03-22 15:19:45   25.0  Fake_Class\n",
      "\n",
      "========= 3010a24a_2deb_43c8_9db4_cfc94c5faa5c =========\n",
      "                     time  value              brick_class\n",
      "0 2021-07-13 01:26:18.083 -0.107  Electrical_Power_Sensor\n",
      "1 2021-07-13 01:31:17.035 -0.042  Electrical_Power_Sensor\n",
      "2 2021-07-13 01:36:13.143  0.054  Electrical_Power_Sensor\n",
      "3 2021-07-13 01:50:12.735 -0.016  Electrical_Power_Sensor\n",
      "4 2021-07-13 01:55:12.150 -0.164  Electrical_Power_Sensor\n",
      "\n",
      "========= 405896a1_c195_422d_a0aa_18d2eca6a61d =========\n",
      "                     time  value                   brick_class\n",
      "0 2021-01-01 00:03:16.153   23.5  Cooling_Temperature_Setpoint\n",
      "1 2021-01-01 00:13:44.730   23.5  Cooling_Temperature_Setpoint\n",
      "2 2021-01-01 00:23:16.055   23.5  Cooling_Temperature_Setpoint\n",
      "3 2021-01-01 00:33:16.093   23.5  Cooling_Temperature_Setpoint\n",
      "4 2021-01-01 00:43:16.129   23.5  Cooling_Temperature_Setpoint\n",
      "\n"
     ]
    }
   ],
   "source": [
    "stream_ids = [\n",
    "    '22543d51_3c38_46d3_98fe_a77838976df9',\n",
    "    '3010a24a_2deb_43c8_9db4_cfc94c5faa5c',\n",
    "    '405896a1_c195_422d_a0aa_18d2eca6a61d',\n",
    "]\n",
    "streams = db.get_streams(stream_ids)\n",
    "for stream_id, stream in streams.items():\n",
    "    print(f'========= {stream_id} =========')\n",
    "    print(stream.head())\n",
    "    print()"
   ]
  },
  {
   "cell_type": "markdown",
   "metadata": {},
   "source": [
    "## Get the label of a stream:"
   ]
  },
  {
   "cell_type": "markdown",
   "metadata": {},
   "source": [
    "Stream that does exist:"
   ]
  },
  {
   "cell_type": "code",
   "execution_count": 29,
   "metadata": {},
   "outputs": [
    {
     "data": {
      "text/plain": [
       "'Operating_Mode_Status'"
      ]
     },
     "execution_count": 29,
     "metadata": {},
     "output_type": "execute_result"
    }
   ],
   "source": [
    "db.get_stream_label('22543d51_3c38_46d3_98fe_a77838976df9')"
   ]
  },
  {
   "cell_type": "markdown",
   "metadata": {},
   "source": [
    "Stream that doesn't exist will raise a KeyError (so should generally wrap calls like this in try-except blocks):"
   ]
  },
  {
   "cell_type": "code",
   "execution_count": 30,
   "metadata": {},
   "outputs": [],
   "source": [
    "# db.get_stream_label('does not exist')"
   ]
  },
  {
   "cell_type": "markdown",
   "metadata": {},
   "source": [
    "## Query the building model:\n",
    "\n",
    "Some arbitrary sparql query:"
   ]
  },
  {
   "cell_type": "code",
   "execution_count": 31,
   "metadata": {},
   "outputs": [],
   "source": [
    "q = \"\"\"\n",
    "SELECT ?s ?p ?o WHERE {\n",
    "    ?s ?p ?o\n",
    "} LIMIT 5\n",
    "\"\"\""
   ]
  },
  {
   "cell_type": "markdown",
   "metadata": {},
   "source": [
    "Get the results as RDFLib rows:"
   ]
  },
  {
   "cell_type": "code",
   "execution_count": 32,
   "metadata": {},
   "outputs": [
    {
     "name": "stdout",
     "output_type": "stream",
     "text": [
      "(rdflib.term.URIRef('dch:org/df125f8d_93e4_4a4f_bc87_1c4e332f32b8/site/c495fbd8_7a71_44b4_ad2a_014ac2df7ce9/building/95d1f7f3_33c6_4bd8_a82c_99c550d83bb8#d64b9bc0_e6b3_4556_acda_8040d33b7148.c7fec04c_e8ac_4a10_b940_ebd908f9d284'), rdflib.term.URIRef('http://www.w3.org/1999/02/22-rdf-syntax-ns#type'), rdflib.term.URIRef('https://brickschema.org/schema/Brick#Emergency_Alarm'))\n",
      "(rdflib.term.URIRef('dch:org/df125f8d_93e4_4a4f_bc87_1c4e332f32b8/site/c495fbd8_7a71_44b4_ad2a_014ac2df7ce9/building/95d1f7f3_33c6_4bd8_a82c_99c550d83bb8#d64b9bc0_e6b3_4556_acda_8040d33b7148.c76e3d65_8b3a_4b18_8f73_ab3608a678a9'), rdflib.term.URIRef('http://www.w3.org/1999/02/22-rdf-syntax-ns#type'), rdflib.term.URIRef('https://brickschema.org/schema/Brick#Temperature_Parameter'))\n",
      "(rdflib.term.BNode('nc485c3168413458db2ae9953a50d5c71b240'), rdflib.term.URIRef('https://brickschema.org/schema/Brick#value'), rdflib.term.Literal('real'))\n",
      "(rdflib.term.URIRef('dch:org/df125f8d_93e4_4a4f_bc87_1c4e332f32b8/site/c495fbd8_7a71_44b4_ad2a_014ac2df7ce9/building/95d1f7f3_33c6_4bd8_a82c_99c550d83bb8#22937c9b_ad32_47c9_b013_1df3a46f0d37'), rdflib.term.URIRef('https://brickschema.org/schema/Brick#isPartOf'), rdflib.term.URIRef('dch:org/df125f8d_93e4_4a4f_bc87_1c4e332f32b8/site/c495fbd8_7a71_44b4_ad2a_014ac2df7ce9/building/95d1f7f3_33c6_4bd8_a82c_99c550d83bb8#d0b621a6_148d_427d_8aef_b073b11184e1'))\n",
      "(rdflib.term.URIRef('dch:org/df125f8d_93e4_4a4f_bc87_1c4e332f32b8/site/c495fbd8_7a71_44b4_ad2a_014ac2df7ce9/building/95d1f7f3_33c6_4bd8_a82c_99c550d83bb8#3b373634_2461_4b61_8bcb_068c12b7e1a8.6af9698e_b72b_48d7_b864_9a0d518ec3b1'), rdflib.term.URIRef('https://brickschema.org/schema/Brick#isPartOf'), rdflib.term.URIRef('dch:org/df125f8d_93e4_4a4f_bc87_1c4e332f32b8/site/c495fbd8_7a71_44b4_ad2a_014ac2df7ce9/building/95d1f7f3_33c6_4bd8_a82c_99c550d83bb8#6e0854f9_3888_4867_9176_0693de75f841'))\n"
     ]
    }
   ],
   "source": [
    "res = db.query(q)\n",
    "for r in res:\n",
    "    print(r)"
   ]
  },
  {
   "cell_type": "markdown",
   "metadata": {},
   "source": [
    "Get the results as a DataFrame:"
   ]
  },
  {
   "cell_type": "code",
   "execution_count": 33,
   "metadata": {},
   "outputs": [
    {
     "data": {
      "text/html": [
       "<div>\n",
       "<style scoped>\n",
       "    .dataframe tbody tr th:only-of-type {\n",
       "        vertical-align: middle;\n",
       "    }\n",
       "\n",
       "    .dataframe tbody tr th {\n",
       "        vertical-align: top;\n",
       "    }\n",
       "\n",
       "    .dataframe thead th {\n",
       "        text-align: right;\n",
       "    }\n",
       "</style>\n",
       "<table border=\"1\" class=\"dataframe\">\n",
       "  <thead>\n",
       "    <tr style=\"text-align: right;\">\n",
       "      <th></th>\n",
       "      <th>o</th>\n",
       "      <th>p</th>\n",
       "      <th>s</th>\n",
       "    </tr>\n",
       "  </thead>\n",
       "  <tbody>\n",
       "    <tr>\n",
       "      <th>0</th>\n",
       "      <td>https://brickschema.org/schema/Brick#Emergency...</td>\n",
       "      <td>http://www.w3.org/1999/02/22-rdf-syntax-ns#type</td>\n",
       "      <td>dch:org/df125f8d_93e4_4a4f_bc87_1c4e332f32b8/s...</td>\n",
       "    </tr>\n",
       "    <tr>\n",
       "      <th>1</th>\n",
       "      <td>https://brickschema.org/schema/Brick#Temperatu...</td>\n",
       "      <td>http://www.w3.org/1999/02/22-rdf-syntax-ns#type</td>\n",
       "      <td>dch:org/df125f8d_93e4_4a4f_bc87_1c4e332f32b8/s...</td>\n",
       "    </tr>\n",
       "    <tr>\n",
       "      <th>2</th>\n",
       "      <td>real</td>\n",
       "      <td>https://brickschema.org/schema/Brick#value</td>\n",
       "      <td>nc485c3168413458db2ae9953a50d5c71b240</td>\n",
       "    </tr>\n",
       "    <tr>\n",
       "      <th>3</th>\n",
       "      <td>dch:org/df125f8d_93e4_4a4f_bc87_1c4e332f32b8/s...</td>\n",
       "      <td>https://brickschema.org/schema/Brick#isPartOf</td>\n",
       "      <td>dch:org/df125f8d_93e4_4a4f_bc87_1c4e332f32b8/s...</td>\n",
       "    </tr>\n",
       "    <tr>\n",
       "      <th>4</th>\n",
       "      <td>dch:org/df125f8d_93e4_4a4f_bc87_1c4e332f32b8/s...</td>\n",
       "      <td>https://brickschema.org/schema/Brick#isPartOf</td>\n",
       "      <td>dch:org/df125f8d_93e4_4a4f_bc87_1c4e332f32b8/s...</td>\n",
       "    </tr>\n",
       "  </tbody>\n",
       "</table>\n",
       "</div>"
      ],
      "text/plain": [
       "                                                   o  \\\n",
       "0  https://brickschema.org/schema/Brick#Emergency...   \n",
       "1  https://brickschema.org/schema/Brick#Temperatu...   \n",
       "2                                               real   \n",
       "3  dch:org/df125f8d_93e4_4a4f_bc87_1c4e332f32b8/s...   \n",
       "4  dch:org/df125f8d_93e4_4a4f_bc87_1c4e332f32b8/s...   \n",
       "\n",
       "                                                 p  \\\n",
       "0  http://www.w3.org/1999/02/22-rdf-syntax-ns#type   \n",
       "1  http://www.w3.org/1999/02/22-rdf-syntax-ns#type   \n",
       "2       https://brickschema.org/schema/Brick#value   \n",
       "3    https://brickschema.org/schema/Brick#isPartOf   \n",
       "4    https://brickschema.org/schema/Brick#isPartOf   \n",
       "\n",
       "                                                   s  \n",
       "0  dch:org/df125f8d_93e4_4a4f_bc87_1c4e332f32b8/s...  \n",
       "1  dch:org/df125f8d_93e4_4a4f_bc87_1c4e332f32b8/s...  \n",
       "2              nc485c3168413458db2ae9953a50d5c71b240  \n",
       "3  dch:org/df125f8d_93e4_4a4f_bc87_1c4e332f32b8/s...  \n",
       "4  dch:org/df125f8d_93e4_4a4f_bc87_1c4e332f32b8/s...  "
      ]
     },
     "execution_count": 33,
     "metadata": {},
     "output_type": "execute_result"
    }
   ],
   "source": [
    "res = db.query(q, return_df=True)\n",
    "res.head()"
   ]
  },
  {
   "cell_type": "markdown",
   "metadata": {},
   "source": [
    "## Query the brick schema:\n",
    "\n",
    "Get the results as RDFLib rows:"
   ]
  },
  {
   "cell_type": "code",
   "execution_count": 34,
   "metadata": {},
   "outputs": [
    {
     "name": "stdout",
     "output_type": "stream",
     "text": [
      "(rdflib.term.URIRef('https://brickschema.org/schema/Brick#Effective_Supply_Air_Temperature_Setpoint'), rdflib.term.URIRef('https://brickschema.org/schema/Brick#hasAssociatedTag'), rdflib.term.URIRef('https://brickschema.org/schema/BrickTag#Point'))\n",
      "(rdflib.term.URIRef('https://brickschema.org/schema/Brick#Time'), rdflib.term.URIRef('http://qudt.org/schema/qudt/applicableUnit'), rdflib.term.URIRef('http://qudt.org/vocab/unit/MegaYR'))\n",
      "(rdflib.term.BNode('n6dac668747d74bdba82111dca533863cb2140'), rdflib.term.URIRef('http://www.w3.org/1999/02/22-rdf-syntax-ns#rest'), rdflib.term.URIRef('http://www.w3.org/1999/02/22-rdf-syntax-ns#nil'))\n",
      "(rdflib.term.URIRef('https://brickschema.org/schema/BrickTag#Matter'), rdflib.term.URIRef('http://www.w3.org/2000/01/rdf-schema#label'), rdflib.term.Literal('Matter'))\n",
      "(rdflib.term.BNode('n6dac668747d74bdba82111dca533863cb65'), rdflib.term.URIRef('http://www.w3.org/1999/02/22-rdf-syntax-ns#type'), rdflib.term.URIRef('http://www.w3.org/2002/07/owl#Restriction'))\n"
     ]
    }
   ],
   "source": [
    "res = db.query(q, graph='schema')\n",
    "for r in res:\n",
    "    print(r)"
   ]
  },
  {
   "cell_type": "markdown",
   "metadata": {},
   "source": [
    "Get the results as a DataFrame:"
   ]
  },
  {
   "cell_type": "code",
   "execution_count": 35,
   "metadata": {},
   "outputs": [
    {
     "data": {
      "text/html": [
       "<div>\n",
       "<style scoped>\n",
       "    .dataframe tbody tr th:only-of-type {\n",
       "        vertical-align: middle;\n",
       "    }\n",
       "\n",
       "    .dataframe tbody tr th {\n",
       "        vertical-align: top;\n",
       "    }\n",
       "\n",
       "    .dataframe thead th {\n",
       "        text-align: right;\n",
       "    }\n",
       "</style>\n",
       "<table border=\"1\" class=\"dataframe\">\n",
       "  <thead>\n",
       "    <tr style=\"text-align: right;\">\n",
       "      <th></th>\n",
       "      <th>o</th>\n",
       "      <th>p</th>\n",
       "      <th>s</th>\n",
       "    </tr>\n",
       "  </thead>\n",
       "  <tbody>\n",
       "    <tr>\n",
       "      <th>0</th>\n",
       "      <td>https://brickschema.org/schema/BrickTag#Point</td>\n",
       "      <td>https://brickschema.org/schema/Brick#hasAssoci...</td>\n",
       "      <td>https://brickschema.org/schema/Brick#Effective...</td>\n",
       "    </tr>\n",
       "    <tr>\n",
       "      <th>1</th>\n",
       "      <td>http://qudt.org/vocab/unit/MegaYR</td>\n",
       "      <td>http://qudt.org/schema/qudt/applicableUnit</td>\n",
       "      <td>https://brickschema.org/schema/Brick#Time</td>\n",
       "    </tr>\n",
       "    <tr>\n",
       "      <th>2</th>\n",
       "      <td>http://www.w3.org/1999/02/22-rdf-syntax-ns#nil</td>\n",
       "      <td>http://www.w3.org/1999/02/22-rdf-syntax-ns#rest</td>\n",
       "      <td>n6dac668747d74bdba82111dca533863cb2140</td>\n",
       "    </tr>\n",
       "    <tr>\n",
       "      <th>3</th>\n",
       "      <td>Matter</td>\n",
       "      <td>http://www.w3.org/2000/01/rdf-schema#label</td>\n",
       "      <td>https://brickschema.org/schema/BrickTag#Matter</td>\n",
       "    </tr>\n",
       "    <tr>\n",
       "      <th>4</th>\n",
       "      <td>http://www.w3.org/2002/07/owl#Restriction</td>\n",
       "      <td>http://www.w3.org/1999/02/22-rdf-syntax-ns#type</td>\n",
       "      <td>n6dac668747d74bdba82111dca533863cb65</td>\n",
       "    </tr>\n",
       "  </tbody>\n",
       "</table>\n",
       "</div>"
      ],
      "text/plain": [
       "                                                o  \\\n",
       "0   https://brickschema.org/schema/BrickTag#Point   \n",
       "1               http://qudt.org/vocab/unit/MegaYR   \n",
       "2  http://www.w3.org/1999/02/22-rdf-syntax-ns#nil   \n",
       "3                                          Matter   \n",
       "4       http://www.w3.org/2002/07/owl#Restriction   \n",
       "\n",
       "                                                   p  \\\n",
       "0  https://brickschema.org/schema/Brick#hasAssoci...   \n",
       "1         http://qudt.org/schema/qudt/applicableUnit   \n",
       "2    http://www.w3.org/1999/02/22-rdf-syntax-ns#rest   \n",
       "3         http://www.w3.org/2000/01/rdf-schema#label   \n",
       "4    http://www.w3.org/1999/02/22-rdf-syntax-ns#type   \n",
       "\n",
       "                                                   s  \n",
       "0  https://brickschema.org/schema/Brick#Effective...  \n",
       "1          https://brickschema.org/schema/Brick#Time  \n",
       "2             n6dac668747d74bdba82111dca533863cb2140  \n",
       "3     https://brickschema.org/schema/BrickTag#Matter  \n",
       "4               n6dac668747d74bdba82111dca533863cb65  "
      ]
     },
     "execution_count": 35,
     "metadata": {},
     "output_type": "execute_result"
    }
   ],
   "source": [
    "res = db.query(q, graph='schema', return_df=True)\n",
    "res.head()"
   ]
  },
  {
   "cell_type": "markdown",
   "metadata": {},
   "source": [
    "## Remove the RDF prefixes from the query results:"
   ]
  },
  {
   "cell_type": "code",
   "execution_count": 36,
   "metadata": {},
   "outputs": [
    {
     "data": {
      "text/html": [
       "<div>\n",
       "<style scoped>\n",
       "    .dataframe tbody tr th:only-of-type {\n",
       "        vertical-align: middle;\n",
       "    }\n",
       "\n",
       "    .dataframe tbody tr th {\n",
       "        vertical-align: top;\n",
       "    }\n",
       "\n",
       "    .dataframe thead th {\n",
       "        text-align: right;\n",
       "    }\n",
       "</style>\n",
       "<table border=\"1\" class=\"dataframe\">\n",
       "  <thead>\n",
       "    <tr style=\"text-align: right;\">\n",
       "      <th></th>\n",
       "      <th>o</th>\n",
       "      <th>p</th>\n",
       "      <th>s</th>\n",
       "    </tr>\n",
       "  </thead>\n",
       "  <tbody>\n",
       "    <tr>\n",
       "      <th>0</th>\n",
       "      <td>Emergency_Alarm</td>\n",
       "      <td>type</td>\n",
       "      <td>d64b9bc0_e6b3_4556_acda_8040d33b7148.c7fec04c_...</td>\n",
       "    </tr>\n",
       "    <tr>\n",
       "      <th>1</th>\n",
       "      <td>Temperature_Parameter</td>\n",
       "      <td>type</td>\n",
       "      <td>d64b9bc0_e6b3_4556_acda_8040d33b7148.c76e3d65_...</td>\n",
       "    </tr>\n",
       "    <tr>\n",
       "      <th>2</th>\n",
       "      <td>real</td>\n",
       "      <td>value</td>\n",
       "      <td>nc485c3168413458db2ae9953a50d5c71b240</td>\n",
       "    </tr>\n",
       "    <tr>\n",
       "      <th>3</th>\n",
       "      <td>d0b621a6_148d_427d_8aef_b073b11184e1</td>\n",
       "      <td>isPartOf</td>\n",
       "      <td>22937c9b_ad32_47c9_b013_1df3a46f0d37</td>\n",
       "    </tr>\n",
       "    <tr>\n",
       "      <th>4</th>\n",
       "      <td>6e0854f9_3888_4867_9176_0693de75f841</td>\n",
       "      <td>isPartOf</td>\n",
       "      <td>3b373634_2461_4b61_8bcb_068c12b7e1a8.6af9698e_...</td>\n",
       "    </tr>\n",
       "  </tbody>\n",
       "</table>\n",
       "</div>"
      ],
      "text/plain": [
       "                                      o         p  \\\n",
       "0                       Emergency_Alarm      type   \n",
       "1                 Temperature_Parameter      type   \n",
       "2                                  real     value   \n",
       "3  d0b621a6_148d_427d_8aef_b073b11184e1  isPartOf   \n",
       "4  6e0854f9_3888_4867_9176_0693de75f841  isPartOf   \n",
       "\n",
       "                                                   s  \n",
       "0  d64b9bc0_e6b3_4556_acda_8040d33b7148.c7fec04c_...  \n",
       "1  d64b9bc0_e6b3_4556_acda_8040d33b7148.c76e3d65_...  \n",
       "2              nc485c3168413458db2ae9953a50d5c71b240  \n",
       "3               22937c9b_ad32_47c9_b013_1df3a46f0d37  \n",
       "4  3b373634_2461_4b61_8bcb_068c12b7e1a8.6af9698e_...  "
      ]
     },
     "execution_count": 36,
     "metadata": {},
     "output_type": "execute_result"
    }
   ],
   "source": [
    "res = db.query(q, return_df=True, defrag=True)\n",
    "res.head()"
   ]
  },
  {
   "cell_type": "markdown",
   "metadata": {},
   "source": [
    "## Get the building model knowledge graph itself:"
   ]
  },
  {
   "cell_type": "code",
   "execution_count": 37,
   "metadata": {},
   "outputs": [
    {
     "name": "stdout",
     "output_type": "stream",
     "text": [
      "dch:org/df125f8d_93e4_4a4f_bc87_1c4e332f32b8/site/c495fbd8_7a71_44b4_ad2a_014ac2df7ce9/building/95d1f7f3_33c6_4bd8_a82c_99c550d83bb8#d64b9bc0_e6b3_4556_acda_8040d33b7148.c7fec04c_e8ac_4a10_b940_ebd908f9d284 http://www.w3.org/1999/02/22-rdf-syntax-ns#type https://brickschema.org/schema/Brick#Emergency_Alarm\n",
      "dch:org/df125f8d_93e4_4a4f_bc87_1c4e332f32b8/site/c495fbd8_7a71_44b4_ad2a_014ac2df7ce9/building/95d1f7f3_33c6_4bd8_a82c_99c550d83bb8#d64b9bc0_e6b3_4556_acda_8040d33b7148.c76e3d65_8b3a_4b18_8f73_ab3608a678a9 http://www.w3.org/1999/02/22-rdf-syntax-ns#type https://brickschema.org/schema/Brick#Temperature_Parameter\n",
      "nc485c3168413458db2ae9953a50d5c71b240 https://brickschema.org/schema/Brick#value real\n",
      "dch:org/df125f8d_93e4_4a4f_bc87_1c4e332f32b8/site/c495fbd8_7a71_44b4_ad2a_014ac2df7ce9/building/95d1f7f3_33c6_4bd8_a82c_99c550d83bb8#22937c9b_ad32_47c9_b013_1df3a46f0d37 https://brickschema.org/schema/Brick#isPartOf dch:org/df125f8d_93e4_4a4f_bc87_1c4e332f32b8/site/c495fbd8_7a71_44b4_ad2a_014ac2df7ce9/building/95d1f7f3_33c6_4bd8_a82c_99c550d83bb8#d0b621a6_148d_427d_8aef_b073b11184e1\n",
      "dch:org/df125f8d_93e4_4a4f_bc87_1c4e332f32b8/site/c495fbd8_7a71_44b4_ad2a_014ac2df7ce9/building/95d1f7f3_33c6_4bd8_a82c_99c550d83bb8#3b373634_2461_4b61_8bcb_068c12b7e1a8.6af9698e_b72b_48d7_b864_9a0d518ec3b1 https://brickschema.org/schema/Brick#isPartOf dch:org/df125f8d_93e4_4a4f_bc87_1c4e332f32b8/site/c495fbd8_7a71_44b4_ad2a_014ac2df7ce9/building/95d1f7f3_33c6_4bd8_a82c_99c550d83bb8#6e0854f9_3888_4867_9176_0693de75f841\n"
     ]
    }
   ],
   "source": [
    "g = db.model\n",
    "i = 0\n",
    "for s, p, o in g:\n",
    "    print(s, p, o)\n",
    "    i += 1\n",
    "    if i == 5:\n",
    "        break"
   ]
  },
  {
   "cell_type": "markdown",
   "metadata": {},
   "source": [
    "## Get the brick schema knowledge graph itself:"
   ]
  },
  {
   "cell_type": "code",
   "execution_count": 38,
   "metadata": {},
   "outputs": [
    {
     "name": "stdout",
     "output_type": "stream",
     "text": [
      "https://brickschema.org/schema/Brick#Effective_Supply_Air_Temperature_Setpoint https://brickschema.org/schema/Brick#hasAssociatedTag https://brickschema.org/schema/BrickTag#Point\n",
      "https://brickschema.org/schema/Brick#Time http://qudt.org/schema/qudt/applicableUnit http://qudt.org/vocab/unit/MegaYR\n",
      "n6dac668747d74bdba82111dca533863cb2140 http://www.w3.org/1999/02/22-rdf-syntax-ns#rest http://www.w3.org/1999/02/22-rdf-syntax-ns#nil\n",
      "https://brickschema.org/schema/BrickTag#Matter http://www.w3.org/2000/01/rdf-schema#label Matter\n",
      "n6dac668747d74bdba82111dca533863cb65 http://www.w3.org/1999/02/22-rdf-syntax-ns#type http://www.w3.org/2002/07/owl#Restriction\n"
     ]
    }
   ],
   "source": [
    "g = db.schema\n",
    "i = 0\n",
    "for s, p, o in g:\n",
    "    print(s, p, o)\n",
    "    i += 1\n",
    "    if i == 5:\n",
    "        break"
   ]
  },
  {
   "cell_type": "markdown",
   "metadata": {},
   "source": [
    "## Get the time series data itself:"
   ]
  },
  {
   "cell_type": "code",
   "execution_count": 39,
   "metadata": {},
   "outputs": [
    {
     "name": "stdout",
     "output_type": "stream",
     "text": [
      "6f502ba0_77fb_43db_b6dc_48e68d5c822b: 51193 data points\n",
      "3c9ca09b_8952_45da_a066_bcb645cbbc68: 51194 data points\n",
      "d60c44c3_62fc_409a_a751_8b3ddeb9f197: 51194 data points\n",
      "eb0d5916_d942_4e2d_8129_60b83d984fdd: 51200 data points\n",
      "78078042_e16e_425b_9ec8_605aa149274e: 51188 data points\n"
     ]
    }
   ],
   "source": [
    "data = db.data\n",
    "i = 0\n",
    "for k, v in data.items():\n",
    "    print(f'{k}: {len(v)} data points')\n",
    "    i += 1\n",
    "    if i == 5:\n",
    "        break"
   ]
  },
  {
   "cell_type": "markdown",
   "metadata": {},
   "source": [
    "## Get the mapper itself:"
   ]
  },
  {
   "cell_type": "code",
   "execution_count": 40,
   "metadata": {},
   "outputs": [
    {
     "data": {
      "text/html": [
       "<div>\n",
       "<style scoped>\n",
       "    .dataframe tbody tr th:only-of-type {\n",
       "        vertical-align: middle;\n",
       "    }\n",
       "\n",
       "    .dataframe tbody tr th {\n",
       "        vertical-align: top;\n",
       "    }\n",
       "\n",
       "    .dataframe thead th {\n",
       "        text-align: right;\n",
       "    }\n",
       "</style>\n",
       "<table border=\"1\" class=\"dataframe\">\n",
       "  <thead>\n",
       "    <tr style=\"text-align: right;\">\n",
       "      <th></th>\n",
       "      <th>Building</th>\n",
       "      <th>StreamID</th>\n",
       "      <th>Filename</th>\n",
       "      <th>strBrickLabel</th>\n",
       "    </tr>\n",
       "  </thead>\n",
       "  <tbody>\n",
       "    <tr>\n",
       "      <th>8349</th>\n",
       "      <td>B</td>\n",
       "      <td>3dfa2bab_f8f2_485b_80e9_5afdeeac9dc4</td>\n",
       "      <td>trainAll_7989.pkl</td>\n",
       "      <td>Temperature_Setpoint</td>\n",
       "    </tr>\n",
       "    <tr>\n",
       "      <th>8350</th>\n",
       "      <td>B</td>\n",
       "      <td>77ed01a5_11c3_4607_9bf8_342b947c88de</td>\n",
       "      <td>trainAll_7990.pkl</td>\n",
       "      <td>System_Enable_Command</td>\n",
       "    </tr>\n",
       "    <tr>\n",
       "      <th>8351</th>\n",
       "      <td>B</td>\n",
       "      <td>16b768f0_5fb1_4db3_b506_d811b7c67738</td>\n",
       "      <td>trainAll_7991.pkl</td>\n",
       "      <td>Proportional_Gain_Parameter</td>\n",
       "    </tr>\n",
       "    <tr>\n",
       "      <th>8353</th>\n",
       "      <td>B</td>\n",
       "      <td>eb0d5916_d942_4e2d_8129_60b83d984fdd</td>\n",
       "      <td>trainAll_7992.pkl</td>\n",
       "      <td>Max_Temperature_Setpoint_Limit</td>\n",
       "    </tr>\n",
       "    <tr>\n",
       "      <th>8354</th>\n",
       "      <td>B</td>\n",
       "      <td>82f75178_cc15_4db7_b06c_48432305bd58</td>\n",
       "      <td>trainAll_7993.pkl</td>\n",
       "      <td>Max_Temperature_Setpoint_Limit</td>\n",
       "    </tr>\n",
       "  </tbody>\n",
       "</table>\n",
       "</div>"
      ],
      "text/plain": [
       "     Building                              StreamID           Filename  \\\n",
       "8349        B  3dfa2bab_f8f2_485b_80e9_5afdeeac9dc4  trainAll_7989.pkl   \n",
       "8350        B  77ed01a5_11c3_4607_9bf8_342b947c88de  trainAll_7990.pkl   \n",
       "8351        B  16b768f0_5fb1_4db3_b506_d811b7c67738  trainAll_7991.pkl   \n",
       "8353        B  eb0d5916_d942_4e2d_8129_60b83d984fdd  trainAll_7992.pkl   \n",
       "8354        B  82f75178_cc15_4db7_b06c_48432305bd58  trainAll_7993.pkl   \n",
       "\n",
       "                       strBrickLabel  \n",
       "8349            Temperature_Setpoint  \n",
       "8350           System_Enable_Command  \n",
       "8351     Proportional_Gain_Parameter  \n",
       "8353  Max_Temperature_Setpoint_Limit  \n",
       "8354  Max_Temperature_Setpoint_Limit  "
      ]
     },
     "execution_count": 40,
     "metadata": {},
     "output_type": "execute_result"
    }
   ],
   "source": [
    "mapper = db.mapper\n",
    "mapper.head()"
   ]
  }
 ],
 "metadata": {
  "kernelspec": {
   "display_name": ".venv",
   "language": "python",
   "name": "python3"
  },
  "language_info": {
   "codemirror_mode": {
    "name": "ipython",
    "version": 3
   },
   "file_extension": ".py",
   "mimetype": "text/x-python",
   "name": "python",
   "nbconvert_exporter": "python",
   "pygments_lexer": "ipython3",
   "version": "3.12.2"
  }
 },
 "nbformat": 4,
 "nbformat_minor": 2
}
