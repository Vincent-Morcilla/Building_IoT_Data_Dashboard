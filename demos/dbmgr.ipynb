{
 "cells": [
  {
   "cell_type": "markdown",
   "metadata": {},
   "source": [
    "# Paths to our dataset files"
   ]
  },
  {
   "cell_type": "code",
   "execution_count": 1,
   "metadata": {},
   "outputs": [],
   "source": [
    "data = '../datasets/bts_site_b_train/train.zip'\n",
    "mapper = '../datasets/bts_site_b_train/mapper_TrainOnly.csv'\n",
    "model = '../datasets/bts_site_b_train/Site_B.ttl'\n",
    "schema = '../datasets/bts_site_b_train/Brick_v1.2.1.ttl'"
   ]
  },
  {
   "cell_type": "markdown",
   "metadata": {},
   "source": [
    "# Load the Dataset"
   ]
  },
  {
   "cell_type": "markdown",
   "metadata": {},
   "source": [
    "Hack for demo purposes to add the `src` directory to the path:"
   ]
  },
  {
   "cell_type": "code",
   "execution_count": 2,
   "metadata": {},
   "outputs": [],
   "source": [
    "import sys\n",
    "sys.path.append(\"../src\")"
   ]
  },
  {
   "cell_type": "markdown",
   "metadata": {},
   "source": [
    "Import and instantiate the manager:"
   ]
  },
  {
   "cell_type": "code",
   "execution_count": 3,
   "metadata": {},
   "outputs": [],
   "source": [
    "from dbmgr import DBManager\n",
    "db = DBManager(data, mapper, model, schema)"
   ]
  },
  {
   "cell_type": "markdown",
   "metadata": {},
   "source": [
    "This `db` object is what is passed to each analytics module.\n",
    "\n",
    "## Number of streams in the dataset"
   ]
  },
  {
   "cell_type": "code",
   "execution_count": 4,
   "metadata": {},
   "outputs": [
    {
     "data": {
      "text/plain": [
       "668"
      ]
     },
     "execution_count": 4,
     "metadata": {},
     "output_type": "execute_result"
    }
   ],
   "source": [
    "len(db)"
   ]
  },
  {
   "cell_type": "markdown",
   "metadata": {},
   "source": [
    "## Iterating over the streams in the dataset"
   ]
  },
  {
   "cell_type": "code",
   "execution_count": 5,
   "metadata": {},
   "outputs": [
    {
     "name": "stdout",
     "output_type": "stream",
     "text": [
      "6f502ba0_77fb_43db_b6dc_48e68d5c822b\n",
      "3c9ca09b_8952_45da_a066_bcb645cbbc68\n",
      "d60c44c3_62fc_409a_a751_8b3ddeb9f197\n",
      "eb0d5916_d942_4e2d_8129_60b83d984fdd\n",
      "78078042_e16e_425b_9ec8_605aa149274e\n"
     ]
    }
   ],
   "source": [
    "i = 0\n",
    "for stream_id in db:\n",
    "    print(stream_id)\n",
    "    i += 1\n",
    "    if i == 5:\n",
    "        break"
   ]
  },
  {
   "cell_type": "markdown",
   "metadata": {},
   "source": [
    "## Check if a stream ID is in the dataset:\n",
    "\n",
    "Not in the dataset:"
   ]
  },
  {
   "cell_type": "code",
   "execution_count": 6,
   "metadata": {},
   "outputs": [
    {
     "data": {
      "text/plain": [
       "False"
      ]
     },
     "execution_count": 6,
     "metadata": {},
     "output_type": "execute_result"
    }
   ],
   "source": [
    "'tim' in db"
   ]
  },
  {
   "cell_type": "markdown",
   "metadata": {},
   "source": [
    "In the dataset:"
   ]
  },
  {
   "cell_type": "code",
   "execution_count": 7,
   "metadata": {},
   "outputs": [
    {
     "data": {
      "text/plain": [
       "True"
      ]
     },
     "execution_count": 7,
     "metadata": {},
     "output_type": "execute_result"
    }
   ],
   "source": [
    "'835a86d6_c235_4caf_8071_31b9bf24960b' in db"
   ]
  },
  {
   "cell_type": "markdown",
   "metadata": {},
   "source": [
    "## Get a stream by its ID:\n",
    "\n",
    "By indexing into the manager:"
   ]
  },
  {
   "cell_type": "code",
   "execution_count": 8,
   "metadata": {},
   "outputs": [
    {
     "data": {
      "text/html": [
       "<div>\n",
       "<style scoped>\n",
       "    .dataframe tbody tr th:only-of-type {\n",
       "        vertical-align: middle;\n",
       "    }\n",
       "\n",
       "    .dataframe tbody tr th {\n",
       "        vertical-align: top;\n",
       "    }\n",
       "\n",
       "    .dataframe thead th {\n",
       "        text-align: right;\n",
       "    }\n",
       "</style>\n",
       "<table border=\"1\" class=\"dataframe\">\n",
       "  <thead>\n",
       "    <tr style=\"text-align: right;\">\n",
       "      <th></th>\n",
       "      <th>time</th>\n",
       "      <th>value</th>\n",
       "      <th>brick_class</th>\n",
       "    </tr>\n",
       "  </thead>\n",
       "  <tbody>\n",
       "    <tr>\n",
       "      <th>0</th>\n",
       "      <td>2021-01-01 00:03:09.662</td>\n",
       "      <td>0.0</td>\n",
       "      <td>Enable_Status</td>\n",
       "    </tr>\n",
       "    <tr>\n",
       "      <th>1</th>\n",
       "      <td>2021-01-01 00:13:39.017</td>\n",
       "      <td>0.0</td>\n",
       "      <td>Enable_Status</td>\n",
       "    </tr>\n",
       "    <tr>\n",
       "      <th>2</th>\n",
       "      <td>2021-01-01 00:23:10.073</td>\n",
       "      <td>0.0</td>\n",
       "      <td>Enable_Status</td>\n",
       "    </tr>\n",
       "    <tr>\n",
       "      <th>3</th>\n",
       "      <td>2021-01-01 00:33:09.637</td>\n",
       "      <td>0.0</td>\n",
       "      <td>Enable_Status</td>\n",
       "    </tr>\n",
       "    <tr>\n",
       "      <th>4</th>\n",
       "      <td>2021-01-01 00:43:09.639</td>\n",
       "      <td>0.0</td>\n",
       "      <td>Enable_Status</td>\n",
       "    </tr>\n",
       "  </tbody>\n",
       "</table>\n",
       "</div>"
      ],
      "text/plain": [
       "                     time  value    brick_class\n",
       "0 2021-01-01 00:03:09.662    0.0  Enable_Status\n",
       "1 2021-01-01 00:13:39.017    0.0  Enable_Status\n",
       "2 2021-01-01 00:23:10.073    0.0  Enable_Status\n",
       "3 2021-01-01 00:33:09.637    0.0  Enable_Status\n",
       "4 2021-01-01 00:43:09.639    0.0  Enable_Status"
      ]
     },
     "execution_count": 8,
     "metadata": {},
     "output_type": "execute_result"
    }
   ],
   "source": [
    "db['835a86d6_c235_4caf_8071_31b9bf24960b'].head()"
   ]
  },
  {
   "cell_type": "markdown",
   "metadata": {},
   "source": [
    "By calling the getter:"
   ]
  },
  {
   "cell_type": "code",
   "execution_count": 9,
   "metadata": {},
   "outputs": [
    {
     "data": {
      "text/html": [
       "<div>\n",
       "<style scoped>\n",
       "    .dataframe tbody tr th:only-of-type {\n",
       "        vertical-align: middle;\n",
       "    }\n",
       "\n",
       "    .dataframe tbody tr th {\n",
       "        vertical-align: top;\n",
       "    }\n",
       "\n",
       "    .dataframe thead th {\n",
       "        text-align: right;\n",
       "    }\n",
       "</style>\n",
       "<table border=\"1\" class=\"dataframe\">\n",
       "  <thead>\n",
       "    <tr style=\"text-align: right;\">\n",
       "      <th></th>\n",
       "      <th>time</th>\n",
       "      <th>value</th>\n",
       "      <th>brick_class</th>\n",
       "    </tr>\n",
       "  </thead>\n",
       "  <tbody>\n",
       "    <tr>\n",
       "      <th>0</th>\n",
       "      <td>2021-01-01 00:03:09.662</td>\n",
       "      <td>0.0</td>\n",
       "      <td>Enable_Status</td>\n",
       "    </tr>\n",
       "    <tr>\n",
       "      <th>1</th>\n",
       "      <td>2021-01-01 00:13:39.017</td>\n",
       "      <td>0.0</td>\n",
       "      <td>Enable_Status</td>\n",
       "    </tr>\n",
       "    <tr>\n",
       "      <th>2</th>\n",
       "      <td>2021-01-01 00:23:10.073</td>\n",
       "      <td>0.0</td>\n",
       "      <td>Enable_Status</td>\n",
       "    </tr>\n",
       "    <tr>\n",
       "      <th>3</th>\n",
       "      <td>2021-01-01 00:33:09.637</td>\n",
       "      <td>0.0</td>\n",
       "      <td>Enable_Status</td>\n",
       "    </tr>\n",
       "    <tr>\n",
       "      <th>4</th>\n",
       "      <td>2021-01-01 00:43:09.639</td>\n",
       "      <td>0.0</td>\n",
       "      <td>Enable_Status</td>\n",
       "    </tr>\n",
       "  </tbody>\n",
       "</table>\n",
       "</div>"
      ],
      "text/plain": [
       "                     time  value    brick_class\n",
       "0 2021-01-01 00:03:09.662    0.0  Enable_Status\n",
       "1 2021-01-01 00:13:39.017    0.0  Enable_Status\n",
       "2 2021-01-01 00:23:10.073    0.0  Enable_Status\n",
       "3 2021-01-01 00:33:09.637    0.0  Enable_Status\n",
       "4 2021-01-01 00:43:09.639    0.0  Enable_Status"
      ]
     },
     "execution_count": 9,
     "metadata": {},
     "output_type": "execute_result"
    }
   ],
   "source": [
    "db.get_stream('835a86d6_c235_4caf_8071_31b9bf24960b').head()"
   ]
  },
  {
   "cell_type": "markdown",
   "metadata": {},
   "source": [
    "## Set a stream by its ID:"
   ]
  },
  {
   "cell_type": "code",
   "execution_count": 10,
   "metadata": {},
   "outputs": [
    {
     "data": {
      "text/html": [
       "<div>\n",
       "<style scoped>\n",
       "    .dataframe tbody tr th:only-of-type {\n",
       "        vertical-align: middle;\n",
       "    }\n",
       "\n",
       "    .dataframe tbody tr th {\n",
       "        vertical-align: top;\n",
       "    }\n",
       "\n",
       "    .dataframe thead th {\n",
       "        text-align: right;\n",
       "    }\n",
       "</style>\n",
       "<table border=\"1\" class=\"dataframe\">\n",
       "  <thead>\n",
       "    <tr style=\"text-align: right;\">\n",
       "      <th></th>\n",
       "      <th>time</th>\n",
       "      <th>value</th>\n",
       "      <th>brick_class</th>\n",
       "    </tr>\n",
       "  </thead>\n",
       "  <tbody>\n",
       "    <tr>\n",
       "      <th>0</th>\n",
       "      <td>2017-03-22 15:16:45</td>\n",
       "      <td>22.0</td>\n",
       "      <td>Fake_Class</td>\n",
       "    </tr>\n",
       "    <tr>\n",
       "      <th>1</th>\n",
       "      <td>2017-03-22 15:17:45</td>\n",
       "      <td>23.0</td>\n",
       "      <td>Fake_Class</td>\n",
       "    </tr>\n",
       "    <tr>\n",
       "      <th>2</th>\n",
       "      <td>2017-03-22 15:18:45</td>\n",
       "      <td>24.0</td>\n",
       "      <td>Fake_Class</td>\n",
       "    </tr>\n",
       "    <tr>\n",
       "      <th>3</th>\n",
       "      <td>2017-03-22 15:19:45</td>\n",
       "      <td>25.0</td>\n",
       "      <td>Fake_Class</td>\n",
       "    </tr>\n",
       "  </tbody>\n",
       "</table>\n",
       "</div>"
      ],
      "text/plain": [
       "                 time  value brick_class\n",
       "0 2017-03-22 15:16:45   22.0  Fake_Class\n",
       "1 2017-03-22 15:17:45   23.0  Fake_Class\n",
       "2 2017-03-22 15:18:45   24.0  Fake_Class\n",
       "3 2017-03-22 15:19:45   25.0  Fake_Class"
      ]
     },
     "execution_count": 10,
     "metadata": {},
     "output_type": "execute_result"
    }
   ],
   "source": [
    "import pandas as pd\n",
    "\n",
    "db['835a86d6_c235_4caf_8071_31b9bf24960b'] = pd.DataFrame({\n",
    "            \"time\": [pd.Timestamp('2017-03-22 15:16:45'), pd.Timestamp('2017-03-22 15:17:45'), pd.Timestamp('2017-03-22 15:18:45'), pd.Timestamp('2017-03-22 15:19:45') ],\n",
    "            \"value\": [22.0, 23.0, 24.0, 25.0],\n",
    "            \"brick_class\": [\"Fake_Class\", \"Fake_Class\", \"Fake_Class\", \"Fake_Class\"],\n",
    "        })\n",
    "\n",
    "db['835a86d6_c235_4caf_8071_31b9bf24960b'].head()"
   ]
  },
  {
   "cell_type": "markdown",
   "metadata": {},
   "source": [
    "## Get multiple streams by their IDs:"
   ]
  },
  {
   "cell_type": "code",
   "execution_count": 11,
   "metadata": {},
   "outputs": [
    {
     "name": "stdout",
     "output_type": "stream",
     "text": [
      "========= 22543d51_3c38_46d3_98fe_a77838976df9 =========\n",
      "                     time  value            brick_class\n",
      "0 2021-01-01 00:03:16.758    1.0  Operating_Mode_Status\n",
      "1 2021-01-01 00:13:45.383    1.0  Operating_Mode_Status\n",
      "2 2021-01-01 00:23:16.660    1.0  Operating_Mode_Status\n",
      "3 2021-01-01 00:33:16.717    1.0  Operating_Mode_Status\n",
      "4 2021-01-01 00:43:16.769    1.0  Operating_Mode_Status\n",
      "\n",
      "========= 3010a24a_2deb_43c8_9db4_cfc94c5faa5c =========\n",
      "                     time  value              brick_class\n",
      "0 2021-07-13 01:26:18.083 -0.107  Electrical_Power_Sensor\n",
      "1 2021-07-13 01:31:17.035 -0.042  Electrical_Power_Sensor\n",
      "2 2021-07-13 01:36:13.143  0.054  Electrical_Power_Sensor\n",
      "3 2021-07-13 01:50:12.735 -0.016  Electrical_Power_Sensor\n",
      "4 2021-07-13 01:55:12.150 -0.164  Electrical_Power_Sensor\n",
      "\n",
      "========= 405896a1_c195_422d_a0aa_18d2eca6a61d =========\n",
      "                     time  value                   brick_class\n",
      "0 2021-01-01 00:03:16.153   23.5  Cooling_Temperature_Setpoint\n",
      "1 2021-01-01 00:13:44.730   23.5  Cooling_Temperature_Setpoint\n",
      "2 2021-01-01 00:23:16.055   23.5  Cooling_Temperature_Setpoint\n",
      "3 2021-01-01 00:33:16.093   23.5  Cooling_Temperature_Setpoint\n",
      "4 2021-01-01 00:43:16.129   23.5  Cooling_Temperature_Setpoint\n",
      "\n"
     ]
    }
   ],
   "source": [
    "stream_ids = [\n",
    "    '22543d51_3c38_46d3_98fe_a77838976df9',\n",
    "    '3010a24a_2deb_43c8_9db4_cfc94c5faa5c',\n",
    "    '405896a1_c195_422d_a0aa_18d2eca6a61d',\n",
    "]\n",
    "streams = db.get_streams(stream_ids)\n",
    "for stream_id, stream in streams.items():\n",
    "    print(f'========= {stream_id} =========')\n",
    "    print(stream.head())\n",
    "    print()"
   ]
  },
  {
   "cell_type": "markdown",
   "metadata": {},
   "source": [
    "## Query the building model:\n",
    "\n",
    "Some arbitrary sparql query:"
   ]
  },
  {
   "cell_type": "code",
   "execution_count": 12,
   "metadata": {},
   "outputs": [],
   "source": [
    "q = \"\"\"\n",
    "SELECT ?s ?p ?o WHERE {\n",
    "    ?s ?p ?o\n",
    "} LIMIT 5\n",
    "\"\"\""
   ]
  },
  {
   "cell_type": "markdown",
   "metadata": {},
   "source": [
    "Get the results as RDFLib rows:"
   ]
  },
  {
   "cell_type": "code",
   "execution_count": 13,
   "metadata": {},
   "outputs": [
    {
     "name": "stdout",
     "output_type": "stream",
     "text": [
      "(rdflib.term.URIRef('dch:org/df125f8d_93e4_4a4f_bc87_1c4e332f32b8/site/c495fbd8_7a71_44b4_ad2a_014ac2df7ce9/building/95d1f7f3_33c6_4bd8_a82c_99c550d83bb8#da5873de_e112_4f9b_9e0f_149bd1221894.ef1a1240_07d1_4572_b3e5_6591c31372db'), rdflib.term.URIRef('http://senaps.io/schema/1.0/senaps#stream_id'), rdflib.term.Literal('9f6e47c8_ec19_402e_b27b_4551655ec984'))\n",
      "(rdflib.term.URIRef('dch:org/df125f8d_93e4_4a4f_bc87_1c4e332f32b8/site/c495fbd8_7a71_44b4_ad2a_014ac2df7ce9/building/95d1f7f3_33c6_4bd8_a82c_99c550d83bb8#c10f79c9_744d_40a5_a272_7cde7ca1f5a6.4b524f12_0c6f_4abd_a677_51db619f635f'), rdflib.term.URIRef('http://www.w3.org/1999/02/22-rdf-syntax-ns#type'), rdflib.term.URIRef('https://brickschema.org/schema/Brick#Average_Zone_Air_Temperature_Sensor'))\n",
      "(rdflib.term.BNode('n3e552ab4ff564ed192ed88e16624a27ab298'), rdflib.term.URIRef('https://brickschema.org/schema/Brick#value'), rdflib.term.Literal('ABC'))\n",
      "(rdflib.term.URIRef('dch:org/df125f8d_93e4_4a4f_bc87_1c4e332f32b8/site/c495fbd8_7a71_44b4_ad2a_014ac2df7ce9/building/95d1f7f3_33c6_4bd8_a82c_99c550d83bb8#8dbdff35_af3a_4c69_8963_53bdcb33c775.5a8bbc3a_d142_48cd_8c31_a76c56d4cc6f'), rdflib.term.URIRef('https://brickschema.org/schema/Brick#isPointOf'), rdflib.term.URIRef('dch:org/df125f8d_93e4_4a4f_bc87_1c4e332f32b8/site/c495fbd8_7a71_44b4_ad2a_014ac2df7ce9/building/95d1f7f3_33c6_4bd8_a82c_99c550d83bb8#8dbdff35_af3a_4c69_8963_53bdcb33c775'))\n",
      "(rdflib.term.URIRef('dch:org/df125f8d_93e4_4a4f_bc87_1c4e332f32b8/site/c495fbd8_7a71_44b4_ad2a_014ac2df7ce9/building/95d1f7f3_33c6_4bd8_a82c_99c550d83bb8#76705912_de37_4fcb_b1bc_f32d9c6b032f'), rdflib.term.URIRef('https://brickschema.org/schema/Brick#isPartOf'), rdflib.term.URIRef('dch:org/df125f8d_93e4_4a4f_bc87_1c4e332f32b8/site/c495fbd8_7a71_44b4_ad2a_014ac2df7ce9/building/95d1f7f3_33c6_4bd8_a82c_99c550d83bb8#ebb4f301_f353_446c_9b92_19f131e5181d'))\n"
     ]
    }
   ],
   "source": [
    "res = db.query(q)\n",
    "for r in res:\n",
    "    print(r)"
   ]
  },
  {
   "cell_type": "markdown",
   "metadata": {},
   "source": [
    "Get the results as a DataFrame:"
   ]
  },
  {
   "cell_type": "code",
   "execution_count": 14,
   "metadata": {},
   "outputs": [
    {
     "data": {
      "text/html": [
       "<div>\n",
       "<style scoped>\n",
       "    .dataframe tbody tr th:only-of-type {\n",
       "        vertical-align: middle;\n",
       "    }\n",
       "\n",
       "    .dataframe tbody tr th {\n",
       "        vertical-align: top;\n",
       "    }\n",
       "\n",
       "    .dataframe thead th {\n",
       "        text-align: right;\n",
       "    }\n",
       "</style>\n",
       "<table border=\"1\" class=\"dataframe\">\n",
       "  <thead>\n",
       "    <tr style=\"text-align: right;\">\n",
       "      <th></th>\n",
       "      <th>o</th>\n",
       "      <th>p</th>\n",
       "      <th>s</th>\n",
       "    </tr>\n",
       "  </thead>\n",
       "  <tbody>\n",
       "    <tr>\n",
       "      <th>0</th>\n",
       "      <td>9f6e47c8_ec19_402e_b27b_4551655ec984</td>\n",
       "      <td>http://senaps.io/schema/1.0/senaps#stream_id</td>\n",
       "      <td>dch:org/df125f8d_93e4_4a4f_bc87_1c4e332f32b8/s...</td>\n",
       "    </tr>\n",
       "    <tr>\n",
       "      <th>1</th>\n",
       "      <td>https://brickschema.org/schema/Brick#Average_Z...</td>\n",
       "      <td>http://www.w3.org/1999/02/22-rdf-syntax-ns#type</td>\n",
       "      <td>dch:org/df125f8d_93e4_4a4f_bc87_1c4e332f32b8/s...</td>\n",
       "    </tr>\n",
       "    <tr>\n",
       "      <th>2</th>\n",
       "      <td>ABC</td>\n",
       "      <td>https://brickschema.org/schema/Brick#value</td>\n",
       "      <td>n3e552ab4ff564ed192ed88e16624a27ab298</td>\n",
       "    </tr>\n",
       "    <tr>\n",
       "      <th>3</th>\n",
       "      <td>dch:org/df125f8d_93e4_4a4f_bc87_1c4e332f32b8/s...</td>\n",
       "      <td>https://brickschema.org/schema/Brick#isPointOf</td>\n",
       "      <td>dch:org/df125f8d_93e4_4a4f_bc87_1c4e332f32b8/s...</td>\n",
       "    </tr>\n",
       "    <tr>\n",
       "      <th>4</th>\n",
       "      <td>dch:org/df125f8d_93e4_4a4f_bc87_1c4e332f32b8/s...</td>\n",
       "      <td>https://brickschema.org/schema/Brick#isPartOf</td>\n",
       "      <td>dch:org/df125f8d_93e4_4a4f_bc87_1c4e332f32b8/s...</td>\n",
       "    </tr>\n",
       "  </tbody>\n",
       "</table>\n",
       "</div>"
      ],
      "text/plain": [
       "                                                   o  \\\n",
       "0               9f6e47c8_ec19_402e_b27b_4551655ec984   \n",
       "1  https://brickschema.org/schema/Brick#Average_Z...   \n",
       "2                                                ABC   \n",
       "3  dch:org/df125f8d_93e4_4a4f_bc87_1c4e332f32b8/s...   \n",
       "4  dch:org/df125f8d_93e4_4a4f_bc87_1c4e332f32b8/s...   \n",
       "\n",
       "                                                 p  \\\n",
       "0     http://senaps.io/schema/1.0/senaps#stream_id   \n",
       "1  http://www.w3.org/1999/02/22-rdf-syntax-ns#type   \n",
       "2       https://brickschema.org/schema/Brick#value   \n",
       "3   https://brickschema.org/schema/Brick#isPointOf   \n",
       "4    https://brickschema.org/schema/Brick#isPartOf   \n",
       "\n",
       "                                                   s  \n",
       "0  dch:org/df125f8d_93e4_4a4f_bc87_1c4e332f32b8/s...  \n",
       "1  dch:org/df125f8d_93e4_4a4f_bc87_1c4e332f32b8/s...  \n",
       "2              n3e552ab4ff564ed192ed88e16624a27ab298  \n",
       "3  dch:org/df125f8d_93e4_4a4f_bc87_1c4e332f32b8/s...  \n",
       "4  dch:org/df125f8d_93e4_4a4f_bc87_1c4e332f32b8/s...  "
      ]
     },
     "execution_count": 14,
     "metadata": {},
     "output_type": "execute_result"
    }
   ],
   "source": [
    "res = db.query(q, return_df=True)\n",
    "res.head()"
   ]
  },
  {
   "cell_type": "markdown",
   "metadata": {},
   "source": [
    "## Query the brick schema:\n",
    "\n",
    "Get the results as RDFLib rows:"
   ]
  },
  {
   "cell_type": "code",
   "execution_count": 15,
   "metadata": {},
   "outputs": [
    {
     "name": "stdout",
     "output_type": "stream",
     "text": [
      "(rdflib.term.BNode('nce7879a9aa914fa8b69946c72bf6e1c5b2234'), rdflib.term.URIRef('http://www.w3.org/1999/02/22-rdf-syntax-ns#rest'), rdflib.term.URIRef('http://www.w3.org/1999/02/22-rdf-syntax-ns#nil'))\n",
      "(rdflib.term.BNode('nce7879a9aa914fa8b69946c72bf6e1c5b5698'), rdflib.term.URIRef('http://www.w3.org/2002/07/owl#intersectionOf'), rdflib.term.BNode('nce7879a9aa914fa8b69946c72bf6e1c5b5699'))\n",
      "(rdflib.term.URIRef('https://brickschema.org/schema/BrickTag#Evaporative'), rdflib.term.URIRef('http://www.w3.org/1999/02/22-rdf-syntax-ns#type'), rdflib.term.URIRef('https://brickschema.org/schema/Brick#Tag'))\n",
      "(rdflib.term.BNode('nce7879a9aa914fa8b69946c72bf6e1c5b7591'), rdflib.term.URIRef('http://www.w3.org/1999/02/22-rdf-syntax-ns#rest'), rdflib.term.BNode('nce7879a9aa914fa8b69946c72bf6e1c5b7592'))\n",
      "(rdflib.term.BNode('nce7879a9aa914fa8b69946c72bf6e1c5b5991'), rdflib.term.URIRef('http://www.w3.org/2002/07/owl#intersectionOf'), rdflib.term.BNode('nce7879a9aa914fa8b69946c72bf6e1c5b5992'))\n"
     ]
    }
   ],
   "source": [
    "res = db.query(q, graph='schema')\n",
    "for r in res:\n",
    "    print(r)"
   ]
  },
  {
   "cell_type": "markdown",
   "metadata": {},
   "source": [
    "Get the results as a DataFrame:"
   ]
  },
  {
   "cell_type": "code",
   "execution_count": 16,
   "metadata": {},
   "outputs": [
    {
     "data": {
      "text/html": [
       "<div>\n",
       "<style scoped>\n",
       "    .dataframe tbody tr th:only-of-type {\n",
       "        vertical-align: middle;\n",
       "    }\n",
       "\n",
       "    .dataframe tbody tr th {\n",
       "        vertical-align: top;\n",
       "    }\n",
       "\n",
       "    .dataframe thead th {\n",
       "        text-align: right;\n",
       "    }\n",
       "</style>\n",
       "<table border=\"1\" class=\"dataframe\">\n",
       "  <thead>\n",
       "    <tr style=\"text-align: right;\">\n",
       "      <th></th>\n",
       "      <th>o</th>\n",
       "      <th>p</th>\n",
       "      <th>s</th>\n",
       "    </tr>\n",
       "  </thead>\n",
       "  <tbody>\n",
       "    <tr>\n",
       "      <th>0</th>\n",
       "      <td>http://www.w3.org/1999/02/22-rdf-syntax-ns#nil</td>\n",
       "      <td>http://www.w3.org/1999/02/22-rdf-syntax-ns#rest</td>\n",
       "      <td>nce7879a9aa914fa8b69946c72bf6e1c5b2234</td>\n",
       "    </tr>\n",
       "    <tr>\n",
       "      <th>1</th>\n",
       "      <td>nce7879a9aa914fa8b69946c72bf6e1c5b5699</td>\n",
       "      <td>http://www.w3.org/2002/07/owl#intersectionOf</td>\n",
       "      <td>nce7879a9aa914fa8b69946c72bf6e1c5b5698</td>\n",
       "    </tr>\n",
       "    <tr>\n",
       "      <th>2</th>\n",
       "      <td>https://brickschema.org/schema/Brick#Tag</td>\n",
       "      <td>http://www.w3.org/1999/02/22-rdf-syntax-ns#type</td>\n",
       "      <td>https://brickschema.org/schema/BrickTag#Evapor...</td>\n",
       "    </tr>\n",
       "    <tr>\n",
       "      <th>3</th>\n",
       "      <td>nce7879a9aa914fa8b69946c72bf6e1c5b7592</td>\n",
       "      <td>http://www.w3.org/1999/02/22-rdf-syntax-ns#rest</td>\n",
       "      <td>nce7879a9aa914fa8b69946c72bf6e1c5b7591</td>\n",
       "    </tr>\n",
       "    <tr>\n",
       "      <th>4</th>\n",
       "      <td>nce7879a9aa914fa8b69946c72bf6e1c5b5992</td>\n",
       "      <td>http://www.w3.org/2002/07/owl#intersectionOf</td>\n",
       "      <td>nce7879a9aa914fa8b69946c72bf6e1c5b5991</td>\n",
       "    </tr>\n",
       "  </tbody>\n",
       "</table>\n",
       "</div>"
      ],
      "text/plain": [
       "                                                o  \\\n",
       "0  http://www.w3.org/1999/02/22-rdf-syntax-ns#nil   \n",
       "1          nce7879a9aa914fa8b69946c72bf6e1c5b5699   \n",
       "2        https://brickschema.org/schema/Brick#Tag   \n",
       "3          nce7879a9aa914fa8b69946c72bf6e1c5b7592   \n",
       "4          nce7879a9aa914fa8b69946c72bf6e1c5b5992   \n",
       "\n",
       "                                                 p  \\\n",
       "0  http://www.w3.org/1999/02/22-rdf-syntax-ns#rest   \n",
       "1     http://www.w3.org/2002/07/owl#intersectionOf   \n",
       "2  http://www.w3.org/1999/02/22-rdf-syntax-ns#type   \n",
       "3  http://www.w3.org/1999/02/22-rdf-syntax-ns#rest   \n",
       "4     http://www.w3.org/2002/07/owl#intersectionOf   \n",
       "\n",
       "                                                   s  \n",
       "0             nce7879a9aa914fa8b69946c72bf6e1c5b2234  \n",
       "1             nce7879a9aa914fa8b69946c72bf6e1c5b5698  \n",
       "2  https://brickschema.org/schema/BrickTag#Evapor...  \n",
       "3             nce7879a9aa914fa8b69946c72bf6e1c5b7591  \n",
       "4             nce7879a9aa914fa8b69946c72bf6e1c5b5991  "
      ]
     },
     "execution_count": 16,
     "metadata": {},
     "output_type": "execute_result"
    }
   ],
   "source": [
    "res = db.query(q, graph='schema', return_df=True)\n",
    "res.head()"
   ]
  },
  {
   "cell_type": "markdown",
   "metadata": {},
   "source": [
    "## Remove the RDF prefixes from the query results:"
   ]
  },
  {
   "cell_type": "code",
   "execution_count": 17,
   "metadata": {},
   "outputs": [
    {
     "data": {
      "text/html": [
       "<div>\n",
       "<style scoped>\n",
       "    .dataframe tbody tr th:only-of-type {\n",
       "        vertical-align: middle;\n",
       "    }\n",
       "\n",
       "    .dataframe tbody tr th {\n",
       "        vertical-align: top;\n",
       "    }\n",
       "\n",
       "    .dataframe thead th {\n",
       "        text-align: right;\n",
       "    }\n",
       "</style>\n",
       "<table border=\"1\" class=\"dataframe\">\n",
       "  <thead>\n",
       "    <tr style=\"text-align: right;\">\n",
       "      <th></th>\n",
       "      <th>o</th>\n",
       "      <th>p</th>\n",
       "      <th>s</th>\n",
       "    </tr>\n",
       "  </thead>\n",
       "  <tbody>\n",
       "    <tr>\n",
       "      <th>0</th>\n",
       "      <td>9f6e47c8_ec19_402e_b27b_4551655ec984</td>\n",
       "      <td>stream_id</td>\n",
       "      <td>da5873de_e112_4f9b_9e0f_149bd1221894.ef1a1240_...</td>\n",
       "    </tr>\n",
       "    <tr>\n",
       "      <th>1</th>\n",
       "      <td>Average_Zone_Air_Temperature_Sensor</td>\n",
       "      <td>type</td>\n",
       "      <td>c10f79c9_744d_40a5_a272_7cde7ca1f5a6.4b524f12_...</td>\n",
       "    </tr>\n",
       "    <tr>\n",
       "      <th>2</th>\n",
       "      <td>ABC</td>\n",
       "      <td>value</td>\n",
       "      <td>n3e552ab4ff564ed192ed88e16624a27ab298</td>\n",
       "    </tr>\n",
       "    <tr>\n",
       "      <th>3</th>\n",
       "      <td>8dbdff35_af3a_4c69_8963_53bdcb33c775</td>\n",
       "      <td>isPointOf</td>\n",
       "      <td>8dbdff35_af3a_4c69_8963_53bdcb33c775.5a8bbc3a_...</td>\n",
       "    </tr>\n",
       "    <tr>\n",
       "      <th>4</th>\n",
       "      <td>ebb4f301_f353_446c_9b92_19f131e5181d</td>\n",
       "      <td>isPartOf</td>\n",
       "      <td>76705912_de37_4fcb_b1bc_f32d9c6b032f</td>\n",
       "    </tr>\n",
       "  </tbody>\n",
       "</table>\n",
       "</div>"
      ],
      "text/plain": [
       "                                      o          p  \\\n",
       "0  9f6e47c8_ec19_402e_b27b_4551655ec984  stream_id   \n",
       "1   Average_Zone_Air_Temperature_Sensor       type   \n",
       "2                                   ABC      value   \n",
       "3  8dbdff35_af3a_4c69_8963_53bdcb33c775  isPointOf   \n",
       "4  ebb4f301_f353_446c_9b92_19f131e5181d   isPartOf   \n",
       "\n",
       "                                                   s  \n",
       "0  da5873de_e112_4f9b_9e0f_149bd1221894.ef1a1240_...  \n",
       "1  c10f79c9_744d_40a5_a272_7cde7ca1f5a6.4b524f12_...  \n",
       "2              n3e552ab4ff564ed192ed88e16624a27ab298  \n",
       "3  8dbdff35_af3a_4c69_8963_53bdcb33c775.5a8bbc3a_...  \n",
       "4               76705912_de37_4fcb_b1bc_f32d9c6b032f  "
      ]
     },
     "execution_count": 17,
     "metadata": {},
     "output_type": "execute_result"
    }
   ],
   "source": [
    "res = db.query(q, return_df=True, defrag=True)\n",
    "res.head()"
   ]
  },
  {
   "cell_type": "markdown",
   "metadata": {},
   "source": [
    "## Get the building model knowledge graph itself:"
   ]
  },
  {
   "cell_type": "code",
   "execution_count": 18,
   "metadata": {},
   "outputs": [
    {
     "name": "stdout",
     "output_type": "stream",
     "text": [
      "dch:org/df125f8d_93e4_4a4f_bc87_1c4e332f32b8/site/c495fbd8_7a71_44b4_ad2a_014ac2df7ce9/building/95d1f7f3_33c6_4bd8_a82c_99c550d83bb8#da5873de_e112_4f9b_9e0f_149bd1221894.ef1a1240_07d1_4572_b3e5_6591c31372db http://senaps.io/schema/1.0/senaps#stream_id 9f6e47c8_ec19_402e_b27b_4551655ec984\n",
      "dch:org/df125f8d_93e4_4a4f_bc87_1c4e332f32b8/site/c495fbd8_7a71_44b4_ad2a_014ac2df7ce9/building/95d1f7f3_33c6_4bd8_a82c_99c550d83bb8#c10f79c9_744d_40a5_a272_7cde7ca1f5a6.4b524f12_0c6f_4abd_a677_51db619f635f http://www.w3.org/1999/02/22-rdf-syntax-ns#type https://brickschema.org/schema/Brick#Average_Zone_Air_Temperature_Sensor\n",
      "n3e552ab4ff564ed192ed88e16624a27ab298 https://brickschema.org/schema/Brick#value ABC\n",
      "dch:org/df125f8d_93e4_4a4f_bc87_1c4e332f32b8/site/c495fbd8_7a71_44b4_ad2a_014ac2df7ce9/building/95d1f7f3_33c6_4bd8_a82c_99c550d83bb8#8dbdff35_af3a_4c69_8963_53bdcb33c775.5a8bbc3a_d142_48cd_8c31_a76c56d4cc6f https://brickschema.org/schema/Brick#isPointOf dch:org/df125f8d_93e4_4a4f_bc87_1c4e332f32b8/site/c495fbd8_7a71_44b4_ad2a_014ac2df7ce9/building/95d1f7f3_33c6_4bd8_a82c_99c550d83bb8#8dbdff35_af3a_4c69_8963_53bdcb33c775\n",
      "dch:org/df125f8d_93e4_4a4f_bc87_1c4e332f32b8/site/c495fbd8_7a71_44b4_ad2a_014ac2df7ce9/building/95d1f7f3_33c6_4bd8_a82c_99c550d83bb8#76705912_de37_4fcb_b1bc_f32d9c6b032f https://brickschema.org/schema/Brick#isPartOf dch:org/df125f8d_93e4_4a4f_bc87_1c4e332f32b8/site/c495fbd8_7a71_44b4_ad2a_014ac2df7ce9/building/95d1f7f3_33c6_4bd8_a82c_99c550d83bb8#ebb4f301_f353_446c_9b92_19f131e5181d\n"
     ]
    }
   ],
   "source": [
    "g = db.model\n",
    "i = 0\n",
    "for s, p, o in g:\n",
    "    print(s, p, o)\n",
    "    i += 1\n",
    "    if i == 5:\n",
    "        break"
   ]
  },
  {
   "cell_type": "markdown",
   "metadata": {},
   "source": [
    "## Get the brick schema knowledge graph itself:"
   ]
  },
  {
   "cell_type": "code",
   "execution_count": 19,
   "metadata": {},
   "outputs": [
    {
     "name": "stdout",
     "output_type": "stream",
     "text": [
      "nce7879a9aa914fa8b69946c72bf6e1c5b2234 http://www.w3.org/1999/02/22-rdf-syntax-ns#rest http://www.w3.org/1999/02/22-rdf-syntax-ns#nil\n",
      "nce7879a9aa914fa8b69946c72bf6e1c5b5698 http://www.w3.org/2002/07/owl#intersectionOf nce7879a9aa914fa8b69946c72bf6e1c5b5699\n",
      "https://brickschema.org/schema/BrickTag#Evaporative http://www.w3.org/1999/02/22-rdf-syntax-ns#type https://brickschema.org/schema/Brick#Tag\n",
      "nce7879a9aa914fa8b69946c72bf6e1c5b7591 http://www.w3.org/1999/02/22-rdf-syntax-ns#rest nce7879a9aa914fa8b69946c72bf6e1c5b7592\n",
      "nce7879a9aa914fa8b69946c72bf6e1c5b5991 http://www.w3.org/2002/07/owl#intersectionOf nce7879a9aa914fa8b69946c72bf6e1c5b5992\n"
     ]
    }
   ],
   "source": [
    "g = db.schema\n",
    "i = 0\n",
    "for s, p, o in g:\n",
    "    print(s, p, o)\n",
    "    i += 1\n",
    "    if i == 5:\n",
    "        break"
   ]
  },
  {
   "cell_type": "markdown",
   "metadata": {},
   "source": [
    "## Get the time series data itself:"
   ]
  },
  {
   "cell_type": "code",
   "execution_count": 20,
   "metadata": {},
   "outputs": [
    {
     "name": "stdout",
     "output_type": "stream",
     "text": [
      "6f502ba0_77fb_43db_b6dc_48e68d5c822b: 51193 data points\n",
      "3c9ca09b_8952_45da_a066_bcb645cbbc68: 51194 data points\n",
      "d60c44c3_62fc_409a_a751_8b3ddeb9f197: 51194 data points\n",
      "eb0d5916_d942_4e2d_8129_60b83d984fdd: 51200 data points\n",
      "78078042_e16e_425b_9ec8_605aa149274e: 51188 data points\n"
     ]
    }
   ],
   "source": [
    "data = db.data\n",
    "i = 0\n",
    "for k, v in data.items():\n",
    "    print(f'{k}: {len(v)} data points')\n",
    "    i += 1\n",
    "    if i == 5:\n",
    "        break"
   ]
  }
 ],
 "metadata": {
  "kernelspec": {
   "display_name": ".venv",
   "language": "python",
   "name": "python3"
  },
  "language_info": {
   "codemirror_mode": {
    "name": "ipython",
    "version": 3
   },
   "file_extension": ".py",
   "mimetype": "text/x-python",
   "name": "python",
   "nbconvert_exporter": "python",
   "pygments_lexer": "ipython3",
   "version": "3.12.2"
  }
 },
 "nbformat": 4,
 "nbformat_minor": 2
}
