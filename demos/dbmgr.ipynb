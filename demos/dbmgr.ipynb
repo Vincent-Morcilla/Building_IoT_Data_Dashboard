{
 "cells": [
  {
   "cell_type": "markdown",
   "metadata": {},
   "source": [
    "# Paths to our dataset files"
   ]
  },
  {
   "cell_type": "code",
   "execution_count": 1,
   "metadata": {},
   "outputs": [],
   "source": [
    "data = '../datasets/bts_site_b_train/train.zip'\n",
    "mapper = '../datasets/bts_site_b_train/mapper_TrainOnly.csv'\n",
    "model = '../datasets/bts_site_b_train/Site_B.ttl'\n",
    "schema = '../datasets/bts_site_b_train/Brick_v1.2.1.ttl'"
   ]
  },
  {
   "cell_type": "markdown",
   "metadata": {},
   "source": [
    "# Load the Dataset"
   ]
  },
  {
   "cell_type": "markdown",
   "metadata": {},
   "source": [
    "Hack for demo purposes to add the `src` directory to the path:"
   ]
  },
  {
   "cell_type": "code",
   "execution_count": 2,
   "metadata": {},
   "outputs": [],
   "source": [
    "import sys\n",
    "sys.path.append(\"../src\")"
   ]
  },
  {
   "cell_type": "markdown",
   "metadata": {},
   "source": [
    "Import and instantiate the manager:"
   ]
  },
  {
   "cell_type": "code",
   "execution_count": 3,
   "metadata": {},
   "outputs": [],
   "source": [
    "from dbmgr import DBManager\n",
    "db = DBManager(data, mapper, model, schema)"
   ]
  },
  {
   "cell_type": "markdown",
   "metadata": {},
   "source": [
    "This `db` object is what is passed to each analytics module.\n",
    "\n",
    "## Number of streams in the dataset"
   ]
  },
  {
   "cell_type": "code",
   "execution_count": 4,
   "metadata": {},
   "outputs": [
    {
     "data": {
      "text/plain": [
       "668"
      ]
     },
     "execution_count": 4,
     "metadata": {},
     "output_type": "execute_result"
    }
   ],
   "source": [
    "len(db)"
   ]
  },
  {
   "cell_type": "markdown",
   "metadata": {},
   "source": [
    "## Iterating over the streams in the dataset"
   ]
  },
  {
   "cell_type": "code",
   "execution_count": 5,
   "metadata": {},
   "outputs": [
    {
     "name": "stdout",
     "output_type": "stream",
     "text": [
      "6f502ba0_77fb_43db_b6dc_48e68d5c822b\n",
      "3c9ca09b_8952_45da_a066_bcb645cbbc68\n",
      "d60c44c3_62fc_409a_a751_8b3ddeb9f197\n",
      "eb0d5916_d942_4e2d_8129_60b83d984fdd\n",
      "78078042_e16e_425b_9ec8_605aa149274e\n"
     ]
    }
   ],
   "source": [
    "i = 0\n",
    "for stream_id in db:\n",
    "    print(stream_id)\n",
    "    i += 1\n",
    "    if i == 5:\n",
    "        break"
   ]
  },
  {
   "cell_type": "markdown",
   "metadata": {},
   "source": [
    "## Check if a stream ID is in the dataset:\n",
    "\n",
    "Not in the dataset:"
   ]
  },
  {
   "cell_type": "code",
   "execution_count": 6,
   "metadata": {},
   "outputs": [
    {
     "data": {
      "text/plain": [
       "False"
      ]
     },
     "execution_count": 6,
     "metadata": {},
     "output_type": "execute_result"
    }
   ],
   "source": [
    "'tim' in db"
   ]
  },
  {
   "cell_type": "markdown",
   "metadata": {},
   "source": [
    "In the dataset:"
   ]
  },
  {
   "cell_type": "code",
   "execution_count": 7,
   "metadata": {},
   "outputs": [
    {
     "data": {
      "text/plain": [
       "True"
      ]
     },
     "execution_count": 7,
     "metadata": {},
     "output_type": "execute_result"
    }
   ],
   "source": [
    "'835a86d6_c235_4caf_8071_31b9bf24960b' in db"
   ]
  },
  {
   "cell_type": "markdown",
   "metadata": {},
   "source": [
    "## Get a stream by its ID:\n",
    "\n",
    "By indexing into the manager:"
   ]
  },
  {
   "cell_type": "code",
   "execution_count": 8,
   "metadata": {},
   "outputs": [
    {
     "data": {
      "text/html": [
       "<div>\n",
       "<style scoped>\n",
       "    .dataframe tbody tr th:only-of-type {\n",
       "        vertical-align: middle;\n",
       "    }\n",
       "\n",
       "    .dataframe tbody tr th {\n",
       "        vertical-align: top;\n",
       "    }\n",
       "\n",
       "    .dataframe thead th {\n",
       "        text-align: right;\n",
       "    }\n",
       "</style>\n",
       "<table border=\"1\" class=\"dataframe\">\n",
       "  <thead>\n",
       "    <tr style=\"text-align: right;\">\n",
       "      <th></th>\n",
       "      <th>time</th>\n",
       "      <th>value</th>\n",
       "      <th>brick_class</th>\n",
       "    </tr>\n",
       "  </thead>\n",
       "  <tbody>\n",
       "    <tr>\n",
       "      <th>0</th>\n",
       "      <td>2021-01-01 00:03:09.662</td>\n",
       "      <td>0.0</td>\n",
       "      <td>Enable_Status</td>\n",
       "    </tr>\n",
       "    <tr>\n",
       "      <th>1</th>\n",
       "      <td>2021-01-01 00:13:39.017</td>\n",
       "      <td>0.0</td>\n",
       "      <td>Enable_Status</td>\n",
       "    </tr>\n",
       "    <tr>\n",
       "      <th>2</th>\n",
       "      <td>2021-01-01 00:23:10.073</td>\n",
       "      <td>0.0</td>\n",
       "      <td>Enable_Status</td>\n",
       "    </tr>\n",
       "    <tr>\n",
       "      <th>3</th>\n",
       "      <td>2021-01-01 00:33:09.637</td>\n",
       "      <td>0.0</td>\n",
       "      <td>Enable_Status</td>\n",
       "    </tr>\n",
       "    <tr>\n",
       "      <th>4</th>\n",
       "      <td>2021-01-01 00:43:09.639</td>\n",
       "      <td>0.0</td>\n",
       "      <td>Enable_Status</td>\n",
       "    </tr>\n",
       "  </tbody>\n",
       "</table>\n",
       "</div>"
      ],
      "text/plain": [
       "                     time  value    brick_class\n",
       "0 2021-01-01 00:03:09.662    0.0  Enable_Status\n",
       "1 2021-01-01 00:13:39.017    0.0  Enable_Status\n",
       "2 2021-01-01 00:23:10.073    0.0  Enable_Status\n",
       "3 2021-01-01 00:33:09.637    0.0  Enable_Status\n",
       "4 2021-01-01 00:43:09.639    0.0  Enable_Status"
      ]
     },
     "execution_count": 8,
     "metadata": {},
     "output_type": "execute_result"
    }
   ],
   "source": [
    "db['835a86d6_c235_4caf_8071_31b9bf24960b'].head()"
   ]
  },
  {
   "cell_type": "markdown",
   "metadata": {},
   "source": [
    "By calling the getter:"
   ]
  },
  {
   "cell_type": "code",
   "execution_count": 9,
   "metadata": {},
   "outputs": [
    {
     "data": {
      "text/html": [
       "<div>\n",
       "<style scoped>\n",
       "    .dataframe tbody tr th:only-of-type {\n",
       "        vertical-align: middle;\n",
       "    }\n",
       "\n",
       "    .dataframe tbody tr th {\n",
       "        vertical-align: top;\n",
       "    }\n",
       "\n",
       "    .dataframe thead th {\n",
       "        text-align: right;\n",
       "    }\n",
       "</style>\n",
       "<table border=\"1\" class=\"dataframe\">\n",
       "  <thead>\n",
       "    <tr style=\"text-align: right;\">\n",
       "      <th></th>\n",
       "      <th>time</th>\n",
       "      <th>value</th>\n",
       "      <th>brick_class</th>\n",
       "    </tr>\n",
       "  </thead>\n",
       "  <tbody>\n",
       "    <tr>\n",
       "      <th>0</th>\n",
       "      <td>2021-01-01 00:03:09.662</td>\n",
       "      <td>0.0</td>\n",
       "      <td>Enable_Status</td>\n",
       "    </tr>\n",
       "    <tr>\n",
       "      <th>1</th>\n",
       "      <td>2021-01-01 00:13:39.017</td>\n",
       "      <td>0.0</td>\n",
       "      <td>Enable_Status</td>\n",
       "    </tr>\n",
       "    <tr>\n",
       "      <th>2</th>\n",
       "      <td>2021-01-01 00:23:10.073</td>\n",
       "      <td>0.0</td>\n",
       "      <td>Enable_Status</td>\n",
       "    </tr>\n",
       "    <tr>\n",
       "      <th>3</th>\n",
       "      <td>2021-01-01 00:33:09.637</td>\n",
       "      <td>0.0</td>\n",
       "      <td>Enable_Status</td>\n",
       "    </tr>\n",
       "    <tr>\n",
       "      <th>4</th>\n",
       "      <td>2021-01-01 00:43:09.639</td>\n",
       "      <td>0.0</td>\n",
       "      <td>Enable_Status</td>\n",
       "    </tr>\n",
       "  </tbody>\n",
       "</table>\n",
       "</div>"
      ],
      "text/plain": [
       "                     time  value    brick_class\n",
       "0 2021-01-01 00:03:09.662    0.0  Enable_Status\n",
       "1 2021-01-01 00:13:39.017    0.0  Enable_Status\n",
       "2 2021-01-01 00:23:10.073    0.0  Enable_Status\n",
       "3 2021-01-01 00:33:09.637    0.0  Enable_Status\n",
       "4 2021-01-01 00:43:09.639    0.0  Enable_Status"
      ]
     },
     "execution_count": 9,
     "metadata": {},
     "output_type": "execute_result"
    }
   ],
   "source": [
    "db.get_stream('835a86d6_c235_4caf_8071_31b9bf24960b').head()"
   ]
  },
  {
   "cell_type": "markdown",
   "metadata": {},
   "source": [
    "## Set a stream by its ID:"
   ]
  },
  {
   "cell_type": "code",
   "execution_count": 10,
   "metadata": {},
   "outputs": [],
   "source": [
    "import pandas as pd\n",
    "\n",
    "data = pd.DataFrame({\n",
    "            \"time\": [pd.Timestamp('2017-03-22 15:16:45'), pd.Timestamp('2017-03-22 15:17:45'), pd.Timestamp('2017-03-22 15:18:45'), pd.Timestamp('2017-03-22 15:19:45') ],\n",
    "            \"value\": [22.0, 23.0, 24.0, 25.0],\n",
    "            \"brick_class\": [\"Fake_Class\", \"Fake_Class\", \"Fake_Class\", \"Fake_Class\"],\n",
    "        })"
   ]
  },
  {
   "cell_type": "markdown",
   "metadata": {},
   "source": [
    "By indexing into the manager:"
   ]
  },
  {
   "cell_type": "code",
   "execution_count": 11,
   "metadata": {},
   "outputs": [
    {
     "data": {
      "text/html": [
       "<div>\n",
       "<style scoped>\n",
       "    .dataframe tbody tr th:only-of-type {\n",
       "        vertical-align: middle;\n",
       "    }\n",
       "\n",
       "    .dataframe tbody tr th {\n",
       "        vertical-align: top;\n",
       "    }\n",
       "\n",
       "    .dataframe thead th {\n",
       "        text-align: right;\n",
       "    }\n",
       "</style>\n",
       "<table border=\"1\" class=\"dataframe\">\n",
       "  <thead>\n",
       "    <tr style=\"text-align: right;\">\n",
       "      <th></th>\n",
       "      <th>time</th>\n",
       "      <th>value</th>\n",
       "      <th>brick_class</th>\n",
       "    </tr>\n",
       "  </thead>\n",
       "  <tbody>\n",
       "    <tr>\n",
       "      <th>0</th>\n",
       "      <td>2017-03-22 15:16:45</td>\n",
       "      <td>22.0</td>\n",
       "      <td>Fake_Class</td>\n",
       "    </tr>\n",
       "    <tr>\n",
       "      <th>1</th>\n",
       "      <td>2017-03-22 15:17:45</td>\n",
       "      <td>23.0</td>\n",
       "      <td>Fake_Class</td>\n",
       "    </tr>\n",
       "    <tr>\n",
       "      <th>2</th>\n",
       "      <td>2017-03-22 15:18:45</td>\n",
       "      <td>24.0</td>\n",
       "      <td>Fake_Class</td>\n",
       "    </tr>\n",
       "    <tr>\n",
       "      <th>3</th>\n",
       "      <td>2017-03-22 15:19:45</td>\n",
       "      <td>25.0</td>\n",
       "      <td>Fake_Class</td>\n",
       "    </tr>\n",
       "  </tbody>\n",
       "</table>\n",
       "</div>"
      ],
      "text/plain": [
       "                 time  value brick_class\n",
       "0 2017-03-22 15:16:45   22.0  Fake_Class\n",
       "1 2017-03-22 15:17:45   23.0  Fake_Class\n",
       "2 2017-03-22 15:18:45   24.0  Fake_Class\n",
       "3 2017-03-22 15:19:45   25.0  Fake_Class"
      ]
     },
     "execution_count": 11,
     "metadata": {},
     "output_type": "execute_result"
    }
   ],
   "source": [
    "db['835a86d6_c235_4caf_8071_31b9bf24960b'] = data\n",
    "db['835a86d6_c235_4caf_8071_31b9bf24960b'].head()"
   ]
  },
  {
   "cell_type": "markdown",
   "metadata": {},
   "source": [
    "By calling the setter:"
   ]
  },
  {
   "cell_type": "code",
   "execution_count": 12,
   "metadata": {},
   "outputs": [
    {
     "data": {
      "text/html": [
       "<div>\n",
       "<style scoped>\n",
       "    .dataframe tbody tr th:only-of-type {\n",
       "        vertical-align: middle;\n",
       "    }\n",
       "\n",
       "    .dataframe tbody tr th {\n",
       "        vertical-align: top;\n",
       "    }\n",
       "\n",
       "    .dataframe thead th {\n",
       "        text-align: right;\n",
       "    }\n",
       "</style>\n",
       "<table border=\"1\" class=\"dataframe\">\n",
       "  <thead>\n",
       "    <tr style=\"text-align: right;\">\n",
       "      <th></th>\n",
       "      <th>time</th>\n",
       "      <th>value</th>\n",
       "      <th>brick_class</th>\n",
       "    </tr>\n",
       "  </thead>\n",
       "  <tbody>\n",
       "    <tr>\n",
       "      <th>0</th>\n",
       "      <td>2017-03-22 15:16:45</td>\n",
       "      <td>22.0</td>\n",
       "      <td>Fake_Class</td>\n",
       "    </tr>\n",
       "    <tr>\n",
       "      <th>1</th>\n",
       "      <td>2017-03-22 15:17:45</td>\n",
       "      <td>23.0</td>\n",
       "      <td>Fake_Class</td>\n",
       "    </tr>\n",
       "    <tr>\n",
       "      <th>2</th>\n",
       "      <td>2017-03-22 15:18:45</td>\n",
       "      <td>24.0</td>\n",
       "      <td>Fake_Class</td>\n",
       "    </tr>\n",
       "    <tr>\n",
       "      <th>3</th>\n",
       "      <td>2017-03-22 15:19:45</td>\n",
       "      <td>25.0</td>\n",
       "      <td>Fake_Class</td>\n",
       "    </tr>\n",
       "  </tbody>\n",
       "</table>\n",
       "</div>"
      ],
      "text/plain": [
       "                 time  value brick_class\n",
       "0 2017-03-22 15:16:45   22.0  Fake_Class\n",
       "1 2017-03-22 15:17:45   23.0  Fake_Class\n",
       "2 2017-03-22 15:18:45   24.0  Fake_Class\n",
       "3 2017-03-22 15:19:45   25.0  Fake_Class"
      ]
     },
     "execution_count": 12,
     "metadata": {},
     "output_type": "execute_result"
    }
   ],
   "source": [
    "db.set_stream('22543d51_3c38_46d3_98fe_a77838976df9', data)\n",
    "db.get_stream('22543d51_3c38_46d3_98fe_a77838976df9').head()"
   ]
  },
  {
   "cell_type": "markdown",
   "metadata": {},
   "source": [
    "## Get multiple streams by their IDs:"
   ]
  },
  {
   "cell_type": "code",
   "execution_count": 13,
   "metadata": {},
   "outputs": [
    {
     "name": "stdout",
     "output_type": "stream",
     "text": [
      "========= 22543d51_3c38_46d3_98fe_a77838976df9 =========\n",
      "                 time  value brick_class\n",
      "0 2017-03-22 15:16:45   22.0  Fake_Class\n",
      "1 2017-03-22 15:17:45   23.0  Fake_Class\n",
      "2 2017-03-22 15:18:45   24.0  Fake_Class\n",
      "3 2017-03-22 15:19:45   25.0  Fake_Class\n",
      "\n",
      "========= 3010a24a_2deb_43c8_9db4_cfc94c5faa5c =========\n",
      "                     time  value              brick_class\n",
      "0 2021-07-13 01:26:18.083 -0.107  Electrical_Power_Sensor\n",
      "1 2021-07-13 01:31:17.035 -0.042  Electrical_Power_Sensor\n",
      "2 2021-07-13 01:36:13.143  0.054  Electrical_Power_Sensor\n",
      "3 2021-07-13 01:50:12.735 -0.016  Electrical_Power_Sensor\n",
      "4 2021-07-13 01:55:12.150 -0.164  Electrical_Power_Sensor\n",
      "\n",
      "========= 405896a1_c195_422d_a0aa_18d2eca6a61d =========\n",
      "                     time  value                   brick_class\n",
      "0 2021-01-01 00:03:16.153   23.5  Cooling_Temperature_Setpoint\n",
      "1 2021-01-01 00:13:44.730   23.5  Cooling_Temperature_Setpoint\n",
      "2 2021-01-01 00:23:16.055   23.5  Cooling_Temperature_Setpoint\n",
      "3 2021-01-01 00:33:16.093   23.5  Cooling_Temperature_Setpoint\n",
      "4 2021-01-01 00:43:16.129   23.5  Cooling_Temperature_Setpoint\n",
      "\n"
     ]
    }
   ],
   "source": [
    "stream_ids = [\n",
    "    '22543d51_3c38_46d3_98fe_a77838976df9',\n",
    "    '3010a24a_2deb_43c8_9db4_cfc94c5faa5c',\n",
    "    '405896a1_c195_422d_a0aa_18d2eca6a61d',\n",
    "]\n",
    "streams = db.get_streams(stream_ids)\n",
    "for stream_id, stream in streams.items():\n",
    "    print(f'========= {stream_id} =========')\n",
    "    print(stream.head())\n",
    "    print()"
   ]
  },
  {
   "cell_type": "markdown",
   "metadata": {},
   "source": [
    "## Query the building model:\n",
    "\n",
    "Some arbitrary sparql query:"
   ]
  },
  {
   "cell_type": "code",
   "execution_count": 14,
   "metadata": {},
   "outputs": [],
   "source": [
    "q = \"\"\"\n",
    "SELECT ?s ?p ?o WHERE {\n",
    "    ?s ?p ?o\n",
    "} LIMIT 5\n",
    "\"\"\""
   ]
  },
  {
   "cell_type": "markdown",
   "metadata": {},
   "source": [
    "Get the results as RDFLib rows:"
   ]
  },
  {
   "cell_type": "code",
   "execution_count": 15,
   "metadata": {},
   "outputs": [
    {
     "name": "stdout",
     "output_type": "stream",
     "text": [
      "(rdflib.term.URIRef('dch:org/df125f8d_93e4_4a4f_bc87_1c4e332f32b8/site/c495fbd8_7a71_44b4_ad2a_014ac2df7ce9/building/95d1f7f3_33c6_4bd8_a82c_99c550d83bb8#3b373634_2461_4b61_8bcb_068c12b7e1a8.9e84cf78_5ff2_4d03_a537_a3a986cbb826'), rdflib.term.URIRef('http://www.w3.org/1999/02/22-rdf-syntax-ns#type'), rdflib.term.URIRef('https://brickschema.org/schema/Brick#Open_space'))\n",
      "(rdflib.term.URIRef('dch:org/df125f8d_93e4_4a4f_bc87_1c4e332f32b8/site/c495fbd8_7a71_44b4_ad2a_014ac2df7ce9/building/95d1f7f3_33c6_4bd8_a82c_99c550d83bb8#08ff7ae0_acef_4f4d_8328_2de484a6d5e1.2db1336a_027e_49a3_be92_d6fafdf09906'), rdflib.term.URIRef('http://senaps.io/schema/1.0/senaps#stream_id'), rdflib.term.Literal('2bfea9cf_141f_4a2e_8dd0_50eb3c5219e4'))\n",
      "(rdflib.term.URIRef('dch:org/df125f8d_93e4_4a4f_bc87_1c4e332f32b8/site/c495fbd8_7a71_44b4_ad2a_014ac2df7ce9/building/95d1f7f3_33c6_4bd8_a82c_99c550d83bb8#506f355b_ec0d_4763_8082_5d022dcf6153.11c987b4_223f_4d61_beaf_8b10ec3a3b2d'), rdflib.term.URIRef('https://brickschema.org/schema/Brick#isLocationOf'), rdflib.term.URIRef('dch:org/df125f8d_93e4_4a4f_bc87_1c4e332f32b8/site/c495fbd8_7a71_44b4_ad2a_014ac2df7ce9/building/95d1f7f3_33c6_4bd8_a82c_99c550d83bb8#ebb4f301_f353_446c_9b92_19f131e5181d'))\n",
      "(rdflib.term.URIRef('dch:org/df125f8d_93e4_4a4f_bc87_1c4e332f32b8/site/c495fbd8_7a71_44b4_ad2a_014ac2df7ce9/building/95d1f7f3_33c6_4bd8_a82c_99c550d83bb8#df67cba3_6743_4ae7_83f8_e492a62bb7bf'), rdflib.term.URIRef('https://brickschema.org/schema/Brick#hasUnit'), rdflib.term.BNode('nef12d5f2a0e64b56866eb558828688b3b21'))\n",
      "(rdflib.term.URIRef('dch:org/df125f8d_93e4_4a4f_bc87_1c4e332f32b8/site/c495fbd8_7a71_44b4_ad2a_014ac2df7ce9/building/95d1f7f3_33c6_4bd8_a82c_99c550d83bb8#a047df87_7c81_4a1c_abc5_99a6eda40f1a.23955269_2a1a_4f54_afcb_4e8cce56ffdd.7b8c0523_d3f0_4ffd_9f2c_f6d70d338c81'), rdflib.term.URIRef('http://senaps.io/schema/1.0/senaps#stream_id'), rdflib.term.Literal('aeab89a2_0d9b_4ebd_97fe_033e93447fbd'))\n"
     ]
    }
   ],
   "source": [
    "res = db.query(q)\n",
    "for r in res:\n",
    "    print(r)"
   ]
  },
  {
   "cell_type": "markdown",
   "metadata": {},
   "source": [
    "Get the results as a DataFrame:"
   ]
  },
  {
   "cell_type": "code",
   "execution_count": 16,
   "metadata": {},
   "outputs": [
    {
     "data": {
      "text/html": [
       "<div>\n",
       "<style scoped>\n",
       "    .dataframe tbody tr th:only-of-type {\n",
       "        vertical-align: middle;\n",
       "    }\n",
       "\n",
       "    .dataframe tbody tr th {\n",
       "        vertical-align: top;\n",
       "    }\n",
       "\n",
       "    .dataframe thead th {\n",
       "        text-align: right;\n",
       "    }\n",
       "</style>\n",
       "<table border=\"1\" class=\"dataframe\">\n",
       "  <thead>\n",
       "    <tr style=\"text-align: right;\">\n",
       "      <th></th>\n",
       "      <th>o</th>\n",
       "      <th>p</th>\n",
       "      <th>s</th>\n",
       "    </tr>\n",
       "  </thead>\n",
       "  <tbody>\n",
       "    <tr>\n",
       "      <th>0</th>\n",
       "      <td>https://brickschema.org/schema/Brick#Open_space</td>\n",
       "      <td>http://www.w3.org/1999/02/22-rdf-syntax-ns#type</td>\n",
       "      <td>dch:org/df125f8d_93e4_4a4f_bc87_1c4e332f32b8/s...</td>\n",
       "    </tr>\n",
       "    <tr>\n",
       "      <th>1</th>\n",
       "      <td>2bfea9cf_141f_4a2e_8dd0_50eb3c5219e4</td>\n",
       "      <td>http://senaps.io/schema/1.0/senaps#stream_id</td>\n",
       "      <td>dch:org/df125f8d_93e4_4a4f_bc87_1c4e332f32b8/s...</td>\n",
       "    </tr>\n",
       "    <tr>\n",
       "      <th>2</th>\n",
       "      <td>dch:org/df125f8d_93e4_4a4f_bc87_1c4e332f32b8/s...</td>\n",
       "      <td>https://brickschema.org/schema/Brick#isLocationOf</td>\n",
       "      <td>dch:org/df125f8d_93e4_4a4f_bc87_1c4e332f32b8/s...</td>\n",
       "    </tr>\n",
       "    <tr>\n",
       "      <th>3</th>\n",
       "      <td>nef12d5f2a0e64b56866eb558828688b3b21</td>\n",
       "      <td>https://brickschema.org/schema/Brick#hasUnit</td>\n",
       "      <td>dch:org/df125f8d_93e4_4a4f_bc87_1c4e332f32b8/s...</td>\n",
       "    </tr>\n",
       "    <tr>\n",
       "      <th>4</th>\n",
       "      <td>aeab89a2_0d9b_4ebd_97fe_033e93447fbd</td>\n",
       "      <td>http://senaps.io/schema/1.0/senaps#stream_id</td>\n",
       "      <td>dch:org/df125f8d_93e4_4a4f_bc87_1c4e332f32b8/s...</td>\n",
       "    </tr>\n",
       "  </tbody>\n",
       "</table>\n",
       "</div>"
      ],
      "text/plain": [
       "                                                   o  \\\n",
       "0    https://brickschema.org/schema/Brick#Open_space   \n",
       "1               2bfea9cf_141f_4a2e_8dd0_50eb3c5219e4   \n",
       "2  dch:org/df125f8d_93e4_4a4f_bc87_1c4e332f32b8/s...   \n",
       "3               nef12d5f2a0e64b56866eb558828688b3b21   \n",
       "4               aeab89a2_0d9b_4ebd_97fe_033e93447fbd   \n",
       "\n",
       "                                                   p  \\\n",
       "0    http://www.w3.org/1999/02/22-rdf-syntax-ns#type   \n",
       "1       http://senaps.io/schema/1.0/senaps#stream_id   \n",
       "2  https://brickschema.org/schema/Brick#isLocationOf   \n",
       "3       https://brickschema.org/schema/Brick#hasUnit   \n",
       "4       http://senaps.io/schema/1.0/senaps#stream_id   \n",
       "\n",
       "                                                   s  \n",
       "0  dch:org/df125f8d_93e4_4a4f_bc87_1c4e332f32b8/s...  \n",
       "1  dch:org/df125f8d_93e4_4a4f_bc87_1c4e332f32b8/s...  \n",
       "2  dch:org/df125f8d_93e4_4a4f_bc87_1c4e332f32b8/s...  \n",
       "3  dch:org/df125f8d_93e4_4a4f_bc87_1c4e332f32b8/s...  \n",
       "4  dch:org/df125f8d_93e4_4a4f_bc87_1c4e332f32b8/s...  "
      ]
     },
     "execution_count": 16,
     "metadata": {},
     "output_type": "execute_result"
    }
   ],
   "source": [
    "res = db.query(q, return_df=True)\n",
    "res.head()"
   ]
  },
  {
   "cell_type": "markdown",
   "metadata": {},
   "source": [
    "## Query the brick schema:\n",
    "\n",
    "Get the results as RDFLib rows:"
   ]
  },
  {
   "cell_type": "code",
   "execution_count": 17,
   "metadata": {},
   "outputs": [
    {
     "name": "stdout",
     "output_type": "stream",
     "text": [
      "(rdflib.term.URIRef('https://brickschema.org/schema/Brick#PM10_Concentration'), rdflib.term.URIRef('http://qudt.org/schema/qudt/applicableUnit'), rdflib.term.URIRef('http://qudt.org/vocab/unit/PPB'))\n",
      "(rdflib.term.BNode('nd62dfbd73d924893b0854daf9911b33fb7034'), rdflib.term.URIRef('http://www.w3.org/2002/07/owl#intersectionOf'), rdflib.term.BNode('nd62dfbd73d924893b0854daf9911b33fb7035'))\n",
      "(rdflib.term.BNode('nd62dfbd73d924893b0854daf9911b33fb7006'), rdflib.term.URIRef('http://www.w3.org/1999/02/22-rdf-syntax-ns#rest'), rdflib.term.BNode('nd62dfbd73d924893b0854daf9911b33fb7007'))\n",
      "(rdflib.term.URIRef('https://brickschema.org/schema/Brick#Reset_Command'), rdflib.term.URIRef('http://www.w3.org/2000/01/rdf-schema#subClassOf'), rdflib.term.BNode('nd62dfbd73d924893b0854daf9911b33fb7102'))\n",
      "(rdflib.term.BNode('nd62dfbd73d924893b0854daf9911b33fb4114'), rdflib.term.URIRef('http://www.w3.org/1999/02/22-rdf-syntax-ns#first'), rdflib.term.BNode('nd62dfbd73d924893b0854daf9911b33fb37'))\n"
     ]
    }
   ],
   "source": [
    "res = db.query(q, graph='schema')\n",
    "for r in res:\n",
    "    print(r)"
   ]
  },
  {
   "cell_type": "markdown",
   "metadata": {},
   "source": [
    "Get the results as a DataFrame:"
   ]
  },
  {
   "cell_type": "code",
   "execution_count": 18,
   "metadata": {},
   "outputs": [
    {
     "data": {
      "text/html": [
       "<div>\n",
       "<style scoped>\n",
       "    .dataframe tbody tr th:only-of-type {\n",
       "        vertical-align: middle;\n",
       "    }\n",
       "\n",
       "    .dataframe tbody tr th {\n",
       "        vertical-align: top;\n",
       "    }\n",
       "\n",
       "    .dataframe thead th {\n",
       "        text-align: right;\n",
       "    }\n",
       "</style>\n",
       "<table border=\"1\" class=\"dataframe\">\n",
       "  <thead>\n",
       "    <tr style=\"text-align: right;\">\n",
       "      <th></th>\n",
       "      <th>o</th>\n",
       "      <th>p</th>\n",
       "      <th>s</th>\n",
       "    </tr>\n",
       "  </thead>\n",
       "  <tbody>\n",
       "    <tr>\n",
       "      <th>0</th>\n",
       "      <td>http://qudt.org/vocab/unit/PPB</td>\n",
       "      <td>http://qudt.org/schema/qudt/applicableUnit</td>\n",
       "      <td>https://brickschema.org/schema/Brick#PM10_Conc...</td>\n",
       "    </tr>\n",
       "    <tr>\n",
       "      <th>1</th>\n",
       "      <td>nd62dfbd73d924893b0854daf9911b33fb7035</td>\n",
       "      <td>http://www.w3.org/2002/07/owl#intersectionOf</td>\n",
       "      <td>nd62dfbd73d924893b0854daf9911b33fb7034</td>\n",
       "    </tr>\n",
       "    <tr>\n",
       "      <th>2</th>\n",
       "      <td>nd62dfbd73d924893b0854daf9911b33fb7007</td>\n",
       "      <td>http://www.w3.org/1999/02/22-rdf-syntax-ns#rest</td>\n",
       "      <td>nd62dfbd73d924893b0854daf9911b33fb7006</td>\n",
       "    </tr>\n",
       "    <tr>\n",
       "      <th>3</th>\n",
       "      <td>nd62dfbd73d924893b0854daf9911b33fb7102</td>\n",
       "      <td>http://www.w3.org/2000/01/rdf-schema#subClassOf</td>\n",
       "      <td>https://brickschema.org/schema/Brick#Reset_Com...</td>\n",
       "    </tr>\n",
       "    <tr>\n",
       "      <th>4</th>\n",
       "      <td>nd62dfbd73d924893b0854daf9911b33fb37</td>\n",
       "      <td>http://www.w3.org/1999/02/22-rdf-syntax-ns#first</td>\n",
       "      <td>nd62dfbd73d924893b0854daf9911b33fb4114</td>\n",
       "    </tr>\n",
       "  </tbody>\n",
       "</table>\n",
       "</div>"
      ],
      "text/plain": [
       "                                        o  \\\n",
       "0          http://qudt.org/vocab/unit/PPB   \n",
       "1  nd62dfbd73d924893b0854daf9911b33fb7035   \n",
       "2  nd62dfbd73d924893b0854daf9911b33fb7007   \n",
       "3  nd62dfbd73d924893b0854daf9911b33fb7102   \n",
       "4    nd62dfbd73d924893b0854daf9911b33fb37   \n",
       "\n",
       "                                                  p  \\\n",
       "0        http://qudt.org/schema/qudt/applicableUnit   \n",
       "1      http://www.w3.org/2002/07/owl#intersectionOf   \n",
       "2   http://www.w3.org/1999/02/22-rdf-syntax-ns#rest   \n",
       "3   http://www.w3.org/2000/01/rdf-schema#subClassOf   \n",
       "4  http://www.w3.org/1999/02/22-rdf-syntax-ns#first   \n",
       "\n",
       "                                                   s  \n",
       "0  https://brickschema.org/schema/Brick#PM10_Conc...  \n",
       "1             nd62dfbd73d924893b0854daf9911b33fb7034  \n",
       "2             nd62dfbd73d924893b0854daf9911b33fb7006  \n",
       "3  https://brickschema.org/schema/Brick#Reset_Com...  \n",
       "4             nd62dfbd73d924893b0854daf9911b33fb4114  "
      ]
     },
     "execution_count": 18,
     "metadata": {},
     "output_type": "execute_result"
    }
   ],
   "source": [
    "res = db.query(q, graph='schema', return_df=True)\n",
    "res.head()"
   ]
  },
  {
   "cell_type": "markdown",
   "metadata": {},
   "source": [
    "## Remove the RDF prefixes from the query results:"
   ]
  },
  {
   "cell_type": "code",
   "execution_count": 19,
   "metadata": {},
   "outputs": [
    {
     "data": {
      "text/html": [
       "<div>\n",
       "<style scoped>\n",
       "    .dataframe tbody tr th:only-of-type {\n",
       "        vertical-align: middle;\n",
       "    }\n",
       "\n",
       "    .dataframe tbody tr th {\n",
       "        vertical-align: top;\n",
       "    }\n",
       "\n",
       "    .dataframe thead th {\n",
       "        text-align: right;\n",
       "    }\n",
       "</style>\n",
       "<table border=\"1\" class=\"dataframe\">\n",
       "  <thead>\n",
       "    <tr style=\"text-align: right;\">\n",
       "      <th></th>\n",
       "      <th>o</th>\n",
       "      <th>p</th>\n",
       "      <th>s</th>\n",
       "    </tr>\n",
       "  </thead>\n",
       "  <tbody>\n",
       "    <tr>\n",
       "      <th>0</th>\n",
       "      <td>Open_space</td>\n",
       "      <td>type</td>\n",
       "      <td>3b373634_2461_4b61_8bcb_068c12b7e1a8.9e84cf78_...</td>\n",
       "    </tr>\n",
       "    <tr>\n",
       "      <th>1</th>\n",
       "      <td>2bfea9cf_141f_4a2e_8dd0_50eb3c5219e4</td>\n",
       "      <td>stream_id</td>\n",
       "      <td>08ff7ae0_acef_4f4d_8328_2de484a6d5e1.2db1336a_...</td>\n",
       "    </tr>\n",
       "    <tr>\n",
       "      <th>2</th>\n",
       "      <td>ebb4f301_f353_446c_9b92_19f131e5181d</td>\n",
       "      <td>isLocationOf</td>\n",
       "      <td>506f355b_ec0d_4763_8082_5d022dcf6153.11c987b4_...</td>\n",
       "    </tr>\n",
       "    <tr>\n",
       "      <th>3</th>\n",
       "      <td>nef12d5f2a0e64b56866eb558828688b3b21</td>\n",
       "      <td>hasUnit</td>\n",
       "      <td>df67cba3_6743_4ae7_83f8_e492a62bb7bf</td>\n",
       "    </tr>\n",
       "    <tr>\n",
       "      <th>4</th>\n",
       "      <td>aeab89a2_0d9b_4ebd_97fe_033e93447fbd</td>\n",
       "      <td>stream_id</td>\n",
       "      <td>a047df87_7c81_4a1c_abc5_99a6eda40f1a.23955269_...</td>\n",
       "    </tr>\n",
       "  </tbody>\n",
       "</table>\n",
       "</div>"
      ],
      "text/plain": [
       "                                      o             p  \\\n",
       "0                            Open_space          type   \n",
       "1  2bfea9cf_141f_4a2e_8dd0_50eb3c5219e4     stream_id   \n",
       "2  ebb4f301_f353_446c_9b92_19f131e5181d  isLocationOf   \n",
       "3  nef12d5f2a0e64b56866eb558828688b3b21       hasUnit   \n",
       "4  aeab89a2_0d9b_4ebd_97fe_033e93447fbd     stream_id   \n",
       "\n",
       "                                                   s  \n",
       "0  3b373634_2461_4b61_8bcb_068c12b7e1a8.9e84cf78_...  \n",
       "1  08ff7ae0_acef_4f4d_8328_2de484a6d5e1.2db1336a_...  \n",
       "2  506f355b_ec0d_4763_8082_5d022dcf6153.11c987b4_...  \n",
       "3               df67cba3_6743_4ae7_83f8_e492a62bb7bf  \n",
       "4  a047df87_7c81_4a1c_abc5_99a6eda40f1a.23955269_...  "
      ]
     },
     "execution_count": 19,
     "metadata": {},
     "output_type": "execute_result"
    }
   ],
   "source": [
    "res = db.query(q, return_df=True, defrag=True)\n",
    "res.head()"
   ]
  },
  {
   "cell_type": "markdown",
   "metadata": {},
   "source": [
    "## Get the building model knowledge graph itself:"
   ]
  },
  {
   "cell_type": "code",
   "execution_count": 20,
   "metadata": {},
   "outputs": [
    {
     "name": "stdout",
     "output_type": "stream",
     "text": [
      "dch:org/df125f8d_93e4_4a4f_bc87_1c4e332f32b8/site/c495fbd8_7a71_44b4_ad2a_014ac2df7ce9/building/95d1f7f3_33c6_4bd8_a82c_99c550d83bb8#3b373634_2461_4b61_8bcb_068c12b7e1a8.9e84cf78_5ff2_4d03_a537_a3a986cbb826 http://www.w3.org/1999/02/22-rdf-syntax-ns#type https://brickschema.org/schema/Brick#Open_space\n",
      "dch:org/df125f8d_93e4_4a4f_bc87_1c4e332f32b8/site/c495fbd8_7a71_44b4_ad2a_014ac2df7ce9/building/95d1f7f3_33c6_4bd8_a82c_99c550d83bb8#08ff7ae0_acef_4f4d_8328_2de484a6d5e1.2db1336a_027e_49a3_be92_d6fafdf09906 http://senaps.io/schema/1.0/senaps#stream_id 2bfea9cf_141f_4a2e_8dd0_50eb3c5219e4\n",
      "dch:org/df125f8d_93e4_4a4f_bc87_1c4e332f32b8/site/c495fbd8_7a71_44b4_ad2a_014ac2df7ce9/building/95d1f7f3_33c6_4bd8_a82c_99c550d83bb8#506f355b_ec0d_4763_8082_5d022dcf6153.11c987b4_223f_4d61_beaf_8b10ec3a3b2d https://brickschema.org/schema/Brick#isLocationOf dch:org/df125f8d_93e4_4a4f_bc87_1c4e332f32b8/site/c495fbd8_7a71_44b4_ad2a_014ac2df7ce9/building/95d1f7f3_33c6_4bd8_a82c_99c550d83bb8#ebb4f301_f353_446c_9b92_19f131e5181d\n",
      "dch:org/df125f8d_93e4_4a4f_bc87_1c4e332f32b8/site/c495fbd8_7a71_44b4_ad2a_014ac2df7ce9/building/95d1f7f3_33c6_4bd8_a82c_99c550d83bb8#df67cba3_6743_4ae7_83f8_e492a62bb7bf https://brickschema.org/schema/Brick#hasUnit nef12d5f2a0e64b56866eb558828688b3b21\n",
      "dch:org/df125f8d_93e4_4a4f_bc87_1c4e332f32b8/site/c495fbd8_7a71_44b4_ad2a_014ac2df7ce9/building/95d1f7f3_33c6_4bd8_a82c_99c550d83bb8#a047df87_7c81_4a1c_abc5_99a6eda40f1a.23955269_2a1a_4f54_afcb_4e8cce56ffdd.7b8c0523_d3f0_4ffd_9f2c_f6d70d338c81 http://senaps.io/schema/1.0/senaps#stream_id aeab89a2_0d9b_4ebd_97fe_033e93447fbd\n"
     ]
    }
   ],
   "source": [
    "g = db.model\n",
    "i = 0\n",
    "for s, p, o in g:\n",
    "    print(s, p, o)\n",
    "    i += 1\n",
    "    if i == 5:\n",
    "        break"
   ]
  },
  {
   "cell_type": "markdown",
   "metadata": {},
   "source": [
    "## Get the brick schema knowledge graph itself:"
   ]
  },
  {
   "cell_type": "code",
   "execution_count": 21,
   "metadata": {},
   "outputs": [
    {
     "name": "stdout",
     "output_type": "stream",
     "text": [
      "https://brickschema.org/schema/Brick#PM10_Concentration http://qudt.org/schema/qudt/applicableUnit http://qudt.org/vocab/unit/PPB\n",
      "nd62dfbd73d924893b0854daf9911b33fb7034 http://www.w3.org/2002/07/owl#intersectionOf nd62dfbd73d924893b0854daf9911b33fb7035\n",
      "nd62dfbd73d924893b0854daf9911b33fb7006 http://www.w3.org/1999/02/22-rdf-syntax-ns#rest nd62dfbd73d924893b0854daf9911b33fb7007\n",
      "https://brickschema.org/schema/Brick#Reset_Command http://www.w3.org/2000/01/rdf-schema#subClassOf nd62dfbd73d924893b0854daf9911b33fb7102\n",
      "nd62dfbd73d924893b0854daf9911b33fb4114 http://www.w3.org/1999/02/22-rdf-syntax-ns#first nd62dfbd73d924893b0854daf9911b33fb37\n"
     ]
    }
   ],
   "source": [
    "g = db.schema\n",
    "i = 0\n",
    "for s, p, o in g:\n",
    "    print(s, p, o)\n",
    "    i += 1\n",
    "    if i == 5:\n",
    "        break"
   ]
  },
  {
   "cell_type": "markdown",
   "metadata": {},
   "source": [
    "## Get the time series data itself:"
   ]
  },
  {
   "cell_type": "code",
   "execution_count": 22,
   "metadata": {},
   "outputs": [
    {
     "name": "stdout",
     "output_type": "stream",
     "text": [
      "6f502ba0_77fb_43db_b6dc_48e68d5c822b: 51193 data points\n",
      "3c9ca09b_8952_45da_a066_bcb645cbbc68: 51194 data points\n",
      "d60c44c3_62fc_409a_a751_8b3ddeb9f197: 51194 data points\n",
      "eb0d5916_d942_4e2d_8129_60b83d984fdd: 51200 data points\n",
      "78078042_e16e_425b_9ec8_605aa149274e: 51188 data points\n"
     ]
    }
   ],
   "source": [
    "data = db.data\n",
    "i = 0\n",
    "for k, v in data.items():\n",
    "    print(f'{k}: {len(v)} data points')\n",
    "    i += 1\n",
    "    if i == 5:\n",
    "        break"
   ]
  }
 ],
 "metadata": {
  "kernelspec": {
   "display_name": ".venv",
   "language": "python",
   "name": "python3"
  },
  "language_info": {
   "codemirror_mode": {
    "name": "ipython",
    "version": 3
   },
   "file_extension": ".py",
   "mimetype": "text/x-python",
   "name": "python",
   "nbconvert_exporter": "python",
   "pygments_lexer": "ipython3",
   "version": "3.12.2"
  }
 },
 "nbformat": 4,
 "nbformat_minor": 2
}
