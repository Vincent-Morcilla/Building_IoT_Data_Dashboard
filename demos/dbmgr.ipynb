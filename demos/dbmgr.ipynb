{
 "cells": [
  {
   "cell_type": "markdown",
   "metadata": {},
   "source": [
    "# Paths to our dataset files"
   ]
  },
  {
   "cell_type": "code",
   "execution_count": 1,
   "metadata": {},
   "outputs": [],
   "source": [
    "data = '../datasets/bts_site_b_train/train.zip'\n",
    "mapper = '../datasets/bts_site_b_train/mapper_TrainOnly.csv'\n",
    "model = '../datasets/bts_site_b_train/Site_B.ttl'\n",
    "schema = '../datasets/bts_site_b_train/Brick_v1.2.1.ttl'"
   ]
  },
  {
   "cell_type": "markdown",
   "metadata": {},
   "source": [
    "# Load the Dataset"
   ]
  },
  {
   "cell_type": "markdown",
   "metadata": {},
   "source": [
    "Hack for demo purposes to add the `src` directory to the path:"
   ]
  },
  {
   "cell_type": "code",
   "execution_count": 2,
   "metadata": {},
   "outputs": [],
   "source": [
    "import sys\n",
    "sys.path.append(\"../src\")"
   ]
  },
  {
   "cell_type": "markdown",
   "metadata": {},
   "source": [
    "Import and instantiate the manager:"
   ]
  },
  {
   "cell_type": "code",
   "execution_count": 3,
   "metadata": {},
   "outputs": [],
   "source": [
    "from dbmgr import DBManager\n",
    "db = DBManager(data, mapper, model, schema)"
   ]
  },
  {
   "cell_type": "markdown",
   "metadata": {},
   "source": [
    "This `db` object is what is passed to each analytics module.\n",
    "\n",
    "## Number of streams in the dataset"
   ]
  },
  {
   "cell_type": "code",
   "execution_count": 4,
   "metadata": {},
   "outputs": [
    {
     "data": {
      "text/plain": [
       "668"
      ]
     },
     "execution_count": 4,
     "metadata": {},
     "output_type": "execute_result"
    }
   ],
   "source": [
    "len(db)"
   ]
  },
  {
   "cell_type": "markdown",
   "metadata": {},
   "source": [
    "## Iterating over the streams in the dataset"
   ]
  },
  {
   "cell_type": "code",
   "execution_count": 5,
   "metadata": {},
   "outputs": [
    {
     "name": "stdout",
     "output_type": "stream",
     "text": [
      "6f502ba0_77fb_43db_b6dc_48e68d5c822b\n",
      "3c9ca09b_8952_45da_a066_bcb645cbbc68\n",
      "d60c44c3_62fc_409a_a751_8b3ddeb9f197\n",
      "eb0d5916_d942_4e2d_8129_60b83d984fdd\n",
      "78078042_e16e_425b_9ec8_605aa149274e\n"
     ]
    }
   ],
   "source": [
    "i = 0\n",
    "for stream_id in db:\n",
    "    print(stream_id)\n",
    "    i += 1\n",
    "    if i == 5:\n",
    "        break"
   ]
  },
  {
   "cell_type": "markdown",
   "metadata": {},
   "source": [
    "## Check if a stream ID is in the dataset:\n",
    "\n",
    "Not in the dataset:"
   ]
  },
  {
   "cell_type": "code",
   "execution_count": 6,
   "metadata": {},
   "outputs": [
    {
     "data": {
      "text/plain": [
       "False"
      ]
     },
     "execution_count": 6,
     "metadata": {},
     "output_type": "execute_result"
    }
   ],
   "source": [
    "'tim' in db"
   ]
  },
  {
   "cell_type": "markdown",
   "metadata": {},
   "source": [
    "In the dataset:"
   ]
  },
  {
   "cell_type": "code",
   "execution_count": 7,
   "metadata": {},
   "outputs": [
    {
     "data": {
      "text/plain": [
       "True"
      ]
     },
     "execution_count": 7,
     "metadata": {},
     "output_type": "execute_result"
    }
   ],
   "source": [
    "'835a86d6_c235_4caf_8071_31b9bf24960b' in db"
   ]
  },
  {
   "cell_type": "markdown",
   "metadata": {},
   "source": [
    "## Get a stream by its ID:\n",
    "\n",
    "By indexing into the manager:"
   ]
  },
  {
   "cell_type": "code",
   "execution_count": 8,
   "metadata": {},
   "outputs": [
    {
     "data": {
      "text/html": [
       "<div>\n",
       "<style scoped>\n",
       "    .dataframe tbody tr th:only-of-type {\n",
       "        vertical-align: middle;\n",
       "    }\n",
       "\n",
       "    .dataframe tbody tr th {\n",
       "        vertical-align: top;\n",
       "    }\n",
       "\n",
       "    .dataframe thead th {\n",
       "        text-align: right;\n",
       "    }\n",
       "</style>\n",
       "<table border=\"1\" class=\"dataframe\">\n",
       "  <thead>\n",
       "    <tr style=\"text-align: right;\">\n",
       "      <th></th>\n",
       "      <th>time</th>\n",
       "      <th>value</th>\n",
       "      <th>brick_class</th>\n",
       "    </tr>\n",
       "  </thead>\n",
       "  <tbody>\n",
       "    <tr>\n",
       "      <th>0</th>\n",
       "      <td>2021-01-01 00:03:09.662</td>\n",
       "      <td>0.0</td>\n",
       "      <td>Enable_Status</td>\n",
       "    </tr>\n",
       "    <tr>\n",
       "      <th>1</th>\n",
       "      <td>2021-01-01 00:13:39.017</td>\n",
       "      <td>0.0</td>\n",
       "      <td>Enable_Status</td>\n",
       "    </tr>\n",
       "    <tr>\n",
       "      <th>2</th>\n",
       "      <td>2021-01-01 00:23:10.073</td>\n",
       "      <td>0.0</td>\n",
       "      <td>Enable_Status</td>\n",
       "    </tr>\n",
       "    <tr>\n",
       "      <th>3</th>\n",
       "      <td>2021-01-01 00:33:09.637</td>\n",
       "      <td>0.0</td>\n",
       "      <td>Enable_Status</td>\n",
       "    </tr>\n",
       "    <tr>\n",
       "      <th>4</th>\n",
       "      <td>2021-01-01 00:43:09.639</td>\n",
       "      <td>0.0</td>\n",
       "      <td>Enable_Status</td>\n",
       "    </tr>\n",
       "  </tbody>\n",
       "</table>\n",
       "</div>"
      ],
      "text/plain": [
       "                     time  value    brick_class\n",
       "0 2021-01-01 00:03:09.662    0.0  Enable_Status\n",
       "1 2021-01-01 00:13:39.017    0.0  Enable_Status\n",
       "2 2021-01-01 00:23:10.073    0.0  Enable_Status\n",
       "3 2021-01-01 00:33:09.637    0.0  Enable_Status\n",
       "4 2021-01-01 00:43:09.639    0.0  Enable_Status"
      ]
     },
     "execution_count": 8,
     "metadata": {},
     "output_type": "execute_result"
    }
   ],
   "source": [
    "db['835a86d6_c235_4caf_8071_31b9bf24960b'].head()"
   ]
  },
  {
   "cell_type": "markdown",
   "metadata": {},
   "source": [
    "By calling the getter:"
   ]
  },
  {
   "cell_type": "code",
   "execution_count": 9,
   "metadata": {},
   "outputs": [
    {
     "data": {
      "text/html": [
       "<div>\n",
       "<style scoped>\n",
       "    .dataframe tbody tr th:only-of-type {\n",
       "        vertical-align: middle;\n",
       "    }\n",
       "\n",
       "    .dataframe tbody tr th {\n",
       "        vertical-align: top;\n",
       "    }\n",
       "\n",
       "    .dataframe thead th {\n",
       "        text-align: right;\n",
       "    }\n",
       "</style>\n",
       "<table border=\"1\" class=\"dataframe\">\n",
       "  <thead>\n",
       "    <tr style=\"text-align: right;\">\n",
       "      <th></th>\n",
       "      <th>time</th>\n",
       "      <th>value</th>\n",
       "      <th>brick_class</th>\n",
       "    </tr>\n",
       "  </thead>\n",
       "  <tbody>\n",
       "    <tr>\n",
       "      <th>0</th>\n",
       "      <td>2021-01-01 00:03:09.662</td>\n",
       "      <td>0.0</td>\n",
       "      <td>Enable_Status</td>\n",
       "    </tr>\n",
       "    <tr>\n",
       "      <th>1</th>\n",
       "      <td>2021-01-01 00:13:39.017</td>\n",
       "      <td>0.0</td>\n",
       "      <td>Enable_Status</td>\n",
       "    </tr>\n",
       "    <tr>\n",
       "      <th>2</th>\n",
       "      <td>2021-01-01 00:23:10.073</td>\n",
       "      <td>0.0</td>\n",
       "      <td>Enable_Status</td>\n",
       "    </tr>\n",
       "    <tr>\n",
       "      <th>3</th>\n",
       "      <td>2021-01-01 00:33:09.637</td>\n",
       "      <td>0.0</td>\n",
       "      <td>Enable_Status</td>\n",
       "    </tr>\n",
       "    <tr>\n",
       "      <th>4</th>\n",
       "      <td>2021-01-01 00:43:09.639</td>\n",
       "      <td>0.0</td>\n",
       "      <td>Enable_Status</td>\n",
       "    </tr>\n",
       "  </tbody>\n",
       "</table>\n",
       "</div>"
      ],
      "text/plain": [
       "                     time  value    brick_class\n",
       "0 2021-01-01 00:03:09.662    0.0  Enable_Status\n",
       "1 2021-01-01 00:13:39.017    0.0  Enable_Status\n",
       "2 2021-01-01 00:23:10.073    0.0  Enable_Status\n",
       "3 2021-01-01 00:33:09.637    0.0  Enable_Status\n",
       "4 2021-01-01 00:43:09.639    0.0  Enable_Status"
      ]
     },
     "execution_count": 9,
     "metadata": {},
     "output_type": "execute_result"
    }
   ],
   "source": [
    "db.get_stream('835a86d6_c235_4caf_8071_31b9bf24960b').head()"
   ]
  },
  {
   "cell_type": "markdown",
   "metadata": {},
   "source": [
    "## Set a stream by its ID:"
   ]
  },
  {
   "cell_type": "code",
   "execution_count": 10,
   "metadata": {},
   "outputs": [],
   "source": [
    "import pandas as pd\n",
    "\n",
    "data = pd.DataFrame({\n",
    "            \"time\": [pd.Timestamp('2017-03-22 15:16:45'), pd.Timestamp('2017-03-22 15:17:45'), pd.Timestamp('2017-03-22 15:18:45'), pd.Timestamp('2017-03-22 15:19:45') ],\n",
    "            \"value\": [22.0, 23.0, 24.0, 25.0],\n",
    "            \"brick_class\": [\"Fake_Class\", \"Fake_Class\", \"Fake_Class\", \"Fake_Class\"],\n",
    "        })"
   ]
  },
  {
   "cell_type": "markdown",
   "metadata": {},
   "source": [
    "By indexing into the manager:"
   ]
  },
  {
   "cell_type": "code",
   "execution_count": 11,
   "metadata": {},
   "outputs": [
    {
     "data": {
      "text/html": [
       "<div>\n",
       "<style scoped>\n",
       "    .dataframe tbody tr th:only-of-type {\n",
       "        vertical-align: middle;\n",
       "    }\n",
       "\n",
       "    .dataframe tbody tr th {\n",
       "        vertical-align: top;\n",
       "    }\n",
       "\n",
       "    .dataframe thead th {\n",
       "        text-align: right;\n",
       "    }\n",
       "</style>\n",
       "<table border=\"1\" class=\"dataframe\">\n",
       "  <thead>\n",
       "    <tr style=\"text-align: right;\">\n",
       "      <th></th>\n",
       "      <th>time</th>\n",
       "      <th>value</th>\n",
       "      <th>brick_class</th>\n",
       "    </tr>\n",
       "  </thead>\n",
       "  <tbody>\n",
       "    <tr>\n",
       "      <th>0</th>\n",
       "      <td>2017-03-22 15:16:45</td>\n",
       "      <td>22.0</td>\n",
       "      <td>Fake_Class</td>\n",
       "    </tr>\n",
       "    <tr>\n",
       "      <th>1</th>\n",
       "      <td>2017-03-22 15:17:45</td>\n",
       "      <td>23.0</td>\n",
       "      <td>Fake_Class</td>\n",
       "    </tr>\n",
       "    <tr>\n",
       "      <th>2</th>\n",
       "      <td>2017-03-22 15:18:45</td>\n",
       "      <td>24.0</td>\n",
       "      <td>Fake_Class</td>\n",
       "    </tr>\n",
       "    <tr>\n",
       "      <th>3</th>\n",
       "      <td>2017-03-22 15:19:45</td>\n",
       "      <td>25.0</td>\n",
       "      <td>Fake_Class</td>\n",
       "    </tr>\n",
       "  </tbody>\n",
       "</table>\n",
       "</div>"
      ],
      "text/plain": [
       "                 time  value brick_class\n",
       "0 2017-03-22 15:16:45   22.0  Fake_Class\n",
       "1 2017-03-22 15:17:45   23.0  Fake_Class\n",
       "2 2017-03-22 15:18:45   24.0  Fake_Class\n",
       "3 2017-03-22 15:19:45   25.0  Fake_Class"
      ]
     },
     "execution_count": 11,
     "metadata": {},
     "output_type": "execute_result"
    }
   ],
   "source": [
    "db['835a86d6_c235_4caf_8071_31b9bf24960b'] = data\n",
    "db['835a86d6_c235_4caf_8071_31b9bf24960b'].head()"
   ]
  },
  {
   "cell_type": "markdown",
   "metadata": {},
   "source": [
    "By calling the setter:"
   ]
  },
  {
   "cell_type": "code",
   "execution_count": 12,
   "metadata": {},
   "outputs": [
    {
     "data": {
      "text/html": [
       "<div>\n",
       "<style scoped>\n",
       "    .dataframe tbody tr th:only-of-type {\n",
       "        vertical-align: middle;\n",
       "    }\n",
       "\n",
       "    .dataframe tbody tr th {\n",
       "        vertical-align: top;\n",
       "    }\n",
       "\n",
       "    .dataframe thead th {\n",
       "        text-align: right;\n",
       "    }\n",
       "</style>\n",
       "<table border=\"1\" class=\"dataframe\">\n",
       "  <thead>\n",
       "    <tr style=\"text-align: right;\">\n",
       "      <th></th>\n",
       "      <th>time</th>\n",
       "      <th>value</th>\n",
       "      <th>brick_class</th>\n",
       "    </tr>\n",
       "  </thead>\n",
       "  <tbody>\n",
       "    <tr>\n",
       "      <th>0</th>\n",
       "      <td>2017-03-22 15:16:45</td>\n",
       "      <td>22.0</td>\n",
       "      <td>Fake_Class</td>\n",
       "    </tr>\n",
       "    <tr>\n",
       "      <th>1</th>\n",
       "      <td>2017-03-22 15:17:45</td>\n",
       "      <td>23.0</td>\n",
       "      <td>Fake_Class</td>\n",
       "    </tr>\n",
       "    <tr>\n",
       "      <th>2</th>\n",
       "      <td>2017-03-22 15:18:45</td>\n",
       "      <td>24.0</td>\n",
       "      <td>Fake_Class</td>\n",
       "    </tr>\n",
       "    <tr>\n",
       "      <th>3</th>\n",
       "      <td>2017-03-22 15:19:45</td>\n",
       "      <td>25.0</td>\n",
       "      <td>Fake_Class</td>\n",
       "    </tr>\n",
       "  </tbody>\n",
       "</table>\n",
       "</div>"
      ],
      "text/plain": [
       "                 time  value brick_class\n",
       "0 2017-03-22 15:16:45   22.0  Fake_Class\n",
       "1 2017-03-22 15:17:45   23.0  Fake_Class\n",
       "2 2017-03-22 15:18:45   24.0  Fake_Class\n",
       "3 2017-03-22 15:19:45   25.0  Fake_Class"
      ]
     },
     "execution_count": 12,
     "metadata": {},
     "output_type": "execute_result"
    }
   ],
   "source": [
    "db.set_stream('22543d51_3c38_46d3_98fe_a77838976df9', data)\n",
    "db.get_stream('22543d51_3c38_46d3_98fe_a77838976df9').head()"
   ]
  },
  {
   "cell_type": "markdown",
   "metadata": {},
   "source": [
    "## Get multiple streams by their IDs:"
   ]
  },
  {
   "cell_type": "code",
   "execution_count": 13,
   "metadata": {},
   "outputs": [
    {
     "name": "stdout",
     "output_type": "stream",
     "text": [
      "========= 22543d51_3c38_46d3_98fe_a77838976df9 =========\n",
      "                 time  value brick_class\n",
      "0 2017-03-22 15:16:45   22.0  Fake_Class\n",
      "1 2017-03-22 15:17:45   23.0  Fake_Class\n",
      "2 2017-03-22 15:18:45   24.0  Fake_Class\n",
      "3 2017-03-22 15:19:45   25.0  Fake_Class\n",
      "\n",
      "========= 3010a24a_2deb_43c8_9db4_cfc94c5faa5c =========\n",
      "                     time  value              brick_class\n",
      "0 2021-07-13 01:26:18.083 -0.107  Electrical_Power_Sensor\n",
      "1 2021-07-13 01:31:17.035 -0.042  Electrical_Power_Sensor\n",
      "2 2021-07-13 01:36:13.143  0.054  Electrical_Power_Sensor\n",
      "3 2021-07-13 01:50:12.735 -0.016  Electrical_Power_Sensor\n",
      "4 2021-07-13 01:55:12.150 -0.164  Electrical_Power_Sensor\n",
      "\n",
      "========= 405896a1_c195_422d_a0aa_18d2eca6a61d =========\n",
      "                     time  value                   brick_class\n",
      "0 2021-01-01 00:03:16.153   23.5  Cooling_Temperature_Setpoint\n",
      "1 2021-01-01 00:13:44.730   23.5  Cooling_Temperature_Setpoint\n",
      "2 2021-01-01 00:23:16.055   23.5  Cooling_Temperature_Setpoint\n",
      "3 2021-01-01 00:33:16.093   23.5  Cooling_Temperature_Setpoint\n",
      "4 2021-01-01 00:43:16.129   23.5  Cooling_Temperature_Setpoint\n",
      "\n"
     ]
    }
   ],
   "source": [
    "stream_ids = [\n",
    "    '22543d51_3c38_46d3_98fe_a77838976df9',\n",
    "    '3010a24a_2deb_43c8_9db4_cfc94c5faa5c',\n",
    "    '405896a1_c195_422d_a0aa_18d2eca6a61d',\n",
    "]\n",
    "streams = db.get_streams(stream_ids)\n",
    "for stream_id, stream in streams.items():\n",
    "    print(f'========= {stream_id} =========')\n",
    "    print(stream.head())\n",
    "    print()"
   ]
  },
  {
   "cell_type": "markdown",
   "metadata": {},
   "source": [
    "## Query the building model:\n",
    "\n",
    "Some arbitrary sparql query:"
   ]
  },
  {
   "cell_type": "code",
   "execution_count": 14,
   "metadata": {},
   "outputs": [],
   "source": [
    "q = \"\"\"\n",
    "SELECT ?s ?p ?o WHERE {\n",
    "    ?s ?p ?o\n",
    "} LIMIT 5\n",
    "\"\"\""
   ]
  },
  {
   "cell_type": "markdown",
   "metadata": {},
   "source": [
    "Get the results as RDFLib rows:"
   ]
  },
  {
   "cell_type": "code",
   "execution_count": 15,
   "metadata": {},
   "outputs": [
    {
     "name": "stdout",
     "output_type": "stream",
     "text": [
      "(rdflib.term.URIRef('dch:org/df125f8d_93e4_4a4f_bc87_1c4e332f32b8/site/c495fbd8_7a71_44b4_ad2a_014ac2df7ce9/building/95d1f7f3_33c6_4bd8_a82c_99c550d83bb8#68b3266f_360c_4bbf_9eef_873275c8671a'), rdflib.term.URIRef('http://www.w3.org/1999/02/22-rdf-syntax-ns#type'), rdflib.term.URIRef('https://brickschema.org/schema/Brick#Return_Damper'))\n",
      "(rdflib.term.URIRef('dch:org/df125f8d_93e4_4a4f_bc87_1c4e332f32b8/site/c495fbd8_7a71_44b4_ad2a_014ac2df7ce9/building/95d1f7f3_33c6_4bd8_a82c_99c550d83bb8#e700973b_9070_4ec8_9e8d_10cdf1fd209d.9a7697b2_908b_44e2_9d47_24a3c5947254.9661bdcc_e598_421d_82f4_97a0dc5863de'), rdflib.term.URIRef('https://brickschema.org/schema/Brick#isPointOf'), rdflib.term.URIRef('dch:org/df125f8d_93e4_4a4f_bc87_1c4e332f32b8/site/c495fbd8_7a71_44b4_ad2a_014ac2df7ce9/building/95d1f7f3_33c6_4bd8_a82c_99c550d83bb8#e700973b_9070_4ec8_9e8d_10cdf1fd209d'))\n",
      "(rdflib.term.URIRef('dch:org/df125f8d_93e4_4a4f_bc87_1c4e332f32b8/site/c495fbd8_7a71_44b4_ad2a_014ac2df7ce9/building/95d1f7f3_33c6_4bd8_a82c_99c550d83bb8#6b498416_1218_453d_a09e_64a2e2aebe24.f246a8c4_e371_44e5_be8c_8e310eb39965'), rdflib.term.URIRef('http://www.w3.org/1999/02/22-rdf-syntax-ns#type'), rdflib.term.URIRef('https://brickschema.org/schema/Brick#Current_Sensor'))\n",
      "(rdflib.term.URIRef('dch:org/df125f8d_93e4_4a4f_bc87_1c4e332f32b8/site/c495fbd8_7a71_44b4_ad2a_014ac2df7ce9/building/95d1f7f3_33c6_4bd8_a82c_99c550d83bb8#70d05bb1_6810_435a_bcac_8166afba0ba6.7f8a3b58_46c0_4bc8_a174_7ca36181c653'), rdflib.term.URIRef('https://brickschema.org/schema/Brick#electricalPhaseCount'), rdflib.term.BNode('nfa6d86a1317343a6b9338a3afd99fa9cb87'))\n",
      "(rdflib.term.BNode('nfa6d86a1317343a6b9338a3afd99fa9cb450'), rdflib.term.URIRef('https://brickschema.org/schema/Brick#value'), rdflib.term.Literal('1', datatype=rdflib.term.URIRef('http://www.w3.org/2001/XMLSchema#integer')))\n"
     ]
    }
   ],
   "source": [
    "res = db.query(q)\n",
    "for r in res:\n",
    "    print(r)"
   ]
  },
  {
   "cell_type": "markdown",
   "metadata": {},
   "source": [
    "Get the results as a DataFrame:"
   ]
  },
  {
   "cell_type": "code",
   "execution_count": 16,
   "metadata": {},
   "outputs": [
    {
     "data": {
      "text/html": [
       "<div>\n",
       "<style scoped>\n",
       "    .dataframe tbody tr th:only-of-type {\n",
       "        vertical-align: middle;\n",
       "    }\n",
       "\n",
       "    .dataframe tbody tr th {\n",
       "        vertical-align: top;\n",
       "    }\n",
       "\n",
       "    .dataframe thead th {\n",
       "        text-align: right;\n",
       "    }\n",
       "</style>\n",
       "<table border=\"1\" class=\"dataframe\">\n",
       "  <thead>\n",
       "    <tr style=\"text-align: right;\">\n",
       "      <th></th>\n",
       "      <th>o</th>\n",
       "      <th>p</th>\n",
       "      <th>s</th>\n",
       "    </tr>\n",
       "  </thead>\n",
       "  <tbody>\n",
       "    <tr>\n",
       "      <th>0</th>\n",
       "      <td>https://brickschema.org/schema/Brick#Return_Da...</td>\n",
       "      <td>http://www.w3.org/1999/02/22-rdf-syntax-ns#type</td>\n",
       "      <td>dch:org/df125f8d_93e4_4a4f_bc87_1c4e332f32b8/s...</td>\n",
       "    </tr>\n",
       "    <tr>\n",
       "      <th>1</th>\n",
       "      <td>dch:org/df125f8d_93e4_4a4f_bc87_1c4e332f32b8/s...</td>\n",
       "      <td>https://brickschema.org/schema/Brick#isPointOf</td>\n",
       "      <td>dch:org/df125f8d_93e4_4a4f_bc87_1c4e332f32b8/s...</td>\n",
       "    </tr>\n",
       "    <tr>\n",
       "      <th>2</th>\n",
       "      <td>https://brickschema.org/schema/Brick#Current_S...</td>\n",
       "      <td>http://www.w3.org/1999/02/22-rdf-syntax-ns#type</td>\n",
       "      <td>dch:org/df125f8d_93e4_4a4f_bc87_1c4e332f32b8/s...</td>\n",
       "    </tr>\n",
       "    <tr>\n",
       "      <th>3</th>\n",
       "      <td>nfa6d86a1317343a6b9338a3afd99fa9cb87</td>\n",
       "      <td>https://brickschema.org/schema/Brick#electrica...</td>\n",
       "      <td>dch:org/df125f8d_93e4_4a4f_bc87_1c4e332f32b8/s...</td>\n",
       "    </tr>\n",
       "    <tr>\n",
       "      <th>4</th>\n",
       "      <td>1</td>\n",
       "      <td>https://brickschema.org/schema/Brick#value</td>\n",
       "      <td>nfa6d86a1317343a6b9338a3afd99fa9cb450</td>\n",
       "    </tr>\n",
       "  </tbody>\n",
       "</table>\n",
       "</div>"
      ],
      "text/plain": [
       "                                                   o  \\\n",
       "0  https://brickschema.org/schema/Brick#Return_Da...   \n",
       "1  dch:org/df125f8d_93e4_4a4f_bc87_1c4e332f32b8/s...   \n",
       "2  https://brickschema.org/schema/Brick#Current_S...   \n",
       "3               nfa6d86a1317343a6b9338a3afd99fa9cb87   \n",
       "4                                                  1   \n",
       "\n",
       "                                                   p  \\\n",
       "0    http://www.w3.org/1999/02/22-rdf-syntax-ns#type   \n",
       "1     https://brickschema.org/schema/Brick#isPointOf   \n",
       "2    http://www.w3.org/1999/02/22-rdf-syntax-ns#type   \n",
       "3  https://brickschema.org/schema/Brick#electrica...   \n",
       "4         https://brickschema.org/schema/Brick#value   \n",
       "\n",
       "                                                   s  \n",
       "0  dch:org/df125f8d_93e4_4a4f_bc87_1c4e332f32b8/s...  \n",
       "1  dch:org/df125f8d_93e4_4a4f_bc87_1c4e332f32b8/s...  \n",
       "2  dch:org/df125f8d_93e4_4a4f_bc87_1c4e332f32b8/s...  \n",
       "3  dch:org/df125f8d_93e4_4a4f_bc87_1c4e332f32b8/s...  \n",
       "4              nfa6d86a1317343a6b9338a3afd99fa9cb450  "
      ]
     },
     "execution_count": 16,
     "metadata": {},
     "output_type": "execute_result"
    }
   ],
   "source": [
    "res = db.query(q, return_df=True)\n",
    "res.head()"
   ]
  },
  {
   "cell_type": "markdown",
   "metadata": {},
   "source": [
    "## Query the brick schema:\n",
    "\n",
    "Get the results as RDFLib rows:"
   ]
  },
  {
   "cell_type": "code",
   "execution_count": 17,
   "metadata": {},
   "outputs": [
    {
     "name": "stdout",
     "output_type": "stream",
     "text": [
      "(rdflib.term.BNode('n7042cebd38ca462295ea4cec230891f3b583'), rdflib.term.URIRef('http://www.w3.org/1999/02/22-rdf-syntax-ns#type'), rdflib.term.URIRef('http://www.w3.org/2002/07/owl#Class'))\n",
      "(rdflib.term.BNode('n7042cebd38ca462295ea4cec230891f3b3673'), rdflib.term.URIRef('http://www.w3.org/1999/02/22-rdf-syntax-ns#first'), rdflib.term.BNode('n7042cebd38ca462295ea4cec230891f3b20'))\n",
      "(rdflib.term.BNode('n7042cebd38ca462295ea4cec230891f3b3983'), rdflib.term.URIRef('http://www.w3.org/1999/02/22-rdf-syntax-ns#rest'), rdflib.term.BNode('n7042cebd38ca462295ea4cec230891f3b3984'))\n",
      "(rdflib.term.URIRef('https://brickschema.org/schema/Brick#Parameter'), rdflib.term.URIRef('http://www.w3.org/2000/01/rdf-schema#subClassOf'), rdflib.term.URIRef('https://brickschema.org/schema/Brick#Point'))\n",
      "(rdflib.term.BNode('n7042cebd38ca462295ea4cec230891f3b3470'), rdflib.term.URIRef('http://www.w3.org/1999/02/22-rdf-syntax-ns#type'), rdflib.term.URIRef('http://www.w3.org/2002/07/owl#Restriction'))\n"
     ]
    }
   ],
   "source": [
    "res = db.query(q, graph='schema')\n",
    "for r in res:\n",
    "    print(r)"
   ]
  },
  {
   "cell_type": "markdown",
   "metadata": {},
   "source": [
    "Get the results as a DataFrame:"
   ]
  },
  {
   "cell_type": "code",
   "execution_count": 18,
   "metadata": {},
   "outputs": [
    {
     "data": {
      "text/html": [
       "<div>\n",
       "<style scoped>\n",
       "    .dataframe tbody tr th:only-of-type {\n",
       "        vertical-align: middle;\n",
       "    }\n",
       "\n",
       "    .dataframe tbody tr th {\n",
       "        vertical-align: top;\n",
       "    }\n",
       "\n",
       "    .dataframe thead th {\n",
       "        text-align: right;\n",
       "    }\n",
       "</style>\n",
       "<table border=\"1\" class=\"dataframe\">\n",
       "  <thead>\n",
       "    <tr style=\"text-align: right;\">\n",
       "      <th></th>\n",
       "      <th>o</th>\n",
       "      <th>p</th>\n",
       "      <th>s</th>\n",
       "    </tr>\n",
       "  </thead>\n",
       "  <tbody>\n",
       "    <tr>\n",
       "      <th>0</th>\n",
       "      <td>http://www.w3.org/2002/07/owl#Class</td>\n",
       "      <td>http://www.w3.org/1999/02/22-rdf-syntax-ns#type</td>\n",
       "      <td>n7042cebd38ca462295ea4cec230891f3b583</td>\n",
       "    </tr>\n",
       "    <tr>\n",
       "      <th>1</th>\n",
       "      <td>n7042cebd38ca462295ea4cec230891f3b20</td>\n",
       "      <td>http://www.w3.org/1999/02/22-rdf-syntax-ns#first</td>\n",
       "      <td>n7042cebd38ca462295ea4cec230891f3b3673</td>\n",
       "    </tr>\n",
       "    <tr>\n",
       "      <th>2</th>\n",
       "      <td>n7042cebd38ca462295ea4cec230891f3b3984</td>\n",
       "      <td>http://www.w3.org/1999/02/22-rdf-syntax-ns#rest</td>\n",
       "      <td>n7042cebd38ca462295ea4cec230891f3b3983</td>\n",
       "    </tr>\n",
       "    <tr>\n",
       "      <th>3</th>\n",
       "      <td>https://brickschema.org/schema/Brick#Point</td>\n",
       "      <td>http://www.w3.org/2000/01/rdf-schema#subClassOf</td>\n",
       "      <td>https://brickschema.org/schema/Brick#Parameter</td>\n",
       "    </tr>\n",
       "    <tr>\n",
       "      <th>4</th>\n",
       "      <td>http://www.w3.org/2002/07/owl#Restriction</td>\n",
       "      <td>http://www.w3.org/1999/02/22-rdf-syntax-ns#type</td>\n",
       "      <td>n7042cebd38ca462295ea4cec230891f3b3470</td>\n",
       "    </tr>\n",
       "  </tbody>\n",
       "</table>\n",
       "</div>"
      ],
      "text/plain": [
       "                                            o  \\\n",
       "0         http://www.w3.org/2002/07/owl#Class   \n",
       "1        n7042cebd38ca462295ea4cec230891f3b20   \n",
       "2      n7042cebd38ca462295ea4cec230891f3b3984   \n",
       "3  https://brickschema.org/schema/Brick#Point   \n",
       "4   http://www.w3.org/2002/07/owl#Restriction   \n",
       "\n",
       "                                                  p  \\\n",
       "0   http://www.w3.org/1999/02/22-rdf-syntax-ns#type   \n",
       "1  http://www.w3.org/1999/02/22-rdf-syntax-ns#first   \n",
       "2   http://www.w3.org/1999/02/22-rdf-syntax-ns#rest   \n",
       "3   http://www.w3.org/2000/01/rdf-schema#subClassOf   \n",
       "4   http://www.w3.org/1999/02/22-rdf-syntax-ns#type   \n",
       "\n",
       "                                                s  \n",
       "0           n7042cebd38ca462295ea4cec230891f3b583  \n",
       "1          n7042cebd38ca462295ea4cec230891f3b3673  \n",
       "2          n7042cebd38ca462295ea4cec230891f3b3983  \n",
       "3  https://brickschema.org/schema/Brick#Parameter  \n",
       "4          n7042cebd38ca462295ea4cec230891f3b3470  "
      ]
     },
     "execution_count": 18,
     "metadata": {},
     "output_type": "execute_result"
    }
   ],
   "source": [
    "res = db.query(q, graph='schema', return_df=True)\n",
    "res.head()"
   ]
  },
  {
   "cell_type": "markdown",
   "metadata": {},
   "source": [
    "## Remove the RDF prefixes from the query results:"
   ]
  },
  {
   "cell_type": "code",
   "execution_count": 19,
   "metadata": {},
   "outputs": [
    {
     "data": {
      "text/html": [
       "<div>\n",
       "<style scoped>\n",
       "    .dataframe tbody tr th:only-of-type {\n",
       "        vertical-align: middle;\n",
       "    }\n",
       "\n",
       "    .dataframe tbody tr th {\n",
       "        vertical-align: top;\n",
       "    }\n",
       "\n",
       "    .dataframe thead th {\n",
       "        text-align: right;\n",
       "    }\n",
       "</style>\n",
       "<table border=\"1\" class=\"dataframe\">\n",
       "  <thead>\n",
       "    <tr style=\"text-align: right;\">\n",
       "      <th></th>\n",
       "      <th>o</th>\n",
       "      <th>p</th>\n",
       "      <th>s</th>\n",
       "    </tr>\n",
       "  </thead>\n",
       "  <tbody>\n",
       "    <tr>\n",
       "      <th>0</th>\n",
       "      <td>Return_Damper</td>\n",
       "      <td>type</td>\n",
       "      <td>68b3266f_360c_4bbf_9eef_873275c8671a</td>\n",
       "    </tr>\n",
       "    <tr>\n",
       "      <th>1</th>\n",
       "      <td>e700973b_9070_4ec8_9e8d_10cdf1fd209d</td>\n",
       "      <td>isPointOf</td>\n",
       "      <td>e700973b_9070_4ec8_9e8d_10cdf1fd209d.9a7697b2_...</td>\n",
       "    </tr>\n",
       "    <tr>\n",
       "      <th>2</th>\n",
       "      <td>Current_Sensor</td>\n",
       "      <td>type</td>\n",
       "      <td>6b498416_1218_453d_a09e_64a2e2aebe24.f246a8c4_...</td>\n",
       "    </tr>\n",
       "    <tr>\n",
       "      <th>3</th>\n",
       "      <td>nfa6d86a1317343a6b9338a3afd99fa9cb87</td>\n",
       "      <td>electricalPhaseCount</td>\n",
       "      <td>70d05bb1_6810_435a_bcac_8166afba0ba6.7f8a3b58_...</td>\n",
       "    </tr>\n",
       "    <tr>\n",
       "      <th>4</th>\n",
       "      <td>1</td>\n",
       "      <td>value</td>\n",
       "      <td>nfa6d86a1317343a6b9338a3afd99fa9cb450</td>\n",
       "    </tr>\n",
       "  </tbody>\n",
       "</table>\n",
       "</div>"
      ],
      "text/plain": [
       "                                      o                     p  \\\n",
       "0                         Return_Damper                  type   \n",
       "1  e700973b_9070_4ec8_9e8d_10cdf1fd209d             isPointOf   \n",
       "2                        Current_Sensor                  type   \n",
       "3  nfa6d86a1317343a6b9338a3afd99fa9cb87  electricalPhaseCount   \n",
       "4                                     1                 value   \n",
       "\n",
       "                                                   s  \n",
       "0               68b3266f_360c_4bbf_9eef_873275c8671a  \n",
       "1  e700973b_9070_4ec8_9e8d_10cdf1fd209d.9a7697b2_...  \n",
       "2  6b498416_1218_453d_a09e_64a2e2aebe24.f246a8c4_...  \n",
       "3  70d05bb1_6810_435a_bcac_8166afba0ba6.7f8a3b58_...  \n",
       "4              nfa6d86a1317343a6b9338a3afd99fa9cb450  "
      ]
     },
     "execution_count": 19,
     "metadata": {},
     "output_type": "execute_result"
    }
   ],
   "source": [
    "res = db.query(q, return_df=True, defrag=True)\n",
    "res.head()"
   ]
  },
  {
   "cell_type": "markdown",
   "metadata": {},
   "source": [
    "## Get the building model knowledge graph itself:"
   ]
  },
  {
   "cell_type": "code",
   "execution_count": 20,
   "metadata": {},
   "outputs": [
    {
     "name": "stdout",
     "output_type": "stream",
     "text": [
      "dch:org/df125f8d_93e4_4a4f_bc87_1c4e332f32b8/site/c495fbd8_7a71_44b4_ad2a_014ac2df7ce9/building/95d1f7f3_33c6_4bd8_a82c_99c550d83bb8#68b3266f_360c_4bbf_9eef_873275c8671a http://www.w3.org/1999/02/22-rdf-syntax-ns#type https://brickschema.org/schema/Brick#Return_Damper\n",
      "dch:org/df125f8d_93e4_4a4f_bc87_1c4e332f32b8/site/c495fbd8_7a71_44b4_ad2a_014ac2df7ce9/building/95d1f7f3_33c6_4bd8_a82c_99c550d83bb8#e700973b_9070_4ec8_9e8d_10cdf1fd209d.9a7697b2_908b_44e2_9d47_24a3c5947254.9661bdcc_e598_421d_82f4_97a0dc5863de https://brickschema.org/schema/Brick#isPointOf dch:org/df125f8d_93e4_4a4f_bc87_1c4e332f32b8/site/c495fbd8_7a71_44b4_ad2a_014ac2df7ce9/building/95d1f7f3_33c6_4bd8_a82c_99c550d83bb8#e700973b_9070_4ec8_9e8d_10cdf1fd209d\n",
      "dch:org/df125f8d_93e4_4a4f_bc87_1c4e332f32b8/site/c495fbd8_7a71_44b4_ad2a_014ac2df7ce9/building/95d1f7f3_33c6_4bd8_a82c_99c550d83bb8#6b498416_1218_453d_a09e_64a2e2aebe24.f246a8c4_e371_44e5_be8c_8e310eb39965 http://www.w3.org/1999/02/22-rdf-syntax-ns#type https://brickschema.org/schema/Brick#Current_Sensor\n",
      "dch:org/df125f8d_93e4_4a4f_bc87_1c4e332f32b8/site/c495fbd8_7a71_44b4_ad2a_014ac2df7ce9/building/95d1f7f3_33c6_4bd8_a82c_99c550d83bb8#70d05bb1_6810_435a_bcac_8166afba0ba6.7f8a3b58_46c0_4bc8_a174_7ca36181c653 https://brickschema.org/schema/Brick#electricalPhaseCount nfa6d86a1317343a6b9338a3afd99fa9cb87\n",
      "nfa6d86a1317343a6b9338a3afd99fa9cb450 https://brickschema.org/schema/Brick#value 1\n"
     ]
    }
   ],
   "source": [
    "g = db.model\n",
    "i = 0\n",
    "for s, p, o in g:\n",
    "    print(s, p, o)\n",
    "    i += 1\n",
    "    if i == 5:\n",
    "        break"
   ]
  },
  {
   "cell_type": "markdown",
   "metadata": {},
   "source": [
    "## Get the brick schema knowledge graph itself:"
   ]
  },
  {
   "cell_type": "code",
   "execution_count": 21,
   "metadata": {},
   "outputs": [
    {
     "name": "stdout",
     "output_type": "stream",
     "text": [
      "n7042cebd38ca462295ea4cec230891f3b583 http://www.w3.org/1999/02/22-rdf-syntax-ns#type http://www.w3.org/2002/07/owl#Class\n",
      "n7042cebd38ca462295ea4cec230891f3b3673 http://www.w3.org/1999/02/22-rdf-syntax-ns#first n7042cebd38ca462295ea4cec230891f3b20\n",
      "n7042cebd38ca462295ea4cec230891f3b3983 http://www.w3.org/1999/02/22-rdf-syntax-ns#rest n7042cebd38ca462295ea4cec230891f3b3984\n",
      "https://brickschema.org/schema/Brick#Parameter http://www.w3.org/2000/01/rdf-schema#subClassOf https://brickschema.org/schema/Brick#Point\n",
      "n7042cebd38ca462295ea4cec230891f3b3470 http://www.w3.org/1999/02/22-rdf-syntax-ns#type http://www.w3.org/2002/07/owl#Restriction\n"
     ]
    }
   ],
   "source": [
    "g = db.schema\n",
    "i = 0\n",
    "for s, p, o in g:\n",
    "    print(s, p, o)\n",
    "    i += 1\n",
    "    if i == 5:\n",
    "        break"
   ]
  },
  {
   "cell_type": "markdown",
   "metadata": {},
   "source": [
    "## Get the time series data itself:"
   ]
  },
  {
   "cell_type": "code",
   "execution_count": 22,
   "metadata": {},
   "outputs": [
    {
     "name": "stdout",
     "output_type": "stream",
     "text": [
      "6f502ba0_77fb_43db_b6dc_48e68d5c822b: 51193 data points\n",
      "3c9ca09b_8952_45da_a066_bcb645cbbc68: 51194 data points\n",
      "d60c44c3_62fc_409a_a751_8b3ddeb9f197: 51194 data points\n",
      "eb0d5916_d942_4e2d_8129_60b83d984fdd: 51200 data points\n",
      "78078042_e16e_425b_9ec8_605aa149274e: 51188 data points\n"
     ]
    }
   ],
   "source": [
    "data = db.data\n",
    "i = 0\n",
    "for k, v in data.items():\n",
    "    print(f'{k}: {len(v)} data points')\n",
    "    i += 1\n",
    "    if i == 5:\n",
    "        break"
   ]
  }
 ],
 "metadata": {
  "kernelspec": {
   "display_name": ".venv",
   "language": "python",
   "name": "python3"
  },
  "language_info": {
   "codemirror_mode": {
    "name": "ipython",
    "version": 3
   },
   "file_extension": ".py",
   "mimetype": "text/x-python",
   "name": "python",
   "nbconvert_exporter": "python",
   "pygments_lexer": "ipython3",
   "version": "3.12.2"
  }
 },
 "nbformat": 4,
 "nbformat_minor": 2
}
